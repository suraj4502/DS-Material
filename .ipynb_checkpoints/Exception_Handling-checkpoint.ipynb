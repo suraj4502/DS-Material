{
 "cells": [
  {
   "cell_type": "code",
   "execution_count": 27,
   "id": "13837ec4",
   "metadata": {},
   "outputs": [
    {
     "name": "stdout",
     "output_type": "stream",
     "text": [
      "5\n",
      "0\n",
      "KUCH TOH GADBAD HAI...\n",
      "('division by zero',)\n",
      "Please give non -zero elements.\n",
      "THis is always run..\n"
     ]
    }
   ],
   "source": [
    "\n",
    "try:\n",
    "    \n",
    "    a = int(input())\n",
    "    b = int(input())\n",
    "    print(a/b)\n",
    "    \n",
    "except Exception as e:\n",
    "    print(\"KUCH TOH GADBAD HAI...\")\n",
    "    print(e.args)\n",
    "    print(\"Please give non -zero elements.\")\n",
    "\n",
    "else :\n",
    "    print(\"This will execute if try block executes\")\n",
    "\n",
    "finally:\n",
    "    print(\"THis is always run..\")"
   ]
  },
  {
   "cell_type": "code",
   "execution_count": 16,
   "id": "570994e8",
   "metadata": {},
   "outputs": [],
   "source": [
    "def main():\n",
    "    n1 = float(input())\n",
    "    n2 = float(input())\n",
    "\n",
    "    print(n1/n2)"
   ]
  },
  {
   "cell_type": "code",
   "execution_count": 24,
   "id": "ddd87be8",
   "metadata": {},
   "outputs": [
    {
     "name": "stdout",
     "output_type": "stream",
     "text": [
      "5\n",
      "5\n",
      "1.0\n",
      "GEneral error\n",
      "(\"name 'j' is not defined\",)\n"
     ]
    }
   ],
   "source": [
    "try:\n",
    "    main()\n",
    "    print(j)\n",
    "\n",
    "except ZeroDivisionError as e:\n",
    "    print(\"zero se division nahi hota, gadhe\")\n",
    "    print(e.args)\n",
    "    main()\n",
    "\n",
    "except ValueError as e :\n",
    "    print(e.args)\n",
    "    print(e.with_traceback)\n",
    "    main()\n",
    "    \n",
    "except Exception as e:\n",
    "    print(\"GEneral error\")\n",
    "    print(e.args)"
   ]
  },
  {
   "cell_type": "code",
   "execution_count": 29,
   "id": "d7fa4e39",
   "metadata": {
    "scrolled": true
   },
   "outputs": [
    {
     "name": "stdout",
     "output_type": "stream",
     "text": [
      "5\n",
      "5\n",
      "1.0\n",
      "SOME STATEMENTS\n"
     ]
    }
   ],
   "source": [
    "try:\n",
    "    n1 = float(input())\n",
    "    n2 = float(input())\n",
    "\n",
    "    print(n1/n2)\n",
    "\n",
    "except Exception as e:\n",
    "    print(e.args)\n",
    "    print(\"kuch toh gadbad hai...\")\n",
    "    \n",
    "    n1 = float(input())\n",
    "    n2 = float(input(\"Zeros are not allowed\"))\n",
    "\n",
    "    print(n1/n2)\n",
    "\n",
    "print(\"SOME STATEMENTS\")"
   ]
  },
  {
   "cell_type": "code",
   "execution_count": 15,
   "id": "b2218757",
   "metadata": {},
   "outputs": [
    {
     "ename": "ZeroDivisionError",
     "evalue": "division by zero",
     "output_type": "error",
     "traceback": [
      "\u001b[1;31m---------------------------------------------------------------------------\u001b[0m",
      "\u001b[1;31mZeroDivisionError\u001b[0m                         Traceback (most recent call last)",
      "Cell \u001b[1;32mIn[15], line 1\u001b[0m\n\u001b[1;32m----> 1\u001b[0m \u001b[38;5;241m5\u001b[39m\u001b[38;5;241m/\u001b[39m\u001b[38;5;241m0\u001b[39m\n",
      "\u001b[1;31mZeroDivisionError\u001b[0m: division by zero"
     ]
    }
   ],
   "source": [
    "5/0"
   ]
  },
  {
   "cell_type": "code",
   "execution_count": 2,
   "id": "c5aa9012",
   "metadata": {},
   "outputs": [
    {
     "ename": "NameError",
     "evalue": "name 'c' is not defined",
     "output_type": "error",
     "traceback": [
      "\u001b[1;31m---------------------------------------------------------------------------\u001b[0m",
      "\u001b[1;31mNameError\u001b[0m                                 Traceback (most recent call last)",
      "Cell \u001b[1;32mIn[2], line 1\u001b[0m\n\u001b[1;32m----> 1\u001b[0m \u001b[38;5;28mprint\u001b[39m(c)\n",
      "\u001b[1;31mNameError\u001b[0m: name 'c' is not defined"
     ]
    }
   ],
   "source": [
    "print(c)"
   ]
  },
  {
   "cell_type": "code",
   "execution_count": 3,
   "id": "2296b255",
   "metadata": {},
   "outputs": [
    {
     "ename": "SyntaxError",
     "evalue": "expected ':' (4114423739.py, line 1)",
     "output_type": "error",
     "traceback": [
      "\u001b[1;36m  Cell \u001b[1;32mIn[3], line 1\u001b[1;36m\u001b[0m\n\u001b[1;33m    for i in \"FKSKF\"\u001b[0m\n\u001b[1;37m                    ^\u001b[0m\n\u001b[1;31mSyntaxError\u001b[0m\u001b[1;31m:\u001b[0m expected ':'\n"
     ]
    }
   ],
   "source": [
    "for i in \"FKSKF\""
   ]
  },
  {
   "cell_type": "code",
   "execution_count": 4,
   "id": "b6e99d7e",
   "metadata": {},
   "outputs": [
    {
     "ename": "ValueError",
     "evalue": "invalid literal for int() with base 10: 'FHSDK'",
     "output_type": "error",
     "traceback": [
      "\u001b[1;31m---------------------------------------------------------------------------\u001b[0m",
      "\u001b[1;31mValueError\u001b[0m                                Traceback (most recent call last)",
      "Cell \u001b[1;32mIn[4], line 1\u001b[0m\n\u001b[1;32m----> 1\u001b[0m \u001b[38;5;28mint\u001b[39m(\u001b[38;5;124m\"\u001b[39m\u001b[38;5;124mFHSDK\u001b[39m\u001b[38;5;124m\"\u001b[39m)\n",
      "\u001b[1;31mValueError\u001b[0m: invalid literal for int() with base 10: 'FHSDK'"
     ]
    }
   ],
   "source": [
    "int(\"FHSDK\")"
   ]
  },
  {
   "cell_type": "code",
   "execution_count": null,
   "id": "81ccfb4e",
   "metadata": {},
   "outputs": [],
   "source": []
  },
  {
   "cell_type": "markdown",
   "id": "87439fe0",
   "metadata": {},
   "source": [
    "# EXCEPTIONS :\n",
    "- Exceptions are events that disrupt the normal flow of a program's execution when an error or unexpected situation occurs. \n",
    "- These errors can range from simple issues like dividing by zero or trying to access a non-existent variable to more complex  problems like attempting to open a file that doesn't exist.\n",
    "- Exceptions in Python are objects that encapsulate information about the error, including the error type and, often, additional details about what caused the error.\n",
    "\n",
    "# Exception Handling : \n",
    "- Exception handling refers to the process of managing and responding to exceptions in a way that allows a program to gracefully handle errors without crashing. \n",
    "---\n",
    "- **Python provides a structured way to perform exception handling using the `try`, `except`, `else`, and `finally` blocks.**\n",
    "\n",
    "    - `try:` This block contains the code that might raise an exception. It's the segment where exceptions are monitored.\n",
    "\n",
    "    - `except:` This block follows the try block and specifies what should happen if an exception occurs. You can have multiple except blocks to handle different types of exceptions.\n",
    "\n",
    "    - `else:` This block is executed if no exceptions occur in the try block. It's used to execute code that should run only when there are no exceptions.\n",
    "\n",
    "    - `finally:` This block is always executed, whether an exception occurred or not. It's used for cleanup tasks or actions that should occur regardless of exceptions.\n",
    "    \n",
    "---"
   ]
  },
  {
   "cell_type": "code",
   "execution_count": null,
   "id": "127482ae",
   "metadata": {},
   "outputs": [],
   "source": [
    "try:\n",
    "    # code that may throw error\n",
    "except Exception as e:\n",
    "    # code to handle the error\n",
    "else:\n",
    "    # code that will run only if try block runs without throwing an error\n",
    "finally:\n",
    "    # this code will always run.\n",
    "    "
   ]
  },
  {
   "cell_type": "code",
   "execution_count": null,
   "id": "6d3d1b94",
   "metadata": {},
   "outputs": [],
   "source": [
    "try:\n",
    "    x = float(input(\"Enter a number : \"))                # This will raise a ZeroDivisionError\n",
    "    y = float(input(\"Enter a number : \"))\n",
    "    \n",
    "    print(x/y)\n",
    "    \n",
    "    \n",
    "except ZeroDivisionError as e:\n",
    "    print(f\"Error: {e}\")\n",
    "    \n",
    "except ValueError as e:\n",
    "    print(f\"error: {e}\")\n",
    "    \n",
    "except NameError as e:\n",
    "    print(\"Kuch toh define nahi hai\", e.args)\n",
    "    \n",
    "except Exception as e:\n",
    "    print(\"KUCH TOH GADBAD HAI....\")\n",
    "    \n",
    "else:\n",
    "    print(\"No exception occurred.\")\n",
    "    \n",
    "finally:\n",
    "    print(\"This will always execute.\")\n"
   ]
  },
  {
   "cell_type": "code",
   "execution_count": null,
   "id": "0769a67e",
   "metadata": {},
   "outputs": [],
   "source": [
    "try:\n",
    "    file = open(\"abc.txt\",'r')\n",
    "    \n",
    "except Exception as e:\n",
    "    print(\"file not present, creating new file.\")\n",
    "    file= open('abc.txt','w')\n",
    "    file.write(\"Something\")\n",
    "    \n",
    "else :\n",
    "    print(file.read())\n",
    "    \n",
    "finally:\n",
    "    file.close()"
   ]
  },
  {
   "cell_type": "code",
   "execution_count": null,
   "id": "9309919a",
   "metadata": {},
   "outputs": [],
   "source": [
    "try:\n",
    "    file = open(\"sample.txt\", \"w\")\n",
    "    file.write(\"Hello, world!\")\n",
    "except IOError as e:\n",
    "    print(f\"IO Error: {e}\")\n",
    "finally:\n",
    "    file.close()\n"
   ]
  },
  {
   "cell_type": "markdown",
   "id": "460b6264",
   "metadata": {},
   "source": [
    "# Custom Errors.\n",
    "- *User-defined errors*, also known as *custom exceptions*, allow you to create your own exception classes in Python. \n",
    "- This can be useful when you want to handle specific error conditions in a more structured and meaningful way. \n",
    "- To create a custom exception, you typically define a new class that inherits from the built-in `Exception` class or one of its subclasses. \n",
    "- User-defined errors are particularly useful in situations where you want to handle application-specific error conditions gracefully. \n",
    "- They make your code more expressive and provide a structured way to manage exceptional situations.\n",
    "- You can create multiple custom exception classes for different error scenarios in your application and raise them when necessary.\n",
    "\n",
    "\n",
    "\n",
    "\n",
    "\n"
   ]
  },
  {
   "cell_type": "code",
   "execution_count": null,
   "id": "dca51d15",
   "metadata": {},
   "outputs": [],
   "source": [
    "# general syntax to create an exception\n",
    "\n",
    "class ExceptionName(Exception):\n",
    "    # code "
   ]
  },
  {
   "cell_type": "code",
   "execution_count": 33,
   "id": "949d36b9",
   "metadata": {},
   "outputs": [],
   "source": [
    "class MyException(Exception):\n",
    "    def __init__(self,message):\n",
    "        super().__init__(message)"
   ]
  },
  {
   "cell_type": "code",
   "execution_count": 34,
   "id": "2184ee13",
   "metadata": {},
   "outputs": [],
   "source": [
    "def divide(a, b):\n",
    "    if a == 0 or b == 0:\n",
    "        raise MyException(\"ABE ,zero mat daal.\")\n",
    "    return a/b"
   ]
  },
  {
   "cell_type": "code",
   "execution_count": 35,
   "id": "0ed0c957",
   "metadata": {
    "scrolled": true
   },
   "outputs": [
    {
     "ename": "MyException",
     "evalue": "ABE ,zero mat daal.",
     "output_type": "error",
     "traceback": [
      "\u001b[1;31m---------------------------------------------------------------------------\u001b[0m",
      "\u001b[1;31mMyException\u001b[0m                               Traceback (most recent call last)",
      "Cell \u001b[1;32mIn[35], line 1\u001b[0m\n\u001b[1;32m----> 1\u001b[0m divide(\u001b[38;5;241m0\u001b[39m,\u001b[38;5;241m5\u001b[39m)\n",
      "Cell \u001b[1;32mIn[34], line 3\u001b[0m, in \u001b[0;36mdivide\u001b[1;34m(a, b)\u001b[0m\n\u001b[0;32m      1\u001b[0m \u001b[38;5;28;01mdef\u001b[39;00m \u001b[38;5;21mdivide\u001b[39m(a, b):\n\u001b[0;32m      2\u001b[0m     \u001b[38;5;28;01mif\u001b[39;00m a \u001b[38;5;241m==\u001b[39m \u001b[38;5;241m0\u001b[39m \u001b[38;5;129;01mor\u001b[39;00m b \u001b[38;5;241m==\u001b[39m \u001b[38;5;241m0\u001b[39m:\n\u001b[1;32m----> 3\u001b[0m         \u001b[38;5;28;01mraise\u001b[39;00m MyException(\u001b[38;5;124m\"\u001b[39m\u001b[38;5;124mABE ,zero mat daal.\u001b[39m\u001b[38;5;124m\"\u001b[39m)\n\u001b[0;32m      4\u001b[0m     \u001b[38;5;28;01mreturn\u001b[39;00m a\u001b[38;5;241m/\u001b[39mb\n",
      "\u001b[1;31mMyException\u001b[0m: ABE ,zero mat daal."
     ]
    }
   ],
   "source": [
    "divide(0,5)"
   ]
  },
  {
   "cell_type": "code",
   "execution_count": 39,
   "id": "2713b401",
   "metadata": {},
   "outputs": [
    {
     "name": "stdout",
     "output_type": "stream",
     "text": [
      "('ABE ,zero mat daal.',)\n"
     ]
    }
   ],
   "source": [
    "try : \n",
    "    print(divide(0,8))\n",
    "except MyException as e :\n",
    "    print(e.args)"
   ]
  },
  {
   "cell_type": "code",
   "execution_count": 41,
   "id": "52b3231d",
   "metadata": {},
   "outputs": [],
   "source": [
    "class CustomError(Exception):\n",
    "    pass"
   ]
  },
  {
   "cell_type": "code",
   "execution_count": 42,
   "id": "7d6edf1b",
   "metadata": {},
   "outputs": [
    {
     "name": "stdout",
     "output_type": "stream",
     "text": [
      "Enter your age: 5\n"
     ]
    },
    {
     "ename": "CustomError",
     "evalue": "You are not eligible.",
     "output_type": "error",
     "traceback": [
      "\u001b[1;31m---------------------------------------------------------------------------\u001b[0m",
      "\u001b[1;31mCustomError\u001b[0m                               Traceback (most recent call last)",
      "Cell \u001b[1;32mIn[42], line 4\u001b[0m\n\u001b[0;32m      1\u001b[0m age \u001b[38;5;241m=\u001b[39m \u001b[38;5;28mint\u001b[39m(\u001b[38;5;28minput\u001b[39m(\u001b[38;5;124m\"\u001b[39m\u001b[38;5;124mEnter your age: \u001b[39m\u001b[38;5;124m\"\u001b[39m))\n\u001b[0;32m      3\u001b[0m \u001b[38;5;28;01mif\u001b[39;00m age \u001b[38;5;241m<\u001b[39m \u001b[38;5;241m18\u001b[39m:\n\u001b[1;32m----> 4\u001b[0m     \u001b[38;5;28;01mraise\u001b[39;00m CustomError(\u001b[38;5;124m\"\u001b[39m\u001b[38;5;124mYou are not eligible.\u001b[39m\u001b[38;5;124m\"\u001b[39m)\n\u001b[0;32m      5\u001b[0m \u001b[38;5;28;01melse\u001b[39;00m:\n\u001b[0;32m      6\u001b[0m     \u001b[38;5;28mprint\u001b[39m(\u001b[38;5;124m\"\u001b[39m\u001b[38;5;124mYOU are eligible\u001b[39m\u001b[38;5;124m\"\u001b[39m)\n",
      "\u001b[1;31mCustomError\u001b[0m: You are not eligible."
     ]
    }
   ],
   "source": [
    "age = int(input(\"Enter your age: \"))\n",
    "    \n",
    "if age < 18:\n",
    "    raise CustomError(\"You are not eligible.\")\n",
    "else:\n",
    "    print(\"YOU are eligible\")"
   ]
  },
  {
   "cell_type": "code",
   "execution_count": null,
   "id": "57f2944b",
   "metadata": {},
   "outputs": [],
   "source": [
    "\n",
    "try:\n",
    "    age = int(input(\"Enter your age: \"))\n",
    "    \n",
    "    if age < 18:\n",
    "        raise CustomError(\"You are not eligible.\")\n",
    "    else:\n",
    "        print(\"YOU are eligible\")\n",
    "except CustomError as e:\n",
    "    print(f\"Custom Error: {e}\")\n"
   ]
  },
  {
   "cell_type": "code",
   "execution_count": null,
   "id": "e7d8d80c",
   "metadata": {},
   "outputs": [],
   "source": []
  },
  {
   "cell_type": "code",
   "execution_count": null,
   "id": "84918fcd",
   "metadata": {},
   "outputs": [],
   "source": []
  },
  {
   "cell_type": "markdown",
   "id": "9161145c",
   "metadata": {},
   "source": [
    "## Mini Project :"
   ]
  },
  {
   "cell_type": "code",
   "execution_count": null,
   "id": "14e7b2d2",
   "metadata": {},
   "outputs": [],
   "source": [
    "class InsufficientFundsError(Exception):\n",
    "    \"\"\"Custom exception for insufficient funds.\"\"\"\n",
    "    pass\n",
    "\n",
    "class BankAccount:\n",
    "    def __init__(self, account_number, balance=0):\n",
    "        self.account_number = account_number\n",
    "        self.balance = balance\n",
    "\n",
    "    def deposit(self, amount):\n",
    "        if amount <= 0:\n",
    "            raise ValueError(\"Deposit amount must be greater than zero\")\n",
    "        self.balance += amount\n",
    "\n",
    "    def withdraw(self, amount):\n",
    "        if amount <= 0:\n",
    "            raise ValueError(\"Withdrawal amount must be greater than zero\")\n",
    "        if amount > self.balance:\n",
    "            raise InsufficientFundsError(\"Insufficient funds for withdrawal\")\n",
    "        self.balance -= amount\n",
    "\n",
    "    def get_balance(self):\n",
    "        return self.balance"
   ]
  },
  {
   "cell_type": "code",
   "execution_count": null,
   "id": "dfab03c5",
   "metadata": {},
   "outputs": [],
   "source": [
    "# Main program\n",
    "if __name__ == \"__main__\":\n",
    "    accounts = {}\n",
    "\n",
    "    while True:\n",
    "        print(\"\\nBanking System Menu:\")\n",
    "        print(\"1. Create Account\")\n",
    "        print(\"2. Deposit\")\n",
    "        print(\"3. Withdraw\")\n",
    "        print(\"4. Check Balance\")\n",
    "        print(\"5. Exit\")\n",
    "        \n",
    "        choice = input(\"Enter your choice: \")\n",
    "        \n",
    "        if choice == \"1\":\n",
    "            account_number = input(\"Enter your account number: \")\n",
    "            if account_number in accounts:\n",
    "                print(\"Account already exists.\")\n",
    "            else:\n",
    "                initial_balance = float(input(\"Enter initial balance: \"))\n",
    "                accounts[account_number] = BankAccount(account_number, initial_balance)\n",
    "                print(\"Account created successfully.\")\n",
    "        \n",
    "        elif choice == \"2\":\n",
    "            account_number = input(\"Enter your account number: \")\n",
    "            if account_number in accounts:\n",
    "                amount = float(input(\"Enter the deposit amount: \"))\n",
    "                try:\n",
    "                    accounts[account_number].deposit(amount)\n",
    "                    print(\"Deposit successful.\")\n",
    "                except ValueError as e:\n",
    "                    print(f\"Deposit failed: {e}\")\n",
    "            else:\n",
    "                print(\"Account not found.\")\n",
    "        \n",
    "        elif choice == \"3\":\n",
    "            account_number = input(\"Enter your account number: \")\n",
    "            if account_number in accounts:\n",
    "                amount = float(input(\"Enter the withdrawal amount: \"))\n",
    "                try:\n",
    "                    accounts[account_number].withdraw(amount)\n",
    "                    print(\"Withdrawal successful.\")\n",
    "                except (ValueError, InsufficientFundsError) as e:\n",
    "                    print(f\"Withdrawal failed: {e}\")\n",
    "            else:\n",
    "                print(\"Account not found.\")\n",
    "        \n",
    "        elif choice == \"4\":\n",
    "            account_number = input(\"Enter your account number: \")\n",
    "            if account_number in accounts:\n",
    "                balance = accounts[account_number].get_balance()\n",
    "                print(f\"Account balance: {balance:.2f}\")\n",
    "            else:\n",
    "                print(\"Account not found.\")\n",
    "        \n",
    "        elif choice == \"5\":\n",
    "            print(\"Exiting the banking system.\")\n",
    "            break\n",
    "        \n",
    "        else:\n",
    "            print(\"Invalid choice. Please choose a valid option.\")"
   ]
  }
 ],
 "metadata": {
  "kernelspec": {
   "display_name": "Python 3 (ipykernel)",
   "language": "python",
   "name": "python3"
  },
  "language_info": {
   "codemirror_mode": {
    "name": "ipython",
    "version": 3
   },
   "file_extension": ".py",
   "mimetype": "text/x-python",
   "name": "python",
   "nbconvert_exporter": "python",
   "pygments_lexer": "ipython3",
   "version": "3.11.4"
  }
 },
 "nbformat": 4,
 "nbformat_minor": 5
}
