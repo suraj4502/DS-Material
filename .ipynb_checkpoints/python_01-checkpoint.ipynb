{
 "cells": [
  {
   "cell_type": "code",
   "execution_count": 1,
   "id": "953862bf",
   "metadata": {},
   "outputs": [
    {
     "name": "stdout",
     "output_type": "stream",
     "text": [
      "THIS Is a message!\n"
     ]
    }
   ],
   "source": [
    "print(\"THIS Is a message!\")"
   ]
  },
  {
   "cell_type": "code",
   "execution_count": 2,
   "id": "035db919",
   "metadata": {},
   "outputs": [
    {
     "name": "stdout",
     "output_type": "stream",
     "text": [
      "Hello world!\n"
     ]
    }
   ],
   "source": [
    "print(\"Hello world!\")"
   ]
  },
  {
   "cell_type": "markdown",
   "id": "01bf3b06",
   "metadata": {},
   "source": [
    "# Python Basics"
   ]
  },
  {
   "cell_type": "markdown",
   "id": "6adc2742",
   "metadata": {},
   "source": [
    "---\n",
    "## Variables :\n",
    "- Variables are used to store some data.\n",
    "- In Python, you can create a variable by assigning a value to it using the = operator. \n",
    "- For example, x = 5 creates a variable named x and assigns the value 5 to it."
   ]
  },
  {
   "cell_type": "code",
   "execution_count": 7,
   "id": "d703295c",
   "metadata": {},
   "outputs": [],
   "source": [
    "x  = 10 # int\n",
    "y= 6.8 # float\n",
    "name = \"abc\" # strings"
   ]
  },
  {
   "cell_type": "code",
   "execution_count": 8,
   "id": "2a86e38a",
   "metadata": {},
   "outputs": [],
   "source": [
    "new_variable = x + 10"
   ]
  },
  {
   "cell_type": "code",
   "execution_count": 9,
   "id": "a7677711",
   "metadata": {},
   "outputs": [
    {
     "data": {
      "text/plain": [
       "20"
      ]
     },
     "execution_count": 9,
     "metadata": {},
     "output_type": "execute_result"
    }
   ],
   "source": [
    "new_variable"
   ]
  },
  {
   "cell_type": "code",
   "execution_count": 10,
   "id": "e6741b45",
   "metadata": {},
   "outputs": [
    {
     "name": "stdout",
     "output_type": "stream",
     "text": [
      "THIS IS THE VALUE OF X:  10\n",
      "6.8\n",
      "16.8\n",
      "14\n"
     ]
    }
   ],
   "source": [
    "print(\"THIS IS THE VALUE OF X: \",x)\n",
    "print(y)\n",
    "print(x+y)\n",
    "print(x+4)"
   ]
  },
  {
   "cell_type": "markdown",
   "id": "a472bc3c",
   "metadata": {},
   "source": [
    "## KeyWords :\n",
    "- Keywords are reserved words in Python that have special meanings and cannot be used as variable names.\n",
    "- Some examples of keywords in Python are `if, else, for, while, def, class,` etc."
   ]
  },
  {
   "cell_type": "markdown",
   "id": "f9729c5a",
   "metadata": {},
   "source": [
    "## Statements & Comments: \n",
    "- A statement is an instruction that the Python interpreter can execute. For example, `x = 5` is an assignment statement that assigns the value 5 to the variable x. \n",
    "- Comments are lines of text in your code that are ignored by the interpreter and are used to explain what your code does. In Python, you can create a comment by starting a line with the # symbol."
   ]
  },
  {
   "cell_type": "code",
   "execution_count": 11,
   "id": "986713ec",
   "metadata": {},
   "outputs": [
    {
     "name": "stdout",
     "output_type": "stream",
     "text": [
      "5\n"
     ]
    },
    {
     "data": {
      "text/plain": [
       "'\\niu9uhuih\\nTHIS IS ALSO a COMMENT\\nThis is a comment too \\nthis is also a comment\\n\\n'"
      ]
     },
     "execution_count": 11,
     "metadata": {},
     "output_type": "execute_result"
    }
   ],
   "source": [
    "x = 5 # this is an assignment statement\n",
    "\n",
    "# kjsdkjf\n",
    "\n",
    "print(x) \n",
    "\n",
    "# this is a single line comment.hgdhufhufuifhfuhf\n",
    "\n",
    "'''\n",
    "iu9uhuih\n",
    "THIS IS ALSO a COMMENT\n",
    "This is a comment too \n",
    "this is also a comment\n",
    "\n",
    "'''"
   ]
  },
  {
   "cell_type": "markdown",
   "id": "e5d4ccae",
   "metadata": {},
   "source": [
    "## Indentation: \n",
    "- Indentation refers to the use of whitespace at the beginning of a line to define the structure of your code. In Python, indentation is used to define blocks of code, such as the body of a function or loop."
   ]
  },
  {
   "cell_type": "code",
   "execution_count": null,
   "id": "8c27f30a",
   "metadata": {},
   "outputs": [],
   "source": [
    "for i in range(4):\n",
    "    print(i)"
   ]
  },
  {
   "cell_type": "markdown",
   "id": "da090834",
   "metadata": {},
   "source": [
    "## Data types: \n",
    "- Data types refer to the type of data that can be stored in a variable. Some common data types in Python are integers, floats, strings, lists, tuples, dictionaries, etc."
   ]
  },
  {
   "cell_type": "code",
   "execution_count": 12,
   "id": "6cd3c80a",
   "metadata": {},
   "outputs": [],
   "source": [
    "x = 5 #int # whole numbers\n",
    "y = 4.03 #float --> decimal values\n",
    "z = 'drfgff' #string --> textual \n",
    "\n",
    "l = [1,2,3,'hello',[1,6,7]]  #list\n",
    "t = (1,2,2,3,'world') #tuples\n",
    "d = {'key1':[1,2,4,6],'key2':'hello','key3':44} #dictionary"
   ]
  },
  {
   "cell_type": "code",
   "execution_count": null,
   "id": "7f5ad2f1",
   "metadata": {},
   "outputs": [],
   "source": [
    "print(d)"
   ]
  },
  {
   "cell_type": "code",
   "execution_count": null,
   "id": "3d5c46ca",
   "metadata": {},
   "outputs": [],
   "source": [
    "d['key1']"
   ]
  },
  {
   "cell_type": "code",
   "execution_count": null,
   "id": "a6318bd6",
   "metadata": {},
   "outputs": [],
   "source": [
    "variable"
   ]
  },
  {
   "cell_type": "code",
   "execution_count": 13,
   "id": "e7822e35",
   "metadata": {},
   "outputs": [
    {
     "data": {
      "text/plain": [
       "int"
      ]
     },
     "execution_count": 13,
     "metadata": {},
     "output_type": "execute_result"
    }
   ],
   "source": [
    "type(4)"
   ]
  },
  {
   "cell_type": "code",
   "execution_count": 14,
   "id": "bf4edef2",
   "metadata": {},
   "outputs": [
    {
     "name": "stdout",
     "output_type": "stream",
     "text": [
      "<class 'str'>\n"
     ]
    }
   ],
   "source": [
    "a = \"4\"\n",
    "print(type(a))"
   ]
  },
  {
   "cell_type": "code",
   "execution_count": 15,
   "id": "65398042",
   "metadata": {},
   "outputs": [
    {
     "data": {
      "text/plain": [
       "'fname lastname'"
      ]
     },
     "execution_count": 15,
     "metadata": {},
     "output_type": "execute_result"
    }
   ],
   "source": [
    "a = 'fname'\n",
    "b = ' lastname'\n",
    "a+b"
   ]
  },
  {
   "cell_type": "code",
   "execution_count": 17,
   "id": "00e82273",
   "metadata": {},
   "outputs": [
    {
     "data": {
      "text/plain": [
       "9"
      ]
     },
     "execution_count": 17,
     "metadata": {},
     "output_type": "execute_result"
    }
   ],
   "source": [
    "a = '4'\n",
    "b = '5'\n",
    "a = int(a)\n",
    "b = int(b)\n",
    "a+b"
   ]
  },
  {
   "cell_type": "code",
   "execution_count": null,
   "id": "c7e9760a",
   "metadata": {},
   "outputs": [],
   "source": [
    "students = {'id':[1,2,3,4,5],'Name':['DHRUV','abc','xyz'] ,'AGE' : 19}"
   ]
  },
  {
   "cell_type": "code",
   "execution_count": null,
   "id": "8f7fa4a9",
   "metadata": {},
   "outputs": [],
   "source": [
    "print(students['id'])"
   ]
  },
  {
   "cell_type": "code",
   "execution_count": null,
   "id": "eec52a11",
   "metadata": {},
   "outputs": [],
   "source": [
    "class_ ={'id':[1,2,3],'NAME':['DHRUV','xyz','abc']}"
   ]
  },
  {
   "cell_type": "code",
   "execution_count": null,
   "id": "2bdfae31",
   "metadata": {},
   "outputs": [],
   "source": [
    "print(type(z))\n",
    "print(type(d))"
   ]
  },
  {
   "cell_type": "code",
   "execution_count": null,
   "id": "b3ca08d2",
   "metadata": {},
   "outputs": [],
   "source": [
    "list_ = [8,6,7,8,9,4,10]"
   ]
  },
  {
   "cell_type": "code",
   "execution_count": null,
   "id": "ff3d77b2",
   "metadata": {},
   "outputs": [],
   "source": [
    "len(list_)"
   ]
  },
  {
   "cell_type": "code",
   "execution_count": null,
   "id": "a97b26a4",
   "metadata": {},
   "outputs": [],
   "source": [
    "print(sum(list_))"
   ]
  },
  {
   "cell_type": "markdown",
   "id": "b15d4900",
   "metadata": {},
   "source": [
    "## Static Typing vs Dynamic Typing : \n",
    "- Static typing means that the type of a variable is determined at compile time, before the program is run. \n",
    "- In other words, the programmer must specify the type of each variable when writing the code, and the compiler checks that the operations performed on the variables are valid for their types.\n",
    "- eg : `int x;  x = 5;`\n",
    "- Python is a dynamically typed language, which means that the type of a variable is determined at runtime, and not at compile time like in statically typed languages. \n",
    "- This allows for more flexibility in writing code, but can also lead to runtime errors if you try to perform operations on incompatible types."
   ]
  },
  {
   "cell_type": "markdown",
   "id": "2b42aff8",
   "metadata": {},
   "source": [
    "## Input and output: \n",
    "- Input refers to getting data from the user or from another source, while output refers to displaying data to the user or sending it to another destination. \n",
    "- In Python, you can use the input() function to get input from the user and the print() function to display output."
   ]
  },
  {
   "cell_type": "code",
   "execution_count": null,
   "id": "612888d4",
   "metadata": {},
   "outputs": [],
   "source": [
    "print(\"hello world\")"
   ]
  },
  {
   "cell_type": "code",
   "execution_count": null,
   "id": "2d6f54ba",
   "metadata": {},
   "outputs": [],
   "source": [
    "fname = input(\"Enter your first name here : \")\n",
    "lname = input(\"ENTER LAST NAME : \")\n",
    "print(fname, end= '--')\n",
    "print(lname)\n",
    "print(\"this is a message\")\n"
   ]
  },
  {
   "cell_type": "code",
   "execution_count": null,
   "id": "eff0c334",
   "metadata": {},
   "outputs": [],
   "source": [
    "4 < 5"
   ]
  },
  {
   "cell_type": "markdown",
   "id": "2844f497",
   "metadata": {},
   "source": [
    "## Operators: \n",
    "- Operators are symbols that perform operations on values. Some common operators in Python are:\n",
    "1. Arithmetic operators : performs mathematical operations.<br>` + - * /  `\n",
    "2. Relational operators : Compare values and return a boolean result. Examples include greater than `(>)`, less than `(<)`, equal to `(==)`, not equal to `(!=)`, etc.\n",
    "3. Assignment operators: Assign values to variables. The most common assignment operator is` = ` .\n",
    "4. Logical operators: Perform logical operations such as AND `(and)`, OR `(or)`, NOT `(not)`.\n",
    "5. Membership operators: Test if a value is a member of a sequence or not. Examples include `in` and `not in`.\n",
    "6. Identity operators: Test if two variables refer to the same object in memory or not. Examples include `is` and `is not`.\n"
   ]
  },
  {
   "cell_type": "code",
   "execution_count": null,
   "id": "7227066e",
   "metadata": {},
   "outputs": [],
   "source": [
    "s = [4,5,6]\n",
    "y = [4,5,6]\n",
    "print(id(s))\n",
    "print(id(y))"
   ]
  },
  {
   "cell_type": "code",
   "execution_count": null,
   "id": "60113f91",
   "metadata": {},
   "outputs": [],
   "source": []
  },
  {
   "cell_type": "code",
   "execution_count": null,
   "id": "0794f0d7",
   "metadata": {},
   "outputs": [],
   "source": [
    "s is not y"
   ]
  },
  {
   "cell_type": "code",
   "execution_count": null,
   "id": "8a6348e9",
   "metadata": {},
   "outputs": [],
   "source": [
    "s is y"
   ]
  },
  {
   "cell_type": "code",
   "execution_count": null,
   "id": "32fea37e",
   "metadata": {},
   "outputs": [],
   "source": [
    "name =  'TH is a vairable'\n",
    "# check if is is present or not\n",
    "\n",
    "if 'is' not in name:\n",
    "    print(\"yes\")"
   ]
  },
  {
   "cell_type": "code",
   "execution_count": null,
   "id": "874bb2b7",
   "metadata": {},
   "outputs": [],
   "source": []
  },
  {
   "cell_type": "code",
   "execution_count": null,
   "id": "f230155a",
   "metadata": {},
   "outputs": [],
   "source": [
    "#Examples :\n",
    "4+5"
   ]
  },
  {
   "cell_type": "code",
   "execution_count": null,
   "id": "5e7a06cc",
   "metadata": {},
   "outputs": [],
   "source": [
    "<="
   ]
  },
  {
   "cell_type": "code",
   "execution_count": null,
   "id": "c1380f37",
   "metadata": {},
   "outputs": [],
   "source": [
    "x= 4\n",
    "y = 5"
   ]
  },
  {
   "cell_type": "code",
   "execution_count": null,
   "id": "a16baa7d",
   "metadata": {},
   "outputs": [],
   "source": [
    "x != y"
   ]
  },
  {
   "cell_type": "code",
   "execution_count": null,
   "id": "af7f7492",
   "metadata": {},
   "outputs": [],
   "source": [
    "print(x+y)\n",
    "print(x-y)\n",
    "print(x*y)\n",
    "print(x/y)"
   ]
  },
  {
   "cell_type": "code",
   "execution_count": null,
   "id": "ca6a67a6",
   "metadata": {},
   "outputs": [],
   "source": [
    "my_list = [\"bread\",\"milk\",\"peanut butter\"]\n",
    "\n",
    "if \"bread\" not in my_list:\n",
    "    print(\"YES it is present\")\n",
    "    "
   ]
  },
  {
   "cell_type": "code",
   "execution_count": null,
   "id": "93d4d49b",
   "metadata": {},
   "outputs": [],
   "source": []
  },
  {
   "cell_type": "code",
   "execution_count": null,
   "id": "b343d02f",
   "metadata": {},
   "outputs": [],
   "source": [
    "x = [1, 2, 3]\n",
    "y = [1, 2, 3]\n",
    "z = x\n",
    "\n",
    "print(id(x))\n",
    "print(id(z))\n",
    "\n",
    "\n",
    "# print(x is not y)\n",
    "print(x is z)"
   ]
  },
  {
   "cell_type": "markdown",
   "id": "bf552d0f",
   "metadata": {},
   "source": [
    "---"
   ]
  },
  {
   "cell_type": "markdown",
   "id": "eb455654",
   "metadata": {},
   "source": [
    "# Control Flow :\n",
    "- Control flow refers to the order in which statements are executed in a program. \n",
    "- In Python, you can use conditional statements and loops to control the flow of your program."
   ]
  },
  {
   "cell_type": "markdown",
   "id": "ef187a28",
   "metadata": {},
   "source": [
    "--- \n",
    "## If statement: \n",
    "- The if statement is used to execute a block of code only if a certain condition is true."
   ]
  },
  {
   "cell_type": "code",
   "execution_count": null,
   "id": "cc483a1e",
   "metadata": {},
   "outputs": [],
   "source": [
    "x= 0\n",
    "if x > 0:\n",
    "    print(\"X is positive\")\n",
    "    print(\"THIS OS SSSSS\")\n",
    "    print('kkkhkh')\n",
    "elif x < 0:\n",
    "    print(\"X IS NEGATIVE\")\n",
    "else:\n",
    "    print(\" x id gjhklj;%%javascript\")\n",
    "    "
   ]
  },
  {
   "cell_type": "code",
   "execution_count": null,
   "id": "10fdd4ca",
   "metadata": {},
   "outputs": [],
   "source": [
    "x = 2\n",
    "\n",
    "if x > 0 :\n",
    "    print(\"x is positive\")\n",
    "elif x < 0:\n",
    "    print(\"x is negative\")\n",
    "else:\n",
    "    print(\"This will run if the if statement returns false\")"
   ]
  },
  {
   "cell_type": "code",
   "execution_count": null,
   "id": "d154be8b",
   "metadata": {},
   "outputs": [],
   "source": [
    "x = int(input(\"ENTER a number : \"))\n",
    "\n",
    "if x > 0:\n",
    "    print(\"x is positive\")\n",
    "    print(\"THIS WILL RUN\")\n",
    "    print(\"THIS IS A STATement that will run only if the condition is true.\")\n",
    "elif x < 0:\n",
    "    print(\"X is negative\")\n",
    "else:\n",
    "    print(\"X is zero\")\n",
    "    "
   ]
  },
  {
   "cell_type": "code",
   "execution_count": null,
   "id": "c64e82dd",
   "metadata": {},
   "outputs": [],
   "source": []
  },
  {
   "cell_type": "markdown",
   "id": "3b934e5b",
   "metadata": {},
   "source": [
    "---\n",
    "## If-else: \n",
    "- The if-else statement is used to execute one block of code if a condition is true, and another block of code if the condition is false."
   ]
  },
  {
   "cell_type": "code",
   "execution_count": null,
   "id": "74dcd0a5",
   "metadata": {},
   "outputs": [],
   "source": [
    "x = -5\n",
    "if x > 0:\n",
    "    print(\"x is positive\")\n",
    "else:\n",
    "    print(\"x is not positive\")\n"
   ]
  },
  {
   "cell_type": "markdown",
   "id": "ff9e4829",
   "metadata": {},
   "source": [
    "---\n",
    "## If-elif-else: \n",
    "- The if-elif-else statement is used to test multiple conditions and execute different blocks of code depending on which condition is true."
   ]
  },
  {
   "cell_type": "code",
   "execution_count": null,
   "id": "8a0ee7e6",
   "metadata": {},
   "outputs": [],
   "source": [
    "x = int(input(\"ENTER A NUMBER\"))\n",
    "if x > 0:\n",
    "    print(\"x is positive\")\n",
    "elif x < 0:\n",
    "    print(\"x is negative\")\n",
    "else:\n",
    "    print(\"x is zero\")\n"
   ]
  },
  {
   "cell_type": "code",
   "execution_count": null,
   "id": "8ea396b6",
   "metadata": {},
   "outputs": [],
   "source": [
    "m=int(input(\"Enter Marks\"))\n",
    "if m>=80:\n",
    "    print(\"O Grade\")\n",
    "elif m>=60 and m<80:\n",
    "    print(\"A grade\")\n",
    "elif m>=40 and m<60:\n",
    "    print(\"pass\")\n",
    "elif 40> m >=29:\n",
    "    print(\"pass\")\n",
    "else:\n",
    "    print(\"fail\")\n",
    "    \n"
   ]
  },
  {
   "cell_type": "markdown",
   "id": "b0c02cff",
   "metadata": {},
   "source": [
    "---\n",
    "## Nested if-else: \n",
    "- You can nest if-else statements inside other if-else statements to test multiple conditions in a hierarchical manner."
   ]
  },
  {
   "cell_type": "code",
   "execution_count": null,
   "id": "4e258b54",
   "metadata": {},
   "outputs": [],
   "source": [
    "x = -1\n",
    "y = -1\n",
    "\n",
    "if x > 0:\n",
    "    if y > 0:\n",
    "        print(\"x and y is positive.\") \n",
    "    else:\n",
    "        print(\"x is positive but y is not positive\")\n",
    "else:\n",
    "    if y < 0:\n",
    "        print(\"x is negative and y is also negative\")\n",
    "    else:\n",
    "        print(\"x is negative and y is postive\")"
   ]
  },
  {
   "cell_type": "code",
   "execution_count": null,
   "id": "6f876e92",
   "metadata": {},
   "outputs": [],
   "source": [
    "# python is a case sensitive language\n",
    "x = 5\n",
    "X ='ssf'"
   ]
  },
  {
   "cell_type": "code",
   "execution_count": null,
   "id": "abae6a09",
   "metadata": {},
   "outputs": [],
   "source": [
    "x = int(input(\"Enter first number: \")) #0\n",
    "y = int(input(\"Enter second number: \")) #-7\n",
    "\n",
    "if x > 0 and y > 0: # false\n",
    "    print(\"BOTH values are positive\")\n",
    "elif x >0 and y < 0 : # true\n",
    "    print(\"x is postive and y is negative\")\n",
    "elif x < 0 and y > 0 :\n",
    "    print(\"x is negative but y is postive.\")\n",
    "else:\n",
    "    print(\"BHai chup chap kuch ache numbers de..\")\n",
    "\n",
    "    "
   ]
  },
  {
   "cell_type": "code",
   "execution_count": null,
   "id": "9bc68983",
   "metadata": {},
   "outputs": [],
   "source": [
    "# write a python program to check if a number is even or odd\n",
    "n = int(input(\"ENTER A NUMBER : \"))\n",
    "if n % 2 == 0:\n",
    "    print(n,\" is even.\")\n",
    "else:\n",
    "    print(n, \" is odd.\")"
   ]
  },
  {
   "cell_type": "code",
   "execution_count": null,
   "id": "18663ec2",
   "metadata": {},
   "outputs": [],
   "source": [
    "print(\"HELLO WORLD\")\n",
    "print(\"HEllO WORLD\")\n",
    "for i in range(1,11):\n",
    "    print('hello world')"
   ]
  },
  {
   "cell_type": "code",
   "execution_count": null,
   "id": "78555418",
   "metadata": {},
   "outputs": [],
   "source": [
    "i = 1 #4\n",
    "while i <=5:\n",
    "    print(\"hello World\")\n",
    "    i = i+1"
   ]
  },
  {
   "cell_type": "markdown",
   "id": "f0512b11",
   "metadata": {},
   "source": [
    "---\n",
    "## While loop: \n",
    "- The while loop repeatedly executes a block of code as long as a certain condition remains true. "
   ]
  },
  {
   "cell_type": "code",
   "execution_count": null,
   "id": "3ce78aea",
   "metadata": {},
   "outputs": [],
   "source": [
    "2%2"
   ]
  },
  {
   "cell_type": "code",
   "execution_count": null,
   "id": "90e5e704",
   "metadata": {},
   "outputs": [],
   "source": [
    "0 == 0"
   ]
  },
  {
   "cell_type": "code",
   "execution_count": null,
   "id": "754ed887",
   "metadata": {},
   "outputs": [],
   "source": [
    "4%2"
   ]
  },
  {
   "cell_type": "code",
   "execution_count": null,
   "id": "aefca229",
   "metadata": {},
   "outputs": [],
   "source": [
    "# THIS WILL PRINT ALL THE EVEN NUMBERS TILL 20\n",
    "i =1\n",
    "while i <= 20:\n",
    "    if i % 2 == 0:\n",
    "        print(i)\n",
    "    i = i+1"
   ]
  },
  {
   "cell_type": "code",
   "execution_count": null,
   "id": "e16a58c5",
   "metadata": {},
   "outputs": [],
   "source": [
    "6%2"
   ]
  },
  {
   "cell_type": "code",
   "execution_count": null,
   "id": "b803c6b4",
   "metadata": {},
   "outputs": [],
   "source": [
    "# ODD NUMBERS\n",
    "i =1\n",
    "while i <= 20:\n",
    "    if i % 2 != 0:\n",
    "        print(i)\n",
    "    i = i+1"
   ]
  },
  {
   "cell_type": "code",
   "execution_count": null,
   "id": "8d336959",
   "metadata": {},
   "outputs": [],
   "source": [
    "i = 1\n",
    "while i <= 5:\n",
    "    print(i)\n",
    "    i = i +1"
   ]
  },
  {
   "cell_type": "code",
   "execution_count": null,
   "id": "e685a693",
   "metadata": {},
   "outputs": [],
   "source": [
    "4%2"
   ]
  },
  {
   "cell_type": "markdown",
   "id": "1ce9bb52",
   "metadata": {},
   "source": [
    "---\n",
    "## For loop :\n",
    "- The for loop is used to iterate over a sequence (such as a list, tuple, or string) or other iterable object, and execute a block of code for each item in the sequence."
   ]
  },
  {
   "cell_type": "code",
   "execution_count": null,
   "id": "7777b9fd",
   "metadata": {},
   "outputs": [],
   "source": [
    "1-2-3-4-5-6-7-8-9-\n",
    "1-2-3-4-5-6-7-8-9-\n",
    "1-2-3-4-5-6-7-8-9-"
   ]
  },
  {
   "cell_type": "code",
   "execution_count": null,
   "id": "8841eb77",
   "metadata": {},
   "outputs": [],
   "source": [
    "# NEsTED LOOPS\n",
    "for j in range(3):\n",
    "    \n",
    "    for i in range(1,10):\n",
    "        print(i,end='-')\n",
    "    print()\n",
    "    \n",
    "    "
   ]
  },
  {
   "cell_type": "code",
   "execution_count": null,
   "id": "b1e17e1e",
   "metadata": {},
   "outputs": [],
   "source": [
    "s = 'zayn'\n",
    "for i in s:\n",
    "    print(i*2)"
   ]
  },
  {
   "cell_type": "code",
   "execution_count": null,
   "id": "1825ff55",
   "metadata": {},
   "outputs": [],
   "source": [
    "tp = ('bread','milk','eggs')\n",
    "string = \"bread\""
   ]
  },
  {
   "cell_type": "code",
   "execution_count": null,
   "id": "30a7683a",
   "metadata": {},
   "outputs": [],
   "source": [
    "shopping_list = ['bread','milk','eggs']\n",
    "for single_element in shopping_list:\n",
    "    print(single_element)"
   ]
  },
  {
   "cell_type": "code",
   "execution_count": null,
   "id": "f2b34188",
   "metadata": {},
   "outputs": [],
   "source": [
    "print(list(range(1,11)))"
   ]
  },
  {
   "cell_type": "code",
   "execution_count": null,
   "id": "2074127b",
   "metadata": {},
   "outputs": [],
   "source": [
    "1%2  != 0"
   ]
  },
  {
   "cell_type": "code",
   "execution_count": null,
   "id": "22f11383",
   "metadata": {},
   "outputs": [],
   "source": [
    "# print even numbers from 1 to 20 using for loop.\n",
    "for i in range(1,21):\n",
    "    if i % 2 != 0:\n",
    "        print(i,end=\" \")"
   ]
  },
  {
   "cell_type": "code",
   "execution_count": null,
   "id": "5e2c3bca",
   "metadata": {},
   "outputs": [],
   "source": [
    "# I want ALL the numbers from 1 to 30 that are divisile by 3 # for loop\n",
    "for i in range(1,31):\n",
    "    if i % 3 ==0:\n",
    "        print(i,end=\" \")"
   ]
  },
  {
   "cell_type": "code",
   "execution_count": null,
   "id": "7000ca56",
   "metadata": {},
   "outputs": [],
   "source": [
    "list(range(3))"
   ]
  },
  {
   "cell_type": "code",
   "execution_count": null,
   "id": "57616339",
   "metadata": {},
   "outputs": [],
   "source": []
  },
  {
   "cell_type": "code",
   "execution_count": null,
   "id": "dfced974",
   "metadata": {},
   "outputs": [],
   "source": [
    "for j in range(3):\n",
    "    for i in range(1,10):\n",
    "        print(i ,end=\"-\")\n",
    "    print()"
   ]
  },
  {
   "cell_type": "code",
   "execution_count": null,
   "id": "77580057",
   "metadata": {},
   "outputs": [],
   "source": []
  },
  {
   "cell_type": "code",
   "execution_count": null,
   "id": "3829d131",
   "metadata": {},
   "outputs": [],
   "source": [
    "\n",
    "1-2-3-4-5-6-7-8-9-\n",
    "1-2-3-4-5-6-7-8-9-"
   ]
  },
  {
   "cell_type": "code",
   "execution_count": null,
   "id": "60756a9c",
   "metadata": {},
   "outputs": [],
   "source": []
  },
  {
   "cell_type": "code",
   "execution_count": null,
   "id": "d5535943",
   "metadata": {},
   "outputs": [],
   "source": []
  },
  {
   "cell_type": "code",
   "execution_count": null,
   "id": "4764ccda",
   "metadata": {},
   "outputs": [],
   "source": [
    "list(range(0,21,3))"
   ]
  },
  {
   "cell_type": "code",
   "execution_count": null,
   "id": "55cc07f1",
   "metadata": {},
   "outputs": [],
   "source": [
    "for i in range(1,21):\n",
    "    if i % 2 == 0:\n",
    "        print(i,end= \" \")"
   ]
  },
  {
   "cell_type": "code",
   "execution_count": null,
   "id": "f313d99a",
   "metadata": {},
   "outputs": [],
   "source": [
    "for i in range(1,21):\n",
    "    if i % 2 != 0:\n",
    "        print(i, end = ' ')"
   ]
  },
  {
   "cell_type": "code",
   "execution_count": null,
   "id": "da493faf",
   "metadata": {},
   "outputs": [],
   "source": [
    "# numbers = [1, 2, 3, 4, 5] \n",
    "for i in range(1,6):\n",
    "    print(i,end=' ')"
   ]
  },
  {
   "cell_type": "code",
   "execution_count": null,
   "id": "ef92f568",
   "metadata": {},
   "outputs": [],
   "source": [
    "for i in range(2,6):\n",
    "    print(i)"
   ]
  },
  {
   "cell_type": "code",
   "execution_count": null,
   "id": "66a6a396",
   "metadata": {},
   "outputs": [],
   "source": []
  },
  {
   "cell_type": "markdown",
   "id": "0ab458db",
   "metadata": {},
   "source": [
    "## Nested for loop: \n",
    "- You can nest one for loop inside another for loop to iterate over multiple sequences at once."
   ]
  },
  {
   "cell_type": "code",
   "execution_count": null,
   "id": "73da5c71",
   "metadata": {},
   "outputs": [],
   "source": [
    "1 2 3 4 5 6 7 8 9\n",
    "1 2 3 4 5 6 7 8 9\n",
    "1 2 3 4 5 6 7 8 9"
   ]
  },
  {
   "cell_type": "code",
   "execution_count": null,
   "id": "ad6d30ef",
   "metadata": {},
   "outputs": [],
   "source": [
    "# 1--9\n",
    "for j in range(3):\n",
    "    for i in range(1,10):\n",
    "        print(i,end = ' ')\n",
    "    print()"
   ]
  },
  {
   "cell_type": "code",
   "execution_count": null,
   "id": "907de084",
   "metadata": {},
   "outputs": [],
   "source": [
    "i = 0,1,2\n",
    "j = 0,1,2"
   ]
  },
  {
   "cell_type": "markdown",
   "id": "2f16fe6b",
   "metadata": {},
   "source": [
    "## Nested while loop: \n",
    "- Similarly to nested for loops, you can also nest one while loop inside another while loop."
   ]
  },
  {
   "cell_type": "code",
   "execution_count": null,
   "id": "c60b8dbd",
   "metadata": {},
   "outputs": [],
   "source": [
    "i = 1\n",
    "while i <= 2:\n",
    "    j = 1\n",
    "    while j <= 2:\n",
    "        print(i,j)\n",
    "        j +=1\n",
    "        \n",
    "    i +=1\n",
    "\n",
    "print(\"ended\")\n"
   ]
  },
  {
   "cell_type": "markdown",
   "id": "fed5aafb",
   "metadata": {},
   "source": [
    "## Loop with else: \n",
    "- In Python, you can use an else statement with a loop. The code in the else block is executed when the loop finishes normally (i.e., when the condition becomes false), but not when the loop is terminated by a break statement. "
   ]
  },
  {
   "cell_type": "code",
   "execution_count": null,
   "id": "876feee3",
   "metadata": {},
   "outputs": [],
   "source": [
    "for i in range(3):\n",
    "    print(i)\n",
    "else:\n",
    "    print(\"The loop finished normally\")"
   ]
  },
  {
   "cell_type": "markdown",
   "id": "1f680764",
   "metadata": {},
   "source": [
    "---\n",
    "## Pass statement: \n",
    "- The pass statement is a placeholder statement that does nothing. It is used when you need a statement in your code for syntactic reasons, but you don’t want the statement to do anything."
   ]
  },
  {
   "cell_type": "code",
   "execution_count": null,
   "id": "38aa11eb",
   "metadata": {},
   "outputs": [],
   "source": [
    "x = 5\n",
    "if x > 0:\n",
    "    pass\n",
    "    \n",
    "    \n",
    "\n",
    "print(\"HKDKD\")\n",
    "print(\"message\")\n"
   ]
  },
  {
   "cell_type": "markdown",
   "id": "5ca00d11",
   "metadata": {},
   "source": [
    "--- \n",
    "## Break and continue: \n",
    "- The break and continue statements are used to control the flow of execution inside loops.\n",
    "- The break statement terminates the innermost loop and transfers control to the next statement after the loop. \n",
    "- The continue statement skips the rest of the current iteration of the loop and moves on to the next iteration."
   ]
  },
  {
   "cell_type": "code",
   "execution_count": null,
   "id": "a1a15e5a",
   "metadata": {},
   "outputs": [],
   "source": [
    "while True:\n",
    "    inp = input(\"enter something : \")\n",
    "    if inp == \"quit\":\n",
    "        break"
   ]
  },
  {
   "cell_type": "code",
   "execution_count": null,
   "id": "716c81de",
   "metadata": {},
   "outputs": [],
   "source": [
    "for i in range(5):\n",
    "    if i == 3:\n",
    "        break\n",
    "    print(i)\n"
   ]
  },
  {
   "cell_type": "code",
   "execution_count": null,
   "id": "784e91ab",
   "metadata": {},
   "outputs": [],
   "source": [
    "i = 3\n",
    "while True: \n",
    "    if i == 21:\n",
    "        break\n",
    "    print(i)\n",
    "    i = i+3"
   ]
  },
  {
   "cell_type": "code",
   "execution_count": null,
   "id": "81b2c0ae",
   "metadata": {},
   "outputs": [],
   "source": [
    "for i in range(5):\n",
    "    if i == 3:\n",
    "        continue\n",
    "    print(i)\n"
   ]
  },
  {
   "cell_type": "code",
   "execution_count": null,
   "id": "84b1bac4",
   "metadata": {},
   "outputs": [],
   "source": [
    "# print even and odd using continue 1 to 20\n",
    "for i in range(1,21):\n",
    "    if i%2 !=0:\n",
    "        continue\n",
    "    print(i,end=\" \")\n",
    "        \n"
   ]
  },
  {
   "cell_type": "markdown",
   "id": "41216fa0",
   "metadata": {},
   "source": [
    " ## create a program that takes a number as input and checks its divisibility with 2 and 3."
   ]
  },
  {
   "cell_type": "code",
   "execution_count": null,
   "id": "99ddf1b1",
   "metadata": {},
   "outputs": [],
   "source": [
    "# code :\n",
    "number = int(input(\"Enter the number : \"))\n",
    "if (number % 2) == 0:\n",
    "    if (number % 3) == 0:\n",
    "        print(number,\" is divisble by 2 and 3\")\n",
    "    else:\n",
    "        print(number, \"is divisible by 2 but not with 3\")\n",
    "        \n",
    "else:\n",
    "    print(\"number is not divisible by both \")   "
   ]
  },
  {
   "cell_type": "markdown",
   "id": "30e2be70",
   "metadata": {},
   "source": [
    "####  and ==> \n",
    "t+ t ==> T\n"
   ]
  },
  {
   "cell_type": "markdown",
   "id": "abd01afc",
   "metadata": {},
   "source": [
    "###  OR\n",
    "t + t =t\n",
    "t+f = t\n",
    "f+t = t\n",
    "F + f = F"
   ]
  },
  {
   "cell_type": "code",
   "execution_count": null,
   "id": "1df92503",
   "metadata": {},
   "outputs": [],
   "source": [
    "4%3"
   ]
  },
  {
   "cell_type": "code",
   "execution_count": null,
   "id": "131d2b9c",
   "metadata": {},
   "outputs": [],
   "source": [
    "# code :\n",
    "number = int(input(\"Enter the number : \"))\n",
    "if (number % 2) == 0 and (number % 3) == 0 :\n",
    "    print(\"number is divisible by both\")\n",
    "    \n",
    "elif (number % 2) == 0 and (number % 3) != 0 :\n",
    "    print(\"number is divisible by only 2\")\n",
    "    \n",
    "elif (number % 2) != 0 and (number % 3) == 0 :\n",
    "    print(\"number is divisible by only 3\")\n",
    "\n",
    "else:\n",
    "    print(\"number is not divisble by both.\")"
   ]
  },
  {
   "cell_type": "markdown",
   "id": "30b61182",
   "metadata": {},
   "source": [
    "## Printing patterns:\n"
   ]
  },
  {
   "cell_type": "markdown",
   "id": "4509bdd2",
   "metadata": {},
   "source": [
    "---\n",
    "'''\n",
    "### Q. print the following patter using loops and if-else statements.\n",
    " \n",
    "    * * * *\n",
    "    * * * *\n",
    "    * * * *\n",
    "    * * * *\n",
    "    \n",
    "'''\n",
    "    "
   ]
  },
  {
   "cell_type": "code",
   "execution_count": null,
   "id": "127034e8",
   "metadata": {},
   "outputs": [],
   "source": [
    "print(\"* \" * 4)"
   ]
  },
  {
   "cell_type": "code",
   "execution_count": null,
   "id": "4139cccd",
   "metadata": {},
   "outputs": [],
   "source": [
    "for i in range(1,5):\n",
    "    print(\"* \" * 4)"
   ]
  },
  {
   "cell_type": "code",
   "execution_count": null,
   "id": "bc6d784c",
   "metadata": {},
   "outputs": [],
   "source": [
    "s1 = \"* \"\n",
    "s2 = \"#\"\n",
    "\n",
    "print(\"* \" *4)"
   ]
  },
  {
   "cell_type": "code",
   "execution_count": null,
   "id": "e4e537d8",
   "metadata": {},
   "outputs": [],
   "source": [
    "for i in range(4):\n",
    "    print(\"* \" *4)"
   ]
  },
  {
   "cell_type": "code",
   "execution_count": null,
   "id": "efe3ab4c",
   "metadata": {},
   "outputs": [],
   "source": [
    "for j in range(4):\n",
    "    for i in range(4):\n",
    "        print(\"* \",end='')\n",
    "    print()"
   ]
  },
  {
   "cell_type": "code",
   "execution_count": null,
   "id": "a884eb1c",
   "metadata": {},
   "outputs": [],
   "source": [
    "i =1\n",
    "while i <=4:\n",
    "    j =1\n",
    "    while j <=4:\n",
    "        print(\"* \",end=\"\")\n",
    "        j +=1\n",
    "    \n",
    "    print()\n",
    "    i+=1\n",
    "    "
   ]
  },
  {
   "cell_type": "code",
   "execution_count": null,
   "id": "1f077127",
   "metadata": {},
   "outputs": [],
   "source": [
    "n = 4\n",
    "for i in range(4):\n",
    "    print(\"* \" *4)"
   ]
  },
  {
   "cell_type": "code",
   "execution_count": null,
   "id": "320c1be2",
   "metadata": {},
   "outputs": [],
   "source": [
    "for i in range(4):\n",
    "    print(\"* \",end=\"\")"
   ]
  },
  {
   "cell_type": "code",
   "execution_count": null,
   "id": "7cdb68f5",
   "metadata": {},
   "outputs": [],
   "source": [
    "n =4\n",
    "for i in range(n):\n",
    "    for j in range(n):\n",
    "        print(\"(^)\", end=\" \")\n",
    "    print()\n",
    "    "
   ]
  },
  {
   "cell_type": "markdown",
   "id": "7a492e94",
   "metadata": {},
   "source": [
    "---\n",
    "'''\n",
    "### Q. print the following patter using loops and if-else statements.\n",
    " \n",
    "    *\n",
    "    * *\n",
    "    * * *\n",
    "    * * * *\n",
    "    \n",
    "'''\n",
    "\n",
    "---"
   ]
  },
  {
   "cell_type": "code",
   "execution_count": null,
   "id": "485d988a",
   "metadata": {},
   "outputs": [],
   "source": [
    "i =1\n",
    "while i <=4:\n",
    "    j = 1\n",
    "    while j <=i:\n",
    "        print(\"*\",end=\" \")\n",
    "        j +=1\n",
    "    print()\n",
    "    i +=1"
   ]
  },
  {
   "cell_type": "code",
   "execution_count": null,
   "id": "1ae07027",
   "metadata": {},
   "outputs": [],
   "source": [
    "print(\"* \" *3)"
   ]
  },
  {
   "cell_type": "code",
   "execution_count": null,
   "id": "b7dfeb1e",
   "metadata": {},
   "outputs": [],
   "source": [
    "n = 4\n",
    "for row in range(1,n+1):\n",
    "    print(\"* \" * row)"
   ]
  },
  {
   "cell_type": "code",
   "execution_count": null,
   "id": "bdbfdb55",
   "metadata": {},
   "outputs": [],
   "source": [
    "n = 4\n",
    "for row in range(1,n+1):\n",
    "    for column in range(row):\n",
    "        print(\"* \",end=\"\")\n",
    "    print()"
   ]
  },
  {
   "cell_type": "code",
   "execution_count": null,
   "id": "1f3e40c2",
   "metadata": {},
   "outputs": [],
   "source": [
    "# write code here\n",
    "n = 4\n",
    "for i in range(1,n+1):\n",
    "    print(\"*\" * i )\n",
    "    \n",
    "n = 5\n",
    "for i in range(n):\n",
    "    for j in range(i+1):\n",
    "        print('*', end=' ')\n",
    "    print()\n"
   ]
  },
  {
   "cell_type": "markdown",
   "id": "26b6a1cd",
   "metadata": {},
   "source": [
    "---\n",
    "\n",
    "'''\n",
    "\n",
    "## Q.Python Program to print star pattern 2\n",
    "\n",
    "\n",
    "    * * * * *\n",
    "    * * * *\n",
    "    * * *\n",
    "    * *\n",
    "    *\n",
    "\n",
    "'''"
   ]
  },
  {
   "cell_type": "code",
   "execution_count": null,
   "id": "c0d27d47",
   "metadata": {},
   "outputs": [],
   "source": [
    "n = 4\n",
    "for i in range(n):\n",
    "    print(\"* \"* (n-i))"
   ]
  },
  {
   "cell_type": "code",
   "execution_count": null,
   "id": "3038fc1a",
   "metadata": {},
   "outputs": [],
   "source": [
    "n=4\n",
    "for i in range(n):\n",
    "    for j in range(n-i):\n",
    "        print(\"* \",end='')\n",
    "    print()"
   ]
  },
  {
   "cell_type": "code",
   "execution_count": null,
   "id": "05dcbb16",
   "metadata": {},
   "outputs": [],
   "source": [
    "i= 1\n",
    "k =5\n",
    "while i <=5:\n",
    "    j = k\n",
    "    while j > 0:\n",
    "        print(\"*\", end= \" \")\n",
    "        j -=1\n",
    "    print()\n",
    "    i +=1\n",
    "    k -=1\n",
    "    "
   ]
  },
  {
   "cell_type": "code",
   "execution_count": null,
   "id": "04ce8de4",
   "metadata": {},
   "outputs": [],
   "source": [
    "n =5\n",
    "for i in range(n):\n",
    "    for j in range(n-i):\n",
    "        print(\"* \",end=\"\")\n",
    "    print()"
   ]
  },
  {
   "cell_type": "code",
   "execution_count": null,
   "id": "738bed86",
   "metadata": {},
   "outputs": [],
   "source": [
    "n = 5\n",
    "for i in range(5):\n",
    "    print(\"* \" * (n-i) )"
   ]
  },
  {
   "cell_type": "code",
   "execution_count": null,
   "id": "0e1cc2a2",
   "metadata": {},
   "outputs": [],
   "source": [
    "n = 5\n",
    "for i in range(n):\n",
    "    for j in range(n-i):\n",
    "        print(\"* \", end=\"\")\n",
    "    print()"
   ]
  },
  {
   "cell_type": "code",
   "execution_count": null,
   "id": "4ab2a717",
   "metadata": {},
   "outputs": [],
   "source": [
    "i = 1\n",
    "n = 5\n",
    "while i <= 5:\n",
    "    k = n\n",
    "    while k >0 :\n",
    "        print(\"* \" ,end=\"\")\n",
    "        k = k-1\n",
    "    print()\n",
    "    n = n-1\n",
    "    i = i +1\n",
    "   \n",
    "\n"
   ]
  },
  {
   "cell_type": "code",
   "execution_count": null,
   "id": "07d2d963",
   "metadata": {},
   "outputs": [],
   "source": [
    "# write code here\n",
    "n = 4\n",
    "for i in range(1,n+1):\n",
    "    print('* ' * n)\n",
    "    n -=1\n",
    "    \n",
    "\n",
    "n = 4   \n",
    "for i in range(n):\n",
    "    for j in range(n-i):\n",
    "        print(\"*\", end=' ')\n",
    "    print()"
   ]
  },
  {
   "cell_type": "markdown",
   "id": "6d0f70b9",
   "metadata": {},
   "source": [
    "\n",
    "---\n",
    "\n",
    "\n",
    "### Q.Python Program to print star Triangle pattern 3\n",
    "\n",
    "     Enter number of rows:5\n",
    "         *\n",
    "        **\n",
    "       ***\n",
    "      ****\n",
    "     *****\n",
    "\n",
    "---\n",
    "'''"
   ]
  },
  {
   "cell_type": "code",
   "execution_count": null,
   "id": "9af5e4dd",
   "metadata": {},
   "outputs": [],
   "source": []
  },
  {
   "cell_type": "code",
   "execution_count": null,
   "id": "9a2517b3",
   "metadata": {},
   "outputs": [],
   "source": []
  },
  {
   "cell_type": "code",
   "execution_count": null,
   "id": "a10850de",
   "metadata": {},
   "outputs": [],
   "source": []
  },
  {
   "cell_type": "code",
   "execution_count": null,
   "id": "cf080ff2",
   "metadata": {},
   "outputs": [],
   "source": []
  },
  {
   "cell_type": "code",
   "execution_count": null,
   "id": "4de1f06d",
   "metadata": {},
   "outputs": [],
   "source": [
    "i =1\n",
    "n = 5\n",
    "while i <=n:\n",
    "    \n",
    "    space = n-i\n",
    "    while space > 0:\n",
    "        print(\" \",end =' ')\n",
    "        space -=1\n",
    "    \n",
    "    star = 1\n",
    "    while star <= i:\n",
    "        print(\"*\",end=\" \")\n",
    "        star +=1\n",
    "        \n",
    "    print()\n",
    "    i +=1"
   ]
  },
  {
   "cell_type": "code",
   "execution_count": null,
   "id": "e47c739c",
   "metadata": {},
   "outputs": [],
   "source": [
    "n =5\n",
    "for i in range(1,n+1):\n",
    "    for space in range(n-i):\n",
    "        print(\" \",end=\" \")\n",
    "    for star in range(i):\n",
    "        print(\"*\",end=\" \")\n",
    "    print()"
   ]
  },
  {
   "cell_type": "code",
   "execution_count": null,
   "id": "3ba36605",
   "metadata": {},
   "outputs": [],
   "source": []
  },
  {
   "cell_type": "code",
   "execution_count": null,
   "id": "48487eec",
   "metadata": {},
   "outputs": [],
   "source": [
    "# USING WHILE LOOP\n",
    "n = 5\n",
    "i = 1\n",
    "while i <= n:\n",
    "    space = 1\n",
    "    while space <= n-i:\n",
    "        print(\" \", end='')\n",
    "        space += 1\n",
    "    \n",
    "    star = 1\n",
    "    while star <= i:\n",
    "        print(\"*\", end=\"\")\n",
    "        star += 1\n",
    "    print()\n",
    "    i += 1  "
   ]
  },
  {
   "cell_type": "code",
   "execution_count": null,
   "id": "efe1bbf6",
   "metadata": {},
   "outputs": [],
   "source": [
    "# USING FOR LOOP\n",
    "n= 5\n",
    "for i in range(1,n+1):\n",
    "    for space in range(n-i):\n",
    "        print(\" \",end='')\n",
    "    for star in range(i):\n",
    "        print(\"*\",end=\"\")\n",
    "    print()"
   ]
  },
  {
   "cell_type": "markdown",
   "id": "5e502913",
   "metadata": {},
   "source": [
    "---"
   ]
  }
 ],
 "metadata": {
  "kernelspec": {
   "display_name": "Python 3 (ipykernel)",
   "language": "python",
   "name": "python3"
  },
  "language_info": {
   "codemirror_mode": {
    "name": "ipython",
    "version": 3
   },
   "file_extension": ".py",
   "mimetype": "text/x-python",
   "name": "python",
   "nbconvert_exporter": "python",
   "pygments_lexer": "ipython3",
   "version": "3.9.16"
  }
 },
 "nbformat": 4,
 "nbformat_minor": 5
}
