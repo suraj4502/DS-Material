{
 "cells": [
  {
   "cell_type": "code",
   "execution_count": 1,
   "id": "953862bf",
   "metadata": {},
   "outputs": [
    {
     "name": "stdout",
     "output_type": "stream",
     "text": [
      "THIS Is a message!\n"
     ]
    }
   ],
   "source": [
    "print(\"THIS Is a message!\")"
   ]
  },
  {
   "cell_type": "code",
   "execution_count": 2,
   "id": "035db919",
   "metadata": {},
   "outputs": [
    {
     "name": "stdout",
     "output_type": "stream",
     "text": [
      "Hello world!\n"
     ]
    }
   ],
   "source": [
    "print(\"Hello world!\")"
   ]
  },
  {
   "cell_type": "markdown",
   "id": "01bf3b06",
   "metadata": {},
   "source": [
    "# Python Basics"
   ]
  },
  {
   "cell_type": "markdown",
   "id": "6adc2742",
   "metadata": {},
   "source": [
    "---\n",
    "## Variables :\n",
    "- Variables are used to store some data.\n",
    "- In Python, you can create a variable by assigning a value to it using the = operator. \n",
    "- For example, x = 5 creates a variable named x and assigns the value 5 to it."
   ]
  },
  {
   "cell_type": "code",
   "execution_count": 8,
   "id": "d703295c",
   "metadata": {},
   "outputs": [],
   "source": [
    "x = 15\n",
    "y = 6\n",
    "name = \"AMAAN\""
   ]
  },
  {
   "cell_type": "code",
   "execution_count": 9,
   "id": "e6741b45",
   "metadata": {},
   "outputs": [
    {
     "name": "stdout",
     "output_type": "stream",
     "text": [
      "THIS IS THE VALUE OF X:  15\n",
      "6\n",
      "21\n",
      "19\n"
     ]
    }
   ],
   "source": [
    "print(\"THIS IS THE VALUE OF X: \",x)\n",
    "print(y)\n",
    "print(x+y)\n",
    "print(x+4)"
   ]
  },
  {
   "cell_type": "markdown",
   "id": "a472bc3c",
   "metadata": {},
   "source": [
    "## KeyWords :\n",
    "- Keywords are reserved words in Python that have special meanings and cannot be used as variable names.\n",
    "- Some examples of keywords in Python are `if, else, for, while, def, class,` etc."
   ]
  },
  {
   "cell_type": "markdown",
   "id": "f9729c5a",
   "metadata": {},
   "source": [
    "## Statements & Comments: \n",
    "- A statement is an instruction that the Python interpreter can execute. For example, `x = 5` is an assignment statement that assigns the value 5 to the variable x. \n",
    "- Comments are lines of text in your code that are ignored by the interpreter and are used to explain what your code does. In Python, you can create a comment by starting a line with the # symbol."
   ]
  },
  {
   "cell_type": "code",
   "execution_count": null,
   "id": "986713ec",
   "metadata": {},
   "outputs": [],
   "source": [
    "x = 5  # this is an assignment statement\n",
    "print(x)\n",
    "\n",
    "# this is a single line comment.\n",
    "\n",
    "'''\n",
    "\n",
    "THIS IS ALSO a COMMENT\n",
    "this is also a comment\n",
    "\n",
    "'''"
   ]
  },
  {
   "cell_type": "markdown",
   "id": "e5d4ccae",
   "metadata": {},
   "source": [
    "## Indentation: \n",
    "- Indentation refers to the use of whitespace at the beginning of a line to define the structure of your code. In Python, indentation is used to define blocks of code, such as the body of a function or loop."
   ]
  },
  {
   "cell_type": "code",
   "execution_count": null,
   "id": "8c27f30a",
   "metadata": {},
   "outputs": [],
   "source": [
    "for i in range(4):\n",
    "    print(i)"
   ]
  },
  {
   "cell_type": "markdown",
   "id": "da090834",
   "metadata": {},
   "source": [
    "## Data types: \n",
    "- Data types refer to the type of data that can be stored in a variable. Some common data types in Python are integers, floats, strings, lists, tuples, dictionaries, etc."
   ]
  },
  {
   "cell_type": "code",
   "execution_count": 10,
   "id": "6cd3c80a",
   "metadata": {},
   "outputs": [],
   "source": [
    "x = 5 #int\n",
    "y = 4.03 #float\n",
    "z = 'string' #string\n",
    "l = [1,2,3,'hello',[1,6,7]]  #list\n",
    "t = (1,2,2,3,'world') #tuples\n",
    "d = {'key1':1,'key2':'hello','key3':44} #dictionary"
   ]
  },
  {
   "cell_type": "code",
   "execution_count": 11,
   "id": "7f5ad2f1",
   "metadata": {},
   "outputs": [
    {
     "name": "stdout",
     "output_type": "stream",
     "text": [
      "{'key1': 1, 'key2': 'hello', 'key3': 44}\n"
     ]
    }
   ],
   "source": [
    "print(d)"
   ]
  },
  {
   "cell_type": "code",
   "execution_count": 12,
   "id": "e7822e35",
   "metadata": {},
   "outputs": [
    {
     "data": {
      "text/plain": [
       "int"
      ]
     },
     "execution_count": 12,
     "metadata": {},
     "output_type": "execute_result"
    }
   ],
   "source": [
    "type(4)"
   ]
  },
  {
   "cell_type": "code",
   "execution_count": 13,
   "id": "bf4edef2",
   "metadata": {},
   "outputs": [
    {
     "name": "stdout",
     "output_type": "stream",
     "text": [
      "<class 'str'>\n"
     ]
    }
   ],
   "source": [
    "a = \"4\"\n",
    "print(type(a))"
   ]
  },
  {
   "cell_type": "code",
   "execution_count": 17,
   "id": "65398042",
   "metadata": {},
   "outputs": [
    {
     "data": {
      "text/plain": [
       "'aman lastname'"
      ]
     },
     "execution_count": 17,
     "metadata": {},
     "output_type": "execute_result"
    }
   ],
   "source": [
    "a = 'aman'\n",
    "b = ' lastname'\n",
    "a+b"
   ]
  },
  {
   "cell_type": "code",
   "execution_count": 21,
   "id": "00e82273",
   "metadata": {},
   "outputs": [
    {
     "data": {
      "text/plain": [
       "9"
      ]
     },
     "execution_count": 21,
     "metadata": {},
     "output_type": "execute_result"
    }
   ],
   "source": [
    "a = '4'\n",
    "b = '5'\n",
    "a = int(a)\n",
    "b = int(b)\n",
    "a+b"
   ]
  },
  {
   "cell_type": "code",
   "execution_count": 22,
   "id": "c7e9760a",
   "metadata": {},
   "outputs": [],
   "source": [
    "students = {'id':[1,2,3,4,5],'Name':['DHRUV','abc','xyz'] ,'AGE' : 19}"
   ]
  },
  {
   "cell_type": "code",
   "execution_count": 23,
   "id": "8f7fa4a9",
   "metadata": {},
   "outputs": [
    {
     "name": "stdout",
     "output_type": "stream",
     "text": [
      "[1, 2, 3, 4, 5]\n"
     ]
    }
   ],
   "source": [
    "print(students['id'])"
   ]
  },
  {
   "cell_type": "code",
   "execution_count": null,
   "id": "eec52a11",
   "metadata": {},
   "outputs": [],
   "source": [
    "class_ ={'id':[1,2,3],'NAME':['DHRUV','xyz','abc']}"
   ]
  },
  {
   "cell_type": "code",
   "execution_count": 24,
   "id": "2bdfae31",
   "metadata": {},
   "outputs": [
    {
     "name": "stdout",
     "output_type": "stream",
     "text": [
      "<class 'str'>\n",
      "<class 'dict'>\n"
     ]
    }
   ],
   "source": [
    "print(type(z))\n",
    "print(type(d))"
   ]
  },
  {
   "cell_type": "code",
   "execution_count": 26,
   "id": "b3ca08d2",
   "metadata": {},
   "outputs": [],
   "source": [
    "list_ = [8,6,7,8,9,4,10]"
   ]
  },
  {
   "cell_type": "code",
   "execution_count": 27,
   "id": "ff3d77b2",
   "metadata": {},
   "outputs": [
    {
     "data": {
      "text/plain": [
       "7"
      ]
     },
     "execution_count": 27,
     "metadata": {},
     "output_type": "execute_result"
    }
   ],
   "source": [
    "len(list_)"
   ]
  },
  {
   "cell_type": "code",
   "execution_count": 28,
   "id": "a97b26a4",
   "metadata": {},
   "outputs": [
    {
     "name": "stdout",
     "output_type": "stream",
     "text": [
      "52\n"
     ]
    }
   ],
   "source": [
    "print(sum(list_))"
   ]
  },
  {
   "cell_type": "markdown",
   "id": "b15d4900",
   "metadata": {},
   "source": [
    "## Static Typing vs Dynamic Typing : \n",
    "- Static typing means that the type of a variable is determined at compile time, before the program is run. \n",
    "- In other words, the programmer must specify the type of each variable when writing the code, and the compiler checks that the operations performed on the variables are valid for their types.\n",
    "- eg : `int x;  x = 5;`\n",
    "- Python is a dynamically typed language, which means that the type of a variable is determined at runtime, and not at compile time like in statically typed languages. \n",
    "- This allows for more flexibility in writing code, but can also lead to runtime errors if you try to perform operations on incompatible types."
   ]
  },
  {
   "cell_type": "markdown",
   "id": "2b42aff8",
   "metadata": {},
   "source": [
    "## Input and output: \n",
    "- Input refers to getting data from the user or from another source, while output refers to displaying data to the user or sending it to another destination. \n",
    "- In Python, you can use the input() function to get input from the user and the print() function to display output."
   ]
  },
  {
   "cell_type": "code",
   "execution_count": 32,
   "id": "2d6f54ba",
   "metadata": {},
   "outputs": [
    {
     "name": "stdout",
     "output_type": "stream",
     "text": [
      "Enter your first name here : abc\n",
      "ENTER LAST NAME : xyz\n",
      "abc xyz\n",
      "this is a message\n"
     ]
    }
   ],
   "source": [
    "fname = input(\"Enter your first name here : \")\n",
    "lname = input(\"ENTER LAST NAME : \")\n",
    "print(fname,end = \" \")\n",
    "print(lname)\n",
    "print(\"this is a message\")\n"
   ]
  },
  {
   "cell_type": "markdown",
   "id": "2844f497",
   "metadata": {},
   "source": [
    "## Operators: \n",
    "- Operators are symbols that perform operations on values. Some common operators in Python are:\n",
    "1. Arithmetic operators : performs mathematical operations.<br>` + - * /  `\n",
    "2. Relational operators : Compare values and return a boolean result. Examples include greater than `(>)`, less than `(<)`, equal to `(==)`, not equal to `(!=)`, etc.\n",
    "3. Assignment operators: Assign values to variables. The most common assignment operator is` = ` .\n",
    "4. Logical operators: Perform logical operations such as AND `(and)`, OR `(or)`, NOT `(not)`.\n",
    "5. Membership operators: Test if a value is a member of a sequence or not. Examples include `in` and `not in`.\n",
    "6. Identity operators: Test if two variables refer to the same object in memory or not. Examples include `is` and `is not`.\n"
   ]
  },
  {
   "cell_type": "code",
   "execution_count": null,
   "id": "f230155a",
   "metadata": {},
   "outputs": [],
   "source": [
    "#Examples :\n",
    "4+5"
   ]
  },
  {
   "cell_type": "code",
   "execution_count": null,
   "id": "5e7a06cc",
   "metadata": {},
   "outputs": [],
   "source": [
    "<="
   ]
  },
  {
   "cell_type": "code",
   "execution_count": 33,
   "id": "c1380f37",
   "metadata": {},
   "outputs": [],
   "source": [
    "x= 4\n",
    "y = 5"
   ]
  },
  {
   "cell_type": "code",
   "execution_count": 34,
   "id": "af7f7492",
   "metadata": {},
   "outputs": [
    {
     "name": "stdout",
     "output_type": "stream",
     "text": [
      "9\n",
      "-1\n",
      "20\n",
      "0.8\n"
     ]
    }
   ],
   "source": [
    "print(x+y)\n",
    "print(x-y)\n",
    "print(x*y)\n",
    "print(x/y)"
   ]
  },
  {
   "cell_type": "code",
   "execution_count": 36,
   "id": "ca6a67a6",
   "metadata": {},
   "outputs": [],
   "source": [
    "my_list = [\"bread\",\"milk\",\"peanut butter\"]\n",
    "\n",
    "if \"bread\" not in my_list:\n",
    "    print(\"YES it is present\")\n",
    "    "
   ]
  },
  {
   "cell_type": "code",
   "execution_count": null,
   "id": "93d4d49b",
   "metadata": {},
   "outputs": [],
   "source": []
  },
  {
   "cell_type": "code",
   "execution_count": 37,
   "id": "b343d02f",
   "metadata": {},
   "outputs": [
    {
     "name": "stdout",
     "output_type": "stream",
     "text": [
      "False\n",
      "True\n",
      "True\n"
     ]
    }
   ],
   "source": [
    "x = [1, 2, 3]\n",
    "y = [1, 2, 3]\n",
    "z = x\n",
    "\n",
    "print(x is y) \n",
    "print(x is z)\n",
    "print(x is not y) \n"
   ]
  },
  {
   "cell_type": "code",
   "execution_count": null,
   "id": "40e77b54",
   "metadata": {},
   "outputs": [],
   "source": [
    "a = [1,2,3,3,4,45,5,5,6,77,8]\n",
    "b = 4\n",
    "for i in a:\n",
    "    if i == b:\n",
    "        print(\"4 is present\")\n",
    "    else:\n",
    "        print(\"4 is not present\")\n",
    "    "
   ]
  },
  {
   "cell_type": "markdown",
   "id": "bf552d0f",
   "metadata": {},
   "source": [
    "---"
   ]
  },
  {
   "cell_type": "markdown",
   "id": "eb455654",
   "metadata": {},
   "source": [
    "# Control Flow :\n",
    "- Control flow refers to the order in which statements are executed in a program. \n",
    "- In Python, you can use conditional statements and loops to control the flow of your program."
   ]
  },
  {
   "cell_type": "markdown",
   "id": "ef187a28",
   "metadata": {},
   "source": [
    "--- \n",
    "## If statement: \n",
    "- The if statement is used to execute a block of code only if a certain condition is true."
   ]
  },
  {
   "cell_type": "code",
   "execution_count": 47,
   "id": "d154be8b",
   "metadata": {},
   "outputs": [
    {
     "name": "stdout",
     "output_type": "stream",
     "text": [
      "ENTER a number : 0\n",
      "X is zero\n"
     ]
    }
   ],
   "source": [
    "x = int(input(\"ENTER a number : \"))\n",
    "if x > 0:\n",
    "    print(\"x is positive\")\n",
    "    print(\"THIS IS A STATement that will run only if the condition is true.\")\n",
    "elif x < 0 :\n",
    "    print(\"X is negative.\")\n",
    "else:\n",
    "    print(\"X is zero\")\n",
    "    "
   ]
  },
  {
   "cell_type": "markdown",
   "id": "3b934e5b",
   "metadata": {},
   "source": [
    "---\n",
    "## If-else: \n",
    "- The if-else statement is used to execute one block of code if a condition is true, and another block of code if the condition is false."
   ]
  },
  {
   "cell_type": "code",
   "execution_count": null,
   "id": "74dcd0a5",
   "metadata": {},
   "outputs": [],
   "source": [
    "x = -5\n",
    "if x > 0:\n",
    "    print(\"x is positive\")\n",
    "else:\n",
    "    print(\"x is not positive\")\n"
   ]
  },
  {
   "cell_type": "markdown",
   "id": "ff9e4829",
   "metadata": {},
   "source": [
    "---\n",
    "## If-elif-else: \n",
    "- The if-elif-else statement is used to test multiple conditions and execute different blocks of code depending on which condition is true."
   ]
  },
  {
   "cell_type": "code",
   "execution_count": 3,
   "id": "8a0ee7e6",
   "metadata": {},
   "outputs": [
    {
     "name": "stdout",
     "output_type": "stream",
     "text": [
      "x is zero\n"
     ]
    }
   ],
   "source": [
    "x = 0\n",
    "if x > 0:\n",
    "    print(\"x is positive\")\n",
    "elif x < 0:\n",
    "    print(\"x is negative\")\n",
    "else:\n",
    "    print(\"x is zero\")\n"
   ]
  },
  {
   "cell_type": "markdown",
   "id": "b0c02cff",
   "metadata": {},
   "source": [
    "---\n",
    "## Nested if-else: \n",
    "- You can nest if-else statements inside other if-else statements to test multiple conditions in a hierarchical manner."
   ]
  },
  {
   "cell_type": "code",
   "execution_count": 49,
   "id": "4e258b54",
   "metadata": {},
   "outputs": [
    {
     "name": "stdout",
     "output_type": "stream",
     "text": [
      "x is not positive\n"
     ]
    }
   ],
   "source": [
    "x = -1\n",
    "y = -1\n",
    "if x > 0:\n",
    "    if y > 0:\n",
    "        print(\"x and y is positive.\") \n",
    "    else:\n",
    "        print(\"x is positive but y is not positive\")\n",
    "else:\n",
    "    print(\"x is not positive\")\n"
   ]
  },
  {
   "cell_type": "code",
   "execution_count": 50,
   "id": "abae6a09",
   "metadata": {},
   "outputs": [
    {
     "name": "stdout",
     "output_type": "stream",
     "text": [
      "BHai chup chap kuch ache numbers de..\n"
     ]
    }
   ],
   "source": [
    "x = 0\n",
    "y = -1\n",
    "if x > 0 and y > 0:\n",
    "    print(\"BOTH values are positive\")\n",
    "elif x >0 and y < 0 :\n",
    "    print(\"x is postive and y is negative\")\n",
    "elif x < 0 and y > 0 :\n",
    "    print(\"x is negative but y is postive.\")\n",
    "else:\n",
    "    print(\"BHai chup chap kuch ache numbers de..\")\n",
    "\n",
    "    "
   ]
  },
  {
   "cell_type": "code",
   "execution_count": null,
   "id": "09d0f8bd",
   "metadata": {},
   "outputs": [],
   "source": []
  },
  {
   "cell_type": "code",
   "execution_count": null,
   "id": "d673045f",
   "metadata": {},
   "outputs": [],
   "source": []
  },
  {
   "cell_type": "code",
   "execution_count": null,
   "id": "e7faeac1",
   "metadata": {},
   "outputs": [],
   "source": []
  },
  {
   "cell_type": "code",
   "execution_count": null,
   "id": "d09470b0",
   "metadata": {},
   "outputs": [],
   "source": []
  },
  {
   "cell_type": "markdown",
   "id": "f0512b11",
   "metadata": {},
   "source": [
    "---\n",
    "## While loop: \n",
    "- The while loop repeatedly executes a block of code as long as a certain condition remains true. "
   ]
  },
  {
   "cell_type": "code",
   "execution_count": 12,
   "id": "aefca229",
   "metadata": {},
   "outputs": [
    {
     "name": "stdout",
     "output_type": "stream",
     "text": [
      "1\n",
      "3\n",
      "5\n",
      "7\n",
      "9\n",
      "11\n",
      "13\n",
      "15\n",
      "17\n",
      "19\n"
     ]
    }
   ],
   "source": [
    "i =1\n",
    "while i <= 20:\n",
    "    if i % 2 != 0:\n",
    "        print(i)\n",
    "    i = i+1"
   ]
  },
  {
   "cell_type": "code",
   "execution_count": 52,
   "id": "8d336959",
   "metadata": {},
   "outputs": [
    {
     "name": "stdout",
     "output_type": "stream",
     "text": [
      "1\n",
      "2\n",
      "3\n",
      "4\n",
      "5\n"
     ]
    }
   ],
   "source": [
    "i = 1\n",
    "while i <= 5:\n",
    "    print(i)\n",
    "#     i += 1\n",
    "    i = i +1"
   ]
  },
  {
   "cell_type": "markdown",
   "id": "1ce9bb52",
   "metadata": {},
   "source": [
    "---\n",
    "## For loop :\n",
    "- The for loop is used to iterate over a sequence (such as a list, tuple, or string) or other iterable object, and execute a block of code for each item in the sequence."
   ]
  },
  {
   "cell_type": "code",
   "execution_count": 53,
   "id": "30a7683a",
   "metadata": {},
   "outputs": [
    {
     "name": "stdout",
     "output_type": "stream",
     "text": [
      "bread\n",
      "milk\n",
      "eggs\n"
     ]
    }
   ],
   "source": [
    "shopping_list = ['bread','milk','eggs']\n",
    "for single_element in shopping_list:\n",
    "    print(single_element)"
   ]
  },
  {
   "cell_type": "code",
   "execution_count": 16,
   "id": "55cc07f1",
   "metadata": {},
   "outputs": [
    {
     "name": "stdout",
     "output_type": "stream",
     "text": [
      "2 4 6 8 10 12 14 16 18 20 "
     ]
    }
   ],
   "source": [
    "for each_number in range(1,21):\n",
    "    if each_number % 2 == 0:\n",
    "        print(each_number,end=\" \")"
   ]
  },
  {
   "cell_type": "code",
   "execution_count": 65,
   "id": "da493faf",
   "metadata": {},
   "outputs": [
    {
     "name": "stdout",
     "output_type": "stream",
     "text": [
      "1 2 3 4 5 "
     ]
    }
   ],
   "source": [
    "# numbers = [1, 2, 3, 4, 5] \n",
    "for i in range(1,6):\n",
    "    print(i,end=' ')"
   ]
  },
  {
   "cell_type": "code",
   "execution_count": 66,
   "id": "ef92f568",
   "metadata": {},
   "outputs": [
    {
     "name": "stdout",
     "output_type": "stream",
     "text": [
      "2\n",
      "3\n",
      "4\n",
      "5\n"
     ]
    }
   ],
   "source": [
    "for i in range(2,6):\n",
    "    print(i)"
   ]
  },
  {
   "cell_type": "code",
   "execution_count": null,
   "id": "66a6a396",
   "metadata": {},
   "outputs": [],
   "source": [
    "1 2 3 4 5 \n",
    "2\n",
    "3\n",
    "4\n",
    "5"
   ]
  },
  {
   "cell_type": "code",
   "execution_count": 68,
   "id": "cc9cef15",
   "metadata": {},
   "outputs": [
    {
     "name": "stdout",
     "output_type": "stream",
     "text": [
      "1 2 3 4 5 6 7 8 9 10 \n",
      "2\n",
      "3\n",
      "4\n",
      "5\n",
      "6\n",
      "7\n",
      "8\n",
      "9\n",
      "10\n"
     ]
    }
   ],
   "source": [
    "for i in range(1,11):\n",
    "    print(i,end=' ')\n",
    "print()\n",
    "for i in range(2,11):\n",
    "    print(i)\n",
    "    "
   ]
  },
  {
   "cell_type": "markdown",
   "id": "0ab458db",
   "metadata": {},
   "source": [
    "## Nested for loop: \n",
    "- You can nest one for loop inside another for loop to iterate over multiple sequences at once."
   ]
  },
  {
   "cell_type": "code",
   "execution_count": null,
   "id": "73da5c71",
   "metadata": {},
   "outputs": [],
   "source": [
    "1 2 3 4 5 6 7 8 9\n",
    "1 2 3 4 5 6 7 8 9\n",
    "1 2 3 4 5 6 7 8 9"
   ]
  },
  {
   "cell_type": "code",
   "execution_count": 76,
   "id": "ad6d30ef",
   "metadata": {},
   "outputs": [
    {
     "name": "stdout",
     "output_type": "stream",
     "text": [
      "1 2 3 4 5 6 7 8 9 \n",
      "1 2 3 4 5 6 7 8 9 \n",
      "1 2 3 4 5 6 7 8 9 \n"
     ]
    }
   ],
   "source": [
    "# 1--9\n",
    "for j in range(3):\n",
    "    for i in range(1,10):\n",
    "        print(i,end = ' ')\n",
    "    print()"
   ]
  },
  {
   "cell_type": "code",
   "execution_count": 27,
   "id": "907de084",
   "metadata": {},
   "outputs": [],
   "source": [
    "i = 0,1,2\n",
    "j = 0,1,2"
   ]
  },
  {
   "cell_type": "markdown",
   "id": "2f16fe6b",
   "metadata": {},
   "source": [
    "## Nested while loop: \n",
    "- Similarly to nested for loops, you can also nest one while loop inside another while loop."
   ]
  },
  {
   "cell_type": "code",
   "execution_count": 79,
   "id": "c60b8dbd",
   "metadata": {},
   "outputs": [
    {
     "name": "stdout",
     "output_type": "stream",
     "text": [
      "1 1\n",
      "1 2\n",
      "2 1\n",
      "2 2\n",
      "ended\n"
     ]
    }
   ],
   "source": [
    "i = 1\n",
    "while i <= 2:\n",
    "    j = 1\n",
    "    while j <= 2:\n",
    "        print(i,j)\n",
    "        j +=1\n",
    "        \n",
    "    i +=1\n",
    "\n",
    "print(\"ended\")\n"
   ]
  },
  {
   "cell_type": "markdown",
   "id": "fed5aafb",
   "metadata": {},
   "source": [
    "## Loop with else: \n",
    "- In Python, you can use an else statement with a loop. The code in the else block is executed when the loop finishes normally (i.e., when the condition becomes false), but not when the loop is terminated by a break statement. "
   ]
  },
  {
   "cell_type": "code",
   "execution_count": null,
   "id": "876feee3",
   "metadata": {},
   "outputs": [],
   "source": [
    "for i in range(3):\n",
    "    print(i)\n",
    "else:\n",
    "    print(\"The loop finished normally\")"
   ]
  },
  {
   "cell_type": "markdown",
   "id": "1f680764",
   "metadata": {},
   "source": [
    "---\n",
    "## Pass statement: \n",
    "- The pass statement is a placeholder statement that does nothing. It is used when you need a statement in your code for syntactic reasons, but you don’t want the statement to do anything."
   ]
  },
  {
   "cell_type": "code",
   "execution_count": null,
   "id": "38aa11eb",
   "metadata": {},
   "outputs": [],
   "source": [
    "x = 5\n",
    "if x > 0:\n",
    "    pass\n"
   ]
  },
  {
   "cell_type": "markdown",
   "id": "5ca00d11",
   "metadata": {},
   "source": [
    "--- \n",
    "## Break and continue: \n",
    "- The break and continue statements are used to control the flow of execution inside loops.\n",
    "- The break statement terminates the innermost loop and transfers control to the next statement after the loop. \n",
    "- The continue statement skips the rest of the current iteration of the loop and moves on to the next iteration."
   ]
  },
  {
   "cell_type": "code",
   "execution_count": null,
   "id": "716c81de",
   "metadata": {},
   "outputs": [],
   "source": [
    "for i in range(5):\n",
    "    if i == 3:\n",
    "        break\n",
    "    print(i)\n"
   ]
  },
  {
   "cell_type": "code",
   "execution_count": null,
   "id": "81b2c0ae",
   "metadata": {},
   "outputs": [],
   "source": [
    "for i in range(5):\n",
    "    if i == 3:\n",
    "        continue\n",
    "    print(i)\n"
   ]
  },
  {
   "cell_type": "markdown",
   "id": "41216fa0",
   "metadata": {},
   "source": [
    " ## create a program that takes a number as input and checks its divisibility with 2 and 3."
   ]
  },
  {
   "cell_type": "code",
   "execution_count": null,
   "id": "99ddf1b1",
   "metadata": {},
   "outputs": [],
   "source": [
    "# code :\n",
    "number = int(input(\"Enter the number : \"))\n",
    "if (number % 2) == 0:\n",
    "    if (number % 3) == 0:\n",
    "        print(number,\" is divisble by 2 and 3\")\n",
    "    else:\n",
    "        print(number, \"is divisible by 2 but not with 3\")\n",
    "        \n",
    "else:\n",
    "    print(\"number is not divisible by both \")   "
   ]
  },
  {
   "cell_type": "code",
   "execution_count": null,
   "id": "131d2b9c",
   "metadata": {},
   "outputs": [],
   "source": [
    "number = int(input(\"Enter the number : \"))\n",
    "if (number % 2) == 0 and (number % 3) == 0 :\n",
    "    print(number, \"is divisible by 2 and 3\")\n",
    "else:\n",
    "    print(\"number is not divisible by any or both \")  "
   ]
  },
  {
   "cell_type": "code",
   "execution_count": null,
   "id": "b3073180",
   "metadata": {},
   "outputs": [],
   "source": []
  },
  {
   "cell_type": "markdown",
   "id": "30b61182",
   "metadata": {},
   "source": [
    "## Printing patterns:\n"
   ]
  },
  {
   "cell_type": "markdown",
   "id": "4509bdd2",
   "metadata": {},
   "source": [
    "---\n",
    "'''\n",
    "### Q. print the following patter using loops and if-else statements.\n",
    " \n",
    "    * * * *\n",
    "    * * * *\n",
    "    * * * *\n",
    "    * * * *\n",
    "    \n",
    "'''\n",
    "    "
   ]
  },
  {
   "cell_type": "code",
   "execution_count": null,
   "id": "3c249e98",
   "metadata": {},
   "outputs": [],
   "source": [
    "a = '4'\n",
    "a *4"
   ]
  },
  {
   "cell_type": "code",
   "execution_count": null,
   "id": "8a027d90",
   "metadata": {},
   "outputs": [],
   "source": [
    "n = 4\n",
    "for i in range(1,n+1):\n",
    "    print('x ' * n)\n",
    "       "
   ]
  },
  {
   "cell_type": "code",
   "execution_count": null,
   "id": "84bf09ab",
   "metadata": {},
   "outputs": [],
   "source": [
    "for i in range(6):\n",
    "    for j in range(6):\n",
    "        print(\"* \",end='')\n",
    "    print()"
   ]
  },
  {
   "cell_type": "markdown",
   "id": "7a492e94",
   "metadata": {},
   "source": [
    "---\n",
    "'''\n",
    "### Q. print the following patter using loops and if-else statements.\n",
    " \n",
    "    *\n",
    "    * *\n",
    "    * * *\n",
    "    * * * *\n",
    "    \n",
    "'''\n",
    "\n",
    "---"
   ]
  },
  {
   "cell_type": "code",
   "execution_count": null,
   "id": "1f3e40c2",
   "metadata": {},
   "outputs": [],
   "source": [
    "# write code here\n",
    "n = 4\n",
    "for i in range(1,n+1):\n",
    "    print(\"*\" * i )\n",
    "    \n",
    "n = 5\n",
    "for i in range(n):\n",
    "    for j in range(i+1):\n",
    "        print('*', end=' ')\n",
    "    print()\n"
   ]
  },
  {
   "cell_type": "markdown",
   "id": "26b6a1cd",
   "metadata": {},
   "source": [
    "---\n",
    "\n",
    "'''\n",
    "\n",
    "## Q.Python Program to print star pattern 2\n",
    "\n",
    "\n",
    "    * * * * *\n",
    "    * * * *\n",
    "    * * *\n",
    "    * *\n",
    "    *\n",
    "\n",
    "'''"
   ]
  },
  {
   "cell_type": "code",
   "execution_count": null,
   "id": "07d2d963",
   "metadata": {},
   "outputs": [],
   "source": [
    "# write code here\n",
    "n = 4\n",
    "for i in range(1,n+1):\n",
    "    print('* ' * n)\n",
    "    n -=1\n",
    "    \n",
    "\n",
    "n = 4   \n",
    "for i in range(n):\n",
    "    for j in range(n-i):\n",
    "        print(\"*\", end=' ')\n",
    "    print()"
   ]
  },
  {
   "cell_type": "markdown",
   "id": "6d0f70b9",
   "metadata": {},
   "source": [
    "\n",
    "---\n",
    "\n",
    "\n",
    "### Q.Python Program to print star Triangle pattern 3\n",
    "\n",
    "     Enter number of rows:5\n",
    "         *\n",
    "        **\n",
    "       ***\n",
    "      ****\n",
    "     *****\n",
    "\n",
    "---\n",
    "'''"
   ]
  },
  {
   "cell_type": "code",
   "execution_count": null,
   "id": "48487eec",
   "metadata": {},
   "outputs": [],
   "source": [
    "# USING WHILE LOOP\n",
    "n = 5\n",
    "i = 1\n",
    "while i <= n:\n",
    "    space = 1\n",
    "    while space <= n-i:\n",
    "        print(\" \", end='')\n",
    "        space += 1\n",
    "    \n",
    "    star = 1\n",
    "    while star <= i:\n",
    "        print(\"*\", end=\"\")\n",
    "        star += 1\n",
    "    print()\n",
    "    i += 1  "
   ]
  },
  {
   "cell_type": "code",
   "execution_count": null,
   "id": "efe1bbf6",
   "metadata": {},
   "outputs": [],
   "source": [
    "# USING FOR LOOP\n",
    "n= 5\n",
    "for i in range(1,n+1):\n",
    "    for space in range(n-i):\n",
    "        print(\" \",end='')\n",
    "    for star in range(i):\n",
    "        print(\"*\",end=\"\")\n",
    "    print()"
   ]
  },
  {
   "cell_type": "markdown",
   "id": "5e502913",
   "metadata": {},
   "source": [
    "---"
   ]
  }
 ],
 "metadata": {
  "kernelspec": {
   "display_name": "Python 3 (ipykernel)",
   "language": "python",
   "name": "python3"
  },
  "language_info": {
   "codemirror_mode": {
    "name": "ipython",
    "version": 3
   },
   "file_extension": ".py",
   "mimetype": "text/x-python",
   "name": "python",
   "nbconvert_exporter": "python",
   "pygments_lexer": "ipython3",
   "version": "3.9.16"
  }
 },
 "nbformat": 4,
 "nbformat_minor": 5
}
