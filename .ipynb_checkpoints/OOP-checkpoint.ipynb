{
 "cells": [
  {
   "cell_type": "code",
   "execution_count": 1,
   "id": "89ef2297",
   "metadata": {},
   "outputs": [],
   "source": [
    "l = list([1,2,3,4])"
   ]
  },
  {
   "cell_type": "code",
   "execution_count": 2,
   "id": "79e914de",
   "metadata": {},
   "outputs": [
    {
     "ename": "AttributeError",
     "evalue": "'list' object has no attribute 'upper'",
     "output_type": "error",
     "traceback": [
      "\u001b[1;31m---------------------------------------------------------------------------\u001b[0m",
      "\u001b[1;31mAttributeError\u001b[0m                            Traceback (most recent call last)",
      "Cell \u001b[1;32mIn[2], line 1\u001b[0m\n\u001b[1;32m----> 1\u001b[0m \u001b[43ml\u001b[49m\u001b[38;5;241;43m.\u001b[39;49m\u001b[43mupper\u001b[49m()\n",
      "\u001b[1;31mAttributeError\u001b[0m: 'list' object has no attribute 'upper'"
     ]
    }
   ],
   "source": [
    "l.upper()"
   ]
  },
  {
   "cell_type": "code",
   "execution_count": 3,
   "id": "eedab1f7",
   "metadata": {},
   "outputs": [
    {
     "name": "stdout",
     "output_type": "stream",
     "text": [
      "<class 'list'>\n"
     ]
    }
   ],
   "source": [
    "print(type(l))"
   ]
  },
  {
   "cell_type": "code",
   "execution_count": 4,
   "id": "d76738fa",
   "metadata": {},
   "outputs": [
    {
     "name": "stdout",
     "output_type": "stream",
     "text": [
      "<class 'str'>\n"
     ]
    }
   ],
   "source": [
    "string = 'str'\n",
    "print(type(string))"
   ]
  },
  {
   "cell_type": "code",
   "execution_count": 5,
   "id": "5b42a321",
   "metadata": {},
   "outputs": [
    {
     "ename": "AttributeError",
     "evalue": "'str' object has no attribute 'append'",
     "output_type": "error",
     "traceback": [
      "\u001b[1;31m---------------------------------------------------------------------------\u001b[0m",
      "\u001b[1;31mAttributeError\u001b[0m                            Traceback (most recent call last)",
      "Cell \u001b[1;32mIn[5], line 1\u001b[0m\n\u001b[1;32m----> 1\u001b[0m \u001b[43mstring\u001b[49m\u001b[38;5;241;43m.\u001b[39;49m\u001b[43mappend\u001b[49m()\n",
      "\u001b[1;31mAttributeError\u001b[0m: 'str' object has no attribute 'append'"
     ]
    }
   ],
   "source": [
    "string.append()"
   ]
  },
  {
   "cell_type": "markdown",
   "id": "4bf7ffe1",
   "metadata": {},
   "source": [
    "# Object Oriented Programming :\n",
    "- Object-Oriented Programming is a way of organizing and designing code in Python (and many other programming languages) that mimics how we think about and interact with objects in the real world. \n",
    "- In OOP, we create \"objects\" that represent real-world entities, and these objects have \"attributes\" (characteristics) and \"methods\" (actions) that define their behavior.\n",
    "- It brings structure, organization, and reusability to our code, making it more efficient and easier to manage.\n",
    "- OOP is a fundamental concept in modern programming and widely used in creating complex applications and software systems."
   ]
  },
  {
   "cell_type": "markdown",
   "id": "5749efed",
   "metadata": {},
   "source": [
    "### 1. Class:\n",
    "- In OOP, a class is like a blueprint that defines the structure of an object. \n",
    "- A class describes what a specific type of object can do and what attributes it has. \n",
    "- For example, the DOG class will describe what a Dog is and what attributes and methods it should have."
   ]
  },
  {
   "cell_type": "code",
   "execution_count": 10,
   "id": "6433cd25",
   "metadata": {},
   "outputs": [],
   "source": [
    "class Car:\n",
    "    def __init__(self, make, model, color):  # CONSTRUCTOR / MAGIC METHOD\n",
    "        self.make = make\n",
    "        self.model = model\n",
    "        self.color = color\n",
    "    \n",
    "    def accerlarate(self):\n",
    "        print(f\"{self.model} is accelerating....\")\n",
    "    \n",
    "    def brake(self):\n",
    "        print(f\"{self.model} stopped....\")\n",
    "        "
   ]
  },
  {
   "cell_type": "code",
   "execution_count": 11,
   "id": "531f0b4d",
   "metadata": {},
   "outputs": [],
   "source": [
    "car1 = Car('BMW','sedan','red')"
   ]
  },
  {
   "cell_type": "code",
   "execution_count": 12,
   "id": "8541f19e",
   "metadata": {},
   "outputs": [
    {
     "data": {
      "text/plain": [
       "'BMW'"
      ]
     },
     "execution_count": 12,
     "metadata": {},
     "output_type": "execute_result"
    }
   ],
   "source": [
    "car1.make"
   ]
  },
  {
   "cell_type": "code",
   "execution_count": 13,
   "id": "428ab1f7",
   "metadata": {},
   "outputs": [
    {
     "name": "stdout",
     "output_type": "stream",
     "text": [
      "sedan stopped....\n"
     ]
    }
   ],
   "source": [
    "car1.brake()"
   ]
  },
  {
   "cell_type": "code",
   "execution_count": 14,
   "id": "b0515d1b",
   "metadata": {},
   "outputs": [],
   "source": [
    "car2 = Car('ROlls ROYACE','FANTOM','BLACK')"
   ]
  },
  {
   "cell_type": "code",
   "execution_count": 16,
   "id": "42fe83f1",
   "metadata": {},
   "outputs": [
    {
     "name": "stdout",
     "output_type": "stream",
     "text": [
      "FANTOM is accelerating....\n"
     ]
    }
   ],
   "source": [
    "car2.accerlarate()"
   ]
  },
  {
   "cell_type": "code",
   "execution_count": 9,
   "id": "d031b917",
   "metadata": {},
   "outputs": [
    {
     "name": "stdout",
     "output_type": "stream",
     "text": [
      "sedan is accelerating....\n"
     ]
    }
   ],
   "source": [
    "car1.accerlarate()"
   ]
  },
  {
   "cell_type": "code",
   "execution_count": 17,
   "id": "d0aa4269",
   "metadata": {},
   "outputs": [],
   "source": [
    "class Dog:\n",
    "    def __init__(self, name, age, breed):\n",
    "        self.name = name\n",
    "        self.age = age\n",
    "        self.breed = breed\n",
    "        print(\"OBJECT CREATED..\")\n",
    "        \n",
    "    def bark(self):\n",
    "        return \"Woof! Woof!\"\n",
    "\n",
    "    def fetch(self, item):\n",
    "        return f\"{self.name} fetches the {item}.\"\n",
    "    \n",
    "    def greet(self,name):\n",
    "        return f\"{self.name} greets {name}.\"\n",
    "    \n",
    "    def bite(self,name):\n",
    "        return f\"{self.name} bites {name}.\"\n"
   ]
  },
  {
   "cell_type": "markdown",
   "id": "d6e106d8",
   "metadata": {},
   "source": [
    "### 2. Object:\n",
    "- An object is a specific instance created from a class. \n",
    "- In our Dog example, each individual dog we create will be an object. \n",
    "- Each dog object will have its own unique name, age, and breed."
   ]
  },
  {
   "cell_type": "code",
   "execution_count": 18,
   "id": "551e7a1f",
   "metadata": {},
   "outputs": [
    {
     "name": "stdout",
     "output_type": "stream",
     "text": [
      "OBJECT CREATED..\n",
      "OBJECT CREATED..\n"
     ]
    }
   ],
   "source": [
    "dog1 = Dog(\"Buddy\", 3, \"Labrador\")\n",
    "dog2 = Dog(\"Max\", 5, \"Golden Retriever\")"
   ]
  },
  {
   "cell_type": "code",
   "execution_count": 19,
   "id": "5ad55ce9",
   "metadata": {},
   "outputs": [
    {
     "data": {
      "text/plain": [
       "'Woof! Woof!'"
      ]
     },
     "execution_count": 19,
     "metadata": {},
     "output_type": "execute_result"
    }
   ],
   "source": [
    "dog2.bark()"
   ]
  },
  {
   "cell_type": "code",
   "execution_count": 20,
   "id": "502bdb46",
   "metadata": {},
   "outputs": [
    {
     "data": {
      "text/plain": [
       "'Woof! Woof!'"
      ]
     },
     "execution_count": 20,
     "metadata": {},
     "output_type": "execute_result"
    }
   ],
   "source": [
    "dog1.bark()"
   ]
  },
  {
   "cell_type": "code",
   "execution_count": 22,
   "id": "c4be2b11",
   "metadata": {},
   "outputs": [
    {
     "data": {
      "text/plain": [
       "'Max'"
      ]
     },
     "execution_count": 22,
     "metadata": {},
     "output_type": "execute_result"
    }
   ],
   "source": [
    "dog2.name"
   ]
  },
  {
   "cell_type": "code",
   "execution_count": 23,
   "id": "70a4d22d",
   "metadata": {},
   "outputs": [
    {
     "data": {
      "text/plain": [
       "'Max greets atharva.'"
      ]
     },
     "execution_count": 23,
     "metadata": {},
     "output_type": "execute_result"
    }
   ],
   "source": [
    "dog2.greet('atharva')"
   ]
  },
  {
   "cell_type": "code",
   "execution_count": 21,
   "id": "94284f5d",
   "metadata": {},
   "outputs": [
    {
     "data": {
      "text/plain": [
       "'Max bites atharva.'"
      ]
     },
     "execution_count": 21,
     "metadata": {},
     "output_type": "execute_result"
    }
   ],
   "source": [
    "dog2.bite('atharva')"
   ]
  },
  {
   "cell_type": "code",
   "execution_count": null,
   "id": "57193ea5",
   "metadata": {},
   "outputs": [],
   "source": [
    "dog1.greet('abc')"
   ]
  },
  {
   "cell_type": "code",
   "execution_count": null,
   "id": "08d313e7",
   "metadata": {},
   "outputs": [],
   "source": [
    "dog2.greet('xyz')"
   ]
  },
  {
   "cell_type": "markdown",
   "id": "87b0f13a",
   "metadata": {},
   "source": [
    "### 3. Attributes:\n",
    "- Attributes are characteristics of an object. \n",
    "- In our Dog example, the attributes are the name, age, and breed of each dog.\n",
    "- They help describe the dog's identity."
   ]
  },
  {
   "cell_type": "code",
   "execution_count": null,
   "id": "266d40ce",
   "metadata": {},
   "outputs": [],
   "source": [
    "print(dog1.name)  # Output: \"Buddy\"\n",
    "print(dog2.age)   # Output: 5\n"
   ]
  },
  {
   "cell_type": "markdown",
   "id": "6ba38d20",
   "metadata": {},
   "source": [
    "### 4. Methods:\n",
    "- Methods are actions that an object can perform. \n",
    "- In our Dog example, methods could be actions like barking or fetching an item.\n",
    "- Methods define what the dog can do."
   ]
  },
  {
   "cell_type": "code",
   "execution_count": null,
   "id": "a9d24141",
   "metadata": {},
   "outputs": [],
   "source": [
    "print(dog1.bark())  # Output: \"Woof! Woof!\"\n",
    "print(dog2.fetch(\"ball\"))  # Output: \"Max fetches the ball.\""
   ]
  },
  {
   "cell_type": "markdown",
   "id": "f28a9e1c",
   "metadata": {},
   "source": [
    "### Advantages of OOP:\n",
    "\n",
    "**OOP provides several benefits, including:**\n",
    "\n",
    "1. `Code Reusability:` You can create multiple objects from a single class, promoting code reuse and reducing duplication.\n",
    "2. `Modularity:` OOP allows you to divide your code into small, manageable pieces (objects), making it easier to maintain and understand.\n",
    "3. `Encapsulation:` Encapsulation hides the internal details of an object, making it easier to use and less prone to errors.\n",
    "4. `Inheritance:` Inheritance allows you to create new classes that inherit attributes and methods from existing classes, promoting code reuse and extending functionality.\n",
    "5. `Polymorphism:` Polymorphism allows you to use objects of different classes interchangeably, providing flexibility in coding."
   ]
  },
  {
   "cell_type": "code",
   "execution_count": null,
   "id": "aa7d3a96",
   "metadata": {},
   "outputs": [],
   "source": [
    "str.append()"
   ]
  },
  {
   "cell_type": "code",
   "execution_count": null,
   "id": "a1c8dba3",
   "metadata": {},
   "outputs": [],
   "source": [
    "list.upper()"
   ]
  },
  {
   "cell_type": "code",
   "execution_count": 24,
   "id": "0ff4360d",
   "metadata": {},
   "outputs": [],
   "source": [
    "class Account:\n",
    "    def __init__(self,a_number, c_name, balance):\n",
    "        self.accoun_number = a_number\n",
    "        self.customer_name = c_name\n",
    "        self.balance = balance\n",
    "        \n",
    "    def deposit(self, amount : float) -> float:\n",
    "        self.balance += amount\n",
    "        print(\"Successfully Deposited\")\n",
    "        \n",
    "    def withdraw(self, amount):\n",
    "        if amount < self.balance:\n",
    "            self.balance -= amount\n",
    "            print(f\"Successfully withdrawn {amount}\")\n",
    "        else:\n",
    "            print(\"Gareeb\")\n",
    "            \n",
    "    def get_balance(self):\n",
    "        return self.balance\n",
    "    \n",
    "    def display_info(self):\n",
    "        print(f\"Your account number is : {self.accoun_number}\")\n",
    "        print(f\"Your balance is : {self.balance}\")\n",
    "        print(f\"YOur name is : {self.customer_name}\")"
   ]
  },
  {
   "cell_type": "code",
   "execution_count": 25,
   "id": "e36187f7",
   "metadata": {},
   "outputs": [],
   "source": [
    "c1 = Account('122334455', 'Justin', 2000)"
   ]
  },
  {
   "cell_type": "code",
   "execution_count": 26,
   "id": "17c1b73c",
   "metadata": {},
   "outputs": [
    {
     "name": "stdout",
     "output_type": "stream",
     "text": [
      "Successfully Deposited\n"
     ]
    }
   ],
   "source": [
    "c1.deposit(500)"
   ]
  },
  {
   "cell_type": "code",
   "execution_count": 27,
   "id": "f9d61c4b",
   "metadata": {},
   "outputs": [
    {
     "data": {
      "text/plain": [
       "2500"
      ]
     },
     "execution_count": 27,
     "metadata": {},
     "output_type": "execute_result"
    }
   ],
   "source": [
    "c1.balance"
   ]
  },
  {
   "cell_type": "code",
   "execution_count": 28,
   "id": "e01a6ef0",
   "metadata": {},
   "outputs": [
    {
     "name": "stdout",
     "output_type": "stream",
     "text": [
      "Successfully withdrawn 600\n"
     ]
    }
   ],
   "source": [
    "c1.withdraw(600)"
   ]
  },
  {
   "cell_type": "code",
   "execution_count": 29,
   "id": "e179769e",
   "metadata": {},
   "outputs": [
    {
     "data": {
      "text/plain": [
       "1900"
      ]
     },
     "execution_count": 29,
     "metadata": {},
     "output_type": "execute_result"
    }
   ],
   "source": [
    "c1.balance"
   ]
  },
  {
   "cell_type": "code",
   "execution_count": 31,
   "id": "b19c5df5",
   "metadata": {},
   "outputs": [
    {
     "name": "stdout",
     "output_type": "stream",
     "text": [
      "Gareeb\n"
     ]
    }
   ],
   "source": [
    "c1.withdraw(40000)"
   ]
  },
  {
   "cell_type": "code",
   "execution_count": 30,
   "id": "d544cb56",
   "metadata": {},
   "outputs": [
    {
     "name": "stdout",
     "output_type": "stream",
     "text": [
      "Your account number is : 122334455\n",
      "Your balance is : 1900\n",
      "YOur name is : Justin\n"
     ]
    }
   ],
   "source": [
    "c1.display_info()"
   ]
  },
  {
   "cell_type": "code",
   "execution_count": 32,
   "id": "27862066",
   "metadata": {},
   "outputs": [],
   "source": [
    "c2 = Account('234234','Dustin',5000)"
   ]
  },
  {
   "cell_type": "code",
   "execution_count": 33,
   "id": "c5fd77ef",
   "metadata": {},
   "outputs": [
    {
     "name": "stdout",
     "output_type": "stream",
     "text": [
      "Your account number is : 234234\n",
      "Your balance is : 5000\n",
      "YOur name is : Dustin\n"
     ]
    }
   ],
   "source": [
    "c2.display_info()"
   ]
  },
  {
   "cell_type": "code",
   "execution_count": 34,
   "id": "9791e0a9",
   "metadata": {},
   "outputs": [
    {
     "name": "stdout",
     "output_type": "stream",
     "text": [
      "Successfully Deposited\n"
     ]
    }
   ],
   "source": [
    "c2.deposit(5000)"
   ]
  },
  {
   "cell_type": "code",
   "execution_count": 35,
   "id": "21ad84c1",
   "metadata": {},
   "outputs": [
    {
     "name": "stdout",
     "output_type": "stream",
     "text": [
      "Successfully withdrawn 3000\n"
     ]
    }
   ],
   "source": [
    "c2.withdraw(3000)"
   ]
  },
  {
   "cell_type": "code",
   "execution_count": 36,
   "id": "610baf88",
   "metadata": {},
   "outputs": [
    {
     "name": "stdout",
     "output_type": "stream",
     "text": [
      "Successfully Deposited\n"
     ]
    }
   ],
   "source": [
    "c1.deposit(50000)"
   ]
  },
  {
   "cell_type": "code",
   "execution_count": 37,
   "id": "9759c866",
   "metadata": {},
   "outputs": [
    {
     "name": "stdout",
     "output_type": "stream",
     "text": [
      "Your account number is : 122334455\n",
      "Your balance is : 51900\n",
      "YOur name is : Justin\n"
     ]
    }
   ],
   "source": [
    "c1.display_info()"
   ]
  },
  {
   "cell_type": "code",
   "execution_count": 38,
   "id": "e63c8281",
   "metadata": {},
   "outputs": [
    {
     "name": "stdout",
     "output_type": "stream",
     "text": [
      "Your account number is : 234234\n",
      "Your balance is : 7000\n",
      "YOur name is : Dustin\n"
     ]
    }
   ],
   "source": [
    "c2.display_info()"
   ]
  },
  {
   "cell_type": "code",
   "execution_count": null,
   "id": "86d8fc6e",
   "metadata": {},
   "outputs": [],
   "source": [
    "class Account:\n",
    "    def __init__(self, account_number, customer_name, balance):\n",
    "        self.account_number = account_number\n",
    "        self.customer_name = customer_name\n",
    "        self.balance = balance\n",
    "\n",
    "    def deposit(self, amount):\n",
    "        self.balance += amount\n",
    "\n",
    "    def withdraw(self, amount):\n",
    "        if self.balance >= amount:\n",
    "            self.balance -= amount\n",
    "        else:\n",
    "            print(\"Insufficient balance!\")\n",
    "\n",
    "    def get_balance(self):\n",
    "        return self.balance\n",
    "\n",
    "    def display_info(self):\n",
    "        print(f\"Account Number: {self.account_number}\")\n",
    "        print(f\"Customer Name: {self.customer_name}\")\n",
    "        print(f\"Balance: {self.balance}\")"
   ]
  },
  {
   "cell_type": "code",
   "execution_count": null,
   "id": "eb6651f8",
   "metadata": {},
   "outputs": [],
   "source": [
    "# Create a new account\n",
    "account1 = Account(\"A001\", \"Alice\", 1000)\n",
    "\n",
    "# Deposit and withdraw from the account\n",
    "account1.deposit(500)\n",
    "account1.withdraw(200)\n",
    "\n",
    "# Display the account information\n",
    "account1.display_info()"
   ]
  },
  {
   "cell_type": "markdown",
   "id": "ee4b5b4b",
   "metadata": {},
   "source": [
    "---"
   ]
  },
  {
   "cell_type": "code",
   "execution_count": null,
   "id": "64fd392e",
   "metadata": {},
   "outputs": [],
   "source": []
  },
  {
   "cell_type": "code",
   "execution_count": null,
   "id": "be303854",
   "metadata": {},
   "outputs": [],
   "source": [
    "id(c1)"
   ]
  },
  {
   "cell_type": "code",
   "execution_count": 2,
   "id": "fff1029f",
   "metadata": {},
   "outputs": [],
   "source": [
    "class Atm:\n",
    "    def __init__(self):\n",
    "        self.pin = ''\n",
    "        self.balance = 0\n",
    "        self.menu()\n",
    "\n",
    "\n",
    "    def menu(self):\n",
    "        user_input = input(\"\"\"\n",
    "        Hi how can I help you?\n",
    "        1. Press 1 to create pin\n",
    "        2. Press 2 to change pin\n",
    "        3. Press 3 to check balance\n",
    "        4. Press 4 to withdraw\n",
    "        5. Anything else to exit\n",
    "        \"\"\")\n",
    "\n",
    "        if user_input == '1':\n",
    "            self.create_pin()  \n",
    "            self.menu()\n",
    "\n",
    "        elif user_input == '2':\n",
    "            self.change_pin()\n",
    "            self.menu()\n",
    "\n",
    "        elif user_input =='3':\n",
    "            self.check_balance()\n",
    "            self.menu()\n",
    "\n",
    "        elif user_input == '4':\n",
    "            self.withdraw()\n",
    "            self.menu()\n",
    "\n",
    "        else:\n",
    "            return 0\n",
    "\n",
    "    def create_pin(self):\n",
    "        cpin = input(\"Enter new pin :\")\n",
    "        self.pin += cpin\n",
    "\n",
    "        cbalance = int(input(\"ENter the amount you have : \"))\n",
    "        self.balance += cbalance\n",
    "\n",
    "        print(\"Pin Created Successful\")\n",
    "\n",
    "\n",
    "\n",
    "    def change_pin(self):\n",
    "        old_pin = input(\"ENter your current pin : \")\n",
    "\n",
    "        if old_pin == self.pin:\n",
    "            npin = input(\"ENTER YOUR NEW PIN.\")\n",
    "            self.pin = npin\n",
    "        else:\n",
    "            print(\"PIN GALAT HAI , sahi pin dalloo.\")\n",
    "\n",
    "    def check_balance(self):\n",
    "        old_pin = input('Enter current pin: ')\n",
    "\n",
    "        if old_pin == self.pin:\n",
    "            print(f\"YOur balance is {self.balance}\")\n",
    "\n",
    "        else :\n",
    "            print(\"CHor chor\")\n",
    "\n",
    "\n",
    "    def withdraw(self):\n",
    "        old_pin = input('Enter current pin: ')\n",
    "\n",
    "        if old_pin == self.pin:\n",
    "            amount_to_withdraw = int(input(\"Enter the amount : \"))\n",
    "\n",
    "            if amount_to_withdraw < self.balance :\n",
    "                self.balance -= amount_to_withdraw\n",
    "                print(f\"Amount withdrawn successfully, balance is {self.balance}\")\n",
    "\n",
    "            else :\n",
    "                print(\"Paise nahi hai tere pass itne\")\n",
    "\n",
    "        else :\n",
    "            print(\"CHor chor\")\n"
   ]
  },
  {
   "cell_type": "code",
   "execution_count": 7,
   "id": "3cc9ab0d",
   "metadata": {},
   "outputs": [
    {
     "name": "stdout",
     "output_type": "stream",
     "text": [
      "\n",
      "        Hi how can I help you?\n",
      "        1. Press 1 to create pin\n",
      "        2. Press 2 to change pin\n",
      "        3. Press 3 to check balance\n",
      "        4. Press 4 to withdraw\n",
      "        5. Anything else to exit\n",
      "        1\n",
      "Enter your pin: 111\n",
      "Enter balance: 5555\n",
      "Pin created successfully!\n",
      "\n",
      "        Hi how can I help you?\n",
      "        1. Press 1 to create pin\n",
      "        2. Press 2 to change pin\n",
      "        3. Press 3 to check balance\n",
      "        4. Press 4 to withdraw\n",
      "        5. Anything else to exit\n",
      "        3\n",
      "Enter old pin: 111\n",
      "YOur balance is 5555\n",
      "\n",
      "        Hi how can I help you?\n",
      "        1. Press 1 to create pin\n",
      "        2. Press 2 to change pin\n",
      "        3. Press 3 to check balance\n",
      "        4. Press 4 to withdraw\n",
      "        5. Anything else to exit\n",
      "        9\n"
     ]
    }
   ],
   "source": [
    "atm1  = Atm()"
   ]
  },
  {
   "cell_type": "code",
   "execution_count": null,
   "id": "fc9bcb40",
   "metadata": {},
   "outputs": [],
   "source": [
    "bata"
   ]
  },
  {
   "cell_type": "code",
   "execution_count": 1,
   "id": "dd7d4cdf",
   "metadata": {},
   "outputs": [],
   "source": [
    "class Atm:\n",
    "    def __init__(self):\n",
    "        print(id(self))\n",
    "        self.pin = ''\n",
    "        self.balance = 0\n",
    "        self.menu()\n",
    "\n",
    "    def menu(self):\n",
    "        user_input = input(\"\"\"\n",
    "        Hi how can I help you?\n",
    "        1. Press 1 to create pin\n",
    "        2. Press 2 to change pin\n",
    "        3. Press 3 to check balance\n",
    "        4. Press 4 to withdraw\n",
    "        5. Anything else to exit\n",
    "        \"\"\")\n",
    "\n",
    "        if user_input == '1':\n",
    "            self.create_pin()\n",
    "        elif user_input == '2':\n",
    "            self.change_pin()\n",
    "        elif user_input == '3':\n",
    "            self.check_balance()\n",
    "        elif user_input == '4':\n",
    "            self.withdraw()\n",
    "        else:\n",
    "            return 0\n",
    "\n",
    "    def create_pin(self):\n",
    "        user_pin = input('Enter your pin: ')\n",
    "        self.pin = user_pin\n",
    "\n",
    "        user_balance = int(input('Enter balance: '))\n",
    "        self.balance = user_balance\n",
    "\n",
    "        print('Pin created successfully!')\n",
    "        self.menu()\n",
    "\n",
    "    def change_pin(self):\n",
    "        old_pin = input('Enter old pin: ')\n",
    "\n",
    "        if old_pin == self.pin:\n",
    "            new_pin = input('Enter new pin: ')\n",
    "            self.pin = new_pin\n",
    "            print('Pin change successful!')\n",
    "            self.menu()\n",
    "        else:\n",
    "            print('Cannot change pin! Incorrect old pin.')\n",
    "            self.menu()\n",
    "\n",
    "    def check_balance(self):\n",
    "        user_pin = input('Enter your pin: ')\n",
    "        if user_pin == self.pin:\n",
    "            print('Your balance is', self.balance)\n",
    "        else:\n",
    "            print('Incorrect pin!')\n",
    "        self.menu()\n",
    "\n",
    "    def withdraw(self):\n",
    "        user_pin = input('Enter your pin: ')\n",
    "        if user_pin == self.pin:\n",
    "            amount = int(input('Enter the amount: '))\n",
    "            if amount <= self.balance:\n",
    "                self.balance -= amount\n",
    "                print('Withdrawal successful. Balance is', self.balance)\n",
    "            else:\n",
    "                print('Insufficient balance!')\n",
    "        else:\n",
    "            print('Incorrect pin!')\n",
    "        self.menu()"
   ]
  },
  {
   "cell_type": "code",
   "execution_count": 2,
   "id": "5937d86a",
   "metadata": {},
   "outputs": [
    {
     "name": "stdout",
     "output_type": "stream",
     "text": [
      "2215283198176\n",
      "\n",
      "        Hi how can I help you?\n",
      "        1. Press 1 to create pin\n",
      "        2. Press 2 to change pin\n",
      "        3. Press 3 to check balance\n",
      "        4. Press 4 to withdraw\n",
      "        5. Anything else to exit\n",
      "        555\n"
     ]
    }
   ],
   "source": [
    "# Create an ATM object and start the banking operations\n",
    "atm = Atm()"
   ]
  },
  {
   "cell_type": "code",
   "execution_count": null,
   "id": "b4f8cfd4",
   "metadata": {},
   "outputs": [],
   "source": []
  },
  {
   "cell_type": "code",
   "execution_count": null,
   "id": "f015c793",
   "metadata": {},
   "outputs": [],
   "source": [
    "atm2 = Atm()"
   ]
  },
  {
   "cell_type": "code",
   "execution_count": null,
   "id": "13d21d7a",
   "metadata": {},
   "outputs": [],
   "source": [
    "atm2.withdraw()"
   ]
  },
  {
   "cell_type": "code",
   "execution_count": 10,
   "id": "d110d936",
   "metadata": {},
   "outputs": [
    {
     "name": "stdout",
     "output_type": "stream",
     "text": [
      "<class 'str'>\n"
     ]
    }
   ],
   "source": [
    "a = 'suraj'\n",
    "print(type(a))"
   ]
  },
  {
   "cell_type": "code",
   "execution_count": 11,
   "id": "40115f2e",
   "metadata": {},
   "outputs": [],
   "source": [
    "l = list([1,2,3,4,5])\n",
    "l2 = [4,5,6,7]"
   ]
  },
  {
   "cell_type": "code",
   "execution_count": 15,
   "id": "f32b9dbf",
   "metadata": {},
   "outputs": [],
   "source": [
    "n = 5\n",
    "m = 6"
   ]
  },
  {
   "cell_type": "code",
   "execution_count": null,
   "id": "8d62a7b6",
   "metadata": {},
   "outputs": [],
   "source": [
    "3/n # n can take any value \n",
    "3/ m # m can take values except 0 "
   ]
  },
  {
   "cell_type": "code",
   "execution_count": 18,
   "id": "6f2ded28",
   "metadata": {},
   "outputs": [
    {
     "data": {
      "text/plain": [
       "30"
      ]
     },
     "execution_count": 18,
     "metadata": {},
     "output_type": "execute_result"
    }
   ],
   "source": [
    "n + m\n",
    "n - m\n",
    "n * m\n",
    "n "
   ]
  },
  {
   "cell_type": "code",
   "execution_count": 2,
   "id": "e28c784e",
   "metadata": {},
   "outputs": [
    {
     "data": {
      "text/plain": [
       "0.6666666666666666"
      ]
     },
     "execution_count": 2,
     "metadata": {},
     "output_type": "execute_result"
    }
   ],
   "source": [
    "2/3"
   ]
  },
  {
   "cell_type": "code",
   "execution_count": 3,
   "id": "9a715547",
   "metadata": {},
   "outputs": [],
   "source": [
    "class Fraction:\n",
    "    def __init__(self, x,y): # magic methods which gets automatically called when we create an object of our class.\n",
    "        self.num = x\n",
    "        self.den = y\n",
    "    \n",
    "    def __str__(self):\n",
    "        return f\"{self.num}/{self.den}\"\n",
    "    \n",
    "    def __add__(self, other):\n",
    "        new_num = self.num * other.den + other.num * self.den\n",
    "        new_den = self.den * other.den\n",
    "        return f\"{new_num}/{new_den}\"\n",
    "    \n",
    "    def __sub__(self, other):\n",
    "        new_num = self.num * other.den - other.num * self.num\n",
    "        new_den = self.den * other.den\n",
    "        return f\"{new_num}/{new_den}\"\n",
    "    \n",
    "    def __mul__(self, other):\n",
    "        new_num = self.num * other.num\n",
    "        new_den = self.den * other.den\n",
    "        return f\"{new_num}/{new_den}\"\n",
    "\n",
    "    def __truediv__(self, other):\n",
    "        new_num = self.num * other.den\n",
    "        new_den = self.den * other.num\n",
    "        return f\"{new_num}/{new_den}\"\n",
    "    \n",
    "    def convert_to_decimal(self):\n",
    "        return self.num / self.den"
   ]
  },
  {
   "cell_type": "code",
   "execution_count": 4,
   "id": "55a5d5fb",
   "metadata": {},
   "outputs": [
    {
     "name": "stdout",
     "output_type": "stream",
     "text": [
      "2/3\n"
     ]
    }
   ],
   "source": [
    "obj1 = Fraction(2,3)\n",
    "print(obj1)"
   ]
  },
  {
   "cell_type": "code",
   "execution_count": 6,
   "id": "e083155e",
   "metadata": {},
   "outputs": [
    {
     "name": "stdout",
     "output_type": "stream",
     "text": [
      "3/2\n"
     ]
    }
   ],
   "source": [
    "obj2 = Fraction(3,2)\n",
    "print(obj2)"
   ]
  },
  {
   "cell_type": "code",
   "execution_count": 11,
   "id": "06ec4b82",
   "metadata": {},
   "outputs": [
    {
     "name": "stdout",
     "output_type": "stream",
     "text": [
      "5/7\n"
     ]
    }
   ],
   "source": [
    "obj3 = Fraction(5,7)\n",
    "print(obj3)"
   ]
  },
  {
   "cell_type": "code",
   "execution_count": 12,
   "id": "4528dd45",
   "metadata": {},
   "outputs": [
    {
     "data": {
      "text/plain": [
       "'13/6'"
      ]
     },
     "execution_count": 12,
     "metadata": {},
     "output_type": "execute_result"
    }
   ],
   "source": [
    "obj1+ obj2"
   ]
  },
  {
   "cell_type": "code",
   "execution_count": 7,
   "id": "47ff77b4",
   "metadata": {},
   "outputs": [
    {
     "name": "stdout",
     "output_type": "stream",
     "text": [
      "13/6\n",
      "-2/6\n",
      "6/6\n",
      "4/9\n"
     ]
    }
   ],
   "source": [
    "print(obj1+obj2)\n",
    "print(obj1-obj2)\n",
    "print(obj1*obj2)\n",
    "print(obj1/obj2)"
   ]
  },
  {
   "cell_type": "code",
   "execution_count": 8,
   "id": "d24cfc2a",
   "metadata": {},
   "outputs": [
    {
     "data": {
      "text/plain": [
       "0.6666666666666666"
      ]
     },
     "execution_count": 8,
     "metadata": {},
     "output_type": "execute_result"
    }
   ],
   "source": [
    "obj1.convert_to_decimal()"
   ]
  },
  {
   "cell_type": "code",
   "execution_count": 9,
   "id": "63cbd715",
   "metadata": {},
   "outputs": [
    {
     "name": "stdout",
     "output_type": "stream",
     "text": [
      "2/3\n"
     ]
    }
   ],
   "source": [
    "print(obj1)"
   ]
  },
  {
   "cell_type": "markdown",
   "id": "47b602ed",
   "metadata": {},
   "source": [
    "### Q. Write OOP classes to handle the following scenarios:\n",
    "\n",
    "- A user can create and view 2D coordinates\n",
    "- A user can find out the distance between 2 coordinates\n",
    "- A user can find find the distance of a coordinate from origin\n",
    "- A user can check if a point lies on a given line\n",
    "- A user can find the distance between a given 2D point and a given line\n"
   ]
  },
  {
   "cell_type": "code",
   "execution_count": null,
   "id": "9c1d3881",
   "metadata": {},
   "outputs": [],
   "source": [
    "class Point:\n",
    "    def __init__(self,x,y):\n",
    "        self.x_cod = x\n",
    "        self.y_cod = y\n",
    "    \n",
    "    def __str__(self):\n",
    "        return f\"<{self.x_cod}, {self.y_cod}>\"\n",
    "    \n",
    "    def euclidean_distance(self,other):\n",
    "        return ((self.x_cod-other.x_cod)**2 + (self.y_cod-other.y_cod)**2)**0.5\n",
    "    \n",
    "    def distance_from_origin(self):\n",
    "#         return (self.x_cod**2 + self.y_cod**2)**0.5\n",
    "        return self.euclidean_distance(Point(0,0))\n",
    "\n",
    "\n",
    "class Line:\n",
    "    def __init__(self, A,B,C):\n",
    "        self.A = A\n",
    "        self.B = B\n",
    "        self.C = C\n",
    "        \n",
    "    def __str__(self):\n",
    "        return f\"{self.A}x + {self.B}y + {self.C} = 0\"\n",
    "    \n",
    "    def point_on_line(line,point):\n",
    "        if line.A*point.x_cod + line.B*point.y_cod + line.C == 0:\n",
    "            return \"Lies on Line.\"\n",
    "        else:\n",
    "            return \"Does not lie on Line.\"\n",
    "        \n",
    "    def shortest_distance_l_TO_p(line,point):\n",
    "        return abs(line.A*point.x_cod + line.B*point.y_cod + line.C)/(line.A**2 + line.B**2)**0.5"
   ]
  },
  {
   "cell_type": "code",
   "execution_count": null,
   "id": "d84d554e",
   "metadata": {},
   "outputs": [],
   "source": [
    "p1 = Point(0,0)\n",
    "print(p1)"
   ]
  },
  {
   "cell_type": "code",
   "execution_count": null,
   "id": "fbc83cab",
   "metadata": {},
   "outputs": [],
   "source": [
    "p1.euclidean_distance(Point(2,1))"
   ]
  },
  {
   "cell_type": "code",
   "execution_count": null,
   "id": "d404ca4c",
   "metadata": {},
   "outputs": [],
   "source": [
    "p2 = Point(3,3)\n",
    "p2.distance_from_origin()"
   ]
  },
  {
   "cell_type": "code",
   "execution_count": null,
   "id": "a1ca231f",
   "metadata": {},
   "outputs": [],
   "source": [
    "l1 = Line(2,7,1)\n",
    "print(l1)"
   ]
  },
  {
   "cell_type": "code",
   "execution_count": null,
   "id": "c34b1f58",
   "metadata": {},
   "outputs": [],
   "source": [
    "l1.point_on_line(Point(-4,7))"
   ]
  },
  {
   "cell_type": "code",
   "execution_count": null,
   "id": "5ab0956c",
   "metadata": {},
   "outputs": [],
   "source": [
    "l1.shortest_distance_l_TO_p(p2)"
   ]
  },
  {
   "cell_type": "code",
   "execution_count": null,
   "id": "a694cb45",
   "metadata": {},
   "outputs": [],
   "source": [
    "l1 = Line(1,1,-2)\n",
    "p1 = Point(1,1)\n",
    "\n",
    "print(l1)\n",
    "print(p1)\n",
    "\n",
    "l1.shortest_distance_l_TO_p(p1)"
   ]
  },
  {
   "cell_type": "markdown",
   "id": "8559c9bf",
   "metadata": {},
   "source": [
    "---\n",
    "## Encapsulation:\n",
    "- Encapsulation is the concept of bundling data (attributes) and methods (functions) that operate on that data within a class. \n",
    "- It allows the class to control access to its data, ensuring data integrity and security."
   ]
  },
  {
   "cell_type": "code",
   "execution_count": 56,
   "id": "12c53c10",
   "metadata": {},
   "outputs": [
    {
     "data": {
      "text/plain": [
       "True"
      ]
     },
     "execution_count": 56,
     "metadata": {},
     "output_type": "execute_result"
    }
   ],
   "source": [
    "type(4) == int"
   ]
  },
  {
   "cell_type": "code",
   "execution_count": 121,
   "id": "a084ab61",
   "metadata": {},
   "outputs": [],
   "source": [
    "class Atm:\n",
    "    \n",
    "    __count = 0\n",
    "    def __init__(self,pin,balance):\n",
    "        self.__pin = str(pin)  # instance variables\n",
    "        self.__balance = balance\n",
    "        Atm.__count  = Atm.__count +1\n",
    "#         self.menu()\n",
    "\n",
    "    @staticmethod\n",
    "    def get_count():\n",
    "        return Atm.__count\n",
    "    \n",
    "    def get_balance(self):\n",
    "        return f\"YOUR CURRENT balance is {self.__balance}\"\n",
    "\n",
    "    \n",
    "    def set_balance(self,new_balance):\n",
    "        if type(new_balance) == int:\n",
    "            self.__balance = new_balance\n",
    "        \n",
    "    def withdraw(self):\n",
    "        old_pin = input('Enter current pin: ')\n",
    "\n",
    "        if old_pin == self.__pin:\n",
    "            amount_to_withdraw = int(input(\"Enter the amount : \"))\n",
    "\n",
    "            if amount_to_withdraw < self.__balance :\n",
    "                self.__balance -= amount_to_withdraw\n",
    "                print(f\"Amount withdrawn successfully, balance is {self.__balance}\")\n",
    "\n",
    "            else :\n",
    "                print(\"Paise nahi hai tere pass itne\")\n",
    "\n",
    "        else :\n",
    "            print(\"CHor chor\")\n"
   ]
  },
  {
   "cell_type": "code",
   "execution_count": null,
   "id": "e53125d5",
   "metadata": {},
   "outputs": [],
   "source": []
  },
  {
   "cell_type": "code",
   "execution_count": 122,
   "id": "45c073c1",
   "metadata": {},
   "outputs": [],
   "source": [
    "omkar = Atm(111,5000)"
   ]
  },
  {
   "cell_type": "code",
   "execution_count": 123,
   "id": "8fed3172",
   "metadata": {},
   "outputs": [],
   "source": [
    "rajat = Atm(121,6000)"
   ]
  },
  {
   "cell_type": "code",
   "execution_count": 124,
   "id": "9dab07c3",
   "metadata": {},
   "outputs": [],
   "source": [
    "atharva = Atm(111,7777)"
   ]
  },
  {
   "cell_type": "code",
   "execution_count": 125,
   "id": "21c2e046",
   "metadata": {},
   "outputs": [
    {
     "data": {
      "text/plain": [
       "3"
      ]
     },
     "execution_count": 125,
     "metadata": {},
     "output_type": "execute_result"
    }
   ],
   "source": [
    "rajat.get_count()"
   ]
  },
  {
   "cell_type": "code",
   "execution_count": 126,
   "id": "fabc637a",
   "metadata": {},
   "outputs": [
    {
     "data": {
      "text/plain": [
       "3"
      ]
     },
     "execution_count": 126,
     "metadata": {},
     "output_type": "execute_result"
    }
   ],
   "source": [
    "omkar.get_count()"
   ]
  },
  {
   "cell_type": "code",
   "execution_count": 60,
   "id": "408e7559",
   "metadata": {},
   "outputs": [
    {
     "data": {
      "text/plain": [
       "'YOUR CURRENT balance is 5000'"
      ]
     },
     "execution_count": 60,
     "metadata": {},
     "output_type": "execute_result"
    }
   ],
   "source": [
    "omkar.get_balance()"
   ]
  },
  {
   "cell_type": "code",
   "execution_count": 61,
   "id": "1b5c45c8",
   "metadata": {},
   "outputs": [],
   "source": [
    "omkar.set_balance(8000)"
   ]
  },
  {
   "cell_type": "code",
   "execution_count": 62,
   "id": "718be66c",
   "metadata": {},
   "outputs": [
    {
     "data": {
      "text/plain": [
       "'YOUR CURRENT balance is 8000'"
      ]
     },
     "execution_count": 62,
     "metadata": {},
     "output_type": "execute_result"
    }
   ],
   "source": [
    "omkar.get_balance()"
   ]
  },
  {
   "cell_type": "code",
   "execution_count": 46,
   "id": "5e38eb90",
   "metadata": {},
   "outputs": [],
   "source": [
    "omkar.balance = 'kuch bhi'"
   ]
  },
  {
   "cell_type": "code",
   "execution_count": 47,
   "id": "5e852650",
   "metadata": {},
   "outputs": [
    {
     "data": {
      "text/plain": [
       "'kuch bhi'"
      ]
     },
     "execution_count": 47,
     "metadata": {},
     "output_type": "execute_result"
    }
   ],
   "source": [
    "omkar.balance"
   ]
  },
  {
   "cell_type": "code",
   "execution_count": 48,
   "id": "ecca94f9",
   "metadata": {},
   "outputs": [
    {
     "name": "stdout",
     "output_type": "stream",
     "text": [
      "Enter current pin: 111\n",
      "Enter the amount : 500\n",
      "Amount withdrawn successfully, balance is 4000\n"
     ]
    }
   ],
   "source": [
    "omkar.withdraw()"
   ]
  },
  {
   "cell_type": "code",
   "execution_count": 75,
   "id": "fa3b5b6a",
   "metadata": {},
   "outputs": [
    {
     "ename": "AttributeError",
     "evalue": "'Atm' object has no attribute '__balance'",
     "output_type": "error",
     "traceback": [
      "\u001b[1;31m---------------------------------------------------------------------------\u001b[0m",
      "\u001b[1;31mAttributeError\u001b[0m                            Traceback (most recent call last)",
      "Cell \u001b[1;32mIn[75], line 1\u001b[0m\n\u001b[1;32m----> 1\u001b[0m \u001b[43momkar\u001b[49m\u001b[38;5;241;43m.\u001b[39;49m\u001b[43m__balance\u001b[49m\n",
      "\u001b[1;31mAttributeError\u001b[0m: 'Atm' object has no attribute '__balance'"
     ]
    }
   ],
   "source": [
    "omkar.__balance"
   ]
  },
  {
   "cell_type": "code",
   "execution_count": 81,
   "id": "f968aeab",
   "metadata": {},
   "outputs": [],
   "source": [
    "class BankAccount:\n",
    "    def __init__(self, account_number, balance):\n",
    "        self.account_number = account_number\n",
    "        self.__balance = balance\n",
    "\n",
    "    def deposit(self, amount):\n",
    "        if amount > 0:\n",
    "            self.__balance += amount\n",
    "\n",
    "    def withdraw(self, amount):\n",
    "        if 0 < amount <= self._balance:\n",
    "            self.__balance -= amount\n",
    "\n",
    "    def get_balance(self):\n",
    "        return self.__balance\n",
    "    \n",
    "    def set_balance(self,new_balance):\n",
    "        if type(new_balance) == int:\n",
    "            self.__balance = new_balance\n",
    "        \n"
   ]
  },
  {
   "cell_type": "code",
   "execution_count": 84,
   "id": "6e283946",
   "metadata": {},
   "outputs": [],
   "source": [
    "cust1 = BankAccount(1,5000)"
   ]
  },
  {
   "cell_type": "code",
   "execution_count": 85,
   "id": "5951cdc0",
   "metadata": {},
   "outputs": [
    {
     "data": {
      "text/plain": [
       "1"
      ]
     },
     "execution_count": 85,
     "metadata": {},
     "output_type": "execute_result"
    }
   ],
   "source": [
    "cust1.account_number"
   ]
  },
  {
   "cell_type": "code",
   "execution_count": 91,
   "id": "5c1706c1",
   "metadata": {},
   "outputs": [
    {
     "data": {
      "text/plain": [
       "4000"
      ]
     },
     "execution_count": 91,
     "metadata": {},
     "output_type": "execute_result"
    }
   ],
   "source": [
    "cust1.get_balance()"
   ]
  },
  {
   "cell_type": "code",
   "execution_count": 88,
   "id": "0ff39833",
   "metadata": {},
   "outputs": [
    {
     "data": {
      "text/plain": [
       "500"
      ]
     },
     "execution_count": 88,
     "metadata": {},
     "output_type": "execute_result"
    }
   ],
   "source": [
    "cust1.balance"
   ]
  },
  {
   "cell_type": "code",
   "execution_count": 87,
   "id": "1744688b",
   "metadata": {},
   "outputs": [],
   "source": [
    "cust1.balance = 500"
   ]
  },
  {
   "cell_type": "code",
   "execution_count": 90,
   "id": "154a882c",
   "metadata": {},
   "outputs": [],
   "source": [
    "cust1.set_balance(4000)"
   ]
  },
  {
   "cell_type": "code",
   "execution_count": null,
   "id": "de6dc91b",
   "metadata": {},
   "outputs": [],
   "source": [
    "cust1._balance = 8000\n",
    "cust1._balance"
   ]
  },
  {
   "cell_type": "markdown",
   "id": "7dfd2d1b",
   "metadata": {},
   "source": [
    "---"
   ]
  },
  {
   "cell_type": "markdown",
   "id": "31d9b105",
   "metadata": {},
   "source": [
    "## Inheritance:\n",
    "- Inheritance allows a class (child class) to inherit properties and behaviors from another class (parent class). \n",
    "- It promotes code reusability and establishes an \"is-a\" relationship between classes. Child classes can override or extend methods and attributes of the parent class."
   ]
  },
  {
   "cell_type": "code",
   "execution_count": 2,
   "id": "e3c42206",
   "metadata": {},
   "outputs": [],
   "source": [
    "class Animal:\n",
    "    def __init__(self, species):\n",
    "        self.species = species\n",
    "\n",
    "    def make_sound(self):\n",
    "        print(\"Generic animal sound\")\n",
    "        \n",
    "    def eat(self):\n",
    "        print(f\"{self.species} is eating.\")\n",
    "            \n",
    "        \n",
    "class Dog(Animal):\n",
    "    \n",
    "    def m2(self):\n",
    "        print(\"MY METHOD CALLED\")\n",
    "\n",
    "    def make_sound(self):\n",
    "        print(\"Woof!\")\n",
    "        \n"
   ]
  },
  {
   "cell_type": "code",
   "execution_count": 3,
   "id": "43d2b6da",
   "metadata": {},
   "outputs": [],
   "source": [
    "dog1 = Dog('labraodor')"
   ]
  },
  {
   "cell_type": "code",
   "execution_count": 6,
   "id": "2d401605",
   "metadata": {},
   "outputs": [
    {
     "name": "stdout",
     "output_type": "stream",
     "text": [
      "labraodor is eating.\n"
     ]
    }
   ],
   "source": [
    "dog1.eat()"
   ]
  },
  {
   "cell_type": "code",
   "execution_count": 7,
   "id": "a3efd9b7",
   "metadata": {},
   "outputs": [
    {
     "name": "stdout",
     "output_type": "stream",
     "text": [
      "MY METHOD CALLED\n"
     ]
    }
   ],
   "source": [
    "dog1.m2()"
   ]
  },
  {
   "cell_type": "code",
   "execution_count": 4,
   "id": "72492a72",
   "metadata": {},
   "outputs": [
    {
     "data": {
      "text/plain": [
       "'labraodor'"
      ]
     },
     "execution_count": 4,
     "metadata": {},
     "output_type": "execute_result"
    }
   ],
   "source": [
    "dog1.species"
   ]
  },
  {
   "cell_type": "code",
   "execution_count": 5,
   "id": "75b297f6",
   "metadata": {},
   "outputs": [
    {
     "name": "stdout",
     "output_type": "stream",
     "text": [
      "Woof!\n"
     ]
    }
   ],
   "source": [
    "dog1.make_sound()"
   ]
  },
  {
   "cell_type": "code",
   "execution_count": null,
   "id": "7afc1921",
   "metadata": {},
   "outputs": [],
   "source": []
  },
  {
   "cell_type": "code",
   "execution_count": null,
   "id": "d0bafccb",
   "metadata": {},
   "outputs": [],
   "source": [
    "d1 = Animal('cat')\n",
    "d1.species\n",
    "d1.make_sound()\n",
    "\n",
    "d2 = Dog('breed1')\n",
    "d2.make_sound()\n",
    "d2.species\n",
    "\n",
    "d2.eat()\n",
    "d2.another_method()"
   ]
  },
  {
   "cell_type": "code",
   "execution_count": 1,
   "id": "e7d98372",
   "metadata": {},
   "outputs": [
    {
     "ename": "NameError",
     "evalue": "name 'Dog' is not defined",
     "output_type": "error",
     "traceback": [
      "\u001b[1;31m---------------------------------------------------------------------------\u001b[0m",
      "\u001b[1;31mNameError\u001b[0m                                 Traceback (most recent call last)",
      "Cell \u001b[1;32mIn[1], line 2\u001b[0m\n\u001b[0;32m      1\u001b[0m \u001b[38;5;66;03m# Using inheritance\u001b[39;00m\n\u001b[1;32m----> 2\u001b[0m dog \u001b[38;5;241m=\u001b[39m \u001b[43mDog\u001b[49m(\u001b[38;5;124m\"\u001b[39m\u001b[38;5;124mLabrador\u001b[39m\u001b[38;5;124m\"\u001b[39m)\n\u001b[0;32m      3\u001b[0m \u001b[38;5;28mprint\u001b[39m(dog\u001b[38;5;241m.\u001b[39mspecies)  \u001b[38;5;66;03m# Output: \"Dog\"\u001b[39;00m\n\u001b[0;32m      4\u001b[0m dog\u001b[38;5;241m.\u001b[39mmake_sound()\n",
      "\u001b[1;31mNameError\u001b[0m: name 'Dog' is not defined"
     ]
    }
   ],
   "source": [
    "# Using inheritance\n",
    "dog = Dog(\"Labrador\")\n",
    "print(dog.species)  # Output: \"Dog\"\n",
    "dog.make_sound()    # Output: \"Woof!\""
   ]
  },
  {
   "cell_type": "code",
   "execution_count": 9,
   "id": "49380a59",
   "metadata": {},
   "outputs": [],
   "source": [
    "# Define the base class (Vehicle)\n",
    "class Vehicle:\n",
    "    def __init__(self, brand, model):\n",
    "        self.brand = brand\n",
    "        self.model = model\n",
    "        self.speed = 0\n",
    "\n",
    "    def accelerate(self, speed_increase):\n",
    "        self.speed += speed_increase\n",
    "        print(f\"The {self.brand} {self.model} accelerates to {self.speed} mph.\")\n",
    "\n",
    "    def brake(self, speed_decrease):\n",
    "        self.speed -= speed_decrease\n",
    "        if self.speed < 0:\n",
    "            self.speed = 0\n",
    "        print(f\"The {self.brand} {self.model} slows down to {self.speed} mph.\")\n",
    "\n",
    "# Define a derived class (Car) that inherits from Vehicle\n",
    "class Car(Vehicle):\n",
    "    def honk(self):\n",
    "        print(f\"The {self.brand} {self.model} honks: 'Beep beep!'\")\n",
    "\n",
    "# Define another derived class (Bicycle) that inherits from Vehicle\n",
    "class Bicycle(Vehicle):\n",
    "    def __init__(self, brand, model, num_gears):\n",
    "        super().__init__(brand, model)\n",
    "        self.num_gears = num_gears\n",
    "\n",
    "    def ring_bell(self):\n",
    "        print(f\"The {self.brand} {self.model} rings its bell: 'Ding ding!'\")"
   ]
  },
  {
   "cell_type": "code",
   "execution_count": 11,
   "id": "fae4b657",
   "metadata": {},
   "outputs": [],
   "source": [
    "# Let's create some instances and interact with them\n",
    "v1 = Vehicle('ABC','general vehicle')\n",
    "car1 = Car(\"Toyota\", \"Camry\")\n",
    "bike1 = Bicycle(\"Schwinn\", \"Mountain Bike\", 21)"
   ]
  },
  {
   "cell_type": "code",
   "execution_count": 12,
   "id": "78e321e0",
   "metadata": {},
   "outputs": [
    {
     "name": "stdout",
     "output_type": "stream",
     "text": [
      "The Toyota Camry accelerates to 50 mph.\n"
     ]
    }
   ],
   "source": [
    "car1.accelerate(50)"
   ]
  },
  {
   "cell_type": "code",
   "execution_count": 13,
   "id": "3a02300f",
   "metadata": {},
   "outputs": [
    {
     "name": "stdout",
     "output_type": "stream",
     "text": [
      "The Toyota Camry slows down to 10 mph.\n"
     ]
    }
   ],
   "source": [
    "car1.brake(40)"
   ]
  },
  {
   "cell_type": "code",
   "execution_count": 14,
   "id": "495cf5df",
   "metadata": {},
   "outputs": [
    {
     "name": "stdout",
     "output_type": "stream",
     "text": [
      "The Toyota Camry honks: 'Beep beep!'\n"
     ]
    }
   ],
   "source": [
    "car1.honk()"
   ]
  },
  {
   "cell_type": "code",
   "execution_count": 15,
   "id": "53e22940",
   "metadata": {},
   "outputs": [
    {
     "name": "stdout",
     "output_type": "stream",
     "text": [
      "The Schwinn Mountain Bike accelerates to 60 mph.\n"
     ]
    }
   ],
   "source": [
    "bike1.accelerate(60)"
   ]
  },
  {
   "cell_type": "code",
   "execution_count": 16,
   "id": "01f6a017",
   "metadata": {},
   "outputs": [
    {
     "name": "stdout",
     "output_type": "stream",
     "text": [
      "The Schwinn Mountain Bike slows down to 40 mph.\n"
     ]
    }
   ],
   "source": [
    "bike1.brake(20)"
   ]
  },
  {
   "cell_type": "code",
   "execution_count": 17,
   "id": "abe63edc",
   "metadata": {},
   "outputs": [
    {
     "name": "stdout",
     "output_type": "stream",
     "text": [
      "The Schwinn Mountain Bike rings its bell: 'Ding ding!'\n"
     ]
    }
   ],
   "source": [
    "bike1.ring_bell()"
   ]
  },
  {
   "cell_type": "markdown",
   "id": "7ab63d38",
   "metadata": {},
   "source": [
    "## Polymorphism:\n",
    "- The literal meaning of polymorphism is the condition of occurrence in different forms.\n",
    "\n",
    "- It refers to the use of a single type entity (method, operator or object) to represent different types in different scenarios.\n",
    "- Polymorphism is often achieved through method overriding."
   ]
  },
  {
   "cell_type": "code",
   "execution_count": null,
   "id": "93e6158c",
   "metadata": {},
   "outputs": [],
   "source": [
    "class Car:\n",
    "#     def __init__(self):\n",
    "#         self.name = 'parent clas'\n",
    "        \n",
    "    def start_engine(self):\n",
    "        print(\"Normal Engine Started......\")\n",
    "    \n",
    "    def add_brake():\n",
    "        pass\n",
    "        \n",
    "class Electric_car(Car):\n",
    "    def __init__(self, make, model):\n",
    "        self.make = make\n",
    "        self.model = model\n",
    "        \n",
    "    def start_engine(self):\n",
    "        print(\"Electric Engine Started.....\")\n",
    "    \n",
    "    \n",
    "        \n",
    "class Hybrid_car(Car):\n",
    "    def __init__(self, make, model):\n",
    "        self.make = make\n",
    "        self.model = model\n",
    "        \n",
    "    def start_engine(self):\n",
    "        print(\"Hybrid Engine Started.....\")\n",
    "    "
   ]
  },
  {
   "cell_type": "code",
   "execution_count": null,
   "id": "f5af973c",
   "metadata": {},
   "outputs": [],
   "source": [
    "normal_car = Car()\n",
    "my_EV = Electric_car('BMV','tesla')\n",
    "my_HC = Hybrid_car('Hyundai','verna')"
   ]
  },
  {
   "cell_type": "code",
   "execution_count": null,
   "id": "94133679",
   "metadata": {},
   "outputs": [],
   "source": [
    "normal_car.start_engine()"
   ]
  },
  {
   "cell_type": "code",
   "execution_count": null,
   "id": "769960f4",
   "metadata": {},
   "outputs": [],
   "source": [
    "my_EV.start_engine()"
   ]
  },
  {
   "cell_type": "code",
   "execution_count": null,
   "id": "125a7306",
   "metadata": {},
   "outputs": [],
   "source": [
    "my_HC.start_engine()"
   ]
  },
  {
   "cell_type": "code",
   "execution_count": null,
   "id": "0b8b7e6d",
   "metadata": {},
   "outputs": [],
   "source": [
    "class Car:\n",
    "    def __init__(self, brand, model):\n",
    "        self.brand = brand\n",
    "        self.model = model\n",
    "\n",
    "    def move(self):\n",
    "        print(\"Drive!\")\n",
    "\n",
    "\n",
    "class Boat:\n",
    "    def __init__(self, brand, model):\n",
    "        self.brand = brand\n",
    "        self.model = model\n",
    "\n",
    "    def move(self):\n",
    "        print(\"Sail!\")\n",
    "\n",
    "class Plane:\n",
    "    def __init__(self, brand, model):\n",
    "        self.brand = brand\n",
    "        self.model = model\n",
    "\n",
    "    def move(self):\n",
    "        print(\"Fly!\")"
   ]
  },
  {
   "cell_type": "code",
   "execution_count": null,
   "id": "296ef947",
   "metadata": {},
   "outputs": [],
   "source": []
  },
  {
   "cell_type": "code",
   "execution_count": null,
   "id": "4b9725fd",
   "metadata": {},
   "outputs": [],
   "source": [
    "car1 = Car(\"Ford\", \"Mustang\")       #Create a Car class\n",
    "boat1 = Boat(\"Ibiza\", \"Touring 20\") #Create a Boat class\n",
    "plane1 = Plane(\"Boeing\", \"747\") "
   ]
  },
  {
   "cell_type": "code",
   "execution_count": null,
   "id": "de5abac2",
   "metadata": {},
   "outputs": [],
   "source": [
    "plane1.move()"
   ]
  },
  {
   "cell_type": "code",
   "execution_count": null,
   "id": "e8637b0a",
   "metadata": {},
   "outputs": [],
   "source": [
    "boat1.move()"
   ]
  },
  {
   "cell_type": "code",
   "execution_count": null,
   "id": "04e1a8d4",
   "metadata": {},
   "outputs": [],
   "source": [
    "car1.move()"
   ]
  },
  {
   "cell_type": "code",
   "execution_count": null,
   "id": "8edd989d",
   "metadata": {},
   "outputs": [],
   "source": [
    "class Shape:\n",
    "    def area(self,radius):\n",
    "        return 3.14 * (radius**2)\n",
    "    \n",
    "    def area(self, a,b):\n",
    "        return a*b"
   ]
  },
  {
   "cell_type": "code",
   "execution_count": null,
   "id": "286b4214",
   "metadata": {},
   "outputs": [],
   "source": [
    "obj = Shape()\n",
    "obj.area(5)"
   ]
  },
  {
   "cell_type": "code",
   "execution_count": null,
   "id": "c448b35b",
   "metadata": {},
   "outputs": [],
   "source": [
    "def fun1(a, b= 1):\n",
    "    return a +b"
   ]
  },
  {
   "cell_type": "code",
   "execution_count": null,
   "id": "b3cf34b9",
   "metadata": {},
   "outputs": [],
   "source": [
    "print(fun1(3,5))"
   ]
  },
  {
   "cell_type": "code",
   "execution_count": null,
   "id": "24cbc63d",
   "metadata": {},
   "outputs": [],
   "source": [
    "print(fun1(3))"
   ]
  },
  {
   "cell_type": "code",
   "execution_count": null,
   "id": "6c87d7f1",
   "metadata": {},
   "outputs": [],
   "source": [
    "class Shape:\n",
    "    def area(self, a, b = 0, c = 0):\n",
    "        if b == 0 and c == 0:\n",
    "            return 3.14 * a**2\n",
    "        elif c == 0 and b!=0:\n",
    "            return a*b\n",
    "        else:\n",
    "            return a*b*c\n",
    "        \n",
    "   "
   ]
  },
  {
   "cell_type": "code",
   "execution_count": null,
   "id": "8beefcf7",
   "metadata": {},
   "outputs": [],
   "source": [
    "circle = Shape()\n",
    "rectange = Shape()"
   ]
  },
  {
   "cell_type": "code",
   "execution_count": null,
   "id": "9fe60d2b",
   "metadata": {},
   "outputs": [],
   "source": [
    "circle.area(5)"
   ]
  },
  {
   "cell_type": "code",
   "execution_count": null,
   "id": "a48b9cc3",
   "metadata": {},
   "outputs": [],
   "source": [
    "rectange.area(3,4)"
   ]
  },
  {
   "cell_type": "code",
   "execution_count": null,
   "id": "9c4cbc55",
   "metadata": {},
   "outputs": [],
   "source": [
    "obj1 = Shape()"
   ]
  },
  {
   "cell_type": "code",
   "execution_count": null,
   "id": "f3786fcd",
   "metadata": {},
   "outputs": [],
   "source": [
    "obj1.area(a = 4)"
   ]
  },
  {
   "cell_type": "code",
   "execution_count": null,
   "id": "edc4ad22",
   "metadata": {},
   "outputs": [],
   "source": [
    "obj1.area(2,3,4)"
   ]
  },
  {
   "cell_type": "code",
   "execution_count": null,
   "id": "4f62aa9d",
   "metadata": {},
   "outputs": [],
   "source": [
    "obj1.area(2,3)"
   ]
  },
  {
   "cell_type": "code",
   "execution_count": null,
   "id": "48e6fce1",
   "metadata": {},
   "outputs": [],
   "source": [
    "class Shape:\n",
    "    def draw(self):\n",
    "        pass\n",
    "\n",
    "class Circle(Shape):\n",
    "    def draw(self):\n",
    "        print(\"Drawing a circle\")\n",
    "\n",
    "class Square(Shape):\n",
    "    def draw(self):\n",
    "        print(\"Drawing a square\")\n",
    "\n"
   ]
  },
  {
   "cell_type": "code",
   "execution_count": null,
   "id": "48b85a30",
   "metadata": {},
   "outputs": [],
   "source": [
    "# Using polymorphism\n",
    "shapes = [Circle(), Square()]\n",
    "for shape in shapes:\n",
    "    shape.draw()"
   ]
  },
  {
   "cell_type": "markdown",
   "id": "dd5cfb05",
   "metadata": {},
   "source": [
    "---\n",
    "## ABSTRACTION :\n",
    "- Abstraction is the process of hiding the implementation details of a class from the user and exposing only the essential features.\n",
    "- Abstract classes cannot be instantiated and serve as templates for other classes to inherit from."
   ]
  },
  {
   "cell_type": "code",
   "execution_count": null,
   "id": "7968b34e",
   "metadata": {},
   "outputs": [],
   "source": [
    "from abc import ABC, abstractmethod\n",
    "\n",
    "class BankAccount(ABC):\n",
    "    def __init__(self, account_number, balance):\n",
    "        self.account_number = account_number\n",
    "        self.balance = balance\n",
    "\n",
    "    @abstractmethod\n",
    "    def deposit(self, amount):\n",
    "        pass\n",
    "\n",
    "    @abstractmethod\n",
    "    def withdraw(self, amount):\n",
    "        pass\n",
    "\n",
    "    def get_balance(self):\n",
    "        return self.balance\n",
    "    \n",
    "    @abstractmethod\n",
    "    def security(self):\n",
    "        pass\n",
    "\n",
    "    \n",
    "    \n",
    "class SavingsAccount(BankAccount):\n",
    "    def __init__(self, account_number, balance):\n",
    "        super().__init__(account_number, balance)\n",
    "\n",
    "    def deposit(self, amount):\n",
    "        if amount > 0:\n",
    "            self.balance += amount\n",
    "\n",
    "    def withdraw(self, amount):\n",
    "        if 0 < amount <= self.balance:\n",
    "            self.balance -= amount\n",
    "        \n",
    "    def security(self):\n",
    "        print(\"Is secure\")\n",
    "\n",
    "            \n",
    "            \n",
    "class CurrentAccount(BankAccount):\n",
    "    def __init__(self, account_number, balance):\n",
    "        super().__init__(account_number, balance)\n",
    "\n",
    "    def deposit(self, amount):\n",
    "        if amount > 0:\n",
    "            self.balance += amount\n",
    "\n",
    "    def withdraw(self, amount):\n",
    "        if 0 < amount <= self.balance:\n",
    "            self.balance -= amount\n",
    "        \n",
    "    def security(self):\n",
    "        print(\"Is secure\")"
   ]
  },
  {
   "cell_type": "code",
   "execution_count": null,
   "id": "57d44bec",
   "metadata": {},
   "outputs": [],
   "source": [
    "# Using abstraction\n",
    "savings_account = SavingsAccount(\"12345\", 5000)\n",
    "current_account = CurrentAccount(\"67890\", 10000)"
   ]
  },
  {
   "cell_type": "code",
   "execution_count": null,
   "id": "081690c2",
   "metadata": {},
   "outputs": [],
   "source": [
    "savings_account.deposit(2000)\n",
    "current_account.withdraw(500)\n",
    "\n",
    "print(\"Savings Account Balance:\", savings_account.get_balance())  # Output: 7000\n",
    "print(\"Current Account Balance:\", current_account.get_balance())  # Output: 9500"
   ]
  },
  {
   "cell_type": "markdown",
   "id": "40f5d3ff",
   "metadata": {},
   "source": [
    "---\n",
    "- The user of the Bank Account Management System only interacts with the simple interface provided by the abstract base class (BankAccount). The internal details of how deposits and withdrawals are handled are hidden (abstracted) from the user, providing a clean and easy-to-use interface for managing bank accounts.\n",
    "---"
   ]
  },
  {
   "cell_type": "code",
   "execution_count": null,
   "id": "9e95d0b8",
   "metadata": {},
   "outputs": [],
   "source": [
    "l =[1,2,4,6]\n",
    "for i in l:\n",
    "    print(i)\n",
    "    \n",
    "for index, value in enumerate(l):\n",
    "    print(index, value)"
   ]
  },
  {
   "cell_type": "code",
   "execution_count": null,
   "id": "c567969e",
   "metadata": {},
   "outputs": [],
   "source": [
    "[1,2,3,4,5]\n",
    "task_managet.mark_complte(5)"
   ]
  },
  {
   "cell_type": "code",
   "execution_count": null,
   "id": "0f0dad25",
   "metadata": {},
   "outputs": [],
   "source": [
    "'''\n",
    "Project Overview:\n",
    "The Task Manager will have the following features:\n",
    "\n",
    "1. Add a new task with a title and description.\n",
    "2. View all tasks with their details.\n",
    "3. Mark a task as completed.\n",
    "4. Remove a task from the list.\n",
    "'''\n",
    "\n",
    "\n",
    "class Task:\n",
    "    def __init__(self, title, description):\n",
    "        self.title = title\n",
    "        self.description = description\n",
    "        self.completed = False\n",
    "        \n",
    "        \n",
    "    def mark_completed(self):\n",
    "        self.completed = True\n",
    "        \n",
    "        \n",
    "\n",
    "        \n",
    "class TaskManager:\n",
    "    def __init__(self):\n",
    "        self.tasks = []\n",
    "        \n",
    "    def add_task(self, title, description):\n",
    "        task = Task(title,description)\n",
    "        self.tasks.append(task)\n",
    "    \n",
    "    def view_task(self):\n",
    "        for index, task in enumerate(self.tasks,start=1):\n",
    "            status = \"completd\" if task.completed else \"Not completed\"\n",
    "            print(f\"{index}. Title: {task.title}, Description: {task.description}, Status: {status}\")\n",
    "     \n",
    "    def mark_completed(self, task_index):\n",
    "        if 1 <= task_index <= len(self.tasks):\n",
    "            task = self.tasks[task_index-1]\n",
    "            task.mark_completed()\n",
    "        else:\n",
    "            print('Invalid task number...')\n",
    "            \n",
    "    def remove_task(self, task_index):\n",
    "        if 1 <= task_index <= len(self.tasks):\n",
    "            self.tasks.pop(task_index-1)\n",
    "        else:\n",
    "            print(\"Invalid Task index.\")\n",
    "            \n",
    "        "
   ]
  },
  {
   "cell_type": "code",
   "execution_count": null,
   "id": "ebcc7baf",
   "metadata": {},
   "outputs": [],
   "source": [
    "tm = TaskManager()"
   ]
  },
  {
   "cell_type": "code",
   "execution_count": null,
   "id": "5a19f7bd",
   "metadata": {},
   "outputs": [],
   "source": [
    "tm.add_task('t1','d1')\n",
    "tm.add_task('t2','d2')\n",
    "tm.add_task('t3','d3')"
   ]
  },
  {
   "cell_type": "code",
   "execution_count": null,
   "id": "a647923d",
   "metadata": {},
   "outputs": [],
   "source": [
    "tm.view_task()"
   ]
  },
  {
   "cell_type": "code",
   "execution_count": null,
   "id": "f45ea898",
   "metadata": {},
   "outputs": [],
   "source": [
    "tm.mark_completed(2)"
   ]
  },
  {
   "cell_type": "code",
   "execution_count": null,
   "id": "47ee7282",
   "metadata": {},
   "outputs": [],
   "source": [
    "tm.view_task()"
   ]
  },
  {
   "cell_type": "code",
   "execution_count": null,
   "id": "0a9b7568",
   "metadata": {},
   "outputs": [],
   "source": [
    "tm.mark_completed(1)"
   ]
  },
  {
   "cell_type": "code",
   "execution_count": null,
   "id": "5fa1e027",
   "metadata": {},
   "outputs": [],
   "source": [
    "tm.view_task()"
   ]
  },
  {
   "cell_type": "code",
   "execution_count": null,
   "id": "da1ffd5f",
   "metadata": {},
   "outputs": [],
   "source": [
    "tm.remove_task(1)"
   ]
  },
  {
   "cell_type": "code",
   "execution_count": null,
   "id": "10afbf60",
   "metadata": {},
   "outputs": [],
   "source": [
    "tm.view_task()"
   ]
  },
  {
   "cell_type": "code",
   "execution_count": null,
   "id": "d474798e",
   "metadata": {},
   "outputs": [],
   "source": [
    "def main():\n",
    "     task_manager = TaskManager()\n",
    "     \n",
    "     while True:\n",
    "        print(\"\\nTask Manager Menu:\")\n",
    "        print(\"1. Add Task\")\n",
    "        print(\"2. View Tasks\")\n",
    "        print(\"3. Mark Task as Completed\")\n",
    "        print(\"4. Remove Task\")\n",
    "        print(\"5. Exit\")\n",
    "\n",
    "        choice = input(\"Enter your choice: \")\n",
    "        \n",
    "        if choice == '1':\n",
    "            title = input(\"Enter task title: \")\n",
    "            description = input(\"Enter task description: \")\n",
    "            task_manager.add_task(title, description)\n",
    "            print(\"Task added succssully!..\")\n",
    "            \n",
    "        elif choice == '2':\n",
    "            task_manager.view_task()    \n",
    "            \n",
    "        elif choice == '3':\n",
    "            task_index = int(input(\"Enter the task number to mark as completed: \"))\n",
    "            task_manager.mark_completed(task_index)\n",
    "            \n",
    "        elif choice == '4':\n",
    "            task_index = int(input(\"Enter the task number to remove: \"))\n",
    "            task_manager.remove_task(task_index)\n",
    "            \n",
    "        elif choice == '5':\n",
    "            print(\"Exiting Task Manager.\")\n",
    "            break\n",
    "        else:\n",
    "            print(\"Invalid choice. Please try again.\")\n",
    "            "
   ]
  },
  {
   "cell_type": "code",
   "execution_count": null,
   "id": "c3cc4483",
   "metadata": {},
   "outputs": [],
   "source": [
    "main()"
   ]
  },
  {
   "cell_type": "code",
   "execution_count": null,
   "id": "22feb4e1",
   "metadata": {},
   "outputs": [],
   "source": []
  }
 ],
 "metadata": {
  "kernelspec": {
   "display_name": "Python 3 (ipykernel)",
   "language": "python",
   "name": "python3"
  },
  "language_info": {
   "codemirror_mode": {
    "name": "ipython",
    "version": 3
   },
   "file_extension": ".py",
   "mimetype": "text/x-python",
   "name": "python",
   "nbconvert_exporter": "python",
   "pygments_lexer": "ipython3",
   "version": "3.9.16"
  }
 },
 "nbformat": 4,
 "nbformat_minor": 5
}
