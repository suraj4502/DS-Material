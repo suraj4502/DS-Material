{
 "cells": [
  {
   "cell_type": "markdown",
   "id": "d2f46dc5",
   "metadata": {},
   "source": [
    "# NUMPY :-\n",
    "- NumPy, short for \"Numerical Python,\" is a fundamental package in Python for numerical computations. \n",
    "- NumPy introduces the ndarray (N-dimensional array) data structure, which allows you to perform element-wise operations on arrays and matrices efficiently. \n",
    "- These operations are often much faster than using traditional Python lists due to NumPy's optimized implementation in C.\n",
    "- NumPy is a foundational library for many other scientific computing libraries in Python, such as SciPy, scikit-learn, and pandas. "
   ]
  },
  {
   "cell_type": "markdown",
   "id": "fc9bf0ee",
   "metadata": {},
   "source": [
    "---\n",
    "# Numpy Arrays (ndarrays) ⇨\n",
    "- NumPy arrays are similar to Python lists but come with many advantages that make them essential for numerical and scientific computing.\n",
    "    - *Homogeneous Data Type.*\n",
    "    -  *Multidimensional Arrays.*\n",
    "    - *Memory Efficiency.*\n",
    "    - *Fast Element-Wise Operations.*\n",
    "    - *Indexing and Slicing.*\n",
    "---"
   ]
  },
  {
   "cell_type": "markdown",
   "id": "8ae1a8c8",
   "metadata": {},
   "source": [
    "#### TO download Numpy Run the following command on your terminal.\n",
    "\n",
    "\n",
    "``` pip install numpy```\n",
    "\n",
    "---"
   ]
  },
  {
   "cell_type": "code",
   "execution_count": null,
   "id": "883f35f7",
   "metadata": {},
   "outputs": [],
   "source": [
    "# importing numpy\n",
    "import numpy as np"
   ]
  },
  {
   "cell_type": "code",
   "execution_count": null,
   "id": "57bc7817",
   "metadata": {},
   "outputs": [],
   "source": [
    "# np.array\n",
    "a = np.array([1,2,3,4])"
   ]
  },
  {
   "cell_type": "code",
   "execution_count": null,
   "id": "f0c070bf",
   "metadata": {},
   "outputs": [],
   "source": [
    "a"
   ]
  },
  {
   "cell_type": "code",
   "execution_count": null,
   "id": "a4e54ef6",
   "metadata": {},
   "outputs": [],
   "source": [
    "type(a)"
   ]
  },
  {
   "cell_type": "code",
   "execution_count": null,
   "id": "31822f2c",
   "metadata": {},
   "outputs": [],
   "source": [
    "b = np.array([[1,2,3],\n",
    "              [4,3,2]])"
   ]
  },
  {
   "cell_type": "code",
   "execution_count": null,
   "id": "e58f1304",
   "metadata": {},
   "outputs": [],
   "source": [
    "b"
   ]
  },
  {
   "cell_type": "code",
   "execution_count": null,
   "id": "c93662ff",
   "metadata": {},
   "outputs": [],
   "source": [
    "b = np.array([[1,2,3],[4,5,6]])\n",
    "print(b)"
   ]
  },
  {
   "cell_type": "code",
   "execution_count": null,
   "id": "b7713fe0",
   "metadata": {},
   "outputs": [],
   "source": [
    "type(b)"
   ]
  },
  {
   "cell_type": "code",
   "execution_count": null,
   "id": "70f1e9d1",
   "metadata": {},
   "outputs": [],
   "source": [
    "c = np.array([[[1,2],\n",
    "               [3,4]],\n",
    "             [[5,6],\n",
    "              [7,8]]])"
   ]
  },
  {
   "cell_type": "code",
   "execution_count": null,
   "id": "536fe1a2",
   "metadata": {},
   "outputs": [],
   "source": [
    "c"
   ]
  },
  {
   "cell_type": "code",
   "execution_count": null,
   "id": "d1fbbe2d",
   "metadata": {},
   "outputs": [],
   "source": [
    "c = np.array([[[1,2],[3,4]],[[5,6],[7,8]]])"
   ]
  },
  {
   "cell_type": "code",
   "execution_count": null,
   "id": "43788c83",
   "metadata": {},
   "outputs": [],
   "source": [
    "c = np.array([[[1,2],[3,4]],[[5,6],[7,8]]])\n",
    "c"
   ]
  },
  {
   "cell_type": "code",
   "execution_count": null,
   "id": "014aea77",
   "metadata": {},
   "outputs": [],
   "source": [
    "c.dtype"
   ]
  },
  {
   "cell_type": "code",
   "execution_count": null,
   "id": "59b10685",
   "metadata": {},
   "outputs": [],
   "source": [
    "2**15"
   ]
  },
  {
   "cell_type": "code",
   "execution_count": null,
   "id": "30760617",
   "metadata": {},
   "outputs": [],
   "source": [
    "2**8"
   ]
  },
  {
   "cell_type": "code",
   "execution_count": null,
   "id": "da35b325",
   "metadata": {},
   "outputs": [],
   "source": [
    "2**7"
   ]
  },
  {
   "cell_type": "code",
   "execution_count": null,
   "id": "aed79a94",
   "metadata": {},
   "outputs": [],
   "source": [
    "# dtype\n",
    "np.array([1,2,3],dtype='float16')"
   ]
  },
  {
   "cell_type": "code",
   "execution_count": null,
   "id": "10e0e9c5",
   "metadata": {},
   "outputs": [],
   "source": [
    "# np.arange\n",
    "np.arange(1,11)"
   ]
  },
  {
   "cell_type": "code",
   "execution_count": null,
   "id": "328aa735",
   "metadata": {},
   "outputs": [],
   "source": [
    "# reshape\n",
    "np.arange(1,11).reshape(2,5)"
   ]
  },
  {
   "cell_type": "code",
   "execution_count": null,
   "id": "c69e827b",
   "metadata": {},
   "outputs": [],
   "source": [
    "c=np.arange(1,9).reshape(2,2,2)\n",
    "c"
   ]
  },
  {
   "cell_type": "code",
   "execution_count": null,
   "id": "35225b07",
   "metadata": {},
   "outputs": [],
   "source": [
    "c=c.reshape(1,-1)"
   ]
  },
  {
   "cell_type": "code",
   "execution_count": null,
   "id": "fcc9dbb9",
   "metadata": {},
   "outputs": [],
   "source": [
    "c.ndim"
   ]
  },
  {
   "cell_type": "code",
   "execution_count": null,
   "id": "e6307fcc",
   "metadata": {},
   "outputs": [],
   "source": [
    "# np.ones\n",
    "np.ones((4,5))"
   ]
  },
  {
   "cell_type": "code",
   "execution_count": null,
   "id": "3b2630b2",
   "metadata": {},
   "outputs": [],
   "source": [
    "np.ones(10,dtype='int32')"
   ]
  },
  {
   "cell_type": "code",
   "execution_count": null,
   "id": "57c9d8d8",
   "metadata": {},
   "outputs": [],
   "source": [
    "# np.zeros\n",
    "np.zeros((3,2))"
   ]
  },
  {
   "cell_type": "code",
   "execution_count": null,
   "id": "de203a4a",
   "metadata": {},
   "outputs": [],
   "source": [
    "# np.random\n",
    "np.random.random((4))"
   ]
  },
  {
   "cell_type": "code",
   "execution_count": null,
   "id": "3486f299",
   "metadata": {},
   "outputs": [],
   "source": [
    "# np.linspace\n",
    "np.linspace(1,10,40,dtype='int32')"
   ]
  },
  {
   "cell_type": "code",
   "execution_count": null,
   "id": "c93b1b5c",
   "metadata": {},
   "outputs": [],
   "source": [
    "# np.identity\n",
    "np.identity(3,dtype='int')"
   ]
  },
  {
   "cell_type": "markdown",
   "id": "14696115",
   "metadata": {},
   "source": [
    "### Array operations"
   ]
  },
  {
   "cell_type": "code",
   "execution_count": null,
   "id": "7a4fd398",
   "metadata": {},
   "outputs": [],
   "source": [
    "a = np.arange(1,21,dtype='int64').reshape(5,4)\n",
    "a"
   ]
  },
  {
   "cell_type": "code",
   "execution_count": null,
   "id": "420fb4a1",
   "metadata": {},
   "outputs": [],
   "source": [
    "# ndim\n",
    "a.ndim"
   ]
  },
  {
   "cell_type": "code",
   "execution_count": null,
   "id": "15679926",
   "metadata": {},
   "outputs": [],
   "source": [
    "# shape\n",
    "a.shape"
   ]
  },
  {
   "cell_type": "code",
   "execution_count": null,
   "id": "c1c4e2cc",
   "metadata": {},
   "outputs": [],
   "source": [
    "# size\n",
    "a.size"
   ]
  },
  {
   "cell_type": "code",
   "execution_count": null,
   "id": "afca8844",
   "metadata": {},
   "outputs": [],
   "source": [
    "a.dtype"
   ]
  },
  {
   "cell_type": "code",
   "execution_count": null,
   "id": "d095237c",
   "metadata": {},
   "outputs": [],
   "source": [
    "# itemsize - function returns the length of one array element in bytes.\n",
    "a.itemsize"
   ]
  },
  {
   "cell_type": "code",
   "execution_count": null,
   "id": "4dc136f6",
   "metadata": {},
   "outputs": [],
   "source": [
    "20/5"
   ]
  },
  {
   "cell_type": "code",
   "execution_count": null,
   "id": "2ff7e8a9",
   "metadata": {},
   "outputs": [],
   "source": [
    "# astype()\n",
    "a.astype(np.float16)"
   ]
  },
  {
   "cell_type": "code",
   "execution_count": null,
   "id": "a3665692",
   "metadata": {},
   "outputs": [],
   "source": [
    "# scalar operations\n",
    "\n",
    "b = np.arange(9).reshape(3,3)\n",
    "b"
   ]
  },
  {
   "cell_type": "code",
   "execution_count": null,
   "id": "b639ed8e",
   "metadata": {},
   "outputs": [],
   "source": [
    "b *2"
   ]
  },
  {
   "cell_type": "code",
   "execution_count": null,
   "id": "6382ae56",
   "metadata": {},
   "outputs": [],
   "source": [
    "b **2"
   ]
  },
  {
   "cell_type": "code",
   "execution_count": null,
   "id": "e6ac5d71",
   "metadata": {},
   "outputs": [],
   "source": [
    "b ** 0.5"
   ]
  },
  {
   "cell_type": "code",
   "execution_count": null,
   "id": "82ecf12b",
   "metadata": {},
   "outputs": [],
   "source": [
    "b - 5"
   ]
  },
  {
   "cell_type": "code",
   "execution_count": null,
   "id": "c90d6a4e",
   "metadata": {},
   "outputs": [],
   "source": [
    "b / 2"
   ]
  },
  {
   "cell_type": "code",
   "execution_count": null,
   "id": "8cf858b8",
   "metadata": {},
   "outputs": [],
   "source": [
    "b % 2"
   ]
  },
  {
   "cell_type": "code",
   "execution_count": null,
   "id": "e0387f79",
   "metadata": {},
   "outputs": [],
   "source": [
    "# realtional\n",
    "b % 2 == 0"
   ]
  },
  {
   "cell_type": "code",
   "execution_count": null,
   "id": "e86b03fd",
   "metadata": {},
   "outputs": [],
   "source": [
    "# vector operations\n",
    "a = np.arange(1,7).reshape(2,3)\n",
    "b = np.arange(7,13).reshape(2,3)\n",
    "print(a)\n",
    "print(b)"
   ]
  },
  {
   "cell_type": "code",
   "execution_count": null,
   "id": "7a974d78",
   "metadata": {},
   "outputs": [],
   "source": [
    "a * b"
   ]
  },
  {
   "cell_type": "code",
   "execution_count": null,
   "id": "d9952449",
   "metadata": {},
   "outputs": [],
   "source": [
    "# vector operations\n",
    "a = np.arange(1,7).reshape(2,3)\n",
    "b = np.arange(7,13).reshape(3,2)\n",
    "print(a)\n",
    "print(b)"
   ]
  },
  {
   "cell_type": "code",
   "execution_count": null,
   "id": "56445211",
   "metadata": {},
   "outputs": [],
   "source": [
    "a = np.array([[0,2,1],[1,2,4]])\n",
    "b= np.array([[1,4],[2,5],[3,6]])\n",
    "b"
   ]
  },
  {
   "cell_type": "code",
   "execution_count": null,
   "id": "762cfdf9",
   "metadata": {},
   "outputs": [],
   "source": [
    "# np.dot\n",
    "np.dot(a,b)"
   ]
  },
  {
   "cell_type": "code",
   "execution_count": null,
   "id": "a6d99ebf",
   "metadata": {},
   "outputs": [],
   "source": [
    "# np.cross\n",
    "np.cross(a,b)"
   ]
  },
  {
   "cell_type": "code",
   "execution_count": null,
   "id": "125c69f7",
   "metadata": {},
   "outputs": [],
   "source": [
    "a = np.array([1,2,3])\n",
    "b = np.array([3,4,5])\n",
    "np.cross(a,b)"
   ]
  },
  {
   "cell_type": "code",
   "execution_count": null,
   "id": "209ae157",
   "metadata": {},
   "outputs": [],
   "source": [
    "a.round()"
   ]
  },
  {
   "cell_type": "code",
   "execution_count": null,
   "id": "6f8ad4d9",
   "metadata": {},
   "outputs": [],
   "source": [
    "np.round(a*100)"
   ]
  },
  {
   "cell_type": "code",
   "execution_count": null,
   "id": "d864944e",
   "metadata": {},
   "outputs": [],
   "source": [
    "# prod \n",
    "a = np.arange(1,13).reshape(3,4)\n",
    "a"
   ]
  },
  {
   "cell_type": "code",
   "execution_count": null,
   "id": "d381b391",
   "metadata": {},
   "outputs": [],
   "source": [
    "np.prod(np.arange(1,5))"
   ]
  },
  {
   "cell_type": "code",
   "execution_count": null,
   "id": "825119d0",
   "metadata": {},
   "outputs": [],
   "source": [
    "# 0 ==> column\n",
    "# 1 ==> rows"
   ]
  },
  {
   "cell_type": "code",
   "execution_count": null,
   "id": "330d1ead",
   "metadata": {},
   "outputs": [],
   "source": [
    "np.prod(a,axis=0)"
   ]
  },
  {
   "cell_type": "code",
   "execution_count": null,
   "id": "f74e2154",
   "metadata": {},
   "outputs": [],
   "source": [
    "np.prod(a,axis=1)"
   ]
  },
  {
   "cell_type": "code",
   "execution_count": null,
   "id": "61b13908",
   "metadata": {},
   "outputs": [],
   "source": [
    "# max\n"
   ]
  },
  {
   "cell_type": "code",
   "execution_count": null,
   "id": "082d81c7",
   "metadata": {},
   "outputs": [],
   "source": [
    "# min"
   ]
  },
  {
   "cell_type": "code",
   "execution_count": null,
   "id": "453577ca",
   "metadata": {},
   "outputs": [],
   "source": [
    "# sum"
   ]
  },
  {
   "cell_type": "code",
   "execution_count": null,
   "id": "64610b3d",
   "metadata": {},
   "outputs": [],
   "source": [
    "# stats [mean,median,std,var]\n"
   ]
  },
  {
   "cell_type": "code",
   "execution_count": null,
   "id": "4bee992a",
   "metadata": {},
   "outputs": [],
   "source": [
    "# round/floor/ceil\n",
    "a = np.random.random(4)\n",
    "a"
   ]
  },
  {
   "cell_type": "code",
   "execution_count": null,
   "id": "53b6f2ea",
   "metadata": {},
   "outputs": [],
   "source": [
    "np.floor(a)"
   ]
  },
  {
   "cell_type": "code",
   "execution_count": null,
   "id": "a73b5eaf",
   "metadata": {},
   "outputs": [],
   "source": [
    "np.ceil(a)"
   ]
  },
  {
   "cell_type": "code",
   "execution_count": null,
   "id": "20d969d1",
   "metadata": {},
   "outputs": [],
   "source": [
    "# reshape/Transpose/ravel"
   ]
  },
  {
   "cell_type": "code",
   "execution_count": null,
   "id": "e152ad0a",
   "metadata": {},
   "outputs": [],
   "source": [
    "# stacking hstack, vstack"
   ]
  },
  {
   "cell_type": "code",
   "execution_count": null,
   "id": "534fde85",
   "metadata": {},
   "outputs": [],
   "source": [
    "# splitting \n",
    "# hsplit [splits colums],\n",
    "# vsplit [splits rows]"
   ]
  },
  {
   "cell_type": "code",
   "execution_count": null,
   "id": "846d39bf",
   "metadata": {},
   "outputs": [],
   "source": []
  }
 ],
 "metadata": {
  "kernelspec": {
   "display_name": "Python 3 (ipykernel)",
   "language": "python",
   "name": "python3"
  },
  "language_info": {
   "codemirror_mode": {
    "name": "ipython",
    "version": 3
   },
   "file_extension": ".py",
   "mimetype": "text/x-python",
   "name": "python",
   "nbconvert_exporter": "python",
   "pygments_lexer": "ipython3",
   "version": "3.9.16"
  }
 },
 "nbformat": 4,
 "nbformat_minor": 5
}
