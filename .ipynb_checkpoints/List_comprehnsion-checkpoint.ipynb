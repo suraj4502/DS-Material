{
 "cells": [
  {
   "cell_type": "markdown",
   "id": "34d2d84d",
   "metadata": {},
   "source": [
    "## List Comprehension:\n",
    "\n",
    "- List comprehension is a concise way to create lists in Python by applying an expression to each item in an iterable (like a list, tuple, or range) and collecting the results into a new list. \n",
    "- It's a powerful and efficient construct for generating lists without having to write traditional loops.\n",
    "\n",
    "\n",
    "\n",
    "`new_list = [expression for item in iterable if condition]`\n",
    "\n",
    "\n",
    "- expression: The operation you want to perform on each item in the iterable.\n",
    "- item: The individual elements from the iterable.\n",
    "- iterable: The collection of items you're iterating over.\n",
    "- condition: to filter the elements based on some conditions."
   ]
  },
  {
   "cell_type": "code",
   "execution_count": null,
   "id": "cca95de5",
   "metadata": {},
   "outputs": [],
   "source": [
    "# create a list of even numbers from 1 to 20."
   ]
  },
  {
   "cell_type": "code",
   "execution_count": null,
   "id": "8465b228",
   "metadata": {},
   "outputs": [],
   "source": [
    "even = []\n",
    "for i in range(1,21):\n",
    "    if i % 2 == 0:\n",
    "        even.append(i)\n",
    "        "
   ]
  },
  {
   "cell_type": "code",
   "execution_count": null,
   "id": "7f5af095",
   "metadata": {},
   "outputs": [],
   "source": [
    "l = [5,6,7,8,1]\n",
    "square = [i **2 for i in l if i %2 ==0]\n",
    "square"
   ]
  },
  {
   "cell_type": "code",
   "execution_count": null,
   "id": "2b24a7d7",
   "metadata": {},
   "outputs": [],
   "source": [
    "even = [i for i in range(1,21) if i % 2 == 0]\n",
    "even"
   ]
  },
  {
   "cell_type": "code",
   "execution_count": null,
   "id": "f2c81b25",
   "metadata": {},
   "outputs": [],
   "source": [
    "even"
   ]
  },
  {
   "cell_type": "code",
   "execution_count": null,
   "id": "8018a68c",
   "metadata": {},
   "outputs": [],
   "source": [
    "# generate a list of Square of every even number from 1 to 10\n",
    "result = [i**2 for i in range(1,11) if i%2 == 0]\n",
    "result"
   ]
  },
  {
   "cell_type": "code",
   "execution_count": null,
   "id": "cf0559fb",
   "metadata": {},
   "outputs": [],
   "source": [
    "result = [i**2 for i in range(1,11)]\n",
    "result"
   ]
  },
  {
   "cell_type": "code",
   "execution_count": null,
   "id": "e872d6b7",
   "metadata": {},
   "outputs": [],
   "source": [
    "# generate a list of sqaures of numbers from 1 to 10\n",
    "\n",
    "l = list(range(1,11))\n",
    "print(l)\n",
    "result = list(map(lambda x : x**2, l))\n",
    "result"
   ]
  },
  {
   "cell_type": "code",
   "execution_count": null,
   "id": "a6bbb0ce",
   "metadata": {},
   "outputs": [],
   "source": [
    "result = []\n",
    "for i in range(1,11):\n",
    "    result.append(i**2)\n",
    "    \n",
    "print(result)"
   ]
  },
  {
   "cell_type": "code",
   "execution_count": null,
   "id": "c1c807b3",
   "metadata": {},
   "outputs": [],
   "source": [
    "l = [1,2,3,4,5,6,7,8,9,10]\n",
    "\n",
    "squares_of_even_nums = [i**2 for i in l if i%2==0]\n",
    "squares_of_even_nums"
   ]
  },
  {
   "cell_type": "code",
   "execution_count": null,
   "id": "31e78e3c",
   "metadata": {},
   "outputs": [],
   "source": [
    "result = [i**2 for i in range(1,11)]\n",
    "result"
   ]
  },
  {
   "cell_type": "code",
   "execution_count": null,
   "id": "d38d808c",
   "metadata": {},
   "outputs": [],
   "source": [
    "result = []\n",
    "for i in range(1,11):\n",
    "    result.append(i**2)\n",
    "    \n",
    "result   "
   ]
  },
  {
   "cell_type": "code",
   "execution_count": null,
   "id": "3b717f39",
   "metadata": {},
   "outputs": [],
   "source": [
    "l = ['suraj','shahid','ankush','ankur','sanjay']\n",
    "\n",
    "s = []\n",
    "\n",
    "for i in l:\n",
    "    if i[0] == 's':\n",
    "        s.append(i)\n",
    "\n",
    "print(s)"
   ]
  },
  {
   "cell_type": "code",
   "execution_count": null,
   "id": "214abd73",
   "metadata": {},
   "outputs": [],
   "source": [
    "s = [i for i in l if i[0] == 's']\n",
    "s"
   ]
  },
  {
   "cell_type": "code",
   "execution_count": null,
   "id": "1bcc5119",
   "metadata": {},
   "outputs": [],
   "source": [
    "result = [i.capitalize() for i in l ]\n",
    "result"
   ]
  },
  {
   "cell_type": "code",
   "execution_count": null,
   "id": "6db9f310",
   "metadata": {},
   "outputs": [],
   "source": [
    "a = 'fname lname'\n",
    "a.split()[0]"
   ]
  },
  {
   "cell_type": "code",
   "execution_count": null,
   "id": "92f2a003",
   "metadata": {},
   "outputs": [],
   "source": [
    "fnames = []\n",
    "for i in names:\n",
    "    fnames.append(i.split()[0])\n",
    "fnames"
   ]
  },
  {
   "cell_type": "code",
   "execution_count": null,
   "id": "6f755709",
   "metadata": {},
   "outputs": [],
   "source": [
    "names = ['fname lname','fname1 lname2']\n",
    "fnames = [i.split()[0] for i in names]\n",
    "fnames"
   ]
  },
  {
   "cell_type": "code",
   "execution_count": null,
   "id": "9a919bca",
   "metadata": {},
   "outputs": [],
   "source": [
    "h_letters = []\n",
    "\n",
    "for letter in 'human':\n",
    "    h_letters.append(letter*2)\n",
    "\n",
    "print(h_letters)"
   ]
  },
  {
   "cell_type": "code",
   "execution_count": null,
   "id": "f6b243e1",
   "metadata": {},
   "outputs": [],
   "source": [
    "h_letters = [letter*2 for letter in 'human' if letter != 'a']\n",
    "h_letters"
   ]
  },
  {
   "cell_type": "code",
   "execution_count": null,
   "id": "708e24d8",
   "metadata": {},
   "outputs": [],
   "source": [
    "num_list = [y for y in range(100)if y%2 ==0 if y%5==0 if y != 0 ]\n",
    "print(num_list)"
   ]
  },
  {
   "cell_type": "code",
   "execution_count": null,
   "id": "7efb923e",
   "metadata": {},
   "outputs": [],
   "source": [
    "[i**2]"
   ]
  },
  {
   "cell_type": "code",
   "execution_count": null,
   "id": "4e7c0ad5",
   "metadata": {},
   "outputs": [],
   "source": [
    "l = [4,5,6,1,3]\n",
    "result = [(i,'even' if i %2 ==0 else 'odd') for i in l]\n",
    "dict(result)"
   ]
  },
  {
   "cell_type": "code",
   "execution_count": null,
   "id": "facff692",
   "metadata": {},
   "outputs": [],
   "source": [
    "n=[]\n",
    "for i in l:\n",
    "    if i%2 ==0:\n",
    "        n.append(\"Even\")\n",
    "    else:\n",
    "        n.append(\"ODD\")\n",
    "n"
   ]
  },
  {
   "cell_type": "markdown",
   "id": "8223e811",
   "metadata": {},
   "source": [
    "## FILTER FUNCTION:"
   ]
  },
  {
   "cell_type": "code",
   "execution_count": null,
   "id": "46a32b60",
   "metadata": {},
   "outputs": [],
   "source": [
    "a = lambda x : x[0] == 's'\n",
    "a('uraj')"
   ]
  },
  {
   "cell_type": "code",
   "execution_count": null,
   "id": "bd40e9b3",
   "metadata": {},
   "outputs": [],
   "source": [
    "a = "
   ]
  },
  {
   "cell_type": "code",
   "execution_count": null,
   "id": "23aa890f",
   "metadata": {},
   "outputs": [],
   "source": [
    "5 %2 == 0"
   ]
  },
  {
   "cell_type": "code",
   "execution_count": null,
   "id": "517a36d7",
   "metadata": {},
   "outputs": [],
   "source": [
    "l = [5,6,7,8,9]\n",
    "list(filter(lambda x : x%2 != 0,l))"
   ]
  },
  {
   "cell_type": "code",
   "execution_count": null,
   "id": "fceed216",
   "metadata": {},
   "outputs": [],
   "source": [
    "a = lambda x : x[0] =='s'"
   ]
  },
  {
   "cell_type": "code",
   "execution_count": null,
   "id": "138bee1c",
   "metadata": {},
   "outputs": [],
   "source": [
    "a('hawn')"
   ]
  },
  {
   "cell_type": "code",
   "execution_count": null,
   "id": "b66d35fb",
   "metadata": {},
   "outputs": [],
   "source": [
    "# return all the elements starting with s\n",
    "l = ['suraj','shahid','ankush','ankur','sanjay']\n",
    "\n",
    "set(filter(lambda x : x[0] =='s' , l))"
   ]
  },
  {
   "cell_type": "code",
   "execution_count": null,
   "id": "a2a5a257",
   "metadata": {},
   "outputs": [],
   "source": [
    "l = [1,2,3,4,5,6,7,8,9,10]\n",
    "list(filter(lambda x : x%2 != 0,l))"
   ]
  },
  {
   "cell_type": "code",
   "execution_count": null,
   "id": "5b54e492",
   "metadata": {},
   "outputs": [],
   "source": [
    "# Create a list of numbers to filter\n",
    "numbers = [1, 2, 3, 4, 5, 6, 7,12 , 8, 9, 10]\n",
    "\n",
    "list(filter(lambda x: x%3 ==0,numbers))"
   ]
  },
  {
   "cell_type": "code",
   "execution_count": null,
   "id": "8e0f7a73",
   "metadata": {},
   "outputs": [],
   "source": [
    "'E'.lower() in 'aeiou'"
   ]
  },
  {
   "cell_type": "code",
   "execution_count": null,
   "id": "19b5dc13",
   "metadata": {},
   "outputs": [],
   "source": [
    "# Filter all the vowels from the given list\n",
    "sequence = ['g', 'e', 'e', 'j', 'k', 's', 'p', 'r','i','a']\n",
    "\n",
    "sequence = 'THis is a sEntence also called strings wala dattattype. ooo uu '\n",
    "set(filter(lambda x : x.lower() in 'aeiou', sequence ))"
   ]
  },
  {
   "cell_type": "code",
   "execution_count": null,
   "id": "f570d650",
   "metadata": {},
   "outputs": [],
   "source": [
    "list(range(4,41,4))"
   ]
  },
  {
   "cell_type": "markdown",
   "id": "550cf093",
   "metadata": {},
   "source": [
    "# ZIP"
   ]
  },
  {
   "cell_type": "code",
   "execution_count": null,
   "id": "38109817",
   "metadata": {},
   "outputs": [],
   "source": [
    "l1 = [4,5,6,7,6,6]\n",
    "l2 = [6,6,7,8,6,6,6,6]\n",
    "\n",
    "list(zip(l1,l2))"
   ]
  },
  {
   "cell_type": "code",
   "execution_count": null,
   "id": "78f207c9",
   "metadata": {},
   "outputs": [],
   "source": [
    "f = ['f1','f2','f3']\n",
    "l = ['l1','l2', 'l3']\n",
    "l1 = ['l1','l2', 'l3']\n",
    "\n",
    "\n",
    "list(zip(f,l,l1))"
   ]
  },
  {
   "cell_type": "code",
   "execution_count": null,
   "id": "99cf6906",
   "metadata": {},
   "outputs": [],
   "source": [
    "a = 'abcdefg'\n",
    "b = [0,1,2]   # range(3)\n",
    "c = [0,1,2,3] # range(4)"
   ]
  },
  {
   "cell_type": "code",
   "execution_count": null,
   "id": "ddf5ae62",
   "metadata": {},
   "outputs": [],
   "source": [
    "list(zip(a,b,c))"
   ]
  },
  {
   "cell_type": "code",
   "execution_count": null,
   "id": "6cdc3a01",
   "metadata": {},
   "outputs": [],
   "source": [
    "list(zip('abcdefg', [0,1,2], range(4)))"
   ]
  },
  {
   "cell_type": "code",
   "execution_count": null,
   "id": "b496bf33",
   "metadata": {},
   "outputs": [],
   "source": [
    "languages = ['Java', 'Python', 'JavaScript']\n",
    "versions = [14, 3, 6]\n",
    "\n",
    "dict(zip(languages,versions))"
   ]
  },
  {
   "cell_type": "code",
   "execution_count": null,
   "id": "07744dcc",
   "metadata": {},
   "outputs": [],
   "source": [
    "numbersList = [1, 2, 3]\n",
    "str_list = ['one', 'two','three']\n",
    "numbers_tuple = ('ONE', 'TWO', 'THREE', 'FOUR')\n",
    "\n",
    "\n",
    "result = zip(numbersList, numbers_tuple,str_list)"
   ]
  },
  {
   "cell_type": "code",
   "execution_count": null,
   "id": "698af9bb",
   "metadata": {},
   "outputs": [],
   "source": [
    "result_list = list(result)\n",
    "result_list"
   ]
  },
  {
   "cell_type": "code",
   "execution_count": null,
   "id": "a8f160ad",
   "metadata": {},
   "outputs": [],
   "source": [
    "a, b, c =  zip(*result_list)\n",
    "\n",
    "print(a,b,c)"
   ]
  },
  {
   "cell_type": "code",
   "execution_count": null,
   "id": "ab3415e7",
   "metadata": {},
   "outputs": [],
   "source": [
    "coordinate = ['x', 'y', 'z']\n",
    "value = [3, 4, 5]\n",
    "\n",
    "result = zip(coordinate, value)\n",
    "result_list = list(result)\n",
    "print(result_list)\n",
    "\n",
    "c, v =  zip(*result_list)\n",
    "print('c =', c)\n",
    "print('v =', v)"
   ]
  },
  {
   "cell_type": "markdown",
   "id": "b88c2289",
   "metadata": {},
   "source": [
    "---"
   ]
  },
  {
   "cell_type": "markdown",
   "id": "55c6d4f2",
   "metadata": {},
   "source": [
    "## ENUMERATE"
   ]
  },
  {
   "cell_type": "code",
   "execution_count": 4,
   "id": "1291212d",
   "metadata": {},
   "outputs": [
    {
     "data": {
      "text/plain": [
       "[(1, 4), (2, 'abc'), (3, (12, 3)), (4, '5')]"
      ]
     },
     "execution_count": 4,
     "metadata": {},
     "output_type": "execute_result"
    }
   ],
   "source": [
    "l = [4,'abc',(12,3),'5']\n",
    "list(enumerate(l,start = 1))"
   ]
  },
  {
   "cell_type": "code",
   "execution_count": 5,
   "id": "3414ebdd",
   "metadata": {},
   "outputs": [
    {
     "data": {
      "text/plain": [
       "[(0, 'bread'), (1, 'milk'), (2, 'butter')]"
      ]
     },
     "execution_count": 5,
     "metadata": {},
     "output_type": "execute_result"
    }
   ],
   "source": [
    "grocery = ['bread', 'milk', 'butter']\n",
    "enumerateGrocery = enumerate(grocery)\n",
    "list(enumerateGrocery)"
   ]
  },
  {
   "cell_type": "code",
   "execution_count": 6,
   "id": "c1dadf4f",
   "metadata": {},
   "outputs": [
    {
     "name": "stdout",
     "output_type": "stream",
     "text": [
      "elem1\n",
      "elem2\n",
      "elem3\n"
     ]
    }
   ],
   "source": [
    "s = ['elem1','elem2','elem3']\n",
    "for i in s:\n",
    "    print(i)"
   ]
  },
  {
   "cell_type": "code",
   "execution_count": 7,
   "id": "3a466257",
   "metadata": {},
   "outputs": [
    {
     "name": "stdout",
     "output_type": "stream",
     "text": [
      "1 elem1\n",
      "2 elem2\n",
      "3 elem3\n"
     ]
    }
   ],
   "source": [
    "for index,value in enumerate(s,start=1):\n",
    "    print(index, value)"
   ]
  },
  {
   "cell_type": "code",
   "execution_count": null,
   "id": "2f388da8",
   "metadata": {},
   "outputs": [],
   "source": []
  },
  {
   "cell_type": "code",
   "execution_count": null,
   "id": "a2b00cba",
   "metadata": {},
   "outputs": [],
   "source": [
    "my_list = [2,3,4,5,6,71,2,2,90,12]\n",
    "even_nums = [i for i in my_list if (i%2) == 0]\n",
    "# for i in my_list:\n",
    "#     if i % 2 == 0:\n",
    "#         even_nums.append(i)\n",
    "        \n",
    "print(even_nums)"
   ]
  },
  {
   "cell_type": "code",
   "execution_count": null,
   "id": "1b1ec5a5",
   "metadata": {},
   "outputs": [],
   "source": [
    "new_list = [i for i in range(11)  if i % 2 ==0 ]\n",
    "# for i in range(11):\n",
    "#     if (i%2)==0:\n",
    "#         new_list.append(i)\n",
    "print(new_list)"
   ]
  },
  {
   "cell_type": "code",
   "execution_count": null,
   "id": "03be1e07",
   "metadata": {},
   "outputs": [],
   "source": [
    "matrix_wali_list = []\n",
    "\n",
    "for i in range(3):\n",
    "    sublist = []\n",
    "    for j in range(1,4):\n",
    "        sublist.append(j)\n",
    "    matrix_wali_list.append(sublist)\n",
    "    \n",
    "for i in matrix_wali_list:\n",
    "    print(i)"
   ]
  },
  {
   "cell_type": "code",
   "execution_count": null,
   "id": "fc3ae6ba",
   "metadata": {},
   "outputs": [],
   "source": [
    "matrix = []\n",
    "\n",
    "for row in range(3):\n",
    "\n",
    "\t# Append an empty sublist inside the list\n",
    "\tmatrix.append([])\n",
    "\n",
    "\tfor column in range(3):\n",
    "\t\tmatrix[row].append(column)\n",
    "\n",
    "for i in matrix:\n",
    "    print(i)\n"
   ]
  },
  {
   "cell_type": "code",
   "execution_count": null,
   "id": "23658e9e",
   "metadata": {},
   "outputs": [],
   "source": [
    "[[j for j in range(1,4)] for i in range(3)]"
   ]
  },
  {
   "cell_type": "code",
   "execution_count": null,
   "id": "85761550",
   "metadata": {},
   "outputs": [],
   "source": [
    "m = [[j for j in range(1,4)] for i in range(3)]\n",
    "m"
   ]
  },
  {
   "cell_type": "code",
   "execution_count": null,
   "id": "fa831176",
   "metadata": {},
   "outputs": [],
   "source": [
    "# map --> \n",
    "l = [3,4,5,6,8]\n",
    "list(map(lambda x : x**3,l))"
   ]
  },
  {
   "cell_type": "code",
   "execution_count": null,
   "id": "5ad7e332",
   "metadata": {},
   "outputs": [],
   "source": []
  },
  {
   "cell_type": "code",
   "execution_count": null,
   "id": "04d6d1e9",
   "metadata": {},
   "outputs": [],
   "source": [
    "l = [\"Even number\" if i % 2 == 0 else \"Odd number\" for i in range(8)]\n",
    "print(l)"
   ]
  },
  {
   "cell_type": "code",
   "execution_count": null,
   "id": "c67febf1",
   "metadata": {},
   "outputs": [],
   "source": [
    "string = 'BATMAN_qwwj'\n",
    "l = [character for character in string]\n",
    "# for i in string:\n",
    "#     l.append(i)\n",
    "print(l)"
   ]
  },
  {
   "cell_type": "code",
   "execution_count": null,
   "id": "f500c03b",
   "metadata": {},
   "outputs": [],
   "source": [
    "lambda n : n ** 2"
   ]
  },
  {
   "cell_type": "code",
   "execution_count": null,
   "id": "2cbb846d",
   "metadata": {},
   "outputs": [],
   "source": [
    "def square(n):\n",
    "    return n **2"
   ]
  }
 ],
 "metadata": {
  "kernelspec": {
   "display_name": "Python 3 (ipykernel)",
   "language": "python",
   "name": "python3"
  },
  "language_info": {
   "codemirror_mode": {
    "name": "ipython",
    "version": 3
   },
   "file_extension": ".py",
   "mimetype": "text/x-python",
   "name": "python",
   "nbconvert_exporter": "python",
   "pygments_lexer": "ipython3",
   "version": "3.11.4"
  }
 },
 "nbformat": 4,
 "nbformat_minor": 5
}
