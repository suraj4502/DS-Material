{
 "cells": [
  {
   "cell_type": "markdown",
   "id": "34d2d84d",
   "metadata": {},
   "source": [
    "## List Comprehension:\n",
    "\n",
    "- List comprehension is a concise way to create lists in Python by applying an expression to each item in an iterable (like a list, tuple, or range) and collecting the results into a new list. \n",
    "- It's a powerful and efficient construct for generating lists without having to write traditional loops.\n",
    "\n",
    "\n",
    "\n",
    "`new_list = [expression for item in iterable]`\n",
    "\n",
    "\n",
    "- expression: The operation you want to perform on each item in the iterable.\n",
    "- item: The individual elements from the iterable.\n",
    "- iterable: The collection of items you're iterating over."
   ]
  },
  {
   "cell_type": "code",
   "execution_count": 13,
   "id": "8018a68c",
   "metadata": {},
   "outputs": [
    {
     "data": {
      "text/plain": [
       "[4, 16, 36, 64, 100]"
      ]
     },
     "execution_count": 13,
     "metadata": {},
     "output_type": "execute_result"
    }
   ],
   "source": [
    "# generate a list of Square of every even number from 1 to 10\n",
    "result = [i**2 for i in range(1,11) if i%2 == 0]\n",
    "result"
   ]
  },
  {
   "cell_type": "code",
   "execution_count": 7,
   "id": "cf0559fb",
   "metadata": {},
   "outputs": [
    {
     "data": {
      "text/plain": [
       "[1, 4, 9, 16, 25, 36, 49, 64, 81, 100]"
      ]
     },
     "execution_count": 7,
     "metadata": {},
     "output_type": "execute_result"
    }
   ],
   "source": [
    "result = [i**2 for i in range(1,11)]\n",
    "result"
   ]
  },
  {
   "cell_type": "code",
   "execution_count": 5,
   "id": "e872d6b7",
   "metadata": {},
   "outputs": [
    {
     "data": {
      "text/plain": [
       "[1, 4, 9, 16, 25, 36, 49, 64, 81, 100]"
      ]
     },
     "execution_count": 5,
     "metadata": {},
     "output_type": "execute_result"
    }
   ],
   "source": [
    "# generate a list of sqaures of numbers from 1 to 10\n",
    "\n",
    "l = list(range(1,11))\n",
    "result = list(map(lambda x : x**2, l))\n",
    "result"
   ]
  },
  {
   "cell_type": "code",
   "execution_count": 6,
   "id": "a6bbb0ce",
   "metadata": {},
   "outputs": [
    {
     "name": "stdout",
     "output_type": "stream",
     "text": [
      "[1, 4, 9, 16, 25, 36, 49, 64, 81, 100]\n"
     ]
    }
   ],
   "source": [
    "result = []\n",
    "for i in range(1,11):\n",
    "    result.append(i**2)\n",
    "    \n",
    "print(result)"
   ]
  },
  {
   "cell_type": "code",
   "execution_count": 4,
   "id": "c1c807b3",
   "metadata": {},
   "outputs": [
    {
     "data": {
      "text/plain": [
       "[4, 16, 36, 64, 100]"
      ]
     },
     "execution_count": 4,
     "metadata": {},
     "output_type": "execute_result"
    }
   ],
   "source": [
    "l = [1,2,3,4,5,6,7,8,9,10]\n",
    "\n",
    "squares_of_even_nums = [i**2 for i in l if i%2==0]\n",
    "squares_of_even_nums"
   ]
  },
  {
   "cell_type": "code",
   "execution_count": 3,
   "id": "31e78e3c",
   "metadata": {},
   "outputs": [
    {
     "data": {
      "text/plain": [
       "[1, 4, 9, 16, 25, 36, 49, 64, 81, 100]"
      ]
     },
     "execution_count": 3,
     "metadata": {},
     "output_type": "execute_result"
    }
   ],
   "source": [
    "result = [i**2 for i in range(1,11)]\n",
    "result"
   ]
  },
  {
   "cell_type": "code",
   "execution_count": 1,
   "id": "d38d808c",
   "metadata": {},
   "outputs": [
    {
     "data": {
      "text/plain": [
       "[1, 4, 9, 16, 25, 36, 49, 64, 81, 100]"
      ]
     },
     "execution_count": 1,
     "metadata": {},
     "output_type": "execute_result"
    }
   ],
   "source": [
    "result = []\n",
    "for i in range(1,11):\n",
    "    result.append(i**2)\n",
    "    \n",
    "result   "
   ]
  },
  {
   "cell_type": "code",
   "execution_count": 15,
   "id": "3b717f39",
   "metadata": {},
   "outputs": [
    {
     "data": {
      "text/plain": [
       "['suraj', 'shahid', 'ankush', 'sanjay']"
      ]
     },
     "execution_count": 15,
     "metadata": {},
     "output_type": "execute_result"
    }
   ],
   "source": [
    "l = ['suraj','shahid','ankush','ankur','sanjay']\n",
    "\n",
    "result = [i for i in l if 's' in i]\n",
    "result"
   ]
  },
  {
   "cell_type": "code",
   "execution_count": 16,
   "id": "1bcc5119",
   "metadata": {},
   "outputs": [
    {
     "data": {
      "text/plain": [
       "['Suraj', 'Shahid', 'Ankush', 'Ankur', 'Sanjay']"
      ]
     },
     "execution_count": 16,
     "metadata": {},
     "output_type": "execute_result"
    }
   ],
   "source": [
    "result = [i.capitalize() for i in l]\n",
    "result"
   ]
  },
  {
   "cell_type": "code",
   "execution_count": 4,
   "id": "9a919bca",
   "metadata": {},
   "outputs": [
    {
     "name": "stdout",
     "output_type": "stream",
     "text": [
      "['hh', 'uu', 'mm', 'aa', 'nn']\n"
     ]
    }
   ],
   "source": [
    "h_letters = []\n",
    "\n",
    "for letter in 'human':\n",
    "    h_letters.append(letter*2)\n",
    "\n",
    "print(h_letters)"
   ]
  },
  {
   "cell_type": "code",
   "execution_count": 7,
   "id": "f6b243e1",
   "metadata": {},
   "outputs": [
    {
     "data": {
      "text/plain": [
       "['hh', 'uu', 'mm', 'nn']"
      ]
     },
     "execution_count": 7,
     "metadata": {},
     "output_type": "execute_result"
    }
   ],
   "source": [
    "h_letters = [letter*2 for letter in 'human' if letter != 'a']\n",
    "h_letters"
   ]
  },
  {
   "cell_type": "code",
   "execution_count": 23,
   "id": "708e24d8",
   "metadata": {},
   "outputs": [
    {
     "name": "stdout",
     "output_type": "stream",
     "text": [
      "[10, 20, 30, 40, 50, 60, 70, 80, 90]\n"
     ]
    }
   ],
   "source": [
    "num_list = [y for y in range(100)if y%2 ==0 if y%5==0 if y != 0]\n",
    "print(num_list)"
   ]
  },
  {
   "cell_type": "code",
   "execution_count": 24,
   "id": "4e7c0ad5",
   "metadata": {},
   "outputs": [
    {
     "data": {
      "text/plain": [
       "['Even', 'odd', 'Even', 'odd', 'odd']"
      ]
     },
     "execution_count": 24,
     "metadata": {},
     "output_type": "execute_result"
    }
   ],
   "source": [
    "l = [4,5,6,1,3]\n",
    "n = ['Even' if i %2 ==0 else \"odd\" for i in l]\n",
    "n"
   ]
  },
  {
   "cell_type": "code",
   "execution_count": 21,
   "id": "facff692",
   "metadata": {},
   "outputs": [
    {
     "data": {
      "text/plain": [
       "['Even', 'ODD', 'Even', 'ODD', 'ODD']"
      ]
     },
     "execution_count": 21,
     "metadata": {},
     "output_type": "execute_result"
    }
   ],
   "source": [
    "n=[]\n",
    "for i in l:\n",
    "    if i%2 ==0:\n",
    "        n.append(\"Even\")\n",
    "    else:\n",
    "        n.append(\"ODD\")\n",
    "n"
   ]
  },
  {
   "cell_type": "markdown",
   "id": "8223e811",
   "metadata": {},
   "source": [
    "## FILTER FUNCTION:"
   ]
  },
  {
   "cell_type": "code",
   "execution_count": 27,
   "id": "a2a5a257",
   "metadata": {},
   "outputs": [
    {
     "data": {
      "text/plain": [
       "[1, 3, 5, 7, 9]"
      ]
     },
     "execution_count": 27,
     "metadata": {},
     "output_type": "execute_result"
    }
   ],
   "source": [
    "l = [1,2,3,4,5,6,7,8,9,10]\n",
    "list(filter(lambda x : x%2 != 0,l))"
   ]
  },
  {
   "cell_type": "code",
   "execution_count": 28,
   "id": "5b54e492",
   "metadata": {},
   "outputs": [
    {
     "data": {
      "text/plain": [
       "[3, 6, 9]"
      ]
     },
     "execution_count": 28,
     "metadata": {},
     "output_type": "execute_result"
    }
   ],
   "source": [
    "# Create a list of numbers to filter\n",
    "numbers = [1, 2, 3, 4, 5, 6, 7, 8, 9, 10]\n",
    "\n",
    "list(filter(lambda x: x%3 ==0,numbers))"
   ]
  },
  {
   "cell_type": "code",
   "execution_count": 31,
   "id": "8e0f7a73",
   "metadata": {},
   "outputs": [
    {
     "data": {
      "text/plain": [
       "True"
      ]
     },
     "execution_count": 31,
     "metadata": {},
     "output_type": "execute_result"
    }
   ],
   "source": [
    "'e' in ['a','e','i','o','u']"
   ]
  },
  {
   "cell_type": "code",
   "execution_count": 33,
   "id": "19b5dc13",
   "metadata": {},
   "outputs": [
    {
     "data": {
      "text/plain": [
       "{'a', 'e', 'i'}"
      ]
     },
     "execution_count": 33,
     "metadata": {},
     "output_type": "execute_result"
    }
   ],
   "source": [
    "# Filter all the vowels from the given list\n",
    "sequence = ['g', 'e', 'e', 'j', 'k', 's', 'p', 'r','i','a']\n",
    "\n",
    "set(filter(lambda x : x in ['a','e','i','o','u'], sequence))"
   ]
  },
  {
   "cell_type": "markdown",
   "id": "550cf093",
   "metadata": {},
   "source": [
    "# ZIP"
   ]
  },
  {
   "cell_type": "code",
   "execution_count": 38,
   "id": "78f207c9",
   "metadata": {},
   "outputs": [
    {
     "data": {
      "text/plain": [
       "{'f1': 'l1', 'f2': 'l2', 'f3': 'l3'}"
      ]
     },
     "execution_count": 38,
     "metadata": {},
     "output_type": "execute_result"
    }
   ],
   "source": [
    "f = ['f1','f2','f3']\n",
    "l = ['l1','l2', 'l3']\n",
    "l1 = ['l1','l2', 'l3']\n",
    "\n",
    "\n",
    "dict(zip(f,l))"
   ]
  },
  {
   "cell_type": "code",
   "execution_count": 42,
   "id": "99cf6906",
   "metadata": {},
   "outputs": [],
   "source": [
    "a = 'abcdefg'\n",
    "b = [0,1,2]\n",
    "c = [0,1,2,3]"
   ]
  },
  {
   "cell_type": "code",
   "execution_count": 43,
   "id": "6cdc3a01",
   "metadata": {},
   "outputs": [
    {
     "data": {
      "text/plain": [
       "[('a', 0, 0), ('b', 1, 1), ('c', 2, 2), ('d', 3, 3)]"
      ]
     },
     "execution_count": 43,
     "metadata": {},
     "output_type": "execute_result"
    }
   ],
   "source": [
    "list(zip('abcdefg', range(4), range(4)))"
   ]
  },
  {
   "cell_type": "code",
   "execution_count": 45,
   "id": "b496bf33",
   "metadata": {},
   "outputs": [
    {
     "data": {
      "text/plain": [
       "{'Java': 14, 'Python': 3, 'JavaScript': 6}"
      ]
     },
     "execution_count": 45,
     "metadata": {},
     "output_type": "execute_result"
    }
   ],
   "source": [
    "languages = ['Java', 'Python', 'JavaScript']\n",
    "versions = [14, 3, 6]\n",
    "\n",
    "dict(zip(languages,versions))"
   ]
  },
  {
   "cell_type": "code",
   "execution_count": 90,
   "id": "07744dcc",
   "metadata": {},
   "outputs": [],
   "source": [
    "numbersList = [1, 2, 3]\n",
    "str_list = ['one', 'two','three']\n",
    "numbers_tuple = ('ONE', 'TWO', 'THREE', 'FOUR')\n",
    "\n",
    "\n",
    "result = zip(numbersList, numbers_tuple,str_list)"
   ]
  },
  {
   "cell_type": "code",
   "execution_count": 91,
   "id": "698af9bb",
   "metadata": {},
   "outputs": [
    {
     "data": {
      "text/plain": [
       "[(1, 'ONE', 'one'), (2, 'TWO', 'two'), (3, 'THREE', 'three')]"
      ]
     },
     "execution_count": 91,
     "metadata": {},
     "output_type": "execute_result"
    }
   ],
   "source": [
    "result_list = list(result)\n",
    "result_list"
   ]
  },
  {
   "cell_type": "code",
   "execution_count": 92,
   "id": "a8f160ad",
   "metadata": {},
   "outputs": [
    {
     "name": "stdout",
     "output_type": "stream",
     "text": [
      "(1, 2, 3) ('ONE', 'TWO', 'THREE') ('one', 'two', 'three')\n"
     ]
    }
   ],
   "source": [
    "a, b, c =  zip(*result_list)\n",
    "\n",
    "print(a,b,c)"
   ]
  },
  {
   "cell_type": "code",
   "execution_count": 76,
   "id": "ab3415e7",
   "metadata": {},
   "outputs": [
    {
     "name": "stdout",
     "output_type": "stream",
     "text": [
      "[('x', 3), ('y', 4), ('z', 5)]\n",
      "c = ('x', 'y', 'z')\n",
      "v = (3, 4, 5)\n"
     ]
    }
   ],
   "source": [
    "coordinate = ['x', 'y', 'z']\n",
    "value = [3, 4, 5]\n",
    "\n",
    "result = zip(coordinate, value)\n",
    "result_list = list(result)\n",
    "print(result_list)\n",
    "\n",
    "c, v =  zip(*result_list)\n",
    "print('c =', c)\n",
    "print('v =', v)"
   ]
  },
  {
   "cell_type": "markdown",
   "id": "b88c2289",
   "metadata": {},
   "source": [
    "---"
   ]
  },
  {
   "cell_type": "markdown",
   "id": "55c6d4f2",
   "metadata": {},
   "source": [
    "## ENUMERATE"
   ]
  },
  {
   "cell_type": "code",
   "execution_count": 6,
   "id": "3414ebdd",
   "metadata": {},
   "outputs": [
    {
     "data": {
      "text/plain": [
       "[(0, 'bread'), (1, 'milk'), (2, 'butter')]"
      ]
     },
     "execution_count": 6,
     "metadata": {},
     "output_type": "execute_result"
    }
   ],
   "source": [
    "grocery = ['bread', 'milk', 'butter']\n",
    "enumerateGrocery = enumerate(grocery)\n",
    "list(enumerateGrocery)"
   ]
  },
  {
   "cell_type": "code",
   "execution_count": 2,
   "id": "c1dadf4f",
   "metadata": {},
   "outputs": [
    {
     "name": "stdout",
     "output_type": "stream",
     "text": [
      "elem1\n",
      "elem2\n",
      "elem3\n"
     ]
    }
   ],
   "source": [
    "s = ['elem1','elem2','elem3']\n",
    "for i in s:\n",
    "    print(i)"
   ]
  },
  {
   "cell_type": "code",
   "execution_count": 4,
   "id": "3a466257",
   "metadata": {},
   "outputs": [
    {
     "name": "stdout",
     "output_type": "stream",
     "text": [
      "1 elem1\n",
      "2 elem2\n",
      "3 elem3\n"
     ]
    }
   ],
   "source": [
    "for index,value in enumerate(s,start=1):\n",
    "    print(index, value)"
   ]
  },
  {
   "cell_type": "code",
   "execution_count": null,
   "id": "2f388da8",
   "metadata": {},
   "outputs": [],
   "source": []
  },
  {
   "cell_type": "code",
   "execution_count": null,
   "id": "a2b00cba",
   "metadata": {},
   "outputs": [],
   "source": [
    "my_list = [2,3,4,5,6,71,2,2,90,12]\n",
    "even_nums = [i for i in my_list if (i%2) == 0]\n",
    "# for i in my_list:\n",
    "#     if i % 2 == 0:\n",
    "#         even_nums.append(i)\n",
    "        \n",
    "print(even_nums)"
   ]
  },
  {
   "cell_type": "code",
   "execution_count": null,
   "id": "1b1ec5a5",
   "metadata": {},
   "outputs": [],
   "source": [
    "new_list = [i for i in range(11)  if i % 2 ==0 ]\n",
    "# for i in range(11):\n",
    "#     if (i%2)==0:\n",
    "#         new_list.append(i)\n",
    "print(new_list)"
   ]
  },
  {
   "cell_type": "code",
   "execution_count": 22,
   "id": "03be1e07",
   "metadata": {},
   "outputs": [
    {
     "name": "stdout",
     "output_type": "stream",
     "text": [
      "[1, 2, 3]\n",
      "[1, 2, 3]\n",
      "[1, 2, 3]\n"
     ]
    }
   ],
   "source": [
    "matrix_wali_list = []\n",
    "\n",
    "for i in range(3):\n",
    "    sublist = []\n",
    "    for j in range(1,4):\n",
    "        sublist.append(j)\n",
    "    matrix_wali_list.append(sublist)\n",
    "    \n",
    "for i in matrix_wali_list:\n",
    "    print(i)"
   ]
  },
  {
   "cell_type": "code",
   "execution_count": null,
   "id": "fc3ae6ba",
   "metadata": {},
   "outputs": [],
   "source": [
    "matrix = []\n",
    "\n",
    "for row in range(3):\n",
    "\n",
    "\t# Append an empty sublist inside the list\n",
    "\tmatrix.append([])\n",
    "\n",
    "\tfor column in range(3):\n",
    "\t\tmatrix[row].append(column)\n",
    "\n",
    "for i in matrix:\n",
    "    print(i)\n"
   ]
  },
  {
   "cell_type": "code",
   "execution_count": 24,
   "id": "23658e9e",
   "metadata": {},
   "outputs": [
    {
     "data": {
      "text/plain": [
       "[[1, 2, 3], [1, 2, 3], [1, 2, 3]]"
      ]
     },
     "execution_count": 24,
     "metadata": {},
     "output_type": "execute_result"
    }
   ],
   "source": [
    "[[j for j in range(1,4)] for i in range(3)]"
   ]
  },
  {
   "cell_type": "code",
   "execution_count": 26,
   "id": "85761550",
   "metadata": {},
   "outputs": [
    {
     "data": {
      "text/plain": [
       "[[1, 2, 3], [1, 2, 3], [1, 2, 3]]"
      ]
     },
     "execution_count": 26,
     "metadata": {},
     "output_type": "execute_result"
    }
   ],
   "source": [
    "m = [[j for j in range(1,4)] for i in range(3)]\n",
    "m"
   ]
  },
  {
   "cell_type": "code",
   "execution_count": 28,
   "id": "fa831176",
   "metadata": {},
   "outputs": [
    {
     "data": {
      "text/plain": [
       "[27, 64, 125, 216, 512]"
      ]
     },
     "execution_count": 28,
     "metadata": {},
     "output_type": "execute_result"
    }
   ],
   "source": [
    "# map --> \n",
    "l = [3,4,5,6,8]\n",
    "list(map(lambda x : x**3,l))"
   ]
  },
  {
   "cell_type": "code",
   "execution_count": null,
   "id": "5ad7e332",
   "metadata": {},
   "outputs": [],
   "source": []
  },
  {
   "cell_type": "code",
   "execution_count": null,
   "id": "04d6d1e9",
   "metadata": {},
   "outputs": [],
   "source": [
    "l = [\"Even number\" if i % 2 == 0 else \"Odd number\" for i in range(8)]\n",
    "print(l)"
   ]
  },
  {
   "cell_type": "code",
   "execution_count": null,
   "id": "c67febf1",
   "metadata": {},
   "outputs": [],
   "source": [
    "string = 'BATMAN_qwwj'\n",
    "l = [character for character in string]\n",
    "# for i in string:\n",
    "#     l.append(i)\n",
    "print(l)"
   ]
  },
  {
   "cell_type": "code",
   "execution_count": null,
   "id": "f500c03b",
   "metadata": {},
   "outputs": [],
   "source": [
    "lambda n : n ** 2"
   ]
  },
  {
   "cell_type": "code",
   "execution_count": null,
   "id": "2cbb846d",
   "metadata": {},
   "outputs": [],
   "source": [
    "def square(n):\n",
    "    return n **2"
   ]
  }
 ],
 "metadata": {
  "kernelspec": {
   "display_name": "Python 3 (ipykernel)",
   "language": "python",
   "name": "python3"
  },
  "language_info": {
   "codemirror_mode": {
    "name": "ipython",
    "version": 3
   },
   "file_extension": ".py",
   "mimetype": "text/x-python",
   "name": "python",
   "nbconvert_exporter": "python",
   "pygments_lexer": "ipython3",
   "version": "3.9.16"
  }
 },
 "nbformat": 4,
 "nbformat_minor": 5
}
