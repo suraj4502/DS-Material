{
 "cells": [
  {
   "cell_type": "markdown",
   "id": "4d539fcc",
   "metadata": {},
   "source": [
    "# TUPLES"
   ]
  },
  {
   "cell_type": "markdown",
   "id": "47aaeba0",
   "metadata": {},
   "source": [
    "- Tuples in Python are collections of objects that are ordered, unchangeable, and can allow duplicate values.\n",
    "- They are similar to lists, but they are immutable, meaning that you cannot add, remove, or change their elements once they are created.\n",
    "- Tuples are written with round brackets () and the items are separated by commas."
   ]
  },
  {
   "cell_type": "code",
   "execution_count": 3,
   "id": "5d2cb5ee",
   "metadata": {},
   "outputs": [],
   "source": [
    "# e.g :\n",
    "my_var = (2,2,'abc',[5,5,5])\n",
    "fruits = (\"apple\", 'banana', \"cherry\",'mango','cherry','grapes')"
   ]
  },
  {
   "cell_type": "code",
   "execution_count": 4,
   "id": "b964b262",
   "metadata": {},
   "outputs": [
    {
     "data": {
      "text/plain": [
       "('mango', 'cherry', 'grapes')"
      ]
     },
     "execution_count": 4,
     "metadata": {},
     "output_type": "execute_result"
    }
   ],
   "source": [
    "fruits[-3:]"
   ]
  },
  {
   "cell_type": "code",
   "execution_count": 6,
   "id": "1907143a",
   "metadata": {},
   "outputs": [
    {
     "data": {
      "text/plain": [
       "('banana', 'cherry', 'mango')"
      ]
     },
     "execution_count": 6,
     "metadata": {},
     "output_type": "execute_result"
    }
   ],
   "source": [
    "fruits[1:4]"
   ]
  },
  {
   "cell_type": "code",
   "execution_count": 8,
   "id": "a9942d2d",
   "metadata": {},
   "outputs": [
    {
     "data": {
      "text/plain": [
       "('grapes', 'cherry', 'mango', 'cherry', 'banana', 'apple')"
      ]
     },
     "execution_count": 8,
     "metadata": {},
     "output_type": "execute_result"
    }
   ],
   "source": [
    "fruits[::-1]"
   ]
  },
  {
   "cell_type": "code",
   "execution_count": 7,
   "id": "e80d4748",
   "metadata": {},
   "outputs": [
    {
     "data": {
      "text/plain": [
       "'n'"
      ]
     },
     "execution_count": 7,
     "metadata": {},
     "output_type": "execute_result"
    }
   ],
   "source": [
    "# accessing elements\n",
    "fruits[3][2]"
   ]
  },
  {
   "cell_type": "code",
   "execution_count": null,
   "id": "0e809800",
   "metadata": {},
   "outputs": [],
   "source": [
    "result = fruits[-1]\n",
    "result[0]"
   ]
  },
  {
   "cell_type": "code",
   "execution_count": null,
   "id": "91a8fdbc",
   "metadata": {},
   "outputs": [],
   "source": [
    "fruits[:4]"
   ]
  },
  {
   "cell_type": "code",
   "execution_count": null,
   "id": "be047a3b",
   "metadata": {},
   "outputs": [],
   "source": [
    "fruits[-4:-1]"
   ]
  },
  {
   "cell_type": "code",
   "execution_count": null,
   "id": "afe5cdfe",
   "metadata": {},
   "outputs": [],
   "source": []
  },
  {
   "cell_type": "markdown",
   "id": "fbc0b96f",
   "metadata": {},
   "source": [
    "---"
   ]
  },
  {
   "cell_type": "markdown",
   "id": "178c2ec0",
   "metadata": {},
   "source": [
    "- You can also use the tuple() constructor to create a tuple from an iterable object, such as a list, a string, or a range. "
   ]
  },
  {
   "cell_type": "markdown",
   "id": "14d92ec7",
   "metadata": {},
   "source": [
    "---"
   ]
  },
  {
   "cell_type": "code",
   "execution_count": 9,
   "id": "92cc4197",
   "metadata": {},
   "outputs": [
    {
     "name": "stdout",
     "output_type": "stream",
     "text": [
      "<class 'list'>\n",
      "<class 'tuple'>\n"
     ]
    },
    {
     "data": {
      "text/plain": [
       "(1, 2, 3, 'abc', 'xyz')"
      ]
     },
     "execution_count": 9,
     "metadata": {},
     "output_type": "execute_result"
    }
   ],
   "source": [
    "my_list = [1,2,3,'abc','xyz']\n",
    "print(type(my_list))\n",
    "\n",
    "\n",
    "my_tuple = tuple(my_list)\n",
    "print(type(my_tuple))\n",
    "my_tuple"
   ]
  },
  {
   "cell_type": "code",
   "execution_count": null,
   "id": "69d378d9",
   "metadata": {},
   "outputs": [],
   "source": [
    "tuple(range(5))"
   ]
  },
  {
   "cell_type": "code",
   "execution_count": 10,
   "id": "97c38d65",
   "metadata": {},
   "outputs": [
    {
     "name": "stdout",
     "output_type": "stream",
     "text": [
      "('a', 'b', 'c')\n",
      "('h', 'e', 'l', 'l', 'o')\n",
      "(0, 1, 2, 3, 4)\n"
     ]
    }
   ],
   "source": [
    "mytuple = tuple([\"a\", \"b\", \"c\"]) # creates a tuple from a list \n",
    "print(mytuple)\n",
    "mytuple = tuple(\"hello\") # creates a tuple from a string \n",
    "print(mytuple)\n",
    "mytuple = tuple(range(5)) # creates a tuple from a range\n",
    "print(mytuple)"
   ]
  },
  {
   "cell_type": "code",
   "execution_count": 11,
   "id": "e6b6e1b1",
   "metadata": {},
   "outputs": [
    {
     "name": "stdout",
     "output_type": "stream",
     "text": [
      "('sun', 'moon', 'earth')\n",
      "<class 'tuple'>\n"
     ]
    }
   ],
   "source": [
    "galaxies = ['sun','moon','earth']\n",
    "new_tuple = tuple(galaxies)\n",
    "print(new_tuple)\n",
    "print(type(new_tuple))"
   ]
  },
  {
   "cell_type": "code",
   "execution_count": null,
   "id": "0e773daf",
   "metadata": {},
   "outputs": [],
   "source": []
  },
  {
   "cell_type": "code",
   "execution_count": 12,
   "id": "b1f10a82",
   "metadata": {},
   "outputs": [],
   "source": [
    "new_tuple = tuple(range(1,11))"
   ]
  },
  {
   "cell_type": "code",
   "execution_count": 13,
   "id": "9583a9ca",
   "metadata": {},
   "outputs": [
    {
     "data": {
      "text/plain": [
       "(1, 2, 3, 4, 5, 6, 7, 8, 9, 10)"
      ]
     },
     "execution_count": 13,
     "metadata": {},
     "output_type": "execute_result"
    }
   ],
   "source": [
    "new_tuple"
   ]
  },
  {
   "cell_type": "code",
   "execution_count": 14,
   "id": "cad5a2d3",
   "metadata": {},
   "outputs": [
    {
     "data": {
      "text/plain": [
       "10"
      ]
     },
     "execution_count": 14,
     "metadata": {},
     "output_type": "execute_result"
    }
   ],
   "source": [
    "len(new_tuple)"
   ]
  },
  {
   "cell_type": "code",
   "execution_count": 15,
   "id": "db76be67",
   "metadata": {},
   "outputs": [
    {
     "data": {
      "text/plain": [
       "55"
      ]
     },
     "execution_count": 15,
     "metadata": {},
     "output_type": "execute_result"
    }
   ],
   "source": [
    "sum(new_tuple)"
   ]
  },
  {
   "cell_type": "code",
   "execution_count": 20,
   "id": "23521421",
   "metadata": {},
   "outputs": [
    {
     "data": {
      "text/plain": [
       "(10, 9, 8, 7, 6, 5, 4, 3, 2, 1)"
      ]
     },
     "execution_count": 20,
     "metadata": {},
     "output_type": "execute_result"
    }
   ],
   "source": [
    "tuple(sorted(new_tuple,reverse=True))"
   ]
  },
  {
   "cell_type": "code",
   "execution_count": 21,
   "id": "f66cea37",
   "metadata": {},
   "outputs": [
    {
     "data": {
      "text/plain": [
       "10"
      ]
     },
     "execution_count": 21,
     "metadata": {},
     "output_type": "execute_result"
    }
   ],
   "source": [
    "max(new_tuple)"
   ]
  },
  {
   "cell_type": "code",
   "execution_count": 22,
   "id": "29b8eb1a",
   "metadata": {},
   "outputs": [
    {
     "data": {
      "text/plain": [
       "1"
      ]
     },
     "execution_count": 22,
     "metadata": {},
     "output_type": "execute_result"
    }
   ],
   "source": [
    "min(new_tuple)"
   ]
  },
  {
   "cell_type": "code",
   "execution_count": 23,
   "id": "01102269",
   "metadata": {},
   "outputs": [
    {
     "ename": "TypeError",
     "evalue": "'tuple' object does not support item assignment",
     "output_type": "error",
     "traceback": [
      "\u001b[1;31m---------------------------------------------------------------------------\u001b[0m",
      "\u001b[1;31mTypeError\u001b[0m                                 Traceback (most recent call last)",
      "Cell \u001b[1;32mIn[23], line 1\u001b[0m\n\u001b[1;32m----> 1\u001b[0m new_tuple[\u001b[38;5;241m1\u001b[39m] \u001b[38;5;241m=\u001b[39m \u001b[38;5;241m5\u001b[39m\n",
      "\u001b[1;31mTypeError\u001b[0m: 'tuple' object does not support item assignment"
     ]
    }
   ],
   "source": [
    "new_tuple[1] = 5"
   ]
  },
  {
   "cell_type": "markdown",
   "id": "af9add62",
   "metadata": {},
   "source": [
    "## Adding items"
   ]
  },
  {
   "cell_type": "markdown",
   "id": "9817ef52",
   "metadata": {},
   "source": [
    "TYPECASTING ==> CONVERTING a VALUE FROM ONE DATATYPE TO ANOTHER."
   ]
  },
  {
   "cell_type": "code",
   "execution_count": null,
   "id": "11f58060",
   "metadata": {},
   "outputs": [],
   "source": [
    "t = (1,2,3,4,5,6,7,8)\n",
    "list(t)"
   ]
  },
  {
   "cell_type": "code",
   "execution_count": 24,
   "id": "6df236e7",
   "metadata": {},
   "outputs": [
    {
     "name": "stdout",
     "output_type": "stream",
     "text": [
      "['apple', 'banana', 'cherry']\n"
     ]
    },
    {
     "data": {
      "text/plain": [
       "('apple', 'banana', 'cherry', 'Mango')"
      ]
     },
     "execution_count": 24,
     "metadata": {},
     "output_type": "execute_result"
    }
   ],
   "source": [
    "thistuple = (\"apple\", \"banana\", \"cherry\")\n",
    "y = list(thistuple)\n",
    "print(y)\n",
    "y.append(\"Mango\")\n",
    "tuple(y)"
   ]
  },
  {
   "cell_type": "code",
   "execution_count": null,
   "id": "28b8908d",
   "metadata": {},
   "outputs": [],
   "source": [
    "### \n",
    "a = ('thisisatuple')\n",
    "print(type(a))\n",
    "b = ('thisisatuple',)\n",
    "print(type(b))"
   ]
  },
  {
   "cell_type": "code",
   "execution_count": 26,
   "id": "004ca22c",
   "metadata": {},
   "outputs": [
    {
     "data": {
      "text/plain": [
       "('apple', 'banana', 'cherry', 'orange')"
      ]
     },
     "execution_count": 26,
     "metadata": {},
     "output_type": "execute_result"
    }
   ],
   "source": [
    "thistuple = (\"apple\", \"banana\", \"cherry\")\n",
    "y = (\"orange\",)\n",
    "\n",
    "thistuple + y"
   ]
  },
  {
   "cell_type": "code",
   "execution_count": null,
   "id": "0091fec1",
   "metadata": {},
   "outputs": [],
   "source": []
  },
  {
   "cell_type": "code",
   "execution_count": 31,
   "id": "48d96910",
   "metadata": {},
   "outputs": [],
   "source": [
    "## deletiing\n",
    "thistuple = (\"apple\", \"banana\", \"cherry\")\n"
   ]
  },
  {
   "cell_type": "code",
   "execution_count": 32,
   "id": "63d08386",
   "metadata": {},
   "outputs": [
    {
     "ename": "TypeError",
     "evalue": "'tuple' object doesn't support item deletion",
     "output_type": "error",
     "traceback": [
      "\u001b[1;31m---------------------------------------------------------------------------\u001b[0m",
      "\u001b[1;31mTypeError\u001b[0m                                 Traceback (most recent call last)",
      "Cell \u001b[1;32mIn[32], line 1\u001b[0m\n\u001b[1;32m----> 1\u001b[0m \u001b[38;5;28;01mdel\u001b[39;00m thistuple[\u001b[38;5;241m0\u001b[39m]\n",
      "\u001b[1;31mTypeError\u001b[0m: 'tuple' object doesn't support item deletion"
     ]
    }
   ],
   "source": [
    "del thistuple[0]"
   ]
  },
  {
   "cell_type": "code",
   "execution_count": 33,
   "id": "072ced5c",
   "metadata": {},
   "outputs": [],
   "source": [
    "del thistuple"
   ]
  },
  {
   "cell_type": "code",
   "execution_count": 34,
   "id": "a80b7ced",
   "metadata": {},
   "outputs": [
    {
     "ename": "NameError",
     "evalue": "name 'thistuple' is not defined",
     "output_type": "error",
     "traceback": [
      "\u001b[1;31m---------------------------------------------------------------------------\u001b[0m",
      "\u001b[1;31mNameError\u001b[0m                                 Traceback (most recent call last)",
      "Cell \u001b[1;32mIn[34], line 1\u001b[0m\n\u001b[1;32m----> 1\u001b[0m \u001b[43mthistuple\u001b[49m\n",
      "\u001b[1;31mNameError\u001b[0m: name 'thistuple' is not defined"
     ]
    }
   ],
   "source": [
    "thistuple"
   ]
  },
  {
   "cell_type": "code",
   "execution_count": 39,
   "id": "53f0267a",
   "metadata": {},
   "outputs": [
    {
     "name": "stdout",
     "output_type": "stream",
     "text": [
      "apple\n",
      "banana\n",
      "cherry\n"
     ]
    }
   ],
   "source": [
    "# unpacking\n",
    " \n",
    "    \n",
    "thistuple = (\"apple\", \"banana\", \"cherry\")\n",
    "\n",
    "a, b, c = thistuple\n",
    "\n",
    "print(a)\n",
    "print(b)\n",
    "print(c)\n",
    "\n"
   ]
  },
  {
   "cell_type": "code",
   "execution_count": 40,
   "id": "1959e0dd",
   "metadata": {},
   "outputs": [
    {
     "data": {
      "text/plain": [
       "('apple', 'banana', 'cherry')"
      ]
     },
     "execution_count": 40,
     "metadata": {},
     "output_type": "execute_result"
    }
   ],
   "source": [
    "thistuple"
   ]
  },
  {
   "cell_type": "code",
   "execution_count": 41,
   "id": "9c9ab5f9",
   "metadata": {},
   "outputs": [
    {
     "name": "stdout",
     "output_type": "stream",
     "text": [
      "apple banana cherry\n"
     ]
    }
   ],
   "source": [
    "print(*(thistuple))"
   ]
  },
  {
   "cell_type": "code",
   "execution_count": null,
   "id": "d1a26e29",
   "metadata": {},
   "outputs": [],
   "source": []
  },
  {
   "cell_type": "code",
   "execution_count": null,
   "id": "afc2a6f4",
   "metadata": {},
   "outputs": [],
   "source": []
  },
  {
   "cell_type": "markdown",
   "id": "f04846e7",
   "metadata": {},
   "source": [
    "## JOINING Tuples"
   ]
  },
  {
   "cell_type": "code",
   "execution_count": 42,
   "id": "b491f113",
   "metadata": {},
   "outputs": [
    {
     "data": {
      "text/plain": [
       "('dhruv', 'abc', 'xyz', 'srt', 'zzzz', 'abc')"
      ]
     },
     "execution_count": 42,
     "metadata": {},
     "output_type": "execute_result"
    }
   ],
   "source": [
    "a = ('dhruv','abc','xyz')\n",
    "b = ('srt','zzzz','abc')\n",
    "result = a + b\n",
    "result"
   ]
  },
  {
   "cell_type": "code",
   "execution_count": 43,
   "id": "8fe29665",
   "metadata": {},
   "outputs": [
    {
     "data": {
      "text/plain": [
       "2"
      ]
     },
     "execution_count": 43,
     "metadata": {},
     "output_type": "execute_result"
    }
   ],
   "source": [
    "result.count('abc')"
   ]
  },
  {
   "cell_type": "code",
   "execution_count": 44,
   "id": "3a8ff5b7",
   "metadata": {},
   "outputs": [
    {
     "data": {
      "text/plain": [
       "3"
      ]
     },
     "execution_count": 44,
     "metadata": {},
     "output_type": "execute_result"
    }
   ],
   "source": [
    "result.index('srt')"
   ]
  },
  {
   "cell_type": "markdown",
   "id": "f28a2bd0",
   "metadata": {},
   "source": [
    "## Tuple Methods\n",
    "\n",
    "- count() ==> Returns the number of times a specified value occurs in a tuple\n",
    "- index() ==> Searches the tuple for a specified value and returns the position of where it was found"
   ]
  },
  {
   "cell_type": "code",
   "execution_count": 45,
   "id": "f8b99b4a",
   "metadata": {},
   "outputs": [],
   "source": [
    "l = [1,2,3,4]\n",
    "t = tuple([1,2,3,4])"
   ]
  },
  {
   "cell_type": "code",
   "execution_count": 46,
   "id": "310f2a49",
   "metadata": {},
   "outputs": [
    {
     "data": {
      "text/plain": [
       "120"
      ]
     },
     "execution_count": 46,
     "metadata": {},
     "output_type": "execute_result"
    }
   ],
   "source": [
    "import sys\n",
    "sys.getsizeof(l)"
   ]
  },
  {
   "cell_type": "code",
   "execution_count": 47,
   "id": "842c4db4",
   "metadata": {},
   "outputs": [
    {
     "data": {
      "text/plain": [
       "72"
      ]
     },
     "execution_count": 47,
     "metadata": {},
     "output_type": "execute_result"
    }
   ],
   "source": [
    "sys.getsizeof(t)"
   ]
  },
  {
   "cell_type": "markdown",
   "id": "caf0b0fb",
   "metadata": {},
   "source": [
    "- Tuples are generally faster than lists because they are stored in a single memory block and do not require extra space for new objects.\n",
    "- Tuples consume less memory than lists because they do not have extra overhead for storing information about their size and state.\n",
    "- Tuples are more suitable for accessing elements by index or iterating over them, while lists are more suitable for performing operations such as insertion, deletion, sorting, etc."
   ]
  },
  {
   "cell_type": "code",
   "execution_count": null,
   "id": "da63ced8",
   "metadata": {},
   "outputs": [],
   "source": [
    "a = ((1,2,3),\n",
    "    (4,5,6))"
   ]
  },
  {
   "cell_type": "code",
   "execution_count": null,
   "id": "d6acd4b1",
   "metadata": {},
   "outputs": [],
   "source": [
    "a[0]"
   ]
  },
  {
   "cell_type": "markdown",
   "id": "f52d4ff9",
   "metadata": {},
   "source": [
    "# Q. Access value 50"
   ]
  },
  {
   "cell_type": "code",
   "execution_count": 48,
   "id": "7fa67688",
   "metadata": {},
   "outputs": [
    {
     "data": {
      "text/plain": [
       "50"
      ]
     },
     "execution_count": 48,
     "metadata": {},
     "output_type": "execute_result"
    }
   ],
   "source": [
    "t = (1,2,(4,5,6,50),[\"list\"])\n",
    "\n",
    "t[2][-1]"
   ]
  },
  {
   "cell_type": "markdown",
   "id": "96649bdd",
   "metadata": {},
   "source": [
    "# Q. check if all the elements in a tuple are same"
   ]
  },
  {
   "cell_type": "code",
   "execution_count": 53,
   "id": "fbb7dfe0",
   "metadata": {},
   "outputs": [
    {
     "name": "stdout",
     "output_type": "stream",
     "text": [
      "True\n"
     ]
    }
   ],
   "source": [
    "t = (44,44,44,44)\n",
    "\n",
    "result = 0\n",
    "\n",
    "for i in t:\n",
    "    if i == t[0]:\n",
    "        result +=1\n",
    "        \n",
    "if result == 0:\n",
    "    print(False)\n",
    "else:\n",
    "    print(True)"
   ]
  },
  {
   "cell_type": "code",
   "execution_count": 54,
   "id": "bbe1b5cf",
   "metadata": {},
   "outputs": [
    {
     "data": {
      "text/plain": [
       "False"
      ]
     },
     "execution_count": 54,
     "metadata": {},
     "output_type": "execute_result"
    }
   ],
   "source": [
    "t = (44,44,44,44,2)\n",
    "\n",
    "result = True\n",
    "\n",
    "for i in t:\n",
    "    if i != t[0]:\n",
    "        result = False\n",
    "\n",
    "result\n",
    "        \n",
    "        "
   ]
  },
  {
   "cell_type": "code",
   "execution_count": null,
   "id": "67f49429",
   "metadata": {},
   "outputs": [],
   "source": []
  },
  {
   "cell_type": "code",
   "execution_count": null,
   "id": "e76924e1",
   "metadata": {},
   "outputs": [],
   "source": []
  },
  {
   "cell_type": "code",
   "execution_count": null,
   "id": "60a764b9",
   "metadata": {},
   "outputs": [],
   "source": []
  },
  {
   "cell_type": "code",
   "execution_count": null,
   "id": "32e1b12a",
   "metadata": {},
   "outputs": [],
   "source": [
    "def check_similarity(t):\n",
    "    result = True\n",
    "    for i in t:\n",
    "        if i != t[0]:\n",
    "            result = False\n",
    "    return result\n"
   ]
  },
  {
   "cell_type": "code",
   "execution_count": null,
   "id": "b68d50e4",
   "metadata": {},
   "outputs": [],
   "source": [
    "t = (44,44,44,44,44)\n",
    "print(check_similarity(t))"
   ]
  },
  {
   "cell_type": "code",
   "execution_count": null,
   "id": "0903da3d",
   "metadata": {},
   "outputs": [],
   "source": [
    "for i in t:\n",
    "    if i == t[0]:\n",
    "        print(\"TRUE\")\n",
    "    else:\n",
    "        print(\"False\")"
   ]
  },
  {
   "cell_type": "code",
   "execution_count": null,
   "id": "44862789",
   "metadata": {},
   "outputs": [],
   "source": [
    "## NEsted tuples\n",
    "b =(3,7,9)\n",
    "\n",
    "a = (1,3,b,0,20,\"string\",[1,2,3,5])\n"
   ]
  },
  {
   "cell_type": "code",
   "execution_count": null,
   "id": "a3f8d055",
   "metadata": {},
   "outputs": [],
   "source": [
    "a[2][-1]"
   ]
  },
  {
   "cell_type": "code",
   "execution_count": null,
   "id": "ce4559c1",
   "metadata": {},
   "outputs": [],
   "source": [
    "fruits = (\"apple\", \"banana\", \"cherry\",'mango','cherry','grapes')"
   ]
  },
  {
   "cell_type": "code",
   "execution_count": null,
   "id": "886203c2",
   "metadata": {},
   "outputs": [],
   "source": [
    "def get_unique_elements(t):\n",
    "    unique_elements = []\n",
    "    for current_element in t:\n",
    "        if current_element not in unique_elements:\n",
    "            unique_elements.append(current_element)\n",
    "    return tuple(unique_elements)"
   ]
  },
  {
   "cell_type": "code",
   "execution_count": null,
   "id": "d15c1d9b",
   "metadata": {},
   "outputs": [],
   "source": [
    "fruits = (\"apple\", \"banana\", \"cherry\",'mango','cherry','grapes')\n",
    "result = get_unique_elements(fruits)\n",
    "print(result)"
   ]
  },
  {
   "cell_type": "code",
   "execution_count": null,
   "id": "7e9df3c2",
   "metadata": {},
   "outputs": [],
   "source": [
    "numbers_tuple = (1,3,5,5,6,2,1,88,22,11,3,2,5)\n",
    "result = get_unique_elements(numbers_tuple)\n",
    "print(result)"
   ]
  },
  {
   "cell_type": "code",
   "execution_count": null,
   "id": "0bf0cb88",
   "metadata": {},
   "outputs": [],
   "source": [
    "numbers_tuple = (1,3,5,5,6,2,1,88,22,11,3,2,5)\n",
    "\n",
    "max_occurance = []\n",
    "for i in numbers_tuple:\n",
    "#     print(i,\" : \",numbers_tuple.count(i))\n",
    "    \n",
    "    max_occurance.append(numbers_tuple.count(i))\n",
    "\n",
    "# print()\n",
    "for i in numbers_tuple:\n",
    "    if numbers_tuple.count(i) == max(max_occurance):\n",
    "        print(f\"Mode is : {i} , occuring {max(max_occurance) } times. \")"
   ]
  },
  {
   "cell_type": "code",
   "execution_count": null,
   "id": "a8f8d63e",
   "metadata": {},
   "outputs": [],
   "source": []
  },
  {
   "cell_type": "code",
   "execution_count": null,
   "id": "fecfef2b",
   "metadata": {},
   "outputs": [],
   "source": []
  },
  {
   "cell_type": "code",
   "execution_count": null,
   "id": "d5290be2",
   "metadata": {},
   "outputs": [],
   "source": []
  },
  {
   "cell_type": "code",
   "execution_count": null,
   "id": "ae12b64d",
   "metadata": {},
   "outputs": [],
   "source": []
  },
  {
   "cell_type": "code",
   "execution_count": null,
   "id": "6a0ec4de",
   "metadata": {},
   "outputs": [],
   "source": []
  },
  {
   "cell_type": "code",
   "execution_count": null,
   "id": "731c2677",
   "metadata": {},
   "outputs": [],
   "source": []
  },
  {
   "cell_type": "code",
   "execution_count": null,
   "id": "2f1d75c6",
   "metadata": {},
   "outputs": [],
   "source": [
    "unique_fruits = []\n",
    "for fruit in fruits:\n",
    "    if fruit not in unique_fruits:\n",
    "        unique_fruits.append(fruit)\n",
    "sorted(unique_fruits)"
   ]
  },
  {
   "cell_type": "code",
   "execution_count": null,
   "id": "c03227b0",
   "metadata": {},
   "outputs": [],
   "source": [
    "unique_fruits"
   ]
  },
  {
   "cell_type": "code",
   "execution_count": null,
   "id": "ac6a68e9",
   "metadata": {},
   "outputs": [],
   "source": [
    "## REVERSING  A TUPLE\n",
    "t = (5,6,7,8,9,1,2,34)\n",
    "\n",
    "t[::-1]"
   ]
  },
  {
   "cell_type": "code",
   "execution_count": null,
   "id": "5fa3d430",
   "metadata": {},
   "outputs": [],
   "source": []
  }
 ],
 "metadata": {
  "kernelspec": {
   "display_name": "Python 3 (ipykernel)",
   "language": "python",
   "name": "python3"
  },
  "language_info": {
   "codemirror_mode": {
    "name": "ipython",
    "version": 3
   },
   "file_extension": ".py",
   "mimetype": "text/x-python",
   "name": "python",
   "nbconvert_exporter": "python",
   "pygments_lexer": "ipython3",
   "version": "3.9.16"
  }
 },
 "nbformat": 4,
 "nbformat_minor": 5
}
