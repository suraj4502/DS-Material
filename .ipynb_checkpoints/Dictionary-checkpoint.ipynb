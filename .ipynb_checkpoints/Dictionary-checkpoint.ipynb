{
 "cells": [
  {
   "cell_type": "markdown",
   "id": "16c0fda9",
   "metadata": {},
   "source": [
    "# DICTIONARY ⇨\n",
    "- A dictionary is a data structure that allows you to store and retrieve data using unique keys. \n",
    "- It is denoted by curly braces `{}` and consists of key-value pairs separated by colons `:`. \n",
    "- The keys are used to identify and access the corresponding values.\n",
    "\n",
    "- general syntax to create a dictionary:\n",
    "---\n",
    "\n",
    "<span style=\"color: green;\">my_dict = {key1: value1, key2: value2, key3: value3, ...}</span>\n",
    "\n",
    "--- \n",
    "\n",
    "\n",
    "- In the simplest manner, a dictionary in Python is like a phone book. \n",
    "- Just like a phone book has names and phone numbers, a dictionary has keys and values. \n",
    "- Each key is unique and corresponds to a specific value."
   ]
  },
  {
   "cell_type": "code",
   "execution_count": 1,
   "id": "f2190f1f",
   "metadata": {},
   "outputs": [],
   "source": [
    "shopping_list = {'bread':3,'milk':1,'apples':6}"
   ]
  },
  {
   "cell_type": "code",
   "execution_count": 2,
   "id": "a6bd4c74",
   "metadata": {},
   "outputs": [],
   "source": [
    "new_dict = {'unique_id':['name','age','password','details'],\n",
    "            'unique_id2':['name','age','password','details'],\n",
    "            'unique_id3':['name','age','password','details']}"
   ]
  },
  {
   "cell_type": "code",
   "execution_count": 3,
   "id": "1c0eb16c",
   "metadata": {},
   "outputs": [
    {
     "data": {
      "text/plain": [
       "['name', 'age', 'password', 'details']"
      ]
     },
     "execution_count": 3,
     "metadata": {},
     "output_type": "execute_result"
    }
   ],
   "source": [
    "new_dict['unique_id3']"
   ]
  },
  {
   "cell_type": "code",
   "execution_count": 4,
   "id": "f45d9666",
   "metadata": {},
   "outputs": [
    {
     "data": {
      "text/plain": [
       "3"
      ]
     },
     "execution_count": 4,
     "metadata": {},
     "output_type": "execute_result"
    }
   ],
   "source": [
    "# EXAMPLE OF A DICTIONARY\n",
    "phone_book = {\"Alice\": \"123-456-7890\", \"Bob\": \"987-654-3210\", \"Charlie\": \"555-123-4567\"}\n",
    "len(phone_book)"
   ]
  },
  {
   "cell_type": "markdown",
   "id": "d3a144cc",
   "metadata": {},
   "source": [
    "---\n",
    "`If you want to find Alice's phone number, you can use the key \"Alice\" to get her phone number from the dictionary.`\n",
    "\n"
   ]
  },
  {
   "cell_type": "code",
   "execution_count": 5,
   "id": "d06b714b",
   "metadata": {},
   "outputs": [
    {
     "name": "stdout",
     "output_type": "stream",
     "text": [
      "123-456-7890\n"
     ]
    }
   ],
   "source": [
    "print(phone_book[\"Alice\"])  # Output: 123-456-7890"
   ]
  },
  {
   "cell_type": "code",
   "execution_count": 6,
   "id": "4a838794",
   "metadata": {},
   "outputs": [
    {
     "data": {
      "text/plain": [
       "'987-654-3210'"
      ]
     },
     "execution_count": 6,
     "metadata": {},
     "output_type": "execute_result"
    }
   ],
   "source": [
    "phone_book['Bob']"
   ]
  },
  {
   "cell_type": "markdown",
   "id": "10e05633",
   "metadata": {},
   "source": [
    "--- \n",
    "### 1. Adding an entry: \n",
    "- You can add a new entry to a dictionary by assigning a value to a new key."
   ]
  },
  {
   "cell_type": "code",
   "execution_count": null,
   "id": "5d58a74e",
   "metadata": {},
   "outputs": [],
   "source": [
    "phone_book[\"Eve\"] = \"111-222-3333\""
   ]
  },
  {
   "cell_type": "code",
   "execution_count": null,
   "id": "9e2242b1",
   "metadata": {},
   "outputs": [],
   "source": [
    "phone_book"
   ]
  },
  {
   "cell_type": "markdown",
   "id": "db277f8c",
   "metadata": {},
   "source": [
    "--- \n",
    "### 2. Changing a value :\n",
    "- You can change the value associated with a key."
   ]
  },
  {
   "cell_type": "code",
   "execution_count": 7,
   "id": "f5131c3f",
   "metadata": {},
   "outputs": [
    {
     "data": {
      "text/plain": [
       "{'Alice': '123-456-7890', 'Bob': '987-654-3210', 'Charlie': '555-123-4567'}"
      ]
     },
     "execution_count": 7,
     "metadata": {},
     "output_type": "execute_result"
    }
   ],
   "source": [
    "phone_book"
   ]
  },
  {
   "cell_type": "code",
   "execution_count": 8,
   "id": "2fa9545f",
   "metadata": {},
   "outputs": [],
   "source": [
    "phone_book[\"Bob\"] = \"555-555-5555\""
   ]
  },
  {
   "cell_type": "code",
   "execution_count": 9,
   "id": "6a81545d",
   "metadata": {},
   "outputs": [
    {
     "data": {
      "text/plain": [
       "{'Alice': '123-456-7890', 'Bob': '555-555-5555', 'Charlie': '555-123-4567'}"
      ]
     },
     "execution_count": 9,
     "metadata": {},
     "output_type": "execute_result"
    }
   ],
   "source": [
    "phone_book"
   ]
  },
  {
   "cell_type": "markdown",
   "id": "3f1e4055",
   "metadata": {},
   "source": [
    "--- \n",
    "### 3.Removing an entry: \n",
    "- You can remove an entry from the dictionary using the del keyword."
   ]
  },
  {
   "cell_type": "code",
   "execution_count": 10,
   "id": "d9215f91",
   "metadata": {},
   "outputs": [],
   "source": [
    "del phone_book[\"Charlie\"]"
   ]
  },
  {
   "cell_type": "code",
   "execution_count": 11,
   "id": "4d364417",
   "metadata": {},
   "outputs": [
    {
     "data": {
      "text/plain": [
       "{'Alice': '123-456-7890', 'Bob': '555-555-5555'}"
      ]
     },
     "execution_count": 11,
     "metadata": {},
     "output_type": "execute_result"
    }
   ],
   "source": [
    "phone_book"
   ]
  },
  {
   "cell_type": "markdown",
   "id": "85f17e58",
   "metadata": {},
   "source": [
    "--- \n",
    "### 4.Checking if a key exists: \n",
    "- You can check if a key exists in the dictionary using the in keyword."
   ]
  },
  {
   "cell_type": "code",
   "execution_count": 12,
   "id": "e2493c12",
   "metadata": {},
   "outputs": [
    {
     "data": {
      "text/plain": [
       "{'Alice': '123-456-7890', 'Bob': '555-555-5555'}"
      ]
     },
     "execution_count": 12,
     "metadata": {},
     "output_type": "execute_result"
    }
   ],
   "source": [
    "phone_book"
   ]
  },
  {
   "cell_type": "code",
   "execution_count": 14,
   "id": "4c4468ae",
   "metadata": {},
   "outputs": [
    {
     "name": "stdout",
     "output_type": "stream",
     "text": [
      "Alice's phone number: 123-456-7890\n"
     ]
    }
   ],
   "source": [
    "if \"Alice\" in phone_book:\n",
    "    print(\"Alice's phone number:\", phone_book[\"Alice\"])\n",
    "else:\n",
    "    print(\"Alice is not in the phone book.\")\n"
   ]
  },
  {
   "cell_type": "markdown",
   "id": "18d88d31",
   "metadata": {},
   "source": [
    "--- \n",
    "### 5. Getting the number of entries: \n",
    "- You can find out how many entries (key-value pairs) are in the dictionary using the len() function."
   ]
  },
  {
   "cell_type": "code",
   "execution_count": null,
   "id": "40c644e3",
   "metadata": {},
   "outputs": [],
   "source": [
    "print(\"Number of entries in the phone book:\", len(phone_book))"
   ]
  },
  {
   "cell_type": "markdown",
   "id": "f89c3017",
   "metadata": {},
   "source": [
    "--- \n",
    "### 6. Iterating over the dictionary: \n",
    "- You can iterate over the keys or values of a dictionary using a loop. \n",
    "- For example, let's print all the names and phone numbers in the phone book."
   ]
  },
  {
   "cell_type": "code",
   "execution_count": 19,
   "id": "0e507dae",
   "metadata": {},
   "outputs": [
    {
     "data": {
      "text/plain": [
       "{'Alice': '123-456-7890', 'Bob': '987-654-3210', 'Charlie': '555-123-4567'}"
      ]
     },
     "execution_count": 19,
     "metadata": {},
     "output_type": "execute_result"
    }
   ],
   "source": [
    "phone_book = {\"Alice\": \"123-456-7890\", \"Bob\": \"987-654-3210\", \"Charlie\": \"555-123-4567\"}\n",
    "\n",
    "# for name in phone_book:\n",
    "# #     phone_number = phone_book[name]\n",
    "# #     print(name, \":\", phone_number)\n",
    "#     print(name,\":\", phone_book[name])\n",
    "phone_book"
   ]
  },
  {
   "cell_type": "code",
   "execution_count": 20,
   "id": "3d6d4c4c",
   "metadata": {},
   "outputs": [
    {
     "data": {
      "text/plain": [
       "dict_items([('Alice', '123-456-7890'), ('Bob', '987-654-3210'), ('Charlie', '555-123-4567')])"
      ]
     },
     "execution_count": 20,
     "metadata": {},
     "output_type": "execute_result"
    }
   ],
   "source": [
    "phone_book.items()"
   ]
  },
  {
   "cell_type": "code",
   "execution_count": 21,
   "id": "322100fd",
   "metadata": {},
   "outputs": [
    {
     "data": {
      "text/plain": [
       "dict_keys(['Alice', 'Bob', 'Charlie'])"
      ]
     },
     "execution_count": 21,
     "metadata": {},
     "output_type": "execute_result"
    }
   ],
   "source": [
    "phone_book.keys()"
   ]
  },
  {
   "cell_type": "code",
   "execution_count": 22,
   "id": "a27c9332",
   "metadata": {},
   "outputs": [
    {
     "data": {
      "text/plain": [
       "dict_values(['123-456-7890', '987-654-3210', '555-123-4567'])"
      ]
     },
     "execution_count": 22,
     "metadata": {},
     "output_type": "execute_result"
    }
   ],
   "source": [
    "phone_book.values()"
   ]
  },
  {
   "cell_type": "code",
   "execution_count": 23,
   "id": "25a688b8",
   "metadata": {},
   "outputs": [],
   "source": [
    "keys = ['alice','bob']\n",
    "value = 'null'\n",
    "my_dict = dict.fromkeys(keys, value)"
   ]
  },
  {
   "cell_type": "code",
   "execution_count": 24,
   "id": "0bd39d9e",
   "metadata": {},
   "outputs": [
    {
     "data": {
      "text/plain": [
       "{'alice': 'null', 'bob': 'null'}"
      ]
     },
     "execution_count": 24,
     "metadata": {},
     "output_type": "execute_result"
    }
   ],
   "source": [
    "my_dict"
   ]
  },
  {
   "cell_type": "code",
   "execution_count": 34,
   "id": "ea83e4a0",
   "metadata": {},
   "outputs": [],
   "source": [
    "phone_book = {\"Alice\": \"123-456-7890\", \"Bob\": \"987-654-3210\", \"Charlie\": \"555-123-4567\"}"
   ]
  },
  {
   "cell_type": "code",
   "execution_count": 30,
   "id": "7f36e676",
   "metadata": {},
   "outputs": [
    {
     "data": {
      "text/plain": [
       "'123-456-7890'"
      ]
     },
     "execution_count": 30,
     "metadata": {},
     "output_type": "execute_result"
    }
   ],
   "source": [
    "# GET\n",
    "phone_book.get('Alice','this is our message')"
   ]
  },
  {
   "cell_type": "code",
   "execution_count": 33,
   "id": "cbc8ab45",
   "metadata": {},
   "outputs": [
    {
     "data": {
      "text/plain": [
       "'my message'"
      ]
     },
     "execution_count": 33,
     "metadata": {},
     "output_type": "execute_result"
    }
   ],
   "source": [
    "# POP\n",
    "phone_book.pop('eva','my message')"
   ]
  },
  {
   "cell_type": "code",
   "execution_count": 38,
   "id": "0a604ba0",
   "metadata": {},
   "outputs": [
    {
     "ename": "KeyError",
     "evalue": "'popitem(): dictionary is empty'",
     "output_type": "error",
     "traceback": [
      "\u001b[1;31m---------------------------------------------------------------------------\u001b[0m",
      "\u001b[1;31mKeyError\u001b[0m                                  Traceback (most recent call last)",
      "Cell \u001b[1;32mIn[38], line 1\u001b[0m\n\u001b[1;32m----> 1\u001b[0m \u001b[43mphone_book\u001b[49m\u001b[38;5;241;43m.\u001b[39;49m\u001b[43mpopitem\u001b[49m\u001b[43m(\u001b[49m\u001b[43m)\u001b[49m\n",
      "\u001b[1;31mKeyError\u001b[0m: 'popitem(): dictionary is empty'"
     ]
    }
   ],
   "source": [
    "phone_book.popitem()"
   ]
  },
  {
   "cell_type": "code",
   "execution_count": null,
   "id": "53360737",
   "metadata": {},
   "outputs": [],
   "source": [
    "phone_book.pop('Bob','Value not found')"
   ]
  },
  {
   "cell_type": "code",
   "execution_count": null,
   "id": "4d6a9159",
   "metadata": {},
   "outputs": [],
   "source": [
    "phone_book"
   ]
  },
  {
   "cell_type": "code",
   "execution_count": 47,
   "id": "2f407bca",
   "metadata": {},
   "outputs": [],
   "source": [
    "phone_book = {\"Alice\": \"123-456-7890\", \"Bob\": \"987-654-3210\", \"Charlie\": \"555-123-4567\"}\n"
   ]
  },
  {
   "cell_type": "code",
   "execution_count": 48,
   "id": "4a24de02",
   "metadata": {},
   "outputs": [
    {
     "data": {
      "text/plain": [
       "'123456789'"
      ]
     },
     "execution_count": 48,
     "metadata": {},
     "output_type": "execute_result"
    }
   ],
   "source": [
    "phone_book.setdefault(\"suraj\",'123456789')"
   ]
  },
  {
   "cell_type": "code",
   "execution_count": 49,
   "id": "11ca2d93",
   "metadata": {},
   "outputs": [
    {
     "data": {
      "text/plain": [
       "{'Alice': '123-456-7890',\n",
       " 'Bob': '987-654-3210',\n",
       " 'Charlie': '555-123-4567',\n",
       " 'suraj': '123456789'}"
      ]
     },
     "execution_count": 49,
     "metadata": {},
     "output_type": "execute_result"
    }
   ],
   "source": [
    "phone_book"
   ]
  },
  {
   "cell_type": "code",
   "execution_count": 50,
   "id": "19490bbe",
   "metadata": {},
   "outputs": [],
   "source": [
    "new_entries = {\"David\": \"111-222-3333\", \"Eve\": \"444-555-6666\"}\n",
    "phone_book.update(new_entries)"
   ]
  },
  {
   "cell_type": "code",
   "execution_count": 51,
   "id": "25868a0b",
   "metadata": {},
   "outputs": [
    {
     "data": {
      "text/plain": [
       "{'Alice': '123-456-7890',\n",
       " 'Bob': '987-654-3210',\n",
       " 'Charlie': '555-123-4567',\n",
       " 'suraj': '123456789',\n",
       " 'David': '111-222-3333',\n",
       " 'Eve': '444-555-6666'}"
      ]
     },
     "execution_count": 51,
     "metadata": {},
     "output_type": "execute_result"
    }
   ],
   "source": [
    "phone_book"
   ]
  },
  {
   "cell_type": "code",
   "execution_count": 53,
   "id": "1197be00",
   "metadata": {},
   "outputs": [],
   "source": [
    "phone_book['abc'] = '555888777'"
   ]
  },
  {
   "cell_type": "code",
   "execution_count": 54,
   "id": "403a3d55",
   "metadata": {},
   "outputs": [
    {
     "data": {
      "text/plain": [
       "{'Alice': '123-456-7890',\n",
       " 'Bob': '987-654-3210',\n",
       " 'Charlie': '555-123-4567',\n",
       " 'suraj': '123456789',\n",
       " 'David': '111-222-3333',\n",
       " 'Eve': '444-555-6666',\n",
       " 'abc': '555888777'}"
      ]
     },
     "execution_count": 54,
     "metadata": {},
     "output_type": "execute_result"
    }
   ],
   "source": [
    "phone_book"
   ]
  },
  {
   "cell_type": "markdown",
   "id": "dac0d887",
   "metadata": {},
   "source": [
    "## Built-in Methods :\n",
    "- `clear():` Removes all key-value pairs from the dictionary. \n",
    "<br>\n",
    "\n",
    "- `copy():`Creates a shallow copy of the dictionary.\n",
    "<br>\n",
    "\n",
    "- `fromkeys(keys, value):` Creates a new dictionary with the specified keys and a common value.\n",
    "<br>\n",
    "\n",
    "- `get(key, default):` Retrieves the value associated with the key. Returns the default value if the key is not found.\n",
    "<br> \n",
    "- `items():` Returns a list of tuples containing key-value pairs.\n",
    "<br>\n",
    "\n",
    "- `keys():` Returns a list of all the keys in the dictionary.\n",
    "<br>\n",
    "\n",
    "- `pop(key, default):` Removes the key-value pair from the dictionary and returns the value. Returns the default value if the key is not found.\n",
    "<br>\n",
    "\n",
    "- `popitem():` Removes and returns an arbitrary key-value pair from the dictionary.\n",
    "<br>\n",
    "\n",
    "- `setdefault(key, default):` Retrieves the value associated with the key. If the key is not found, inserts the key with the default value.\n",
    "<br>\n",
    "\n",
    "- `update(dict2):` Updates the dictionary with the key-value pairs from another dictionary.\n",
    "<br>\n",
    "\n",
    "- `values():` Returns a list of all the values in the dictionary.\n",
    "<br>"
   ]
  },
  {
   "cell_type": "code",
   "execution_count": null,
   "id": "693693b9",
   "metadata": {},
   "outputs": [],
   "source": [
    "# clear(): Removes all key-value pairs from the dictionary.\n",
    "phone_book.clear()\n",
    "print(phone_book)  # Output: {}\n"
   ]
  },
  {
   "cell_type": "code",
   "execution_count": null,
   "id": "48e1c31d",
   "metadata": {},
   "outputs": [],
   "source": [
    "# copy():Creates a shallow copy of the dictionary.\n",
    "phone_book_copy = phone_book.copy()\n",
    "print(phone_book_copy)  # Output: {\"Alice\": \"123-456-7890\", \"Bob\": \"987-654-3210\", \"Charlie\": \"555-123-4567\"}\n"
   ]
  },
  {
   "cell_type": "code",
   "execution_count": null,
   "id": "5845a065",
   "metadata": {},
   "outputs": [],
   "source": [
    "# fromkeys(keys, value): Creates a new dictionary with the specified keys and a common value.\n",
    "\n",
    "keys = [\"Alice\", \"Bob\", \"Charlie\"]\n",
    "default_value = \"No number\"\n",
    "\n",
    "new_phone_book = dict.fromkeys(keys, default_value)\n",
    "print(new_phone_book)  # Output: {\"Alice\": \"No number\", \"Bob\": \"No number\", \"Charlie\": \"No number\"}\n"
   ]
  },
  {
   "cell_type": "code",
   "execution_count": null,
   "id": "d8a1a797",
   "metadata": {},
   "outputs": [],
   "source": [
    "phone_book"
   ]
  },
  {
   "cell_type": "code",
   "execution_count": null,
   "id": "75cfc4f2",
   "metadata": {},
   "outputs": [],
   "source": [
    "phone_book['tom']"
   ]
  },
  {
   "cell_type": "code",
   "execution_count": null,
   "id": "153f91ee",
   "metadata": {},
   "outputs": [],
   "source": [
    "phone_book.get('Alice','Key not present')"
   ]
  },
  {
   "cell_type": "code",
   "execution_count": null,
   "id": "f3d6c332",
   "metadata": {},
   "outputs": [],
   "source": [
    "phone_book.pop(\"Alice\",\"KEY NOT PRESENT\")"
   ]
  },
  {
   "cell_type": "code",
   "execution_count": null,
   "id": "7a4e2760",
   "metadata": {},
   "outputs": [],
   "source": [
    "phone_book"
   ]
  },
  {
   "cell_type": "code",
   "execution_count": null,
   "id": "38886364",
   "metadata": {},
   "outputs": [],
   "source": [
    "# get(key, default): Retrieves the value associated with the key. Returns the default value if the key is not found.\n",
    "\n",
    "phone_number = phone_book.get(\"Alice\", \"Unknown\")\n",
    "print(phone_number)  # Output: 123-456-7890\n",
    "\n",
    "phone_number = phone_book.get(\"David\", \"Unknown\")\n",
    "print(phone_number)  # Output: Unknown\n"
   ]
  },
  {
   "cell_type": "code",
   "execution_count": null,
   "id": "959b0322",
   "metadata": {},
   "outputs": [],
   "source": [
    "# items(): Returns a list of tuples containing key-value pairs.\n",
    "items = phone_book.items()\n",
    "print(items)  # Output: dict_items([('Alice', '123-456-7890'), ('Bob', '987-654-3210'), ('Charlie', '555-123-4567')])\n"
   ]
  },
  {
   "cell_type": "code",
   "execution_count": null,
   "id": "8748283b",
   "metadata": {},
   "outputs": [],
   "source": [
    "phone_book.keys()\n",
    "phone_book.values()\n",
    "phone_book.items()"
   ]
  },
  {
   "cell_type": "code",
   "execution_count": null,
   "id": "288b9310",
   "metadata": {},
   "outputs": [],
   "source": [
    "# keys(): Returns a list of all the keys in the dictionary.\n",
    "keys = phone_book.keys()\n",
    "print(keys)  # Output: dict_keys(['Alice', 'Bob', 'Charlie'])\n"
   ]
  },
  {
   "cell_type": "code",
   "execution_count": null,
   "id": "b9ae21ff",
   "metadata": {},
   "outputs": [],
   "source": [
    "# pop(key, default): Removes the key-value pair from the dictionary and returns the value.\n",
    "# Returns the default value if the key is not found.\n",
    "\n",
    "phone_number = phone_book.pop(\"Alice\")\n",
    "print(phone_number)  # Output: 123-456-7890\n",
    "print(phone_book)  # Output: {\"Bob\": \"987-654-3210\", \"Charlie\": \"555-123-4567\"}\n",
    "\n",
    "phone_number = phone_book.pop(\"David\", \"Not found\")\n",
    "print(phone_number)  # Output: Not found\n"
   ]
  },
  {
   "cell_type": "code",
   "execution_count": null,
   "id": "d1c5c937",
   "metadata": {},
   "outputs": [],
   "source": [
    "phone_book"
   ]
  },
  {
   "cell_type": "code",
   "execution_count": null,
   "id": "2cf7816d",
   "metadata": {},
   "outputs": [],
   "source": [
    "# popitem(): Removes and returns an arbitrary key-value pair from the dictionary.\n",
    "key, value = phone_book.popitem()\n",
    "print(key, \":\", value)  # Output: Charlie : 555-123-4567\n",
    "print(phone_book)  # Output: {\"Alice\": \"123-456-7890\", \"Bob\": \"987-654-3210\"}\n"
   ]
  },
  {
   "cell_type": "code",
   "execution_count": null,
   "id": "c181ae66",
   "metadata": {},
   "outputs": [],
   "source": [
    "phone_book = {\"Alice\": \"123-456-7890\", \"Bob\": \"987-654-3210\", \"Charlie\": \"555-123-4567\"}"
   ]
  },
  {
   "cell_type": "code",
   "execution_count": null,
   "id": "78dd6878",
   "metadata": {},
   "outputs": [],
   "source": [
    "phone_book.setdefault('ALICE','Unknown')"
   ]
  },
  {
   "cell_type": "code",
   "execution_count": null,
   "id": "2dcbebec",
   "metadata": {},
   "outputs": [],
   "source": [
    "phone_book.setdefault(\"Alice\",'default_valule')"
   ]
  },
  {
   "cell_type": "code",
   "execution_count": null,
   "id": "5b9ad3cf",
   "metadata": {},
   "outputs": [],
   "source": [
    "phone_book"
   ]
  },
  {
   "cell_type": "code",
   "execution_count": null,
   "id": "e2c92fc0",
   "metadata": {},
   "outputs": [],
   "source": [
    "# setdefault(key, default): Retrieves the value associated with the key.\n",
    "# If the key is not found, inserts the key with the default value.\n",
    "\n",
    "phone_number = phone_book.setdefault(\"Alice\", \"Unknown\")\n",
    "print(phone_number)  # Output: 123-456-7890\n",
    "\n",
    "phone_number = phone_book.setdefault(\"David\", \"default_value\")\n",
    "print(phone_number)  # Output: Unknown\n",
    "print(phone_book)  # Output: {\"Alice\": \"123-456-7890\", \"Bob\": \"987-654-3210\", \"David\": \"Unknown\"}\n"
   ]
  },
  {
   "cell_type": "code",
   "execution_count": null,
   "id": "c7d0f735",
   "metadata": {},
   "outputs": [],
   "source": [
    "# update(dict2): Updates the dictionary with the key-value pairs from another dictionary.\n",
    "\n",
    "new_entries = {\"David\": \"111-222-3333\", \"Eve\": \"444-555-6666\"}\n",
    "phone_book.update(new_entries)\n",
    "print(phone_book)  # Output: {\"Alice\": \"123-456-7890\", \"Bob\": \"987-654-3210\", \"David\": \"111-222-3333\", \"Eve\": \"444-555-6666\"}\n"
   ]
  },
  {
   "cell_type": "code",
   "execution_count": null,
   "id": "6886ea32",
   "metadata": {},
   "outputs": [],
   "source": [
    "# values(): Returns a list of all the values in the dictionary. \n",
    "values = phone_book.values()\n",
    "print(values)  # Output: dict_values(['123-456-7890', '987-654-3210', '111-222-3333', '444-555-6666'])\n"
   ]
  },
  {
   "cell_type": "code",
   "execution_count": null,
   "id": "9a043815",
   "metadata": {},
   "outputs": [],
   "source": [
    "dict_ = {\"key\":'value'}"
   ]
  },
  {
   "cell_type": "code",
   "execution_count": null,
   "id": "7fb759f7",
   "metadata": {},
   "outputs": [],
   "source": [
    "dict_['key2'] = 'value2'"
   ]
  },
  {
   "cell_type": "code",
   "execution_count": null,
   "id": "8cb2aeee",
   "metadata": {},
   "outputs": [],
   "source": [
    "dict_"
   ]
  },
  {
   "cell_type": "code",
   "execution_count": null,
   "id": "e37c70a7",
   "metadata": {},
   "outputs": [],
   "source": [
    "dict_['key'] = 'velue'"
   ]
  },
  {
   "cell_type": "code",
   "execution_count": null,
   "id": "cf90f95b",
   "metadata": {},
   "outputs": [],
   "source": [
    "dict_"
   ]
  },
  {
   "cell_type": "code",
   "execution_count": null,
   "id": "6b623552",
   "metadata": {},
   "outputs": [],
   "source": [
    "dict_['key3']= 6"
   ]
  },
  {
   "cell_type": "code",
   "execution_count": null,
   "id": "90bc0b5d",
   "metadata": {},
   "outputs": [],
   "source": [
    "dict_"
   ]
  },
  {
   "cell_type": "code",
   "execution_count": null,
   "id": "df52a249",
   "metadata": {},
   "outputs": [],
   "source": [
    "numbers = [1,2,3,4,5,6,1,1,2,2,4,4,4,4,4]\n",
    "# find mode of the above sequence"
   ]
  },
  {
   "cell_type": "code",
   "execution_count": null,
   "id": "29a9b2b0",
   "metadata": {},
   "outputs": [],
   "source": []
  },
  {
   "cell_type": "code",
   "execution_count": null,
   "id": "6144c8eb",
   "metadata": {},
   "outputs": [],
   "source": []
  },
  {
   "cell_type": "code",
   "execution_count": null,
   "id": "8dbc5b59",
   "metadata": {},
   "outputs": [],
   "source": []
  },
  {
   "cell_type": "code",
   "execution_count": null,
   "id": "af84162b",
   "metadata": {},
   "outputs": [],
   "source": []
  },
  {
   "cell_type": "code",
   "execution_count": null,
   "id": "20771c7a",
   "metadata": {},
   "outputs": [],
   "source": []
  },
  {
   "cell_type": "code",
   "execution_count": null,
   "id": "55ab5223",
   "metadata": {},
   "outputs": [],
   "source": []
  },
  {
   "cell_type": "code",
   "execution_count": null,
   "id": "a89c4281",
   "metadata": {},
   "outputs": [],
   "source": []
  },
  {
   "cell_type": "code",
   "execution_count": null,
   "id": "9542687b",
   "metadata": {},
   "outputs": [],
   "source": []
  },
  {
   "cell_type": "code",
   "execution_count": null,
   "id": "60cb1f13",
   "metadata": {},
   "outputs": [],
   "source": []
  },
  {
   "cell_type": "code",
   "execution_count": null,
   "id": "beab1639",
   "metadata": {},
   "outputs": [],
   "source": []
  },
  {
   "cell_type": "code",
   "execution_count": 8,
   "id": "e8879f84",
   "metadata": {},
   "outputs": [],
   "source": [
    "# find mode \n",
    "numbers = [1,2,3,4,5,6,1,1,2,2,4,4,4,4,4]"
   ]
  },
  {
   "cell_type": "code",
   "execution_count": 9,
   "id": "8b65cba6",
   "metadata": {},
   "outputs": [],
   "source": [
    "result = {}"
   ]
  },
  {
   "cell_type": "code",
   "execution_count": 10,
   "id": "3072ddc2",
   "metadata": {},
   "outputs": [],
   "source": [
    "for i in numbers:\n",
    "    if i in result:\n",
    "        result[i] +=1\n",
    "    else:\n",
    "        result[i] = 1"
   ]
  },
  {
   "cell_type": "code",
   "execution_count": 17,
   "id": "19595780",
   "metadata": {},
   "outputs": [],
   "source": [
    "mode = sorted(result,key=lambda x : result[x],reverse=True)[0]"
   ]
  },
  {
   "cell_type": "code",
   "execution_count": 18,
   "id": "1f3b1795",
   "metadata": {},
   "outputs": [
    {
     "name": "stdout",
     "output_type": "stream",
     "text": [
      "MODE IS 4 occuring 6 times.\n"
     ]
    }
   ],
   "source": [
    "print(f\"MODE IS {mode} occuring {result[mode]} times.\")"
   ]
  },
  {
   "cell_type": "code",
   "execution_count": null,
   "id": "8810ef40",
   "metadata": {},
   "outputs": [],
   "source": []
  },
  {
   "cell_type": "code",
   "execution_count": null,
   "id": "48e87d27",
   "metadata": {},
   "outputs": [],
   "source": []
  },
  {
   "cell_type": "code",
   "execution_count": null,
   "id": "2e18218b",
   "metadata": {},
   "outputs": [],
   "source": []
  },
  {
   "cell_type": "code",
   "execution_count": null,
   "id": "1bc3430f",
   "metadata": {},
   "outputs": [],
   "source": []
  },
  {
   "cell_type": "code",
   "execution_count": 15,
   "id": "44966c87",
   "metadata": {},
   "outputs": [],
   "source": [
    "# find mode \n",
    "numbers = [1,2,3,4,5,6,1,1,2,2,4,4,4,4,4]\n",
    "def Find_mode(numbers):\n",
    "    result= {}\n",
    "    for i in numbers:\n",
    "        if i in result:\n",
    "            result[i] += 1\n",
    "        else:\n",
    "            result[i] = 1 \n",
    "    print(result)\n",
    "    final_result = list(sorted(result.items(),key= lambda item : item[1] ,reverse=True))\n",
    "    return (f\"The mode for the given sequence of numbers is {final_result[0][0]} occuring {final_result[0][1]} times.\")"
   ]
  },
  {
   "cell_type": "code",
   "execution_count": 16,
   "id": "3a199bc2",
   "metadata": {},
   "outputs": [
    {
     "name": "stdout",
     "output_type": "stream",
     "text": [
      "{1: 3, 2: 3, 3: 1, 4: 6, 5: 1, 6: 1}\n",
      "The mode for the given sequence of numbers is 4 occuring 6 times.\n"
     ]
    }
   ],
   "source": [
    "numbers = [1,2,3,4,5,6,1,1,2,2,4,4,4,4,4]\n",
    "print(Find_mode(numbers))"
   ]
  },
  {
   "cell_type": "markdown",
   "id": "2633f374",
   "metadata": {},
   "source": [
    "--- \n",
    "# Questions.\n",
    "1. Write a program to create a dictionary of fruits and their prices. Print the fruit with the lowest price.\n",
    "2. Write a program to create an empty dictionary and add three key-value pairs to it. Print the dictionary.\n",
    "3. Write a program that takes user input to create a dictionary of words as keys and their corresponding lengths as values. The program should continue taking input until the user enters `\"quit\"`. Finally, print the dictionary.\n",
    "4. Write a program to check if a specific key exists in a dictionary. If it does, print its value; otherwise, print a message indicating that the key is not found.\n",
    "5. Write a program to remove a key-value pair from a dictionary based on user input. If the key is found, remove it and print the updated dictionary. If the key is not found, print a message indicating that the key is not present.\n",
    "---"
   ]
  },
  {
   "cell_type": "code",
   "execution_count": null,
   "id": "0b4c8738",
   "metadata": {},
   "outputs": [],
   "source": [
    "# Write a program to create a dictionary of fruits and their prices. \n",
    "# Print the fruit with the lowest price.\n",
    "\n",
    "fruits = {'mango': 20,'cherry':40, 'banana':15, 'apple':34}\n",
    "\n",
    "new=sorted(fruits,key= lambda x : fruits[x] )\n",
    "# for i in new:\n",
    "#     print(i,\": \",fruits[i])\n",
    "print(new[0],\":\",fruits[new[0]])"
   ]
  },
  {
   "cell_type": "code",
   "execution_count": null,
   "id": "37063f7e",
   "metadata": {},
   "outputs": [],
   "source": [
    "for i in sorted(fruits,key= lambda x : fruits[x] ):\n",
    "    print(i,\": \",fruits[i])"
   ]
  },
  {
   "cell_type": "code",
   "execution_count": 21,
   "id": "57eeb437",
   "metadata": {},
   "outputs": [
    {
     "data": {
      "text/plain": [
       "False"
      ]
     },
     "execution_count": 21,
     "metadata": {},
     "output_type": "execute_result"
    }
   ],
   "source": [
    "a= 5\n",
    "b =4\n",
    "a <b"
   ]
  },
  {
   "cell_type": "code",
   "execution_count": 19,
   "id": "752deba8",
   "metadata": {},
   "outputs": [
    {
     "name": "stdout",
     "output_type": "stream",
     "text": [
      "Enter a word : suraj\n",
      "Enter a word : sjkjf\n",
      "Enter a word : susjfhsahfd\n",
      "Enter a word : jhfasdutfuasdgfia\n",
      "Enter a word : hhfahs\n",
      "Enter a word : 222\n",
      "Enter a word : 64\n",
      "Enter a word : 8\n",
      "Enter a word : a8sdf\n",
      "Enter a word : 7fdadsfalskdfhuasdgf'\n",
      "Enter a word : QUit\n",
      "{'suraj': 5, 'sjkjf': 5, 'susjfhsahfd': 11, 'jhfasdutfuasdgfia': 17, 'hhfahs': 6, '222': 3, '64': 2, '8': 1, 'a8sdf': 5, \"7fdadsfalskdfhuasdgf'\": 21}\n"
     ]
    }
   ],
   "source": [
    "# Write a program that takes user input to create a dictionary of words as keys and\n",
    "# their corresponding lengths as values. \n",
    "# The program should continue taking input until the user enters \"quit\". \n",
    "# Finally, print the dictionary.\n",
    "\n",
    "result ={}\n",
    "while True:\n",
    "    inp = input(\"Enter a word : \")\n",
    "    if inp.lower() == 'quit':\n",
    "        break\n",
    "    else:\n",
    "        result[inp] = len(inp)\n",
    "        \n",
    "print(result)"
   ]
  },
  {
   "cell_type": "code",
   "execution_count": 22,
   "id": "b2556357",
   "metadata": {},
   "outputs": [
    {
     "ename": "NameError",
     "evalue": "name 'main' is not defined",
     "output_type": "error",
     "traceback": [
      "\u001b[1;31m---------------------------------------------------------------------------\u001b[0m",
      "\u001b[1;31mNameError\u001b[0m                                 Traceback (most recent call last)",
      "Cell \u001b[1;32mIn[22], line 1\u001b[0m\n\u001b[1;32m----> 1\u001b[0m \u001b[43mmain\u001b[49m()\n",
      "\u001b[1;31mNameError\u001b[0m: name 'main' is not defined"
     ]
    }
   ],
   "source": [
    "main()"
   ]
  },
  {
   "cell_type": "code",
   "execution_count": null,
   "id": "02f8f833",
   "metadata": {},
   "outputs": [],
   "source": []
  },
  {
   "cell_type": "code",
   "execution_count": null,
   "id": "82439f9c",
   "metadata": {},
   "outputs": [],
   "source": []
  },
  {
   "cell_type": "code",
   "execution_count": null,
   "id": "1150af24",
   "metadata": {},
   "outputs": [],
   "source": []
  },
  {
   "cell_type": "code",
   "execution_count": null,
   "id": "8564c52f",
   "metadata": {},
   "outputs": [],
   "source": []
  },
  {
   "cell_type": "code",
   "execution_count": null,
   "id": "486f5972",
   "metadata": {},
   "outputs": [],
   "source": []
  },
  {
   "cell_type": "code",
   "execution_count": null,
   "id": "687d0720",
   "metadata": {},
   "outputs": [],
   "source": [
    "suraj\n",
    "d ={'suraj':5}"
   ]
  },
  {
   "cell_type": "code",
   "execution_count": null,
   "id": "2a2a1b28",
   "metadata": {},
   "outputs": [],
   "source": [
    "# 1\n",
    "fruits = {'apple':20,'banana':10,'cherry':14,'blueberry':12}"
   ]
  },
  {
   "cell_type": "code",
   "execution_count": null,
   "id": "fe5de487",
   "metadata": {},
   "outputs": [],
   "source": [
    "def sort_dict(dict,key):\n",
    "    return dict[key]"
   ]
  },
  {
   "cell_type": "code",
   "execution_count": null,
   "id": "e938fe1d",
   "metadata": {},
   "outputs": [],
   "source": [
    "sort_dict(fruits,'apple')"
   ]
  },
  {
   "cell_type": "code",
   "execution_count": null,
   "id": "b913683a",
   "metadata": {},
   "outputs": [],
   "source": [
    "sorted_fruits = sorted(fruits,key= lambda x : fruits[x])"
   ]
  },
  {
   "cell_type": "code",
   "execution_count": null,
   "id": "b96885df",
   "metadata": {},
   "outputs": [],
   "source": [
    "sorted_fruits"
   ]
  },
  {
   "cell_type": "code",
   "execution_count": null,
   "id": "b026cf1f",
   "metadata": {},
   "outputs": [],
   "source": [
    "fruits['banana']"
   ]
  },
  {
   "cell_type": "code",
   "execution_count": null,
   "id": "1dcf34f0",
   "metadata": {
    "scrolled": true
   },
   "outputs": [],
   "source": [
    "for i in sorted_fruits:\n",
    "    print(i, ' : ' ,fruits[i])"
   ]
  },
  {
   "cell_type": "code",
   "execution_count": null,
   "id": "9329a24b",
   "metadata": {},
   "outputs": [],
   "source": [
    "fruits_prices = {\n",
    "        'apple': 1.50,\n",
    "        'banana': 0.50,\n",
    "        'orange': 1.20,\n",
    "        'grape': 2.00,\n",
    "        'kiwi': 1.80\n",
    "    }"
   ]
  },
  {
   "cell_type": "code",
   "execution_count": null,
   "id": "380166f0",
   "metadata": {},
   "outputs": [],
   "source": [
    "def cheapest_fruit(fruits_prices):\n",
    "    min_price = float('inf')\n",
    "    cheapest_fruit = None\n",
    "    for fruit,price in fruits_prices.items():\n",
    "        if price < min_price:\n",
    "            min_price = price\n",
    "            cheapest_fruit = fruit\n",
    "    return cheapest_fruit,min_price\n",
    "    "
   ]
  },
  {
   "cell_type": "code",
   "execution_count": null,
   "id": "959fff35",
   "metadata": {},
   "outputs": [],
   "source": [
    "print(cheapest_fruit(fruits_prices))"
   ]
  },
  {
   "cell_type": "code",
   "execution_count": null,
   "id": "b43aa78b",
   "metadata": {},
   "outputs": [],
   "source": [
    "cheapest_fruit = min(fruits_prices,key= fruits_prices.get)\n",
    "min_price = fruits_prices[cheapest_fruit]\n",
    "print(cheapest_fruit,':',min_price)"
   ]
  },
  {
   "cell_type": "code",
   "execution_count": null,
   "id": "783c1bf4",
   "metadata": {},
   "outputs": [],
   "source": [
    "# 2\n",
    "my_dict = {}\n",
    "\n",
    "# Add key-value pairs to the dictionary\n",
    "my_dict['apple'] = 1.50\n",
    "my_dict['banana'] = 0.50\n",
    "my_dict['orange'] = 1.20\n",
    "\n",
    "# Print the dictionary\n",
    "print(my_dict)"
   ]
  },
  {
   "cell_type": "code",
   "execution_count": null,
   "id": "6dbd4f45",
   "metadata": {},
   "outputs": [],
   "source": []
  },
  {
   "cell_type": "code",
   "execution_count": 23,
   "id": "b99670c2",
   "metadata": {},
   "outputs": [],
   "source": [
    "# 3\n",
    "def main():\n",
    "    word_lengths = {}\n",
    "\n",
    "    while True:\n",
    "        word = input(\"Enter a word (or 'quit' to stop): \")\n",
    "        if word.lower() == 'quit':\n",
    "            break\n",
    "        word_lengths[word] = len(word)\n",
    "\n",
    "    print(\"\\nDictionary of word lengths:\")\n",
    "    print(word_lengths)"
   ]
  },
  {
   "cell_type": "code",
   "execution_count": 24,
   "id": "929de611",
   "metadata": {},
   "outputs": [
    {
     "name": "stdout",
     "output_type": "stream",
     "text": [
      "Enter a word (or 'quit' to stop): yyjy\n",
      "Enter a word (or 'quit' to stop): quit\n",
      "\n",
      "Dictionary of word lengths:\n",
      "{'yyjy': 4}\n"
     ]
    }
   ],
   "source": [
    "main()"
   ]
  },
  {
   "cell_type": "code",
   "execution_count": 25,
   "id": "30ba9c2d",
   "metadata": {},
   "outputs": [],
   "source": [
    "# 4\n",
    "# Write a program to check if a specific key exists in a dictionary. \n",
    "# If it does, print its value; otherwise, print a message indicating that the key is not found.\n",
    "\n",
    "def check(dictionary,key):\n",
    "    ans = dictionary.get(key,'key is not found.')\n",
    "    return f\"The value of the given key is {ans}.\"\n",
    "    "
   ]
  },
  {
   "cell_type": "code",
   "execution_count": 27,
   "id": "27589ebc",
   "metadata": {},
   "outputs": [
    {
     "name": "stdout",
     "output_type": "stream",
     "text": [
      "The value of the given key is 1.2.\n"
     ]
    }
   ],
   "source": [
    "fruits_prices = {\n",
    "        'apple': 1.50,\n",
    "        'banana': 0.50,\n",
    "        'orange': 1.20,\n",
    "        'grape': 2.00,\n",
    "        'kiwi': 1.80\n",
    "    }\n",
    "print(check(fruits_prices,'orange'))"
   ]
  },
  {
   "cell_type": "code",
   "execution_count": 45,
   "id": "d6d71a35",
   "metadata": {},
   "outputs": [],
   "source": [
    "# 5\n",
    "# Write a program to remove a key-value pair from a dictionary based on user input.\n",
    "# If the key is found, remove it and print the updated dictionary. If the key is not found, print a message indicating that the key is not present.\n",
    "\n",
    "\n",
    "def rmKey(dictionary):\n",
    "    key = input(\"Enter the key to remove : \")\n",
    "    if key in dictionary:\n",
    "        dictionary.pop(key)\n",
    "    else:\n",
    "        print(\"KEY NOT FOUND\")\n",
    "    while True:\n",
    "        key1 = input(\"ENTRE THE new key\")\n",
    "        if key1.lower() == 'quit':\n",
    "            break\n",
    "        else:\n",
    "            val1 = input(\"Enter the value\")\n",
    "            dictionary[key1] = val1\n",
    "    print(dictionary)"
   ]
  },
  {
   "cell_type": "code",
   "execution_count": 46,
   "id": "67529d2a",
   "metadata": {},
   "outputs": [],
   "source": [
    "fruits_prices = {\n",
    "        'apple': 1.50,\n",
    "        'banana': 0.50,\n",
    "        'orange': 1.20,\n",
    "        'grape': 2.00,\n",
    "        'kiwi': 1.80\n",
    "    }"
   ]
  },
  {
   "cell_type": "code",
   "execution_count": 47,
   "id": "bc270ba1",
   "metadata": {},
   "outputs": [
    {
     "name": "stdout",
     "output_type": "stream",
     "text": [
      "Enter the key to remove : apple\n",
      "ENTRE THE new keyfak\n",
      "Enter the value5454'\n",
      "ENTRE THE new keyjkjfkajs\n",
      "Enter the valuef4\n",
      "ENTRE THE new keyquit\n",
      "{'banana': 0.5, 'orange': 1.2, 'grape': 2.0, 'kiwi': 1.8, 'fak': \"5454'\", 'jkjfkajs': 'f4'}\n"
     ]
    }
   ],
   "source": [
    "rmKey(fruits_prices)"
   ]
  },
  {
   "cell_type": "code",
   "execution_count": null,
   "id": "2dfa029d",
   "metadata": {},
   "outputs": [],
   "source": []
  }
 ],
 "metadata": {
  "kernelspec": {
   "display_name": "Python 3 (ipykernel)",
   "language": "python",
   "name": "python3"
  },
  "language_info": {
   "codemirror_mode": {
    "name": "ipython",
    "version": 3
   },
   "file_extension": ".py",
   "mimetype": "text/x-python",
   "name": "python",
   "nbconvert_exporter": "python",
   "pygments_lexer": "ipython3",
   "version": "3.9.16"
  }
 },
 "nbformat": 4,
 "nbformat_minor": 5
}
