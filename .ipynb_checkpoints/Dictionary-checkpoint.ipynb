{
 "cells": [
  {
   "cell_type": "markdown",
   "id": "16c0fda9",
   "metadata": {},
   "source": [
    "# DICTIONARY ⇨\n",
    "- A dictionary is a data structure that allows you to store and retrieve data using unique keys. \n",
    "- It is denoted by curly braces `{}` and consists of key-value pairs separated by colons `:`. \n",
    "- The keys are used to identify and access the corresponding values.\n",
    "\n",
    "- general syntax to create a dictionary:\n",
    "---\n",
    "\n",
    "<span style=\"color: green;\">my_dict = {key1: value1, key2: value2, key3: value3, ...}</span>\n",
    "\n",
    "--- \n",
    "\n",
    "\n",
    "- In the simplest manner, a dictionary in Python is like a phone book. \n",
    "- Just like a phone book has names and phone numbers, a dictionary has keys and values. \n",
    "- Each key is unique and corresponds to a specific value."
   ]
  },
  {
   "cell_type": "code",
   "execution_count": 10,
   "id": "469581c5",
   "metadata": {},
   "outputs": [],
   "source": [
    "database = {'user1':['a'],'user2':['sfhs'],'user3':'asldf'}"
   ]
  },
  {
   "cell_type": "code",
   "execution_count": 11,
   "id": "37e937f6",
   "metadata": {},
   "outputs": [
    {
     "data": {
      "text/plain": [
       "{'user1': ['a'], 'user2': ['sfhs'], 'user3': 'asldf'}"
      ]
     },
     "execution_count": 11,
     "metadata": {},
     "output_type": "execute_result"
    }
   ],
   "source": [
    "database"
   ]
  },
  {
   "cell_type": "code",
   "execution_count": 1,
   "id": "f2190f1f",
   "metadata": {},
   "outputs": [],
   "source": [
    "shopping_list = {'bread':3,'milk':1,'apples':6}"
   ]
  },
  {
   "cell_type": "code",
   "execution_count": 2,
   "id": "a6bd4c74",
   "metadata": {},
   "outputs": [],
   "source": [
    "new_dict = {'unique_id':['name','age','password','details'],\n",
    "            'unique_id2':['name','age','password','details'],\n",
    "            'unique_id3':['name','age','password','details']}"
   ]
  },
  {
   "cell_type": "code",
   "execution_count": 4,
   "id": "2524c509",
   "metadata": {},
   "outputs": [
    {
     "data": {
      "text/plain": [
       "3"
      ]
     },
     "execution_count": 4,
     "metadata": {},
     "output_type": "execute_result"
    }
   ],
   "source": [
    "len(new_dict)"
   ]
  },
  {
   "cell_type": "code",
   "execution_count": null,
   "id": "1c0eb16c",
   "metadata": {},
   "outputs": [],
   "source": [
    "new_dict['unique_id3']"
   ]
  },
  {
   "cell_type": "code",
   "execution_count": 12,
   "id": "f45d9666",
   "metadata": {},
   "outputs": [
    {
     "data": {
      "text/plain": [
       "3"
      ]
     },
     "execution_count": 12,
     "metadata": {},
     "output_type": "execute_result"
    }
   ],
   "source": [
    "# EXAMPLE OF A DICTIONARY\n",
    "phone_book = {\"Alice\": \"123-456-7890\", \"Bob\": \"987-654-3210\", \"Charlie\": \"555-123-4567\"}\n",
    "len(phone_book)"
   ]
  },
  {
   "cell_type": "code",
   "execution_count": 13,
   "id": "1cb1c614",
   "metadata": {},
   "outputs": [
    {
     "data": {
      "text/plain": [
       "'123-456-7890'"
      ]
     },
     "execution_count": 13,
     "metadata": {},
     "output_type": "execute_result"
    }
   ],
   "source": [
    "phone_book['Alice']"
   ]
  },
  {
   "cell_type": "code",
   "execution_count": 14,
   "id": "c87533cd",
   "metadata": {},
   "outputs": [],
   "source": [
    "phone_book['John'] = '555550342'"
   ]
  },
  {
   "cell_type": "code",
   "execution_count": 16,
   "id": "26f5fb31",
   "metadata": {},
   "outputs": [],
   "source": [
    "phone_book['John'] = '768943223'"
   ]
  },
  {
   "cell_type": "code",
   "execution_count": 17,
   "id": "792569e3",
   "metadata": {},
   "outputs": [
    {
     "data": {
      "text/plain": [
       "{'Alice': '123-456-7890',\n",
       " 'Bob': '987-654-3210',\n",
       " 'Charlie': '555-123-4567',\n",
       " 'John': '768943223'}"
      ]
     },
     "execution_count": 17,
     "metadata": {},
     "output_type": "execute_result"
    }
   ],
   "source": [
    "phone_book"
   ]
  },
  {
   "cell_type": "markdown",
   "id": "d3a144cc",
   "metadata": {},
   "source": [
    "---\n",
    "`If you want to find Alice's phone number, you can use the key \"Alice\" to get her phone number from the dictionary.`\n",
    "\n"
   ]
  },
  {
   "cell_type": "code",
   "execution_count": null,
   "id": "d06b714b",
   "metadata": {},
   "outputs": [],
   "source": [
    "print(phone_book[\"Alice\"])  # Output: 123-456-7890"
   ]
  },
  {
   "cell_type": "code",
   "execution_count": null,
   "id": "4a838794",
   "metadata": {},
   "outputs": [],
   "source": [
    "phone_book['Bob']"
   ]
  },
  {
   "cell_type": "markdown",
   "id": "10e05633",
   "metadata": {},
   "source": [
    "--- \n",
    "### 1. Adding an entry: \n",
    "- You can add a new entry to a dictionary by assigning a value to a new key."
   ]
  },
  {
   "cell_type": "code",
   "execution_count": null,
   "id": "5d58a74e",
   "metadata": {},
   "outputs": [],
   "source": [
    "phone_book[\"Eve\"] = \"111-222-3333\""
   ]
  },
  {
   "cell_type": "code",
   "execution_count": null,
   "id": "9e2242b1",
   "metadata": {},
   "outputs": [],
   "source": [
    "phone_book"
   ]
  },
  {
   "cell_type": "markdown",
   "id": "db277f8c",
   "metadata": {},
   "source": [
    "--- \n",
    "### 2. Changing a value :\n",
    "- You can change the value associated with a key."
   ]
  },
  {
   "cell_type": "code",
   "execution_count": null,
   "id": "f5131c3f",
   "metadata": {},
   "outputs": [],
   "source": [
    "phone_book"
   ]
  },
  {
   "cell_type": "code",
   "execution_count": null,
   "id": "2fa9545f",
   "metadata": {},
   "outputs": [],
   "source": [
    "phone_book[\"Bob\"] = \"555-555-5555\""
   ]
  },
  {
   "cell_type": "code",
   "execution_count": null,
   "id": "6a81545d",
   "metadata": {},
   "outputs": [],
   "source": [
    "phone_book"
   ]
  },
  {
   "cell_type": "markdown",
   "id": "3f1e4055",
   "metadata": {},
   "source": [
    "--- \n",
    "### 3.Removing an entry: \n",
    "- You can remove an entry from the dictionary using the del keyword."
   ]
  },
  {
   "cell_type": "code",
   "execution_count": 18,
   "id": "c4dacd27",
   "metadata": {},
   "outputs": [
    {
     "data": {
      "text/plain": [
       "{'Alice': '123-456-7890',\n",
       " 'Bob': '987-654-3210',\n",
       " 'Charlie': '555-123-4567',\n",
       " 'John': '768943223'}"
      ]
     },
     "execution_count": 18,
     "metadata": {},
     "output_type": "execute_result"
    }
   ],
   "source": [
    "phone_book"
   ]
  },
  {
   "cell_type": "code",
   "execution_count": 19,
   "id": "d9215f91",
   "metadata": {},
   "outputs": [],
   "source": [
    "del phone_book[\"Charlie\"]"
   ]
  },
  {
   "cell_type": "code",
   "execution_count": 20,
   "id": "4d364417",
   "metadata": {},
   "outputs": [
    {
     "data": {
      "text/plain": [
       "{'Alice': '123-456-7890', 'Bob': '987-654-3210', 'John': '768943223'}"
      ]
     },
     "execution_count": 20,
     "metadata": {},
     "output_type": "execute_result"
    }
   ],
   "source": [
    "phone_book"
   ]
  },
  {
   "cell_type": "code",
   "execution_count": 22,
   "id": "d8e24fa5",
   "metadata": {},
   "outputs": [],
   "source": [
    "t = (4,5,6)"
   ]
  },
  {
   "cell_type": "code",
   "execution_count": 23,
   "id": "385e92cc",
   "metadata": {},
   "outputs": [],
   "source": [
    "del t"
   ]
  },
  {
   "cell_type": "code",
   "execution_count": 21,
   "id": "c69952fe",
   "metadata": {},
   "outputs": [],
   "source": [
    "del phone_book"
   ]
  },
  {
   "cell_type": "code",
   "execution_count": 24,
   "id": "0a9e40c3",
   "metadata": {},
   "outputs": [
    {
     "ename": "NameError",
     "evalue": "name 't' is not defined",
     "output_type": "error",
     "traceback": [
      "\u001b[1;31m---------------------------------------------------------------------------\u001b[0m",
      "\u001b[1;31mNameError\u001b[0m                                 Traceback (most recent call last)",
      "Cell \u001b[1;32mIn[24], line 1\u001b[0m\n\u001b[1;32m----> 1\u001b[0m t\n",
      "\u001b[1;31mNameError\u001b[0m: name 't' is not defined"
     ]
    }
   ],
   "source": [
    "t"
   ]
  },
  {
   "cell_type": "markdown",
   "id": "85f17e58",
   "metadata": {},
   "source": [
    "--- \n",
    "### 4.Checking if a key exists: \n",
    "- You can check if a key exists in the dictionary using the in keyword."
   ]
  },
  {
   "cell_type": "code",
   "execution_count": null,
   "id": "e2493c12",
   "metadata": {},
   "outputs": [],
   "source": [
    "phone_book"
   ]
  },
  {
   "cell_type": "code",
   "execution_count": null,
   "id": "fb6b0be0",
   "metadata": {},
   "outputs": [],
   "source": []
  },
  {
   "cell_type": "code",
   "execution_count": null,
   "id": "4c4468ae",
   "metadata": {},
   "outputs": [],
   "source": [
    "if \"Alice\" in phone_book:\n",
    "    print(\"Alice's phone number:\", phone_book[\"Alice\"])\n",
    "else:\n",
    "    print(\"Alice is not in the phone book.\")\n"
   ]
  },
  {
   "cell_type": "markdown",
   "id": "18d88d31",
   "metadata": {},
   "source": [
    "--- \n",
    "### 5. Getting the number of entries: \n",
    "- You can find out how many entries (key-value pairs) are in the dictionary using the len() function."
   ]
  },
  {
   "cell_type": "code",
   "execution_count": null,
   "id": "40c644e3",
   "metadata": {},
   "outputs": [],
   "source": [
    "print(\"Number of entries in the phone book:\", len(phone_book))"
   ]
  },
  {
   "cell_type": "markdown",
   "id": "f89c3017",
   "metadata": {},
   "source": [
    "--- \n",
    "### 6. Iterating over the dictionary: \n",
    "- You can iterate over the keys or values of a dictionary using a loop. \n",
    "- For example, let's print all the names and phone numbers in the phone book."
   ]
  },
  {
   "cell_type": "code",
   "execution_count": null,
   "id": "b79bfc38",
   "metadata": {},
   "outputs": [],
   "source": []
  },
  {
   "cell_type": "code",
   "execution_count": 25,
   "id": "0e507dae",
   "metadata": {},
   "outputs": [
    {
     "name": "stdout",
     "output_type": "stream",
     "text": [
      "Alice\n",
      "Bob\n",
      "Charlie\n"
     ]
    }
   ],
   "source": [
    "phone_book = {\"Alice\": \"123-456-7890\", \"Bob\": \"987-654-3210\", \"Charlie\": \"555-123-4567\"}\n",
    "\n",
    "for i  in phone_book:\n",
    "    print(i)"
   ]
  },
  {
   "cell_type": "code",
   "execution_count": 32,
   "id": "174e8b67",
   "metadata": {},
   "outputs": [
    {
     "data": {
      "text/plain": [
       "False"
      ]
     },
     "execution_count": 32,
     "metadata": {},
     "output_type": "execute_result"
    }
   ],
   "source": [
    "'alice' in phone_book"
   ]
  },
  {
   "cell_type": "code",
   "execution_count": 28,
   "id": "3d6d4c4c",
   "metadata": {},
   "outputs": [
    {
     "name": "stdout",
     "output_type": "stream",
     "text": [
      "Alice :  123-456-7890\n",
      "Bob :  987-654-3210\n",
      "Charlie :  555-123-4567\n"
     ]
    }
   ],
   "source": [
    "for key, value in phone_book.items():\n",
    "    print(key, \": \",value)"
   ]
  },
  {
   "cell_type": "code",
   "execution_count": 29,
   "id": "322100fd",
   "metadata": {},
   "outputs": [
    {
     "data": {
      "text/plain": [
       "dict_keys(['Alice', 'Bob', 'Charlie'])"
      ]
     },
     "execution_count": 29,
     "metadata": {},
     "output_type": "execute_result"
    }
   ],
   "source": [
    "phone_book.keys()"
   ]
  },
  {
   "cell_type": "code",
   "execution_count": 30,
   "id": "a27c9332",
   "metadata": {},
   "outputs": [
    {
     "data": {
      "text/plain": [
       "dict_values(['123-456-7890', '987-654-3210', '555-123-4567'])"
      ]
     },
     "execution_count": 30,
     "metadata": {},
     "output_type": "execute_result"
    }
   ],
   "source": [
    "phone_book.values()"
   ]
  },
  {
   "cell_type": "code",
   "execution_count": 35,
   "id": "76861113",
   "metadata": {},
   "outputs": [],
   "source": [
    "keys = ['key1','key2','key3']\n",
    "value = ['1','2','3']\n",
    "my_dict = dict.fromkeys(keys,value)"
   ]
  },
  {
   "cell_type": "code",
   "execution_count": 36,
   "id": "682e9b68",
   "metadata": {},
   "outputs": [
    {
     "data": {
      "text/plain": [
       "{'key1': ['1', '2', '3'], 'key2': ['1', '2', '3'], 'key3': ['1', '2', '3']}"
      ]
     },
     "execution_count": 36,
     "metadata": {},
     "output_type": "execute_result"
    }
   ],
   "source": [
    "my_dict"
   ]
  },
  {
   "cell_type": "code",
   "execution_count": null,
   "id": "25a688b8",
   "metadata": {},
   "outputs": [],
   "source": [
    "keys = ['alice','bob','key3']\n",
    "value = '111-555-777'\n",
    "my_dict = dict.fromkeys(keys, value)"
   ]
  },
  {
   "cell_type": "code",
   "execution_count": null,
   "id": "0bd39d9e",
   "metadata": {},
   "outputs": [],
   "source": [
    "my_dict"
   ]
  },
  {
   "cell_type": "code",
   "execution_count": 37,
   "id": "ea83e4a0",
   "metadata": {},
   "outputs": [],
   "source": [
    "phone_book = {\"Alice\": \"123-456-7890\", \"Bob\": \"987-654-3210\", \"Charlie\": \"555-123-4567\"}"
   ]
  },
  {
   "cell_type": "code",
   "execution_count": 40,
   "id": "58159111",
   "metadata": {},
   "outputs": [
    {
     "ename": "KeyError",
     "evalue": "'alice'",
     "output_type": "error",
     "traceback": [
      "\u001b[1;31m---------------------------------------------------------------------------\u001b[0m",
      "\u001b[1;31mKeyError\u001b[0m                                  Traceback (most recent call last)",
      "Cell \u001b[1;32mIn[40], line 1\u001b[0m\n\u001b[1;32m----> 1\u001b[0m phone_book[\u001b[38;5;124m'\u001b[39m\u001b[38;5;124malice\u001b[39m\u001b[38;5;124m'\u001b[39m]\n",
      "\u001b[1;31mKeyError\u001b[0m: 'alice'"
     ]
    }
   ],
   "source": [
    "phone_book['alice']"
   ]
  },
  {
   "cell_type": "code",
   "execution_count": 43,
   "id": "7f36e676",
   "metadata": {},
   "outputs": [
    {
     "data": {
      "text/plain": [
       "'key is not present'"
      ]
     },
     "execution_count": 43,
     "metadata": {},
     "output_type": "execute_result"
    }
   ],
   "source": [
    "# GET\n",
    "phone_book.get('alice','key is not present')"
   ]
  },
  {
   "cell_type": "code",
   "execution_count": 44,
   "id": "cbc8ab45",
   "metadata": {},
   "outputs": [
    {
     "data": {
      "text/plain": [
       "'123-456-7890'"
      ]
     },
     "execution_count": 44,
     "metadata": {},
     "output_type": "execute_result"
    }
   ],
   "source": [
    "# POP\n",
    "phone_book.pop('Alice','key is not present')"
   ]
  },
  {
   "cell_type": "code",
   "execution_count": 45,
   "id": "f6ccdb81",
   "metadata": {},
   "outputs": [
    {
     "data": {
      "text/plain": [
       "{'Bob': '987-654-3210', 'Charlie': '555-123-4567'}"
      ]
     },
     "execution_count": 45,
     "metadata": {},
     "output_type": "execute_result"
    }
   ],
   "source": [
    "phone_book"
   ]
  },
  {
   "cell_type": "code",
   "execution_count": 50,
   "id": "0a604ba0",
   "metadata": {},
   "outputs": [
    {
     "ename": "KeyError",
     "evalue": "'popitem(): dictionary is empty'",
     "output_type": "error",
     "traceback": [
      "\u001b[1;31m---------------------------------------------------------------------------\u001b[0m",
      "\u001b[1;31mKeyError\u001b[0m                                  Traceback (most recent call last)",
      "Cell \u001b[1;32mIn[50], line 1\u001b[0m\n\u001b[1;32m----> 1\u001b[0m phone_book\u001b[38;5;241m.\u001b[39mpopitem()\n",
      "\u001b[1;31mKeyError\u001b[0m: 'popitem(): dictionary is empty'"
     ]
    }
   ],
   "source": [
    "phone_book.popitem()"
   ]
  },
  {
   "cell_type": "code",
   "execution_count": 49,
   "id": "748785f8",
   "metadata": {},
   "outputs": [
    {
     "data": {
      "text/plain": [
       "{}"
      ]
     },
     "execution_count": 49,
     "metadata": {},
     "output_type": "execute_result"
    }
   ],
   "source": [
    "phone_book"
   ]
  },
  {
   "cell_type": "code",
   "execution_count": 51,
   "id": "53360737",
   "metadata": {},
   "outputs": [
    {
     "data": {
      "text/plain": [
       "'Value not found'"
      ]
     },
     "execution_count": 51,
     "metadata": {},
     "output_type": "execute_result"
    }
   ],
   "source": [
    "phone_book.pop('Bob','Value not found')"
   ]
  },
  {
   "cell_type": "code",
   "execution_count": 52,
   "id": "4d6a9159",
   "metadata": {},
   "outputs": [
    {
     "data": {
      "text/plain": [
       "{}"
      ]
     },
     "execution_count": 52,
     "metadata": {},
     "output_type": "execute_result"
    }
   ],
   "source": [
    "phone_book"
   ]
  },
  {
   "cell_type": "code",
   "execution_count": 61,
   "id": "2f407bca",
   "metadata": {},
   "outputs": [],
   "source": [
    "phone_book = {\"Alice\": \"123-456-7890\", \"Bob\": \"987-654-3210\", \"Charlie\": \"555-123-4567\"}\n"
   ]
  },
  {
   "cell_type": "code",
   "execution_count": 62,
   "id": "bbd663fd",
   "metadata": {},
   "outputs": [
    {
     "data": {
      "text/plain": [
       "'123-456-7890'"
      ]
     },
     "execution_count": 62,
     "metadata": {},
     "output_type": "execute_result"
    }
   ],
   "source": [
    "phone_book.setdefault('Alice','124578')"
   ]
  },
  {
   "cell_type": "code",
   "execution_count": 63,
   "id": "4a24de02",
   "metadata": {},
   "outputs": [
    {
     "data": {
      "text/plain": [
       "'123456789'"
      ]
     },
     "execution_count": 63,
     "metadata": {},
     "output_type": "execute_result"
    }
   ],
   "source": [
    "phone_book.setdefault(\"suraj\",'123456789')"
   ]
  },
  {
   "cell_type": "code",
   "execution_count": 64,
   "id": "11ca2d93",
   "metadata": {},
   "outputs": [
    {
     "data": {
      "text/plain": [
       "{'Alice': '123-456-7890',\n",
       " 'Bob': '987-654-3210',\n",
       " 'Charlie': '555-123-4567',\n",
       " 'suraj': '123456789'}"
      ]
     },
     "execution_count": 64,
     "metadata": {},
     "output_type": "execute_result"
    }
   ],
   "source": [
    "phone_book"
   ]
  },
  {
   "cell_type": "code",
   "execution_count": 65,
   "id": "19490bbe",
   "metadata": {},
   "outputs": [],
   "source": [
    "new_entries = {\"David\": \"111-222-3333\", \"Eve\": \"444-555-6666\"}\n",
    "phone_book.update(new_entries)"
   ]
  },
  {
   "cell_type": "code",
   "execution_count": 66,
   "id": "25868a0b",
   "metadata": {},
   "outputs": [
    {
     "data": {
      "text/plain": [
       "{'Alice': '123-456-7890',\n",
       " 'Bob': '987-654-3210',\n",
       " 'Charlie': '555-123-4567',\n",
       " 'suraj': '123456789',\n",
       " 'David': '111-222-3333',\n",
       " 'Eve': '444-555-6666'}"
      ]
     },
     "execution_count": 66,
     "metadata": {},
     "output_type": "execute_result"
    }
   ],
   "source": [
    "phone_book"
   ]
  },
  {
   "cell_type": "code",
   "execution_count": 67,
   "id": "1197be00",
   "metadata": {},
   "outputs": [],
   "source": [
    "phone_book['abc'] = '555888777'"
   ]
  },
  {
   "cell_type": "code",
   "execution_count": 68,
   "id": "403a3d55",
   "metadata": {},
   "outputs": [
    {
     "data": {
      "text/plain": [
       "{'Alice': '123-456-7890',\n",
       " 'Bob': '987-654-3210',\n",
       " 'Charlie': '555-123-4567',\n",
       " 'suraj': '123456789',\n",
       " 'David': '111-222-3333',\n",
       " 'Eve': '444-555-6666',\n",
       " 'abc': '555888777'}"
      ]
     },
     "execution_count": 68,
     "metadata": {},
     "output_type": "execute_result"
    }
   ],
   "source": [
    "phone_book"
   ]
  },
  {
   "cell_type": "code",
   "execution_count": 69,
   "id": "a7ef9fd2",
   "metadata": {},
   "outputs": [
    {
     "data": {
      "text/plain": [
       "'default value'"
      ]
     },
     "execution_count": 69,
     "metadata": {},
     "output_type": "execute_result"
    }
   ],
   "source": [
    "phone_book.setdefault('om','default value')"
   ]
  },
  {
   "cell_type": "code",
   "execution_count": 70,
   "id": "8701cf53",
   "metadata": {},
   "outputs": [
    {
     "data": {
      "text/plain": [
       "{'Alice': '123-456-7890',\n",
       " 'Bob': '987-654-3210',\n",
       " 'Charlie': '555-123-4567',\n",
       " 'suraj': '123456789',\n",
       " 'David': '111-222-3333',\n",
       " 'Eve': '444-555-6666',\n",
       " 'abc': '555888777',\n",
       " 'om': 'default value'}"
      ]
     },
     "execution_count": 70,
     "metadata": {},
     "output_type": "execute_result"
    }
   ],
   "source": [
    "phone_book"
   ]
  },
  {
   "cell_type": "code",
   "execution_count": null,
   "id": "b4e058a7",
   "metadata": {},
   "outputs": [],
   "source": []
  },
  {
   "cell_type": "markdown",
   "id": "dac0d887",
   "metadata": {},
   "source": [
    "## Built-in Methods :\n",
    "- `clear():` Removes all key-value pairs from the dictionary. \n",
    "<br>\n",
    "- `copy():`Creates a shallow copy of the dictionary.\n",
    "<br>\n",
    "- `items():` Returns a list of tuples containing key-value pairs.\n",
    "<br>\n",
    "- `keys():` Returns a list of all the keys in the dictionary.\n",
    "<br>\n",
    "- `values():` Returns a list of all the values in the dictionary.\n",
    "<br>\n",
    "- `fromkeys(keys, value):` Creates a new dictionary with the specified keys and a common value.\n",
    "<br>\n",
    "- `get(key, default):` Retrieves the value associated with the key. Returns the default value if the key is not found.\n",
    "<br> \n",
    "- `pop(key, default):` Removes the key-value pair from the dictionary and returns the value. Returns the default value if the key is not found.\n",
    "<br>\n",
    "- `popitem():` Removes and returns an arbitrary key-value pair from the dictionary.\n",
    "<br>\n",
    "- `setdefault(key, default):` Retrieves the value associated with the key. If the key is not found, inserts the key with the default value.\n",
    "<br>\n",
    "- `update(dict2):` Updates the dictionary with the key-value pairs from another dictionary.\n",
    "<br>\n"
   ]
  },
  {
   "cell_type": "code",
   "execution_count": null,
   "id": "693693b9",
   "metadata": {},
   "outputs": [],
   "source": [
    "# clear(): Removes all key-value pairs from the dictionary.\n",
    "phone_book.clear()\n",
    "print(phone_book)  # Output: {}\n"
   ]
  },
  {
   "cell_type": "code",
   "execution_count": null,
   "id": "48e1c31d",
   "metadata": {},
   "outputs": [],
   "source": [
    "# copy():Creates a shallow copy of the dictionary.\n",
    "phone_book_copy = phone_book.copy()\n",
    "print(phone_book_copy)  # Output: {\"Alice\": \"123-456-7890\", \"Bob\": \"987-654-3210\", \"Charlie\": \"555-123-4567\"}\n"
   ]
  },
  {
   "cell_type": "code",
   "execution_count": null,
   "id": "5845a065",
   "metadata": {},
   "outputs": [],
   "source": [
    "# fromkeys(keys, value): Creates a new dictionary with the specified keys and a common value.\n",
    "\n",
    "keys = [\"Alice\", \"Bob\", \"Charlie\"]\n",
    "default_value = \"No number\"\n",
    "\n",
    "new_phone_book = dict.fromkeys(keys, default_value)\n",
    "print(new_phone_book)  # Output: {\"Alice\": \"No number\", \"Bob\": \"No number\", \"Charlie\": \"No number\"}\n"
   ]
  },
  {
   "cell_type": "code",
   "execution_count": null,
   "id": "d8a1a797",
   "metadata": {},
   "outputs": [],
   "source": [
    "phone_book"
   ]
  },
  {
   "cell_type": "code",
   "execution_count": null,
   "id": "75cfc4f2",
   "metadata": {},
   "outputs": [],
   "source": [
    "phone_book['tom']"
   ]
  },
  {
   "cell_type": "code",
   "execution_count": null,
   "id": "153f91ee",
   "metadata": {},
   "outputs": [],
   "source": [
    "phone_book.get('Alice','Key not present')"
   ]
  },
  {
   "cell_type": "code",
   "execution_count": null,
   "id": "f3d6c332",
   "metadata": {},
   "outputs": [],
   "source": [
    "phone_book.pop(\"Alice\",\"KEY NOT PRESENT\")"
   ]
  },
  {
   "cell_type": "code",
   "execution_count": null,
   "id": "7a4e2760",
   "metadata": {},
   "outputs": [],
   "source": [
    "phone_book"
   ]
  },
  {
   "cell_type": "code",
   "execution_count": null,
   "id": "38886364",
   "metadata": {},
   "outputs": [],
   "source": [
    "# get(key, default): Retrieves the value associated with the key. Returns the default value if the key is not found.\n",
    "\n",
    "phone_number = phone_book.get(\"Alice\", \"Unknown\")\n",
    "print(phone_number)  # Output: 123-456-7890\n",
    "\n",
    "phone_number = phone_book.get(\"David\", \"Unknown\")\n",
    "print(phone_number)  # Output: Unknown\n"
   ]
  },
  {
   "cell_type": "code",
   "execution_count": null,
   "id": "959b0322",
   "metadata": {},
   "outputs": [],
   "source": [
    "# items(): Returns a list of tuples containing key-value pairs.\n",
    "items = phone_book.items()\n",
    "print(items)  # Output: dict_items([('Alice', '123-456-7890'), ('Bob', '987-654-3210'), ('Charlie', '555-123-4567')])\n"
   ]
  },
  {
   "cell_type": "code",
   "execution_count": null,
   "id": "8748283b",
   "metadata": {},
   "outputs": [],
   "source": [
    "phone_book.keys()\n",
    "phone_book.values()\n",
    "phone_book.items()"
   ]
  },
  {
   "cell_type": "code",
   "execution_count": null,
   "id": "288b9310",
   "metadata": {},
   "outputs": [],
   "source": [
    "# keys(): Returns a list of all the keys in the dictionary.\n",
    "keys = phone_book.keys()\n",
    "print(keys)  # Output: dict_keys(['Alice', 'Bob', 'Charlie'])\n"
   ]
  },
  {
   "cell_type": "code",
   "execution_count": null,
   "id": "b9ae21ff",
   "metadata": {},
   "outputs": [],
   "source": [
    "# pop(key, default): Removes the key-value pair from the dictionary and returns the value.\n",
    "# Returns the default value if the key is not found.\n",
    "\n",
    "phone_number = phone_book.pop(\"Alice\")\n",
    "print(phone_number)  # Output: 123-456-7890\n",
    "print(phone_book)  # Output: {\"Bob\": \"987-654-3210\", \"Charlie\": \"555-123-4567\"}\n",
    "\n",
    "phone_number = phone_book.pop(\"David\", \"Not found\")\n",
    "print(phone_number)  # Output: Not found\n"
   ]
  },
  {
   "cell_type": "code",
   "execution_count": null,
   "id": "d1c5c937",
   "metadata": {},
   "outputs": [],
   "source": [
    "phone_book"
   ]
  },
  {
   "cell_type": "code",
   "execution_count": null,
   "id": "2cf7816d",
   "metadata": {},
   "outputs": [],
   "source": [
    "# popitem(): Removes and returns an arbitrary key-value pair from the dictionary.\n",
    "key, value = phone_book.popitem()\n",
    "print(key, \":\", value)  # Output: Charlie : 555-123-4567\n",
    "print(phone_book)  # Output: {\"Alice\": \"123-456-7890\", \"Bob\": \"987-654-3210\"}\n"
   ]
  },
  {
   "cell_type": "code",
   "execution_count": null,
   "id": "c181ae66",
   "metadata": {},
   "outputs": [],
   "source": [
    "phone_book = {\"Alice\": \"123-456-7890\", \"Bob\": \"987-654-3210\", \"Charlie\": \"555-123-4567\"}"
   ]
  },
  {
   "cell_type": "code",
   "execution_count": null,
   "id": "78dd6878",
   "metadata": {},
   "outputs": [],
   "source": [
    "phone_book.setdefault('ALICE','Unknown')"
   ]
  },
  {
   "cell_type": "code",
   "execution_count": null,
   "id": "2dcbebec",
   "metadata": {},
   "outputs": [],
   "source": [
    "phone_book.setdefault(\"Alice\",'default_valule')"
   ]
  },
  {
   "cell_type": "code",
   "execution_count": null,
   "id": "5b9ad3cf",
   "metadata": {},
   "outputs": [],
   "source": [
    "phone_book"
   ]
  },
  {
   "cell_type": "code",
   "execution_count": null,
   "id": "e2c92fc0",
   "metadata": {},
   "outputs": [],
   "source": [
    "# setdefault(key, default): Retrieves the value associated with the key.\n",
    "# If the key is not found, inserts the key with the default value.\n",
    "\n",
    "phone_number = phone_book.setdefault(\"Alice\", \"Unknown\")\n",
    "print(phone_number)  # Output: 123-456-7890\n",
    "\n",
    "phone_number = phone_book.setdefault(\"David\", \"default_value\")\n",
    "print(phone_number)  # Output: Unknown\n",
    "print(phone_book)  # Output: {\"Alice\": \"123-456-7890\", \"Bob\": \"987-654-3210\", \"David\": \"Unknown\"}\n"
   ]
  },
  {
   "cell_type": "code",
   "execution_count": null,
   "id": "c7d0f735",
   "metadata": {},
   "outputs": [],
   "source": [
    "# update(dict2): Updates the dictionary with the key-value pairs from another dictionary.\n",
    "\n",
    "new_entries = {\"David\": \"111-222-3333\", \"Eve\": \"444-555-6666\"}\n",
    "phone_book.update(new_entries)\n",
    "print(phone_book)  # Output: {\"Alice\": \"123-456-7890\", \"Bob\": \"987-654-3210\", \"David\": \"111-222-3333\", \"Eve\": \"444-555-6666\"}\n"
   ]
  },
  {
   "cell_type": "code",
   "execution_count": null,
   "id": "6886ea32",
   "metadata": {},
   "outputs": [],
   "source": [
    "# values(): Returns a list of all the values in the dictionary. \n",
    "values = phone_book.values()\n",
    "print(values)  # Output: dict_values(['123-456-7890', '987-654-3210', '111-222-3333', '444-555-6666'])\n"
   ]
  },
  {
   "cell_type": "code",
   "execution_count": null,
   "id": "9a043815",
   "metadata": {},
   "outputs": [],
   "source": [
    "dict_ = {\"key\":'value'}"
   ]
  },
  {
   "cell_type": "code",
   "execution_count": null,
   "id": "7fb759f7",
   "metadata": {},
   "outputs": [],
   "source": [
    "dict_['key2'] = 'value2'"
   ]
  },
  {
   "cell_type": "code",
   "execution_count": null,
   "id": "8cb2aeee",
   "metadata": {},
   "outputs": [],
   "source": [
    "dict_"
   ]
  },
  {
   "cell_type": "code",
   "execution_count": null,
   "id": "e37c70a7",
   "metadata": {},
   "outputs": [],
   "source": [
    "dict_['key'] = 'velue'"
   ]
  },
  {
   "cell_type": "code",
   "execution_count": null,
   "id": "cf90f95b",
   "metadata": {},
   "outputs": [],
   "source": [
    "dict_"
   ]
  },
  {
   "cell_type": "code",
   "execution_count": null,
   "id": "6b623552",
   "metadata": {},
   "outputs": [],
   "source": [
    "dict_['key3']= 6"
   ]
  },
  {
   "cell_type": "code",
   "execution_count": null,
   "id": "90bc0b5d",
   "metadata": {},
   "outputs": [],
   "source": [
    "dict_"
   ]
  },
  {
   "cell_type": "code",
   "execution_count": null,
   "id": "df52a249",
   "metadata": {},
   "outputs": [],
   "source": [
    "numbers = [1,2,3,4,5,6,1,1,2,2,4,4,4,4,4]\n",
    "# find mode of the above sequence"
   ]
  },
  {
   "cell_type": "code",
   "execution_count": null,
   "id": "e8879f84",
   "metadata": {},
   "outputs": [],
   "source": [
    "# find mode \n",
    "numbers = [1,2,3,4,5,6,1,1,2,2,4,4,4,4,4]"
   ]
  },
  {
   "cell_type": "code",
   "execution_count": null,
   "id": "8b65cba6",
   "metadata": {},
   "outputs": [],
   "source": [
    "result = {}"
   ]
  },
  {
   "cell_type": "code",
   "execution_count": null,
   "id": "3072ddc2",
   "metadata": {},
   "outputs": [],
   "source": [
    "for i in numbers:\n",
    "    if i in result:\n",
    "        result[i] +=1\n",
    "    else:\n",
    "        result[i] = 1"
   ]
  },
  {
   "cell_type": "code",
   "execution_count": null,
   "id": "19595780",
   "metadata": {},
   "outputs": [],
   "source": [
    "mode = sorted(result,key=lambda x : result[x],reverse=True)[0]"
   ]
  },
  {
   "cell_type": "code",
   "execution_count": null,
   "id": "1f3b1795",
   "metadata": {},
   "outputs": [],
   "source": [
    "print(f\"MODE IS {mode} occuring {result[mode]} times.\")"
   ]
  },
  {
   "cell_type": "code",
   "execution_count": null,
   "id": "8810ef40",
   "metadata": {},
   "outputs": [],
   "source": []
  },
  {
   "cell_type": "code",
   "execution_count": null,
   "id": "48e87d27",
   "metadata": {},
   "outputs": [],
   "source": []
  },
  {
   "cell_type": "code",
   "execution_count": null,
   "id": "2e18218b",
   "metadata": {},
   "outputs": [],
   "source": []
  },
  {
   "cell_type": "code",
   "execution_count": null,
   "id": "1bc3430f",
   "metadata": {},
   "outputs": [],
   "source": []
  },
  {
   "cell_type": "code",
   "execution_count": null,
   "id": "44966c87",
   "metadata": {},
   "outputs": [],
   "source": [
    "# find mode \n",
    "numbers = [1,2,3,4,5,6,1,1,2,2,4,4,4,4,4]\n",
    "def Find_mode(numbers):\n",
    "    result= {}\n",
    "    for i in numbers:\n",
    "        if i in result:\n",
    "            result[i] += 1\n",
    "        else:\n",
    "            result[i] = 1 \n",
    "    print(result)\n",
    "    final_result = list(sorted(result.items(),key= lambda item : item[1] ,reverse=True))\n",
    "    return (f\"The mode for the given sequence of numbers is {final_result[0][0]} occuring {final_result[0][1]} times.\")"
   ]
  },
  {
   "cell_type": "code",
   "execution_count": null,
   "id": "3a199bc2",
   "metadata": {},
   "outputs": [],
   "source": [
    "numbers = [1,2,3,4,5,6,1,1,2,2,4,4,4,4,4]\n",
    "print(Find_mode(numbers))"
   ]
  },
  {
   "cell_type": "code",
   "execution_count": 71,
   "id": "29900dfa",
   "metadata": {},
   "outputs": [],
   "source": [
    "md = {}"
   ]
  },
  {
   "cell_type": "code",
   "execution_count": 72,
   "id": "fd240ae3",
   "metadata": {},
   "outputs": [],
   "source": [
    "md['key1'] = 'value1'"
   ]
  },
  {
   "cell_type": "code",
   "execution_count": 73,
   "id": "0931b15f",
   "metadata": {},
   "outputs": [
    {
     "data": {
      "text/plain": [
       "{'key1': 'value1'}"
      ]
     },
     "execution_count": 73,
     "metadata": {},
     "output_type": "execute_result"
    }
   ],
   "source": [
    "md"
   ]
  },
  {
   "cell_type": "code",
   "execution_count": 77,
   "id": "1def7ef8",
   "metadata": {},
   "outputs": [],
   "source": [
    "fruits_prices = {\n",
    "        'apple': 1.50,\n",
    "        'banana': 0.50,\n",
    "        'orange': 1.20,\n",
    "        'grape': 2.00,\n",
    "        'kiwi': 1.80\n",
    "    }"
   ]
  },
  {
   "cell_type": "code",
   "execution_count": 78,
   "id": "8cfdbac9",
   "metadata": {},
   "outputs": [
    {
     "data": {
      "text/plain": [
       "[('banana', 0.5),\n",
       " ('orange', 1.2),\n",
       " ('apple', 1.5),\n",
       " ('kiwi', 1.8),\n",
       " ('grape', 2.0)]"
      ]
     },
     "execution_count": 78,
     "metadata": {},
     "output_type": "execute_result"
    }
   ],
   "source": [
    "sorted(fruits_prices.items(),key=lambda x : x[1])"
   ]
  },
  {
   "cell_type": "markdown",
   "id": "2633f374",
   "metadata": {},
   "source": [
    "--- \n",
    "# Questions.\n",
    "1. Write a program to create an empty dictionary and add three key-value pairs to it. Print the dictionary.\n",
    "2. Write a program to create a dictionary of fruits and their prices. Print the fruit with the lowest price.\n",
    "3. Write a program that takes user input to create a dictionary of words as keys and their corresponding lengths as values. The program should continue taking input until the user enters `\"quit\"`. Finally, print the dictionary.\n",
    "4. Write a program to check if a specific key exists in a dictionary. If it does, print its value; otherwise, print a message indicating that the key is not found.\n",
    "5. Write a program to remove a key-value pair from a dictionary based on user input. If the key is found, remove it and print the updated dictionary. If the key is not found, print a message indicating that the key is not present.\n",
    "---"
   ]
  },
  {
   "cell_type": "code",
   "execution_count": 26,
   "id": "95e9373f",
   "metadata": {},
   "outputs": [
    {
     "data": {
      "text/plain": [
       "False"
      ]
     },
     "execution_count": 26,
     "metadata": {},
     "output_type": "execute_result"
    }
   ],
   "source": [
    "a = 4\n",
    "a < 0"
   ]
  },
  {
   "cell_type": "code",
   "execution_count": 35,
   "id": "0c4e997e",
   "metadata": {},
   "outputs": [],
   "source": [
    "def hamesha_run_hone_wala_func():\n",
    "    result = {}\n",
    "    while True:\n",
    "        inp = input(\"Enter something, quit to stop the program.\")\n",
    "        if inp.lower() == 'quit':\n",
    "            break\n",
    "        if inp.lower() == \"print\":\n",
    "            print()\n",
    "            print(result)\n",
    "            print()\n",
    "        else:\n",
    "            result[inp] = len(inp)\n",
    "    return result\n"
   ]
  },
  {
   "cell_type": "code",
   "execution_count": 36,
   "id": "e7b22dd2",
   "metadata": {},
   "outputs": [
    {
     "name": "stdout",
     "output_type": "stream",
     "text": [
      "Enter something, quit to stop the program.fahdsl\n",
      "Enter something, quit to stop the program.asfidh;asd\n",
      "Enter something, quit to stop the program.asjfhd;\n",
      "Enter something, quit to stop the program.agdfslh\n",
      "Enter something, quit to stop the program.print\n",
      "\n",
      "{'fahdsl': 6, 'asfidh;asd': 10, 'asjfhd;': 7, 'agdfslh': 7}\n",
      "\n",
      "Enter something, quit to stop the program.fas\n",
      "Enter something, quit to stop the program.quit\n",
      "{'fahdsl': 6, 'asfidh;asd': 10, 'asjfhd;': 7, 'agdfslh': 7, 'fas': 3}\n"
     ]
    }
   ],
   "source": [
    "ans =hamesha_run_hone_wala_func()\n",
    "print(ans)"
   ]
  },
  {
   "cell_type": "code",
   "execution_count": 22,
   "id": "789216f5",
   "metadata": {},
   "outputs": [
    {
     "data": {
      "text/plain": [
       "'ram'"
      ]
     },
     "execution_count": 22,
     "metadata": {},
     "output_type": "execute_result"
    }
   ],
   "source": [
    "'ram'"
   ]
  },
  {
   "cell_type": "code",
   "execution_count": 24,
   "id": "8d411a8b",
   "metadata": {},
   "outputs": [
    {
     "data": {
      "text/plain": [
       "{'ram': 3}"
      ]
     },
     "execution_count": 24,
     "metadata": {},
     "output_type": "execute_result"
    }
   ],
   "source": [
    "{'ram':len('ram')}"
   ]
  },
  {
   "cell_type": "code",
   "execution_count": 12,
   "id": "2a2a1b28",
   "metadata": {},
   "outputs": [],
   "source": [
    "# 1\n",
    "fruits = {'apple':20,'banana':10,'cherry':14,'blueberry':9,'mango':9}"
   ]
  },
  {
   "cell_type": "code",
   "execution_count": 7,
   "id": "b12163f5",
   "metadata": {},
   "outputs": [],
   "source": [
    "min_price =sorted(fruits.values())[0]"
   ]
  },
  {
   "cell_type": "code",
   "execution_count": 8,
   "id": "c95f6fac",
   "metadata": {},
   "outputs": [
    {
     "data": {
      "text/plain": [
       "20"
      ]
     },
     "execution_count": 8,
     "metadata": {},
     "output_type": "execute_result"
    }
   ],
   "source": [
    "fruits['apple']"
   ]
  },
  {
   "cell_type": "code",
   "execution_count": 9,
   "id": "32246da1",
   "metadata": {},
   "outputs": [
    {
     "name": "stdout",
     "output_type": "stream",
     "text": [
      "THe cheapest fruit is blueberry\n"
     ]
    }
   ],
   "source": [
    "for i in fruits:\n",
    "    if fruits[i] == min_price:\n",
    "        print(f\"THe cheapest fruit is {i}.\")"
   ]
  },
  {
   "cell_type": "code",
   "execution_count": 10,
   "id": "a4a93443",
   "metadata": {},
   "outputs": [],
   "source": [
    "def find_cheapest_fruit(fruits_dict):\n",
    "    min_price =sorted(fruits_dict.values())[0]\n",
    "    for i in fruits_dict:\n",
    "        if fruits_dict[i] == min_price:\n",
    "            print(f\"THe cheapest fruit is {i}.\")\n",
    "    "
   ]
  },
  {
   "cell_type": "code",
   "execution_count": 13,
   "id": "a8ff6103",
   "metadata": {},
   "outputs": [
    {
     "name": "stdout",
     "output_type": "stream",
     "text": [
      "THe cheapest fruit is blueberry.\n",
      "THe cheapest fruit is mango.\n"
     ]
    }
   ],
   "source": [
    "find_cheapest_fruit(fruits)"
   ]
  },
  {
   "cell_type": "code",
   "execution_count": 21,
   "id": "f2e6414a",
   "metadata": {},
   "outputs": [
    {
     "data": {
      "text/plain": [
       "{'blueberry': 9, 'mango': 9, 'banana': 10, 'cherry': 14, 'apple': 20}"
      ]
     },
     "execution_count": 21,
     "metadata": {},
     "output_type": "execute_result"
    }
   ],
   "source": [
    "# 1\n",
    "fruits = {'apple':20,'banana':10,'cherry':14,'blueberry':9,'mango':9}\n",
    "# [i for i in (sorted(fruits.items(),key = lambda x : x[1] )) if i[1] == min(fruits.values())]\n",
    "dict(sorted(fruits.items(),key = lambda x : x[1]))"
   ]
  },
  {
   "cell_type": "code",
   "execution_count": null,
   "id": "380166f0",
   "metadata": {},
   "outputs": [],
   "source": [
    "def cheapest_fruit(fruit_dict):\n",
    "    min_price = float('inf')\n",
    "    cheapest_fruit = None\n",
    "    \n",
    "    for fruit,price in fruit_dict.items():\n",
    "        if price < min_price:\n",
    "            min_price = price\n",
    "            cheapest_fruit = fruit\n",
    "    return cheapest_fruit,min_price\n",
    "    "
   ]
  },
  {
   "cell_type": "code",
   "execution_count": null,
   "id": "9329a24b",
   "metadata": {},
   "outputs": [],
   "source": [
    "fruits_prices = {\n",
    "        'apple': 1.50,\n",
    "        'banana': 0.50,\n",
    "        'orange': 1.20,\n",
    "        'grape': 2.00,\n",
    "        'kiwi': 1.80\n",
    "    }"
   ]
  },
  {
   "cell_type": "code",
   "execution_count": null,
   "id": "959fff35",
   "metadata": {},
   "outputs": [],
   "source": [
    "print(cheapest_fruit(fruits_prices))"
   ]
  },
  {
   "cell_type": "code",
   "execution_count": null,
   "id": "b43aa78b",
   "metadata": {},
   "outputs": [],
   "source": [
    "cheapest_fruit = min(fruits_prices,key= fruits_prices.get)\n",
    "min_price = fruits_prices[cheapest_fruit]\n",
    "print(cheapest_fruit,':',min_price)"
   ]
  },
  {
   "cell_type": "code",
   "execution_count": null,
   "id": "783c1bf4",
   "metadata": {},
   "outputs": [],
   "source": [
    "# 2\n",
    "my_dict = {}\n",
    "\n",
    "# Add key-value pairs to the dictionary\n",
    "my_dict['apple'] = 1.50\n",
    "my_dict['banana'] = 0.50\n",
    "my_dict['orange'] = 1.20\n",
    "\n",
    "# Print the dictionary\n",
    "print(my_dict)"
   ]
  },
  {
   "cell_type": "code",
   "execution_count": null,
   "id": "6dbd4f45",
   "metadata": {},
   "outputs": [],
   "source": []
  },
  {
   "cell_type": "code",
   "execution_count": null,
   "id": "b99670c2",
   "metadata": {},
   "outputs": [],
   "source": [
    "# 3\n",
    "def main():\n",
    "    word_lengths = {}\n",
    "\n",
    "    while True:\n",
    "        word = input(\"Enter a word (or 'quit' to stop): \")\n",
    "        if word.lower() == 'quit':\n",
    "            break\n",
    "        word_lengths[word] = len(word)\n",
    "\n",
    "    print(\"\\nDictionary of word lengths:\")\n",
    "    print(word_lengths)"
   ]
  },
  {
   "cell_type": "code",
   "execution_count": null,
   "id": "929de611",
   "metadata": {},
   "outputs": [],
   "source": [
    "main()"
   ]
  },
  {
   "cell_type": "code",
   "execution_count": null,
   "id": "78f7c3f2",
   "metadata": {},
   "outputs": [],
   "source": [
    "a = 4\n",
    "print(f'the value of a is {a} .')"
   ]
  },
  {
   "cell_type": "code",
   "execution_count": null,
   "id": "30ba9c2d",
   "metadata": {},
   "outputs": [],
   "source": [
    "# 4\n",
    "# Write a program to check if a specific key exists in a dictionary. \n",
    "# If it does, print its value; otherwise, print a message indicating that the key is not found.\n",
    "\n",
    "def check(dictionary,key):\n",
    "    ans = dictionary.get(key,'key is not found.')\n",
    "    return f\"The value of the given key is {ans}.\"\n",
    "    "
   ]
  },
  {
   "cell_type": "code",
   "execution_count": null,
   "id": "6df6ebc8",
   "metadata": {},
   "outputs": [],
   "source": [
    "my_dict = {'key1' : 7878,'key2':'diashi;haf'}"
   ]
  },
  {
   "cell_type": "code",
   "execution_count": null,
   "id": "88c8752e",
   "metadata": {},
   "outputs": [],
   "source": [
    "check(my_dict,'key2')"
   ]
  },
  {
   "cell_type": "code",
   "execution_count": null,
   "id": "d6d71a35",
   "metadata": {},
   "outputs": [],
   "source": [
    "# 5\n",
    "# Write a program to remove a key-value pair from a dictionary based on user input.\n",
    "# If the key is found, remove it and print the updated dictionary. If the key is not found, print a message indicating that the key is not present.\n",
    "\n",
    "\n",
    "def rm(dictionary,key):\n",
    "    if key in dictionary:\n",
    "        dictionary.pop(key)\n",
    "    else:\n",
    "        return (\"KEy is not present\")\n",
    "    \n",
    "    return dictionary"
   ]
  },
  {
   "cell_type": "code",
   "execution_count": null,
   "id": "78edc439",
   "metadata": {},
   "outputs": [],
   "source": [
    "fruits_prices = {\n",
    "        'apple': 1.50,\n",
    "        'banana': 0.50,\n",
    "        'orange': 1.20,\n",
    "        'grape': 2.00,\n",
    "        'kiwi': 1.80\n",
    "    }\n"
   ]
  },
  {
   "cell_type": "code",
   "execution_count": null,
   "id": "099a9a7a",
   "metadata": {},
   "outputs": [],
   "source": [
    "rm(fruits_prices,'something')"
   ]
  },
  {
   "cell_type": "code",
   "execution_count": null,
   "id": "e2a604a0",
   "metadata": {},
   "outputs": [],
   "source": [
    "fruits_prices.pop('hjlh','key is not present')\n",
    "print(fruits_prices)"
   ]
  },
  {
   "cell_type": "code",
   "execution_count": null,
   "id": "67529d2a",
   "metadata": {},
   "outputs": [],
   "source": [
    "def rmKey(dictionary):\n",
    "    key = input(\"Enter the key to remove : \")\n",
    "    if key in dictionary:\n",
    "        dictionary.pop(key)\n",
    "    else:\n",
    "        print(\"KEY NOT FOUND\")\n",
    "    while True:\n",
    "        key1 = input(\"ENTRE THE new key\")\n",
    "        if key1.lower() == 'quit':\n",
    "            break\n",
    "        else:\n",
    "            val1 = input(\"Enter the value\")\n",
    "            dictionary[key1] = val1\n",
    "    print(dictionary)\n",
    "fruits_prices = {\n",
    "        'apple': 1.50,\n",
    "        'banana': 0.50,\n",
    "        'orange': 1.20,\n",
    "        'grape': 2.00,\n",
    "        'kiwi': 1.80\n",
    "    }"
   ]
  },
  {
   "cell_type": "code",
   "execution_count": null,
   "id": "bc270ba1",
   "metadata": {},
   "outputs": [],
   "source": [
    "rmKey(fruits_prices)"
   ]
  },
  {
   "cell_type": "code",
   "execution_count": null,
   "id": "2dfa029d",
   "metadata": {},
   "outputs": [],
   "source": []
  }
 ],
 "metadata": {
  "kernelspec": {
   "display_name": "Python 3 (ipykernel)",
   "language": "python",
   "name": "python3"
  },
  "language_info": {
   "codemirror_mode": {
    "name": "ipython",
    "version": 3
   },
   "file_extension": ".py",
   "mimetype": "text/x-python",
   "name": "python",
   "nbconvert_exporter": "python",
   "pygments_lexer": "ipython3",
   "version": "3.11.4"
  }
 },
 "nbformat": 4,
 "nbformat_minor": 5
}
