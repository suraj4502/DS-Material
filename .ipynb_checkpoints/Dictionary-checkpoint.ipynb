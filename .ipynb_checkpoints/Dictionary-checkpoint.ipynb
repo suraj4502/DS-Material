{
 "cells": [
  {
   "cell_type": "markdown",
   "id": "16c0fda9",
   "metadata": {},
   "source": [
    "# DICTIONARY ⇨\n",
    "- A dictionary is a data structure that allows you to store and retrieve data using unique keys. \n",
    "- It is denoted by curly braces `{}` and consists of key-value pairs separated by colons `:`. \n",
    "- The keys are used to identify and access the corresponding values.\n",
    "\n",
    "- general syntax to create a dictionary:\n",
    "---\n",
    "\n",
    "<span style=\"color: green;\">my_dict = {key1: value1, key2: value2, key3: value3, ...}</span>\n",
    "\n",
    "--- \n",
    "\n",
    "\n",
    "- In the simplest manner, a dictionary in Python is like a phone book. \n",
    "- Just like a phone book has names and phone numbers, a dictionary has keys and values. \n",
    "- Each key is unique and corresponds to a specific value."
   ]
  },
  {
   "cell_type": "code",
   "execution_count": 2,
   "id": "9aa3dacd",
   "metadata": {},
   "outputs": [],
   "source": [
    "shopping_list = {'bread':3,'milk':1,'apples':6}"
   ]
  },
  {
   "cell_type": "code",
   "execution_count": 3,
   "id": "f45d9666",
   "metadata": {},
   "outputs": [],
   "source": [
    "# EXAMPLE OF A DICTIONARY\n",
    "phone_book = {\"Alice\": \"123-456-7890\", \"Bob\": \"987-654-3210\", \"Charlie\": \"555-123-4567\"}"
   ]
  },
  {
   "cell_type": "markdown",
   "id": "d3a144cc",
   "metadata": {},
   "source": [
    "---\n",
    "`If you want to find Alice's phone number, you can use the key \"Alice\" to get her phone number from the dictionary.`\n",
    "\n"
   ]
  },
  {
   "cell_type": "code",
   "execution_count": 4,
   "id": "d06b714b",
   "metadata": {},
   "outputs": [
    {
     "name": "stdout",
     "output_type": "stream",
     "text": [
      "123-456-7890\n"
     ]
    }
   ],
   "source": [
    "print(phone_book[\"Alice\"])  # Output: 123-456-7890"
   ]
  },
  {
   "cell_type": "markdown",
   "id": "10e05633",
   "metadata": {},
   "source": [
    "--- \n",
    "### 1. Adding an entry: \n",
    "- You can add a new entry to a dictionary by assigning a value to a new key."
   ]
  },
  {
   "cell_type": "code",
   "execution_count": 3,
   "id": "5d58a74e",
   "metadata": {},
   "outputs": [],
   "source": [
    "phone_book[\"Eve\"] = \"111-222-3333\""
   ]
  },
  {
   "cell_type": "markdown",
   "id": "db277f8c",
   "metadata": {},
   "source": [
    "--- \n",
    "### 2. Changing a value :\n",
    "- You can change the value associated with a key."
   ]
  },
  {
   "cell_type": "code",
   "execution_count": 5,
   "id": "f5131c3f",
   "metadata": {},
   "outputs": [
    {
     "data": {
      "text/plain": [
       "{'Alice': '123-456-7890',\n",
       " 'Bob': '987-654-3210',\n",
       " 'Charlie': '555-123-4567',\n",
       " 'Eve': '111-222-3333'}"
      ]
     },
     "execution_count": 5,
     "metadata": {},
     "output_type": "execute_result"
    }
   ],
   "source": [
    "phone_book"
   ]
  },
  {
   "cell_type": "code",
   "execution_count": 6,
   "id": "2fa9545f",
   "metadata": {},
   "outputs": [],
   "source": [
    "phone_book[\"Bob\"] = \"555-555-5555\""
   ]
  },
  {
   "cell_type": "code",
   "execution_count": 7,
   "id": "6a81545d",
   "metadata": {},
   "outputs": [
    {
     "data": {
      "text/plain": [
       "{'Alice': '123-456-7890',\n",
       " 'Bob': '555-555-5555',\n",
       " 'Charlie': '555-123-4567',\n",
       " 'Eve': '111-222-3333'}"
      ]
     },
     "execution_count": 7,
     "metadata": {},
     "output_type": "execute_result"
    }
   ],
   "source": [
    "phone_book"
   ]
  },
  {
   "cell_type": "markdown",
   "id": "3f1e4055",
   "metadata": {},
   "source": [
    "--- \n",
    "### 3.Removing an entry: \n",
    "- You can remove an entry from the dictionary using the del keyword."
   ]
  },
  {
   "cell_type": "code",
   "execution_count": 8,
   "id": "d9215f91",
   "metadata": {},
   "outputs": [],
   "source": [
    "del phone_book[\"Charlie\"]"
   ]
  },
  {
   "cell_type": "code",
   "execution_count": 9,
   "id": "4d364417",
   "metadata": {},
   "outputs": [
    {
     "data": {
      "text/plain": [
       "{'Alice': '123-456-7890', 'Bob': '555-555-5555', 'Eve': '111-222-3333'}"
      ]
     },
     "execution_count": 9,
     "metadata": {},
     "output_type": "execute_result"
    }
   ],
   "source": [
    "phone_book"
   ]
  },
  {
   "cell_type": "markdown",
   "id": "85f17e58",
   "metadata": {},
   "source": [
    "--- \n",
    "### 4.Checking if a key exists: \n",
    "- You can check if a key exists in the dictionary using the in keyword."
   ]
  },
  {
   "cell_type": "code",
   "execution_count": 12,
   "id": "4c4468ae",
   "metadata": {},
   "outputs": [
    {
     "name": "stdout",
     "output_type": "stream",
     "text": [
      "Charlie is not in the phone book.\n"
     ]
    }
   ],
   "source": [
    "if \"Charlie\" in phone_book:\n",
    "    print(\"charlir's phone number:\", phone_book[\"Alice\"])\n",
    "else:\n",
    "    print(\"Charlie is not in the phone book.\")\n"
   ]
  },
  {
   "cell_type": "markdown",
   "id": "18d88d31",
   "metadata": {},
   "source": [
    "--- \n",
    "### 5. Getting the number of entries: \n",
    "- You can find out how many entries (key-value pairs) are in the dictionary using the len() function."
   ]
  },
  {
   "cell_type": "code",
   "execution_count": 13,
   "id": "40c644e3",
   "metadata": {},
   "outputs": [
    {
     "name": "stdout",
     "output_type": "stream",
     "text": [
      "Number of entries in the phone book: 3\n"
     ]
    }
   ],
   "source": [
    "print(\"Number of entries in the phone book:\", len(phone_book))"
   ]
  },
  {
   "cell_type": "markdown",
   "id": "f89c3017",
   "metadata": {},
   "source": [
    "--- \n",
    "### 6. Iterating over the dictionary: \n",
    "- You can iterate over the keys or values of a dictionary using a loop. \n",
    "- For example, let's print all the names and phone numbers in the phone book."
   ]
  },
  {
   "cell_type": "code",
   "execution_count": 14,
   "id": "0e507dae",
   "metadata": {},
   "outputs": [
    {
     "name": "stdout",
     "output_type": "stream",
     "text": [
      "Alice : 123-456-7890\n",
      "Bob : 987-654-3210\n",
      "Charlie : 555-123-4567\n"
     ]
    }
   ],
   "source": [
    "phone_book = {\"Alice\": \"123-456-7890\", \"Bob\": \"987-654-3210\", \"Charlie\": \"555-123-4567\"}\n",
    "\n",
    "for name in phone_book:\n",
    "    phone_number = phone_book[name]\n",
    "    print(name, \":\", phone_number)\n"
   ]
  },
  {
   "cell_type": "code",
   "execution_count": 29,
   "id": "d782d940",
   "metadata": {},
   "outputs": [
    {
     "name": "stdout",
     "output_type": "stream",
     "text": [
      "Bob  :  987-654-3210\n",
      "Alice  :  Unknown\n",
      "David  :  111-222-3333\n",
      "Eve  :  444-555-6666\n"
     ]
    }
   ],
   "source": [
    "for key,value in phone_book.items():\n",
    "    print(key,\" : \",value)"
   ]
  },
  {
   "cell_type": "markdown",
   "id": "dac0d887",
   "metadata": {},
   "source": [
    "## Built-in Methods :\n",
    "- `clear():` Removes all key-value pairs from the dictionary. \n",
    "<br>\n",
    "\n",
    "- `copy():`Creates a shallow copy of the dictionary.\n",
    "<br>\n",
    "\n",
    "- `fromkeys(keys, value):` Creates a new dictionary with the specified keys and a common value.\n",
    "<br>\n",
    "\n",
    "- `get(key, default):` Retrieves the value associated with the key. Returns the default value if the key is not found.\n",
    "<br> \n",
    "- `items():` Returns a list of tuples containing key-value pairs.\n",
    "<br>\n",
    "\n",
    "- `keys():` Returns a list of all the keys in the dictionary.\n",
    "<br>\n",
    "\n",
    "- `pop(key, default):` Removes the key-value pair from the dictionary and returns the value. Returns the default value if the key is not found.\n",
    "<br>\n",
    "\n",
    "- `popitem():` Removes and returns an arbitrary key-value pair from the dictionary.\n",
    "<br>\n",
    "\n",
    "- `setdefault(key, default):` Retrieves the value associated with the key. If the key is not found, inserts the key with the default value.\n",
    "<br>\n",
    "\n",
    "- `update(dict2):` Updates the dictionary with the key-value pairs from another dictionary.\n",
    "<br>\n",
    "\n",
    "- `values():` Returns a list of all the values in the dictionary.\n",
    "<br>"
   ]
  },
  {
   "cell_type": "code",
   "execution_count": null,
   "id": "693693b9",
   "metadata": {},
   "outputs": [],
   "source": [
    "# clear(): Removes all key-value pairs from the dictionary.\n",
    "phone_book.clear()\n",
    "print(phone_book)  # Output: {}\n"
   ]
  },
  {
   "cell_type": "code",
   "execution_count": 22,
   "id": "48e1c31d",
   "metadata": {},
   "outputs": [
    {
     "name": "stdout",
     "output_type": "stream",
     "text": [
      "{'Bob': '987-654-3210', 'Charlie': '555-123-4567'}\n"
     ]
    }
   ],
   "source": [
    "# copy():Creates a shallow copy of the dictionary.\n",
    "phone_book_copy = phone_book.copy()\n",
    "print(phone_book_copy)  # Output: {\"Alice\": \"123-456-7890\", \"Bob\": \"987-654-3210\", \"Charlie\": \"555-123-4567\"}\n"
   ]
  },
  {
   "cell_type": "code",
   "execution_count": 16,
   "id": "5845a065",
   "metadata": {},
   "outputs": [
    {
     "name": "stdout",
     "output_type": "stream",
     "text": [
      "{'Alice': 'No number', 'Bob': 'No number', 'Charlie': 'No number'}\n"
     ]
    }
   ],
   "source": [
    "# fromkeys(keys, value): Creates a new dictionary with the specified keys and a common value.\n",
    "\n",
    "keys = [\"Alice\", \"Bob\", \"Charlie\"]\n",
    "default_value = \"No number\"\n",
    "\n",
    "new_phone_book = dict.fromkeys(keys, default_value)\n",
    "print(new_phone_book)  # Output: {\"Alice\": \"No number\", \"Bob\": \"No number\", \"Charlie\": \"No number\"}\n"
   ]
  },
  {
   "cell_type": "code",
   "execution_count": 17,
   "id": "38886364",
   "metadata": {},
   "outputs": [
    {
     "name": "stdout",
     "output_type": "stream",
     "text": [
      "123-456-7890\n",
      "Unknown\n"
     ]
    }
   ],
   "source": [
    "# get(key, default): Retrieves the value associated with the key. Returns the default value if the key is not found.\n",
    "\n",
    "phone_number = phone_book.get(\"Alice\", \"Unknown\")\n",
    "print(phone_number)  # Output: 123-456-7890\n",
    "\n",
    "phone_number = phone_book.get(\"David\", \"Unknown\")\n",
    "print(phone_number)  # Output: Unknown\n"
   ]
  },
  {
   "cell_type": "code",
   "execution_count": 18,
   "id": "959b0322",
   "metadata": {},
   "outputs": [
    {
     "name": "stdout",
     "output_type": "stream",
     "text": [
      "dict_items([('Alice', '123-456-7890'), ('Bob', '987-654-3210'), ('Charlie', '555-123-4567')])\n"
     ]
    }
   ],
   "source": [
    "# items(): Returns a list of tuples containing key-value pairs.\n",
    "items = phone_book.items()\n",
    "print(items)  # Output: dict_items([('Alice', '123-456-7890'), ('Bob', '987-654-3210'), ('Charlie', '555-123-4567')])\n"
   ]
  },
  {
   "cell_type": "code",
   "execution_count": 19,
   "id": "288b9310",
   "metadata": {},
   "outputs": [
    {
     "name": "stdout",
     "output_type": "stream",
     "text": [
      "dict_keys(['Alice', 'Bob', 'Charlie'])\n"
     ]
    }
   ],
   "source": [
    "# keys(): Returns a list of all the keys in the dictionary.\n",
    "keys = phone_book.keys()\n",
    "print(keys)  # Output: dict_keys(['Alice', 'Bob', 'Charlie'])\n"
   ]
  },
  {
   "cell_type": "code",
   "execution_count": 23,
   "id": "b9ae21ff",
   "metadata": {},
   "outputs": [
    {
     "ename": "KeyError",
     "evalue": "'Alice'",
     "output_type": "error",
     "traceback": [
      "\u001b[1;31m---------------------------------------------------------------------------\u001b[0m",
      "\u001b[1;31mKeyError\u001b[0m                                  Traceback (most recent call last)",
      "Cell \u001b[1;32mIn[23], line 4\u001b[0m\n\u001b[0;32m      1\u001b[0m \u001b[38;5;66;03m# pop(key, default): Removes the key-value pair from the dictionary and returns the value.\u001b[39;00m\n\u001b[0;32m      2\u001b[0m \u001b[38;5;66;03m# Returns the default value if the key is not found.\u001b[39;00m\n\u001b[1;32m----> 4\u001b[0m phone_number \u001b[38;5;241m=\u001b[39m \u001b[43mphone_book\u001b[49m\u001b[38;5;241;43m.\u001b[39;49m\u001b[43mpop\u001b[49m\u001b[43m(\u001b[49m\u001b[38;5;124;43m\"\u001b[39;49m\u001b[38;5;124;43mAlice\u001b[39;49m\u001b[38;5;124;43m\"\u001b[39;49m\u001b[43m)\u001b[49m\n\u001b[0;32m      5\u001b[0m \u001b[38;5;28mprint\u001b[39m(phone_number)  \u001b[38;5;66;03m# Output: 123-456-7890\u001b[39;00m\n\u001b[0;32m      6\u001b[0m \u001b[38;5;28mprint\u001b[39m(phone_book)  \u001b[38;5;66;03m# Output: {\"Bob\": \"987-654-3210\", \"Charlie\": \"555-123-4567\"}\u001b[39;00m\n",
      "\u001b[1;31mKeyError\u001b[0m: 'Alice'"
     ]
    }
   ],
   "source": [
    "# pop(key, default): Removes the key-value pair from the dictionary and returns the value.\n",
    "# Returns the default value if the key is not found.\n",
    "\n",
    "phone_number = phone_book.pop(\"Alice\")\n",
    "print(phone_number)  # Output: 123-456-7890\n",
    "print(phone_book)  # Output: {\"Bob\": \"987-654-3210\", \"Charlie\": \"555-123-4567\"}\n",
    "\n",
    "phone_number = phone_book.pop(\"David\", \"Not found\")\n",
    "print(phone_number)  # Output: Not found\n"
   ]
  },
  {
   "cell_type": "code",
   "execution_count": 24,
   "id": "2cf7816d",
   "metadata": {},
   "outputs": [
    {
     "name": "stdout",
     "output_type": "stream",
     "text": [
      "Charlie : 555-123-4567\n",
      "{'Bob': '987-654-3210'}\n"
     ]
    }
   ],
   "source": [
    "# popitem(): Removes and returns an arbitrary key-value pair from the dictionary.\n",
    "key, value = phone_book.popitem()\n",
    "print(key, \":\", value)  # Output: Charlie : 555-123-4567\n",
    "print(phone_book)  # Output: {\"Alice\": \"123-456-7890\", \"Bob\": \"987-654-3210\"}\n"
   ]
  },
  {
   "cell_type": "code",
   "execution_count": 25,
   "id": "e2c92fc0",
   "metadata": {},
   "outputs": [
    {
     "name": "stdout",
     "output_type": "stream",
     "text": [
      "Unknown\n",
      "Unknown\n",
      "{'Bob': '987-654-3210', 'Alice': 'Unknown', 'David': 'Unknown'}\n"
     ]
    }
   ],
   "source": [
    "# setdefault(key, default): Retrieves the value associated with the key.\n",
    "# If the key is not found, inserts the key with the default value.\n",
    "\n",
    "phone_number = phone_book.setdefault(\"Alice\", \"Unknown\")\n",
    "print(phone_number)  # Output: 123-456-7890\n",
    "\n",
    "phone_number = phone_book.setdefault(\"David\", \"Unknown\")\n",
    "print(phone_number)  # Output: Unknown\n",
    "print(phone_book)  # Output: {\"Alice\": \"123-456-7890\", \"Bob\": \"987-654-3210\", \"David\": \"Unknown\"}\n"
   ]
  },
  {
   "cell_type": "code",
   "execution_count": 26,
   "id": "c7d0f735",
   "metadata": {},
   "outputs": [
    {
     "name": "stdout",
     "output_type": "stream",
     "text": [
      "{'Bob': '987-654-3210', 'Alice': 'Unknown', 'David': '111-222-3333', 'Eve': '444-555-6666'}\n"
     ]
    }
   ],
   "source": [
    "# update(dict2): Updates the dictionary with the key-value pairs from another dictionary.\n",
    "\n",
    "new_entries = {\"David\": \"111-222-3333\", \"Eve\": \"444-555-6666\"}\n",
    "phone_book.update(new_entries)\n",
    "print(phone_book)  # Output: {\"Alice\": \"123-456-7890\", \"Bob\": \"987-654-3210\", \"David\": \"111-222-3333\", \"Eve\": \"444-555-6666\"}\n"
   ]
  },
  {
   "cell_type": "code",
   "execution_count": 27,
   "id": "6886ea32",
   "metadata": {},
   "outputs": [
    {
     "name": "stdout",
     "output_type": "stream",
     "text": [
      "dict_values(['987-654-3210', 'Unknown', '111-222-3333', '444-555-6666'])\n"
     ]
    }
   ],
   "source": [
    "# values(): Returns a list of all the values in the dictionary. \n",
    "values = phone_book.values()\n",
    "print(values)  # Output: dict_values(['123-456-7890', '987-654-3210', '111-222-3333', '444-555-6666'])\n"
   ]
  },
  {
   "cell_type": "markdown",
   "id": "2633f374",
   "metadata": {},
   "source": [
    "--- \n",
    "# Questions.\n",
    "1. Write a program to create a dictionary of fruits and their prices. Print the fruit with the lowest price.\n",
    "2. Write a program to create an empty dictionary and add three key-value pairs to it. Print the dictionary.\n",
    "3. Write a program that takes user input to create a dictionary of words as keys and their corresponding lengths as values. The program should continue taking input until the user enters `\"quit\"`. Finally, print the dictionary.\n",
    "4. Write a program to check if a specific key exists in a dictionary. If it does, print its value; otherwise, print a message indicating that the key is not found.\n",
    "5. Write a program to remove a key-value pair from a dictionary based on user input. If the key is found, remove it and print the updated dictionary. If the key is not found, print a message indicating that the key is not present.\n",
    "---"
   ]
  },
  {
   "cell_type": "code",
   "execution_count": 51,
   "id": "2a2a1b28",
   "metadata": {},
   "outputs": [],
   "source": [
    "# 1\n",
    "fruits = {'apple':20,'banana':10,'cherry':14}"
   ]
  },
  {
   "cell_type": "code",
   "execution_count": 52,
   "id": "b913683a",
   "metadata": {},
   "outputs": [],
   "source": [
    "sorted_fruits = sorted(fruits,key= lambda x : fruits[x])"
   ]
  },
  {
   "cell_type": "code",
   "execution_count": 53,
   "id": "b96885df",
   "metadata": {},
   "outputs": [
    {
     "data": {
      "text/plain": [
       "['banana', 'cherry', 'apple']"
      ]
     },
     "execution_count": 53,
     "metadata": {},
     "output_type": "execute_result"
    }
   ],
   "source": [
    "sorted_fruits"
   ]
  },
  {
   "cell_type": "code",
   "execution_count": 54,
   "id": "b026cf1f",
   "metadata": {},
   "outputs": [
    {
     "data": {
      "text/plain": [
       "10"
      ]
     },
     "execution_count": 54,
     "metadata": {},
     "output_type": "execute_result"
    }
   ],
   "source": [
    "fruits['banana']"
   ]
  },
  {
   "cell_type": "code",
   "execution_count": 55,
   "id": "1dcf34f0",
   "metadata": {
    "scrolled": true
   },
   "outputs": [
    {
     "name": "stdout",
     "output_type": "stream",
     "text": [
      "banana  :  10\n",
      "cherry  :  14\n",
      "apple  :  20\n"
     ]
    }
   ],
   "source": [
    "for i in sorted_fruits:\n",
    "    print(i, ' : ' ,fruits[i])"
   ]
  },
  {
   "cell_type": "code",
   "execution_count": 1,
   "id": "9329a24b",
   "metadata": {},
   "outputs": [],
   "source": [
    "fruits_prices = {\n",
    "        'apple': 1.50,\n",
    "        'banana': 0.50,\n",
    "        'orange': 1.20,\n",
    "        'grape': 2.00,\n",
    "        'kiwi': 1.80\n",
    "    }"
   ]
  },
  {
   "cell_type": "code",
   "execution_count": 11,
   "id": "380166f0",
   "metadata": {},
   "outputs": [],
   "source": [
    "def cheapest_fruit(fruits_prices):\n",
    "    min_price = float('inf')\n",
    "    cheapest_fruit = None\n",
    "    for fruit,price in fruits_prices.items():\n",
    "        if price < min_price:\n",
    "            min_price = price\n",
    "            cheapest_fruit = fruit\n",
    "    return cheapest_fruit,min_price\n",
    "    "
   ]
  },
  {
   "cell_type": "code",
   "execution_count": 12,
   "id": "959fff35",
   "metadata": {},
   "outputs": [
    {
     "name": "stdout",
     "output_type": "stream",
     "text": [
      "('banana', 0.5)\n"
     ]
    }
   ],
   "source": [
    "print(cheapest_fruit(fruits_prices))"
   ]
  },
  {
   "cell_type": "code",
   "execution_count": 9,
   "id": "b43aa78b",
   "metadata": {},
   "outputs": [
    {
     "name": "stdout",
     "output_type": "stream",
     "text": [
      "banana : 0.5\n"
     ]
    }
   ],
   "source": [
    "cheapest_fruit = min(fruits_prices,key= fruits_prices.get)\n",
    "min_price = fruits_prices[cheapest_fruit]\n",
    "print(cheapest_fruit,':',min_price)"
   ]
  },
  {
   "cell_type": "code",
   "execution_count": 13,
   "id": "783c1bf4",
   "metadata": {},
   "outputs": [
    {
     "name": "stdout",
     "output_type": "stream",
     "text": [
      "{'apple': 1.5, 'banana': 0.5, 'orange': 1.2}\n"
     ]
    }
   ],
   "source": [
    "# 2\n",
    "my_dict = {}\n",
    "\n",
    "# Add key-value pairs to the dictionary\n",
    "my_dict['apple'] = 1.50\n",
    "my_dict['banana'] = 0.50\n",
    "my_dict['orange'] = 1.20\n",
    "\n",
    "# Print the dictionary\n",
    "print(my_dict)"
   ]
  },
  {
   "cell_type": "code",
   "execution_count": 20,
   "id": "b99670c2",
   "metadata": {},
   "outputs": [],
   "source": [
    "# 3\n",
    "def main():\n",
    "    word_lengths = {}\n",
    "\n",
    "    while True:\n",
    "        word = input(\"Enter a word (or 'quit' to stop): \")\n",
    "        if word.lower() == 'quit':\n",
    "            break\n",
    "        word_lengths[word] = len(word)\n",
    "\n",
    "    print(\"\\nDictionary of word lengths:\")\n",
    "    print(word_lengths)"
   ]
  },
  {
   "cell_type": "code",
   "execution_count": 27,
   "id": "30ba9c2d",
   "metadata": {},
   "outputs": [],
   "source": [
    "# 4\n",
    "# Write a program to check if a specific key exists in a dictionary. \n",
    "# If it does, print its value; otherwise, print a message indicating that the key is not found.\n",
    "\n",
    "def check(dictionary,key):\n",
    "    ans = dictionary.get(key,'key is not found.')\n",
    "    return f\"The value of the given key is {ans}.\"\n",
    "    "
   ]
  },
  {
   "cell_type": "code",
   "execution_count": 29,
   "id": "27589ebc",
   "metadata": {},
   "outputs": [
    {
     "name": "stdout",
     "output_type": "stream",
     "text": [
      "The value of the given key is key is not found..\n"
     ]
    }
   ],
   "source": [
    "fruits_prices = {\n",
    "        'apple': 1.50,\n",
    "        'banana': 0.50,\n",
    "        'orange': 1.20,\n",
    "        'grape': 2.00,\n",
    "        'kiwi': 1.80\n",
    "    }\n",
    "print(check(fruits_prices,'oranges'))"
   ]
  },
  {
   "cell_type": "code",
   "execution_count": 33,
   "id": "d6d71a35",
   "metadata": {},
   "outputs": [],
   "source": [
    "# 5\n",
    "# Write a program to remove a key-value pair from a dictionary based on user input.\n",
    "# If the key is found, remove it and print the updated dictionary. If the key is not found, print a message indicating that the key is not present.\n",
    "\n",
    "\n",
    "def rmKey(dictionary):\n",
    "    key = input(\"Enter the key to remove : \")\n",
    "    if key in dictionary:\n",
    "        ans = dictionary.pop(key,\"Key not found\")\n",
    "        print(dictionary)\n",
    "    else:\n",
    "        print(\"key not found\")"
   ]
  },
  {
   "cell_type": "code",
   "execution_count": 35,
   "id": "67529d2a",
   "metadata": {},
   "outputs": [],
   "source": [
    "fruits_prices = {\n",
    "        'apple': 1.50,\n",
    "        'banana': 0.50,\n",
    "        'orange': 1.20,\n",
    "        'grape': 2.00,\n",
    "        'kiwi': 1.80\n",
    "    }"
   ]
  },
  {
   "cell_type": "code",
   "execution_count": 36,
   "id": "bc270ba1",
   "metadata": {},
   "outputs": [
    {
     "name": "stdout",
     "output_type": "stream",
     "text": [
      "Enter the key to remove : orange\n",
      "{'apple': 1.5, 'banana': 0.5, 'grape': 2.0, 'kiwi': 1.8}\n"
     ]
    }
   ],
   "source": [
    "rmKey(fruits_prices)"
   ]
  },
  {
   "cell_type": "code",
   "execution_count": null,
   "id": "2dfa029d",
   "metadata": {},
   "outputs": [],
   "source": []
  }
 ],
 "metadata": {
  "kernelspec": {
   "display_name": "Python 3 (ipykernel)",
   "language": "python",
   "name": "python3"
  },
  "language_info": {
   "codemirror_mode": {
    "name": "ipython",
    "version": 3
   },
   "file_extension": ".py",
   "mimetype": "text/x-python",
   "name": "python",
   "nbconvert_exporter": "python",
   "pygments_lexer": "ipython3",
   "version": "3.9.16"
  }
 },
 "nbformat": 4,
 "nbformat_minor": 5
}
