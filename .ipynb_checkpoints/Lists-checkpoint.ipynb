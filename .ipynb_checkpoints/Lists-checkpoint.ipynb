{
 "cells": [
  {
   "cell_type": "markdown",
   "id": "814ef4fe",
   "metadata": {},
   "source": [
    "# Lists :\n",
    "- **A list is a data structure that allows you to store and organize multiple items in a single variable.** \n",
    "- **It's like having a collection of items, such as a shopping list or a list of your favorite books.**"
   ]
  },
  {
   "cell_type": "markdown",
   "id": "c20e8662",
   "metadata": {},
   "source": [
    "---\n",
    "### Creating a List:\n",
    "\n",
    "- You can create a list by enclosing items in square brackets [ ] and separating them with commas.\n",
    "- Each item in the list can be of any data type: numbers, strings, or even other lists."
   ]
  },
  {
   "cell_type": "code",
   "execution_count": null,
   "id": "855ac34a",
   "metadata": {},
   "outputs": [],
   "source": [
    "numbers_list = [1,2,34,56,88]"
   ]
  },
  {
   "cell_type": "code",
   "execution_count": null,
   "id": "8e0b3d2d",
   "metadata": {},
   "outputs": [],
   "source": [
    "shopping_list = [\"apples\" ,\"bananas\", \"milk\", \"bread\"]"
   ]
  },
  {
   "cell_type": "code",
   "execution_count": null,
   "id": "ecdfebfa",
   "metadata": {},
   "outputs": [],
   "source": [
    "shopping_list"
   ]
  },
  {
   "cell_type": "markdown",
   "id": "21347bf6",
   "metadata": {},
   "source": [
    "---\n",
    "### Accessing List Items:\n",
    "\n",
    "- You can access individual items in a list using indexing, similar to accessing characters in a string.\n",
    "- The index starts from 0 for the first item in the list."
   ]
  },
  {
   "cell_type": "code",
   "execution_count": null,
   "id": "7bc1a556",
   "metadata": {},
   "outputs": [],
   "source": [
    "shopping_list = [\"apples\", \"bananas\", \"milk\", \"bread\",[1,2,3,4],(2,3,4,5,6),{2,5,9},{'key10':'val1'}]\n",
    "# print(shopping_list[2][2])\n",
    "shopping_list[1][2]"
   ]
  },
  {
   "cell_type": "code",
   "execution_count": null,
   "id": "8bc38153",
   "metadata": {},
   "outputs": [],
   "source": [
    "shopping_list[0:4]\n",
    "shopping_list[4:]"
   ]
  },
  {
   "cell_type": "markdown",
   "id": "8f9e7c5a",
   "metadata": {},
   "source": [
    "---\n",
    "### Modifying List Items:\n",
    "\n",
    "- Lists are mutable, which means you can change the values of individual items in the list."
   ]
  },
  {
   "cell_type": "code",
   "execution_count": null,
   "id": "5a5813d0",
   "metadata": {},
   "outputs": [],
   "source": [
    "shopping_list = [\"apples\", \"bananas\", \"milk\", \"bread\"]\n",
    "shopping_list[1] = \"oranges\"\n",
    "print(shopping_list) "
   ]
  },
  {
   "cell_type": "markdown",
   "id": "e78e48a9",
   "metadata": {},
   "source": [
    "---\n",
    "### List Length:\n",
    "\n",
    "You can find the number of items in a list using the len() function."
   ]
  },
  {
   "cell_type": "code",
   "execution_count": 1,
   "id": "24a2bf5d",
   "metadata": {},
   "outputs": [
    {
     "name": "stdout",
     "output_type": "stream",
     "text": [
      "5\n"
     ]
    }
   ],
   "source": [
    "shopping_list = [\"apples\", \"bananas\", \"milk\", \"bread\",\"milk\"]\n",
    "\n",
    "print(len(shopping_list))\n"
   ]
  },
  {
   "cell_type": "code",
   "execution_count": 2,
   "id": "a8375aba",
   "metadata": {},
   "outputs": [
    {
     "data": {
      "text/plain": [
       "['apples', 'bananas', 'milk', 'bread', 'milk']"
      ]
     },
     "execution_count": 2,
     "metadata": {},
     "output_type": "execute_result"
    }
   ],
   "source": [
    "shopping_list"
   ]
  },
  {
   "cell_type": "code",
   "execution_count": 5,
   "id": "ac1636d2",
   "metadata": {},
   "outputs": [],
   "source": [
    "shopping_list.append('oats')"
   ]
  },
  {
   "cell_type": "code",
   "execution_count": 6,
   "id": "275e44ba",
   "metadata": {},
   "outputs": [
    {
     "data": {
      "text/plain": [
       "['apples', 'bananas', 'milk', 'bread', 'milk', 6, 'oats']"
      ]
     },
     "execution_count": 6,
     "metadata": {},
     "output_type": "execute_result"
    }
   ],
   "source": [
    "shopping_list"
   ]
  },
  {
   "cell_type": "code",
   "execution_count": 7,
   "id": "663d7d10",
   "metadata": {},
   "outputs": [],
   "source": [
    "shopping_list.insert(1,\"cake\")"
   ]
  },
  {
   "cell_type": "code",
   "execution_count": 8,
   "id": "587d0f9e",
   "metadata": {},
   "outputs": [
    {
     "data": {
      "text/plain": [
       "['apples', 'cake', 'bananas', 'milk', 'bread', 'milk', 6, 'oats']"
      ]
     },
     "execution_count": 8,
     "metadata": {},
     "output_type": "execute_result"
    }
   ],
   "source": [
    "shopping_list"
   ]
  },
  {
   "cell_type": "code",
   "execution_count": 9,
   "id": "d7d0efd3",
   "metadata": {},
   "outputs": [],
   "source": [
    "shopping_list.remove('milk')"
   ]
  },
  {
   "cell_type": "code",
   "execution_count": 10,
   "id": "797ec6a5",
   "metadata": {},
   "outputs": [
    {
     "data": {
      "text/plain": [
       "['apples', 'cake', 'bananas', 'bread', 'milk', 6, 'oats']"
      ]
     },
     "execution_count": 10,
     "metadata": {},
     "output_type": "execute_result"
    }
   ],
   "source": [
    "shopping_list"
   ]
  },
  {
   "cell_type": "code",
   "execution_count": 11,
   "id": "9ae49d68",
   "metadata": {},
   "outputs": [
    {
     "data": {
      "text/plain": [
       "['apples', 'cake', 'bread', 'milk', 6, 'oats']"
      ]
     },
     "execution_count": 11,
     "metadata": {},
     "output_type": "execute_result"
    }
   ],
   "source": [
    "shopping_list.pop(2)\n",
    "shopping_list"
   ]
  },
  {
   "cell_type": "code",
   "execution_count": 12,
   "id": "8e753853",
   "metadata": {},
   "outputs": [],
   "source": [
    "shopping_list = ['banana','cherry','mango','apples','milk']\n",
    "shopping_list.sort()"
   ]
  },
  {
   "cell_type": "code",
   "execution_count": 13,
   "id": "11ab44f5",
   "metadata": {},
   "outputs": [
    {
     "data": {
      "text/plain": [
       "['apples', 'banana', 'cherry', 'mango', 'milk']"
      ]
     },
     "execution_count": 13,
     "metadata": {},
     "output_type": "execute_result"
    }
   ],
   "source": [
    "shopping_list"
   ]
  },
  {
   "cell_type": "code",
   "execution_count": 14,
   "id": "450efebb",
   "metadata": {},
   "outputs": [],
   "source": [
    "shopping_list.sort(reverse= True)"
   ]
  },
  {
   "cell_type": "code",
   "execution_count": 15,
   "id": "41ebfc37",
   "metadata": {},
   "outputs": [
    {
     "data": {
      "text/plain": [
       "['milk', 'mango', 'cherry', 'banana', 'apples']"
      ]
     },
     "execution_count": 15,
     "metadata": {},
     "output_type": "execute_result"
    }
   ],
   "source": [
    "shopping_list"
   ]
  },
  {
   "cell_type": "code",
   "execution_count": 19,
   "id": "1bd3bcc9",
   "metadata": {},
   "outputs": [
    {
     "data": {
      "text/plain": [
       "[76, 65, 121, 99, 88, 66, 55, 44]"
      ]
     },
     "execution_count": 19,
     "metadata": {},
     "output_type": "execute_result"
    }
   ],
   "source": [
    "my_list = [44,55,66,88,99,121,65,76]\n",
    "# my_list.sort(reverse= True)\n",
    "my_list.reverse()\n",
    "my_list"
   ]
  },
  {
   "cell_type": "markdown",
   "id": "4253a826",
   "metadata": {},
   "source": [
    "---\n",
    "### List Methods:\n",
    "\n",
    "- Python provides built-in methods to perform various operations on lists. <br>\n",
    "\n",
    "- Some common list methods include:\n",
    "    - `append():` Adds an item to the end of the list.\n",
    "    - `insert():` Inserts an item at a specific position in the list.\n",
    "    - `remove():` Removes the first occurrence of an item from the list.\n",
    "    - `pop():` Removes and returns the item at a specific position in the list.\n",
    "    - `sort():` Sorts the items in the list in ascending order.\n",
    "    - `reverse():` Reverses the order of the items in the list."
   ]
  },
  {
   "cell_type": "code",
   "execution_count": null,
   "id": "77d2495f",
   "metadata": {},
   "outputs": [],
   "source": [
    "shopping_list = [\"apples\", \"bananas\", \"milk\", \"bread\"]\n",
    "shopping_list.append(\"eggs\")\n",
    "shopping_list.insert(1, \"juice\")\n",
    "shopping_list.remove(\"milk\")\n",
    "print(shopping_list)  # Output: [\"apples\", \"juice\", \"bananas\", \"bread\", \"eggs\"]\n"
   ]
  },
  {
   "cell_type": "markdown",
   "id": "31f0b2e1",
   "metadata": {},
   "source": [
    "---\n",
    "### List Slicing:\n",
    "\n",
    "- You can extract a portion of a list using slicing, similar to slicing strings.\n",
    "- Slicing allows you to specify a range of indices to extract multiple items from the list."
   ]
  },
  {
   "cell_type": "code",
   "execution_count": null,
   "id": "6164bab7",
   "metadata": {},
   "outputs": [],
   "source": [
    "shopping_list = [\"apples\", \"bananas\", \"milk\", \"bread\"]\n",
    "sublist = shopping_list[1:3]\n",
    "print(sublist)  # Output: [\"bananas\", \"milk\"]\n"
   ]
  },
  {
   "cell_type": "code",
   "execution_count": null,
   "id": "011c1de5",
   "metadata": {},
   "outputs": [],
   "source": [
    "shopping_list[:3]"
   ]
  },
  {
   "cell_type": "markdown",
   "id": "04fafaa1",
   "metadata": {},
   "source": [
    "---\n",
    "### List Concatenation:\n",
    "\n",
    "- You can concatenate (join) two or more lists together using the + operator."
   ]
  },
  {
   "cell_type": "code",
   "execution_count": 1,
   "id": "be8f78a5",
   "metadata": {},
   "outputs": [
    {
     "name": "stdout",
     "output_type": "stream",
     "text": [
      "[1, 2, 3, 4, 5, 6]\n"
     ]
    }
   ],
   "source": [
    "list1 = [1, 2, 3]\n",
    "list2 = [4, 5, 6]\n",
    "result = list1 + list2\n",
    "print(result)  \n"
   ]
  },
  {
   "cell_type": "markdown",
   "id": "c01852fe",
   "metadata": {},
   "source": [
    "---\n",
    "### List Repetition:\n",
    "\n",
    "- You can repeat a list multiple times using the * operator."
   ]
  },
  {
   "cell_type": "code",
   "execution_count": 2,
   "id": "182ee4b7",
   "metadata": {},
   "outputs": [
    {
     "name": "stdout",
     "output_type": "stream",
     "text": [
      "[1, 2, 3, 1, 2, 3, 1, 2, 3]\n"
     ]
    }
   ],
   "source": [
    "my_list = [1, 2, 3]\n",
    "list2 = [1,2]\n",
    "repeated_list = my_list * 3\n",
    "print(repeated_list)  # Output: [1, 2, 3, 1, 2, 3, 1, 2, 3]\n"
   ]
  },
  {
   "cell_type": "markdown",
   "id": "3a49bcda",
   "metadata": {},
   "source": [
    "---\n",
    "### List Deletion:\n",
    "\n",
    "- You can delete an item or a range of items from a list using the del statement or the remove() method."
   ]
  },
  {
   "cell_type": "code",
   "execution_count": 3,
   "id": "d9d8299e",
   "metadata": {},
   "outputs": [
    {
     "name": "stdout",
     "output_type": "stream",
     "text": [
      "[1, 2, 4, 5]\n",
      "[1, 2, 5]\n"
     ]
    }
   ],
   "source": [
    "my_list = [1, 2, 3, 4, 5]\n",
    "del my_list[2]  # Delete item at index 2 (value 3)\n",
    "print(my_list)  # Output: [1, 2, 4, 5]\n",
    "\n",
    "my_list.remove(4)  # Remove the first occurrence of the value 4\n",
    "print(my_list)  # Output: [1, 2, 5]\n"
   ]
  },
  {
   "cell_type": "markdown",
   "id": "358ab41f",
   "metadata": {},
   "source": [
    "---\n",
    "### List Sorting:\n",
    "\n",
    "- You can sort the items in a list using the sort() method. By default, it sorts the list in ascending order."
   ]
  },
  {
   "cell_type": "code",
   "execution_count": 5,
   "id": "66f0511f",
   "metadata": {},
   "outputs": [
    {
     "data": {
      "text/plain": [
       "[4, 2, 1, 3, 5]"
      ]
     },
     "execution_count": 5,
     "metadata": {},
     "output_type": "execute_result"
    }
   ],
   "source": [
    "my_list = [4, 2, 1, 3, 5]\n",
    "# my_list.sort()\n",
    "my_list\n"
   ]
  },
  {
   "cell_type": "code",
   "execution_count": null,
   "id": "1a75631b",
   "metadata": {},
   "outputs": [],
   "source": [
    "my_list"
   ]
  },
  {
   "cell_type": "code",
   "execution_count": 6,
   "id": "50396982",
   "metadata": {},
   "outputs": [
    {
     "data": {
      "text/plain": [
       "[5, 4, 3, 2, 1]"
      ]
     },
     "execution_count": 6,
     "metadata": {},
     "output_type": "execute_result"
    }
   ],
   "source": [
    "r1 = sorted(my_list,reverse=True)\n",
    "r1"
   ]
  },
  {
   "cell_type": "code",
   "execution_count": 7,
   "id": "35894070",
   "metadata": {},
   "outputs": [
    {
     "data": {
      "text/plain": [
       "[33, 55, 77, 642]"
      ]
     },
     "execution_count": 7,
     "metadata": {},
     "output_type": "execute_result"
    }
   ],
   "source": [
    "sorted([33,55,642,77])"
   ]
  },
  {
   "cell_type": "markdown",
   "id": "d5ce8909",
   "metadata": {},
   "source": [
    "--- \n",
    "### List Count and Index:\n",
    "\n",
    "- You can count the number of occurrences of an item in a list using the count() method.\n",
    "- You can find the index of the first occurrence of an item in a list using the index() method."
   ]
  },
  {
   "cell_type": "code",
   "execution_count": 8,
   "id": "185d789d",
   "metadata": {},
   "outputs": [
    {
     "name": "stdout",
     "output_type": "stream",
     "text": [
      "3\n",
      "5\n"
     ]
    }
   ],
   "source": [
    "my_list = [1, 2, 2, 3, 2, 4,4]\n",
    "count = my_list.count(2)\n",
    "print(count)  # Output: 3\n",
    "\n",
    "index = my_list.index(4)\n",
    "print(index) \n"
   ]
  },
  {
   "cell_type": "code",
   "execution_count": 9,
   "id": "45ca9029",
   "metadata": {},
   "outputs": [
    {
     "ename": "NameError",
     "evalue": "name 'shopping_list' is not defined",
     "output_type": "error",
     "traceback": [
      "\u001b[1;31m---------------------------------------------------------------------------\u001b[0m",
      "\u001b[1;31mNameError\u001b[0m                                 Traceback (most recent call last)",
      "Cell \u001b[1;32mIn[9], line 1\u001b[0m\n\u001b[1;32m----> 1\u001b[0m \u001b[43mshopping_list\u001b[49m\u001b[38;5;241m.\u001b[39mappend(\u001b[38;5;124m'\u001b[39m\u001b[38;5;124mmilk\u001b[39m\u001b[38;5;124m'\u001b[39m)\n",
      "\u001b[1;31mNameError\u001b[0m: name 'shopping_list' is not defined"
     ]
    }
   ],
   "source": [
    "shopping_list.append('milk')"
   ]
  },
  {
   "cell_type": "code",
   "execution_count": null,
   "id": "0d01a27f",
   "metadata": {},
   "outputs": [],
   "source": [
    "shopping_list"
   ]
  },
  {
   "cell_type": "code",
   "execution_count": null,
   "id": "593d545f",
   "metadata": {},
   "outputs": [],
   "source": [
    "shopping_list.index('milk')"
   ]
  },
  {
   "cell_type": "code",
   "execution_count": null,
   "id": "c65fcb03",
   "metadata": {},
   "outputs": [],
   "source": [
    "shopping_list.count('milk')"
   ]
  },
  {
   "cell_type": "code",
   "execution_count": null,
   "id": "c449eaab",
   "metadata": {},
   "outputs": [],
   "source": [
    "my_list.index(2)"
   ]
  },
  {
   "cell_type": "markdown",
   "id": "6fb4ddea",
   "metadata": {},
   "source": [
    "--- \n",
    "### List Copy:\n",
    "\n",
    "- You can create a copy of a list using the `copy()` method or the slicing technique `[:]`."
   ]
  },
  {
   "cell_type": "code",
   "execution_count": 10,
   "id": "e260d6fc",
   "metadata": {},
   "outputs": [
    {
     "data": {
      "text/plain": [
       "[22, 4, 'str']"
      ]
     },
     "execution_count": 10,
     "metadata": {},
     "output_type": "execute_result"
    }
   ],
   "source": [
    "l1 = [22,4,'str']\n",
    "l2 = l1\n",
    "l2"
   ]
  },
  {
   "cell_type": "code",
   "execution_count": 11,
   "id": "6ff333f8",
   "metadata": {},
   "outputs": [
    {
     "name": "stdout",
     "output_type": "stream",
     "text": [
      "[1, 2, 3]\n",
      "[1, 2, 3]\n"
     ]
    }
   ],
   "source": [
    "my_list = [1, 2, 3]\n",
    "copy1 = my_list.copy()\n",
    "copy2 = my_list  # Slicing technique\n",
    "\n",
    "print(copy1)  # Output: [1, 2, 3]\n",
    "print(copy2)  # Output: [1, 2, 3]\n"
   ]
  },
  {
   "cell_type": "markdown",
   "id": "128d5bb3",
   "metadata": {},
   "source": [
    "--- \n",
    "###  Questions on lists.\n",
    "- *Q.Write a Python program to find the sum of all elements in a list.*\n",
    "- *Q.Write a Python program to find the largest element in a list.*\n",
    "- *Q.Write a Python program to find the second smallest element in a list.*\n",
    "- *Q.Write a Python program to count the number of occurrences of a specific element in a list.*\n",
    "- *Q.Write a Python program to remove duplicates from a list.*\n",
    "- *Q.Write a Python program to check if a list is empty.*\n",
    "- *Q.Write a Python program to check if a list is sorted in ascending order.*\n",
    "- *Q.Write a Python program to find the common elements between two lists.*\n",
    "- *Q.Write a Python program to reverse a list.*\n",
    "- *Q.Write a Python program to sort a list of strings in alphabetical order.* <br>\n",
    "<br>\n",
    "\n",
    "**<p style=\"color: blue;\">NOTE : `float('inf')` represents positive infinity. Similarly, `float('-inf')` represents negative infinity.</p>**"
   ]
  },
  {
   "cell_type": "code",
   "execution_count": 15,
   "id": "de80ece0",
   "metadata": {},
   "outputs": [
    {
     "name": "stdout",
     "output_type": "stream",
     "text": [
      "current Value of i :  1\n",
      "Current valule of result : 1\n",
      "current Value of i :  3\n",
      "Current valule of result : 4\n",
      "current Value of i :  5\n",
      "Current valule of result : 9\n",
      "current Value of i :  6\n",
      "Current valule of result : 15\n",
      "current Value of i :  3\n",
      "Current valule of result : 18\n",
      "current Value of i :  7\n",
      "Current valule of result : 25\n",
      "25\n"
     ]
    }
   ],
   "source": [
    "# Write a Python program to find the sum of all elements in a list.\n",
    "my_list = [1,3,5,6,3,7]\n",
    "result = 0\n",
    "for i in my_list:\n",
    "    print(\"current Value of i : \",i)\n",
    "    result += i\n",
    "    print(\"Current valule of result :\", result)\n",
    "print(result)  "
   ]
  },
  {
   "cell_type": "code",
   "execution_count": 17,
   "id": "d34867d0",
   "metadata": {},
   "outputs": [
    {
     "data": {
      "text/plain": [
       "99"
      ]
     },
     "execution_count": 17,
     "metadata": {},
     "output_type": "execute_result"
    }
   ],
   "source": [
    "# Write a Python program to find the largest element in a list.\n",
    "\n",
    "my_list = [2,4,5,7,8,1,99]\n",
    "s_list = sorted(my_list,reverse=True)\n",
    "s_list[0]\n"
   ]
  },
  {
   "cell_type": "code",
   "execution_count": 18,
   "id": "a7d16d07",
   "metadata": {},
   "outputs": [
    {
     "name": "stdout",
     "output_type": "stream",
     "text": [
      "[1, 3, 2, 4, 12, 6]\n"
     ]
    }
   ],
   "source": [
    "# Write a Python program to remove duplicates from a list.\n",
    "my_list = [1,3,2,4,1,2,1,2,12,6]\n",
    "unique = []\n",
    "for i in my_list:\n",
    "    if i not in unique:\n",
    "        unique.append(i)\n",
    "print(unique)"
   ]
  },
  {
   "cell_type": "code",
   "execution_count": 19,
   "id": "f7c4072f",
   "metadata": {},
   "outputs": [],
   "source": [
    "def remove_duplicates(array):\n",
    "    unique = []\n",
    "    for i in array:\n",
    "        if i not in unique:\n",
    "            unique.append(i)\n",
    "    return unique"
   ]
  },
  {
   "cell_type": "code",
   "execution_count": 20,
   "id": "7ba045f2",
   "metadata": {},
   "outputs": [
    {
     "data": {
      "text/plain": [
       "[1, 2, 3, 4, 88, 99]"
      ]
     },
     "execution_count": 20,
     "metadata": {},
     "output_type": "execute_result"
    }
   ],
   "source": [
    "remove_duplicates([1,2,3,1,2,4,88,88,99])"
   ]
  },
  {
   "cell_type": "code",
   "execution_count": 26,
   "id": "6b13736a",
   "metadata": {},
   "outputs": [
    {
     "data": {
      "text/plain": [
       "2"
      ]
     },
     "execution_count": 26,
     "metadata": {},
     "output_type": "execute_result"
    }
   ],
   "source": [
    "# Write a Python program to find the second smallest element in a list.\n",
    "my_list = [1,1,2, 2, 3, 4, 88, 99]\n",
    "new_list = remove_duplicates(my_list)\n",
    "s_list = sorted(new_list)\n",
    "s_list[1]"
   ]
  },
  {
   "cell_type": "code",
   "execution_count": 33,
   "id": "57e97b0e",
   "metadata": {},
   "outputs": [
    {
     "data": {
      "text/plain": [
       "3"
      ]
     },
     "execution_count": 33,
     "metadata": {},
     "output_type": "execute_result"
    }
   ],
   "source": [
    "# Write a Python program to count the number of occurrences of a specific element in a list.\n",
    "my_list = [1,1,2,2, 2, 3, 4, 88, 99]\n",
    "key = 2\n",
    "my_list.count(key)"
   ]
  },
  {
   "cell_type": "code",
   "execution_count": 29,
   "id": "ffa1131d",
   "metadata": {},
   "outputs": [],
   "source": [
    "def count(l, key):\n",
    "    return l.count(key)"
   ]
  },
  {
   "cell_type": "code",
   "execution_count": 30,
   "id": "c9f94b93",
   "metadata": {},
   "outputs": [
    {
     "data": {
      "text/plain": [
       "6"
      ]
     },
     "execution_count": 30,
     "metadata": {},
     "output_type": "execute_result"
    }
   ],
   "source": [
    "count([1,2,3,1,1,1,1,1],key=1)"
   ]
  },
  {
   "cell_type": "code",
   "execution_count": 32,
   "id": "9803e769",
   "metadata": {},
   "outputs": [
    {
     "name": "stdout",
     "output_type": "stream",
     "text": [
      "List is empty\n"
     ]
    }
   ],
   "source": [
    "# Write a Python program to check if a list is empty.\n",
    "l = []\n",
    "if len(l)==0:\n",
    "    print(\"List is empty\")"
   ]
  },
  {
   "cell_type": "code",
   "execution_count": 36,
   "id": "3326b040",
   "metadata": {},
   "outputs": [
    {
     "data": {
      "text/plain": [
       "[99, 88, 4, 3, 2, 2, 2, 1, 1]"
      ]
     },
     "execution_count": 36,
     "metadata": {},
     "output_type": "execute_result"
    }
   ],
   "source": [
    "list(reversed(my_list))\n",
    "my_list[::-1]"
   ]
  },
  {
   "cell_type": "code",
   "execution_count": null,
   "id": "5b525a51",
   "metadata": {},
   "outputs": [],
   "source": []
  },
  {
   "cell_type": "code",
   "execution_count": null,
   "id": "0eccd799",
   "metadata": {},
   "outputs": [],
   "source": []
  },
  {
   "cell_type": "code",
   "execution_count": null,
   "id": "da53e91b",
   "metadata": {},
   "outputs": [],
   "source": []
  },
  {
   "cell_type": "code",
   "execution_count": null,
   "id": "02852d56",
   "metadata": {},
   "outputs": [],
   "source": []
  },
  {
   "cell_type": "code",
   "execution_count": null,
   "id": "edddd91e",
   "metadata": {},
   "outputs": [],
   "source": []
  },
  {
   "cell_type": "code",
   "execution_count": null,
   "id": "b42a2af5",
   "metadata": {},
   "outputs": [],
   "source": []
  },
  {
   "cell_type": "code",
   "execution_count": null,
   "id": "219f1dfa",
   "metadata": {},
   "outputs": [],
   "source": []
  },
  {
   "cell_type": "code",
   "execution_count": null,
   "id": "162ed662",
   "metadata": {},
   "outputs": [],
   "source": []
  },
  {
   "cell_type": "code",
   "execution_count": null,
   "id": "3b0f4d5b",
   "metadata": {},
   "outputs": [],
   "source": []
  },
  {
   "cell_type": "code",
   "execution_count": null,
   "id": "cc344c71",
   "metadata": {},
   "outputs": [],
   "source": []
  },
  {
   "cell_type": "code",
   "execution_count": null,
   "id": "493ed220",
   "metadata": {},
   "outputs": [],
   "source": []
  },
  {
   "cell_type": "code",
   "execution_count": null,
   "id": "b38d1f4b",
   "metadata": {},
   "outputs": [],
   "source": []
  },
  {
   "cell_type": "code",
   "execution_count": null,
   "id": "e8cfb3c9",
   "metadata": {},
   "outputs": [],
   "source": []
  },
  {
   "cell_type": "code",
   "execution_count": null,
   "id": "22788122",
   "metadata": {},
   "outputs": [],
   "source": []
  },
  {
   "cell_type": "code",
   "execution_count": null,
   "id": "66b4e8c6",
   "metadata": {},
   "outputs": [],
   "source": [
    "# Write a Python program to find the sum of all elements in a list.\n",
    "\n",
    "numbers_list = [3,4,1,5,6,7]\n",
    "\n",
    "result = 0\n",
    "\n",
    "for i in numbers_list:\n",
    "#     print(\"THE VALUE OF i is\", i)\n",
    "    result = result + i\n",
    "#     print(\"THE VALUE OF CURRENT RESULT IS \", result)\n",
    "    \n",
    "print(\"FINAL RESULT : \",result)"
   ]
  },
  {
   "cell_type": "code",
   "execution_count": null,
   "id": "21bbac7c",
   "metadata": {},
   "outputs": [],
   "source": [
    "def my_sum(n_list : list) :\n",
    "    result = 0\n",
    "    \n",
    "    for i in n_list:\n",
    "        result += i\n",
    "    return result"
   ]
  },
  {
   "cell_type": "code",
   "execution_count": null,
   "id": "c689203c",
   "metadata": {},
   "outputs": [],
   "source": [
    "my_sum(numbers_list)"
   ]
  },
  {
   "cell_type": "code",
   "execution_count": null,
   "id": "495b715e",
   "metadata": {},
   "outputs": [],
   "source": [
    "result = my_sum([1,2,3,5,7,8,6,7,7])\n"
   ]
  },
  {
   "cell_type": "code",
   "execution_count": null,
   "id": "407c1062",
   "metadata": {},
   "outputs": [],
   "source": [
    "print(result)"
   ]
  },
  {
   "cell_type": "code",
   "execution_count": null,
   "id": "060d7786",
   "metadata": {},
   "outputs": [],
   "source": [
    "# Q.Write a Python program to find the largest element in a list.\n",
    "\n",
    "numbers_list = [3,4,1,5,6,7]\n",
    "\n",
    "s_numbers = sorted(numbers_list,reverse=True)\n",
    "# print(s_numbers)\n",
    "print(s_numbers[0])\n"
   ]
  },
  {
   "cell_type": "code",
   "execution_count": null,
   "id": "2c672f5a",
   "metadata": {},
   "outputs": [],
   "source": [
    "numbers = [1,2,3,5,7,8,6,7,7]\n",
    "\n",
    "greatest = float(\"-inf\") # smallest value possible # 1 , 8\n",
    "\n",
    "for i in numbers:\n",
    "    if i > greatest :\n",
    "        greatest = i\n",
    "\n",
    "print(greatest)"
   ]
  },
  {
   "cell_type": "code",
   "execution_count": null,
   "id": "3a6e8f52",
   "metadata": {},
   "outputs": [],
   "source": [
    "max(numbers)"
   ]
  },
  {
   "cell_type": "code",
   "execution_count": null,
   "id": "9562c9ca",
   "metadata": {},
   "outputs": [],
   "source": [
    "# Write a Python program to find the second smallest element in a list.\n",
    "numbers = [1,1,2,3,5,7,8,6,7,7]\n",
    "s_numbers = sorted(numbers)\n",
    "s_numbers[1]"
   ]
  },
  {
   "cell_type": "code",
   "execution_count": null,
   "id": "06a9a296",
   "metadata": {},
   "outputs": [],
   "source": [
    "numbers = [3,1,2,3,5,7,8,6,7,7]\n",
    "s = float(\"inf\")  # 1\n",
    "\n",
    "ss = float(\"inf\") # 2\n",
    "\n",
    "for i in numbers:\n",
    "    if i < s :\n",
    "        ss = s\n",
    "        s = i\n",
    "    \n",
    "    elif i < ss and i != s:\n",
    "        ss = i\n",
    "        \n",
    "print(ss)"
   ]
  },
  {
   "cell_type": "code",
   "execution_count": null,
   "id": "097b795e",
   "metadata": {},
   "outputs": [],
   "source": [
    "numbers = [3,1,2,3,5,6,8,6,7,7]\n",
    "# find the second greteast value\n",
    "\n",
    "\n",
    "g = float(\"-inf\")  # 8\n",
    "sg = float(\"-inf\")  # 6\n",
    "\n",
    "for i in numbers:\n",
    "    if i > g :\n",
    "        sg = g\n",
    "        g = i\n",
    "    \n",
    "    elif i > sg and i != g:\n",
    "        sg = i\n",
    "        \n",
    "print(sg)\n"
   ]
  },
  {
   "cell_type": "code",
   "execution_count": null,
   "id": "07eea2cb",
   "metadata": {},
   "outputs": [],
   "source": [
    "def second_smallest(numbers):\n",
    "    s = float(\"inf\")  # 1\n",
    "\n",
    "    ss = float(\"inf\") # 2\n",
    "\n",
    "    for i in numbers:\n",
    "        if i < s :\n",
    "            ss = s\n",
    "            s = i\n",
    "\n",
    "        elif i < ss and i != s:\n",
    "            ss = i\n",
    "\n",
    "    return ss\n",
    "\n",
    "def second_greatess(numbers):\n",
    "    g = float(\"-inf\")  # 8\n",
    "    sg = float(\"-inf\")  # 6\n",
    "\n",
    "    for i in numbers:\n",
    "        if i > g :\n",
    "            sg = g\n",
    "            g = i\n",
    "\n",
    "        elif i > sg and i != g:\n",
    "            sg = i\n",
    "        \n",
    "    return sg"
   ]
  },
  {
   "cell_type": "code",
   "execution_count": null,
   "id": "c9aa36e5",
   "metadata": {},
   "outputs": [],
   "source": [
    "second_smallest([5,4,66,7,3,1])"
   ]
  },
  {
   "cell_type": "code",
   "execution_count": null,
   "id": "fc276988",
   "metadata": {},
   "outputs": [],
   "source": [
    "second_greatess([5,4,66,7,3,1,4,5,5])"
   ]
  },
  {
   "cell_type": "code",
   "execution_count": null,
   "id": "3b17a4f1",
   "metadata": {},
   "outputs": [],
   "source": [
    "# Write a Python program to count the number of occurrences of a specific element in a list.\n",
    "\n",
    "def count_occurance(number_list : list, element):\n",
    "    count = number_list.count(element)\n",
    "    return f\"The count of {element} is {count} times.\""
   ]
  },
  {
   "cell_type": "code",
   "execution_count": null,
   "id": "4a8df6dc",
   "metadata": {},
   "outputs": [],
   "source": [
    "count_occurance([5,4,66,7,3,1,4,5,5], 5)"
   ]
  },
  {
   "cell_type": "code",
   "execution_count": null,
   "id": "9c130b5e",
   "metadata": {},
   "outputs": [],
   "source": [
    "# Write a Python program to remove duplicates from a list.\n",
    "numbers_list = [5,4,66,7,3,1,4,5,5]\n",
    "unique_list = []\n",
    "\n",
    "for i in numbers_list:\n",
    "    if i not in unique_list:\n",
    "        unique_list.append(i)\n",
    "        \n",
    "print(unique_list)"
   ]
  },
  {
   "cell_type": "code",
   "execution_count": null,
   "id": "04d0ae39",
   "metadata": {},
   "outputs": [],
   "source": [
    "# Write a Python program to check if a list is empty.\n",
    "\n",
    "e = []\n",
    "if len(e) == 0:\n",
    "    print(\"THE LIST IS EMPTY\")\n",
    "else:\n",
    "    print(\"LIST IS NOT EMPTY\")"
   ]
  },
  {
   "cell_type": "code",
   "execution_count": 39,
   "id": "e4af97b1",
   "metadata": {},
   "outputs": [
    {
     "name": "stdout",
     "output_type": "stream",
     "text": [
      "8\n",
      "TRUE\n",
      "TRUE\n",
      "TRUE\n",
      "TRUE\n",
      "TRUE\n",
      "TRUE\n",
      "TRUE\n"
     ]
    }
   ],
   "source": [
    "# Write a Python program to check if a list is sorted in ascending order.\n",
    "my_list = [1,2,3,5,7,8,9,10]\n",
    "list2 = [3,4,5,2,1,9]\n",
    "\n",
    "n=len(my_list)\n",
    "print(n)\n",
    "for i in range(1,n):\n",
    "    if my_list[i] > my_list[i-1]:\n",
    "        print(\"TRUE\")\n"
   ]
  },
  {
   "cell_type": "code",
   "execution_count": 46,
   "id": "44bf0f98",
   "metadata": {},
   "outputs": [],
   "source": [
    "def ascending(array):\n",
    "    result = True\n",
    "    for i in range(1,len(array)):\n",
    "        if array[i] > array[i-1]:\n",
    "            pass\n",
    "        else:\n",
    "            result=  False\n",
    "    return result"
   ]
  },
  {
   "cell_type": "code",
   "execution_count": 44,
   "id": "4d097d16",
   "metadata": {},
   "outputs": [
    {
     "data": {
      "text/plain": [
       "True"
      ]
     },
     "execution_count": 44,
     "metadata": {},
     "output_type": "execute_result"
    }
   ],
   "source": [
    "ascending(my_list)"
   ]
  },
  {
   "cell_type": "code",
   "execution_count": 45,
   "id": "ede9d110",
   "metadata": {},
   "outputs": [
    {
     "data": {
      "text/plain": [
       "False"
      ]
     },
     "execution_count": 45,
     "metadata": {},
     "output_type": "execute_result"
    }
   ],
   "source": [
    "ascending(list2)"
   ]
  },
  {
   "cell_type": "code",
   "execution_count": 47,
   "id": "737c8859",
   "metadata": {},
   "outputs": [
    {
     "data": {
      "text/plain": [
       "False"
      ]
     },
     "execution_count": 47,
     "metadata": {},
     "output_type": "execute_result"
    }
   ],
   "source": [
    "ascending([1,23,55,2])"
   ]
  },
  {
   "cell_type": "code",
   "execution_count": 50,
   "id": "39b165dd",
   "metadata": {},
   "outputs": [
    {
     "name": "stdout",
     "output_type": "stream",
     "text": [
      "[1, 3, 5]\n"
     ]
    }
   ],
   "source": [
    "# Write a Python program to find the common elements between two lists.\n",
    "list1 = [1,2,3,5,6,5,5]\n",
    "list2 = [3,5,7,8,1]\n",
    "\n",
    "common_elements = []\n",
    "\n",
    "for i in list1:\n",
    "    if i in list2 and i not in common_elements:\n",
    "        common_elements.append(i)\n",
    "\n",
    "print(common_elements)"
   ]
  },
  {
   "cell_type": "code",
   "execution_count": 51,
   "id": "3c69f105",
   "metadata": {},
   "outputs": [],
   "source": [
    "def common_elements(array1, array2):\n",
    "    common_elements = []\n",
    "    for i in array1:\n",
    "        if i in array2 and i not in common_elements:\n",
    "            common_elements.append(i)\n",
    "    return common_elements"
   ]
  },
  {
   "cell_type": "code",
   "execution_count": 52,
   "id": "673d51e9",
   "metadata": {},
   "outputs": [
    {
     "data": {
      "text/plain": [
       "[1, 5]"
      ]
     },
     "execution_count": 52,
     "metadata": {},
     "output_type": "execute_result"
    }
   ],
   "source": [
    "common_elements([1,34,5],[1,3,4,5])"
   ]
  },
  {
   "cell_type": "code",
   "execution_count": 31,
   "id": "814be056",
   "metadata": {},
   "outputs": [
    {
     "data": {
      "text/plain": [
       "[1, 2, 3, 4, 5, 6, 7]"
      ]
     },
     "execution_count": 31,
     "metadata": {},
     "output_type": "execute_result"
    }
   ],
   "source": [
    "list(range(1,8))"
   ]
  },
  {
   "cell_type": "code",
   "execution_count": 53,
   "id": "5758e191",
   "metadata": {},
   "outputs": [
    {
     "data": {
      "text/plain": [
       "['c', 5, 2, 'a']"
      ]
     },
     "execution_count": 53,
     "metadata": {},
     "output_type": "execute_result"
    }
   ],
   "source": [
    "# Write a Python program to reverse a list.\n",
    "\n",
    "l = ['a',2,5,'c']\n",
    "l[::-1]\n",
    "\n",
    "# Q.Write a Python program to sort a list of strings in alphabetical order."
   ]
  },
  {
   "cell_type": "code",
   "execution_count": null,
   "id": "36ca1f02",
   "metadata": {},
   "outputs": [],
   "source": []
  },
  {
   "cell_type": "code",
   "execution_count": null,
   "id": "aeca90a2",
   "metadata": {},
   "outputs": [],
   "source": [
    "# 1\n",
    "def list_sum(numbers):\n",
    "    sum = 0\n",
    "    for i in numbers:\n",
    "        sum += i\n",
    "    return sum"
   ]
  },
  {
   "cell_type": "code",
   "execution_count": null,
   "id": "84efc335",
   "metadata": {},
   "outputs": [],
   "source": [
    "# 2\n",
    "def find_largest(numbers):\n",
    "    largest = numbers[0]\n",
    "    for number in numbers:\n",
    "        if number > largest:\n",
    "            largest = number\n",
    "            \n",
    "    return largest"
   ]
  },
  {
   "cell_type": "code",
   "execution_count": null,
   "id": "cdb78179",
   "metadata": {},
   "outputs": [],
   "source": [
    "#  3\n",
    "def secondSmallest(arr,n):\n",
    "    if (n<2):\n",
    "        return -1\n",
    "    small = float('inf')\n",
    "    sSmall = float('inf')\n",
    "\n",
    "    for i in range(n):\n",
    "        if (arr[i] < small):\n",
    "            sSmall = small\n",
    "            small = arr[i]\n",
    "        elif (arr[i] != small and arr[i]<sSmall):\n",
    "            sSmall = arr[i]\n",
    "            \n",
    "    return sSmall"
   ]
  },
  {
   "cell_type": "code",
   "execution_count": null,
   "id": "1e41020f",
   "metadata": {},
   "outputs": [],
   "source": [
    "print(secondSmallest([1,4,6,77,99],5))"
   ]
  },
  {
   "cell_type": "code",
   "execution_count": null,
   "id": "a501ef50",
   "metadata": {},
   "outputs": [],
   "source": [
    "# 4\n",
    "def countOccurance(l):\n",
    "    result = {}\n",
    "    for i in l:\n",
    "        if i not in result :\n",
    "            result[i] = 1\n",
    "        else:\n",
    "            result[i] +=1\n",
    "    return result"
   ]
  },
  {
   "cell_type": "code",
   "execution_count": null,
   "id": "42dc3e18",
   "metadata": {},
   "outputs": [],
   "source": [
    "result = countOccurance([1,4,6,77,99,1,1])\n",
    "print(result)"
   ]
  },
  {
   "cell_type": "code",
   "execution_count": null,
   "id": "3f988375",
   "metadata": {},
   "outputs": [],
   "source": [
    "# 4\n",
    "def count_occurrences(input_list, target_element):\n",
    "    count = input_list.count(target_element)\n",
    "    return count"
   ]
  },
  {
   "cell_type": "code",
   "execution_count": null,
   "id": "89885d66",
   "metadata": {},
   "outputs": [],
   "source": [
    "# Example usage\n",
    "my_list = [1, 2, 3, 4, 5, 2, 6, 2, 7, 8, 2, 9]\n",
    "element_to_count = 2\n",
    "result = count_occurrences(my_list, element_to_count)\n",
    "print(f\"The element {element_to_count} appears {result} times in the list.\")"
   ]
  },
  {
   "cell_type": "code",
   "execution_count": null,
   "id": "bdc2b7ae",
   "metadata": {},
   "outputs": [],
   "source": [
    "# 5 Write a Python program to remove duplicates from a list.\n",
    "def rmDuplilcates(l):\n",
    "    result = []\n",
    "    for i in l:\n",
    "        if i not in result:\n",
    "            result.append(i)\n",
    "            \n",
    "    return result"
   ]
  },
  {
   "cell_type": "code",
   "execution_count": null,
   "id": "39bb0804",
   "metadata": {},
   "outputs": [],
   "source": [
    "my_list = [1, 2, 3, 4, 5, 2, 6, 2, 7, 8, 2, 9]\n",
    "print(rmDuplilcates(my_list))"
   ]
  },
  {
   "cell_type": "code",
   "execution_count": null,
   "id": "45be8f89",
   "metadata": {},
   "outputs": [],
   "source": [
    "# 6\n",
    "def is_list_empty(input_list):\n",
    "    if not input_list:\n",
    "        return True\n",
    "    else:\n",
    "        return False\n",
    "\n",
    "# Example usage\n",
    "empty_list = []\n",
    "non_empty_list = [1, 2, 3]\n",
    "\n",
    "print(\"Is the list empty?\", is_list_empty(empty_list))\n",
    "print(\"Is the list empty?\", is_list_empty(non_empty_list))"
   ]
  },
  {
   "cell_type": "code",
   "execution_count": null,
   "id": "9b93cac3",
   "metadata": {},
   "outputs": [],
   "source": [
    "# 7 Write a Python program to check if a list is sorted in ascending order.\n",
    "def is_sorted_ascending(input_list):\n",
    "    for i in range(1, len(input_list)):\n",
    "        if input_list[i] < input_list[i - 1]:\n",
    "            return False\n",
    "    return True\n",
    "            "
   ]
  },
  {
   "cell_type": "code",
   "execution_count": null,
   "id": "3aab710d",
   "metadata": {},
   "outputs": [],
   "source": [
    "my_list = [1,2,3,4,5]\n",
    "print(is_sorted_ascending(my_list))"
   ]
  },
  {
   "cell_type": "code",
   "execution_count": null,
   "id": "4aa963b4",
   "metadata": {},
   "outputs": [],
   "source": [
    "# 8 Write a Python program to find the common elements between two lists.\n",
    "\n",
    "def find_common_elements(list1, list2):\n",
    "    common_elements = []\n",
    "    for element in list1:\n",
    "        if element in list2 and element not in common_elements:\n",
    "            common_elements.append(element)\n",
    "    return common_elements"
   ]
  },
  {
   "cell_type": "code",
   "execution_count": null,
   "id": "dc9e8c67",
   "metadata": {},
   "outputs": [],
   "source": [
    "# Example usage\n",
    "list1 = [1, 2, 3, 4, 5]\n",
    "list2 = [3, 4, 5, 6, 7]\n",
    "\n",
    "common_elements = find_common_elements(list1, list2)\n",
    "print(\"Common elements:\", common_elements)"
   ]
  },
  {
   "cell_type": "code",
   "execution_count": null,
   "id": "9e18d5fd",
   "metadata": {},
   "outputs": [],
   "source": [
    "# 9 Write a Python program to reverse a list.\n",
    "def reverse_a_list(l):\n",
    "    return l[::-1]"
   ]
  },
  {
   "cell_type": "code",
   "execution_count": null,
   "id": "1eaec6bb",
   "metadata": {},
   "outputs": [],
   "source": [
    "list1 = [1, 2, 3, 4, 5]\n",
    "print(reverse_a_list(list1))"
   ]
  },
  {
   "cell_type": "code",
   "execution_count": null,
   "id": "9476f825",
   "metadata": {},
   "outputs": [],
   "source": [
    "# 10 Write a Python program to sort a list of strings in alphabetical order."
   ]
  },
  {
   "cell_type": "code",
   "execution_count": null,
   "id": "6e4bb0ad",
   "metadata": {},
   "outputs": [],
   "source": [
    "def sort_list_alphabetically(input_list):\n",
    "    sorted_list = sorted(input_list)\n",
    "    return sorted_list"
   ]
  },
  {
   "cell_type": "code",
   "execution_count": null,
   "id": "b6d19879",
   "metadata": {},
   "outputs": [],
   "source": [
    "# Example usage\n",
    "unsorted_list = [\"apple\", \"orange\", \"banana\", \"grape\", \"cherry\"]\n",
    "\n",
    "sorted_list = sort_list_alphabetically(unsorted_list)\n",
    "print(\"Sorted list:\", sorted_list)"
   ]
  }
 ],
 "metadata": {
  "kernelspec": {
   "display_name": "Python 3 (ipykernel)",
   "language": "python",
   "name": "python3"
  },
  "language_info": {
   "codemirror_mode": {
    "name": "ipython",
    "version": 3
   },
   "file_extension": ".py",
   "mimetype": "text/x-python",
   "name": "python",
   "nbconvert_exporter": "python",
   "pygments_lexer": "ipython3",
   "version": "3.9.16"
  }
 },
 "nbformat": 4,
 "nbformat_minor": 5
}
