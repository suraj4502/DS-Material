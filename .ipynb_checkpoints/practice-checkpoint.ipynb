{
 "cells": [
  {
   "cell_type": "code",
   "execution_count": 23,
   "id": "ca941681",
   "metadata": {},
   "outputs": [
    {
     "name": "stdout",
     "output_type": "stream",
     "text": [
      "ENTER SOMETHING : pop\n"
     ]
    }
   ],
   "source": [
    "a = input(\"ENTER SOMETHING : \")"
   ]
  },
  {
   "cell_type": "code",
   "execution_count": 24,
   "id": "f15c43c8",
   "metadata": {},
   "outputs": [
    {
     "data": {
      "text/plain": [
       "['pop']"
      ]
     },
     "execution_count": 24,
     "metadata": {},
     "output_type": "execute_result"
    }
   ],
   "source": [
    "l = a.split()\n",
    "l"
   ]
  },
  {
   "cell_type": "code",
   "execution_count": 27,
   "id": "392ec5d2",
   "metadata": {},
   "outputs": [
    {
     "name": "stdout",
     "output_type": "stream",
     "text": [
      "5\n",
      "append 3\n",
      "insert 1 5\n",
      "remove 5\n",
      "append 4\n",
      "print\n",
      "[3, 4]\n"
     ]
    }
   ],
   "source": [
    "N = int(input())\n",
    "li =[]\n",
    "\n",
    "for i in range(N):\n",
    "    op = list(input().split())\n",
    "    \n",
    "    if op[0] == 'insert':\n",
    "        li.insert(int(op[1]),int(op[2]))\n",
    "        \n",
    "    elif op[0] == 'print':\n",
    "        print(li)\n",
    "        \n",
    "    elif op[0] == 'remove':\n",
    "        li.remove(int(op[1]))\n",
    "        \n",
    "    elif op[0] == 'append':\n",
    "        li.append(int(op[1]))\n",
    "        \n",
    "    elif op[0]== 'sort':\n",
    "        li.sort()\n",
    "        \n",
    "    elif op[0]=='pop':\n",
    "        li.pop()\n",
    "        \n",
    "    elif op[0] == 'reverse':\n",
    "        li.reverse()"
   ]
  },
  {
   "cell_type": "code",
   "execution_count": 25,
   "id": "bd4f8554",
   "metadata": {},
   "outputs": [],
   "source": [
    "if l[0] == 'print':\n",
    "    print(l)"
   ]
  },
  {
   "cell_type": "code",
   "execution_count": 11,
   "id": "d15c8e85",
   "metadata": {},
   "outputs": [
    {
     "data": {
      "text/plain": [
       "True"
      ]
     },
     "execution_count": 11,
     "metadata": {},
     "output_type": "execute_result"
    }
   ],
   "source": [
    "# check if a year is leap or not\n",
    "y = 2016\n",
    "leap = False\n",
    "if y  % 4 == 0:\n",
    "    leap = True\n",
    "    if y % 100 == 0:\n",
    "        leap = False\n",
    "        if y % 400 == 0:\n",
    "            leap = True\n",
    "            \n",
    "            \n",
    "leap"
   ]
  },
  {
   "cell_type": "code",
   "execution_count": 2,
   "id": "298abacb",
   "metadata": {},
   "outputs": [
    {
     "data": {
      "text/plain": [
       "True"
      ]
     },
     "execution_count": 2,
     "metadata": {},
     "output_type": "execute_result"
    }
   ],
   "source": [
    "y % 4 == 0"
   ]
  },
  {
   "cell_type": "code",
   "execution_count": 3,
   "id": "f5dac0dc",
   "metadata": {},
   "outputs": [
    {
     "data": {
      "text/plain": [
       "True"
      ]
     },
     "execution_count": 3,
     "metadata": {},
     "output_type": "execute_result"
    }
   ],
   "source": [
    "y % 100 != 0"
   ]
  },
  {
   "cell_type": "code",
   "execution_count": 4,
   "id": "04e0966b",
   "metadata": {},
   "outputs": [
    {
     "data": {
      "text/plain": [
       "False"
      ]
     },
     "execution_count": 4,
     "metadata": {},
     "output_type": "execute_result"
    }
   ],
   "source": [
    "y % 400 == 0"
   ]
  },
  {
   "cell_type": "markdown",
   "id": "5aa6639c",
   "metadata": {},
   "source": [
    "## Problem Statement:  Given a number check if it is a palindrome.\n",
    "\n",
    "- An integer is considered a palindrome when it reads the same backward as forward.\n",
    "\n",
    "```\n",
    "Examples:\n",
    "\n",
    "Example 1:\n",
    "Input: N = 123\n",
    "Output: Not Palindrome Number\n",
    "Explanation: 123 read backwards is 321.Since these are two different numbers 123 is not a palindrome.\n",
    "\n",
    "Example 2:\n",
    "Input: N =  121 \n",
    "Output: Palindrome Number\n",
    "Explanation: 121 read backwards as 121.Since these are two same numbers 121 is a palindrome.\n",
    "```"
   ]
  },
  {
   "cell_type": "code",
   "execution_count": 4,
   "id": "764e44ec",
   "metadata": {},
   "outputs": [
    {
     "data": {
      "text/plain": [
       "'121'"
      ]
     },
     "execution_count": 4,
     "metadata": {},
     "output_type": "execute_result"
    }
   ],
   "source": [
    "n = 121\n",
    "n = str(n)\n",
    "n"
   ]
  },
  {
   "cell_type": "code",
   "execution_count": 5,
   "id": "377af904",
   "metadata": {},
   "outputs": [
    {
     "data": {
      "text/plain": [
       "True"
      ]
     },
     "execution_count": 5,
     "metadata": {},
     "output_type": "execute_result"
    }
   ],
   "source": [
    "n == n[::-1]"
   ]
  },
  {
   "cell_type": "code",
   "execution_count": 12,
   "id": "15414780",
   "metadata": {},
   "outputs": [],
   "source": [
    "def check_palindrome(number):\n",
    "    number = str(number)\n",
    "    reverse = number[::-1]\n",
    "    \n",
    "    if number == reverse :\n",
    "        return True\n",
    "    else:\n",
    "        return False"
   ]
  },
  {
   "cell_type": "code",
   "execution_count": 15,
   "id": "579a3a49",
   "metadata": {},
   "outputs": [
    {
     "data": {
      "text/plain": [
       "True"
      ]
     },
     "execution_count": 15,
     "metadata": {},
     "output_type": "execute_result"
    }
   ],
   "source": [
    "check_palindrome(121)"
   ]
  },
  {
   "cell_type": "code",
   "execution_count": 9,
   "id": "cf5e5f53",
   "metadata": {},
   "outputs": [
    {
     "name": "stdout",
     "output_type": "stream",
     "text": [
      "Enter a number123\n",
      "false\n"
     ]
    }
   ],
   "source": [
    "n = input(\"Enter a number\")\n",
    "rev_n = n[::-1]\n",
    "if n == rev_n:\n",
    "    print(\"Number is palindrome\")\n",
    "else:\n",
    "    print(\"false\")"
   ]
  },
  {
   "cell_type": "code",
   "execution_count": 11,
   "id": "6e64e624",
   "metadata": {},
   "outputs": [],
   "source": [
    "# create a function\n",
    "def palindrome(n):\n",
    "    n = str(n)\n",
    "    rev_n = n[::-1]\n",
    "    \n",
    "    if n == rev_n:\n",
    "        return \"THe number is palindrome\"\n",
    "    else:\n",
    "        return \"THe number is  not  palindrome\""
   ]
  },
  {
   "cell_type": "code",
   "execution_count": 13,
   "id": "b710a4ad",
   "metadata": {},
   "outputs": [
    {
     "data": {
      "text/plain": [
       "'THe number is palindrome'"
      ]
     },
     "execution_count": 13,
     "metadata": {},
     "output_type": "execute_result"
    }
   ],
   "source": [
    "palindrome(12321)"
   ]
  },
  {
   "cell_type": "code",
   "execution_count": 6,
   "id": "781df3b2",
   "metadata": {},
   "outputs": [
    {
     "data": {
      "text/plain": [
       "'8455'"
      ]
     },
     "execution_count": 6,
     "metadata": {},
     "output_type": "execute_result"
    }
   ],
   "source": [
    "s = '5548'\n",
    "s[::-1]"
   ]
  },
  {
   "cell_type": "code",
   "execution_count": 13,
   "id": "7970022a",
   "metadata": {},
   "outputs": [
    {
     "name": "stdout",
     "output_type": "stream",
     "text": [
      "NOt palindrome\n"
     ]
    }
   ],
   "source": [
    "N = 12345\n",
    "n = str(N)\n",
    "rev_n = n[::-1]\n",
    "if n == rev_n:\n",
    "    print(\"No. is Palindrome\")\n",
    "else:\n",
    "    print(\"NOt palindrome\")"
   ]
  },
  {
   "cell_type": "markdown",
   "id": "8df25f53",
   "metadata": {},
   "source": [
    "---\n",
    "## Problem Statement: Given the radius of the circle, calculate the area of the circle.\n",
    "\n",
    "```\n",
    "Examples:\n",
    "\n",
    "Example 1:\n",
    "Input: N = 5\n",
    "Output: 78.5\n",
    "Explanation: Using formula  πr2 for finding area of circle we get area as 78.5\n",
    "\n",
    "Example 2:\n",
    "Input: N = 4\n",
    "Output: 50.2\n",
    "Explanation: Using formula  πr2 for finding area of circle we get area as 50.2\n",
    "```"
   ]
  },
  {
   "cell_type": "code",
   "execution_count": 18,
   "id": "7450e143",
   "metadata": {},
   "outputs": [],
   "source": [
    "def area_of_circle(radius):\n",
    "    pi = 3.14\n",
    "    return (pi *(radius**2))"
   ]
  },
  {
   "cell_type": "code",
   "execution_count": 19,
   "id": "24aa787a",
   "metadata": {},
   "outputs": [
    {
     "name": "stdout",
     "output_type": "stream",
     "text": [
      "78.5\n"
     ]
    }
   ],
   "source": [
    "result = area_of_circle(5)\n",
    "print(result)"
   ]
  },
  {
   "cell_type": "markdown",
   "id": "9675bc7a",
   "metadata": {},
   "source": [
    "---\n",
    "## Sum Of Digits of A Number\n",
    "- Problem Statement: Given an integer, find the sum of digits of that integer.\n",
    "\n",
    "```\n",
    "Examples:\n",
    "\n",
    "Example 1:\n",
    "Input: N = 472\n",
    "Output: 13\n",
    "Explanation: The digits in the number are 4,7 and 2. Summing them up gives us a value of 13\n",
    "\n",
    "Example 2:\n",
    "Input: N = 102\n",
    "Output: 3\n",
    "Explanation: The digits in the number are 0, 1, and 2. Summing them up gives us a value of 3\n",
    "```"
   ]
  },
  {
   "cell_type": "code",
   "execution_count": 13,
   "id": "f731d269",
   "metadata": {},
   "outputs": [
    {
     "data": {
      "text/plain": [
       "12"
      ]
     },
     "execution_count": 13,
     "metadata": {},
     "output_type": "execute_result"
    }
   ],
   "source": [
    "n = -12\n",
    "abs(n)"
   ]
  },
  {
   "cell_type": "code",
   "execution_count": 14,
   "id": "486369aa",
   "metadata": {},
   "outputs": [
    {
     "name": "stdout",
     "output_type": "stream",
     "text": [
      "1\n",
      "1\n",
      "2\n",
      "3\n",
      "Final result :  3\n"
     ]
    }
   ],
   "source": [
    "n = 12\n",
    "n = str(n)\n",
    "result = 0\n",
    "for i in n:\n",
    "    print(i)\n",
    "    result = result + int(i)\n",
    "    print(result)\n",
    "\n",
    "print(\"Final result : \",result)"
   ]
  },
  {
   "cell_type": "code",
   "execution_count": 15,
   "id": "5d82f047",
   "metadata": {},
   "outputs": [],
   "source": [
    "def sum_of_digits(number):\n",
    "    number = abs(number)\n",
    "    result = 0\n",
    "    for i in str(number):\n",
    "        result += int(i)\n",
    "    return result"
   ]
  },
  {
   "cell_type": "code",
   "execution_count": 16,
   "id": "a07ea47b",
   "metadata": {},
   "outputs": [
    {
     "name": "stdout",
     "output_type": "stream",
     "text": [
      "6\n"
     ]
    }
   ],
   "source": [
    "print(sum_of_digits(-123))"
   ]
  },
  {
   "cell_type": "code",
   "execution_count": 23,
   "id": "4f92d4e3",
   "metadata": {},
   "outputs": [
    {
     "name": "stdout",
     "output_type": "stream",
     "text": [
      "133\n"
     ]
    }
   ],
   "source": [
    "print(sum_of_digits(2587894561233484964891584))"
   ]
  },
  {
   "cell_type": "markdown",
   "id": "d0d4e2be",
   "metadata": {},
   "source": [
    "---\n",
    "## GCD of Two Numbers\n",
    "- ### The GCD of two numbers is the largest positive integer that completely divides both numbers without leaving a remainder.\n",
    "\n",
    "<br>\n",
    "\n",
    "\n",
    "- Let us see the steps given below to learn how to find the GCD of two numbers.\n",
    "```\n",
    "Step 1: Write the divisors of the number 'a'.\n",
    "Step 2: Write the divisors of the number 'b'.\n",
    "Step 3: List the common divisors of 'a' and 'b'.\n",
    "Step 4: Now find the divisor which is the highest among the common divisors.\n",
    "```\n",
    "```\n",
    "Example: Find the greatest common divisor of 13 and 48.\n",
    "Solution: We will use the following steps to find the greatest common divisor of (13, 48).\n",
    "\n",
    "Divisors of 13 = 1, and 13.\n",
    "Divisors of 48 = 1, 2, 3, 4, 6, 8, 12, 16, 24 and 48.\n",
    "\n",
    "The common divisor of 13 and 48 is 1.\n",
    "The greatest common divisor of 13 and 48 is 1.\n",
    "\n",
    "Therefore, GCD(13, 48) = 1\n",
    "```\n",
    "---"
   ]
  },
  {
   "cell_type": "code",
   "execution_count": 26,
   "id": "62634f8d",
   "metadata": {},
   "outputs": [],
   "source": [
    "a = 15\n",
    "b = 21"
   ]
  },
  {
   "cell_type": "code",
   "execution_count": 33,
   "id": "bb880823",
   "metadata": {},
   "outputs": [
    {
     "data": {
      "text/plain": [
       "{1, 3, 5, 15}"
      ]
     },
     "execution_count": 33,
     "metadata": {},
     "output_type": "execute_result"
    }
   ],
   "source": [
    "set([i for i in range(1,a+1) if a%i == 0])"
   ]
  },
  {
   "cell_type": "code",
   "execution_count": 27,
   "id": "39935aa6",
   "metadata": {},
   "outputs": [
    {
     "name": "stdout",
     "output_type": "stream",
     "text": [
      "{1, 3, 5, 15}\n",
      "{1, 3, 21, 7}\n"
     ]
    }
   ],
   "source": [
    "def gcd(a,b):\n",
    "    divisor_of_a = []\n",
    "    for i in range(1,a+1):\n",
    "        if a % i ==0 :\n",
    "            divisor_of_a.append(i)\n",
    "\n",
    "    divisor_of_b = []\n",
    "    for i in range(1,b+1):\n",
    "        if b % i ==0 :\n",
    "            divisor_of_b.append(i)\n",
    "\n",
    "    set_of_divisors_of_a = set(divisor_of_a)\n",
    "#     print(set_of_divisors_of_a)\n",
    "\n",
    "    set_of_divisors_of_b = set(divisor_of_b)\n",
    "#     print(set_of_divisors_of_b)\n",
    "    \n",
    "    hcfs = set_of_divisors_of_a.intersection(set_of_divisors_of_b)\n",
    "#     print(hcfs)\n",
    "    \n",
    "    final_hcf = max(hcfs)\n",
    "#     print(final_hcf)\n",
    "    return final_hcf"
   ]
  },
  {
   "cell_type": "code",
   "execution_count": 28,
   "id": "ff660828",
   "metadata": {},
   "outputs": [
    {
     "name": "stdout",
     "output_type": "stream",
     "text": [
      "{1, 3}\n"
     ]
    }
   ],
   "source": []
  },
  {
   "cell_type": "code",
   "execution_count": 29,
   "id": "c3607bb9",
   "metadata": {},
   "outputs": [
    {
     "name": "stdout",
     "output_type": "stream",
     "text": [
      "3\n"
     ]
    }
   ],
   "source": []
  },
  {
   "cell_type": "code",
   "execution_count": 42,
   "id": "eb832950",
   "metadata": {},
   "outputs": [],
   "source": [
    "def gcd(a,b):\n",
    "    divisors_of_a = set([i for i in range(1,a+1) if a%i == 0])\n",
    "    divisors_of_b = set([i for i in range(1,b+1) if b%i == 0])\n",
    "    \n",
    "    return max(divisors_of_a.intersection(divisors_of_b))\n",
    "    "
   ]
  },
  {
   "cell_type": "code",
   "execution_count": 47,
   "id": "3ae7ade2",
   "metadata": {},
   "outputs": [],
   "source": [
    "def lcm(a,b):\n",
    "    return a*b/gcd(a,b)"
   ]
  },
  {
   "cell_type": "code",
   "execution_count": 50,
   "id": "e2124c2b",
   "metadata": {},
   "outputs": [
    {
     "data": {
      "text/plain": [
       "0"
      ]
     },
     "execution_count": 50,
     "metadata": {},
     "output_type": "execute_result"
    }
   ],
   "source": [
    "30% 6"
   ]
  },
  {
   "cell_type": "code",
   "execution_count": 48,
   "id": "f8872f0b",
   "metadata": {},
   "outputs": [
    {
     "data": {
      "text/plain": [
       "30.0"
      ]
     },
     "execution_count": 48,
     "metadata": {},
     "output_type": "execute_result"
    }
   ],
   "source": [
    "lcm(5,6)"
   ]
  },
  {
   "cell_type": "code",
   "execution_count": 46,
   "id": "7268d8ef",
   "metadata": {},
   "outputs": [
    {
     "data": {
      "text/plain": [
       "12.0"
      ]
     },
     "execution_count": 46,
     "metadata": {},
     "output_type": "execute_result"
    }
   ],
   "source": [
    "a = 3\n",
    "b = 4\n",
    "\n",
    "lcm = a*b/gcd(a,b)\n",
    "lcm"
   ]
  },
  {
   "attachments": {
    "image.png": {
     "image/png": "[encoded data removed]"
    }
   },
   "cell_type": "markdown",
   "id": "9b8fddd0",
   "metadata": {},
   "source": [
    "---\n",
    "## LCM OF TWO NUMBERS :\n",
    "\n",
    "- #### L.C.M. defines the least number which is exactly divisible by two or more numbers.\n",
    "\n",
    "```\n",
    "Examples:\n",
    "\n",
    "Example 1:\n",
    "Input: num1 = 4,num2 = 8\n",
    "Output: 8\n",
    "\n",
    "\n",
    "Example 2:\n",
    "Input: num1 = 3,num2 = 6\n",
    "Output: 6\n",
    "```\n",
    "\n",
    "![image.png](attachment:image.png)"
   ]
  },
  {
   "cell_type": "code",
   "execution_count": 39,
   "id": "c31b893a",
   "metadata": {},
   "outputs": [
    {
     "name": "stdout",
     "output_type": "stream",
     "text": [
      "8.0\n"
     ]
    }
   ],
   "source": [
    "lcm = a * b / final_hcf\n",
    "print(lcm)"
   ]
  },
  {
   "cell_type": "code",
   "execution_count": 40,
   "id": "0832c5a9",
   "metadata": {},
   "outputs": [],
   "source": [
    "# SOLUTION\n",
    "\n",
    "def hcf(num1 : float, num2 : float) -> float :\n",
    "    divisors_num1 = []\n",
    "    divisors_num2 = []\n",
    "    \n",
    "    for i in range(1,num1+1):\n",
    "        if num1 % i ==0 :\n",
    "            divisors_num1.append(i)\n",
    "\n",
    "    for i in range(1,num2+1):\n",
    "        if num2 % i ==0 :\n",
    "            divisors_num2.append(i)\n",
    "\n",
    "    hcfs = set(divisors_num1).intersection(set(divisors_num2))\n",
    "    \n",
    "    return max(hcfs)\n",
    "\n"
   ]
  },
  {
   "cell_type": "code",
   "execution_count": 98,
   "id": "084732c9",
   "metadata": {},
   "outputs": [],
   "source": [
    "def lcm(num1 : float, num2 : float) -> float :\n",
    "    result = num1 * num2 / hcf(num1,num                                                                                                        2)\n",
    "    return result"
   ]
  },
  {
   "cell_type": "code",
   "execution_count": 99,
   "id": "bfebd8f8",
   "metadata": {},
   "outputs": [
    {
     "name": "stdout",
     "output_type": "stream",
     "text": [
      "8.0\n"
     ]
    }
   ],
   "source": [
    "print(lcm(4,8))"
   ]
  },
  {
   "cell_type": "code",
   "execution_count": null,
   "id": "2c4f929b",
   "metadata": {},
   "outputs": [],
   "source": []
  },
  {
   "cell_type": "code",
   "execution_count": null,
   "id": "77b34f1d",
   "metadata": {},
   "outputs": [],
   "source": []
  },
  {
   "cell_type": "code",
   "execution_count": 11,
   "id": "dbe09f67",
   "metadata": {},
   "outputs": [],
   "source": [
    "class Lcm:\n",
    "    def __init__(self, num1: int, num2: int):\n",
    "        self.num1 = num1\n",
    "        self.num2 = num2\n",
    "\n",
    "    @staticmethod\n",
    "    def calculate_hcf(num1, num2):\n",
    "        # Calculate the divisors of num1\n",
    "        divisors_num1 = [i for i in range(1, num1 + 1) if num1 % i == 0]\n",
    "\n",
    "        # Calculate the divisors of num2\n",
    "        divisors_num2 = [i for i in range(1, num2 + 1) if num2 % i == 0]\n",
    "\n",
    "        # Find the highest common factor (HCF) using set intersection\n",
    "        hcfs = set(divisors_num1).intersection(set(divisors_num2))\n",
    "        return max(hcfs)\n",
    "\n",
    "    def calculate_lcm(self):\n",
    "        hcf = Lcm.calculate_hcf(self.num1, self.num2)\n",
    "        lcm = self.num1 * self.num2 / hcf\n",
    "        return lcm\n"
   ]
  },
  {
   "cell_type": "code",
   "execution_count": 12,
   "id": "86fe8a3c",
   "metadata": {},
   "outputs": [
    {
     "name": "stdout",
     "output_type": "stream",
     "text": [
      "The LCM of 12 and 18 is: 36.0\n"
     ]
    }
   ],
   "source": [
    "# Example usage:\n",
    "num1 = 12\n",
    "num2 = 18\n",
    "lcm_calculator = Lcm(num1, num2)\n",
    "result = lcm_calculator.calculate_lcm()\n",
    "print(f\"The LCM of {num1} and {num2} is: {result}\")\n",
    "\n"
   ]
  },
  {
   "cell_type": "code",
   "execution_count": 13,
   "id": "59658643",
   "metadata": {},
   "outputs": [],
   "source": [
    "obj1 = Lcm(4,8)"
   ]
  },
  {
   "cell_type": "code",
   "execution_count": 15,
   "id": "88743a6e",
   "metadata": {},
   "outputs": [
    {
     "data": {
      "text/plain": [
       "4"
      ]
     },
     "execution_count": 15,
     "metadata": {},
     "output_type": "execute_result"
    }
   ],
   "source": [
    "obj1.calculate_hcf(4,8)"
   ]
  },
  {
   "cell_type": "markdown",
   "id": "c9b735e5",
   "metadata": {},
   "source": [
    "---\n",
    "## Find the sum of numbers in the given range\n",
    "- Problem Statement: Find the sum of numbers in the given range.\n",
    "```\n",
    "Examples:\n",
    "\n",
    "Example 1:\n",
    "Input: l=2, r=7\n",
    "Output: 27\n",
    "Explanation: 2+3+4+5+6+7=27. Therefore 27 is the answer.\n",
    "\n",
    "Example 2:\n",
    "Input: l=5, r=9\n",
    "Output: 35\n",
    "```"
   ]
  },
  {
   "cell_type": "code",
   "execution_count": 26,
   "id": "e51ea8f2",
   "metadata": {},
   "outputs": [
    {
     "data": {
      "text/plain": [
       "27"
      ]
     },
     "execution_count": 26,
     "metadata": {},
     "output_type": "execute_result"
    }
   ],
   "source": [
    "sum(list(range(2,7+1)))"
   ]
  },
  {
   "cell_type": "code",
   "execution_count": 22,
   "id": "d602f62b",
   "metadata": {},
   "outputs": [],
   "source": [
    "def sum_of_a_range(start,end):\n",
    "    result = 0\n",
    "    for i in range(start,end+1):\n",
    "        result = result + i\n",
    "    return result"
   ]
  },
  {
   "cell_type": "code",
   "execution_count": 27,
   "id": "950535cf",
   "metadata": {},
   "outputs": [],
   "source": [
    "def sum_of_a_range(start,end):\n",
    "    return sum(range(start,end+1))"
   ]
  },
  {
   "cell_type": "code",
   "execution_count": 28,
   "id": "830f513c",
   "metadata": {},
   "outputs": [
    {
     "data": {
      "text/plain": [
       "27"
      ]
     },
     "execution_count": 28,
     "metadata": {},
     "output_type": "execute_result"
    }
   ],
   "source": [
    "sum_of_a_range(2,7)"
   ]
  },
  {
   "cell_type": "code",
   "execution_count": 19,
   "id": "a43cba65",
   "metadata": {},
   "outputs": [
    {
     "name": "stdout",
     "output_type": "stream",
     "text": [
      "20\n"
     ]
    }
   ],
   "source": [
    "result = 0\n",
    "for i in range (2,7):\n",
    "   \n",
    "    result += i\n",
    "print(result)        \n",
    "                "
   ]
  },
  {
   "cell_type": "code",
   "execution_count": null,
   "id": "446d9a2e",
   "metadata": {},
   "outputs": [],
   "source": [
    "def add_num(start, end):\n",
    "    for i range(start=)\n"
   ]
  },
  {
   "cell_type": "code",
   "execution_count": null,
   "id": "f2d01bd7",
   "metadata": {},
   "outputs": [],
   "source": []
  },
  {
   "cell_type": "code",
   "execution_count": 17,
   "id": "860cab41",
   "metadata": {},
   "outputs": [
    {
     "data": {
      "text/plain": [
       "14"
      ]
     },
     "execution_count": 17,
     "metadata": {},
     "output_type": "execute_result"
    }
   ],
   "source": [
    "# 2-5\n",
    "# sum\n",
    "2 + 3 +4 +5"
   ]
  },
  {
   "cell_type": "code",
   "execution_count": null,
   "id": "d21a1632",
   "metadata": {},
   "outputs": [],
   "source": [
    "# Return the summation of all the numbers uptil 9"
   ]
  },
  {
   "cell_type": "code",
   "execution_count": 102,
   "id": "57ae3291",
   "metadata": {},
   "outputs": [
    {
     "name": "stdout",
     "output_type": "stream",
     "text": [
      "[2, 3, 4, 5, 6, 7, 8, 9]\n"
     ]
    }
   ],
   "source": [
    "print(list(range(2,10)))"
   ]
  },
  {
   "cell_type": "code",
   "execution_count": 103,
   "id": "22eaffb3",
   "metadata": {},
   "outputs": [
    {
     "name": "stdout",
     "output_type": "stream",
     "text": [
      "44\n"
     ]
    }
   ],
   "source": [
    "print(sum(range(2,10)))"
   ]
  },
  {
   "cell_type": "code",
   "execution_count": 106,
   "id": "8bb601ae",
   "metadata": {},
   "outputs": [],
   "source": [
    "def add_numbers_in_a_range(start, end):\n",
    "    result = 0\n",
    "    for i in range(start,end +1):\n",
    "        result += i\n",
    "\n",
    "    return result"
   ]
  },
  {
   "cell_type": "code",
   "execution_count": 107,
   "id": "fef3f4b6",
   "metadata": {},
   "outputs": [
    {
     "name": "stdout",
     "output_type": "stream",
     "text": [
      "35\n"
     ]
    }
   ],
   "source": [
    "print(add_numbers_in_a_range(5,9))"
   ]
  },
  {
   "cell_type": "code",
   "execution_count": 109,
   "id": "a3993261",
   "metadata": {},
   "outputs": [
    {
     "data": {
      "text/plain": [
       "35"
      ]
     },
     "execution_count": 109,
     "metadata": {},
     "output_type": "execute_result"
    }
   ],
   "source": [
    "sum(range(2,10))\n",
    "sum(range(5,10))"
   ]
  },
  {
   "cell_type": "code",
   "execution_count": 55,
   "id": "c6356918",
   "metadata": {},
   "outputs": [
    {
     "name": "stdout",
     "output_type": "stream",
     "text": [
      "Enter TxTKing\n",
      "Kng\n"
     ]
    }
   ],
   "source": [
    "Str= input(\"Enter TxT\")\n",
    "vowels= \"a,e,i,o,u\"\n",
    "replacement=\"\"\n",
    "for i in Str:\n",
    "    if i  not in  vowels:\n",
    "        replacement += i\n",
    "print(replacement)"
   ]
  },
  {
   "cell_type": "markdown",
   "id": "8c811f2c",
   "metadata": {},
   "source": [
    "## Remove all vowels from the String\n",
    "- Problem Statement: Given a String, write a program to remove vowels from a given String.\n",
    "\n",
    "```\n",
    "Examples:\n",
    "\n",
    "Example 1:\n",
    "Input: Str = “take u forward”\n",
    "Output: tk  frwrd\n",
    "Explanation: All vowels are removed from the given String.\n",
    "\n",
    "Example 2:\n",
    "Input: Str = “I am very happy today”\n",
    "Output:  m vry happy tdy\n",
    "Explanation: All vowels are removed from the given String.\n",
    "```"
   ]
  },
  {
   "cell_type": "code",
   "execution_count": 39,
   "id": "0d6fc5d9",
   "metadata": {},
   "outputs": [
    {
     "name": "stdout",
     "output_type": "stream",
     "text": [
      " m vry hppy tdy"
     ]
    }
   ],
   "source": [
    "s = \"I am very happy today\"\n",
    "vowels = ['a','e','i','o','u']\n",
    "\n",
    "for i in s:\n",
    "    if i.lower() in vowels:\n",
    "        continue\n",
    "    else:\n",
    "        print(i,end=\"\")"
   ]
  },
  {
   "cell_type": "code",
   "execution_count": 48,
   "id": "baec04b1",
   "metadata": {},
   "outputs": [],
   "source": [
    "\n",
    "def remove_vowels(s : str)-> str:\n",
    "    vowels = ['a','e','i','o','u']\n",
    "\n",
    "    result = ''\n",
    "    for i in s:\n",
    "        if i.lower() not in vowels:\n",
    "            result += i\n",
    "    return result"
   ]
  },
  {
   "cell_type": "code",
   "execution_count": null,
   "id": "d24d0905",
   "metadata": {},
   "outputs": [],
   "source": []
  },
  {
   "cell_type": "code",
   "execution_count": null,
   "id": "4204f49d",
   "metadata": {},
   "outputs": [],
   "source": [
    "remove_vowels()"
   ]
  },
  {
   "cell_type": "code",
   "execution_count": 49,
   "id": "e2ffd7af",
   "metadata": {},
   "outputs": [
    {
     "data": {
      "text/plain": [
       "' m vry hpy tdy'"
      ]
     },
     "execution_count": 49,
     "metadata": {},
     "output_type": "execute_result"
    }
   ],
   "source": [
    "remove_vowels(\"i am very haapy today\")"
   ]
  },
  {
   "cell_type": "code",
   "execution_count": 114,
   "id": "f6ea0a79",
   "metadata": {},
   "outputs": [],
   "source": [
    "s1= set(\"I am very happy today\")"
   ]
  },
  {
   "cell_type": "code",
   "execution_count": 115,
   "id": "12273964",
   "metadata": {},
   "outputs": [],
   "source": [
    "s2 = {'a','e','i','o','u'}"
   ]
  },
  {
   "cell_type": "code",
   "execution_count": 116,
   "id": "fff9a298",
   "metadata": {},
   "outputs": [
    {
     "name": "stdout",
     "output_type": "stream",
     "text": [
      "{'y', 'r', 'h', 't', ' ', 'I', 'v', 'd', 'p', 'm'}\n"
     ]
    }
   ],
   "source": [
    "result = s1 - s2\n",
    "print(result)"
   ]
  },
  {
   "cell_type": "code",
   "execution_count": 138,
   "id": "602e8d7e",
   "metadata": {},
   "outputs": [
    {
     "data": {
      "text/plain": [
       "'surakkjjj'"
      ]
     },
     "execution_count": 138,
     "metadata": {},
     "output_type": "execute_result"
    }
   ],
   "source": [
    "s = 'surajjjjj'\n",
    "s.replace('j','k',2)"
   ]
  },
  {
   "cell_type": "code",
   "execution_count": 131,
   "id": "f3eb6871",
   "metadata": {},
   "outputs": [
    {
     "name": "stdout",
     "output_type": "stream",
     "text": [
      "I m vry hppy tdy"
     ]
    }
   ],
   "source": [
    "for i in s:\n",
    "    if i in ['a','e','i','o','u']:\n",
    "        continue\n",
    "    print(i,end=\"\")"
   ]
  },
  {
   "cell_type": "code",
   "execution_count": 133,
   "id": "3fc05e9a",
   "metadata": {},
   "outputs": [
    {
     "name": "stdout",
     "output_type": "stream",
     "text": [
      " m vry hppy tdy"
     ]
    }
   ],
   "source": [
    "s = s.lower()\n",
    "for i in s:\n",
    "    if i in ['a','e','i','o','u']:\n",
    "        continue\n",
    "    print(i,end=\"\")"
   ]
  },
  {
   "cell_type": "code",
   "execution_count": 134,
   "id": "44d88c2b",
   "metadata": {},
   "outputs": [
    {
     "name": "stdout",
     "output_type": "stream",
     "text": [
      " m vry hppy tdy\n"
     ]
    }
   ],
   "source": [
    "result = \"\"\n",
    "for i in s:\n",
    "    if i.lower() not in ['a','e','i','o','u']:\n",
    "        result += i\n",
    "    \n",
    "print(result)"
   ]
  },
  {
   "cell_type": "code",
   "execution_count": 135,
   "id": "a2e40b46",
   "metadata": {},
   "outputs": [],
   "source": [
    "def remove_vowels(string : str):\n",
    "    result = \"\"\n",
    "    string = string.lower()\n",
    "    for i in string:\n",
    "        if i not in ['a','e','i','o','u']:\n",
    "            result += i\n",
    "            \n",
    "    return result\n",
    "        "
   ]
  },
  {
   "cell_type": "code",
   "execution_count": 136,
   "id": "d2092186",
   "metadata": {},
   "outputs": [
    {
     "name": "stdout",
     "output_type": "stream",
     "text": [
      "lphnt s n nml\n"
     ]
    }
   ],
   "source": [
    "result = remove_vowels(\"elephant is an animal\")\n",
    "print(result)"
   ]
  },
  {
   "cell_type": "code",
   "execution_count": null,
   "id": "1292e5cb",
   "metadata": {},
   "outputs": [],
   "source": []
  },
  {
   "cell_type": "markdown",
   "id": "4c997de6",
   "metadata": {},
   "source": [
    "# Count the number of occurance of letters in a given word.\n",
    "```\n",
    "Examples:\n",
    "    \n",
    "Example 1:\n",
    "Input: Str = \"nightwing\"\n",
    "Output: n : 2\n",
    "        i : 2\n",
    "        g : 2\n",
    "        h : 1\n",
    "        t : 1\n",
    "        w : 1    \n",
    "```"
   ]
  },
  {
   "cell_type": "code",
   "execution_count": 4,
   "id": "396dde70",
   "metadata": {},
   "outputs": [
    {
     "data": {
      "text/plain": [
       "{'a': 2}"
      ]
     },
     "execution_count": 4,
     "metadata": {},
     "output_type": "execute_result"
    }
   ],
   "source": [
    "my_dict= {}\n",
    "my_dict['a'] = 1\n",
    "my_dict['a'] +=1\n",
    "my_dict"
   ]
  },
  {
   "cell_type": "code",
   "execution_count": 18,
   "id": "d7593ccd",
   "metadata": {},
   "outputs": [],
   "source": [
    "def find_occurance(s):\n",
    "    result = {}\n",
    "    for i in s:\n",
    "        if i in result:\n",
    "            result[i] += 1\n",
    "        else :\n",
    "            result[i] = 1\n",
    "\n",
    "    final_answer = dict(sorted(result.items(),key= lambda x : x[1] ,reverse=True))\n",
    "    return final_answer"
   ]
  },
  {
   "cell_type": "code",
   "execution_count": 19,
   "id": "09b5e300",
   "metadata": {},
   "outputs": [
    {
     "data": {
      "text/plain": [
       "{'j': 7, 's': 3, 'u': 1, 'r': 1, 'a': 1}"
      ]
     },
     "execution_count": 19,
     "metadata": {},
     "output_type": "execute_result"
    }
   ],
   "source": [
    "find_occurance(\"sssurajjjjjjj\")"
   ]
  },
  {
   "cell_type": "code",
   "execution_count": 7,
   "id": "a688b3c2",
   "metadata": {},
   "outputs": [
    {
     "name": "stdout",
     "output_type": "stream",
     "text": [
      "g : 2\n",
      "h : 1\n",
      "i : 2\n",
      "n : 2\n",
      "t : 1\n",
      "w : 1\n"
     ]
    }
   ],
   "source": [
    "s = 'nightwing'\n",
    "unique_s = sorted(list((set(s))))\n",
    "for i in unique_s:\n",
    "    print(i,\":\", s.count(i))"
   ]
  },
  {
   "cell_type": "code",
   "execution_count": null,
   "id": "8c4c90a1",
   "metadata": {},
   "outputs": [],
   "source": []
  },
  {
   "cell_type": "code",
   "execution_count": null,
   "id": "028f56b8",
   "metadata": {},
   "outputs": [],
   "source": []
  },
  {
   "cell_type": "code",
   "execution_count": null,
   "id": "a411f9a9",
   "metadata": {},
   "outputs": [],
   "source": []
  },
  {
   "cell_type": "code",
   "execution_count": 144,
   "id": "40f4661c",
   "metadata": {},
   "outputs": [
    {
     "name": "stdout",
     "output_type": "stream",
     "text": [
      "g : 2\n",
      "h : 1\n",
      "i : 2\n",
      "n : 2\n",
      "t : 1\n",
      "w : 1\n"
     ]
    }
   ],
   "source": [
    "string = 'nightwing'\n",
    "unique_elem = sorted(list(set(string)))\n",
    "for i in unique_elem:\n",
    "    print(i,':',string.count(i))"
   ]
  },
  {
   "cell_type": "code",
   "execution_count": 152,
   "id": "04f5c92c",
   "metadata": {},
   "outputs": [],
   "source": [
    "def count_occurance(string):\n",
    "    occurances = {}\n",
    "    for i in string:\n",
    "        if i in occurances:\n",
    "            occurances[i] +=1\n",
    "        else:\n",
    "            occurances[i] = 1\n",
    "    return occurances"
   ]
  },
  {
   "cell_type": "code",
   "execution_count": 163,
   "id": "24555162",
   "metadata": {},
   "outputs": [
    {
     "data": {
      "text/plain": [
       "{'e': 2,\n",
       " 'l': 2,\n",
       " 'p': 1,\n",
       " 'h': 1,\n",
       " 'a': 4,\n",
       " 'n': 3,\n",
       " 't': 1,\n",
       " ' ': 3,\n",
       " 'i': 2,\n",
       " 's': 1,\n",
       " 'm': 1}"
      ]
     },
     "execution_count": 163,
     "metadata": {},
     "output_type": "execute_result"
    }
   ],
   "source": [
    "result = count_occurance('elephant is an animal')\n",
    "result"
   ]
  },
  {
   "cell_type": "code",
   "execution_count": 168,
   "id": "2b95f1c6",
   "metadata": {},
   "outputs": [
    {
     "name": "stdout",
     "output_type": "stream",
     "text": [
      "a : 4\n",
      "n : 3\n",
      "  : 3\n",
      "e : 2\n",
      "l : 2\n",
      "i : 2\n",
      "p : 1\n",
      "h : 1\n",
      "t : 1\n",
      "s : 1\n",
      "m : 1\n"
     ]
    }
   ],
   "source": [
    "srt = sorted(result,key = lambda x : result[x],reverse=True)\n",
    "for i in srt:\n",
    "    print(i,\":\",result[i])"
   ]
  },
  {
   "cell_type": "markdown",
   "id": "72834e37",
   "metadata": {},
   "source": [
    "## Capitalize first and last character of each word of a string\n",
    "- Problem Statement: Given a string, write a program to Capitalize the first and last character of each word of that string.\n",
    "```\n",
    "Examples:\n",
    "\n",
    "Example 1:\n",
    "Input: String str = \"take u forward is awesome\"\n",
    "Output: “TakE U ForwarD IS AwesomE”\n",
    "Explanation: We get the result after capitalizing the first and last character of each word of a string\n",
    "\n",
    "Example 2:\n",
    "Input: String str = \"Take u Forward is Awesome\"\n",
    "Output: “TakE U ForwarD IS AwesomE”\n",
    "Explanation: Characters T, F, A are initially in uppercase , so they remain as they are in the result.\n",
    "```"
   ]
  },
  {
   "cell_type": "code",
   "execution_count": 24,
   "id": "2453caf5",
   "metadata": {},
   "outputs": [
    {
     "data": {
      "text/plain": [
       "['take', 'u', 'forward', 'is', 'awesome']"
      ]
     },
     "execution_count": 24,
     "metadata": {},
     "output_type": "execute_result"
    }
   ],
   "source": [
    "s = 'take u forward is awesome'\n",
    "s.split()"
   ]
  },
  {
   "cell_type": "code",
   "execution_count": 30,
   "id": "c6f8301c",
   "metadata": {},
   "outputs": [
    {
     "data": {
      "text/plain": [
       "'TakE U ForwarD IS AwesomE'"
      ]
     },
     "execution_count": 30,
     "metadata": {},
     "output_type": "execute_result"
    }
   ],
   "source": [
    "s = 'take u forward is awesome'\n",
    "result = []\n",
    "for i in s.split():\n",
    "    if len(i) >1:\n",
    "        result.append(i[0].upper() + i[1:-1]+ i[-1].upper())\n",
    "    else:\n",
    "        result.append(i.upper())\n",
    "\n",
    "# ['take', 'u', 'forward', 'is', 'awesome']    \n",
    "\" \".join(result)"
   ]
  },
  {
   "cell_type": "code",
   "execution_count": null,
   "id": "9ed9601c",
   "metadata": {},
   "outputs": [],
   "source": []
  }
 ],
 "metadata": {
  "kernelspec": {
   "display_name": "Python 3 (ipykernel)",
   "language": "python",
   "name": "python3"
  },
  "language_info": {
   "codemirror_mode": {
    "name": "ipython",
    "version": 3
   },
   "file_extension": ".py",
   "mimetype": "text/x-python",
   "name": "python",
   "nbconvert_exporter": "python",
   "pygments_lexer": "ipython3",
   "version": "3.9.16"
  }
 },
 "nbformat": 4,
 "nbformat_minor": 5
}
