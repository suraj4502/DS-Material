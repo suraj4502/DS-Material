{
 "cells": [
  {
   "cell_type": "code",
   "execution_count": 13,
   "id": "84fcd518",
   "metadata": {},
   "outputs": [
    {
     "name": "stdout",
     "output_type": "stream",
     "text": [
      "5\n",
      "05\n",
      "1.0\n",
      "FINAL CODE\n"
     ]
    }
   ],
   "source": [
    "a = int(input())\n",
    "b = int(input())\n",
    "\n",
    "try:\n",
    "    print(a/b)\n",
    "except:\n",
    "    print(\"not divisbile by zero\")\n",
    "    \n",
    "    \n",
    "    \n",
    "    \n",
    "print(\"FINAL CODE\")"
   ]
  },
  {
   "cell_type": "code",
   "execution_count": 15,
   "id": "3e61eb26",
   "metadata": {},
   "outputs": [
    {
     "name": "stdout",
     "output_type": "stream",
     "text": [
      "c is graeter than 0\n"
     ]
    }
   ],
   "source": [
    "c = 5\n",
    "try:\n",
    "    if c > 0:\n",
    "        print('c is graeter than 0')\n",
    "except :\n",
    "    print(\"kuch toh gadbad hai, code dekh lo aur sudhar lo , abhi error nahi ayega but agar apne normal coding kiya hota toh ata.\")"
   ]
  },
  {
   "cell_type": "code",
   "execution_count": 17,
   "id": "4940c2fe",
   "metadata": {},
   "outputs": [
    {
     "name": "stdout",
     "output_type": "stream",
     "text": [
      "1.0\n"
     ]
    }
   ],
   "source": [
    "try:\n",
    "    numerator = 10\n",
    "    denominator = 10\n",
    "\n",
    "    result = numerator/denominator\n",
    "\n",
    "    print(result)\n",
    "except:\n",
    "    \n",
    "    print(\"Error: Denominator cannot be 0.\")\n",
    "\n",
    "# Output: Error: Denominator cannot be 0. "
   ]
  },
  {
   "cell_type": "code",
   "execution_count": 46,
   "id": "501a3497",
   "metadata": {},
   "outputs": [
    {
     "name": "stdout",
     "output_type": "stream",
     "text": [
      "5\n",
      "0\n",
      "Bhai zero se divide nhi hota\n",
      "ye toh hamesha run hoga\n"
     ]
    }
   ],
   "source": [
    "a = int(input())\n",
    "b = int(input())\n",
    "\n",
    "try:\n",
    "    print(a/b)\n",
    "    print(\"SMOTHING\")\n",
    "        \n",
    "    \n",
    "    \n",
    "except ZeroDivisionError:\n",
    "    print(\"Bhai zero se divide nhi hota\")\n",
    "    \n",
    "except Exception as e:\n",
    "    print(\"Kuch toh gadbad hua\",e.args)\n",
    "    print('kuh toh hua')\n",
    "    \n",
    "else:\n",
    "    print(\"something\")\n",
    "    \n",
    "finally:\n",
    "    print(\"ye toh hamesha run hoga\")"
   ]
  },
  {
   "cell_type": "code",
   "execution_count": null,
   "id": "23e50278",
   "metadata": {},
   "outputs": [],
   "source": []
  },
  {
   "cell_type": "code",
   "execution_count": 18,
   "id": "e8b4684e",
   "metadata": {},
   "outputs": [
    {
     "ename": "ZeroDivisionError",
     "evalue": "division by zero",
     "output_type": "error",
     "traceback": [
      "\u001b[1;31m---------------------------------------------------------------------------\u001b[0m",
      "\u001b[1;31mZeroDivisionError\u001b[0m                         Traceback (most recent call last)",
      "Cell \u001b[1;32mIn[18], line 1\u001b[0m\n\u001b[1;32m----> 1\u001b[0m \u001b[38;5;241m1\u001b[39m\u001b[38;5;241m/\u001b[39m\u001b[38;5;241m0\u001b[39m\n",
      "\u001b[1;31mZeroDivisionError\u001b[0m: division by zero"
     ]
    }
   ],
   "source": [
    "1/0"
   ]
  },
  {
   "cell_type": "code",
   "execution_count": 19,
   "id": "5c79df97",
   "metadata": {},
   "outputs": [
    {
     "ename": "SyntaxError",
     "evalue": "expected ':' (3449018922.py, line 1)",
     "output_type": "error",
     "traceback": [
      "\u001b[1;36m  Cell \u001b[1;32mIn[19], line 1\u001b[1;36m\u001b[0m\n\u001b[1;33m    if x\u001b[0m\n\u001b[1;37m        ^\u001b[0m\n\u001b[1;31mSyntaxError\u001b[0m\u001b[1;31m:\u001b[0m expected ':'\n"
     ]
    }
   ],
   "source": [
    "if x"
   ]
  },
  {
   "cell_type": "code",
   "execution_count": 21,
   "id": "b661ab4c",
   "metadata": {},
   "outputs": [
    {
     "ename": "NameError",
     "evalue": "name 'd' is not defined",
     "output_type": "error",
     "traceback": [
      "\u001b[1;31m---------------------------------------------------------------------------\u001b[0m",
      "\u001b[1;31mNameError\u001b[0m                                 Traceback (most recent call last)",
      "Cell \u001b[1;32mIn[21], line 1\u001b[0m\n\u001b[1;32m----> 1\u001b[0m d\n",
      "\u001b[1;31mNameError\u001b[0m: name 'd' is not defined"
     ]
    }
   ],
   "source": [
    "d"
   ]
  }
 ],
 "metadata": {
  "kernelspec": {
   "display_name": "Python 3 (ipykernel)",
   "language": "python",
   "name": "python3"
  },
  "language_info": {
   "codemirror_mode": {
    "name": "ipython",
    "version": 3
   },
   "file_extension": ".py",
   "mimetype": "text/x-python",
   "name": "python",
   "nbconvert_exporter": "python",
   "pygments_lexer": "ipython3",
   "version": "3.11.4"
  }
 },
 "nbformat": 4,
 "nbformat_minor": 5
}
