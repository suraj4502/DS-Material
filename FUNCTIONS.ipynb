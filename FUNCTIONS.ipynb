{
 "cells": [
  {
   "cell_type": "markdown",
   "id": "eb033a2d",
   "metadata": {},
   "source": [
    "# FUNCTIONS :\n",
    "- A function is a block of reusable code that performs a specific task or set of tasks. \n",
    "- Functions help in organizing code, promoting code reusability, and making programs more modular and easier to read. \n",
    "- Functions are a fundamental concept in Python and play a crucial role in building complex programs.\n",
    "- A function is defined using the def keyword, followed by the function name, parentheses (), and a colon :. \n",
    "- The return statement inside a function is used to specify the result or value that the function will \"return\" when it is called. "
   ]
  },
  {
   "cell_type": "code",
   "execution_count": null,
   "id": "56cadcbb",
   "metadata": {},
   "outputs": [],
   "source": [
    "def function_name(parameters):\n",
    "    # Function body\n",
    "    # Code to perform the task\n",
    "    return result  # Optional, used to return a value (result) from the function\n"
   ]
  },
  {
   "cell_type": "code",
   "execution_count": 2,
   "id": "7bcdc362",
   "metadata": {},
   "outputs": [],
   "source": [
    "def add_numbers(a, b):\n",
    "    result = a + b\n",
    "    return result"
   ]
  },
  {
   "cell_type": "code",
   "execution_count": 3,
   "id": "12dc7e49",
   "metadata": {},
   "outputs": [
    {
     "name": "stdout",
     "output_type": "stream",
     "text": [
      "9\n"
     ]
    }
   ],
   "source": [
    "result = add_numbers(4,5)\n",
    "print(result)"
   ]
  },
  {
   "cell_type": "code",
   "execution_count": 4,
   "id": "bc50fd27",
   "metadata": {},
   "outputs": [],
   "source": [
    "def multiply(a,b):\n",
    "    return a*b"
   ]
  },
  {
   "cell_type": "code",
   "execution_count": 5,
   "id": "17cfe7c3",
   "metadata": {},
   "outputs": [
    {
     "name": "stdout",
     "output_type": "stream",
     "text": [
      "4\n"
     ]
    }
   ],
   "source": [
    "print(multiply(2,2))"
   ]
  },
  {
   "cell_type": "code",
   "execution_count": 8,
   "id": "aebe6b17",
   "metadata": {},
   "outputs": [],
   "source": [
    "def subtraction(a,b):\n",
    "    return a-b"
   ]
  },
  {
   "cell_type": "code",
   "execution_count": 9,
   "id": "9d9caac3",
   "metadata": {},
   "outputs": [],
   "source": [
    "def div(a,b):\n",
    "    return a/b"
   ]
  },
  {
   "cell_type": "code",
   "execution_count": 11,
   "id": "3438c9f8",
   "metadata": {},
   "outputs": [],
   "source": [
    "def greet():\n",
    "    return \"HELLO welocome to our calculator.\""
   ]
  },
  {
   "cell_type": "code",
   "execution_count": 19,
   "id": "51fe5865",
   "metadata": {},
   "outputs": [],
   "source": [
    "def greet_with_name(name):\n",
    "    return f\"hello {name}\""
   ]
  },
  {
   "cell_type": "code",
   "execution_count": 20,
   "id": "a0b63815",
   "metadata": {},
   "outputs": [
    {
     "name": "stdout",
     "output_type": "stream",
     "text": [
      "hello abc\n"
     ]
    }
   ],
   "source": [
    "print(greet_with_name('abc'))"
   ]
  },
  {
   "cell_type": "markdown",
   "id": "384ab83c",
   "metadata": {},
   "source": [
    "---\n",
    "    ****\n",
    "    ****\n",
    "    ****\n",
    "    ****\n",
    "    \n",
    " ---"
   ]
  },
  {
   "cell_type": "code",
   "execution_count": 23,
   "id": "e7e18098",
   "metadata": {},
   "outputs": [],
   "source": [
    "def print_square(n):\n",
    "    for i in range(n):\n",
    "        for j in range(n):\n",
    "            print(\"X \",end=\"\")\n",
    "        print()"
   ]
  },
  {
   "cell_type": "code",
   "execution_count": 24,
   "id": "14a41d6c",
   "metadata": {},
   "outputs": [
    {
     "name": "stdout",
     "output_type": "stream",
     "text": [
      "X X X X X X \n",
      "X X X X X X \n",
      "X X X X X X \n",
      "X X X X X X \n",
      "X X X X X X \n",
      "X X X X X X \n"
     ]
    }
   ],
   "source": [
    "print_square(6)"
   ]
  },
  {
   "cell_type": "code",
   "execution_count": 25,
   "id": "ddbf0e4a",
   "metadata": {},
   "outputs": [
    {
     "name": "stdout",
     "output_type": "stream",
     "text": [
      "X X X X \n",
      "X X X X \n",
      "X X X X \n",
      "X X X X \n"
     ]
    }
   ],
   "source": [
    "print_square(4)"
   ]
  },
  {
   "cell_type": "markdown",
   "id": "dd27d33d",
   "metadata": {},
   "source": [
    "    1\n",
    "   1 1\n",
    "  1 2 1\n",
    " 1 3 3 1\n",
    "1 4 6 4 1"
   ]
  },
  {
   "cell_type": "code",
   "execution_count": 41,
   "id": "758e8e1e",
   "metadata": {},
   "outputs": [],
   "source": [
    "def print_triangle(n):\n",
    "    for i in range(1,n+1):\n",
    "        for space in range(n-i):\n",
    "            print(\" \",end=\"\")\n",
    "        for pattern in range(i ):\n",
    "            print(\"* \",end=\"\")\n",
    "        print()     "
   ]
  },
  {
   "cell_type": "code",
   "execution_count": 42,
   "id": "0211f04c",
   "metadata": {},
   "outputs": [
    {
     "name": "stdout",
     "output_type": "stream",
     "text": [
      "         * \n",
      "        * * \n",
      "       * * * \n",
      "      * * * * \n",
      "     * * * * * \n",
      "    * * * * * * \n",
      "   * * * * * * * \n",
      "  * * * * * * * * \n",
      " * * * * * * * * * \n",
      "* * * * * * * * * * \n"
     ]
    }
   ],
   "source": [
    "print_triangle(10)"
   ]
  },
  {
   "cell_type": "code",
   "execution_count": null,
   "id": "96701251",
   "metadata": {},
   "outputs": [],
   "source": []
  },
  {
   "cell_type": "code",
   "execution_count": null,
   "id": "23c736fc",
   "metadata": {},
   "outputs": [],
   "source": []
  },
  {
   "cell_type": "code",
   "execution_count": null,
   "id": "93eaa8b1",
   "metadata": {},
   "outputs": [],
   "source": []
  },
  {
   "cell_type": "code",
   "execution_count": 16,
   "id": "a971d283",
   "metadata": {},
   "outputs": [],
   "source": [
    "def main():\n",
    "    print(greet())\n",
    "    \n",
    "    op = input(\"Enter the operation you want to perform.\")\n",
    "    if op == '+':\n",
    "        a = int(input(\"ENTER First number : \"))\n",
    "        b = int(input(\"ENTER second number : \"))\n",
    "        return add_numbers(a,b)\n",
    "    \n",
    "    if op == '-':\n",
    "        a = int(input(\"ENTER First number : \"))\n",
    "        b = int(input(\"ENTER second number : \"))\n",
    "        return subtraction(a,b)\n",
    "    \n",
    "    if op == '*':\n",
    "        a = int(input(\"ENTER First number : \"))\n",
    "        b = int(input(\"ENTER second number : \"))\n",
    "        return multiply(a,b)\n",
    "    if op == '/':\n",
    "        a = int(input(\"ENTER First number : \"))\n",
    "        b = int(input(\"ENTER second number : \"))\n",
    "        return div(a,b)\n",
    "    \n",
    "    "
   ]
  },
  {
   "cell_type": "code",
   "execution_count": 18,
   "id": "6b83535f",
   "metadata": {},
   "outputs": [
    {
     "name": "stdout",
     "output_type": "stream",
     "text": [
      "HELLO welocome to our calculator.\n",
      "Enter the operation you want to perform.-\n",
      "ENTER First number : 9\n",
      "ENTER second number : 8\n",
      "1\n"
     ]
    }
   ],
   "source": [
    "print(main())"
   ]
  },
  {
   "cell_type": "code",
   "execution_count": null,
   "id": "40fc0f08",
   "metadata": {},
   "outputs": [],
   "source": [
    "def example_function():\n",
    "    x = 10  # Local variable, only accessible inside this function\n",
    "    print(x)\n",
    "\n",
    "x = 5  # Global variable\n",
    "example_function()  # Output: 10\n",
    "print(x)  # Output: 5\n"
   ]
  },
  {
   "cell_type": "code",
   "execution_count": null,
   "id": "8313e092",
   "metadata": {},
   "outputs": [],
   "source": []
  },
  {
   "cell_type": "code",
   "execution_count": 21,
   "id": "de453d65",
   "metadata": {},
   "outputs": [
    {
     "name": "stdout",
     "output_type": "stream",
     "text": [
      "HELLO welocome to our calculator.\n",
      "Enter the operation you want to perform.-\n",
      "ENTER First number : 2\n",
      "ENTER second number : 4\n"
     ]
    },
    {
     "data": {
      "text/plain": [
       "-2"
      ]
     },
     "execution_count": 21,
     "metadata": {},
     "output_type": "execute_result"
    }
   ],
   "source": [
    "main()"
   ]
  }
 ],
 "metadata": {
  "kernelspec": {
   "display_name": "Python 3 (ipykernel)",
   "language": "python",
   "name": "python3"
  },
  "language_info": {
   "codemirror_mode": {
    "name": "ipython",
    "version": 3
   },
   "file_extension": ".py",
   "mimetype": "text/x-python",
   "name": "python",
   "nbconvert_exporter": "python",
   "pygments_lexer": "ipython3",
   "version": "3.9.16"
  }
 },
 "nbformat": 4,
 "nbformat_minor": 5
}
