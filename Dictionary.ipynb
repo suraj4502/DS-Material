{
 "cells": [
  {
   "cell_type": "markdown",
   "id": "16c0fda9",
   "metadata": {},
   "source": [
    "# DICTIONARY ⇨\n",
    "- A dictionary is a data structure that allows you to store and retrieve data using unique keys. \n",
    "- It is denoted by curly braces `{}` and consists of key-value pairs separated by colons `:`. \n",
    "- The keys are used to identify and access the corresponding values.\n",
    "\n",
    "- general syntax to create a dictionary:\n",
    "---\n",
    "\n",
    "<span style=\"color: green;\">my_dict = {key1: value1, key2: value2, key3: value3, ...}</span>\n",
    "\n",
    "--- \n",
    "\n",
    "\n",
    "- In the simplest manner, a dictionary in Python is like a phone book. \n",
    "- Just like a phone book has names and phone numbers, a dictionary has keys and values. \n",
    "- Each key is unique and corresponds to a specific value."
   ]
  },
  {
   "cell_type": "code",
   "execution_count": null,
   "id": "f2190f1f",
   "metadata": {},
   "outputs": [],
   "source": [
    "shopping_list = {'bread':3,'milk':1,'apples':6}"
   ]
  },
  {
   "cell_type": "code",
   "execution_count": null,
   "id": "f45d9666",
   "metadata": {},
   "outputs": [],
   "source": [
    "# EXAMPLE OF A DICTIONARY\n",
    "phone_book = {\"Alice\": \"123-456-7890\", \"Bob\": \"987-654-3210\", \"Charlie\": \"555-123-4567\"}"
   ]
  },
  {
   "cell_type": "markdown",
   "id": "d3a144cc",
   "metadata": {},
   "source": [
    "---\n",
    "`If you want to find Alice's phone number, you can use the key \"Alice\" to get her phone number from the dictionary.`\n",
    "\n"
   ]
  },
  {
   "cell_type": "code",
   "execution_count": null,
   "id": "d06b714b",
   "metadata": {},
   "outputs": [],
   "source": [
    "print(phone_book[\"Alice\"])  # Output: 123-456-7890"
   ]
  },
  {
   "cell_type": "code",
   "execution_count": null,
   "id": "4a838794",
   "metadata": {},
   "outputs": [],
   "source": [
    "phone_book['Bob']"
   ]
  },
  {
   "cell_type": "markdown",
   "id": "10e05633",
   "metadata": {},
   "source": [
    "--- \n",
    "### 1. Adding an entry: \n",
    "- You can add a new entry to a dictionary by assigning a value to a new key."
   ]
  },
  {
   "cell_type": "code",
   "execution_count": null,
   "id": "5d58a74e",
   "metadata": {},
   "outputs": [],
   "source": [
    "phone_book[\"Eve\"] = \"111-222-3333\""
   ]
  },
  {
   "cell_type": "code",
   "execution_count": null,
   "id": "9e2242b1",
   "metadata": {},
   "outputs": [],
   "source": [
    "phone_book"
   ]
  },
  {
   "cell_type": "markdown",
   "id": "db277f8c",
   "metadata": {},
   "source": [
    "--- \n",
    "### 2. Changing a value :\n",
    "- You can change the value associated with a key."
   ]
  },
  {
   "cell_type": "code",
   "execution_count": null,
   "id": "f5131c3f",
   "metadata": {},
   "outputs": [],
   "source": [
    "phone_book"
   ]
  },
  {
   "cell_type": "code",
   "execution_count": null,
   "id": "2fa9545f",
   "metadata": {},
   "outputs": [],
   "source": [
    "phone_book[\"Bob\"] = \"555-555-5555\""
   ]
  },
  {
   "cell_type": "code",
   "execution_count": null,
   "id": "6a81545d",
   "metadata": {},
   "outputs": [],
   "source": [
    "phone_book"
   ]
  },
  {
   "cell_type": "markdown",
   "id": "3f1e4055",
   "metadata": {},
   "source": [
    "--- \n",
    "### 3.Removing an entry: \n",
    "- You can remove an entry from the dictionary using the del keyword."
   ]
  },
  {
   "cell_type": "code",
   "execution_count": null,
   "id": "d9215f91",
   "metadata": {},
   "outputs": [],
   "source": [
    "del phone_book[\"Charlie\"]"
   ]
  },
  {
   "cell_type": "code",
   "execution_count": null,
   "id": "4d364417",
   "metadata": {},
   "outputs": [],
   "source": [
    "phone_book"
   ]
  },
  {
   "cell_type": "markdown",
   "id": "85f17e58",
   "metadata": {},
   "source": [
    "--- \n",
    "### 4.Checking if a key exists: \n",
    "- You can check if a key exists in the dictionary using the in keyword."
   ]
  },
  {
   "cell_type": "code",
   "execution_count": null,
   "id": "e2493c12",
   "metadata": {},
   "outputs": [],
   "source": [
    "phone_book"
   ]
  },
  {
   "cell_type": "code",
   "execution_count": null,
   "id": "4c4468ae",
   "metadata": {},
   "outputs": [],
   "source": [
    "if \"Alice\" in phone_book:\n",
    "    print(\"Alice's phone number:\", phone_book[\"Alice\"])\n",
    "else:\n",
    "    print(\"Alice is not in the phone book.\")\n"
   ]
  },
  {
   "cell_type": "markdown",
   "id": "18d88d31",
   "metadata": {},
   "source": [
    "--- \n",
    "### 5. Getting the number of entries: \n",
    "- You can find out how many entries (key-value pairs) are in the dictionary using the len() function."
   ]
  },
  {
   "cell_type": "code",
   "execution_count": null,
   "id": "40c644e3",
   "metadata": {},
   "outputs": [],
   "source": [
    "print(\"Number of entries in the phone book:\", len(phone_book))"
   ]
  },
  {
   "cell_type": "markdown",
   "id": "f89c3017",
   "metadata": {},
   "source": [
    "--- \n",
    "### 6. Iterating over the dictionary: \n",
    "- You can iterate over the keys or values of a dictionary using a loop. \n",
    "- For example, let's print all the names and phone numbers in the phone book."
   ]
  },
  {
   "cell_type": "code",
   "execution_count": 4,
   "id": "0e507dae",
   "metadata": {},
   "outputs": [
    {
     "name": "stdout",
     "output_type": "stream",
     "text": [
      "Alice : 123-456-7890\n",
      "Bob : 123-456-7890\n",
      "Charlie : 123-456-7890\n"
     ]
    }
   ],
   "source": [
    "phone_book = {\"Alice\": \"123-456-7890\", \"Bob\": \"987-654-3210\", \"Charlie\": \"555-123-4567\"}\n",
    "\n",
    "for name in phone_book:\n",
    "    phone_number = phone_book['Alice']\n",
    "    print(name, \":\", phone_number)\n"
   ]
  },
  {
   "cell_type": "code",
   "execution_count": 5,
   "id": "3d6d4c4c",
   "metadata": {},
   "outputs": [
    {
     "data": {
      "text/plain": [
       "dict_items([('Alice', '123-456-7890'), ('Bob', '987-654-3210'), ('Charlie', '555-123-4567')])"
      ]
     },
     "execution_count": 5,
     "metadata": {},
     "output_type": "execute_result"
    }
   ],
   "source": [
    "phone_book.items()"
   ]
  },
  {
   "cell_type": "code",
   "execution_count": 6,
   "id": "d782d940",
   "metadata": {},
   "outputs": [
    {
     "name": "stdout",
     "output_type": "stream",
     "text": [
      "Alice  :  123-456-7890\n",
      "Bob  :  987-654-3210\n",
      "Charlie  :  555-123-4567\n"
     ]
    }
   ],
   "source": [
    "for key,value in phone_book.items():\n",
    "    print(key,\" : \",value)"
   ]
  },
  {
   "cell_type": "code",
   "execution_count": 11,
   "id": "25a688b8",
   "metadata": {},
   "outputs": [],
   "source": [
    "keys = ['alice','bob']\n",
    "value = 'null'\n",
    "my_dict = dict.fromkeys(keys, value)"
   ]
  },
  {
   "cell_type": "code",
   "execution_count": 14,
   "id": "6144ebcc",
   "metadata": {},
   "outputs": [
    {
     "data": {
      "text/plain": [
       "dict_items"
      ]
     },
     "execution_count": 14,
     "metadata": {},
     "output_type": "execute_result"
    }
   ],
   "source": [
    "type(my_dict.items())"
   ]
  },
  {
   "cell_type": "code",
   "execution_count": 15,
   "id": "76b02ab4",
   "metadata": {},
   "outputs": [
    {
     "data": {
      "text/plain": [
       "dict_keys(['alice', 'bob'])"
      ]
     },
     "execution_count": 15,
     "metadata": {},
     "output_type": "execute_result"
    }
   ],
   "source": [
    "my_dict.keys()"
   ]
  },
  {
   "cell_type": "code",
   "execution_count": 16,
   "id": "0aa63778",
   "metadata": {},
   "outputs": [
    {
     "data": {
      "text/plain": [
       "dict_values(['null', 'null'])"
      ]
     },
     "execution_count": 16,
     "metadata": {},
     "output_type": "execute_result"
    }
   ],
   "source": [
    "my_dict.values()"
   ]
  },
  {
   "cell_type": "code",
   "execution_count": 18,
   "id": "f6a3feb8",
   "metadata": {},
   "outputs": [
    {
     "data": {
      "text/plain": [
       "('bob', 'null')"
      ]
     },
     "execution_count": 18,
     "metadata": {},
     "output_type": "execute_result"
    }
   ],
   "source": [
    "my_dict.popitem()"
   ]
  },
  {
   "cell_type": "code",
   "execution_count": 19,
   "id": "ad272e25",
   "metadata": {},
   "outputs": [
    {
     "data": {
      "text/plain": [
       "{'alice': 'null'}"
      ]
     },
     "execution_count": 19,
     "metadata": {},
     "output_type": "execute_result"
    }
   ],
   "source": [
    "my_dict"
   ]
  },
  {
   "cell_type": "code",
   "execution_count": 20,
   "id": "ea83e4a0",
   "metadata": {},
   "outputs": [
    {
     "data": {
      "text/plain": [
       "{'Bob': '987-654-3210', 'Charlie': '555-123-4567'}"
      ]
     },
     "execution_count": 20,
     "metadata": {},
     "output_type": "execute_result"
    }
   ],
   "source": [
    "phone_book = {\"Alice\": \"123-456-7890\", \"Bob\": \"987-654-3210\", \"Charlie\": \"555-123-4567\"}\n",
    "\n",
    "phone_book.pop('Alice')\n",
    "\n",
    "\n",
    "\n"
   ]
  },
  {
   "cell_type": "code",
   "execution_count": 23,
   "id": "53360737",
   "metadata": {},
   "outputs": [
    {
     "data": {
      "text/plain": [
       "'987-654-3210'"
      ]
     },
     "execution_count": 23,
     "metadata": {},
     "output_type": "execute_result"
    }
   ],
   "source": [
    "phone_book.pop('Bob','Value not found')"
   ]
  },
  {
   "cell_type": "code",
   "execution_count": 24,
   "id": "4d6a9159",
   "metadata": {},
   "outputs": [
    {
     "data": {
      "text/plain": [
       "{'Charlie': '555-123-4567'}"
      ]
     },
     "execution_count": 24,
     "metadata": {},
     "output_type": "execute_result"
    }
   ],
   "source": [
    "phone_book"
   ]
  },
  {
   "cell_type": "code",
   "execution_count": 28,
   "id": "2f407bca",
   "metadata": {},
   "outputs": [
    {
     "data": {
      "text/plain": [
       "'This key is not present'"
      ]
     },
     "execution_count": 28,
     "metadata": {},
     "output_type": "execute_result"
    }
   ],
   "source": [
    "phone_book = {\"Alice\": \"123-456-7890\", \"Bob\": \"987-654-3210\", \"Charlie\": \"555-123-4567\"}\n",
    "\n",
    "phone_book.get('suraj','This key is not present')"
   ]
  },
  {
   "cell_type": "markdown",
   "id": "dac0d887",
   "metadata": {},
   "source": [
    "## Built-in Methods :\n",
    "- `clear():` Removes all key-value pairs from the dictionary. \n",
    "<br>\n",
    "\n",
    "- `copy():`Creates a shallow copy of the dictionary.\n",
    "<br>\n",
    "\n",
    "- `fromkeys(keys, value):` Creates a new dictionary with the specified keys and a common value.\n",
    "<br>\n",
    "\n",
    "- `get(key, default):` Retrieves the value associated with the key. Returns the default value if the key is not found.\n",
    "<br> \n",
    "- `items():` Returns a list of tuples containing key-value pairs.\n",
    "<br>\n",
    "\n",
    "- `keys():` Returns a list of all the keys in the dictionary.\n",
    "<br>\n",
    "\n",
    "- `pop(key, default):` Removes the key-value pair from the dictionary and returns the value. Returns the default value if the key is not found.\n",
    "<br>\n",
    "\n",
    "- `popitem():` Removes and returns an arbitrary key-value pair from the dictionary.\n",
    "<br>\n",
    "\n",
    "- `setdefault(key, default):` Retrieves the value associated with the key. If the key is not found, inserts the key with the default value.\n",
    "<br>\n",
    "\n",
    "- `update(dict2):` Updates the dictionary with the key-value pairs from another dictionary.\n",
    "<br>\n",
    "\n",
    "- `values():` Returns a list of all the values in the dictionary.\n",
    "<br>"
   ]
  },
  {
   "cell_type": "code",
   "execution_count": null,
   "id": "693693b9",
   "metadata": {},
   "outputs": [],
   "source": [
    "# clear(): Removes all key-value pairs from the dictionary.\n",
    "phone_book.clear()\n",
    "print(phone_book)  # Output: {}\n"
   ]
  },
  {
   "cell_type": "code",
   "execution_count": null,
   "id": "48e1c31d",
   "metadata": {},
   "outputs": [],
   "source": [
    "# copy():Creates a shallow copy of the dictionary.\n",
    "phone_book_copy = phone_book.copy()\n",
    "print(phone_book_copy)  # Output: {\"Alice\": \"123-456-7890\", \"Bob\": \"987-654-3210\", \"Charlie\": \"555-123-4567\"}\n"
   ]
  },
  {
   "cell_type": "code",
   "execution_count": null,
   "id": "5845a065",
   "metadata": {},
   "outputs": [],
   "source": [
    "# fromkeys(keys, value): Creates a new dictionary with the specified keys and a common value.\n",
    "\n",
    "keys = [\"Alice\", \"Bob\", \"Charlie\"]\n",
    "default_value = \"No number\"\n",
    "\n",
    "new_phone_book = dict.fromkeys(keys, default_value)\n",
    "print(new_phone_book)  # Output: {\"Alice\": \"No number\", \"Bob\": \"No number\", \"Charlie\": \"No number\"}\n"
   ]
  },
  {
   "cell_type": "code",
   "execution_count": null,
   "id": "38886364",
   "metadata": {},
   "outputs": [],
   "source": [
    "# get(key, default): Retrieves the value associated with the key. Returns the default value if the key is not found.\n",
    "\n",
    "phone_number = phone_book.get(\"Alice\", \"Unknown\")\n",
    "print(phone_number)  # Output: 123-456-7890\n",
    "\n",
    "phone_number = phone_book.get(\"David\", \"Unknown\")\n",
    "print(phone_number)  # Output: Unknown\n"
   ]
  },
  {
   "cell_type": "code",
   "execution_count": null,
   "id": "959b0322",
   "metadata": {},
   "outputs": [],
   "source": [
    "# items(): Returns a list of tuples containing key-value pairs.\n",
    "items = phone_book.items()\n",
    "print(items)  # Output: dict_items([('Alice', '123-456-7890'), ('Bob', '987-654-3210'), ('Charlie', '555-123-4567')])\n"
   ]
  },
  {
   "cell_type": "code",
   "execution_count": null,
   "id": "288b9310",
   "metadata": {},
   "outputs": [],
   "source": [
    "# keys(): Returns a list of all the keys in the dictionary.\n",
    "keys = phone_book.keys()\n",
    "print(keys)  # Output: dict_keys(['Alice', 'Bob', 'Charlie'])\n"
   ]
  },
  {
   "cell_type": "code",
   "execution_count": null,
   "id": "b9ae21ff",
   "metadata": {},
   "outputs": [],
   "source": [
    "# pop(key, default): Removes the key-value pair from the dictionary and returns the value.\n",
    "# Returns the default value if the key is not found.\n",
    "\n",
    "phone_number = phone_book.pop(\"Alice\")\n",
    "print(phone_number)  # Output: 123-456-7890\n",
    "print(phone_book)  # Output: {\"Bob\": \"987-654-3210\", \"Charlie\": \"555-123-4567\"}\n",
    "\n",
    "phone_number = phone_book.pop(\"David\", \"Not found\")\n",
    "print(phone_number)  # Output: Not found\n"
   ]
  },
  {
   "cell_type": "code",
   "execution_count": null,
   "id": "2cf7816d",
   "metadata": {},
   "outputs": [],
   "source": [
    "# popitem(): Removes and returns an arbitrary key-value pair from the dictionary.\n",
    "key, value = phone_book.popitem()\n",
    "print(key, \":\", value)  # Output: Charlie : 555-123-4567\n",
    "print(phone_book)  # Output: {\"Alice\": \"123-456-7890\", \"Bob\": \"987-654-3210\"}\n"
   ]
  },
  {
   "cell_type": "code",
   "execution_count": 34,
   "id": "c181ae66",
   "metadata": {},
   "outputs": [],
   "source": [
    "phone_book = {\"Alice\": \"123-456-7890\", \"Bob\": \"987-654-3210\", \"Charlie\": \"555-123-4567\"}"
   ]
  },
  {
   "cell_type": "code",
   "execution_count": 35,
   "id": "e2c92fc0",
   "metadata": {},
   "outputs": [
    {
     "name": "stdout",
     "output_type": "stream",
     "text": [
      "123-456-7890\n",
      "default_value\n",
      "{'Alice': '123-456-7890', 'Bob': '987-654-3210', 'Charlie': '555-123-4567', 'David': 'default_value'}\n"
     ]
    }
   ],
   "source": [
    "# setdefault(key, default): Retrieves the value associated with the key.\n",
    "# If the key is not found, inserts the key with the default value.\n",
    "\n",
    "phone_number = phone_book.setdefault(\"Alice\", \"Unknown\")\n",
    "print(phone_number)  # Output: 123-456-7890\n",
    "\n",
    "phone_number = phone_book.setdefault(\"David\", \"default_value\")\n",
    "print(phone_number)  # Output: Unknown\n",
    "print(phone_book)  # Output: {\"Alice\": \"123-456-7890\", \"Bob\": \"987-654-3210\", \"David\": \"Unknown\"}\n"
   ]
  },
  {
   "cell_type": "code",
   "execution_count": 36,
   "id": "c7d0f735",
   "metadata": {},
   "outputs": [
    {
     "name": "stdout",
     "output_type": "stream",
     "text": [
      "{'Alice': '123-456-7890', 'Bob': '987-654-3210', 'Charlie': '555-123-4567', 'David': '111-222-3333', 'Eve': '444-555-6666'}\n"
     ]
    }
   ],
   "source": [
    "# update(dict2): Updates the dictionary with the key-value pairs from another dictionary.\n",
    "\n",
    "new_entries = {\"David\": \"111-222-3333\", \"Eve\": \"444-555-6666\"}\n",
    "phone_book.update(new_entries)\n",
    "print(phone_book)  # Output: {\"Alice\": \"123-456-7890\", \"Bob\": \"987-654-3210\", \"David\": \"111-222-3333\", \"Eve\": \"444-555-6666\"}\n"
   ]
  },
  {
   "cell_type": "code",
   "execution_count": 37,
   "id": "6886ea32",
   "metadata": {},
   "outputs": [
    {
     "name": "stdout",
     "output_type": "stream",
     "text": [
      "dict_values(['123-456-7890', '987-654-3210', '555-123-4567', '111-222-3333', '444-555-6666'])\n"
     ]
    }
   ],
   "source": [
    "# values(): Returns a list of all the values in the dictionary. \n",
    "values = phone_book.values()\n",
    "print(values)  # Output: dict_values(['123-456-7890', '987-654-3210', '111-222-3333', '444-555-6666'])\n"
   ]
  },
  {
   "cell_type": "code",
   "execution_count": 2,
   "id": "9a043815",
   "metadata": {},
   "outputs": [],
   "source": [
    "dict_ = {\"key\":'value'}"
   ]
  },
  {
   "cell_type": "code",
   "execution_count": 3,
   "id": "7fb759f7",
   "metadata": {},
   "outputs": [],
   "source": [
    "dict_['key2'] = 'value2'"
   ]
  },
  {
   "cell_type": "code",
   "execution_count": 4,
   "id": "8cb2aeee",
   "metadata": {},
   "outputs": [
    {
     "data": {
      "text/plain": [
       "{'key': 'value', 'key2': 'value2'}"
      ]
     },
     "execution_count": 4,
     "metadata": {},
     "output_type": "execute_result"
    }
   ],
   "source": [
    "dict_"
   ]
  },
  {
   "cell_type": "code",
   "execution_count": 5,
   "id": "e37c70a7",
   "metadata": {},
   "outputs": [],
   "source": [
    "dict_['key'] = 'velue'"
   ]
  },
  {
   "cell_type": "code",
   "execution_count": 6,
   "id": "cf90f95b",
   "metadata": {},
   "outputs": [
    {
     "data": {
      "text/plain": [
       "{'key': 'velue', 'key2': 'value2'}"
      ]
     },
     "execution_count": 6,
     "metadata": {},
     "output_type": "execute_result"
    }
   ],
   "source": [
    "dict_"
   ]
  },
  {
   "cell_type": "code",
   "execution_count": 12,
   "id": "df52a249",
   "metadata": {},
   "outputs": [],
   "source": [
    "numbers = [1,2,3,4,5,6,1,1,2,2,4,4,4,4,4]\n",
    "# find mode of the above sequence"
   ]
  },
  {
   "cell_type": "code",
   "execution_count": null,
   "id": "29a9b2b0",
   "metadata": {},
   "outputs": [],
   "source": []
  },
  {
   "cell_type": "code",
   "execution_count": null,
   "id": "6144c8eb",
   "metadata": {},
   "outputs": [],
   "source": []
  },
  {
   "cell_type": "code",
   "execution_count": null,
   "id": "8dbc5b59",
   "metadata": {},
   "outputs": [],
   "source": []
  },
  {
   "cell_type": "code",
   "execution_count": null,
   "id": "af84162b",
   "metadata": {},
   "outputs": [],
   "source": []
  },
  {
   "cell_type": "code",
   "execution_count": null,
   "id": "20771c7a",
   "metadata": {},
   "outputs": [],
   "source": []
  },
  {
   "cell_type": "code",
   "execution_count": null,
   "id": "55ab5223",
   "metadata": {},
   "outputs": [],
   "source": []
  },
  {
   "cell_type": "code",
   "execution_count": null,
   "id": "a89c4281",
   "metadata": {},
   "outputs": [],
   "source": []
  },
  {
   "cell_type": "code",
   "execution_count": null,
   "id": "9542687b",
   "metadata": {},
   "outputs": [],
   "source": []
  },
  {
   "cell_type": "code",
   "execution_count": null,
   "id": "60cb1f13",
   "metadata": {},
   "outputs": [],
   "source": []
  },
  {
   "cell_type": "code",
   "execution_count": null,
   "id": "beab1639",
   "metadata": {},
   "outputs": [],
   "source": []
  },
  {
   "cell_type": "code",
   "execution_count": null,
   "id": "e8879f84",
   "metadata": {},
   "outputs": [],
   "source": []
  },
  {
   "cell_type": "code",
   "execution_count": 10,
   "id": "44966c87",
   "metadata": {},
   "outputs": [],
   "source": [
    "# find mode \n",
    "numbers = [1,2,3,4,5,6,1,1,2,2,4,4,4,4,4]\n",
    "def Find_mode(numbers):\n",
    "    result= {}\n",
    "    for i in numbers:\n",
    "        if i in result:\n",
    "            result[i] += 1\n",
    "        else:\n",
    "            result[i] = 1 \n",
    "    print(result)\n",
    "    final_result = list(sorted(result.items(),key= lambda item : item[1] ,reverse=True))\n",
    "    return (f\"The mode for the given sequence of numbers is {final_result[0][0]} occuring {final_result[0][1]} times.\")"
   ]
  },
  {
   "cell_type": "code",
   "execution_count": 11,
   "id": "3a199bc2",
   "metadata": {},
   "outputs": [
    {
     "name": "stdout",
     "output_type": "stream",
     "text": [
      "{1: 3, 2: 3, 3: 1, 4: 6, 5: 1, 6: 1}\n",
      "The mode for the given sequence of numbers is 4 occuring 6 times.\n"
     ]
    }
   ],
   "source": [
    "numbers = [1,2,3,4,5,6,1,1,2,2,4,4,4,4,4]\n",
    "print(Find_mode(numbers))"
   ]
  },
  {
   "cell_type": "markdown",
   "id": "2633f374",
   "metadata": {},
   "source": [
    "--- \n",
    "# Questions.\n",
    "1. Write a program to create a dictionary of fruits and their prices. Print the fruit with the lowest price.\n",
    "2. Write a program to create an empty dictionary and add three key-value pairs to it. Print the dictionary.\n",
    "3. Write a program that takes user input to create a dictionary of words as keys and their corresponding lengths as values. The program should continue taking input until the user enters `\"quit\"`. Finally, print the dictionary.\n",
    "4. Write a program to check if a specific key exists in a dictionary. If it does, print its value; otherwise, print a message indicating that the key is not found.\n",
    "5. Write a program to remove a key-value pair from a dictionary based on user input. If the key is found, remove it and print the updated dictionary. If the key is not found, print a message indicating that the key is not present.\n",
    "---"
   ]
  },
  {
   "cell_type": "code",
   "execution_count": null,
   "id": "687d0720",
   "metadata": {},
   "outputs": [],
   "source": [
    "suraj\n",
    "d ={'suraj':5}"
   ]
  },
  {
   "cell_type": "code",
   "execution_count": 34,
   "id": "2a2a1b28",
   "metadata": {},
   "outputs": [],
   "source": [
    "# 1\n",
    "fruits = {'apple':20,'banana':10,'cherry':14}"
   ]
  },
  {
   "cell_type": "code",
   "execution_count": 35,
   "id": "b4f5e8e8",
   "metadata": {},
   "outputs": [
    {
     "data": {
      "text/plain": [
       "20"
      ]
     },
     "execution_count": 35,
     "metadata": {},
     "output_type": "execute_result"
    }
   ],
   "source": [
    "fruits['apple']"
   ]
  },
  {
   "cell_type": "code",
   "execution_count": 39,
   "id": "b913683a",
   "metadata": {},
   "outputs": [],
   "source": [
    "sorted_fruits = sorted(fruits,key= lambda x : fruits[x])"
   ]
  },
  {
   "cell_type": "code",
   "execution_count": 40,
   "id": "b96885df",
   "metadata": {},
   "outputs": [
    {
     "data": {
      "text/plain": [
       "['banana', 'cherry', 'apple']"
      ]
     },
     "execution_count": 40,
     "metadata": {},
     "output_type": "execute_result"
    }
   ],
   "source": [
    "sorted_fruits"
   ]
  },
  {
   "cell_type": "code",
   "execution_count": 41,
   "id": "b026cf1f",
   "metadata": {},
   "outputs": [
    {
     "data": {
      "text/plain": [
       "10"
      ]
     },
     "execution_count": 41,
     "metadata": {},
     "output_type": "execute_result"
    }
   ],
   "source": [
    "fruits['banana']"
   ]
  },
  {
   "cell_type": "code",
   "execution_count": 42,
   "id": "1dcf34f0",
   "metadata": {
    "scrolled": true
   },
   "outputs": [
    {
     "name": "stdout",
     "output_type": "stream",
     "text": [
      "banana  :  10\n",
      "cherry  :  14\n",
      "apple  :  20\n"
     ]
    }
   ],
   "source": [
    "for i in sorted_fruits:\n",
    "    print(i, ' : ' ,fruits[i])"
   ]
  },
  {
   "cell_type": "code",
   "execution_count": 43,
   "id": "9329a24b",
   "metadata": {},
   "outputs": [],
   "source": [
    "fruits_prices = {\n",
    "        'apple': 1.50,\n",
    "        'banana': 0.50,\n",
    "        'orange': 1.20,\n",
    "        'grape': 2.00,\n",
    "        'kiwi': 1.80\n",
    "    }"
   ]
  },
  {
   "cell_type": "code",
   "execution_count": null,
   "id": "380166f0",
   "metadata": {},
   "outputs": [],
   "source": [
    "def cheapest_fruit(fruits_prices):\n",
    "    min_price = float('inf')\n",
    "    cheapest_fruit = None\n",
    "    for fruit,price in fruits_prices.items():\n",
    "        if price < min_price:\n",
    "            min_price = price\n",
    "            cheapest_fruit = fruit\n",
    "    return cheapest_fruit,min_price\n",
    "    "
   ]
  },
  {
   "cell_type": "code",
   "execution_count": null,
   "id": "959fff35",
   "metadata": {},
   "outputs": [],
   "source": [
    "print(cheapest_fruit(fruits_prices))"
   ]
  },
  {
   "cell_type": "code",
   "execution_count": null,
   "id": "b43aa78b",
   "metadata": {},
   "outputs": [],
   "source": [
    "cheapest_fruit = min(fruits_prices,key= fruits_prices.get)\n",
    "min_price = fruits_prices[cheapest_fruit]\n",
    "print(cheapest_fruit,':',min_price)"
   ]
  },
  {
   "cell_type": "code",
   "execution_count": null,
   "id": "783c1bf4",
   "metadata": {},
   "outputs": [],
   "source": [
    "# 2\n",
    "my_dict = {}\n",
    "\n",
    "# Add key-value pairs to the dictionary\n",
    "my_dict['apple'] = 1.50\n",
    "my_dict['banana'] = 0.50\n",
    "my_dict['orange'] = 1.20\n",
    "\n",
    "# Print the dictionary\n",
    "print(my_dict)"
   ]
  },
  {
   "cell_type": "code",
   "execution_count": null,
   "id": "6dbd4f45",
   "metadata": {},
   "outputs": [],
   "source": []
  },
  {
   "cell_type": "code",
   "execution_count": 48,
   "id": "b99670c2",
   "metadata": {},
   "outputs": [],
   "source": [
    "# 3\n",
    "def main():\n",
    "    word_lengths = {}\n",
    "\n",
    "    while True:\n",
    "        word = input(\"Enter a word (or 'quit' to stop): \")\n",
    "        if word.lower() == 'quit':\n",
    "            break\n",
    "        word_lengths[word] = len(word)\n",
    "\n",
    "    print(\"\\nDictionary of word lengths:\")\n",
    "    print(word_lengths)"
   ]
  },
  {
   "cell_type": "code",
   "execution_count": 49,
   "id": "929de611",
   "metadata": {},
   "outputs": [
    {
     "name": "stdout",
     "output_type": "stream",
     "text": [
      "Enter a word (or 'quit' to stop): uugugugui4\n",
      "Enter a word (or 'quit' to stop): 54655654654564674\n",
      "Enter a word (or 'quit' to stop): \n",
      "Enter a word (or 'quit' to stop): 6\n",
      "Enter a word (or 'quit' to stop): 56;jujgyf\n",
      "Enter a word (or 'quit' to stop): hjgyf\n",
      "Enter a word (or 'quit' to stop): QUIT\n",
      "\n",
      "Dictionary of word lengths:\n",
      "{'uugugugui4': 10, '54655654654564674': 17, '': 0, '6': 1, '56;jujgyf': 9, 'hjgyf': 5}\n"
     ]
    }
   ],
   "source": [
    "main()"
   ]
  },
  {
   "cell_type": "code",
   "execution_count": 50,
   "id": "30ba9c2d",
   "metadata": {},
   "outputs": [],
   "source": [
    "# 4\n",
    "# Write a program to check if a specific key exists in a dictionary. \n",
    "# If it does, print its value; otherwise, print a message indicating that the key is not found.\n",
    "\n",
    "def check(dictionary,key):\n",
    "    ans = dictionary.get(key,'key is not found.')\n",
    "    return f\"The value of the given key is {ans}.\"\n",
    "    "
   ]
  },
  {
   "cell_type": "code",
   "execution_count": 51,
   "id": "27589ebc",
   "metadata": {},
   "outputs": [
    {
     "name": "stdout",
     "output_type": "stream",
     "text": [
      "The value of the given key is key is not found..\n"
     ]
    }
   ],
   "source": [
    "fruits_prices = {\n",
    "        'apple': 1.50,\n",
    "        'banana': 0.50,\n",
    "        'orange': 1.20,\n",
    "        'grape': 2.00,\n",
    "        'kiwi': 1.80\n",
    "    }\n",
    "print(check(fruits_prices,'oranges'))"
   ]
  },
  {
   "cell_type": "code",
   "execution_count": null,
   "id": "d6d71a35",
   "metadata": {},
   "outputs": [],
   "source": [
    "# 5\n",
    "# Write a program to remove a key-value pair from a dictionary based on user input.\n",
    "# If the key is found, remove it and print the updated dictionary. If the key is not found, print a message indicating that the key is not present.\n",
    "\n",
    "\n",
    "def rmKey(dictionary):\n",
    "    key = input(\"Enter the key to remove : \")\n",
    "    if key in dictionary:\n",
    "        ans = dictionary.pop(key,\"Key not found\")\n",
    "        print(dictionary)\n",
    "    else:\n",
    "        print(\"key not found\")"
   ]
  },
  {
   "cell_type": "code",
   "execution_count": null,
   "id": "67529d2a",
   "metadata": {},
   "outputs": [],
   "source": [
    "fruits_prices = {\n",
    "        'apple': 1.50,\n",
    "        'banana': 0.50,\n",
    "        'orange': 1.20,\n",
    "        'grape': 2.00,\n",
    "        'kiwi': 1.80\n",
    "    }"
   ]
  },
  {
   "cell_type": "code",
   "execution_count": null,
   "id": "bc270ba1",
   "metadata": {},
   "outputs": [],
   "source": [
    "rmKey(fruits_prices)"
   ]
  },
  {
   "cell_type": "code",
   "execution_count": null,
   "id": "2dfa029d",
   "metadata": {},
   "outputs": [],
   "source": []
  }
 ],
 "metadata": {
  "kernelspec": {
   "display_name": "Python 3 (ipykernel)",
   "language": "python",
   "name": "python3"
  },
  "language_info": {
   "codemirror_mode": {
    "name": "ipython",
    "version": 3
   },
   "file_extension": ".py",
   "mimetype": "text/x-python",
   "name": "python",
   "nbconvert_exporter": "python",
   "pygments_lexer": "ipython3",
   "version": "3.9.16"
  }
 },
 "nbformat": 4,
 "nbformat_minor": 5
}
