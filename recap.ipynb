{
 "cells": [
  {
   "cell_type": "code",
   "execution_count": null,
   "id": "14f3179e",
   "metadata": {},
   "outputs": [],
   "source": [
    "# loops\n",
    "==> to execute a statement n number of times.\n",
    "1. while loop\n",
    "2. for loop"
   ]
  },
  {
   "cell_type": "code",
   "execution_count": null,
   "id": "bfb90c97",
   "metadata": {},
   "outputs": [],
   "source": [
    "while ==> repeadetedly executes a statements  as along as its conditions is valid.\n"
   ]
  },
  {
   "cell_type": "code",
   "execution_count": 1,
   "id": "6cfa7952",
   "metadata": {},
   "outputs": [
    {
     "name": "stdout",
     "output_type": "stream",
     "text": [
      "1\n",
      "2\n",
      "3\n",
      "4\n",
      "5\n",
      "6\n",
      "7\n",
      "8\n",
      "9\n",
      "10\n"
     ]
    }
   ],
   "source": [
    "i = 1\n",
    "while i <=10:\n",
    "    print(i)\n",
    "    i = i +1"
   ]
  },
  {
   "cell_type": "code",
   "execution_count": 3,
   "id": "e84a606a",
   "metadata": {},
   "outputs": [
    {
     "name": "stdout",
     "output_type": "stream",
     "text": [
      "1\n",
      "2\n",
      "3\n",
      "4\n",
      "5\n",
      "6\n",
      "7\n",
      "8\n",
      "9\n",
      "10\n"
     ]
    }
   ],
   "source": [
    "# for loop == > iterates over a sequence and can access one element at a time.\n",
    "for i in range(1, 11):\n",
    "    print(i)"
   ]
  },
  {
   "cell_type": "code",
   "execution_count": null,
   "id": "705d1cc9",
   "metadata": {},
   "outputs": [],
   "source": [
    "functions ==> TO usea logic a multiple times(code reusability)"
   ]
  },
  {
   "cell_type": "code",
   "execution_count": 4,
   "id": "20ff5561",
   "metadata": {},
   "outputs": [],
   "source": [
    "def func_name(p1,p2):\n",
    "    return p1 + p2"
   ]
  },
  {
   "cell_type": "code",
   "execution_count": 6,
   "id": "d0b393b0",
   "metadata": {},
   "outputs": [
    {
     "data": {
      "text/plain": [
       "13"
      ]
     },
     "execution_count": 6,
     "metadata": {},
     "output_type": "execute_result"
    }
   ],
   "source": [
    "func_name(6,7)"
   ]
  },
  {
   "cell_type": "code",
   "execution_count": null,
   "id": "8dc15cb2",
   "metadata": {},
   "outputs": [],
   "source": [
    "lambda == > anoter way to create functions."
   ]
  },
  {
   "cell_type": "code",
   "execution_count": 7,
   "id": "535bbee6",
   "metadata": {},
   "outputs": [],
   "source": [
    "func_name = lambda x,y : x+y"
   ]
  },
  {
   "cell_type": "markdown",
   "id": "a640aef3",
   "metadata": {},
   "source": [
    "map == > applies a function to every element of a sequnce."
   ]
  },
  {
   "cell_type": "code",
   "execution_count": 8,
   "id": "69b10200",
   "metadata": {},
   "outputs": [
    {
     "data": {
      "text/plain": [
       "[6, 7, 6]"
      ]
     },
     "execution_count": 8,
     "metadata": {},
     "output_type": "execute_result"
    }
   ],
   "source": [
    "l = ['6','7','6']\n",
    "list(map(int, l))"
   ]
  },
  {
   "cell_type": "code",
   "execution_count": null,
   "id": "64e739c0",
   "metadata": {},
   "outputs": [],
   "source": [
    "filter ==> filters a sequence based on some condition."
   ]
  },
  {
   "cell_type": "code",
   "execution_count": 10,
   "id": "402a5233",
   "metadata": {},
   "outputs": [
    {
     "data": {
      "text/plain": [
       "[4, 6, 8]"
      ]
     },
     "execution_count": 10,
     "metadata": {},
     "output_type": "execute_result"
    }
   ],
   "source": [
    "l = [4,5,6,7,8,9]\n",
    "list(filter(lambda x : x%2 ==0, l))"
   ]
  },
  {
   "cell_type": "code",
   "execution_count": 13,
   "id": "62b5c1bf",
   "metadata": {},
   "outputs": [
    {
     "data": {
      "text/plain": [
       "[('a', 1), ('b', 2), ('c', 3)]"
      ]
     },
     "execution_count": 13,
     "metadata": {},
     "output_type": "execute_result"
    }
   ],
   "source": [
    "# zip ==> combines multiple data sources.\n",
    "list(zip('abc', range(1,6)))"
   ]
  },
  {
   "cell_type": "code",
   "execution_count": 16,
   "id": "458ef014",
   "metadata": {},
   "outputs": [
    {
     "data": {
      "text/plain": [
       "[(0, 5), (1, 'ggg'), (2, '7')]"
      ]
     },
     "execution_count": 16,
     "metadata": {},
     "output_type": "execute_result"
    }
   ],
   "source": [
    "l = [5,'ggg','7']\n",
    "list(enumerate(l))"
   ]
  },
  {
   "cell_type": "code",
   "execution_count": null,
   "id": "464ac36b",
   "metadata": {},
   "outputs": [],
   "source": [
    "# list == > collections of elements stored in a single variable, mutable\n",
    "# tuple ==> same as list but immutable.\n",
    "# dictionary ==> collection of key_value pairs, mutable.\n",
    "# sets ==> collecion of unique elements, partially mutable.\n",
    "# strings ==> collection of elements enclosed in \"\",''"
   ]
  },
  {
   "cell_type": "code",
   "execution_count": 17,
   "id": "a92bea1b",
   "metadata": {},
   "outputs": [],
   "source": [
    "# module and packages, \n",
    "# FIle handling.\n",
    "# Exception Handling."
   ]
  },
  {
   "cell_type": "code",
   "execution_count": null,
   "id": "c6595e3b",
   "metadata": {},
   "outputs": [],
   "source": [
    "# OOP"
   ]
  }
 ],
 "metadata": {
  "kernelspec": {
   "display_name": "Python 3 (ipykernel)",
   "language": "python",
   "name": "python3"
  },
  "language_info": {
   "codemirror_mode": {
    "name": "ipython",
    "version": 3
   },
   "file_extension": ".py",
   "mimetype": "text/x-python",
   "name": "python",
   "nbconvert_exporter": "python",
   "pygments_lexer": "ipython3",
   "version": "3.11.4"
  }
 },
 "nbformat": 4,
 "nbformat_minor": 5
}
