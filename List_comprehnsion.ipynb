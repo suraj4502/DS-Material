{
 "cells": [
  {
   "cell_type": "markdown",
   "id": "34d2d84d",
   "metadata": {},
   "source": [
    "## List Comprehension:\n",
    "\n",
    "- List comprehension is a concise way to create lists in Python by applying an expression to each item in an iterable (like a list, tuple, or range) and collecting the results into a new list. \n",
    "- It's a powerful and efficient construct for generating lists without having to write traditional loops.\n",
    "\n",
    "\n",
    "\n",
    "`new_list = [expression for item in iterable]`\n",
    "\n",
    "\n",
    "- expression: The operation you want to perform on each item in the iterable.\n",
    "- item: The individual elements from the iterable.\n",
    "- iterable: The collection of items you're iterating over."
   ]
  },
  {
   "cell_type": "code",
   "execution_count": 10,
   "id": "e422ca4c",
   "metadata": {},
   "outputs": [
    {
     "data": {
      "text/plain": [
       "[1, 4, 9, 16, 25, 36, 49, 64, 81, 100]"
      ]
     },
     "execution_count": 10,
     "metadata": {},
     "output_type": "execute_result"
    }
   ],
   "source": [
    "squares = [i**2 for i in range(1,11) ]\n",
    "squares"
   ]
  },
  {
   "cell_type": "code",
   "execution_count": 1,
   "id": "fcbf0fcd",
   "metadata": {},
   "outputs": [
    {
     "data": {
      "text/plain": [
       "[1, 4, 9, 16, 25, 36, 49, 64, 81, 100]"
      ]
     },
     "execution_count": 1,
     "metadata": {},
     "output_type": "execute_result"
    }
   ],
   "source": [
    "squares = []\n",
    "for i in range(1,11):\n",
    "    squares.append(i**2)\n",
    "\n",
    "squares"
   ]
  },
  {
   "cell_type": "code",
   "execution_count": 1,
   "id": "588db1db",
   "metadata": {},
   "outputs": [
    {
     "name": "stdout",
     "output_type": "stream",
     "text": [
      "[1, 4, 9, 16, 25]\n"
     ]
    }
   ],
   "source": [
    "# Creating a List of Squares\n",
    "squares = [x ** 2 for x in range(1, 6)]\n",
    "print(squares)"
   ]
  },
  {
   "cell_type": "code",
   "execution_count": 2,
   "id": "48afc0a6",
   "metadata": {},
   "outputs": [
    {
     "name": "stdout",
     "output_type": "stream",
     "text": [
      "[2, 4, 6, 2, 2, 90, 12]\n"
     ]
    }
   ],
   "source": [
    "my_list = [2,3,4,5,6,71,2,2,90,12]\n",
    "\n",
    "even_nums = []\n",
    "for i in my_list:\n",
    "    if i % 2 == 0:\n",
    "        even_nums.append(i)\n",
    "        \n",
    "print(even_nums)"
   ]
  },
  {
   "cell_type": "code",
   "execution_count": 5,
   "id": "cf0b6a72",
   "metadata": {},
   "outputs": [
    {
     "data": {
      "text/plain": [
       "[2, 4, 6, 2, 2, 90, 12]"
      ]
     },
     "execution_count": 5,
     "metadata": {},
     "output_type": "execute_result"
    }
   ],
   "source": [
    "# Filtering Even Numbers\n",
    "even_nums = [i for i in my_list if i %2 == 0]\n",
    "even_nums"
   ]
  },
  {
   "cell_type": "code",
   "execution_count": 4,
   "id": "9a919bca",
   "metadata": {},
   "outputs": [
    {
     "name": "stdout",
     "output_type": "stream",
     "text": [
      "['hh', 'uu', 'mm', 'aa', 'nn']\n"
     ]
    }
   ],
   "source": [
    "h_letters = []\n",
    "\n",
    "for letter in 'human':\n",
    "    h_letters.append(letter*2)\n",
    "\n",
    "print(h_letters)"
   ]
  },
  {
   "cell_type": "code",
   "execution_count": 7,
   "id": "f6b243e1",
   "metadata": {},
   "outputs": [
    {
     "data": {
      "text/plain": [
       "['hh', 'uu', 'mm', 'nn']"
      ]
     },
     "execution_count": 7,
     "metadata": {},
     "output_type": "execute_result"
    }
   ],
   "source": [
    "h_letters = [letter*2 for letter in 'human' if letter != 'a']\n",
    "h_letters"
   ]
  },
  {
   "cell_type": "code",
   "execution_count": 17,
   "id": "708e24d8",
   "metadata": {},
   "outputs": [
    {
     "name": "stdout",
     "output_type": "stream",
     "text": [
      "[0, 10, 20, 30, 40, 50, 60, 70, 80, 90]\n"
     ]
    }
   ],
   "source": [
    "num_list = [y for y in range(100) if y%2 ==0 if y%5==0]\n",
    "print(num_list)"
   ]
  },
  {
   "cell_type": "code",
   "execution_count": 19,
   "id": "4e7c0ad5",
   "metadata": {},
   "outputs": [
    {
     "data": {
      "text/plain": [
       "['Even', 'Odd', 'Even', 'Odd', 'Odd']"
      ]
     },
     "execution_count": 19,
     "metadata": {},
     "output_type": "execute_result"
    }
   ],
   "source": [
    "l = [4,5,6,1,3]\n",
    "n = ['Even' if i%2 == 0 else \"Odd\" for i in l]\n",
    "n"
   ]
  },
  {
   "cell_type": "code",
   "execution_count": 21,
   "id": "facff692",
   "metadata": {},
   "outputs": [
    {
     "data": {
      "text/plain": [
       "['Even', 'ODD', 'Even', 'ODD', 'ODD']"
      ]
     },
     "execution_count": 21,
     "metadata": {},
     "output_type": "execute_result"
    }
   ],
   "source": [
    "n=[]\n",
    "for i in l:\n",
    "    if i%2 ==0:\n",
    "        n.append(\"Even\")\n",
    "    else:\n",
    "        n.append(\"ODD\")\n",
    "n"
   ]
  },
  {
   "cell_type": "code",
   "execution_count": null,
   "id": "a2b00cba",
   "metadata": {},
   "outputs": [],
   "source": [
    "my_list = [2,3,4,5,6,71,2,2,90,12]\n",
    "even_nums = [i for i in my_list if (i%2) == 0]\n",
    "# for i in my_list:\n",
    "#     if i % 2 == 0:\n",
    "#         even_nums.append(i)\n",
    "        \n",
    "print(even_nums)"
   ]
  },
  {
   "cell_type": "code",
   "execution_count": null,
   "id": "1b1ec5a5",
   "metadata": {},
   "outputs": [],
   "source": [
    "new_list = [i for i in range(11)  if i % 2 ==0 ]\n",
    "# for i in range(11):\n",
    "#     if (i%2)==0:\n",
    "#         new_list.append(i)\n",
    "print(new_list)"
   ]
  },
  {
   "cell_type": "code",
   "execution_count": 22,
   "id": "03be1e07",
   "metadata": {},
   "outputs": [
    {
     "name": "stdout",
     "output_type": "stream",
     "text": [
      "[1, 2, 3]\n",
      "[1, 2, 3]\n",
      "[1, 2, 3]\n"
     ]
    }
   ],
   "source": [
    "matrix_wali_list = []\n",
    "\n",
    "for i in range(3):\n",
    "    sublist = []\n",
    "    for j in range(1,4):\n",
    "        sublist.append(j)\n",
    "    matrix_wali_list.append(sublist)\n",
    "    \n",
    "for i in matrix_wali_list:\n",
    "    print(i)"
   ]
  },
  {
   "cell_type": "code",
   "execution_count": null,
   "id": "fc3ae6ba",
   "metadata": {},
   "outputs": [],
   "source": [
    "matrix = []\n",
    "\n",
    "for row in range(3):\n",
    "\n",
    "\t# Append an empty sublist inside the list\n",
    "\tmatrix.append([])\n",
    "\n",
    "\tfor column in range(3):\n",
    "\t\tmatrix[row].append(column)\n",
    "\n",
    "for i in matrix:\n",
    "    print(i)\n"
   ]
  },
  {
   "cell_type": "code",
   "execution_count": 24,
   "id": "23658e9e",
   "metadata": {},
   "outputs": [
    {
     "data": {
      "text/plain": [
       "[[1, 2, 3], [1, 2, 3], [1, 2, 3]]"
      ]
     },
     "execution_count": 24,
     "metadata": {},
     "output_type": "execute_result"
    }
   ],
   "source": [
    "[[j for j in range(1,4)] for i in range(3)]"
   ]
  },
  {
   "cell_type": "code",
   "execution_count": 26,
   "id": "85761550",
   "metadata": {},
   "outputs": [
    {
     "data": {
      "text/plain": [
       "[[1, 2, 3], [1, 2, 3], [1, 2, 3]]"
      ]
     },
     "execution_count": 26,
     "metadata": {},
     "output_type": "execute_result"
    }
   ],
   "source": [
    "m = [[j for j in range(1,4)] for i in range(3)]\n",
    "m"
   ]
  },
  {
   "cell_type": "code",
   "execution_count": 28,
   "id": "fa831176",
   "metadata": {},
   "outputs": [
    {
     "data": {
      "text/plain": [
       "[27, 64, 125, 216, 512]"
      ]
     },
     "execution_count": 28,
     "metadata": {},
     "output_type": "execute_result"
    }
   ],
   "source": [
    "# map --> \n",
    "l = [3,4,5,6,8]\n",
    "list(map(lambda x : x**3,l))"
   ]
  },
  {
   "cell_type": "code",
   "execution_count": null,
   "id": "5ad7e332",
   "metadata": {},
   "outputs": [],
   "source": []
  },
  {
   "cell_type": "code",
   "execution_count": null,
   "id": "04d6d1e9",
   "metadata": {},
   "outputs": [],
   "source": [
    "l = [\"Even number\" if i % 2 == 0 else \"Odd number\" for i in range(8)]\n",
    "print(l)"
   ]
  },
  {
   "cell_type": "code",
   "execution_count": null,
   "id": "c67febf1",
   "metadata": {},
   "outputs": [],
   "source": [
    "string = 'BATMAN_qwwj'\n",
    "l = [character for character in string]\n",
    "# for i in string:\n",
    "#     l.append(i)\n",
    "print(l)"
   ]
  },
  {
   "cell_type": "code",
   "execution_count": null,
   "id": "f500c03b",
   "metadata": {},
   "outputs": [],
   "source": [
    "lambda n : n ** 2"
   ]
  },
  {
   "cell_type": "code",
   "execution_count": null,
   "id": "2cbb846d",
   "metadata": {},
   "outputs": [],
   "source": [
    "def square(n):\n",
    "    return n **2"
   ]
  }
 ],
 "metadata": {
  "kernelspec": {
   "display_name": "Python 3 (ipykernel)",
   "language": "python",
   "name": "python3"
  },
  "language_info": {
   "codemirror_mode": {
    "name": "ipython",
    "version": 3
   },
   "file_extension": ".py",
   "mimetype": "text/x-python",
   "name": "python",
   "nbconvert_exporter": "python",
   "pygments_lexer": "ipython3",
   "version": "3.9.16"
  }
 },
 "nbformat": 4,
 "nbformat_minor": 5
}
