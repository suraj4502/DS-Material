{
 "cells": [
  {
   "cell_type": "markdown",
   "id": "e2efd1f1",
   "metadata": {},
   "source": [
    "# SET :\n",
    "- A set is an unordered collection of unique elements. \n",
    "- It is similar to a list or a tuple, but unlike lists and tuples, sets do not allow duplicate values. - Sets are defined using curly braces `{}` or the `set()` constructor. \n",
    "- Sets are useful when you want to perform mathematical set operations like union, intersection, and difference.\n",
    "- A set itself may be modified, but the elements contained in the set must be of an immutable type."
   ]
  },
  {
   "cell_type": "markdown",
   "id": "751f466c",
   "metadata": {},
   "source": [
    "---\n",
    "## Creating a set :\n"
   ]
  },
  {
   "cell_type": "code",
   "execution_count": 7,
   "id": "acfd8897",
   "metadata": {},
   "outputs": [],
   "source": [
    "l = {4,5,6,7,811,88, 91, 44,4,5,6}"
   ]
  },
  {
   "cell_type": "code",
   "execution_count": 8,
   "id": "4f8122a1",
   "metadata": {},
   "outputs": [
    {
     "data": {
      "text/plain": [
       "{4, 5, 6, 7, 44, 88, 91, 811}"
      ]
     },
     "execution_count": 8,
     "metadata": {},
     "output_type": "execute_result"
    }
   ],
   "source": [
    "l"
   ]
  },
  {
   "cell_type": "code",
   "execution_count": 9,
   "id": "087270ad",
   "metadata": {},
   "outputs": [],
   "source": [
    "l.add('abc')"
   ]
  },
  {
   "cell_type": "code",
   "execution_count": 13,
   "id": "5decf2da",
   "metadata": {},
   "outputs": [],
   "source": [
    "s = {(1,2,3,4,5)}"
   ]
  },
  {
   "cell_type": "code",
   "execution_count": 14,
   "id": "1714168b",
   "metadata": {},
   "outputs": [
    {
     "data": {
      "text/plain": [
       "{(1, 2, 3, 4, 5)}"
      ]
     },
     "execution_count": 14,
     "metadata": {},
     "output_type": "execute_result"
    }
   ],
   "source": [
    "s"
   ]
  },
  {
   "cell_type": "code",
   "execution_count": 11,
   "id": "4646e41a",
   "metadata": {},
   "outputs": [
    {
     "name": "stdout",
     "output_type": "stream",
     "text": [
      "{4, 5, 6, 7, 'abc', 811, 44, 88, 91}\n"
     ]
    }
   ],
   "source": [
    "print(l)"
   ]
  },
  {
   "cell_type": "code",
   "execution_count": 3,
   "id": "6fd06cc6",
   "metadata": {},
   "outputs": [
    {
     "data": {
      "text/plain": [
       "{1, 2, 3, 4, 5, 6}"
      ]
     },
     "execution_count": 3,
     "metadata": {},
     "output_type": "execute_result"
    }
   ],
   "source": [
    "l = [1,2,3,1,4,1,1,1,1,5,6]\n",
    "s = set(l)\n",
    "s"
   ]
  },
  {
   "cell_type": "code",
   "execution_count": 5,
   "id": "bd929b04",
   "metadata": {},
   "outputs": [
    {
     "ename": "TypeError",
     "evalue": "'set' object is not subscriptable",
     "output_type": "error",
     "traceback": [
      "\u001b[1;31m---------------------------------------------------------------------------\u001b[0m",
      "\u001b[1;31mTypeError\u001b[0m                                 Traceback (most recent call last)",
      "Cell \u001b[1;32mIn[5], line 1\u001b[0m\n\u001b[1;32m----> 1\u001b[0m s[\u001b[38;5;241m0\u001b[39m]\n",
      "\u001b[1;31mTypeError\u001b[0m: 'set' object is not subscriptable"
     ]
    }
   ],
   "source": [
    "s[0]"
   ]
  },
  {
   "cell_type": "code",
   "execution_count": 6,
   "id": "8a00ee47",
   "metadata": {},
   "outputs": [
    {
     "data": {
      "text/plain": [
       "[1, 2, 3, 4, 5, 6]"
      ]
     },
     "execution_count": 6,
     "metadata": {},
     "output_type": "execute_result"
    }
   ],
   "source": [
    "list(s)"
   ]
  },
  {
   "cell_type": "code",
   "execution_count": null,
   "id": "8a95770c",
   "metadata": {},
   "outputs": [],
   "source": [
    "# Creating a set with curly braces\n",
    "my_set = {8, 2, 3, 4, 5,5}\n",
    "print(my_set)\n",
    "\n",
    "# Creating a set with set() constructor\n",
    "another_set = set([3, 4, 5, 6, 7])\n",
    "print(another_set)"
   ]
  },
  {
   "cell_type": "code",
   "execution_count": 18,
   "id": "c3b7cb73",
   "metadata": {},
   "outputs": [
    {
     "name": "stdout",
     "output_type": "stream",
     "text": [
      "{1, 2, 99, 3, 66, 4, 5, 44, 22, 23}\n"
     ]
    }
   ],
   "source": [
    "my_set = {3, 1, 2,44,66,1,2,99,23,4,5,66,22}\n",
    "print(my_set)  "
   ]
  },
  {
   "cell_type": "code",
   "execution_count": null,
   "id": "dfb18cb7",
   "metadata": {},
   "outputs": [],
   "source": [
    "my_set"
   ]
  },
  {
   "cell_type": "code",
   "execution_count": 15,
   "id": "33388d1a",
   "metadata": {},
   "outputs": [],
   "source": [
    "s = {5,5}"
   ]
  },
  {
   "cell_type": "code",
   "execution_count": 16,
   "id": "5b274f1b",
   "metadata": {},
   "outputs": [],
   "source": [
    "s = set([4,5,4,3,2,1])"
   ]
  },
  {
   "cell_type": "code",
   "execution_count": 17,
   "id": "a2d5c71b",
   "metadata": {},
   "outputs": [
    {
     "data": {
      "text/plain": [
       "{1, 2, 3, 4, 5}"
      ]
     },
     "execution_count": 17,
     "metadata": {},
     "output_type": "execute_result"
    }
   ],
   "source": [
    "s"
   ]
  },
  {
   "cell_type": "markdown",
   "id": "1713e3bf",
   "metadata": {},
   "source": [
    "---\n",
    "### Basic Set Operations:\n",
    "\n",
    "1. `add()`: Adds an element to the set.\n",
    "2. `remove()`: Removes an element from the set. Raises a KeyError if the element is not found.\n",
    "3. `discard()`: Removes an element from the set if it exists. Does not raise an error if the element is not found.\n",
    "4. `pop()`: Removes and returns an arbitrary element from the set.\n"
   ]
  },
  {
   "cell_type": "code",
   "execution_count": 19,
   "id": "d853fd13",
   "metadata": {},
   "outputs": [
    {
     "data": {
      "text/plain": [
       "{1, 2, 3, 4, 5, 22, 23, 44, 66, 99}"
      ]
     },
     "execution_count": 19,
     "metadata": {},
     "output_type": "execute_result"
    }
   ],
   "source": [
    "my_set"
   ]
  },
  {
   "cell_type": "code",
   "execution_count": 20,
   "id": "b31d1d30",
   "metadata": {},
   "outputs": [
    {
     "name": "stdout",
     "output_type": "stream",
     "text": [
      "{1, 2, 99, 3, 66, 4, 5, 'string', 44, 22, 23}\n"
     ]
    }
   ],
   "source": [
    "my_set.add('string')\n",
    "print(my_set)  # Output: {1, 2, 3, 4, 5, 6}"
   ]
  },
  {
   "cell_type": "code",
   "execution_count": 21,
   "id": "2d60dfdb",
   "metadata": {},
   "outputs": [
    {
     "data": {
      "text/plain": [
       "{1, 2, 22, 23, 3, 4, 44, 5, 66, 99, 'string'}"
      ]
     },
     "execution_count": 21,
     "metadata": {},
     "output_type": "execute_result"
    }
   ],
   "source": [
    "my_set"
   ]
  },
  {
   "cell_type": "code",
   "execution_count": 22,
   "id": "dd2dfb0e",
   "metadata": {},
   "outputs": [
    {
     "name": "stdout",
     "output_type": "stream",
     "text": [
      "{1, 2, 99, 3, 66, 4, 5, 'string', 44, 22, 23}\n"
     ]
    }
   ],
   "source": [
    "my_set.add('string')\n",
    "print(my_set)"
   ]
  },
  {
   "cell_type": "code",
   "execution_count": 23,
   "id": "dd2cb35d",
   "metadata": {},
   "outputs": [],
   "source": [
    "my_set.remove('string')"
   ]
  },
  {
   "cell_type": "code",
   "execution_count": 24,
   "id": "4080b3eb",
   "metadata": {},
   "outputs": [
    {
     "data": {
      "text/plain": [
       "{1, 2, 3, 4, 5, 22, 23, 44, 66, 99}"
      ]
     },
     "execution_count": 24,
     "metadata": {},
     "output_type": "execute_result"
    }
   ],
   "source": [
    "my_set"
   ]
  },
  {
   "cell_type": "code",
   "execution_count": 25,
   "id": "bfb6a182",
   "metadata": {},
   "outputs": [
    {
     "ename": "KeyError",
     "evalue": "'string'",
     "output_type": "error",
     "traceback": [
      "\u001b[1;31m---------------------------------------------------------------------------\u001b[0m",
      "\u001b[1;31mKeyError\u001b[0m                                  Traceback (most recent call last)",
      "Cell \u001b[1;32mIn[25], line 1\u001b[0m\n\u001b[1;32m----> 1\u001b[0m my_set\u001b[38;5;241m.\u001b[39mremove(\u001b[38;5;124m'\u001b[39m\u001b[38;5;124mstring\u001b[39m\u001b[38;5;124m'\u001b[39m)\n\u001b[0;32m      2\u001b[0m \u001b[38;5;28mprint\u001b[39m(my_set)\n",
      "\u001b[1;31mKeyError\u001b[0m: 'string'"
     ]
    }
   ],
   "source": [
    "my_set.remove('string')\n",
    "print(my_set)"
   ]
  },
  {
   "cell_type": "code",
   "execution_count": 26,
   "id": "78aed48c",
   "metadata": {},
   "outputs": [],
   "source": [
    "my_set.discard('string')"
   ]
  },
  {
   "cell_type": "code",
   "execution_count": 27,
   "id": "0705ce7f",
   "metadata": {},
   "outputs": [
    {
     "data": {
      "text/plain": [
       "{1, 2, 3, 4, 5, 22, 23, 44, 66, 99}"
      ]
     },
     "execution_count": 27,
     "metadata": {},
     "output_type": "execute_result"
    }
   ],
   "source": [
    "my_set"
   ]
  },
  {
   "cell_type": "code",
   "execution_count": 28,
   "id": "2e8570f6",
   "metadata": {},
   "outputs": [
    {
     "name": "stdout",
     "output_type": "stream",
     "text": [
      "{1, 2, 99, 3, 66, 5, 44, 22, 23}\n"
     ]
    }
   ],
   "source": [
    "my_set.discard(4)\n",
    "print(my_set)  # Output: {1, 2, 5, 6}"
   ]
  },
  {
   "cell_type": "code",
   "execution_count": 29,
   "id": "7f413632",
   "metadata": {},
   "outputs": [
    {
     "name": "stdout",
     "output_type": "stream",
     "text": [
      "{1, 2, 99, 3, 66, 5, 44, 22, 23}\n"
     ]
    }
   ],
   "source": [
    "my_set.discard(4)\n",
    "print(my_set)"
   ]
  },
  {
   "cell_type": "code",
   "execution_count": null,
   "id": "96d4c251",
   "metadata": {},
   "outputs": [],
   "source": [
    "my_set"
   ]
  },
  {
   "cell_type": "code",
   "execution_count": 30,
   "id": "ab3c250c",
   "metadata": {},
   "outputs": [
    {
     "name": "stdout",
     "output_type": "stream",
     "text": [
      "1\n",
      "{2, 99, 3, 66, 5, 44, 22, 23}\n"
     ]
    }
   ],
   "source": [
    "popped_element = my_set.pop()\n",
    "print(popped_element)  # Output: 1\n",
    "print(my_set)  # Output: {2, 5, 6}"
   ]
  },
  {
   "cell_type": "code",
   "execution_count": 31,
   "id": "9b4eb706",
   "metadata": {},
   "outputs": [
    {
     "name": "stdout",
     "output_type": "stream",
     "text": [
      "2\n",
      "{99, 3, 66, 5, 44, 22, 23}\n"
     ]
    }
   ],
   "source": [
    "popped_element = my_set.pop()\n",
    "print(popped_element)  # Output: 1\n",
    "print(my_set) "
   ]
  },
  {
   "cell_type": "code",
   "execution_count": 32,
   "id": "b3c0caba",
   "metadata": {},
   "outputs": [
    {
     "name": "stdout",
     "output_type": "stream",
     "text": [
      "99\n",
      "{3, 66, 5, 44, 22, 23}\n"
     ]
    }
   ],
   "source": [
    "popped_element = my_set.pop()\n",
    "print(popped_element)  # Output: 1\n",
    "print(my_set)  # Output: {2, 5, 6}"
   ]
  },
  {
   "cell_type": "markdown",
   "id": "73f63170",
   "metadata": {},
   "source": [
    "---\n",
    "### Set Operations:\n",
    "\n",
    "- `union()`: Returns a new set with all the unique elements from both sets.\n",
    "- `intersection()`: Returns a new set with elements that are common in both sets.\n",
    "- `difference()`: Returns a new set with elements that are in the first set but not in the second set.\n",
    "- `symmetric_difference()`: Returns a new set with elements that are in either set but not in both.\n",
    "- `issubset()`: Checks if one set is a subset of another.\n",
    "- `issuperset()`: Checks if one set is a superset of another.\n",
    "- `clear()`: Removes all elements from the set."
   ]
  },
  {
   "cell_type": "code",
   "execution_count": 34,
   "id": "c98f9210",
   "metadata": {},
   "outputs": [],
   "source": [
    "set1 = {1, 2, 3}\n",
    "set2 = {3, 4, 5}"
   ]
  },
  {
   "cell_type": "code",
   "execution_count": 35,
   "id": "8545543c",
   "metadata": {},
   "outputs": [
    {
     "name": "stdout",
     "output_type": "stream",
     "text": [
      "{1, 2, 3, 4, 5}\n",
      "{1, 2, 3, 4, 5}\n"
     ]
    }
   ],
   "source": [
    "union_set = set1.union(set2)\n",
    "print(union_set)  # Output: {1, 2, 3, 4, 5}\n",
    "\n",
    "union_set = set1 | set2\n",
    "print(union_set)  # Output: {1, 2, 3, 4, 5}\n"
   ]
  },
  {
   "cell_type": "code",
   "execution_count": null,
   "id": "907709d7",
   "metadata": {},
   "outputs": [],
   "source": [
    "and  # logical and\n",
    "&   # bitwise and"
   ]
  },
  {
   "cell_type": "code",
   "execution_count": 36,
   "id": "afb77187",
   "metadata": {},
   "outputs": [
    {
     "name": "stdout",
     "output_type": "stream",
     "text": [
      "{3}\n",
      "{3}\n"
     ]
    }
   ],
   "source": [
    "intersection_set = set1.intersection(set2)\n",
    "print(intersection_set)  # Output: {3}\n",
    "\n",
    "intersection_set = set1 & set2\n",
    "print(intersection_set)  # Output: {3}\n"
   ]
  },
  {
   "cell_type": "code",
   "execution_count": 37,
   "id": "2b103fe2",
   "metadata": {},
   "outputs": [
    {
     "name": "stdout",
     "output_type": "stream",
     "text": [
      "{'apple'}\n",
      "{'google', 'microsoft', 'apple'}\n"
     ]
    }
   ],
   "source": [
    "x = {\"apple\", \"banana\", \"cherry\"}\n",
    "y = {\"google\", \"microsoft\", \"apple\"}\n",
    "\n",
    "x.intersection_update(y)\n",
    "# y.intersection_update(x)\n",
    "print(x)\n",
    "print(y)"
   ]
  },
  {
   "cell_type": "code",
   "execution_count": 38,
   "id": "4de30b9b",
   "metadata": {},
   "outputs": [],
   "source": [
    "set1 = set([1,2,3,5])\n",
    "set2 = set([3,5,6,6])"
   ]
  },
  {
   "cell_type": "code",
   "execution_count": 39,
   "id": "756ef6d6",
   "metadata": {},
   "outputs": [
    {
     "name": "stdout",
     "output_type": "stream",
     "text": [
      "{1, 2}\n",
      "{1, 2}\n"
     ]
    }
   ],
   "source": [
    "difference_set = set1.difference(set2)\n",
    "print(difference_set)  # Output: {1, 2}\n",
    "\n",
    "difference_set = set1 - set2\n",
    "print(difference_set)  # Output: {1, 2}\n"
   ]
  },
  {
   "cell_type": "code",
   "execution_count": 40,
   "id": "c869b7f6",
   "metadata": {},
   "outputs": [
    {
     "data": {
      "text/plain": [
       "{6}"
      ]
     },
     "execution_count": 40,
     "metadata": {},
     "output_type": "execute_result"
    }
   ],
   "source": [
    "set2 - set1\n"
   ]
  },
  {
   "cell_type": "code",
   "execution_count": 41,
   "id": "8e850237",
   "metadata": {},
   "outputs": [
    {
     "name": "stdout",
     "output_type": "stream",
     "text": [
      "{1, 2, 4, 5}\n"
     ]
    }
   ],
   "source": [
    "set1 = {1, 2, 3}\n",
    "set2 = {3, 4, 5}\n",
    "symmetric_diff_set = set1.symmetric_difference(set2)\n",
    "print(symmetric_diff_set)  # Output: {1, 2, 4, 5}"
   ]
  },
  {
   "cell_type": "code",
   "execution_count": 44,
   "id": "96c4dba5",
   "metadata": {},
   "outputs": [
    {
     "name": "stdout",
     "output_type": "stream",
     "text": [
      "True\n"
     ]
    }
   ],
   "source": [
    "set1 = {3, 5}\n",
    "set2 = {3, 4, 5}\n",
    "subset_check = set2.issuperset(set1)\n",
    "print(subset_check)  \n"
   ]
  },
  {
   "cell_type": "code",
   "execution_count": 45,
   "id": "24237a93",
   "metadata": {},
   "outputs": [
    {
     "name": "stdout",
     "output_type": "stream",
     "text": [
      "True\n"
     ]
    }
   ],
   "source": [
    "# if all elements of B are contained within A, then A is a superset of B. \n",
    "A = {1, 2, 3, 4, 5}\n",
    "B = {3, 4}\n",
    "superset_check = A.issuperset(B)\n",
    "print(superset_check)  "
   ]
  },
  {
   "cell_type": "code",
   "execution_count": 46,
   "id": "76431da0",
   "metadata": {},
   "outputs": [
    {
     "name": "stdout",
     "output_type": "stream",
     "text": [
      "set()\n"
     ]
    }
   ],
   "source": [
    "my_set.clear()\n",
    "print(my_set)  # Output: set()"
   ]
  },
  {
   "cell_type": "code",
   "execution_count": 47,
   "id": "a047226a",
   "metadata": {},
   "outputs": [
    {
     "data": {
      "text/plain": [
       "set()"
      ]
     },
     "execution_count": 47,
     "metadata": {},
     "output_type": "execute_result"
    }
   ],
   "source": [
    "my_set"
   ]
  },
  {
   "cell_type": "markdown",
   "id": "4a89c73f",
   "metadata": {},
   "source": [
    "---\n",
    "### NOTE :\n",
    "- Sets are efficient for membership tests and removing duplicates from a collection. \n",
    "- They are widely used when you need to work with a collection of unique elements and perform set operations efficiently. \n",
    "- Keep in mind that since sets are unordered, the elements will not retain their original order when printed.\n",
    "---"
   ]
  },
  {
   "cell_type": "markdown",
   "id": "23096a5a",
   "metadata": {},
   "source": [
    "# Questions :\n",
    "\n",
    "- Q. Write a Python program to find the common elements between three lists using sets.\n",
    "- Q. Write a Python program to find the unique elements in a list using sets.\n",
    "- Q. Remove an element from a set if it exists, or print a message if the element is not present.\n",
    "- Q. Write a Python program to find the second largest element in a set of integers.\n"
   ]
  },
  {
   "cell_type": "code",
   "execution_count": 71,
   "id": "36acc61b",
   "metadata": {},
   "outputs": [
    {
     "data": {
      "text/plain": [
       "101"
      ]
     },
     "execution_count": 71,
     "metadata": {},
     "output_type": "execute_result"
    }
   ],
   "source": [
    "# find second largest\n",
    "l = [44, 55, 77, 22, 101, 110,110,110]\n",
    "result = sorted(set(l),reverse=True)[1]\n",
    "result"
   ]
  },
  {
   "cell_type": "code",
   "execution_count": 73,
   "id": "62fd29c4",
   "metadata": {},
   "outputs": [],
   "source": [
    "def find_sl(l: list)-> float:\n",
    "    return sorted(set(l),reverse= True)[1]"
   ]
  },
  {
   "cell_type": "code",
   "execution_count": 77,
   "id": "a216cd62",
   "metadata": {},
   "outputs": [
    {
     "data": {
      "text/plain": [
       "66"
      ]
     },
     "execution_count": 77,
     "metadata": {},
     "output_type": "execute_result"
    }
   ],
   "source": [
    "result"
   ]
  },
  {
   "cell_type": "code",
   "execution_count": 76,
   "id": "c02c355c",
   "metadata": {},
   "outputs": [],
   "source": [
    "result = find_sl([44,55,1,2,3,66,99])"
   ]
  },
  {
   "cell_type": "code",
   "execution_count": 58,
   "id": "762a479a",
   "metadata": {},
   "outputs": [],
   "source": [
    "def rm_key(s, key):\n",
    "    if key in s:\n",
    "        s.remove(key)\n",
    "        print(s)\n",
    "    else:\n",
    "        print(\"Key isnot present.\")\n",
    "    "
   ]
  },
  {
   "cell_type": "code",
   "execution_count": 57,
   "id": "888320e2",
   "metadata": {},
   "outputs": [
    {
     "name": "stdout",
     "output_type": "stream",
     "text": [
      "element is not present.\n"
     ]
    }
   ],
   "source": [
    "s = {3,4,5,6,7,'abc','xyz'}\n",
    "key = 'c'\n",
    "\n",
    "if key in s:\n",
    "    s.remove(key)\n",
    "    print(s)\n",
    "else:\n",
    "    print(\"element is not present.\")"
   ]
  },
  {
   "cell_type": "code",
   "execution_count": 60,
   "id": "df0d9eb0",
   "metadata": {},
   "outputs": [
    {
     "name": "stdout",
     "output_type": "stream",
     "text": [
      "{0, 66, 5, 6, 78}\n"
     ]
    }
   ],
   "source": [
    "rm_key({4,5,6,78,0,66},4)"
   ]
  },
  {
   "cell_type": "code",
   "execution_count": 61,
   "id": "82bdf02f",
   "metadata": {},
   "outputs": [],
   "source": [
    "new_set = {5,6,3,2,111,33}\n",
    "key = 111"
   ]
  },
  {
   "cell_type": "code",
   "execution_count": 62,
   "id": "415334ff",
   "metadata": {},
   "outputs": [
    {
     "name": "stdout",
     "output_type": "stream",
     "text": [
      "{33, 2, 3, 5, 6}\n"
     ]
    }
   ],
   "source": [
    "rm_key(new_set,key)"
   ]
  },
  {
   "cell_type": "code",
   "execution_count": 55,
   "id": "b31fa17e",
   "metadata": {},
   "outputs": [
    {
     "name": "stdout",
     "output_type": "stream",
     "text": [
      "5\n",
      "6\n"
     ]
    }
   ],
   "source": [
    "l ={5,5,6,4,3,2,1}\n",
    "key = 4\n",
    "\n"
   ]
  },
  {
   "cell_type": "code",
   "execution_count": 53,
   "id": "30553c2c",
   "metadata": {},
   "outputs": [
    {
     "data": {
      "text/plain": [
       "{2, 3}"
      ]
     },
     "execution_count": 53,
     "metadata": {},
     "output_type": "execute_result"
    }
   ],
   "source": [
    "l1 = [2,3,4,5,6]\n",
    "l2 = [3,77,88,2,5]\n",
    "l3 = [9,10,2,3]\n",
    "\n",
    "\n",
    "result = (set(l1).intersection(set(l2))).intersection(set(l3))\n",
    "# final_result = result.intersection(set(l3))\n",
    "result"
   ]
  },
  {
   "cell_type": "code",
   "execution_count": 54,
   "id": "c7100fba",
   "metadata": {},
   "outputs": [
    {
     "data": {
      "text/plain": [
       "{3, 4, 5, 6, 7}"
      ]
     },
     "execution_count": 54,
     "metadata": {},
     "output_type": "execute_result"
    }
   ],
   "source": [
    "l = [5,5,6,7,3,4,5,6,6]\n",
    "set(l)"
   ]
  },
  {
   "cell_type": "code",
   "execution_count": null,
   "id": "387c82d7",
   "metadata": {},
   "outputs": [],
   "source": []
  },
  {
   "cell_type": "code",
   "execution_count": null,
   "id": "c096ce28",
   "metadata": {},
   "outputs": [],
   "source": []
  },
  {
   "cell_type": "code",
   "execution_count": null,
   "id": "35dcde79",
   "metadata": {},
   "outputs": [],
   "source": []
  },
  {
   "cell_type": "code",
   "execution_count": null,
   "id": "dfce15b5",
   "metadata": {},
   "outputs": [],
   "source": []
  },
  {
   "cell_type": "code",
   "execution_count": null,
   "id": "d8bfb358",
   "metadata": {},
   "outputs": [],
   "source": []
  },
  {
   "cell_type": "code",
   "execution_count": null,
   "id": "bb6705ae",
   "metadata": {},
   "outputs": [],
   "source": []
  },
  {
   "cell_type": "code",
   "execution_count": null,
   "id": "c9f59522",
   "metadata": {},
   "outputs": [],
   "source": []
  },
  {
   "cell_type": "code",
   "execution_count": null,
   "id": "47b75208",
   "metadata": {},
   "outputs": [],
   "source": []
  },
  {
   "cell_type": "code",
   "execution_count": null,
   "id": "29ea20fe",
   "metadata": {},
   "outputs": [],
   "source": []
  },
  {
   "cell_type": "code",
   "execution_count": null,
   "id": "e074874a",
   "metadata": {},
   "outputs": [],
   "source": []
  },
  {
   "cell_type": "code",
   "execution_count": null,
   "id": "e51d26c6",
   "metadata": {},
   "outputs": [],
   "source": []
  },
  {
   "cell_type": "code",
   "execution_count": null,
   "id": "8cc541b1",
   "metadata": {},
   "outputs": [],
   "source": []
  },
  {
   "cell_type": "code",
   "execution_count": null,
   "id": "5afbb592",
   "metadata": {},
   "outputs": [],
   "source": []
  },
  {
   "cell_type": "code",
   "execution_count": null,
   "id": "59871e22",
   "metadata": {},
   "outputs": [],
   "source": []
  },
  {
   "cell_type": "code",
   "execution_count": null,
   "id": "eda5fcf8",
   "metadata": {},
   "outputs": [],
   "source": []
  },
  {
   "cell_type": "code",
   "execution_count": null,
   "id": "310ecaef",
   "metadata": {},
   "outputs": [],
   "source": []
  },
  {
   "cell_type": "code",
   "execution_count": null,
   "id": "12413727",
   "metadata": {},
   "outputs": [],
   "source": []
  },
  {
   "cell_type": "code",
   "execution_count": null,
   "id": "b9541acf",
   "metadata": {},
   "outputs": [],
   "source": []
  },
  {
   "cell_type": "code",
   "execution_count": null,
   "id": "dcc040ff",
   "metadata": {},
   "outputs": [],
   "source": []
  },
  {
   "cell_type": "code",
   "execution_count": null,
   "id": "3d30066d",
   "metadata": {},
   "outputs": [],
   "source": []
  },
  {
   "cell_type": "code",
   "execution_count": null,
   "id": "690da657",
   "metadata": {},
   "outputs": [],
   "source": []
  },
  {
   "cell_type": "code",
   "execution_count": null,
   "id": "8923f4da",
   "metadata": {},
   "outputs": [],
   "source": []
  },
  {
   "cell_type": "code",
   "execution_count": null,
   "id": "10050a7f",
   "metadata": {},
   "outputs": [],
   "source": []
  },
  {
   "cell_type": "code",
   "execution_count": null,
   "id": "9b1ecf8c",
   "metadata": {},
   "outputs": [],
   "source": []
  },
  {
   "cell_type": "code",
   "execution_count": null,
   "id": "96fe4b66",
   "metadata": {},
   "outputs": [],
   "source": []
  },
  {
   "cell_type": "code",
   "execution_count": null,
   "id": "462fc189",
   "metadata": {},
   "outputs": [],
   "source": []
  },
  {
   "cell_type": "code",
   "execution_count": null,
   "id": "82cf4ec4",
   "metadata": {},
   "outputs": [],
   "source": []
  },
  {
   "cell_type": "code",
   "execution_count": null,
   "id": "43e5ed9a",
   "metadata": {},
   "outputs": [],
   "source": [
    "# Write a Python program to find the common elements between two lists using sets.\n",
    "l1 = [1,2,3,4,56,7,22,9]\n",
    "l2 = [1,2,4,5,6,72,22,1]\n",
    "\n",
    "s1 = set(l1)\n",
    "s2 = set(l2)\n",
    "s1.intersection(s2)"
   ]
  },
  {
   "cell_type": "code",
   "execution_count": null,
   "id": "e7968fb8",
   "metadata": {},
   "outputs": [],
   "source": [
    "# Write a Python program to find the unique elements in a list using sets.\n",
    "l1 = [1,2,3,4,56,7,22,9,9,9]\n",
    "l1 = set(l1)\n",
    "l1"
   ]
  },
  {
   "cell_type": "code",
   "execution_count": null,
   "id": "0a6ea4e1",
   "metadata": {},
   "outputs": [],
   "source": [
    "#  Remove an element from a set if it exists, or print a message if the element is not present.\n",
    "s = {1,2,3,4,5,6}\n",
    "key = 9\n",
    "if key in s:\n",
    "    s.remove(key)\n",
    "    print(s)\n",
    "else:\n",
    "    print(\"elements is not present\")"
   ]
  },
  {
   "cell_type": "code",
   "execution_count": null,
   "id": "fa66beef",
   "metadata": {},
   "outputs": [],
   "source": [
    "# Write a Python program to find the second largest element in a set of integers.\n",
    "\n",
    "l1 = [1,2,3,4,56,7,22,9,9,9]\n",
    "\n",
    "sh = sorted(set(l1),reverse=True)[1]\n",
    "print(sh)"
   ]
  },
  {
   "cell_type": "code",
   "execution_count": null,
   "id": "165d538e",
   "metadata": {},
   "outputs": [],
   "source": [
    "def sh(l: list):\n",
    "    return sorted(set(l),reverse=True)[1]"
   ]
  },
  {
   "cell_type": "code",
   "execution_count": null,
   "id": "7e6f962c",
   "metadata": {},
   "outputs": [],
   "source": [
    "sh([1,2,3,4,5,6,7])"
   ]
  },
  {
   "cell_type": "code",
   "execution_count": null,
   "id": "73a884c3",
   "metadata": {},
   "outputs": [],
   "source": []
  },
  {
   "cell_type": "code",
   "execution_count": null,
   "id": "5e12f7d9",
   "metadata": {},
   "outputs": [],
   "source": []
  },
  {
   "cell_type": "code",
   "execution_count": null,
   "id": "ab0de957",
   "metadata": {},
   "outputs": [],
   "source": [
    "my_list = ['abc','xyz',1,2,3]\n",
    "my_set = set(my_list)\n",
    "my_set"
   ]
  },
  {
   "cell_type": "code",
   "execution_count": null,
   "id": "778a8d83",
   "metadata": {},
   "outputs": [],
   "source": [
    "l1 = [1,2,3,66,55,77,0]\n",
    "l2= [45,33,66,77,88,9]\n",
    "\n",
    "common_elements = set(l1).intersection(set(l2))\n",
    "print(common_elements)"
   ]
  },
  {
   "cell_type": "code",
   "execution_count": null,
   "id": "e2523360",
   "metadata": {},
   "outputs": [],
   "source": [
    "l = [1,2,2,2,4,5,5,6,6,7,8,8]\n",
    "print(list(set(l)))"
   ]
  },
  {
   "cell_type": "code",
   "execution_count": null,
   "id": "5d7a8a70",
   "metadata": {},
   "outputs": [],
   "source": [
    "def present_or_not(list_,key):\n",
    "    if key in set(list_):\n",
    "        list_.remove(key)\n",
    "        print('success')\n",
    "    else:\n",
    "        print(\"key is not present\")"
   ]
  },
  {
   "cell_type": "code",
   "execution_count": null,
   "id": "a4c55d31",
   "metadata": {},
   "outputs": [],
   "source": [
    "l = [45,33,66,77,88,9]\n",
    "key = 4\n",
    "\n",
    "present_or_not(l,key)"
   ]
  },
  {
   "cell_type": "code",
   "execution_count": null,
   "id": "1977e5d2",
   "metadata": {},
   "outputs": [],
   "source": [
    "l = [45,33,66,77,88,9]\n",
    "sorted(list(set(l)),reverse=True)[1]"
   ]
  },
  {
   "cell_type": "code",
   "execution_count": null,
   "id": "eadf179c",
   "metadata": {},
   "outputs": [],
   "source": [
    "# 1\n",
    "list1 = [1, 2, 3, 4, 5]\n",
    "list2 = [3, 4, 5, 6, 7]\n",
    "\n",
    "common_elements = set(list1).intersection(list2)\n",
    "print(common_elements)  # Output: {3, 4, 5}"
   ]
  },
  {
   "cell_type": "code",
   "execution_count": null,
   "id": "655e5e5e",
   "metadata": {},
   "outputs": [],
   "source": [
    "# 2\n",
    "my_list = [1, 2, 2, 3, 3, 4, 5, 5]\n",
    "\n",
    "unique_elements = set(my_list)\n",
    "print(unique_elements)  # Output: {1, 2, 3, 4, 5}"
   ]
  },
  {
   "cell_type": "code",
   "execution_count": null,
   "id": "6995c2f6",
   "metadata": {},
   "outputs": [],
   "source": [
    "# 3\n",
    "list1 = [1, 2, 3, 4, 5]\n",
    "list2 = [3, 4, 5, 6, 7]\n",
    "\n",
    "common_elements = set(list1).intersection(list2)\n",
    "print(common_elements)  # Output: {3, 4, 5}"
   ]
  },
  {
   "cell_type": "code",
   "execution_count": null,
   "id": "c0ff1a2f",
   "metadata": {},
   "outputs": [],
   "source": [
    "# 4\n",
    "my_set = {1, 2, 3}\n",
    "\n",
    "element_to_remove = 3\n",
    "if element_to_remove in my_set:\n",
    "    my_set.remove(element_to_remove)\n",
    "    print(f\"Removed {element_to_remove} from the set.\")\n",
    "else:\n",
    "    print(f\"{element_to_remove} is not present in the set.\")\n"
   ]
  },
  {
   "cell_type": "code",
   "execution_count": null,
   "id": "943911f9",
   "metadata": {},
   "outputs": [],
   "source": [
    "def second_largest_element(my_set):\n",
    "    # Convert the set to a list and sort it in descending order\n",
    "    sorted_list = sorted(list(my_set), reverse=True)\n",
    "\n",
    "    if len(sorted_list) < 2:\n",
    "        return None\n",
    "    else:\n",
    "        return sorted_list[1]\n"
   ]
  },
  {
   "cell_type": "code",
   "execution_count": null,
   "id": "609550c9",
   "metadata": {},
   "outputs": [],
   "source": [
    "s = {1}\n",
    "print(second_largest_element(s))"
   ]
  },
  {
   "cell_type": "code",
   "execution_count": null,
   "id": "2c04e22a",
   "metadata": {},
   "outputs": [],
   "source": [
    "# Example usage:\n",
    "my_set = {10, 20, 5, 30, 15}\n",
    "result = second_largest_element(my_set)\n",
    "print(result)"
   ]
  }
 ],
 "metadata": {
  "kernelspec": {
   "display_name": "Python 3 (ipykernel)",
   "language": "python",
   "name": "python3"
  },
  "language_info": {
   "codemirror_mode": {
    "name": "ipython",
    "version": 3
   },
   "file_extension": ".py",
   "mimetype": "text/x-python",
   "name": "python",
   "nbconvert_exporter": "python",
   "pygments_lexer": "ipython3",
   "version": "3.11.4"
  }
 },
 "nbformat": 4,
 "nbformat_minor": 5
}
