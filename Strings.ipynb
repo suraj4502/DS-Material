{
 "cells": [
  {
   "cell_type": "markdown",
   "id": "bb0f96bb",
   "metadata": {},
   "source": [
    "# Strings\n",
    "\n",
    "- A string is a sequence of characters enclosed in either single quotes ('') or double quotes (\"\"). \n",
    "- Strings are used to represent text or character data in a program.\n",
    "- They are immutable, which means once a string is created, it cannot be changed."
   ]
  },
  {
   "cell_type": "code",
   "execution_count": 32,
   "id": "09fa2f1a",
   "metadata": {},
   "outputs": [],
   "source": [
    "a = 'suraj, abc,gght,kjfdksjfkjksdf,randomname'"
   ]
  },
  {
   "cell_type": "code",
   "execution_count": 33,
   "id": "6ec1bba4",
   "metadata": {},
   "outputs": [
    {
     "data": {
      "text/plain": [
       "41"
      ]
     },
     "execution_count": 33,
     "metadata": {},
     "output_type": "execute_result"
    }
   ],
   "source": [
    "len(a)"
   ]
  },
  {
   "cell_type": "code",
   "execution_count": 34,
   "id": "97e81bcb",
   "metadata": {},
   "outputs": [
    {
     "data": {
      "text/plain": [
       "'s'"
      ]
     },
     "execution_count": 34,
     "metadata": {},
     "output_type": "execute_result"
    }
   ],
   "source": [
    "a[0]"
   ]
  },
  {
   "cell_type": "code",
   "execution_count": 35,
   "id": "8ce9c8a1",
   "metadata": {},
   "outputs": [
    {
     "ename": "TypeError",
     "evalue": "'str' object does not support item assignment",
     "output_type": "error",
     "traceback": [
      "\u001b[1;31m---------------------------------------------------------------------------\u001b[0m",
      "\u001b[1;31mTypeError\u001b[0m                                 Traceback (most recent call last)",
      "Cell \u001b[1;32mIn[35], line 1\u001b[0m\n\u001b[1;32m----> 1\u001b[0m a[\u001b[38;5;241m0\u001b[39m] \u001b[38;5;241m=\u001b[39m \u001b[38;5;124m'\u001b[39m\u001b[38;5;124mu\u001b[39m\u001b[38;5;124m'\u001b[39m\n",
      "\u001b[1;31mTypeError\u001b[0m: 'str' object does not support item assignment"
     ]
    }
   ],
   "source": [
    "a[0] = 'u'"
   ]
  },
  {
   "cell_type": "markdown",
   "id": "dd263097",
   "metadata": {},
   "source": [
    "---\n",
    "### Creating a String:"
   ]
  },
  {
   "cell_type": "code",
   "execution_count": null,
   "id": "0a23d969",
   "metadata": {},
   "outputs": [],
   "source": [
    "\n",
    "my_string = 'This is an \"important\" message'\n",
    "print(my_string)\n",
    "len(my_string)"
   ]
  },
  {
   "cell_type": "code",
   "execution_count": null,
   "id": "ef5f0c6a",
   "metadata": {},
   "outputs": [],
   "source": [
    "a"
   ]
  },
  {
   "cell_type": "code",
   "execution_count": null,
   "id": "8a265e9f",
   "metadata": {},
   "outputs": [],
   "source": [
    "a[4]"
   ]
  },
  {
   "cell_type": "code",
   "execution_count": null,
   "id": "af3a9822",
   "metadata": {},
   "outputs": [],
   "source": [
    "a[-5]"
   ]
  },
  {
   "cell_type": "code",
   "execution_count": null,
   "id": "d8435fbe",
   "metadata": {},
   "outputs": [],
   "source": [
    "a[2:5]"
   ]
  },
  {
   "cell_type": "code",
   "execution_count": null,
   "id": "cc99cc7f",
   "metadata": {},
   "outputs": [],
   "source": [
    "a[7:10]"
   ]
  },
  {
   "cell_type": "code",
   "execution_count": null,
   "id": "916e0589",
   "metadata": {},
   "outputs": [],
   "source": [
    "a[-4:]"
   ]
  },
  {
   "cell_type": "code",
   "execution_count": null,
   "id": "fdc2f2a6",
   "metadata": {},
   "outputs": [],
   "source": [
    "# random \n",
    "a[-10:-4]"
   ]
  },
  {
   "cell_type": "markdown",
   "id": "5ef27153",
   "metadata": {},
   "source": [
    "---\n",
    "###  Accessing Characters in a String:\n",
    "- You can access individual characters in a string using indexing. Indexing starts at 0 for the first character."
   ]
  },
  {
   "cell_type": "code",
   "execution_count": null,
   "id": "9b2ee826",
   "metadata": {},
   "outputs": [],
   "source": [
    "my_string = \"Hello, World!\"\n",
    "print(my_string[-2])  # Output: H\n"
   ]
  },
  {
   "cell_type": "markdown",
   "id": "dbf62b60",
   "metadata": {},
   "source": [
    "---\n",
    "### String Concatenation:\n",
    "\n",
    "- You can concatenate (join) two or more strings together using the + operator."
   ]
  },
  {
   "cell_type": "code",
   "execution_count": null,
   "id": "6ffee356",
   "metadata": {},
   "outputs": [],
   "source": [
    "my_string = \"hello, world!\""
   ]
  },
  {
   "cell_type": "code",
   "execution_count": null,
   "id": "3a3d0ce3",
   "metadata": {},
   "outputs": [],
   "source": [
    "print(my_string[:5])\n",
    "print(my_string[-6:])\n",
    "print(my_string[7:12])"
   ]
  },
  {
   "cell_type": "code",
   "execution_count": null,
   "id": "b11b8ce2",
   "metadata": {},
   "outputs": [],
   "source": [
    "string1 = \"Hello\"\n",
    "string2 = \"World\" \n",
    "\n",
    "string1 +\" \" + string2"
   ]
  },
  {
   "cell_type": "code",
   "execution_count": 12,
   "id": "e5f9adda",
   "metadata": {},
   "outputs": [
    {
     "data": {
      "text/plain": [
       "'fname fathersname lname'"
      ]
     },
     "execution_count": 12,
     "metadata": {},
     "output_type": "execute_result"
    }
   ],
   "source": [
    "name = \"fname lname\"\n",
    "fname = \"fathersname\"\n",
    "\n",
    "result = name[0:5] + \" \" + fname + \" \" + name[-5:]\n",
    "result"
   ]
  },
  {
   "cell_type": "code",
   "execution_count": null,
   "id": "b6b21b7f",
   "metadata": {},
   "outputs": [],
   "source": [
    "my_str = \"JOHN JONES\"\n",
    "# print(len(my_str))\n",
    "for i in my_str:\n",
    "    print(i)"
   ]
  },
  {
   "cell_type": "markdown",
   "id": "bc12780c",
   "metadata": {},
   "source": [
    "---\n",
    "### String Length:\n",
    "\n",
    "- The len() function can be used to determine the length of a string (number of characters)."
   ]
  },
  {
   "cell_type": "code",
   "execution_count": null,
   "id": "87eb7822",
   "metadata": {},
   "outputs": [],
   "source": [
    "my_string = \"Hello, World!\"\n",
    "length = len(my_string)\n",
    "print(length)  # Output: 13"
   ]
  },
  {
   "cell_type": "markdown",
   "id": "1191c506",
   "metadata": {},
   "source": [
    "--- \n",
    "### String Slicing:\n",
    "\n",
    "- You can extract a substring from a string using slicing. Slicing allows you to specify a range of indices to extract characters."
   ]
  },
  {
   "cell_type": "code",
   "execution_count": null,
   "id": "df13c1c5",
   "metadata": {},
   "outputs": [],
   "source": [
    "my_string = \"Hello, World!\"\n",
    "substring = my_string[7:12]\n",
    "print(substring)  # Output: World"
   ]
  },
  {
   "cell_type": "code",
   "execution_count": null,
   "id": "24dba92f",
   "metadata": {},
   "outputs": [],
   "source": [
    "my_string[7:]"
   ]
  },
  {
   "cell_type": "code",
   "execution_count": null,
   "id": "19c16178",
   "metadata": {},
   "outputs": [],
   "source": [
    "my_string[0:5]"
   ]
  },
  {
   "cell_type": "code",
   "execution_count": null,
   "id": "8d2443ad",
   "metadata": {},
   "outputs": [],
   "source": [
    "my_string[-6:-1]"
   ]
  },
  {
   "cell_type": "markdown",
   "id": "883d5f60",
   "metadata": {},
   "source": [
    "---"
   ]
  },
  {
   "cell_type": "code",
   "execution_count": 1,
   "id": "45dbd630",
   "metadata": {},
   "outputs": [],
   "source": [
    "my_string = \"batman\""
   ]
  },
  {
   "cell_type": "code",
   "execution_count": 4,
   "id": "edcac558",
   "metadata": {},
   "outputs": [
    {
     "data": {
      "text/plain": [
       "'Batman'"
      ]
     },
     "execution_count": 4,
     "metadata": {},
     "output_type": "execute_result"
    }
   ],
   "source": [
    "my_string.capitalize()"
   ]
  },
  {
   "cell_type": "code",
   "execution_count": 7,
   "id": "d9e4a592",
   "metadata": {},
   "outputs": [
    {
     "data": {
      "text/plain": [
       "'batman'"
      ]
     },
     "execution_count": 7,
     "metadata": {},
     "output_type": "execute_result"
    }
   ],
   "source": [
    "upper =my_string.upper()\n",
    "upper.lower()"
   ]
  },
  {
   "cell_type": "code",
   "execution_count": null,
   "id": "0dc9781c",
   "metadata": {},
   "outputs": [],
   "source": []
  },
  {
   "cell_type": "code",
   "execution_count": 9,
   "id": "83a32a2e",
   "metadata": {},
   "outputs": [
    {
     "data": {
      "text/plain": [
       "'value1  v     value2'"
      ]
     },
     "execution_count": 9,
     "metadata": {},
     "output_type": "execute_result"
    }
   ],
   "source": [
    "a = \"    value1  v     value2       \"\n",
    "a.strip()"
   ]
  },
  {
   "cell_type": "code",
   "execution_count": 16,
   "id": "0b9f4c3a",
   "metadata": {},
   "outputs": [],
   "source": [
    "a = 'batman,superman,nightwing,robin,wonder women'"
   ]
  },
  {
   "cell_type": "code",
   "execution_count": 18,
   "id": "2c556cc2",
   "metadata": {},
   "outputs": [
    {
     "name": "stdout",
     "output_type": "stream",
     "text": [
      "['batman', 'superman', 'nightwing', 'robin', 'wonder women']\n"
     ]
    }
   ],
   "source": [
    "print(a.split(','))"
   ]
  },
  {
   "cell_type": "code",
   "execution_count": 21,
   "id": "0df3c37c",
   "metadata": {},
   "outputs": [
    {
     "data": {
      "text/plain": [
       "'Richurd Gruysonuuuuuun'"
      ]
     },
     "execution_count": 21,
     "metadata": {},
     "output_type": "execute_result"
    }
   ],
   "source": [
    "name = \"Richard Graysonaaaaaan\"\n",
    "name.replace('a','u')"
   ]
  },
  {
   "cell_type": "code",
   "execution_count": 22,
   "id": "95370d9b",
   "metadata": {},
   "outputs": [
    {
     "data": {
      "text/plain": [
       "['Richard', 'Graysonaaaaaan']"
      ]
     },
     "execution_count": 22,
     "metadata": {},
     "output_type": "execute_result"
    }
   ],
   "source": [
    "name.split()"
   ]
  },
  {
   "cell_type": "code",
   "execution_count": 23,
   "id": "e74346bc",
   "metadata": {},
   "outputs": [
    {
     "data": {
      "text/plain": [
       "4"
      ]
     },
     "execution_count": 23,
     "metadata": {},
     "output_type": "execute_result"
    }
   ],
   "source": [
    "name.find('a')"
   ]
  },
  {
   "cell_type": "code",
   "execution_count": 24,
   "id": "6bc6c538",
   "metadata": {},
   "outputs": [
    {
     "data": {
      "text/plain": [
       "8"
      ]
     },
     "execution_count": 24,
     "metadata": {},
     "output_type": "execute_result"
    }
   ],
   "source": [
    "name.count('a')"
   ]
  },
  {
   "cell_type": "markdown",
   "id": "8bfac883",
   "metadata": {},
   "source": [
    "---\n",
    "### String Methods:\n",
    "\n",
    "- Python provides various built-in string methods to manipulate and process strings. Here are a few commonly used methods:<br>\n",
    "    - `lower():` Converts the string to lowercase.<br>\n",
    "    - `upper():` Converts the string to uppercase.<br>\n",
    "    - `strip():` Removes leading and trailing whitespace characters.<br>\n",
    "    - `split():` Splits the string into a list of substrings based on a delimiter.<br>\n",
    "    - `replace():` Replaces occurrences of a substring with another substring.<br>\n",
    "    - `find():` Returns the index of the first occurrence of a substring.<br>\n",
    "    - `count():` Returns the number of occurrences of a substring.<br>"
   ]
  },
  {
   "cell_type": "code",
   "execution_count": null,
   "id": "576e20f8",
   "metadata": {},
   "outputs": [],
   "source": []
  },
  {
   "cell_type": "code",
   "execution_count": null,
   "id": "65d2f967",
   "metadata": {},
   "outputs": [],
   "source": [
    "myvar = 'india,america,brazil,russia'\n",
    "my_list = myvar.split(',')\n",
    "\n",
    "for country in my_list:\n",
    "    result = country[0].upper() + country[1:] \n",
    "    print(result,end=\",\")\n"
   ]
  },
  {
   "cell_type": "code",
   "execution_count": null,
   "id": "b1148e26",
   "metadata": {},
   "outputs": [],
   "source": [
    "var = \"abc_xyzAAAA\"\n",
    "var.upper()"
   ]
  },
  {
   "cell_type": "code",
   "execution_count": null,
   "id": "c4d428b2",
   "metadata": {},
   "outputs": [],
   "source": [
    "var.lower()"
   ]
  },
  {
   "cell_type": "code",
   "execution_count": null,
   "id": "830f4aaf",
   "metadata": {},
   "outputs": [],
   "source": [
    "name = '         DHRUv    Tiwari             '\n",
    "# name.strip().lower()\n",
    "name.replace(\" \",\"\")"
   ]
  },
  {
   "cell_type": "code",
   "execution_count": null,
   "id": "e5cf18fe",
   "metadata": {},
   "outputs": [],
   "source": [
    "var = \"cricket fotball\"\n",
    "print(var.split())\n",
    "v1, v2 = var.split()\n",
    "print(v1)\n",
    "print(v2)"
   ]
  },
  {
   "cell_type": "code",
   "execution_count": null,
   "id": "4b5517da",
   "metadata": {},
   "outputs": [],
   "source": [
    "var = \"cricket fotball\"\n",
    "var = var.replace('fotball','basketball')\n",
    "var"
   ]
  },
  {
   "cell_type": "code",
   "execution_count": null,
   "id": "e41b0f1b",
   "metadata": {},
   "outputs": [],
   "source": [
    "var.find('t')"
   ]
  },
  {
   "cell_type": "code",
   "execution_count": null,
   "id": "fd9f2d93",
   "metadata": {},
   "outputs": [],
   "source": [
    "var.count('c')"
   ]
  },
  {
   "cell_type": "code",
   "execution_count": null,
   "id": "c3725e44",
   "metadata": {},
   "outputs": [],
   "source": [
    "name = \"abc , xyz\"\n",
    "fname , lname = name.split(',')\n",
    "print(fname)\n",
    "print(lname)"
   ]
  },
  {
   "cell_type": "code",
   "execution_count": null,
   "id": "09c859e0",
   "metadata": {},
   "outputs": [],
   "source": [
    "names = 'dhruv- suraj- abc-cde-xyz'\n",
    "my_list = names.split('-')\n",
    "my_list"
   ]
  },
  {
   "cell_type": "code",
   "execution_count": null,
   "id": "db9ed1db",
   "metadata": {},
   "outputs": [],
   "source": [
    "sub = 'a'"
   ]
  },
  {
   "cell_type": "code",
   "execution_count": null,
   "id": "ab4fb231",
   "metadata": {},
   "outputs": [],
   "source": [
    "names.count('d')"
   ]
  },
  {
   "cell_type": "code",
   "execution_count": null,
   "id": "6f9ed9d0",
   "metadata": {},
   "outputs": [],
   "source": [
    "names = 'dhruv- suraj- abc-cde-xyz'\n",
    "names.replace('-',',')"
   ]
  },
  {
   "cell_type": "code",
   "execution_count": null,
   "id": "ee27900d",
   "metadata": {},
   "outputs": [],
   "source": [
    "my_string = \"   Hello, World!   \"\n",
    "print(my_string.lower())         # Output:    hello, world!   \n",
    "print(my_string.strip())         # Output: Hello, World!\n",
    "print(my_string.split(','))      # Output: ['   Hello', ' World!   ']\n",
    "print(my_string.replace('l', 'L'))  # Output:    HeLLo, WorLd!   \n",
    "print(my_string.find('World'))    # Output: 9\n",
    "print(my_string.count('o'))      # Output: 2\n"
   ]
  },
  {
   "cell_type": "code",
   "execution_count": null,
   "id": "4cc61628",
   "metadata": {},
   "outputs": [],
   "source": []
  },
  {
   "cell_type": "code",
   "execution_count": null,
   "id": "9a7d7688",
   "metadata": {},
   "outputs": [],
   "source": []
  },
  {
   "cell_type": "markdown",
   "id": "8ac2f523",
   "metadata": {},
   "source": [
    "### String Formatting:\n",
    "\n",
    "- You can format strings using special placeholders and format() method to insert values into the string."
   ]
  },
  {
   "cell_type": "code",
   "execution_count": 23,
   "id": "43fb13e7",
   "metadata": {},
   "outputs": [
    {
     "name": "stdout",
     "output_type": "stream",
     "text": [
      "Your name is Nate  and your age is  22  and your name is again  Nate\n",
      "YOUR name is Nate and YOUR age is 22\n",
      "YOUR name is Nate and YOUR age is 22.\n"
     ]
    }
   ],
   "source": [
    "name = \"Nate\"\n",
    "age = 22\n",
    "class_ = ''\n",
    "\n",
    "# message = \"YOUR name is {} and I am {} years old.\".format(name, age)\n",
    "# print(message)  # Output: My name is Alice and I am 25 years old.\n",
    "\n",
    "print(\"Your name is\", name, \" and your age is \", age, \" and your name is again \", name)\n",
    "print(\"YOUR name is {} and YOUR age is {}\".format(name,age))\n",
    "print(f\"YOUR name is {name} and YOUR age is {age}.\")"
   ]
  },
  {
   "cell_type": "code",
   "execution_count": null,
   "id": "1fe0586f",
   "metadata": {},
   "outputs": [],
   "source": [
    "# take input from user name, age\n"
   ]
  },
  {
   "cell_type": "code",
   "execution_count": null,
   "id": "dff68cd3",
   "metadata": {},
   "outputs": [],
   "source": []
  },
  {
   "cell_type": "markdown",
   "id": "5bc8d112",
   "metadata": {},
   "source": [
    "### String Membership:\n",
    "\n",
    "- You can check if a substring is present in a string using the in and not in operators.\n",
    "- These operators return True or False based on the presence or absence of the substring."
   ]
  },
  {
   "cell_type": "code",
   "execution_count": 25,
   "id": "1096fe72",
   "metadata": {},
   "outputs": [
    {
     "name": "stdout",
     "output_type": "stream",
     "text": [
      "True\n",
      "True\n"
     ]
    }
   ],
   "source": [
    "my_string = \"Hello, World!\"\n",
    "print(\"Hello\" in my_string)  \n",
    "print(\"Foo\" not in my_string) \n"
   ]
  },
  {
   "cell_type": "code",
   "execution_count": 29,
   "id": "31fee19e",
   "metadata": {},
   "outputs": [],
   "source": [
    "s = \"this is a string word\"\n",
    "# print the length of the string\n",
    "# separate the string based on space\n",
    "# replace s with w \n",
    "# check if 'word' is present or not if present then you will presern (yes it is present)\n",
    "# count how many times a has occured in my string\n",
    "# repeat the above string for 5 times."
   ]
  },
  {
   "cell_type": "code",
   "execution_count": 30,
   "id": "01494220",
   "metadata": {},
   "outputs": [
    {
     "data": {
      "text/plain": [
       "[1, 2, 3, 4, 5]"
      ]
     },
     "execution_count": 30,
     "metadata": {},
     "output_type": "execute_result"
    }
   ],
   "source": [
    "list(range(1,6))"
   ]
  },
  {
   "cell_type": "code",
   "execution_count": 31,
   "id": "db0e1911",
   "metadata": {},
   "outputs": [
    {
     "name": "stdout",
     "output_type": "stream",
     "text": [
      "this is a string word\n",
      "this is a string word\n",
      "this is a string word\n",
      "this is a string word\n",
      "this is a string word\n"
     ]
    }
   ],
   "source": [
    "for i in range(5):\n",
    "    print(s)"
   ]
  },
  {
   "cell_type": "markdown",
   "id": "91aaf842",
   "metadata": {},
   "source": [
    "## String Formatting with Alignment and Padding:\n",
    "- You can align and pad strings using the `ljust()`, `rjust()`, and `center()` methods.\n",
    "- These methods allow you to specify the width and fill character for alignment.<br>\n",
    "<br>\n",
    "- The `rjust()` method right-aligns the string within a specified width by adding a specified fill character to the left. <br>\n",
    "- The `ljust()` method left-aligns the string within a specified width by adding a specified fill character to the right.<br>\n",
    "- The `center()` method centers the string within a specified width by adding a specified fill character on both sides.<br>"
   ]
  },
  {
   "cell_type": "code",
   "execution_count": 19,
   "id": "6a7c85b2",
   "metadata": {},
   "outputs": [],
   "source": [
    "s = 'suraj'"
   ]
  },
  {
   "cell_type": "code",
   "execution_count": 22,
   "id": "89735911",
   "metadata": {},
   "outputs": [
    {
     "data": {
      "text/plain": [
       "'--suraj---'"
      ]
     },
     "execution_count": 22,
     "metadata": {},
     "output_type": "execute_result"
    }
   ],
   "source": [
    "s.center(10,'-')"
   ]
  },
  {
   "cell_type": "code",
   "execution_count": 7,
   "id": "63889341",
   "metadata": {},
   "outputs": [
    {
     "name": "stdout",
     "output_type": "stream",
     "text": [
      "aaasbc\n"
     ]
    }
   ],
   "source": [
    "print(string.rjust(6,'a'))"
   ]
  },
  {
   "cell_type": "code",
   "execution_count": 9,
   "id": "861da123",
   "metadata": {},
   "outputs": [
    {
     "name": "stdout",
     "output_type": "stream",
     "text": [
      "-sbc--\n"
     ]
    }
   ],
   "source": [
    "print(string.center(6,'-'))"
   ]
  },
  {
   "cell_type": "code",
   "execution_count": null,
   "id": "b6c655f1",
   "metadata": {},
   "outputs": [],
   "source": [
    "my_string = \"Hell0\"\n",
    "aligned_string = my_string.rjust(10, '_')\n",
    "print(aligned_string)  # Output: -----Hello\n",
    "\n",
    "padded_string = my_string.ljust(10, '*')\n",
    "print(padded_string)  # Output: Hello*****\n",
    "\n",
    "centered_string = my_string.center(10, '=')\n",
    "print(centered_string)  # Output: ==Hello===\n"
   ]
  },
  {
   "cell_type": "code",
   "execution_count": null,
   "id": "89ea1974",
   "metadata": {},
   "outputs": [],
   "source": []
  },
  {
   "cell_type": "code",
   "execution_count": null,
   "id": "3bf0af12",
   "metadata": {},
   "outputs": [],
   "source": []
  }
 ],
 "metadata": {
  "kernelspec": {
   "display_name": "Python 3 (ipykernel)",
   "language": "python",
   "name": "python3"
  },
  "language_info": {
   "codemirror_mode": {
    "name": "ipython",
    "version": 3
   },
   "file_extension": ".py",
   "mimetype": "text/x-python",
   "name": "python",
   "nbconvert_exporter": "python",
   "pygments_lexer": "ipython3",
   "version": "3.9.16"
  }
 },
 "nbformat": 4,
 "nbformat_minor": 5
}
