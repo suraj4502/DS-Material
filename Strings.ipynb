{
 "cells": [
  {
   "cell_type": "markdown",
   "id": "bb0f96bb",
   "metadata": {},
   "source": [
    "# Strings\n",
    "\n",
    "- A string is a sequence of characters enclosed in either single quotes ('') or double quotes (\"\"). \n",
    "- Strings are used to represent text or character data in a program.\n",
    "- They are immutable, which means once a string is created, it cannot be changed."
   ]
  },
  {
   "cell_type": "code",
   "execution_count": null,
   "id": "09fa2f1a",
   "metadata": {},
   "outputs": [],
   "source": [
    "a = 'suraj, abc,gght,kjfdksjfkjksdf,randomname'"
   ]
  },
  {
   "cell_type": "code",
   "execution_count": null,
   "id": "8ce9c8a1",
   "metadata": {},
   "outputs": [],
   "source": [
    "a[0] "
   ]
  },
  {
   "cell_type": "markdown",
   "id": "dd263097",
   "metadata": {},
   "source": [
    "---\n",
    "### Creating a String:"
   ]
  },
  {
   "cell_type": "code",
   "execution_count": null,
   "id": "0a23d969",
   "metadata": {},
   "outputs": [],
   "source": [
    "\n",
    "my_string = \"Hello, World!\""
   ]
  },
  {
   "cell_type": "markdown",
   "id": "5ef27153",
   "metadata": {},
   "source": [
    "---\n",
    "###  Accessing Characters in a String:\n",
    "- You can access individual characters in a string using indexing. Indexing starts at 0 for the first character."
   ]
  },
  {
   "cell_type": "code",
   "execution_count": null,
   "id": "9b2ee826",
   "metadata": {},
   "outputs": [],
   "source": [
    "my_string = \"Hello, World!\"\n",
    "print(my_string[-2])  # Output: H\n"
   ]
  },
  {
   "cell_type": "markdown",
   "id": "dbf62b60",
   "metadata": {},
   "source": [
    "---\n",
    "### String Concatenation:\n",
    "\n",
    "- You can concatenate (join) two or more strings together using the + operator."
   ]
  },
  {
   "cell_type": "code",
   "execution_count": null,
   "id": "6ffee356",
   "metadata": {},
   "outputs": [],
   "source": [
    "my_string = \"hello, world!\""
   ]
  },
  {
   "cell_type": "code",
   "execution_count": null,
   "id": "3a3d0ce3",
   "metadata": {},
   "outputs": [],
   "source": [
    "print(my_string[:5])\n",
    "print(my_string[-6:])\n",
    "print(my_string[7:12])"
   ]
  },
  {
   "cell_type": "code",
   "execution_count": null,
   "id": "b11b8ce2",
   "metadata": {},
   "outputs": [],
   "source": [
    "string1 = \"Hello\"\n",
    "string2 = \"World\"\n",
    "result = string1 + \", \" + string2\n",
    "print(result)  # Output: Hello, World\n"
   ]
  },
  {
   "cell_type": "code",
   "execution_count": null,
   "id": "e5f9adda",
   "metadata": {},
   "outputs": [],
   "source": [
    "name = \"fname lname\"\n",
    "fname = \"fathersname\"\n",
    "\n",
    "result = name[:5] + \" \" + fname + \" \" + name[6:]\n",
    "print(result)"
   ]
  },
  {
   "cell_type": "markdown",
   "id": "bc12780c",
   "metadata": {},
   "source": [
    "---\n",
    "### String Length:\n",
    "\n",
    "- The len() function can be used to determine the length of a string (number of characters)."
   ]
  },
  {
   "cell_type": "code",
   "execution_count": null,
   "id": "87eb7822",
   "metadata": {},
   "outputs": [],
   "source": [
    "my_string = \"Hello, World!\"\n",
    "length = len(my_string)\n",
    "print(length)  # Output: 13"
   ]
  },
  {
   "cell_type": "markdown",
   "id": "1191c506",
   "metadata": {},
   "source": [
    "--- \n",
    "### String Slicing:\n",
    "\n",
    "- You can extract a substring from a string using slicing. Slicing allows you to specify a range of indices to extract characters."
   ]
  },
  {
   "cell_type": "code",
   "execution_count": null,
   "id": "df13c1c5",
   "metadata": {},
   "outputs": [],
   "source": [
    "my_string = \"Hello, World!\"\n",
    "substring = my_string[7:12]\n",
    "print(substring)  # Output: World\n"
   ]
  },
  {
   "cell_type": "code",
   "execution_count": null,
   "id": "24dba92f",
   "metadata": {},
   "outputs": [],
   "source": [
    "my_string[7:]"
   ]
  },
  {
   "cell_type": "code",
   "execution_count": null,
   "id": "19c16178",
   "metadata": {},
   "outputs": [],
   "source": [
    "my_string[0:5]"
   ]
  },
  {
   "cell_type": "code",
   "execution_count": null,
   "id": "8d2443ad",
   "metadata": {},
   "outputs": [],
   "source": [
    "my_string[-6:-1]"
   ]
  },
  {
   "cell_type": "markdown",
   "id": "8bfac883",
   "metadata": {},
   "source": [
    "---\n",
    "### String Methods:\n",
    "\n",
    "- Python provides various built-in string methods to manipulate and process strings. Here are a few commonly used methods:<br>\n",
    "    - `lower():` Converts the string to lowercase.<br>\n",
    "    - `upper():` Converts the string to uppercase.<br>\n",
    "    - `strip():` Removes leading and trailing whitespace characters.<br>\n",
    "    - `split():` Splits the string into a list of substrings based on a delimiter.<br>\n",
    "    - `replace():` Replaces occurrences of a substring with another substring.<br>\n",
    "    - `find():` Returns the index of the first occurrence of a substring.<br>\n",
    "    - `count():` Returns the number of occurrences of a substring.<br>"
   ]
  },
  {
   "cell_type": "code",
   "execution_count": null,
   "id": "65d2f967",
   "metadata": {},
   "outputs": [],
   "source": [
    "myvar = 'india,america,brazil,russia'\n",
    "my_list = myvar.split(',')\n",
    "\n",
    "for country in my_list:\n",
    "    result = country[0].upper() + country[1:] \n",
    "    print(result,end=\",\")\n"
   ]
  },
  {
   "cell_type": "code",
   "execution_count": null,
   "id": "b1148e26",
   "metadata": {},
   "outputs": [],
   "source": [
    "var = \"abc_xyzAAAA\"\n",
    "var.upper()"
   ]
  },
  {
   "cell_type": "code",
   "execution_count": null,
   "id": "c4d428b2",
   "metadata": {},
   "outputs": [],
   "source": [
    "var.lower()"
   ]
  },
  {
   "cell_type": "code",
   "execution_count": null,
   "id": "830f4aaf",
   "metadata": {},
   "outputs": [],
   "source": [
    "name = '         DHRUv    Tiwari             '\n",
    "# name.strip().lower()\n",
    "name.replace(\" \",\"\")"
   ]
  },
  {
   "cell_type": "code",
   "execution_count": null,
   "id": "e5cf18fe",
   "metadata": {},
   "outputs": [],
   "source": [
    "var = \"cricket fotball\"\n",
    "print(var.split())\n",
    "v1, v2 = var.split()\n",
    "print(v1)\n",
    "print(v2)"
   ]
  },
  {
   "cell_type": "code",
   "execution_count": null,
   "id": "4b5517da",
   "metadata": {},
   "outputs": [],
   "source": [
    "var = \"cricket fotball\"\n",
    "var = var.replace('fotball','basketball')\n",
    "var"
   ]
  },
  {
   "cell_type": "code",
   "execution_count": null,
   "id": "e41b0f1b",
   "metadata": {},
   "outputs": [],
   "source": [
    "var.find('t')"
   ]
  },
  {
   "cell_type": "code",
   "execution_count": null,
   "id": "fd9f2d93",
   "metadata": {},
   "outputs": [],
   "source": [
    "var.count('c')"
   ]
  },
  {
   "cell_type": "code",
   "execution_count": null,
   "id": "c3725e44",
   "metadata": {},
   "outputs": [],
   "source": [
    "name = \"abc , xyz\"\n",
    "fname , lname = name.split(',')\n",
    "print(fname)\n",
    "print(lname)"
   ]
  },
  {
   "cell_type": "code",
   "execution_count": null,
   "id": "09c859e0",
   "metadata": {},
   "outputs": [],
   "source": [
    "names = 'dhruv- suraj- abc-cde-xyz'\n",
    "my_list = names.split('-')\n",
    "my_list"
   ]
  },
  {
   "cell_type": "code",
   "execution_count": null,
   "id": "db9ed1db",
   "metadata": {},
   "outputs": [],
   "source": [
    "sub = 'a'"
   ]
  },
  {
   "cell_type": "code",
   "execution_count": null,
   "id": "ab4fb231",
   "metadata": {},
   "outputs": [],
   "source": [
    "names.count('d')"
   ]
  },
  {
   "cell_type": "code",
   "execution_count": null,
   "id": "6f9ed9d0",
   "metadata": {},
   "outputs": [],
   "source": [
    "names = 'dhruv- suraj- abc-cde-xyz'\n",
    "names.replace('-',',')"
   ]
  },
  {
   "cell_type": "code",
   "execution_count": null,
   "id": "ee27900d",
   "metadata": {},
   "outputs": [],
   "source": [
    "my_string = \"   Hello, World!   \"\n",
    "print(my_string.lower())         # Output:    hello, world!   \n",
    "print(my_string.strip())         # Output: Hello, World!\n",
    "print(my_string.split(','))      # Output: ['   Hello', ' World!   ']\n",
    "print(my_string.replace('l', 'L'))  # Output:    HeLLo, WorLd!   \n",
    "print(my_string.find('World'))    # Output: 9\n",
    "print(my_string.count('o'))      # Output: 2\n"
   ]
  },
  {
   "cell_type": "code",
   "execution_count": null,
   "id": "4cc61628",
   "metadata": {},
   "outputs": [],
   "source": []
  },
  {
   "cell_type": "code",
   "execution_count": null,
   "id": "9a7d7688",
   "metadata": {},
   "outputs": [],
   "source": []
  },
  {
   "cell_type": "markdown",
   "id": "8ac2f523",
   "metadata": {},
   "source": [
    "### String Formatting:\n",
    "\n",
    "- You can format strings using special placeholders and format() method to insert values into the string."
   ]
  },
  {
   "cell_type": "code",
   "execution_count": null,
   "id": "43fb13e7",
   "metadata": {},
   "outputs": [],
   "source": [
    "name = \"Dhruv\"\n",
    "age = 19\n",
    "# message = \"My name is {} and I am {} years old.\".format(name, age)\n",
    "# print(message)  # Output: My name is Alice and I am 25 years old.\n",
    "\n",
    "print(\"my name {} and i am {} ys old)\".format(name,age))\n",
    "print(f\"my name is {name} and i am {age} old.\")\n"
   ]
  },
  {
   "cell_type": "code",
   "execution_count": null,
   "id": "dff68cd3",
   "metadata": {},
   "outputs": [],
   "source": []
  },
  {
   "cell_type": "markdown",
   "id": "5bc8d112",
   "metadata": {},
   "source": [
    "### String Membership:\n",
    "\n",
    "- You can check if a substring is present in a string using the in and not in operators.\n",
    "- These operators return True or False based on the presence or absence of the substring."
   ]
  },
  {
   "cell_type": "code",
   "execution_count": null,
   "id": "1096fe72",
   "metadata": {},
   "outputs": [],
   "source": [
    "my_string = \"Hello, World!\"\n",
    "print(\"Hello\" in my_string)  # Output: True\n",
    "print(\"Foo\" not in my_string)  # Output: True\n"
   ]
  },
  {
   "cell_type": "markdown",
   "id": "91aaf842",
   "metadata": {},
   "source": [
    "## String Formatting with Alignment and Padding:\n",
    "- You can align and pad strings using the `ljust()`, `rjust()`, and `center()` methods.\n",
    "- These methods allow you to specify the width and fill character for alignment.<br>\n",
    "<br>\n",
    "- The `rjust()` method right-aligns the string within a specified width by adding a specified fill character to the left. <br>\n",
    "- The `ljust()` method left-aligns the string within a specified width by adding a specified fill character to the right.<br>\n",
    "- The `center()` method centers the string within a specified width by adding a specified fill character on both sides.<br>"
   ]
  },
  {
   "cell_type": "code",
   "execution_count": null,
   "id": "6a7c85b2",
   "metadata": {},
   "outputs": [],
   "source": [
    "string = \"sbc\"\n",
    "print(string.ljust(6,'*'))"
   ]
  },
  {
   "cell_type": "code",
   "execution_count": null,
   "id": "63889341",
   "metadata": {},
   "outputs": [],
   "source": [
    "print(string.rjust(6,'_'))"
   ]
  },
  {
   "cell_type": "code",
   "execution_count": null,
   "id": "861da123",
   "metadata": {},
   "outputs": [],
   "source": [
    "print(string.center(6,'8'))"
   ]
  },
  {
   "cell_type": "code",
   "execution_count": null,
   "id": "b6c655f1",
   "metadata": {},
   "outputs": [],
   "source": [
    "my_string = \"Hell0\"\n",
    "aligned_string = my_string.rjust(10, '_')\n",
    "print(aligned_string)  # Output: -----Hello\n",
    "\n",
    "padded_string = my_string.ljust(10, '*')\n",
    "print(padded_string)  # Output: Hello*****\n",
    "\n",
    "centered_string = my_string.center(10, '=')\n",
    "print(centered_string)  # Output: ==Hello===\n"
   ]
  },
  {
   "cell_type": "code",
   "execution_count": null,
   "id": "89ea1974",
   "metadata": {},
   "outputs": [],
   "source": []
  },
  {
   "cell_type": "code",
   "execution_count": null,
   "id": "3bf0af12",
   "metadata": {},
   "outputs": [],
   "source": []
  }
 ],
 "metadata": {
  "kernelspec": {
   "display_name": "Python 3 (ipykernel)",
   "language": "python",
   "name": "python3"
  },
  "language_info": {
   "codemirror_mode": {
    "name": "ipython",
    "version": 3
   },
   "file_extension": ".py",
   "mimetype": "text/x-python",
   "name": "python",
   "nbconvert_exporter": "python",
   "pygments_lexer": "ipython3",
   "version": "3.9.16"
  }
 },
 "nbformat": 4,
 "nbformat_minor": 5
}
