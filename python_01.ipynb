{
 "cells": [
  {
   "cell_type": "code",
   "execution_count": 1,
   "id": "4c1fc60a",
   "metadata": {},
   "outputs": [
    {
     "name": "stdout",
     "output_type": "stream",
     "text": [
      "Hello world\n",
      "HELLLO\n"
     ]
    }
   ],
   "source": [
    "print(\"Hello world\")\n",
    "print(\"HELLLO\")\n"
   ]
  },
  {
   "cell_type": "markdown",
   "id": "01bf3b06",
   "metadata": {},
   "source": [
    "# Python Basics"
   ]
  },
  {
   "cell_type": "markdown",
   "id": "6adc2742",
   "metadata": {},
   "source": [
    "---\n",
    "## Variables :\n",
    "- Variables are used to store some data.\n",
    "- In Python, you can create a variable by assigning a value to it using the = operator. \n",
    "- For example, x = 5 creates a variable named x and assigns the value 5 to it."
   ]
  },
  {
   "cell_type": "code",
   "execution_count": 3,
   "id": "d703295c",
   "metadata": {},
   "outputs": [],
   "source": [
    "x = 10\n",
    "y = 6\n",
    "name = \"abc\""
   ]
  },
  {
   "cell_type": "code",
   "execution_count": 4,
   "id": "82af029c",
   "metadata": {},
   "outputs": [
    {
     "name": "stdout",
     "output_type": "stream",
     "text": [
      "10\n"
     ]
    }
   ],
   "source": [
    "print(x)"
   ]
  },
  {
   "cell_type": "code",
   "execution_count": 62,
   "id": "e08a7f2d",
   "metadata": {},
   "outputs": [
    {
     "name": "stdout",
     "output_type": "stream",
     "text": [
      "10\n"
     ]
    }
   ],
   "source": [
    "print(x)"
   ]
  },
  {
   "cell_type": "code",
   "execution_count": 63,
   "id": "a0d584b3",
   "metadata": {},
   "outputs": [
    {
     "name": "stdout",
     "output_type": "stream",
     "text": [
      "6\n"
     ]
    }
   ],
   "source": [
    "print(y)"
   ]
  },
  {
   "cell_type": "code",
   "execution_count": 66,
   "id": "ae346cf8",
   "metadata": {},
   "outputs": [
    {
     "name": "stdout",
     "output_type": "stream",
     "text": [
      "abc\n"
     ]
    }
   ],
   "source": [
    "print(name)"
   ]
  },
  {
   "cell_type": "code",
   "execution_count": 8,
   "id": "e6741b45",
   "metadata": {},
   "outputs": [
    {
     "name": "stdout",
     "output_type": "stream",
     "text": [
      "10\n",
      "6\n",
      "16\n",
      "40\n"
     ]
    }
   ],
   "source": [
    "print(x)\n",
    "print(y)\n",
    "print(x + y)\n",
    "print(x * 4)"
   ]
  },
  {
   "cell_type": "code",
   "execution_count": 9,
   "id": "0827f43a",
   "metadata": {},
   "outputs": [
    {
     "name": "stdout",
     "output_type": "stream",
     "text": [
      "AthravaAthravaAthravaAthrava\n"
     ]
    }
   ],
   "source": [
    "print(name * 4)"
   ]
  },
  {
   "cell_type": "code",
   "execution_count": 4,
   "id": "763233a4",
   "metadata": {},
   "outputs": [
    {
     "data": {
      "text/plain": [
       "'Athrava'"
      ]
     },
     "execution_count": 4,
     "metadata": {},
     "output_type": "execute_result"
    }
   ],
   "source": [
    "name"
   ]
  },
  {
   "cell_type": "markdown",
   "id": "a472bc3c",
   "metadata": {},
   "source": [
    "## KeyWords :\n",
    "- Keywords are reserved words in Python that have special meanings and cannot be used as variable names.\n",
    "- Some examples of keywords in Python are `if, else, for, while, def, class,` etc."
   ]
  },
  {
   "cell_type": "markdown",
   "id": "f9729c5a",
   "metadata": {},
   "source": [
    "## Statements & Comments: \n",
    "- A statement is an instruction that the Python interpreter can execute. For example, `x = 5` is an assignment statement that assigns the value 5 to the variable x. \n",
    "- Comments are lines of text in your code that are ignored by the interpreter and are used to explain what your code does. In Python, you can create a comment by starting a line with the # symbol."
   ]
  },
  {
   "cell_type": "code",
   "execution_count": 7,
   "id": "986713ec",
   "metadata": {},
   "outputs": [
    {
     "data": {
      "text/plain": [
       "'\\n\\nTHIS IS ALSO a COMMENT\\n\\n'"
      ]
     },
     "execution_count": 7,
     "metadata": {},
     "output_type": "execute_result"
    }
   ],
   "source": [
    "x=5 # This is an assignment statement.\n",
    "# this is a comment.\n",
    "\n",
    "# this is also a comment\n",
    "\n",
    "\n",
    "'''\n",
    "\n",
    "line\n",
    "line line\n",
    "\n",
    "'''\n",
    "\n",
    "\n",
    "\n",
    "\n",
    "\n",
    "\n",
    "\n",
    "'''\n",
    "\n",
    "sdfs\n",
    "kl;k\n",
    "this is also a comment \n",
    "'''\n",
    "\n",
    "'''\n",
    "\n",
    "THIS IS ALSO a COMMENT\n",
    "\n",
    "'''"
   ]
  },
  {
   "cell_type": "markdown",
   "id": "e5d4ccae",
   "metadata": {},
   "source": [
    "## Indentation: \n",
    "- Indentation refers to the use of whitespace at the beginning of a line to define the structure of your code. In Python, indentation is used to define blocks of code, such as the body of a function or loop."
   ]
  },
  {
   "cell_type": "code",
   "execution_count": 11,
   "id": "0a58f8e2",
   "metadata": {},
   "outputs": [
    {
     "name": "stdout",
     "output_type": "stream",
     "text": [
      "a is negative\n"
     ]
    }
   ],
   "source": [
    "a = -1\n",
    "if a >0:\n",
    "    print(\"a is positive\")\n",
    "    a +=2\n",
    "    print(a)\n",
    "else :\n",
    "    print(\"a is negative\")"
   ]
  },
  {
   "cell_type": "markdown",
   "id": "da090834",
   "metadata": {},
   "source": [
    "## Data types: \n",
    "- Data types refer to the type of data that can be stored in a variable. Some common data types in Python are integers, floats, strings, lists, tuples, dictionaries, etc."
   ]
  },
  {
   "cell_type": "code",
   "execution_count": 16,
   "id": "6cd3c80a",
   "metadata": {},
   "outputs": [],
   "source": [
    "x = 5 #int\n",
    "\n",
    "y = 4.03 #float\n",
    "\n",
    "z = 'string,this is a string' #string\n",
    "\n",
    "l = [1,2,3,'hello',[1,2,3,4]]  #list\n",
    "\n",
    "t = (1,2,2,3,'world') # tuple\n",
    "\n",
    "d = {'id':[1,2,3,4,5],'name':['hello','a','b','c','d'],'age':44} #dictionary"
   ]
  },
  {
   "cell_type": "code",
   "execution_count": 17,
   "id": "4dfeebe4",
   "metadata": {},
   "outputs": [
    {
     "data": {
      "text/plain": [
       "4.03"
      ]
     },
     "execution_count": 17,
     "metadata": {},
     "output_type": "execute_result"
    }
   ],
   "source": [
    "y \n"
   ]
  },
  {
   "cell_type": "code",
   "execution_count": 13,
   "id": "090dbfac",
   "metadata": {},
   "outputs": [
    {
     "data": {
      "text/plain": [
       "[1, 2, 3, 4, 5]"
      ]
     },
     "execution_count": 13,
     "metadata": {},
     "output_type": "execute_result"
    }
   ],
   "source": [
    "d['id']"
   ]
  },
  {
   "cell_type": "markdown",
   "id": "754e5912",
   "metadata": {},
   "source": [
    "### TYPECASTING = Conversion of one datatype to another"
   ]
  },
  {
   "cell_type": "code",
   "execution_count": 14,
   "id": "c31b76c7",
   "metadata": {},
   "outputs": [
    {
     "data": {
      "text/plain": [
       "int"
      ]
     },
     "execution_count": 14,
     "metadata": {},
     "output_type": "execute_result"
    }
   ],
   "source": [
    "type(x)"
   ]
  },
  {
   "cell_type": "code",
   "execution_count": 20,
   "id": "59e1ddf6",
   "metadata": {},
   "outputs": [
    {
     "name": "stdout",
     "output_type": "stream",
     "text": [
      "<class 'int'>\n",
      "<class 'float'>\n"
     ]
    }
   ],
   "source": [
    "y = 4\n",
    "print(type(y))\n",
    "\n",
    "y = float(y)\n",
    "print(type(y))"
   ]
  },
  {
   "cell_type": "code",
   "execution_count": 21,
   "id": "a420f11d",
   "metadata": {},
   "outputs": [
    {
     "name": "stdout",
     "output_type": "stream",
     "text": [
      "4\n"
     ]
    }
   ],
   "source": [
    "y = 4.6\n",
    "y = int(y)\n",
    "\n",
    "print(y)\n"
   ]
  },
  {
   "cell_type": "code",
   "execution_count": null,
   "id": "598720d8",
   "metadata": {},
   "outputs": [],
   "source": []
  },
  {
   "cell_type": "code",
   "execution_count": null,
   "id": "00c8d681",
   "metadata": {},
   "outputs": [],
   "source": []
  },
  {
   "cell_type": "code",
   "execution_count": 26,
   "id": "7f5ad2f1",
   "metadata": {},
   "outputs": [
    {
     "name": "stdout",
     "output_type": "stream",
     "text": [
      "{'key1': [1, 2, 3, 4, 5], 'key2': ['hello', 'a', 'b', 'c', 'd'], 'key3': 44}\n"
     ]
    }
   ],
   "source": [
    "print(d)"
   ]
  },
  {
   "cell_type": "code",
   "execution_count": 23,
   "id": "bf4edef2",
   "metadata": {},
   "outputs": [
    {
     "name": "stdout",
     "output_type": "stream",
     "text": [
      "<class 'str'>\n"
     ]
    }
   ],
   "source": [
    "a = ' 4'\n",
    "print(type(a))"
   ]
  },
  {
   "cell_type": "code",
   "execution_count": 26,
   "id": "65398042",
   "metadata": {},
   "outputs": [
    {
     "name": "stdout",
     "output_type": "stream",
     "text": [
      "abc    xyz\n"
     ]
    }
   ],
   "source": [
    "a = 'abc'\n",
    "b = '    xyz'\n",
    "result = a+b\n",
    "print(result)"
   ]
  },
  {
   "cell_type": "code",
   "execution_count": null,
   "id": "fa11c839",
   "metadata": {},
   "outputs": [],
   "source": [
    "# datatype creation in statically typed languages\n",
    "int a = 5\n",
    "cahr b = 5"
   ]
  },
  {
   "cell_type": "code",
   "execution_count": 28,
   "id": "00e82273",
   "metadata": {},
   "outputs": [
    {
     "data": {
      "text/plain": [
       "9.9"
      ]
     },
     "execution_count": 28,
     "metadata": {},
     "output_type": "execute_result"
    }
   ],
   "source": [
    "a = 4.9\n",
    "b = 5\n",
    "a+b"
   ]
  },
  {
   "cell_type": "code",
   "execution_count": null,
   "id": "663784c3",
   "metadata": {},
   "outputs": [],
   "source": []
  },
  {
   "cell_type": "code",
   "execution_count": 34,
   "id": "30137931",
   "metadata": {},
   "outputs": [],
   "source": [
    "d = {'id':1,'age':40,'name':'abc' }"
   ]
  },
  {
   "cell_type": "code",
   "execution_count": 35,
   "id": "2bdfae31",
   "metadata": {},
   "outputs": [
    {
     "name": "stdout",
     "output_type": "stream",
     "text": [
      "<class 'dict'>\n"
     ]
    }
   ],
   "source": [
    "print(type(d))"
   ]
  },
  {
   "cell_type": "code",
   "execution_count": 36,
   "id": "26425424",
   "metadata": {},
   "outputs": [
    {
     "data": {
      "text/plain": [
       "'abc'"
      ]
     },
     "execution_count": 36,
     "metadata": {},
     "output_type": "execute_result"
    }
   ],
   "source": [
    "d['name']"
   ]
  },
  {
   "cell_type": "code",
   "execution_count": 43,
   "id": "b3ca08d2",
   "metadata": {},
   "outputs": [],
   "source": [
    "list_ = [8,6,7,8,9,4,10,'skkdfkksfa  '  , ' kjfdkjskdfkasjdkfjsadfkajdfksjadsfklj',[1,2,5,6]]"
   ]
  },
  {
   "cell_type": "code",
   "execution_count": 44,
   "id": "9a5fe6d3",
   "metadata": {},
   "outputs": [
    {
     "data": {
      "text/plain": [
       "10"
      ]
     },
     "execution_count": 44,
     "metadata": {},
     "output_type": "execute_result"
    }
   ],
   "source": [
    "len(list_)"
   ]
  },
  {
   "cell_type": "code",
   "execution_count": 46,
   "id": "e13c0796",
   "metadata": {},
   "outputs": [],
   "source": [
    "nums = [5,6,8,9.9]"
   ]
  },
  {
   "cell_type": "code",
   "execution_count": 48,
   "id": "a97b26a4",
   "metadata": {},
   "outputs": [
    {
     "name": "stdout",
     "output_type": "stream",
     "text": [
      "28.9\n"
     ]
    }
   ],
   "source": [
    "print(sum(nums))"
   ]
  },
  {
   "cell_type": "markdown",
   "id": "b15d4900",
   "metadata": {},
   "source": [
    "## Static Typing vs Dynamic Typing : \n",
    "- Static typing means that the type of a variable is determined at compile time, before the program is run. \n",
    "- In other words, the programmer must specify the type of each variable when writing the code, and the compiler checks that the operations performed on the variables are valid for their types.\n",
    "- eg : `int x;  x = 5;`\n",
    "- Python is a dynamically typed language, which means that the type of a variable is determined at runtime, and not at compile time like in statically typed languages. \n",
    "- This allows for more flexibility in writing code, but can also lead to runtime errors if you try to perform operations on incompatible types."
   ]
  },
  {
   "cell_type": "markdown",
   "id": "2b42aff8",
   "metadata": {},
   "source": [
    "## Input and output: \n",
    "- Input refers to getting data from the user or from another source, while output refers to displaying data to the user or sending it to another destination. \n",
    "- In Python, you can use the input() function to get input from the user and the print() function to display output."
   ]
  },
  {
   "cell_type": "code",
   "execution_count": 49,
   "id": "a4c44b51",
   "metadata": {},
   "outputs": [
    {
     "name": "stdout",
     "output_type": "stream",
     "text": [
      "Enter a number : 5\n"
     ]
    }
   ],
   "source": [
    "input1 = input(\"Enter a number : \")"
   ]
  },
  {
   "cell_type": "code",
   "execution_count": 51,
   "id": "74eecc0f",
   "metadata": {},
   "outputs": [
    {
     "data": {
      "text/plain": [
       "5"
      ]
     },
     "execution_count": 51,
     "metadata": {},
     "output_type": "execute_result"
    }
   ],
   "source": [
    "int(input1)"
   ]
  },
  {
   "cell_type": "code",
   "execution_count": null,
   "id": "d0a2faae",
   "metadata": {},
   "outputs": [],
   "source": []
  },
  {
   "cell_type": "code",
   "execution_count": null,
   "id": "3b6d4524",
   "metadata": {},
   "outputs": [],
   "source": []
  },
  {
   "cell_type": "code",
   "execution_count": 53,
   "id": "fc8b8fd1",
   "metadata": {},
   "outputs": [
    {
     "name": "stdout",
     "output_type": "stream",
     "text": [
      "ENTER THE company name :abc\n",
      "Your car is  abc\n"
     ]
    }
   ],
   "source": [
    "make = input(\"ENTER THE company name :\")\n",
    "print(\"Your car is \",make)"
   ]
  },
  {
   "cell_type": "code",
   "execution_count": 59,
   "id": "2d6f54ba",
   "metadata": {},
   "outputs": [
    {
     "name": "stdout",
     "output_type": "stream",
     "text": [
      "Enter here : ll\n",
      "ENTER LAST NAME : hh\n",
      "ll hh\n"
     ]
    }
   ],
   "source": [
    "fname = input(\"Enter here : \")\n",
    "lname = input(\"ENTER LAST NAME : \")\n",
    "print(fname,end= ' ')\n",
    "print(lname)\n"
   ]
  },
  {
   "cell_type": "markdown",
   "id": "2844f497",
   "metadata": {},
   "source": [
    "## Operators: \n",
    "- Operators are symbols that perform operations on values. Some common operators in Python are:\n",
    "1. Arithmetic operators : performs mathematical operations.<br>` + - * /  `\n",
    "2. Relational operators : Compare values and return a boolean result. Examples include greater than `(>)`, less than `(<)`, equal to `(==)`, not equal to `(!=)`, etc.\n",
    "3. Assignment operators: Assign values to variables. The most common assignment operator is` = ` .\n",
    "4. Logical operators: Perform logical operations such as AND `(and)`, OR `(or)`, NOT `(not)`.\n",
    "5. Membership operators: Test if a value is a member of a sequence or not. Examples include `in` and `not in`.\n",
    "6. Identity operators: Test if two variables refer to the same object in memory or not. Examples include `is` and `is not`.\n"
   ]
  },
  {
   "cell_type": "code",
   "execution_count": 97,
   "id": "8622a845",
   "metadata": {},
   "outputs": [],
   "source": [
    "a= 5"
   ]
  },
  {
   "cell_type": "code",
   "execution_count": 99,
   "id": "a2003a41",
   "metadata": {},
   "outputs": [
    {
     "name": "stdout",
     "output_type": "stream",
     "text": [
      "5\n"
     ]
    }
   ],
   "source": [
    "if a > 0  or a > 10 :\n",
    "    print(a)"
   ]
  },
  {
   "cell_type": "code",
   "execution_count": 78,
   "id": "bdc74c0b",
   "metadata": {},
   "outputs": [],
   "source": [
    "nums = [12,5,67,88]"
   ]
  },
  {
   "cell_type": "code",
   "execution_count": 79,
   "id": "399433f8",
   "metadata": {},
   "outputs": [],
   "source": [
    "a= 5\n",
    "if a not in nums:\n",
    "    print(\"A is not present in nums\")\n"
   ]
  },
  {
   "cell_type": "code",
   "execution_count": 81,
   "id": "351db4c3",
   "metadata": {},
   "outputs": [
    {
     "data": {
      "text/plain": [
       "5"
      ]
     },
     "execution_count": 81,
     "metadata": {},
     "output_type": "execute_result"
    }
   ],
   "source": [
    "a"
   ]
  },
  {
   "cell_type": "code",
   "execution_count": 83,
   "id": "d5073b53",
   "metadata": {},
   "outputs": [
    {
     "data": {
      "text/plain": [
       "False"
      ]
     },
     "execution_count": 83,
     "metadata": {},
     "output_type": "execute_result"
    }
   ],
   "source": [
    "a == 6 "
   ]
  },
  {
   "cell_type": "code",
   "execution_count": 48,
   "id": "3fdbeb3a",
   "metadata": {},
   "outputs": [
    {
     "data": {
      "text/plain": [
       "False"
      ]
     },
     "execution_count": 48,
     "metadata": {},
     "output_type": "execute_result"
    }
   ],
   "source": [
    "4 != 4"
   ]
  },
  {
   "cell_type": "code",
   "execution_count": 85,
   "id": "a4ee482e",
   "metadata": {},
   "outputs": [],
   "source": [
    "# if number is positive\n",
    "n = -1\n",
    "if n > 0  :\n",
    "    print(\"n is postive\")"
   ]
  },
  {
   "cell_type": "code",
   "execution_count": 86,
   "id": "f230155a",
   "metadata": {},
   "outputs": [
    {
     "data": {
      "text/plain": [
       "9"
      ]
     },
     "execution_count": 86,
     "metadata": {},
     "output_type": "execute_result"
    }
   ],
   "source": [
    "#Examples :\n",
    "4+5"
   ]
  },
  {
   "cell_type": "code",
   "execution_count": 91,
   "id": "c1380f37",
   "metadata": {},
   "outputs": [],
   "source": [
    "x= 5\n",
    "y = 89"
   ]
  },
  {
   "cell_type": "code",
   "execution_count": 92,
   "id": "ce7b1b6c",
   "metadata": {},
   "outputs": [
    {
     "data": {
      "text/plain": [
       "5"
      ]
     },
     "execution_count": 92,
     "metadata": {},
     "output_type": "execute_result"
    }
   ],
   "source": [
    "x%y"
   ]
  },
  {
   "cell_type": "code",
   "execution_count": 93,
   "id": "af7f7492",
   "metadata": {},
   "outputs": [
    {
     "name": "stdout",
     "output_type": "stream",
     "text": [
      "94\n",
      "-84\n",
      "445\n",
      "0.056179775280898875\n",
      "5\n"
     ]
    }
   ],
   "source": [
    "print(x+y)\n",
    "print(x-y)\n",
    "print(x*y)\n",
    "print(x/y)\n",
    "\n",
    "print(x % y)\n"
   ]
  },
  {
   "cell_type": "code",
   "execution_count": 95,
   "id": "3f77bc3b",
   "metadata": {},
   "outputs": [],
   "source": [
    "fruits = ['apple','mango','cherry']\n",
    "if 'banana' in fruits:\n",
    "    print(True)"
   ]
  },
  {
   "cell_type": "code",
   "execution_count": 38,
   "id": "b343d02f",
   "metadata": {},
   "outputs": [
    {
     "name": "stdout",
     "output_type": "stream",
     "text": [
      "False\n",
      "True\n",
      "True\n"
     ]
    }
   ],
   "source": [
    "x = [1, 2, 3]\n",
    "y = [1, 2, 3]\n",
    "z = x\n",
    "\n",
    "print(x is y) # False\n",
    "print(x is z) # True\n",
    "print(x is not y) # True\n"
   ]
  },
  {
   "cell_type": "markdown",
   "id": "bf552d0f",
   "metadata": {},
   "source": [
    "---"
   ]
  },
  {
   "cell_type": "markdown",
   "id": "eb455654",
   "metadata": {},
   "source": [
    "# Control Flow :\n",
    "- Control flow refers to the order in which statements are executed in a program. \n",
    "- In Python, you can use conditional statements and loops to control the flow of your program."
   ]
  },
  {
   "cell_type": "markdown",
   "id": "ef187a28",
   "metadata": {},
   "source": [
    "--- \n",
    "## If statement: \n",
    "- The if statement is used to execute a block of code only if a certain condition is true."
   ]
  },
  {
   "cell_type": "code",
   "execution_count": 8,
   "id": "d154be8b",
   "metadata": {},
   "outputs": [
    {
     "name": "stdout",
     "output_type": "stream",
     "text": [
      "x is negative \n"
     ]
    }
   ],
   "source": [
    "x = -5\n",
    "if x > 0:\n",
    "    print(\"x is positive\")\n",
    "else:\n",
    "    print(\"x is negative \")\n",
    "    \n",
    "    \n",
    "    \n"
   ]
  },
  {
   "cell_type": "code",
   "execution_count": 105,
   "id": "8b334ab5",
   "metadata": {},
   "outputs": [
    {
     "name": "stdout",
     "output_type": "stream",
     "text": [
      "ENter a number :5\n",
      "ENTER a number : 5\n",
      "Enter the operation : +\n",
      "10\n",
      "adding \n"
     ]
    }
   ],
   "source": [
    "# Basic calculator\n",
    "a = int(input(\"ENter a number :\"))   # taking a number\n",
    "b = int(input(\"ENTER a number : \"))  # taking one more number\n",
    "sign = input(\"Enter the operation : \")  # taking which operation to perform from user\n",
    "\n",
    "if sign == '+':\n",
    "    print(a+b)\n",
    "    print('adding ')\n",
    "elif sign == '-':\n",
    "    print(a-b)\n",
    "elif sign == '*' :\n",
    "    print(a*b)\n",
    "elif sign == '/':\n",
    "    print(a/b)"
   ]
  },
  {
   "cell_type": "markdown",
   "id": "3b934e5b",
   "metadata": {},
   "source": [
    "---\n",
    "## If-else: \n",
    "- The if-else statement is used to execute one block of code if a condition is true, and another block of code if the condition is false."
   ]
  },
  {
   "cell_type": "code",
   "execution_count": 40,
   "id": "74dcd0a5",
   "metadata": {},
   "outputs": [
    {
     "name": "stdout",
     "output_type": "stream",
     "text": [
      "x is not positive\n"
     ]
    }
   ],
   "source": [
    "x = -5\n",
    "if x > 0:\n",
    "    print(\"x is positive\")\n",
    "else:\n",
    "    print(\"x is not positive\")\n"
   ]
  },
  {
   "cell_type": "markdown",
   "id": "ff9e4829",
   "metadata": {},
   "source": [
    "---\n",
    "## If-elif-else: \n",
    "- The if-elif-else statement is used to test multiple conditions and execute different blocks of code depending on which condition is true."
   ]
  },
  {
   "cell_type": "code",
   "execution_count": 58,
   "id": "8a0ee7e6",
   "metadata": {},
   "outputs": [
    {
     "name": "stdout",
     "output_type": "stream",
     "text": [
      "x is zero\n"
     ]
    }
   ],
   "source": [
    "x = -5\n",
    "if x > 0:\n",
    "    print(\"x is positive\")\n",
    "elif x < 0:\n",
    "    print(\"x is negative\")\n",
    "else:\n",
    "    print(\"x is zero\")\n"
   ]
  },
  {
   "cell_type": "markdown",
   "id": "b0c02cff",
   "metadata": {},
   "source": [
    "---\n",
    "## Nested if-else: \n",
    "- You can nest if-else statements inside other if-else statements to test multiple conditions in a hierarchical manner."
   ]
  },
  {
   "cell_type": "code",
   "execution_count": 12,
   "id": "4e258b54",
   "metadata": {},
   "outputs": [
    {
     "name": "stdout",
     "output_type": "stream",
     "text": [
      "X is negative but y is positive\n"
     ]
    }
   ],
   "source": [
    "x = -5\n",
    "y = 2\n",
    "if x > 0:\n",
    "    if y > 0:\n",
    "        print(\"Both x and y are positive\")\n",
    "    else:\n",
    "        print(\"x is positive but y is not positive\")\n",
    "        \n",
    "elif x < 0 :\n",
    "    if y < 0:\n",
    "        print(\"BOth values are negative\")\n",
    "    else:\n",
    "        print(\"X is negative but y is positive\")\n",
    "else:\n",
    "    print(\"x is not positive\")\n"
   ]
  },
  {
   "cell_type": "code",
   "execution_count": 62,
   "id": "abae6a09",
   "metadata": {},
   "outputs": [
    {
     "name": "stdout",
     "output_type": "stream",
     "text": [
      "Enter the value of x : 5\n",
      "Enter the value of y : -1\n",
      "x is postive and y is negative\n"
     ]
    }
   ],
   "source": [
    "x = int(input(\"Enter the value of x : \"))\n",
    "y = int(input(\"Enter the value of y : \"))\n",
    "if x > 0 and y > 0:\n",
    "    print(\"BOTH values are positive\")\n",
    "elif x >0 and y < 0 :\n",
    "    print(\"x is postive and y is negative\")\n",
    "elif x < 0 and y >0 :\n",
    "    print(\"x is negative and y is positive\")\n",
    "else:\n",
    "    print(\"BOth values are negative\")"
   ]
  },
  {
   "cell_type": "markdown",
   "id": "d15f4efe",
   "metadata": {},
   "source": [
    "## Q.create a program that takes a number as input and checks its divisibility with 2 and 3."
   ]
  },
  {
   "cell_type": "code",
   "execution_count": 65,
   "id": "98465029",
   "metadata": {},
   "outputs": [
    {
     "name": "stdout",
     "output_type": "stream",
     "text": [
      "ENter the first number : 6\n",
      "6 is divisble by 2 and 3.\n"
     ]
    }
   ],
   "source": [
    "# WRITE CODE HERE\n",
    "\n",
    "x = int(input(\"ENter the first number : \"))\n",
    "\n",
    "if (x % 2) == 0 and (x % 3) == 0 :\n",
    "    print(f\"{x} is divisble by 2 and 3.\")\n",
    "else:\n",
    "    print(f\"{x} is not divisible by both numbers.\")\n",
    "    \n",
    "\n"
   ]
  },
  {
   "cell_type": "markdown",
   "id": "7e6aca53",
   "metadata": {},
   "source": [
    "for loop\n",
    "\n",
    "while loop "
   ]
  },
  {
   "cell_type": "code",
   "execution_count": null,
   "id": "def52d17",
   "metadata": {},
   "outputs": [],
   "source": []
  },
  {
   "cell_type": "code",
   "execution_count": null,
   "id": "b30cce11",
   "metadata": {},
   "outputs": [],
   "source": []
  },
  {
   "cell_type": "code",
   "execution_count": null,
   "id": "35744f8d",
   "metadata": {},
   "outputs": [],
   "source": []
  },
  {
   "cell_type": "code",
   "execution_count": null,
   "id": "3715edd8",
   "metadata": {},
   "outputs": [],
   "source": []
  },
  {
   "cell_type": "code",
   "execution_count": null,
   "id": "0e18c41a",
   "metadata": {},
   "outputs": [],
   "source": []
  },
  {
   "cell_type": "code",
   "execution_count": null,
   "id": "5e973724",
   "metadata": {},
   "outputs": [],
   "source": []
  },
  {
   "cell_type": "code",
   "execution_count": 15,
   "id": "86370a0b",
   "metadata": {},
   "outputs": [
    {
     "name": "stdout",
     "output_type": "stream",
     "text": [
      "hello world\n",
      "Heloo world\n"
     ]
    }
   ],
   "source": [
    "print(\"hello world\")\n",
    "print('Heloo world')\n"
   ]
  },
  {
   "cell_type": "code",
   "execution_count": null,
   "id": "eefd4bc8",
   "metadata": {},
   "outputs": [],
   "source": [
    "[0 ........ 99]"
   ]
  },
  {
   "cell_type": "code",
   "execution_count": 75,
   "id": "23f89ce9",
   "metadata": {},
   "outputs": [
    {
     "name": "stdout",
     "output_type": "stream",
     "text": [
      "1\n",
      "2\n",
      "3\n",
      "4\n",
      "5\n",
      "6\n",
      "7\n",
      "8\n",
      "9\n",
      "10\n"
     ]
    }
   ],
   "source": [
    "for i in range(1,11):\n",
    "    print(i)"
   ]
  },
  {
   "cell_type": "code",
   "execution_count": 74,
   "id": "d0655199",
   "metadata": {},
   "outputs": [
    {
     "name": "stdout",
     "output_type": "stream",
     "text": [
      "HELLO WORLD\n",
      "HELLO WORLD\n",
      "HELLO WORLD\n",
      "HELLO WORLD\n",
      "HELLO WORLD\n",
      "HELLO WORLD\n",
      "HELLO WORLD\n",
      "HELLO WORLD\n",
      "HELLO WORLD\n",
      "HELLO WORLD\n"
     ]
    }
   ],
   "source": [
    "for i in range(1,11):\n",
    "    print(\"HELLO WORLD\")"
   ]
  },
  {
   "cell_type": "code",
   "execution_count": null,
   "id": "45013f4e",
   "metadata": {},
   "outputs": [],
   "source": []
  },
  {
   "cell_type": "code",
   "execution_count": null,
   "id": "9522527a",
   "metadata": {},
   "outputs": [],
   "source": []
  },
  {
   "cell_type": "markdown",
   "id": "e400fb39",
   "metadata": {},
   "source": [
    "# LOOPS IN PYTHON  : \n",
    "- Loops in Python are a way to repeat a block of code many times."
   ]
  },
  {
   "cell_type": "markdown",
   "id": "f0512b11",
   "metadata": {},
   "source": [
    "---\n",
    "## While loop: \n",
    "- A while loop repeats a block of code as long as a condition is true.\n",
    "- For example, if you want to print the numbers from 1 to 10, you can use a while loop like this:"
   ]
  },
  {
   "cell_type": "code",
   "execution_count": 17,
   "id": "d251c7ba",
   "metadata": {},
   "outputs": [
    {
     "name": "stdout",
     "output_type": "stream",
     "text": [
      "1\n",
      "2\n",
      "3\n",
      "4\n",
      "5\n",
      "6\n",
      "7\n",
      "8\n",
      "9\n",
      "10\n"
     ]
    }
   ],
   "source": [
    "number = 1 # start with 1\n",
    "while number <= 10: # check if the number is less than or equal to 10\n",
    "    print(number) # print the number\n",
    "    number = number + 1 # add 1 to the number and repeat the loop\n"
   ]
  },
  {
   "cell_type": "code",
   "execution_count": 36,
   "id": "1b21e1e2",
   "metadata": {},
   "outputs": [
    {
     "data": {
      "text/plain": [
       "[0, 1, 2, 3, 4, 5, 6, 7, 8, 9]"
      ]
     },
     "execution_count": 36,
     "metadata": {},
     "output_type": "execute_result"
    }
   ],
   "source": [
    "list(range(10))"
   ]
  },
  {
   "cell_type": "code",
   "execution_count": 82,
   "id": "dbdf8671",
   "metadata": {},
   "outputs": [
    {
     "name": "stdout",
     "output_type": "stream",
     "text": [
      "1\n",
      "2\n",
      "3\n",
      "4\n",
      "5\n",
      "6\n",
      "7\n",
      "8\n",
      "9\n",
      "10\n"
     ]
    }
   ],
   "source": [
    "for i in range(1,11):\n",
    "    print(i)"
   ]
  },
  {
   "cell_type": "code",
   "execution_count": 22,
   "id": "63d7ca6d",
   "metadata": {},
   "outputs": [
    {
     "data": {
      "text/plain": [
       "[4, 5, 7]"
      ]
     },
     "execution_count": 22,
     "metadata": {},
     "output_type": "execute_result"
    }
   ],
   "source": [
    "my_list = [4,5,7,8,9,110]\n",
    "for each_element in my_list:\n",
    "    print(each_element +1)\n"
   ]
  },
  {
   "cell_type": "markdown",
   "id": "1ce9bb52",
   "metadata": {},
   "source": [
    "---\n",
    "## For loop :\n",
    "- A for loop repeats a block of code for each item in a sequence, such as a list or a string. \n",
    "- For example, if you have a list of fruits, you can use a for loop to print each fruit like this:"
   ]
  },
  {
   "cell_type": "code",
   "execution_count": 26,
   "id": "aa43b980",
   "metadata": {},
   "outputs": [
    {
     "name": "stdout",
     "output_type": "stream",
     "text": [
      "apple\n",
      "banana\n",
      "orange\n"
     ]
    }
   ],
   "source": [
    "fruits = [\"apple\", \"banana\", \"orange\",\"cherry\"]\n",
    "for fruit in fruits:\n",
    "    if 'a' in fruit:\n",
    "        print(fruit)\n"
   ]
  },
  {
   "cell_type": "code",
   "execution_count": 80,
   "id": "da493faf",
   "metadata": {},
   "outputs": [
    {
     "name": "stdout",
     "output_type": "stream",
     "text": [
      "1 2 3 4 5 "
     ]
    }
   ],
   "source": [
    "numbers = [1, 2, 3, 4, 5]\n",
    "for i in numbers:\n",
    "    print(i,end= ' ')"
   ]
  },
  {
   "cell_type": "markdown",
   "id": "0ab458db",
   "metadata": {},
   "source": [
    "## NESTED LOOPS : \n",
    "- Nested loops in Python are loops that are inside another loop. \n",
    "\n",
    "---\n",
    "## Nested for loop: \n",
    "- You can nest one for loop inside another for loop to iterate over multiple sequences at once.\n",
    "- This inner loop will run for each value of i."
   ]
  },
  {
   "cell_type": "code",
   "execution_count": null,
   "id": "907de084",
   "metadata": {},
   "outputs": [],
   "source": [
    "i = 0,1,2\n",
    "j = 0,1,2\n"
   ]
  },
  {
   "cell_type": "code",
   "execution_count": 41,
   "id": "01408530",
   "metadata": {},
   "outputs": [
    {
     "name": "stdout",
     "output_type": "stream",
     "text": [
      "0 0\n",
      "0 1\n",
      "0 2\n",
      "1 0\n",
      "1 1\n",
      "1 2\n",
      "2 0\n",
      "2 1\n",
      "2 2\n"
     ]
    }
   ],
   "source": [
    "for i in range(3):\n",
    "    for j in range(3):\n",
    "        print(i,j)"
   ]
  },
  {
   "cell_type": "markdown",
   "id": "1b481811",
   "metadata": {},
   "source": [
    "- The first line `for i in range(3):` creates an outer loop that repeats 3 times, from 0 to 2. Each time, the variable i gets the value of the current iteration.\n",
    "- The second line `for j in range(3):` creates an inner loop that repeats 3 times, from 0 to 2. Each time, the variable j gets the value of the current iteration. This inner loop is inside the outer loop, so it will run for each value of i.\n",
    "- The third line `print(i,j)` prints the values of i and j, separated by a comma. This line is inside both loops, so it will run for each pair of i and j.\n",
    "\n",
    "-  *The outer loop starts with i = 0. It creates an inner loop that runs with j = 0, 1, and 2. Each time, it prints the values of i and j, which are (0, 0), (0, 1), and (0, 2).*"
   ]
  },
  {
   "cell_type": "markdown",
   "id": "2f16fe6b",
   "metadata": {},
   "source": [
    "## Nested while loop: \n",
    "- Similarly to nested for loops, you can also nest one while loop inside another while loop."
   ]
  },
  {
   "cell_type": "code",
   "execution_count": 86,
   "id": "c60b8dbd",
   "metadata": {},
   "outputs": [
    {
     "name": "stdout",
     "output_type": "stream",
     "text": [
      "1 1\n",
      "1 2\n",
      "2 1\n",
      "2 2\n",
      "ended\n"
     ]
    }
   ],
   "source": [
    "i = 1\n",
    "while i <= 2:\n",
    "    j = 1\n",
    "    while j <= 2:\n",
    "        print(i,j)\n",
    "        j +=1\n",
    "        \n",
    "    i +=1\n",
    "\n",
    "print(\"ended\")\n"
   ]
  },
  {
   "cell_type": "markdown",
   "id": "325ec016",
   "metadata": {},
   "source": [
    "- The outer loop starts with i = 1. It checks if i <= 2. It is true, so it executes the block of code inside the loop.\n",
    "- It assigns j = 1 and creates an inner loop that runs with j = 1 and 2. Each time, it prints the values of i and j, which are (1, 1) and (1, 2). It also updates the value of j by adding 1 to it.\n",
    "- After the inner loop finishes, it updates the value of i by adding 1 to it. Now, i = 2.\n",
    "- The outer loop continues with i = 2. It checks if i <= 2. It is true, so it executes the block of code inside the loop.\n",
    "- It assigns j = 1 and creates an inner loop that runs with j = 1 and 2. Each time, it prints the values of i and j, which are (2, 1) and (2, 2). It also updates the value of j by adding 1 to it.\n",
    "- After the inner loop finishes, it updates the value of i by adding 1 to it. Now, i = 3.\n",
    "- The outer loop continues with i = 3. It checks if i <= 2. It is false, so it stops the loop and exits from it."
   ]
  },
  {
   "cell_type": "markdown",
   "id": "fed5aafb",
   "metadata": {},
   "source": [
    "## Loop with else: \n",
    "- In Python, you can use an else statement with a loop. The code in the else block is executed when the loop finishes normally (i.e., when the condition becomes false), but not when the loop is terminated by a break statement. "
   ]
  },
  {
   "cell_type": "code",
   "execution_count": 87,
   "id": "876feee3",
   "metadata": {},
   "outputs": [
    {
     "name": "stdout",
     "output_type": "stream",
     "text": [
      "0\n",
      "1\n",
      "2\n",
      "The loop finished normally\n"
     ]
    }
   ],
   "source": [
    "for i in range(3):\n",
    "    print(i)\n",
    "else:\n",
    "    print(\"The loop finished normally\")"
   ]
  },
  {
   "cell_type": "markdown",
   "id": "1f680764",
   "metadata": {},
   "source": [
    "---\n",
    "## Pass statement: \n",
    "- The pass statement is a placeholder statement that does nothing. It is used when you need a statement in your code for syntactic reasons, but you don’t want the statement to do anything."
   ]
  },
  {
   "cell_type": "code",
   "execution_count": 14,
   "id": "38aa11eb",
   "metadata": {},
   "outputs": [
    {
     "name": "stdout",
     "output_type": "stream",
     "text": [
      "continuee the program\n"
     ]
    }
   ],
   "source": [
    "x = 5\n",
    "if x > 0:\n",
    "    pass\n",
    "\n",
    "print(\"continuee the program\")\n"
   ]
  },
  {
   "cell_type": "markdown",
   "id": "5ca00d11",
   "metadata": {},
   "source": [
    "--- \n",
    "## Break and continue: \n",
    "- The break and continue statements are used to control the flow of execution inside loops.\n",
    "- The break statement terminates the innermost loop and transfers control to the next statement after the loop. \n",
    "- The continue statement is used to skip the current iteration of a loop and continue with the next one.\n",
    "- You can think of the continue statement as a shortcut to jump to the next iteration of the loop."
   ]
  },
  {
   "cell_type": "code",
   "execution_count": 2,
   "id": "716c81de",
   "metadata": {},
   "outputs": [
    {
     "name": "stdout",
     "output_type": "stream",
     "text": [
      "1\n",
      "2\n",
      "3\n",
      "4\n"
     ]
    }
   ],
   "source": [
    "for number in range(1, 11):\n",
    "    if number == 5:\n",
    "        break # stop the loop\n",
    "    print(number)\n"
   ]
  },
  {
   "cell_type": "code",
   "execution_count": 15,
   "id": "81b2c0ae",
   "metadata": {},
   "outputs": [
    {
     "name": "stdout",
     "output_type": "stream",
     "text": [
      "0\n",
      "1\n",
      "2\n",
      "4\n"
     ]
    }
   ],
   "source": [
    "for i in range(5):\n",
    "    if i == 3:\n",
    "        continue\n",
    "    print(i)\n"
   ]
  },
  {
   "cell_type": "markdown",
   "id": "029f3b96",
   "metadata": {},
   "source": [
    " For example, if you have a loop that prints the numbers from 1 to 10, and you want to skip the even numbers, you can use the continue statement like this:"
   ]
  },
  {
   "cell_type": "code",
   "execution_count": 16,
   "id": "2904d4d4",
   "metadata": {},
   "outputs": [
    {
     "name": "stdout",
     "output_type": "stream",
     "text": [
      "1\n",
      "3\n",
      "5\n",
      "7\n",
      "9\n"
     ]
    }
   ],
   "source": [
    "for number in range(1, 11):\n",
    "    if number % 2 == 0: # check if the number is even\n",
    "        continue # skip this iteration\n",
    "    print(number) # print the number\n"
   ]
  },
  {
   "cell_type": "markdown",
   "id": "41216fa0",
   "metadata": {},
   "source": [
    " ## create a program that takes a number as input and checks its divisibility with 2 and 3."
   ]
  },
  {
   "cell_type": "markdown",
   "id": "c8d7db02",
   "metadata": {},
   "source": [
    "Modulo operator `[%]` ==> gives reamainder \n",
    "- if n is 153, then digit = 153 % 10 gives the remainder 3, which is the rightmost digit.\n",
    "        This is because when you divide 153 by 10, you get 15 as the quotient and 3 as the remainder.<br>"
   ]
  },
  {
   "cell_type": "code",
   "execution_count": 75,
   "id": "99ddf1b1",
   "metadata": {},
   "outputs": [
    {
     "name": "stdout",
     "output_type": "stream",
     "text": [
      "Enter the number : 5\n",
      "number is not divisible by both \n"
     ]
    }
   ],
   "source": [
    "# code :\n",
    "number = int(input(\"Enter the number : \"))\n",
    "if (number % 2) == 0:\n",
    "    if (number % 3) == 0:\n",
    "        print(number,\" is divisble by 2 and 3\")\n",
    "    else:\n",
    "        print(number, \"is divisible by 2 but not with 3\")\n",
    "        \n",
    "else:\n",
    "    print(\"number is not divisible by both \")   "
   ]
  },
  {
   "cell_type": "code",
   "execution_count": 11,
   "id": "131d2b9c",
   "metadata": {},
   "outputs": [
    {
     "name": "stdout",
     "output_type": "stream",
     "text": [
      "Enter the number : 8\n",
      "divisible by 2 but not by 3\n"
     ]
    }
   ],
   "source": [
    "number = int(input(\"Enter the number : \"))\n",
    "if (number % 2) == 0 and (number % 3) == 0 :\n",
    "    print(number, \"is divisible by 2 and 3\")\n",
    "elif (number%2 == 0) and (number% 3 != 0):\n",
    "    print(\"divisible by 2 but not by 3\")\n",
    "elif (number %2 != 0) and (number % 3 ==0):\n",
    "    print(\"Divisible by 3 but not by 2\")\n",
    "else:\n",
    "    print(\"number is not divisible by any or both \")  "
   ]
  },
  {
   "cell_type": "markdown",
   "id": "30b61182",
   "metadata": {},
   "source": [
    "## Printing patterns:\n"
   ]
  },
  {
   "cell_type": "markdown",
   "id": "4509bdd2",
   "metadata": {},
   "source": [
    "---\n",
    "'''\n",
    "### Q. print the following patter using loops and if-else statements.\n",
    " \n",
    "    * * * *\n",
    "    * * * *\n",
    "    * * * *\n",
    "    * * * *\n",
    "    \n",
    "'''\n",
    "    "
   ]
  },
  {
   "cell_type": "code",
   "execution_count": 81,
   "id": "3c249e98",
   "metadata": {},
   "outputs": [
    {
     "data": {
      "text/plain": [
       "'4444'"
      ]
     },
     "execution_count": 81,
     "metadata": {},
     "output_type": "execute_result"
    }
   ],
   "source": [
    "a = '4'\n",
    "a *4"
   ]
  },
  {
   "cell_type": "code",
   "execution_count": 86,
   "id": "8a027d90",
   "metadata": {},
   "outputs": [
    {
     "name": "stdout",
     "output_type": "stream",
     "text": [
      "x x x x \n",
      "x x x x \n",
      "x x x x \n",
      "x x x x \n"
     ]
    }
   ],
   "source": [
    "n = 4\n",
    "for i in range(1,n+1):\n",
    "    print('x ' * n)\n",
    "       "
   ]
  },
  {
   "cell_type": "code",
   "execution_count": 1,
   "id": "84bf09ab",
   "metadata": {},
   "outputs": [
    {
     "name": "stdout",
     "output_type": "stream",
     "text": [
      "* * * * * * \n",
      "* * * * * * \n",
      "* * * * * * \n",
      "* * * * * * \n"
     ]
    }
   ],
   "source": [
    "for i in range(4):\n",
    "    for j in range(6):\n",
    "        print(\"* \",end='')\n",
    "    print()"
   ]
  },
  {
   "cell_type": "markdown",
   "id": "7a492e94",
   "metadata": {},
   "source": [
    "---\n",
    "'''\n",
    "### Q. print the following patter using loops and if-else statements.\n",
    " \n",
    "    *\n",
    "    * *\n",
    "    * * *\n",
    "    * * * *\n",
    "    \n",
    "'''\n",
    "\n",
    "---"
   ]
  },
  {
   "cell_type": "code",
   "execution_count": 17,
   "id": "8189576a",
   "metadata": {},
   "outputs": [
    {
     "name": "stdout",
     "output_type": "stream",
     "text": [
      "*\n",
      "**\n",
      "***\n",
      "****\n"
     ]
    }
   ],
   "source": [
    "for i in range(1,5):\n",
    "    print(\"*\" * i)"
   ]
  },
  {
   "cell_type": "code",
   "execution_count": 20,
   "id": "2c6cce25",
   "metadata": {},
   "outputs": [
    {
     "name": "stdout",
     "output_type": "stream",
     "text": [
      "* \n",
      "* * \n",
      "* * * \n",
      "* * * * \n"
     ]
    }
   ],
   "source": [
    "for i in range(1,5):\n",
    "    for j in range(i):\n",
    "        print(\"*\", end = ' ')\n",
    "        \n",
    "    print()"
   ]
  },
  {
   "cell_type": "code",
   "execution_count": 22,
   "id": "0f6b9355",
   "metadata": {},
   "outputs": [
    {
     "data": {
      "text/plain": [
       "range(0, 1)"
      ]
     },
     "execution_count": 22,
     "metadata": {},
     "output_type": "execute_result"
    }
   ],
   "source": [
    "range(1)"
   ]
  },
  {
   "cell_type": "code",
   "execution_count": 19,
   "id": "90584850",
   "metadata": {},
   "outputs": [
    {
     "data": {
      "text/plain": [
       "[9, 8, 67, 24, 1]"
      ]
     },
     "execution_count": 19,
     "metadata": {},
     "output_type": "execute_result"
    }
   ],
   "source": [
    "l = [1,24,67,8,9]\n",
    "\n",
    "l[::-1]"
   ]
  },
  {
   "cell_type": "code",
   "execution_count": 10,
   "id": "00965dab",
   "metadata": {},
   "outputs": [
    {
     "name": "stdout",
     "output_type": "stream",
     "text": [
      "ENTER THE NUMBER OF ROWS :4\n",
      "\n",
      "x \n",
      "x x \n",
      "x x x \n",
      "x x x x \n"
     ]
    }
   ],
   "source": [
    "n = int(input(\"ENTER THE NUMBER OF ROWS :\")  )    \n",
    "for i in range(n+1):\n",
    "       print(\"x \" * i) "
   ]
  },
  {
   "cell_type": "code",
   "execution_count": 30,
   "id": "384d34ad",
   "metadata": {},
   "outputs": [
    {
     "name": "stdout",
     "output_type": "stream",
     "text": [
      "* \n",
      "* * \n",
      "* * * \n",
      "* * * * \n"
     ]
    }
   ],
   "source": [
    "rows = 4\n",
    "for row in range(rows):\n",
    "    for column in range(row +1):\n",
    "        print(\"* \",end = '')\n",
    "    print()\n",
    "        "
   ]
  },
  {
   "cell_type": "code",
   "execution_count": 6,
   "id": "1f3e40c2",
   "metadata": {},
   "outputs": [
    {
     "name": "stdout",
     "output_type": "stream",
     "text": [
      "* \n",
      "* * \n",
      "* * * \n",
      "* * * * \n",
      "* * * * * \n"
     ]
    }
   ],
   "source": [
    "n =5\n",
    "for i in range(n):\n",
    "    for j in range(i+1):\n",
    "        print('*', end=' ')\n",
    "    print()\n"
   ]
  },
  {
   "cell_type": "markdown",
   "id": "26b6a1cd",
   "metadata": {},
   "source": [
    "---\n",
    "\n",
    "'''\n",
    "\n",
    "## Q.Python Program to print star pattern 2\n",
    "\n",
    "\n",
    "    * * * * *\n",
    "    * * * *\n",
    "    * * *\n",
    "    * *\n",
    "    *\n",
    "\n",
    "'''"
   ]
  },
  {
   "cell_type": "code",
   "execution_count": null,
   "id": "0e138fe3",
   "metadata": {},
   "outputs": [],
   "source": []
  },
  {
   "cell_type": "code",
   "execution_count": 36,
   "id": "07d2d963",
   "metadata": {},
   "outputs": [
    {
     "name": "stdout",
     "output_type": "stream",
     "text": [
      "* * * * \n",
      "* * * \n",
      "* * \n",
      "* \n",
      "* * * * \n",
      "* * * \n",
      "* * \n",
      "* \n"
     ]
    }
   ],
   "source": [
    "# write code here\n",
    "n = 4\n",
    "for i in range(1,n+1):\n",
    "    print('* ' * n)\n",
    "    n -=1\n",
    "    \n",
    "\n",
    "n = 4   \n",
    "for i in range(n):\n",
    "    for j in range(n-i):\n",
    "        print(\"*\", end=' ')\n",
    "    print()"
   ]
  },
  {
   "cell_type": "markdown",
   "id": "6d0f70b9",
   "metadata": {},
   "source": [
    "\n",
    "---\n",
    "\n",
    "\n",
    "### Q.Python Program to print star Triangle pattern 3\n",
    "\n",
    "     Enter number of rows:5\n",
    "         *\n",
    "        **\n",
    "       ***\n",
    "      ****\n",
    "     *****\n",
    "\n",
    "---\n",
    "'''"
   ]
  },
  {
   "cell_type": "code",
   "execution_count": 41,
   "id": "48487eec",
   "metadata": {
    "scrolled": true
   },
   "outputs": [
    {
     "name": "stdout",
     "output_type": "stream",
     "text": [
      "    *\n",
      "   **\n",
      "  ***\n",
      " ****\n",
      "*****\n"
     ]
    }
   ],
   "source": [
    "# USING WHILE LOOP\n",
    "n = 5\n",
    "i = 1\n",
    "while i <= n:\n",
    "    space = 1\n",
    "    while space <= n-i:\n",
    "        print(\" \", end='')\n",
    "        space += 1\n",
    "    \n",
    "    star = 1\n",
    "    while star <= i:\n",
    "        print(\"*\", end=\"\")\n",
    "        star += 1\n",
    "    print()\n",
    "    i += 1  "
   ]
  },
  {
   "cell_type": "code",
   "execution_count": 91,
   "id": "efe1bbf6",
   "metadata": {},
   "outputs": [
    {
     "name": "stdout",
     "output_type": "stream",
     "text": [
      "    *\n",
      "   **\n",
      "  ***\n",
      " ****\n",
      "*****\n"
     ]
    }
   ],
   "source": [
    "# USING FOR LOOP\n",
    "n= 5\n",
    "for i in range(1,n+1):\n",
    "    for space in range(n-i):\n",
    "        print(\" \",end='')\n",
    "    for star in range(i):\n",
    "        print(\"*\",end=\"\")\n",
    "    print()"
   ]
  }
 ],
 "metadata": {
  "kernelspec": {
   "display_name": "Python 3 (ipykernel)",
   "language": "python",
   "name": "python3"
  },
  "language_info": {
   "codemirror_mode": {
    "name": "ipython",
    "version": 3
   },
   "file_extension": ".py",
   "mimetype": "text/x-python",
   "name": "python",
   "nbconvert_exporter": "python",
   "pygments_lexer": "ipython3",
   "version": "3.9.16"
  }
 },
 "nbformat": 4,
 "nbformat_minor": 5
}
