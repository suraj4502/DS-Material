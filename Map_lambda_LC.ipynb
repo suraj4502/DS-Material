{
 "cells": [
  {
   "cell_type": "code",
   "execution_count": 1,
   "id": "a2b00cba",
   "metadata": {},
   "outputs": [
    {
     "name": "stdout",
     "output_type": "stream",
     "text": [
      "[2, 4, 6, 2, 2, 90, 12]\n"
     ]
    }
   ],
   "source": [
    "my_list = [2,3,4,5,6,71,2,2,90,12]\n",
    "even_nums = [i for i in my_list if (i%2) == 0]\n",
    "# for i in my_list:\n",
    "#     if i % 2 == 0:\n",
    "#         even_nums.append(i)\n",
    "        \n",
    "print(even_nums)"
   ]
  },
  {
   "cell_type": "code",
   "execution_count": null,
   "id": "1b1ec5a5",
   "metadata": {},
   "outputs": [],
   "source": [
    "new_list = [i for i in range(11) if i % 2 ==0 ]\n",
    "# for i in range(11):\n",
    "#     if (i%2)==0:\n",
    "#         new_list.append(i)\n",
    "print(new_list)"
   ]
  },
  {
   "cell_type": "code",
   "execution_count": 2,
   "id": "03be1e07",
   "metadata": {},
   "outputs": [
    {
     "name": "stdout",
     "output_type": "stream",
     "text": [
      "[[0, 1, 2], [0, 1, 2], [0, 1, 2]]\n"
     ]
    }
   ],
   "source": [
    "matrix_wali_list = []\n",
    "for i in range(3):\n",
    "    sublist = []\n",
    "    for j in range(3):\n",
    "        sublist.append(j)\n",
    "    matrix_wali_list.append(sublist)\n",
    "    \n",
    "print(matrix_wali_list)"
   ]
  },
  {
   "cell_type": "code",
   "execution_count": 11,
   "id": "fc3ae6ba",
   "metadata": {},
   "outputs": [
    {
     "name": "stdout",
     "output_type": "stream",
     "text": [
      "[[0, 1, 2, 3, 4], [0, 1, 2, 3, 4], [0, 1, 2, 3, 4]]\n"
     ]
    }
   ],
   "source": [
    "matrix = []\n",
    "\n",
    "for i in range(3):\n",
    "\n",
    "\t# Append an empty sublist inside the list\n",
    "\tmatrix.append([])\n",
    "\n",
    "\tfor j in range(5):\n",
    "\t\tmatrix[i].append(j)\n",
    "\n",
    "print(matrix)\n"
   ]
  },
  {
   "cell_type": "code",
   "execution_count": 3,
   "id": "85761550",
   "metadata": {},
   "outputs": [
    {
     "data": {
      "text/plain": [
       "[[0, 1, 2], [0, 1, 2], [0, 1, 2]]"
      ]
     },
     "execution_count": 3,
     "metadata": {},
     "output_type": "execute_result"
    }
   ],
   "source": [
    "matrix_using_list_cmp = [[j for j in range(3)] for i in range(3)]\n",
    "matrix_using_list_cmp"
   ]
  },
  {
   "cell_type": "code",
   "execution_count": 8,
   "id": "04d6d1e9",
   "metadata": {},
   "outputs": [
    {
     "name": "stdout",
     "output_type": "stream",
     "text": [
      "['Even number', 'Odd number', 'Even number', 'Odd number', 'Even number', 'Odd number', 'Even number', 'Odd number']\n"
     ]
    }
   ],
   "source": [
    "l = [\"Even number\" if i % 2 == 0 else \"Odd number\" for i in range(8)]\n",
    "print(l)"
   ]
  },
  {
   "cell_type": "code",
   "execution_count": 10,
   "id": "c67febf1",
   "metadata": {},
   "outputs": [
    {
     "name": "stdout",
     "output_type": "stream",
     "text": [
      "['B', 'A', 'T', 'M', 'A', 'N']\n"
     ]
    }
   ],
   "source": [
    "string = 'BATMAN'\n",
    "l = [character for character in string]\n",
    "# for i in string:\n",
    "#     l.append(i)\n",
    "print(l)"
   ]
  },
  {
   "cell_type": "code",
   "execution_count": null,
   "id": "2cbb846d",
   "metadata": {},
   "outputs": [],
   "source": []
  }
 ],
 "metadata": {
  "kernelspec": {
   "display_name": "Python 3 (ipykernel)",
   "language": "python",
   "name": "python3"
  },
  "language_info": {
   "codemirror_mode": {
    "name": "ipython",
    "version": 3
   },
   "file_extension": ".py",
   "mimetype": "text/x-python",
   "name": "python",
   "nbconvert_exporter": "python",
   "pygments_lexer": "ipython3",
   "version": "3.9.16"
  }
 },
 "nbformat": 4,
 "nbformat_minor": 5
}
