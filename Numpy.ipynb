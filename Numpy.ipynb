{
 "cells": [
  {
   "cell_type": "markdown",
   "id": "d2f46dc5",
   "metadata": {},
   "source": [
    "# NUMPY :-\n",
    "- NumPy, short for \"Numerical Python,\" is a fundamental package in Python for numerical computations. \n",
    "- NumPy introduces the ndarray (N-dimensional array) data structure, which allows you to perform element-wise operations on arrays and matrices efficiently. \n",
    "- These operations are often much faster than using traditional Python lists due to NumPy's optimized implementation in C.\n",
    "- NumPy is a foundational library for many other scientific computing libraries in Python, such as SciPy, scikit-learn, and pandas. "
   ]
  },
  {
   "cell_type": "markdown",
   "id": "fc9bf0ee",
   "metadata": {},
   "source": [
    "---\n",
    "# Numpy Arrays (ndarrays) ⇨\n",
    "- NumPy arrays are similar to Python lists but come with many advantages that make them essential for numerical and scientific computing.\n",
    "    - *Homogeneous Data Type.*\n",
    "    -  *Multidimensional Arrays.*\n",
    "    - *Memory Efficiency.*\n",
    "    - *Fast Element-Wise Operations.*\n",
    "    - *Indexing and Slicing.*\n",
    "---"
   ]
  },
  {
   "cell_type": "markdown",
   "id": "8ae1a8c8",
   "metadata": {},
   "source": [
    "#### TO download Numpy Run the following command on your terminal.\n",
    "\n",
    "\n",
    "``` pip install numpy```\n",
    "\n",
    "---"
   ]
  },
  {
   "cell_type": "code",
   "execution_count": 1,
   "id": "883f35f7",
   "metadata": {},
   "outputs": [],
   "source": [
    "# importing numpy\n",
    "import numpy as np"
   ]
  },
  {
   "cell_type": "code",
   "execution_count": 2,
   "id": "57bc7817",
   "metadata": {},
   "outputs": [],
   "source": [
    "# np.array\n",
    "a = np.array([1,2,3,4])"
   ]
  },
  {
   "cell_type": "code",
   "execution_count": 5,
   "id": "a4e54ef6",
   "metadata": {},
   "outputs": [
    {
     "data": {
      "text/plain": [
       "numpy.ndarray"
      ]
     },
     "execution_count": 5,
     "metadata": {},
     "output_type": "execute_result"
    }
   ],
   "source": [
    "type(a)"
   ]
  }
 ],
 "metadata": {
  "kernelspec": {
   "display_name": "Python 3 (ipykernel)",
   "language": "python",
   "name": "python3"
  },
  "language_info": {
   "codemirror_mode": {
    "name": "ipython",
    "version": 3
   },
   "file_extension": ".py",
   "mimetype": "text/x-python",
   "name": "python",
   "nbconvert_exporter": "python",
   "pygments_lexer": "ipython3",
   "version": "3.9.16"
  }
 },
 "nbformat": 4,
 "nbformat_minor": 5
}
