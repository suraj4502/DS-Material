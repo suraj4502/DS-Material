{
 "cells": [
  {
   "cell_type": "code",
   "execution_count": 1,
   "id": "962a1266",
   "metadata": {},
   "outputs": [
    {
     "data": {
      "text/plain": [
       "True"
      ]
     },
     "execution_count": 1,
     "metadata": {},
     "output_type": "execute_result"
    }
   ],
   "source": [
    "8 > 0"
   ]
  },
  {
   "cell_type": "code",
   "execution_count": 6,
   "id": "fb952e81",
   "metadata": {},
   "outputs": [
    {
     "name": "stdout",
     "output_type": "stream",
     "text": [
      "STATEMENT $\n"
     ]
    }
   ],
   "source": [
    "s = 0\n",
    "\n",
    "if s > 0:\n",
    "    print(\"statement 1\")\n",
    "    print(\"statement 2\")\n",
    "elif s < 0:\n",
    "    print(\"S IS NEGATIVE\")\n",
    "else:\n",
    "    print(\"STATEMENT $\")"
   ]
  },
  {
   "cell_type": "code",
   "execution_count": 9,
   "id": "48c618fa",
   "metadata": {},
   "outputs": [
    {
     "name": "stdout",
     "output_type": "stream",
     "text": [
      "DO SOMETHING\n",
      "DO SOMETHING\n",
      "DO SOMETHING\n",
      "ENDED\n"
     ]
    }
   ],
   "source": [
    "# LOOPS\n",
    "\n",
    "x = 1\n",
    "while x <=3:\n",
    "    print(\"DO SOMETHING\")\n",
    "    x = x +1\n",
    "    \n",
    "print(\"ENDED\")"
   ]
  },
  {
   "cell_type": "code",
   "execution_count": 11,
   "id": "e0c3f114",
   "metadata": {},
   "outputs": [
    {
     "name": "stdout",
     "output_type": "stream",
     "text": [
      "ssss\n",
      "oooo\n",
      "mmmm\n",
      "eeee\n",
      "tttt\n",
      "hhhh\n",
      "iiii\n",
      "nnnn\n",
      "gggg\n"
     ]
    }
   ],
   "source": [
    "# for loop\n",
    "\n",
    "s = 'something'\n",
    "\n",
    "for i in s:\n",
    "    print(i * 4)\n"
   ]
  },
  {
   "cell_type": "code",
   "execution_count": 16,
   "id": "d625a969",
   "metadata": {
    "scrolled": true
   },
   "outputs": [
    {
     "name": "stdout",
     "output_type": "stream",
     "text": [
      "(^)\n",
      "(^)\n",
      "(^)\n",
      "(^)\n"
     ]
    }
   ],
   "source": [
    "for i in range(4):\n",
    "    print(\"(^)\")"
   ]
  },
  {
   "cell_type": "code",
   "execution_count": null,
   "id": "a7ed4d7a",
   "metadata": {},
   "outputs": [],
   "source": [
    "j = [0,1,2,3]\n",
    "i = [0,1,2,3]"
   ]
  },
  {
   "cell_type": "code",
   "execution_count": 19,
   "id": "ac41b2da",
   "metadata": {},
   "outputs": [
    {
     "name": "stdout",
     "output_type": "stream",
     "text": [
      "* * * * \n",
      "* * * * \n",
      "* * * * \n",
      "* * * * \n"
     ]
    }
   ],
   "source": [
    "# NESTED FOR LOOP\n",
    "for j in range(4):\n",
    "    for i in range(4):\n",
    "        print(\"*\", end=\" \")\n",
    "    print()"
   ]
  },
  {
   "cell_type": "code",
   "execution_count": 22,
   "id": "91f80bc2",
   "metadata": {},
   "outputs": [
    {
     "name": "stdout",
     "output_type": "stream",
     "text": [
      "COMPLETED\n"
     ]
    }
   ],
   "source": [
    "# PASS\n",
    "a = 1\n",
    "while a > 10:\n",
    "    pass\n",
    "    \n",
    "print(\"COMPLETED\")\n",
    "\n"
   ]
  },
  {
   "cell_type": "code",
   "execution_count": 24,
   "id": "ed25cc04",
   "metadata": {},
   "outputs": [
    {
     "name": "stdout",
     "output_type": "stream",
     "text": [
      "0\n",
      "1\n",
      "2\n",
      "3\n",
      "4\n",
      "5\n"
     ]
    }
   ],
   "source": [
    "# BREAK\n",
    "for i in range(10):\n",
    "    if i == 6:\n",
    "        break\n",
    "    print(i)\n",
    "    "
   ]
  },
  {
   "cell_type": "code",
   "execution_count": 25,
   "id": "06e48737",
   "metadata": {},
   "outputs": [
    {
     "name": "stdout",
     "output_type": "stream",
     "text": [
      "0\n",
      "1\n",
      "2\n",
      "3\n",
      "4\n",
      "5\n",
      "7\n",
      "8\n",
      "9\n"
     ]
    }
   ],
   "source": [
    "# continue\n",
    "for i in range(10):\n",
    "    if i == 6:\n",
    "        continue\n",
    "    print(i) "
   ]
  },
  {
   "cell_type": "code",
   "execution_count": 32,
   "id": "2f26fb0e",
   "metadata": {},
   "outputs": [
    {
     "data": {
      "text/plain": [
       "False"
      ]
     },
     "execution_count": 32,
     "metadata": {},
     "output_type": "execute_result"
    }
   ],
   "source": [
    "2 % 2 != 0"
   ]
  },
  {
   "cell_type": "code",
   "execution_count": 33,
   "id": "13513437",
   "metadata": {},
   "outputs": [
    {
     "name": "stdout",
     "output_type": "stream",
     "text": [
      "1 3 5 7 9 11 13 15 17 19 "
     ]
    }
   ],
   "source": [
    "# print even numbers from 1 to 20\n",
    "for i in range(1,21):\n",
    "    if i % 2 == 0:\n",
    "        continue\n",
    "    print(i,end=\" \")"
   ]
  },
  {
   "cell_type": "code",
   "execution_count": null,
   "id": "c94e0bd2",
   "metadata": {},
   "outputs": [],
   "source": [
    "* * * *\n",
    "* * * *\n",
    "* * * *\n",
    "* * * *"
   ]
  },
  {
   "cell_type": "code",
   "execution_count": 40,
   "id": "0872e985",
   "metadata": {},
   "outputs": [],
   "source": [
    "def greet():\n",
    "    print(\"SOMRTHKGSDLJFLKSDG\")"
   ]
  },
  {
   "cell_type": "code",
   "execution_count": 41,
   "id": "33f37972",
   "metadata": {},
   "outputs": [
    {
     "name": "stdout",
     "output_type": "stream",
     "text": [
      "SOMRTHKGSDLJFLKSDG\n"
     ]
    }
   ],
   "source": [
    "greet()"
   ]
  },
  {
   "cell_type": "code",
   "execution_count": 44,
   "id": "f18762f0",
   "metadata": {},
   "outputs": [],
   "source": [
    "def mean(numbers_list): \n",
    "    add = sum(numbers_list)\n",
    "    length = len(numbers_list)\n",
    "    mean = add/length\n",
    "    return mean\n",
    "    "
   ]
  },
  {
   "cell_type": "code",
   "execution_count": 45,
   "id": "f0ae8c0c",
   "metadata": {},
   "outputs": [
    {
     "data": {
      "text/plain": [
       "4.166666666666667"
      ]
     },
     "execution_count": 45,
     "metadata": {},
     "output_type": "execute_result"
    }
   ],
   "source": [
    "ans = mean([1,2,4,5,6,7])\n",
    "ans"
   ]
  },
  {
   "cell_type": "code",
   "execution_count": 39,
   "id": "6e66c1cd",
   "metadata": {},
   "outputs": [
    {
     "data": {
      "text/plain": [
       "4.8"
      ]
     },
     "execution_count": 39,
     "metadata": {},
     "output_type": "execute_result"
    }
   ],
   "source": [
    "l3 = [4,5,6,7,2]\n",
    "mean(l3)"
   ]
  },
  {
   "cell_type": "code",
   "execution_count": 34,
   "id": "f49ff297",
   "metadata": {},
   "outputs": [
    {
     "data": {
      "text/plain": [
       "3.6"
      ]
     },
     "execution_count": 34,
     "metadata": {},
     "output_type": "execute_result"
    }
   ],
   "source": [
    "# FUNCTIONS :\n",
    "l = [1,2,4,5,6]\n",
    "add = sum(l)\n",
    "length = len(l)\n",
    "mean = add/length\n",
    "mean"
   ]
  },
  {
   "cell_type": "code",
   "execution_count": 36,
   "id": "97739ef8",
   "metadata": {},
   "outputs": [
    {
     "data": {
      "text/plain": [
       "2.6"
      ]
     },
     "execution_count": 36,
     "metadata": {},
     "output_type": "execute_result"
    }
   ],
   "source": [
    "l2 = [4,3,3,2,1]\n",
    "add = sum(l2)\n",
    "length = len(l2)\n",
    "mean = add/length\n",
    "mean"
   ]
  },
  {
   "cell_type": "code",
   "execution_count": 46,
   "id": "fda0e372",
   "metadata": {},
   "outputs": [],
   "source": [
    "l3 = [3,4,4,5]"
   ]
  },
  {
   "cell_type": "markdown",
   "id": "6b5a83cc",
   "metadata": {},
   "source": [
    "# STRINGS"
   ]
  },
  {
   "cell_type": "code",
   "execution_count": null,
   "id": "28f75c7c",
   "metadata": {},
   "outputs": [],
   "source": []
  }
 ],
 "metadata": {
  "kernelspec": {
   "display_name": "Python 3 (ipykernel)",
   "language": "python",
   "name": "python3"
  },
  "language_info": {
   "codemirror_mode": {
    "name": "ipython",
    "version": 3
   },
   "file_extension": ".py",
   "mimetype": "text/x-python",
   "name": "python",
   "nbconvert_exporter": "python",
   "pygments_lexer": "ipython3",
   "version": "3.11.4"
  }
 },
 "nbformat": 4,
 "nbformat_minor": 5
}
