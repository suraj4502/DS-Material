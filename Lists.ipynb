{
 "cells": [
  {
   "cell_type": "code",
   "execution_count": null,
   "id": "306f3804",
   "metadata": {},
   "outputs": [],
   "source": [
    "s = \"sjfjfj  \""
   ]
  },
  {
   "cell_type": "code",
   "execution_count": null,
   "id": "2eecbfea",
   "metadata": {},
   "outputs": [],
   "source": [
    "# collection of elements stored in a single variable.\n",
    "# lists are mutable - which means changes are allowed."
   ]
  },
  {
   "cell_type": "markdown",
   "id": "814ef4fe",
   "metadata": {},
   "source": [
    "# Lists :\n",
    "- **A list is a data structure that allows you to store and organize multiple items in a single variable.** \n",
    "- **It's like having a collection of items, such as a shopping list or a list of your favorite books.**"
   ]
  },
  {
   "cell_type": "markdown",
   "id": "c20e8662",
   "metadata": {},
   "source": [
    "---\n",
    "### Creating a List:\n",
    "\n",
    "- You can create a list by enclosing items in square brackets [ ] and separating them with commas.\n",
    "- Each item in the list can be of any data type: numbers, strings, or even other lists."
   ]
  },
  {
   "cell_type": "code",
   "execution_count": null,
   "id": "855ac34a",
   "metadata": {},
   "outputs": [],
   "source": [
    "numbers_list = [1,2,34,56,88]"
   ]
  },
  {
   "cell_type": "code",
   "execution_count": null,
   "id": "c6b2b29c",
   "metadata": {},
   "outputs": [],
   "source": [
    "len(numbers_list)"
   ]
  },
  {
   "cell_type": "code",
   "execution_count": null,
   "id": "085903c4",
   "metadata": {},
   "outputs": [],
   "source": [
    "shopping_list = [\"apples\" ,\"bananas\", \"milk\", \"bread\",3 ,[12345,55],(2,)]"
   ]
  },
  {
   "cell_type": "code",
   "execution_count": null,
   "id": "ecdfebfa",
   "metadata": {},
   "outputs": [],
   "source": [
    "shopping_list[-2]"
   ]
  },
  {
   "cell_type": "markdown",
   "id": "21347bf6",
   "metadata": {},
   "source": [
    "---\n",
    "### Accessing List Items:\n",
    "\n",
    "- You can access individual items in a list using indexing, similar to accessing characters in a string.\n",
    "- The index starts from 0 for the first item in the list."
   ]
  },
  {
   "cell_type": "code",
   "execution_count": 1,
   "id": "7bc1a556",
   "metadata": {},
   "outputs": [],
   "source": [
    "shopping_list = [\"apples\", \"bananas\", \"milk\", \"bread\",[1,2,3,4],(2,3,4,5,6),{2,5,9},{'key10':'val1'}]"
   ]
  },
  {
   "cell_type": "code",
   "execution_count": 8,
   "id": "f46634bc",
   "metadata": {},
   "outputs": [
    {
     "data": {
      "text/plain": [
       "['bananas', 'milk']"
      ]
     },
     "execution_count": 8,
     "metadata": {},
     "output_type": "execute_result"
    }
   ],
   "source": [
    "shopping_list[1:3]"
   ]
  },
  {
   "cell_type": "code",
   "execution_count": 9,
   "id": "c096d12d",
   "metadata": {},
   "outputs": [
    {
     "data": {
      "text/plain": [
       "[[1, 2, 3, 4], (2, 3, 4, 5, 6), {2, 5, 9}, {'key10': 'val1'}]"
      ]
     },
     "execution_count": 9,
     "metadata": {},
     "output_type": "execute_result"
    }
   ],
   "source": [
    "shopping_list[4:]"
   ]
  },
  {
   "cell_type": "code",
   "execution_count": 7,
   "id": "ab905287",
   "metadata": {},
   "outputs": [
    {
     "data": {
      "text/plain": [
       "4"
      ]
     },
     "execution_count": 7,
     "metadata": {},
     "output_type": "execute_result"
    }
   ],
   "source": [
    "shopping_list[4][-1]"
   ]
  },
  {
   "cell_type": "code",
   "execution_count": 6,
   "id": "9adac4c6",
   "metadata": {},
   "outputs": [
    {
     "data": {
      "text/plain": [
       "4"
      ]
     },
     "execution_count": 6,
     "metadata": {},
     "output_type": "execute_result"
    }
   ],
   "source": [
    "a= shopping_list[4]\n",
    "a[-1]"
   ]
  },
  {
   "cell_type": "code",
   "execution_count": 3,
   "id": "e6679b2e",
   "metadata": {},
   "outputs": [
    {
     "data": {
      "text/plain": [
       "['apples', 'bananas', 'milk', 'bread']"
      ]
     },
     "execution_count": 3,
     "metadata": {},
     "output_type": "execute_result"
    }
   ],
   "source": [
    "shopping_list[0:4]"
   ]
  },
  {
   "cell_type": "code",
   "execution_count": null,
   "id": "1bf90d1b",
   "metadata": {},
   "outputs": [],
   "source": [
    "shopping_list[4][-1]"
   ]
  },
  {
   "cell_type": "code",
   "execution_count": null,
   "id": "4cda1bb4",
   "metadata": {},
   "outputs": [],
   "source": [
    "shopping_list[0]"
   ]
  },
  {
   "cell_type": "code",
   "execution_count": null,
   "id": "7536f1ea",
   "metadata": {},
   "outputs": [],
   "source": [
    "shopping_list[0:4]"
   ]
  },
  {
   "cell_type": "code",
   "execution_count": null,
   "id": "262fc410",
   "metadata": {},
   "outputs": [],
   "source": [
    "shopping_list[4][-1]"
   ]
  },
  {
   "cell_type": "code",
   "execution_count": null,
   "id": "16bf2648",
   "metadata": {},
   "outputs": [],
   "source": [
    "shopping_list[1:3]"
   ]
  },
  {
   "cell_type": "code",
   "execution_count": null,
   "id": "0d9c671d",
   "metadata": {},
   "outputs": [],
   "source": [
    "shopping_list[:4]"
   ]
  },
  {
   "cell_type": "code",
   "execution_count": null,
   "id": "2d9f5a5c",
   "metadata": {},
   "outputs": [],
   "source": [
    "shopping_list[4:]"
   ]
  },
  {
   "cell_type": "code",
   "execution_count": null,
   "id": "d63949ee",
   "metadata": {},
   "outputs": [],
   "source": [
    "shopping_list[4][-1]"
   ]
  },
  {
   "cell_type": "code",
   "execution_count": 10,
   "id": "e88dc2c5",
   "metadata": {},
   "outputs": [],
   "source": [
    "l = [1,2,3,5,6,7,7,8]"
   ]
  },
  {
   "cell_type": "code",
   "execution_count": 11,
   "id": "e6addf19",
   "metadata": {},
   "outputs": [],
   "source": [
    "l[0] = 55"
   ]
  },
  {
   "cell_type": "code",
   "execution_count": 12,
   "id": "fd2d1070",
   "metadata": {},
   "outputs": [
    {
     "data": {
      "text/plain": [
       "[55, 2, 3, 5, 6, 7, 7, 8]"
      ]
     },
     "execution_count": 12,
     "metadata": {},
     "output_type": "execute_result"
    }
   ],
   "source": [
    "l"
   ]
  },
  {
   "cell_type": "markdown",
   "id": "8f9e7c5a",
   "metadata": {},
   "source": [
    "---\n",
    "### Modifying List Items:\n",
    "\n",
    "- Lists are mutable, which means you can change the values of individual items in the list."
   ]
  },
  {
   "cell_type": "code",
   "execution_count": 13,
   "id": "5a5813d0",
   "metadata": {},
   "outputs": [
    {
     "name": "stdout",
     "output_type": "stream",
     "text": [
      "['apples', 'bananas', 'milk', 'oranges']\n"
     ]
    }
   ],
   "source": [
    "shopping_list = [\"apples\", \"bananas\", \"milk\", \"bread\"]\n",
    "shopping_list[-1] = \"oranges\"\n",
    "print(shopping_list) "
   ]
  },
  {
   "cell_type": "code",
   "execution_count": 14,
   "id": "2172d422",
   "metadata": {},
   "outputs": [
    {
     "data": {
      "text/plain": [
       "4"
      ]
     },
     "execution_count": 14,
     "metadata": {},
     "output_type": "execute_result"
    }
   ],
   "source": [
    "l = [4,5,6,7]\n",
    "len(l)"
   ]
  },
  {
   "cell_type": "code",
   "execution_count": 15,
   "id": "5a590a54",
   "metadata": {},
   "outputs": [
    {
     "data": {
      "text/plain": [
       "22"
      ]
     },
     "execution_count": 15,
     "metadata": {},
     "output_type": "execute_result"
    }
   ],
   "source": [
    "sum(l)"
   ]
  },
  {
   "cell_type": "code",
   "execution_count": 16,
   "id": "c2d72184",
   "metadata": {},
   "outputs": [
    {
     "data": {
      "text/plain": [
       "7"
      ]
     },
     "execution_count": 16,
     "metadata": {},
     "output_type": "execute_result"
    }
   ],
   "source": [
    "max(l)"
   ]
  },
  {
   "cell_type": "code",
   "execution_count": 17,
   "id": "6c9ed28c",
   "metadata": {},
   "outputs": [
    {
     "data": {
      "text/plain": [
       "4"
      ]
     },
     "execution_count": 17,
     "metadata": {},
     "output_type": "execute_result"
    }
   ],
   "source": [
    "min(l)"
   ]
  },
  {
   "cell_type": "markdown",
   "id": "e78e48a9",
   "metadata": {},
   "source": [
    "---\n",
    "### List Length:\n",
    "\n",
    "You can find the number of items in a list using the len() function."
   ]
  },
  {
   "cell_type": "code",
   "execution_count": 18,
   "id": "24a2bf5d",
   "metadata": {},
   "outputs": [
    {
     "name": "stdout",
     "output_type": "stream",
     "text": [
      "5\n"
     ]
    }
   ],
   "source": [
    "shopping_list = [\"apples\", \"bananas\", \"milk\", \"bread\",\"milk\"]\n",
    "\n",
    "print(len(shopping_list))\n"
   ]
  },
  {
   "cell_type": "code",
   "execution_count": 19,
   "id": "a8375aba",
   "metadata": {},
   "outputs": [
    {
     "data": {
      "text/plain": [
       "['apples', 'bananas', 'milk', 'bread', 'milk']"
      ]
     },
     "execution_count": 19,
     "metadata": {},
     "output_type": "execute_result"
    }
   ],
   "source": [
    "shopping_list"
   ]
  },
  {
   "cell_type": "code",
   "execution_count": 20,
   "id": "ac1636d2",
   "metadata": {},
   "outputs": [],
   "source": [
    "shopping_list.append('oats')"
   ]
  },
  {
   "cell_type": "code",
   "execution_count": 22,
   "id": "275e44ba",
   "metadata": {},
   "outputs": [
    {
     "data": {
      "text/plain": [
       "['apples', 'bananas', 'milk', 'bread', 'milk', 'oats']"
      ]
     },
     "execution_count": 22,
     "metadata": {},
     "output_type": "execute_result"
    }
   ],
   "source": [
    "shopping_list"
   ]
  },
  {
   "cell_type": "code",
   "execution_count": 23,
   "id": "663d7d10",
   "metadata": {},
   "outputs": [],
   "source": [
    "shopping_list.insert(1,\"cake\")"
   ]
  },
  {
   "cell_type": "code",
   "execution_count": 24,
   "id": "587d0f9e",
   "metadata": {},
   "outputs": [
    {
     "data": {
      "text/plain": [
       "['apples', 'cake', 'bananas', 'milk', 'bread', 'milk', 'oats']"
      ]
     },
     "execution_count": 24,
     "metadata": {},
     "output_type": "execute_result"
    }
   ],
   "source": [
    "shopping_list"
   ]
  },
  {
   "cell_type": "code",
   "execution_count": 29,
   "id": "d7d0efd3",
   "metadata": {},
   "outputs": [
    {
     "ename": "ValueError",
     "evalue": "list.remove(x): x not in list",
     "output_type": "error",
     "traceback": [
      "\u001b[1;31m---------------------------------------------------------------------------\u001b[0m",
      "\u001b[1;31mValueError\u001b[0m                                Traceback (most recent call last)",
      "Cell \u001b[1;32mIn[29], line 1\u001b[0m\n\u001b[1;32m----> 1\u001b[0m \u001b[43mshopping_list\u001b[49m\u001b[38;5;241;43m.\u001b[39;49m\u001b[43mremove\u001b[49m\u001b[43m(\u001b[49m\u001b[38;5;124;43m'\u001b[39;49m\u001b[38;5;124;43mmilk\u001b[39;49m\u001b[38;5;124;43m'\u001b[39;49m\u001b[43m)\u001b[49m\n",
      "\u001b[1;31mValueError\u001b[0m: list.remove(x): x not in list"
     ]
    }
   ],
   "source": [
    "shopping_list.remove('milk')"
   ]
  },
  {
   "cell_type": "code",
   "execution_count": 30,
   "id": "797ec6a5",
   "metadata": {},
   "outputs": [
    {
     "data": {
      "text/plain": [
       "['apples', 'cake', 'bananas', 'bread', 'oats']"
      ]
     },
     "execution_count": 30,
     "metadata": {},
     "output_type": "execute_result"
    }
   ],
   "source": [
    "shopping_list"
   ]
  },
  {
   "cell_type": "code",
   "execution_count": 31,
   "id": "9ae49d68",
   "metadata": {},
   "outputs": [
    {
     "data": {
      "text/plain": [
       "['apples', 'cake', 'bread', 'oats']"
      ]
     },
     "execution_count": 31,
     "metadata": {},
     "output_type": "execute_result"
    }
   ],
   "source": [
    "shopping_list.pop(2)\n",
    "shopping_list"
   ]
  },
  {
   "cell_type": "code",
   "execution_count": 32,
   "id": "8e753853",
   "metadata": {},
   "outputs": [],
   "source": [
    "shopping_list = ['banana','cherry','mango','apples','milk','zvalue']\n",
    "# shopping_list.sort()"
   ]
  },
  {
   "cell_type": "code",
   "execution_count": 33,
   "id": "19608546",
   "metadata": {},
   "outputs": [],
   "source": [
    "shopping_list.sort()"
   ]
  },
  {
   "cell_type": "code",
   "execution_count": 34,
   "id": "11ab44f5",
   "metadata": {},
   "outputs": [
    {
     "data": {
      "text/plain": [
       "['apples', 'banana', 'cherry', 'mango', 'milk', 'zvalue']"
      ]
     },
     "execution_count": 34,
     "metadata": {},
     "output_type": "execute_result"
    }
   ],
   "source": [
    "shopping_list"
   ]
  },
  {
   "cell_type": "code",
   "execution_count": 35,
   "id": "450efebb",
   "metadata": {},
   "outputs": [],
   "source": [
    "shopping_list.sort(reverse=True)"
   ]
  },
  {
   "cell_type": "code",
   "execution_count": 36,
   "id": "41ebfc37",
   "metadata": {},
   "outputs": [
    {
     "data": {
      "text/plain": [
       "['zvalue', 'milk', 'mango', 'cherry', 'banana', 'apples']"
      ]
     },
     "execution_count": 36,
     "metadata": {},
     "output_type": "execute_result"
    }
   ],
   "source": [
    "shopping_list"
   ]
  },
  {
   "cell_type": "code",
   "execution_count": 37,
   "id": "b52becb2",
   "metadata": {},
   "outputs": [],
   "source": [
    "shopping_list = ['banana','cherry','mango','apples','milk','zvalue']"
   ]
  },
  {
   "cell_type": "code",
   "execution_count": 38,
   "id": "aaaa020d",
   "metadata": {},
   "outputs": [
    {
     "data": {
      "text/plain": [
       "['zvalue', 'milk', 'mango', 'cherry', 'banana', 'apples']"
      ]
     },
     "execution_count": 38,
     "metadata": {},
     "output_type": "execute_result"
    }
   ],
   "source": [
    "sorted(shopping_list,reverse=True)"
   ]
  },
  {
   "cell_type": "code",
   "execution_count": 39,
   "id": "8bbcaec9",
   "metadata": {},
   "outputs": [
    {
     "data": {
      "text/plain": [
       "['banana', 'cherry', 'mango', 'apples', 'milk', 'zvalue']"
      ]
     },
     "execution_count": 39,
     "metadata": {},
     "output_type": "execute_result"
    }
   ],
   "source": [
    "shopping_list"
   ]
  },
  {
   "cell_type": "code",
   "execution_count": 42,
   "id": "a385963b",
   "metadata": {},
   "outputs": [],
   "source": [
    "shopping_list = ['banana','cherry','mango','apples','milk','zvalue']\n",
    "# shopping_list.reverse()"
   ]
  },
  {
   "cell_type": "code",
   "execution_count": 43,
   "id": "52ac4f46",
   "metadata": {},
   "outputs": [
    {
     "data": {
      "text/plain": [
       "['banana', 'cherry', 'mango', 'apples', 'milk', 'zvalue']"
      ]
     },
     "execution_count": 43,
     "metadata": {},
     "output_type": "execute_result"
    }
   ],
   "source": [
    "shopping_list"
   ]
  },
  {
   "cell_type": "code",
   "execution_count": 44,
   "id": "f168f0df",
   "metadata": {},
   "outputs": [
    {
     "data": {
      "text/plain": [
       "['zvalue', 'milk', 'apples', 'mango', 'cherry', 'banana']"
      ]
     },
     "execution_count": 44,
     "metadata": {},
     "output_type": "execute_result"
    }
   ],
   "source": [
    "list(reversed(shopping_list))"
   ]
  },
  {
   "cell_type": "code",
   "execution_count": 45,
   "id": "cfd66047",
   "metadata": {},
   "outputs": [
    {
     "data": {
      "text/plain": [
       "['banana', 'cherry', 'mango', 'apples', 'milk', 'zvalue']"
      ]
     },
     "execution_count": 45,
     "metadata": {},
     "output_type": "execute_result"
    }
   ],
   "source": [
    "shopping_list"
   ]
  },
  {
   "cell_type": "code",
   "execution_count": 46,
   "id": "3688cd65",
   "metadata": {},
   "outputs": [],
   "source": [
    "shopping_list.append(\"mango\")"
   ]
  },
  {
   "cell_type": "code",
   "execution_count": 47,
   "id": "7ebdcdca",
   "metadata": {},
   "outputs": [
    {
     "data": {
      "text/plain": [
       "['banana', 'cherry', 'mango', 'apples', 'milk', 'zvalue', 'mango']"
      ]
     },
     "execution_count": 47,
     "metadata": {},
     "output_type": "execute_result"
    }
   ],
   "source": [
    "shopping_list"
   ]
  },
  {
   "cell_type": "code",
   "execution_count": 48,
   "id": "f656f126",
   "metadata": {},
   "outputs": [
    {
     "data": {
      "text/plain": [
       "2"
      ]
     },
     "execution_count": 48,
     "metadata": {},
     "output_type": "execute_result"
    }
   ],
   "source": [
    "shopping_list.index('mango')"
   ]
  },
  {
   "cell_type": "code",
   "execution_count": 50,
   "id": "30d5bd39",
   "metadata": {},
   "outputs": [
    {
     "data": {
      "text/plain": [
       "2"
      ]
     },
     "execution_count": 50,
     "metadata": {},
     "output_type": "execute_result"
    }
   ],
   "source": [
    "shopping_list.count('mango')"
   ]
  },
  {
   "cell_type": "code",
   "execution_count": null,
   "id": "2894019b",
   "metadata": {},
   "outputs": [],
   "source": [
    "my_list = [44,55,66,88,99,121,65,76]\n",
    "# my_list.sort()\n",
    "my_list.reverse()\n",
    "my_list"
   ]
  },
  {
   "cell_type": "code",
   "execution_count": null,
   "id": "a50f8858",
   "metadata": {},
   "outputs": [],
   "source": [
    "shopping_list"
   ]
  },
  {
   "cell_type": "code",
   "execution_count": null,
   "id": "2638b102",
   "metadata": {},
   "outputs": [],
   "source": [
    "list(reversed(shopping_list))"
   ]
  },
  {
   "cell_type": "code",
   "execution_count": null,
   "id": "c6a4e72a",
   "metadata": {},
   "outputs": [],
   "source": [
    "shopping_list"
   ]
  },
  {
   "cell_type": "code",
   "execution_count": null,
   "id": "519f9f17",
   "metadata": {},
   "outputs": [],
   "source": [
    "my_list1 = [1,2,3]\n",
    "my_list2 = [1,2,3]\n",
    "\n",
    "my_list1 + my_list2"
   ]
  },
  {
   "cell_type": "code",
   "execution_count": null,
   "id": "61e2e4b9",
   "metadata": {},
   "outputs": [],
   "source": [
    "copy1 = my_list2[:2]"
   ]
  },
  {
   "cell_type": "code",
   "execution_count": null,
   "id": "fa332ca5",
   "metadata": {},
   "outputs": [],
   "source": [
    "copy1"
   ]
  },
  {
   "cell_type": "code",
   "execution_count": null,
   "id": "11b7c599",
   "metadata": {},
   "outputs": [],
   "source": [
    "my_list1 *4"
   ]
  },
  {
   "cell_type": "code",
   "execution_count": null,
   "id": "f0a444be",
   "metadata": {},
   "outputs": [],
   "source": [
    "del my_list1"
   ]
  },
  {
   "cell_type": "code",
   "execution_count": null,
   "id": "6eecf2ca",
   "metadata": {},
   "outputs": [],
   "source": [
    "my_list1"
   ]
  },
  {
   "cell_type": "code",
   "execution_count": null,
   "id": "56abdb37",
   "metadata": {},
   "outputs": [],
   "source": []
  },
  {
   "cell_type": "markdown",
   "id": "4253a826",
   "metadata": {},
   "source": [
    "---\n",
    "### List Methods:\n",
    "\n",
    "- Python provides built-in methods to perform various operations on lists. <br>\n",
    "\n",
    "- Some common list methods include:\n",
    "    - `append():` Adds an item to the end of the list.\n",
    "    - `insert():` Inserts an item at a specific position in the list.\n",
    "    - `remove():` Removes the first occurrence of an item from the list.\n",
    "    - `pop():` Removes and returns the item at a specific position in the list.\n",
    "    - `sort():` Sorts the items in the list in ascending order.\n",
    "    - `reverse():` Reverses the order of the items in the list."
   ]
  },
  {
   "cell_type": "code",
   "execution_count": null,
   "id": "77d2495f",
   "metadata": {},
   "outputs": [],
   "source": [
    "shopping_list = [\"apples\", \"bananas\", \"milk\", \"bread\"]\n",
    "shopping_list.append(\"eggs\")\n",
    "shopping_list.insert(1, \"juice\")\n",
    "shopping_list.remove(\"milk\")\n",
    "print(shopping_list)  # Output: [\"apples\", \"juice\", \"bananas\", \"bread\", \"eggs\"]\n"
   ]
  },
  {
   "cell_type": "markdown",
   "id": "31f0b2e1",
   "metadata": {},
   "source": [
    "---\n",
    "### List Slicing:\n",
    "\n",
    "- You can extract a portion of a list using slicing, similar to slicing strings.\n",
    "- Slicing allows you to specify a range of indices to extract multiple items from the list."
   ]
  },
  {
   "cell_type": "code",
   "execution_count": null,
   "id": "6164bab7",
   "metadata": {},
   "outputs": [],
   "source": [
    "shopping_list = [\"apples\", \"bananas\", \"milk\", \"bread\"]\n",
    "sublist = shopping_list[1:3]\n",
    "print(sublist)  # Output: [\"bananas\", \"milk\"]\n"
   ]
  },
  {
   "cell_type": "code",
   "execution_count": null,
   "id": "011c1de5",
   "metadata": {},
   "outputs": [],
   "source": [
    "shopping_list[:3]"
   ]
  },
  {
   "cell_type": "markdown",
   "id": "04fafaa1",
   "metadata": {},
   "source": [
    "---\n",
    "### List Concatenation:\n",
    "\n",
    "- You can concatenate (join) two or more lists together using the + operator."
   ]
  },
  {
   "cell_type": "code",
   "execution_count": null,
   "id": "be8f78a5",
   "metadata": {},
   "outputs": [],
   "source": [
    "list1 = [1, 2, 3]\n",
    "list2 = [4, 5, 6]\n",
    "result = list1 + list2\n",
    "print(result)  "
   ]
  },
  {
   "cell_type": "markdown",
   "id": "c01852fe",
   "metadata": {},
   "source": [
    "---\n",
    "### List Repetition:\n",
    "\n",
    "- You can repeat a list multiple times using the * operator."
   ]
  },
  {
   "cell_type": "code",
   "execution_count": null,
   "id": "182ee4b7",
   "metadata": {},
   "outputs": [],
   "source": [
    "my_list = [1, 2, 3]\n",
    "repeated_list = my_list * 3\n",
    "print(repeated_list)  # Output: [1, 2, 3, 1, 2, 3, 1, 2, 3]\n"
   ]
  },
  {
   "cell_type": "markdown",
   "id": "3a49bcda",
   "metadata": {},
   "source": [
    "---\n",
    "### List Deletion:\n",
    "\n",
    "- You can delete an item or a range of items from a list using the del statement or the remove() method."
   ]
  },
  {
   "cell_type": "code",
   "execution_count": null,
   "id": "d9d8299e",
   "metadata": {},
   "outputs": [],
   "source": [
    "my_list = [1, 2, 3, 4, 5]\n",
    "del my_list[2]  # Delete item at index 2 (value 3)\n",
    "print(my_list)  # Output: [1, 2, 4, 5]\n",
    "\n",
    "my_list.remove(4)  # Remove the first occurrence of the value 4\n",
    "print(my_list)  # Output: [1, 2, 5]\n"
   ]
  },
  {
   "cell_type": "code",
   "execution_count": null,
   "id": "fa6fbd0c",
   "metadata": {},
   "outputs": [],
   "source": [
    "del my_list"
   ]
  },
  {
   "cell_type": "code",
   "execution_count": null,
   "id": "2b567a76",
   "metadata": {},
   "outputs": [],
   "source": [
    "my_list"
   ]
  },
  {
   "cell_type": "markdown",
   "id": "358ab41f",
   "metadata": {},
   "source": [
    "---\n",
    "### List Sorting:\n",
    "\n",
    "- You can sort the items in a list using the sort() method. By default, it sorts the list in ascending order."
   ]
  },
  {
   "cell_type": "code",
   "execution_count": null,
   "id": "66f0511f",
   "metadata": {},
   "outputs": [],
   "source": [
    "my_list = [4, 2, 1, 3,3, 5]\n",
    "# my_list.sort()\n",
    "my_list"
   ]
  },
  {
   "cell_type": "code",
   "execution_count": null,
   "id": "1a75631b",
   "metadata": {},
   "outputs": [],
   "source": [
    "my_list"
   ]
  },
  {
   "cell_type": "code",
   "execution_count": null,
   "id": "50396982",
   "metadata": {},
   "outputs": [],
   "source": [
    "r1=sorted(my_list)\n",
    "r1"
   ]
  },
  {
   "cell_type": "code",
   "execution_count": null,
   "id": "a102c645",
   "metadata": {},
   "outputs": [],
   "source": [
    "my_list"
   ]
  },
  {
   "cell_type": "code",
   "execution_count": null,
   "id": "35894070",
   "metadata": {},
   "outputs": [],
   "source": [
    "sorted([33,55,642,77])"
   ]
  },
  {
   "cell_type": "markdown",
   "id": "d5ce8909",
   "metadata": {},
   "source": [
    "--- \n",
    "### List Count and Index:\n",
    "\n",
    "- You can count the number of occurrences of an item in a list using the count() method.\n",
    "- You can find the index of the first occurrence of an item in a list using the index() method."
   ]
  },
  {
   "cell_type": "code",
   "execution_count": null,
   "id": "185d789d",
   "metadata": {},
   "outputs": [],
   "source": [
    "my_list = [1, 2, 2, 3, 2, 4,4]\n",
    "count = my_list.count(2)\n",
    "print(count)  # Output: 3\n",
    "\n",
    "index = my_list.index(4)\n",
    "print(index) \n"
   ]
  },
  {
   "cell_type": "code",
   "execution_count": null,
   "id": "45ca9029",
   "metadata": {},
   "outputs": [],
   "source": [
    "shopping_list.append('milk')"
   ]
  },
  {
   "cell_type": "code",
   "execution_count": null,
   "id": "0d01a27f",
   "metadata": {},
   "outputs": [],
   "source": [
    "shopping_list"
   ]
  },
  {
   "cell_type": "code",
   "execution_count": null,
   "id": "593d545f",
   "metadata": {},
   "outputs": [],
   "source": [
    "shopping_list.index('milk')"
   ]
  },
  {
   "cell_type": "code",
   "execution_count": null,
   "id": "c65fcb03",
   "metadata": {},
   "outputs": [],
   "source": [
    "shopping_list.count('milk')"
   ]
  },
  {
   "cell_type": "code",
   "execution_count": null,
   "id": "c449eaab",
   "metadata": {},
   "outputs": [],
   "source": [
    "my_list.index(2)"
   ]
  },
  {
   "cell_type": "markdown",
   "id": "6fb4ddea",
   "metadata": {},
   "source": [
    "--- \n",
    "### List Copy:\n",
    "\n",
    "- You can create a copy of a list using the `copy()` method or the slicing technique `[:]`."
   ]
  },
  {
   "cell_type": "code",
   "execution_count": null,
   "id": "e260d6fc",
   "metadata": {},
   "outputs": [],
   "source": [
    "l1 = [22,4,'str']\n",
    "l2 = l1[0:2]\n",
    "l2"
   ]
  },
  {
   "cell_type": "code",
   "execution_count": null,
   "id": "6ff333f8",
   "metadata": {},
   "outputs": [],
   "source": [
    "my_list = [1, 2, 3]\n",
    "copy1 = my_list.copy()\n",
    "copy2 = my_list  # Slicing technique\n",
    "\n",
    "print(copy1)  # Output: [1, 2, 3]\n",
    "print(copy2)  # Output: [1, 2, 3]\n"
   ]
  },
  {
   "cell_type": "markdown",
   "id": "128d5bb3",
   "metadata": {},
   "source": [
    "--- \n",
    "###  Questions on lists.\n",
    "- *Q.Write a Python program to find the sum of all elements in a list.*\n",
    "- *Q.Write a Python program to find the largest element in a list.*\n",
    "- *Q.Write a Python program to find the second smallest element in a list.*\n",
    "- *Q.Write a Python program to count the number of occurrences of a specific element in a list.*\n",
    "- *Q.Write a Python program to remove duplicates from a list.*\n",
    "- *Q.Write a Python program to check if a list is empty.*\n",
    "- *Q.Write a Python program to check if a list is sorted in ascending order.*\n",
    "- *Q.Write a Python program to find the common elements between two lists.*\n",
    "- *Q.Write a Python program to reverse a list.*\n",
    "- *Q.Write a Python program to sort a list of strings in alphabetical order.* <br>\n",
    "<br>\n",
    "\n",
    "**<p style=\"color: blue;\">NOTE : `float('inf')` represents positive infinity. Similarly, `float('-inf')` represents negative infinity.</p>**"
   ]
  },
  {
   "cell_type": "code",
   "execution_count": 22,
   "id": "5a7a7fde",
   "metadata": {},
   "outputs": [
    {
     "data": {
      "text/plain": [
       "False"
      ]
     },
     "execution_count": 22,
     "metadata": {},
     "output_type": "execute_result"
    }
   ],
   "source": [
    "l = [1,4,2,3]\n",
    "l == sorted(l)"
   ]
  },
  {
   "cell_type": "code",
   "execution_count": 27,
   "id": "80abe423",
   "metadata": {},
   "outputs": [
    {
     "data": {
      "text/plain": [
       "False"
      ]
     },
     "execution_count": 27,
     "metadata": {},
     "output_type": "execute_result"
    }
   ],
   "source": [
    "-5 > 0"
   ]
  },
  {
   "cell_type": "code",
   "execution_count": 33,
   "id": "66aed6d8",
   "metadata": {},
   "outputs": [
    {
     "name": "stdout",
     "output_type": "stream",
     "text": [
      "something\n"
     ]
    }
   ],
   "source": [
    "# conditional statements\n",
    "\n",
    "x = 1\n",
    "y = -7\n",
    "\n",
    "if x > 0:\n",
    "    if y > 0:\n",
    "        print(\"x and y are postive\")\n",
    "    else:\n",
    "        print(\"something\")\n",
    "    \n",
    "elif x == 0:\n",
    "    print(\"X is zero\")\n",
    "else:\n",
    "    print(\"X is negative\")"
   ]
  },
  {
   "cell_type": "code",
   "execution_count": null,
   "id": "444c9348",
   "metadata": {},
   "outputs": [],
   "source": []
  },
  {
   "cell_type": "code",
   "execution_count": null,
   "id": "af573583",
   "metadata": {},
   "outputs": [],
   "source": []
  },
  {
   "cell_type": "code",
   "execution_count": 34,
   "id": "634faaa4",
   "metadata": {},
   "outputs": [],
   "source": [
    "def check_sorted(l):\n",
    "    result = True\n",
    "    for i in range(1,len(l)): #[1,2,3,4,5,6]\n",
    "        if l[i] < l[i-1]:\n",
    "            result = False\n",
    "            \n",
    "    if result:\n",
    "        return (\"The given list is in ascending order.\")\n",
    "    else:\n",
    "        return (\"The given lisg is not in ascending order.\")\n"
   ]
  },
  {
   "cell_type": "code",
   "execution_count": 35,
   "id": "86f62601",
   "metadata": {},
   "outputs": [
    {
     "data": {
      "text/plain": [
       "'The given list is in ascending order.'"
      ]
     },
     "execution_count": 35,
     "metadata": {},
     "output_type": "execute_result"
    }
   ],
   "source": [
    "check_sorted([1,4,5,6,7,89,99])"
   ]
  },
  {
   "cell_type": "code",
   "execution_count": 36,
   "id": "b2eed28c",
   "metadata": {},
   "outputs": [
    {
     "data": {
      "text/plain": [
       "'The given lisg is not in ascending order.'"
      ]
     },
     "execution_count": 36,
     "metadata": {},
     "output_type": "execute_result"
    }
   ],
   "source": [
    "check_sorted([4,2,6,7,9])"
   ]
  },
  {
   "cell_type": "code",
   "execution_count": 23,
   "id": "8d7a16fa",
   "metadata": {},
   "outputs": [
    {
     "name": "stdout",
     "output_type": "stream",
     "text": [
      "The given lisg is not in ascending order.\n"
     ]
    }
   ],
   "source": [
    "# Write a Python program to check if a list is sorted in ascending order.\n",
    "\n",
    "l = [4,5,9,6,7,8,9]\n",
    "\n",
    "result = True\n",
    "for i in range(1,len(l)): #[1,2,3,4,5,6]\n",
    "    if l[i] < l[i-1]:\n",
    "        result = False\n",
    "        \n",
    "        \n",
    "if result:\n",
    "    print(\"The given list is in ascending order.\")\n",
    "else:\n",
    "    print(\"The given lisg is not in ascending order.\")"
   ]
  },
  {
   "cell_type": "code",
   "execution_count": 4,
   "id": "2ddf66a9",
   "metadata": {},
   "outputs": [
    {
     "data": {
      "text/plain": [
       "6"
      ]
     },
     "execution_count": 4,
     "metadata": {},
     "output_type": "execute_result"
    }
   ],
   "source": [
    "len(l)"
   ]
  },
  {
   "cell_type": "code",
   "execution_count": 43,
   "id": "dbf50c44",
   "metadata": {},
   "outputs": [
    {
     "name": "stdout",
     "output_type": "stream",
     "text": [
      "5\n",
      "6\n",
      "7\n",
      "8\n"
     ]
    }
   ],
   "source": [
    "# loops\n",
    "# while\n",
    "# for loop\n",
    "# i = 1\n",
    "# while i <=10:\n",
    "#     print(\"HELLO \")\n",
    "#     i = i +1\n",
    "\n",
    "l = [5,6,7,8]\n",
    "i =0\n",
    "while i <4:\n",
    "    print(l[i])\n",
    "    i = i +1\n",
    "    "
   ]
  },
  {
   "cell_type": "code",
   "execution_count": 46,
   "id": "e4a6a0cc",
   "metadata": {},
   "outputs": [
    {
     "data": {
      "text/plain": [
       "True"
      ]
     },
     "execution_count": 46,
     "metadata": {},
     "output_type": "execute_result"
    }
   ],
   "source": [
    "l1 = [5,6,7,8]\n",
    "l2 = [5,6,1,2]\n",
    "\n",
    "5 in l2"
   ]
  },
  {
   "cell_type": "code",
   "execution_count": 47,
   "id": "8a21b65b",
   "metadata": {},
   "outputs": [
    {
     "name": "stdout",
     "output_type": "stream",
     "text": [
      "[5, 6]\n"
     ]
    }
   ],
   "source": [
    "# Write a Python program to find the common elements between two lists.\n",
    "l1 = [5,6,7,8]\n",
    "l2 = [5,6,1,2]\n",
    "\n",
    "cm = []\n",
    "for i in l1:\n",
    "    if i in l2:\n",
    "        cm.append(i)\n",
    "print(cm)"
   ]
  },
  {
   "cell_type": "code",
   "execution_count": null,
   "id": "80f5b553",
   "metadata": {},
   "outputs": [],
   "source": []
  },
  {
   "cell_type": "code",
   "execution_count": null,
   "id": "693d1799",
   "metadata": {},
   "outputs": [],
   "source": []
  },
  {
   "cell_type": "code",
   "execution_count": null,
   "id": "a89878fd",
   "metadata": {},
   "outputs": [],
   "source": []
  },
  {
   "cell_type": "code",
   "execution_count": 2,
   "id": "1877adae",
   "metadata": {},
   "outputs": [],
   "source": [
    "def occurance(l,key):\n",
    "    return l.count(key)"
   ]
  },
  {
   "cell_type": "code",
   "execution_count": 1,
   "id": "ea6adfee",
   "metadata": {},
   "outputs": [
    {
     "data": {
      "text/plain": [
       "3"
      ]
     },
     "execution_count": 1,
     "metadata": {},
     "output_type": "execute_result"
    }
   ],
   "source": [
    "l = [4,5,1,3,4,4]\n",
    "key = 4\n",
    "l.count(key)"
   ]
  },
  {
   "cell_type": "code",
   "execution_count": 25,
   "id": "04453878",
   "metadata": {},
   "outputs": [
    {
     "data": {
      "text/plain": [
       "['avc', 'sdf', 'sdf', 'sxegdsjks', 'tt']"
      ]
     },
     "execution_count": 25,
     "metadata": {},
     "output_type": "execute_result"
    }
   ],
   "source": [
    "l = ['sdf','sdf','tt','avc','sxegdsjks']\n",
    "sorted(l)"
   ]
  },
  {
   "cell_type": "code",
   "execution_count": 22,
   "id": "7413d329",
   "metadata": {},
   "outputs": [
    {
     "data": {
      "text/plain": [
       "[69, 5, 4, 7]"
      ]
     },
     "execution_count": 22,
     "metadata": {},
     "output_type": "execute_result"
    }
   ],
   "source": [
    "l = [7,4,5,69]\n",
    "l[::-1]"
   ]
  },
  {
   "cell_type": "code",
   "execution_count": 17,
   "id": "58829a40",
   "metadata": {},
   "outputs": [
    {
     "name": "stdout",
     "output_type": "stream",
     "text": [
      "2\n"
     ]
    }
   ],
   "source": [
    "# second smallest without sorting\n",
    "\n",
    "l = [5,1,2,7]\n",
    "\n",
    "\n",
    "s = float('inf')  # infinity ==> 5 ==>1\n",
    "ss = float('inf') # infinity ==> 5\n",
    "\n",
    "for i in l:\n",
    "    if i < s:\n",
    "        ss = s\n",
    "        s = i\n",
    "    elif i < ss and i != s:\n",
    "        ss = i\n",
    "print(ss)\n",
    "    "
   ]
  },
  {
   "cell_type": "code",
   "execution_count": 18,
   "id": "49ccc52d",
   "metadata": {},
   "outputs": [],
   "source": [
    "def second_smallest(l):\n",
    "    s = float('inf')  # infinity ==> \n",
    "    ss = float('inf') # infinity ==> \n",
    "\n",
    "    for i in l:\n",
    "        if i < s:\n",
    "            ss = s\n",
    "            s = i\n",
    "        elif i < ss and i != s:\n",
    "            ss = i\n",
    "    return ss\n",
    "            "
   ]
  },
  {
   "cell_type": "code",
   "execution_count": null,
   "id": "e2feaa51",
   "metadata": {},
   "outputs": [],
   "source": []
  },
  {
   "cell_type": "code",
   "execution_count": 19,
   "id": "38449436",
   "metadata": {},
   "outputs": [
    {
     "data": {
      "text/plain": [
       "4"
      ]
     },
     "execution_count": 19,
     "metadata": {},
     "output_type": "execute_result"
    }
   ],
   "source": [
    "second_smallest([4,5,6,7,81,23,0])"
   ]
  },
  {
   "cell_type": "code",
   "execution_count": 8,
   "id": "a6adc34e",
   "metadata": {},
   "outputs": [],
   "source": [
    "def rm_duplicates(l):\n",
    "    ul = []\n",
    "    for i in l:\n",
    "        if i not in ul:\n",
    "            ul.append(i)\n",
    "    return ul"
   ]
  },
  {
   "cell_type": "code",
   "execution_count": 12,
   "id": "5a1325ae",
   "metadata": {},
   "outputs": [],
   "source": [
    "def find_second_smallest(l):\n",
    "    sl = rm_duplicates(l)\n",
    "    return sorted(sl)[1]"
   ]
  },
  {
   "cell_type": "code",
   "execution_count": 15,
   "id": "be7b8e75",
   "metadata": {},
   "outputs": [],
   "source": [
    "def find_second_largest(l):\n",
    "    sl = rm_duplicates(l)\n",
    "    return sorted(sl)[-2]"
   ]
  },
  {
   "cell_type": "code",
   "execution_count": 16,
   "id": "00e6dc93",
   "metadata": {},
   "outputs": [
    {
     "name": "stdout",
     "output_type": "stream",
     "text": [
      "7\n",
      "2\n"
     ]
    }
   ],
   "source": [
    "l = [1,4,5,6,7,8,2,1,1,1]\n",
    "print(find_second_largest(l))\n",
    "print(find_second_smallest(l))"
   ]
  },
  {
   "cell_type": "code",
   "execution_count": null,
   "id": "e02453a4",
   "metadata": {},
   "outputs": [],
   "source": []
  },
  {
   "cell_type": "code",
   "execution_count": null,
   "id": "8e1090d3",
   "metadata": {},
   "outputs": [],
   "source": []
  },
  {
   "cell_type": "code",
   "execution_count": 14,
   "id": "dccc01bc",
   "metadata": {},
   "outputs": [
    {
     "data": {
      "text/plain": [
       "445"
      ]
     },
     "execution_count": 14,
     "metadata": {},
     "output_type": "execute_result"
    }
   ],
   "source": [
    "find_second_smallest([700,600,445,343,565])"
   ]
  },
  {
   "cell_type": "code",
   "execution_count": 13,
   "id": "103d02e4",
   "metadata": {},
   "outputs": [
    {
     "data": {
      "text/plain": [
       "22"
      ]
     },
     "execution_count": 13,
     "metadata": {},
     "output_type": "execute_result"
    }
   ],
   "source": [
    "find_second_smallest([55,66,77,22,11,33])"
   ]
  },
  {
   "cell_type": "code",
   "execution_count": 6,
   "id": "db45fb55",
   "metadata": {},
   "outputs": [
    {
     "name": "stdout",
     "output_type": "stream",
     "text": [
      "99\n"
     ]
    }
   ],
   "source": [
    "l = [14,7,2,99]\n",
    "largest = float('-inf')\n",
    "\n",
    "for i in l:\n",
    "    if i > largest:\n",
    "        largest = i\n",
    "print(largest)\n",
    "    "
   ]
  },
  {
   "cell_type": "code",
   "execution_count": 3,
   "id": "be2bd44c",
   "metadata": {},
   "outputs": [
    {
     "name": "stdout",
     "output_type": "stream",
     "text": [
      "25\n"
     ]
    }
   ],
   "source": [
    "l = [3,4,5,6,7]\n",
    "result = 0\n",
    "for i in l:\n",
    "    result = result + i\n",
    "    \n",
    "print(result)"
   ]
  },
  {
   "cell_type": "code",
   "execution_count": null,
   "id": "e4d1f1a4",
   "metadata": {},
   "outputs": [],
   "source": []
  },
  {
   "cell_type": "code",
   "execution_count": null,
   "id": "7bb832fd",
   "metadata": {},
   "outputs": [],
   "source": []
  },
  {
   "cell_type": "code",
   "execution_count": null,
   "id": "454997ec",
   "metadata": {},
   "outputs": [],
   "source": []
  },
  {
   "cell_type": "code",
   "execution_count": null,
   "id": "c82e3708",
   "metadata": {},
   "outputs": [],
   "source": []
  },
  {
   "cell_type": "code",
   "execution_count": null,
   "id": "3db9ffa9",
   "metadata": {},
   "outputs": [],
   "source": []
  },
  {
   "cell_type": "code",
   "execution_count": null,
   "id": "8fae3cec",
   "metadata": {},
   "outputs": [],
   "source": [
    "\n"
   ]
  },
  {
   "cell_type": "code",
   "execution_count": null,
   "id": "42e4bfa7",
   "metadata": {},
   "outputs": [],
   "source": []
  },
  {
   "cell_type": "code",
   "execution_count": null,
   "id": "846549b3",
   "metadata": {},
   "outputs": [],
   "source": [
    "l = [1,2,3,4,5,7,4]\n",
    "l == sorted(l)"
   ]
  },
  {
   "cell_type": "code",
   "execution_count": null,
   "id": "aeca90a2",
   "metadata": {},
   "outputs": [],
   "source": [
    "# 1\n",
    "def list_sum(numbers):\n",
    "    sum = 0\n",
    "    for i in numbers:\n",
    "        sum += i\n",
    "    return sum"
   ]
  },
  {
   "cell_type": "code",
   "execution_count": null,
   "id": "84efc335",
   "metadata": {},
   "outputs": [],
   "source": [
    "# 2\n",
    "def find_largest(numbers):\n",
    "    largest = numbers[0]\n",
    "    for number in numbers:\n",
    "        if number > largest:\n",
    "            largest = number\n",
    "            \n",
    "    return largest"
   ]
  },
  {
   "cell_type": "code",
   "execution_count": null,
   "id": "cdb78179",
   "metadata": {},
   "outputs": [],
   "source": [
    "#  3\n",
    "def secondSmallest(arr,n):\n",
    "    if (n<2):\n",
    "        return -1\n",
    "    small = float('inf')\n",
    "    sSmall = float('inf')\n",
    "\n",
    "    for i in range(n):\n",
    "        if (arr[i] < small):\n",
    "            sSmall = small\n",
    "            small = arr[i]\n",
    "        elif (arr[i] != small and arr[i]<sSmall):\n",
    "            sSmall = arr[i]\n",
    "            \n",
    "    return sSmall"
   ]
  },
  {
   "cell_type": "code",
   "execution_count": null,
   "id": "1e41020f",
   "metadata": {},
   "outputs": [],
   "source": [
    "print(secondSmallest([1,4,6,77,99],5))"
   ]
  },
  {
   "cell_type": "code",
   "execution_count": null,
   "id": "a501ef50",
   "metadata": {},
   "outputs": [],
   "source": [
    "# 4\n",
    "def countOccurance(l):\n",
    "    result = {}\n",
    "    for i in l:\n",
    "        if i not in result :\n",
    "            result[i] = 1\n",
    "        else:\n",
    "            result[i] +=1\n",
    "    return result"
   ]
  },
  {
   "cell_type": "code",
   "execution_count": null,
   "id": "42dc3e18",
   "metadata": {},
   "outputs": [],
   "source": [
    "result = countOccurance([1,4,6,77,99,1,1])\n",
    "print(result)"
   ]
  },
  {
   "cell_type": "code",
   "execution_count": null,
   "id": "3f988375",
   "metadata": {},
   "outputs": [],
   "source": [
    "# 4\n",
    "def count_occurrences(input_list, target_element):\n",
    "    count = input_list.count(target_element)\n",
    "    return count"
   ]
  },
  {
   "cell_type": "code",
   "execution_count": null,
   "id": "89885d66",
   "metadata": {},
   "outputs": [],
   "source": [
    "# Example usage\n",
    "my_list = [1, 2, 3, 4, 5, 2, 6, 2, 7, 8, 2, 9]\n",
    "element_to_count = 2\n",
    "result = count_occurrences(my_list, element_to_count)\n",
    "print(f\"The element {element_to_count} appears {result} times in the list.\")"
   ]
  },
  {
   "cell_type": "code",
   "execution_count": null,
   "id": "bdc2b7ae",
   "metadata": {},
   "outputs": [],
   "source": [
    "# 5 Write a Python program to remove duplicates from a list.\n",
    "def rmDuplilcates(l):\n",
    "    result = []\n",
    "    for i in l:\n",
    "        if i not in result:\n",
    "            result.append(i)\n",
    "            \n",
    "    return result"
   ]
  },
  {
   "cell_type": "code",
   "execution_count": null,
   "id": "39bb0804",
   "metadata": {},
   "outputs": [],
   "source": [
    "my_list = [1, 2, 3, 4, 5, 2, 6, 2, 7, 8, 2, 9]\n",
    "print(rmDuplilcates(my_list))"
   ]
  },
  {
   "cell_type": "code",
   "execution_count": null,
   "id": "45be8f89",
   "metadata": {},
   "outputs": [],
   "source": [
    "# 6\n",
    "def is_list_empty(input_list):\n",
    "    if not input_list:\n",
    "        return True\n",
    "    else:\n",
    "        return False\n",
    "\n",
    "# Example usage\n",
    "empty_list = []\n",
    "non_empty_list = [1, 2, 3]\n",
    "\n",
    "print(\"Is the list empty?\", is_list_empty(empty_list))\n",
    "print(\"Is the list empty?\", is_list_empty(non_empty_list))"
   ]
  },
  {
   "cell_type": "code",
   "execution_count": null,
   "id": "9b93cac3",
   "metadata": {},
   "outputs": [],
   "source": [
    "# 7 Write a Python program to check if a list is sorted in ascending order.\n",
    "def is_sorted_ascending(input_list):\n",
    "    for i in range(1, len(input_list)):\n",
    "        if input_list[i] < input_list[i - 1]:\n",
    "            return False\n",
    "    return True\n",
    "            "
   ]
  },
  {
   "cell_type": "code",
   "execution_count": null,
   "id": "3aab710d",
   "metadata": {},
   "outputs": [],
   "source": [
    "my_list = [1,2,3,4,5]\n",
    "print(is_sorted_ascending(my_list))"
   ]
  },
  {
   "cell_type": "code",
   "execution_count": null,
   "id": "4aa963b4",
   "metadata": {},
   "outputs": [],
   "source": [
    "# 8 Write a Python program to find the common elements between two lists.\n",
    "\n",
    "def find_common_elements(list1, list2):\n",
    "    common_elements = []\n",
    "    for element in list1:\n",
    "        if element in list2 and element not in common_elements:\n",
    "            common_elements.append(element)\n",
    "    return common_elements"
   ]
  },
  {
   "cell_type": "code",
   "execution_count": null,
   "id": "dc9e8c67",
   "metadata": {},
   "outputs": [],
   "source": [
    "# Example usage\n",
    "list1 = [1, 2, 3, 4, 5]\n",
    "list2 = [3, 4, 5, 6, 7]\n",
    "\n",
    "common_elements = find_common_elements(list1, list2)\n",
    "print(\"Common elements:\", common_elements)"
   ]
  },
  {
   "cell_type": "code",
   "execution_count": null,
   "id": "9e18d5fd",
   "metadata": {},
   "outputs": [],
   "source": [
    "# 9 Write a Python program to reverse a list.\n",
    "def reverse_a_list(l):\n",
    "    return l[::-1]"
   ]
  },
  {
   "cell_type": "code",
   "execution_count": null,
   "id": "1eaec6bb",
   "metadata": {},
   "outputs": [],
   "source": [
    "list1 = [1, 2, 3, 4, 5]\n",
    "print(reverse_a_list(list1))"
   ]
  },
  {
   "cell_type": "code",
   "execution_count": null,
   "id": "9476f825",
   "metadata": {},
   "outputs": [],
   "source": [
    "# 10 Write a Python program to sort a list of strings in alphabetical order."
   ]
  },
  {
   "cell_type": "code",
   "execution_count": null,
   "id": "6e4bb0ad",
   "metadata": {},
   "outputs": [],
   "source": [
    "def sort_list_alphabetically(input_list):\n",
    "    sorted_list = sorted(input_list)\n",
    "    return sorted_list"
   ]
  },
  {
   "cell_type": "code",
   "execution_count": null,
   "id": "b6d19879",
   "metadata": {},
   "outputs": [],
   "source": [
    "# Example usage\n",
    "unsorted_list = [\"apple\", \"orange\", \"banana\", \"grape\", \"cherry\"]\n",
    "\n",
    "sorted_list = sort_list_alphabetically(unsorted_list)\n",
    "print(\"Sorted list:\", sorted_list)"
   ]
  }
 ],
 "metadata": {
  "kernelspec": {
   "display_name": "Python 3 (ipykernel)",
   "language": "python",
   "name": "python3"
  },
  "language_info": {
   "codemirror_mode": {
    "name": "ipython",
    "version": 3
   },
   "file_extension": ".py",
   "mimetype": "text/x-python",
   "name": "python",
   "nbconvert_exporter": "python",
   "pygments_lexer": "ipython3",
   "version": "3.11.4"
  }
 },
 "nbformat": 4,
 "nbformat_minor": 5
}
