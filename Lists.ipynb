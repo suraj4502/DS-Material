{
 "cells": [
  {
   "cell_type": "markdown",
   "id": "814ef4fe",
   "metadata": {},
   "source": [
    "# Lists :\n",
    "- **A list is a data structure that allows you to store and organize multiple items in a single variable.** \n",
    "- **It's like having a collection of items, such as a shopping list or a list of your favorite books.**"
   ]
  },
  {
   "cell_type": "markdown",
   "id": "c20e8662",
   "metadata": {},
   "source": [
    "---\n",
    "### Creating a List:\n",
    "\n",
    "- You can create a list by enclosing items in square brackets [ ] and separating them with commas.\n",
    "- Each item in the list can be of any data type: numbers, strings, or even other lists."
   ]
  },
  {
   "cell_type": "code",
   "execution_count": null,
   "id": "8e0b3d2d",
   "metadata": {},
   "outputs": [],
   "source": [
    "shopping_list = [\"apples\" ,\"bananas\", \"milk\", \"bread\"]"
   ]
  },
  {
   "cell_type": "code",
   "execution_count": null,
   "id": "ecdfebfa",
   "metadata": {},
   "outputs": [],
   "source": [
    "shopping_list"
   ]
  },
  {
   "cell_type": "markdown",
   "id": "21347bf6",
   "metadata": {},
   "source": [
    "---\n",
    "### Accessing List Items:\n",
    "\n",
    "- You can access individual items in a list using indexing, similar to accessing characters in a string.\n",
    "- The index starts from 0 for the first item in the list."
   ]
  },
  {
   "cell_type": "code",
   "execution_count": null,
   "id": "95a2da11",
   "metadata": {},
   "outputs": [],
   "source": [
    "shopping_list = [\"apples\", \"bananas\", \"milk\", \"bread\"]\n",
    "print(shopping_list[1][0])  "
   ]
  },
  {
   "cell_type": "markdown",
   "id": "8f9e7c5a",
   "metadata": {},
   "source": [
    "---\n",
    "### Modifying List Items:\n",
    "\n",
    "- Lists are mutable, which means you can change the values of individual items in the list."
   ]
  },
  {
   "cell_type": "code",
   "execution_count": null,
   "id": "5a5813d0",
   "metadata": {},
   "outputs": [],
   "source": [
    "shopping_list = [\"apples\", \"bananas\", \"milk\", \"bread\"]\n",
    "shopping_list[-1] = \"oranges\"\n",
    "print(shopping_list)  # Output: [\"apples\", \"oranges\", \"milk\", \"bread\"]\n"
   ]
  },
  {
   "cell_type": "markdown",
   "id": "e78e48a9",
   "metadata": {},
   "source": [
    "---\n",
    "### List Length:\n",
    "\n",
    "You can find the number of items in a list using the len() function."
   ]
  },
  {
   "cell_type": "code",
   "execution_count": null,
   "id": "24a2bf5d",
   "metadata": {},
   "outputs": [],
   "source": [
    "shopping_list = [\"apples\", \"bananas\", \"milk\", \"bread\",\"milk\"]\n",
    "length = len(shopping_list)\n",
    "print(length)  # Output: 5\n"
   ]
  },
  {
   "cell_type": "code",
   "execution_count": null,
   "id": "a8375aba",
   "metadata": {},
   "outputs": [],
   "source": [
    "shopping_list"
   ]
  },
  {
   "cell_type": "code",
   "execution_count": null,
   "id": "d7d0efd3",
   "metadata": {},
   "outputs": [],
   "source": [
    "shopping_list.remove('milk')"
   ]
  },
  {
   "cell_type": "code",
   "execution_count": null,
   "id": "797ec6a5",
   "metadata": {},
   "outputs": [],
   "source": [
    "shopping_list"
   ]
  },
  {
   "cell_type": "code",
   "execution_count": null,
   "id": "3b21b001",
   "metadata": {},
   "outputs": [],
   "source": [
    "shopping_list.append('oats')\n",
    "shopping_list"
   ]
  },
  {
   "cell_type": "code",
   "execution_count": null,
   "id": "9b12ebb4",
   "metadata": {},
   "outputs": [],
   "source": [
    "shopping_list.insert(1,'cake')"
   ]
  },
  {
   "cell_type": "code",
   "execution_count": null,
   "id": "fe7395b4",
   "metadata": {},
   "outputs": [],
   "source": [
    "shopping_list"
   ]
  },
  {
   "cell_type": "code",
   "execution_count": null,
   "id": "9ae49d68",
   "metadata": {},
   "outputs": [],
   "source": [
    "shopping_list.pop(2)\n",
    "shopping_list"
   ]
  },
  {
   "cell_type": "code",
   "execution_count": null,
   "id": "8e753853",
   "metadata": {},
   "outputs": [],
   "source": [
    "shopping_list = ['banana','cherry','mango','apples','milk']\n",
    "shopping_list.sort()"
   ]
  },
  {
   "cell_type": "code",
   "execution_count": null,
   "id": "11ab44f5",
   "metadata": {},
   "outputs": [],
   "source": [
    "shopping_list"
   ]
  },
  {
   "cell_type": "code",
   "execution_count": null,
   "id": "450efebb",
   "metadata": {},
   "outputs": [],
   "source": [
    "shopping_list.sort(reverse= True)"
   ]
  },
  {
   "cell_type": "code",
   "execution_count": null,
   "id": "41ebfc37",
   "metadata": {},
   "outputs": [],
   "source": [
    "shopping_list"
   ]
  },
  {
   "cell_type": "code",
   "execution_count": null,
   "id": "1bd3bcc9",
   "metadata": {},
   "outputs": [],
   "source": [
    "my_list = [44,55,66,88,99,121,65,76]\n",
    "my_list.reverse()\n",
    "my_list"
   ]
  },
  {
   "cell_type": "markdown",
   "id": "4253a826",
   "metadata": {},
   "source": [
    "---\n",
    "### List Methods:\n",
    "\n",
    "- Python provides built-in methods to perform various operations on lists. <br>\n",
    "\n",
    "- Some common list methods include:\n",
    "    - `append():` Adds an item to the end of the list.\n",
    "    - `insert():` Inserts an item at a specific position in the list.\n",
    "    - `remove():` Removes the first occurrence of an item from the list.\n",
    "    - `pop():` Removes and returns the item at a specific position in the list.\n",
    "    - `sort():` Sorts the items in the list in ascending order.\n",
    "    - `reverse():` Reverses the order of the items in the list."
   ]
  },
  {
   "cell_type": "code",
   "execution_count": null,
   "id": "77d2495f",
   "metadata": {},
   "outputs": [],
   "source": [
    "shopping_list = [\"apples\", \"bananas\", \"milk\", \"bread\"]\n",
    "shopping_list.append(\"eggs\")\n",
    "shopping_list.insert(1, \"juice\")\n",
    "shopping_list.remove(\"milk\")\n",
    "print(shopping_list)  # Output: [\"apples\", \"juice\", \"bananas\", \"bread\", \"eggs\"]\n"
   ]
  },
  {
   "cell_type": "markdown",
   "id": "31f0b2e1",
   "metadata": {},
   "source": [
    "---\n",
    "### List Slicing:\n",
    "\n",
    "- You can extract a portion of a list using slicing, similar to slicing strings.\n",
    "- Slicing allows you to specify a range of indices to extract multiple items from the list."
   ]
  },
  {
   "cell_type": "code",
   "execution_count": null,
   "id": "6164bab7",
   "metadata": {},
   "outputs": [],
   "source": [
    "shopping_list = [\"apples\", \"bananas\", \"milk\", \"bread\"]\n",
    "sublist = shopping_list[1:3]\n",
    "print(sublist)  # Output: [\"bananas\", \"milk\"]\n"
   ]
  },
  {
   "cell_type": "code",
   "execution_count": null,
   "id": "011c1de5",
   "metadata": {},
   "outputs": [],
   "source": [
    "shopping_list[:3]"
   ]
  },
  {
   "cell_type": "markdown",
   "id": "04fafaa1",
   "metadata": {},
   "source": [
    "---\n",
    "### List Concatenation:\n",
    "\n",
    "- You can concatenate (join) two or more lists together using the + operator."
   ]
  },
  {
   "cell_type": "code",
   "execution_count": null,
   "id": "be8f78a5",
   "metadata": {},
   "outputs": [],
   "source": [
    "list1 = [1, 2, 3]\n",
    "list2 = [4, 5, 6]\n",
    "result = list1 + list2\n",
    "print(result)  # Output: [1, 2, 3, 4, 5, 6]\n"
   ]
  },
  {
   "cell_type": "markdown",
   "id": "c01852fe",
   "metadata": {},
   "source": [
    "---\n",
    "### List Repetition:\n",
    "\n",
    "- You can repeat a list multiple times using the * operator."
   ]
  },
  {
   "cell_type": "code",
   "execution_count": null,
   "id": "182ee4b7",
   "metadata": {},
   "outputs": [],
   "source": [
    "my_list = [1, 2, 3]\n",
    "repeated_list = my_list * 3\n",
    "print(repeated_list)  # Output: [1, 2, 3, 1, 2, 3, 1, 2, 3]\n"
   ]
  },
  {
   "cell_type": "markdown",
   "id": "3a49bcda",
   "metadata": {},
   "source": [
    "---\n",
    "### List Deletion:\n",
    "\n",
    "- You can delete an item or a range of items from a list using the del statement or the remove() method."
   ]
  },
  {
   "cell_type": "code",
   "execution_count": null,
   "id": "d9d8299e",
   "metadata": {},
   "outputs": [],
   "source": [
    "my_list = [1, 2, 3, 4, 5]\n",
    "del my_list[2]  # Delete item at index 2 (value 3)\n",
    "print(my_list)  # Output: [1, 2, 4, 5]\n",
    "\n",
    "my_list.remove(4)  # Remove the first occurrence of the value 4\n",
    "print(my_list)  # Output: [1, 2, 5]\n"
   ]
  },
  {
   "cell_type": "markdown",
   "id": "358ab41f",
   "metadata": {},
   "source": [
    "---\n",
    "### List Sorting:\n",
    "\n",
    "- You can sort the items in a list using the sort() method. By default, it sorts the list in ascending order."
   ]
  },
  {
   "cell_type": "code",
   "execution_count": null,
   "id": "66f0511f",
   "metadata": {},
   "outputs": [],
   "source": [
    "my_list = [4, 2, 1, 3, 5]\n",
    "# my_list.sort()\n",
    "my_list\n"
   ]
  },
  {
   "cell_type": "code",
   "execution_count": null,
   "id": "50396982",
   "metadata": {},
   "outputs": [],
   "source": [
    "r1 = sorted(my_list,reverse=True)\n",
    "r1"
   ]
  },
  {
   "cell_type": "code",
   "execution_count": null,
   "id": "35894070",
   "metadata": {},
   "outputs": [],
   "source": [
    "sorted([33,55,642,77],reverse=True)"
   ]
  },
  {
   "cell_type": "markdown",
   "id": "d5ce8909",
   "metadata": {},
   "source": [
    "--- \n",
    "### List Count and Index:\n",
    "\n",
    "- You can count the number of occurrences of an item in a list using the count() method.\n",
    "- You can find the index of the first occurrence of an item in a list using the index() method."
   ]
  },
  {
   "cell_type": "code",
   "execution_count": null,
   "id": "185d789d",
   "metadata": {},
   "outputs": [],
   "source": [
    "my_list = [1, 2, 2, 3, 2, 4]\n",
    "count = my_list.count(2)\n",
    "print(count)  # Output: 3\n",
    "\n",
    "index = my_list.index(4)\n",
    "print(index)  # Output: 3\n"
   ]
  },
  {
   "cell_type": "code",
   "execution_count": null,
   "id": "45ca9029",
   "metadata": {},
   "outputs": [],
   "source": [
    "shopping_list.append('milk')"
   ]
  },
  {
   "cell_type": "code",
   "execution_count": null,
   "id": "0d01a27f",
   "metadata": {},
   "outputs": [],
   "source": [
    "shopping_list"
   ]
  },
  {
   "cell_type": "code",
   "execution_count": null,
   "id": "593d545f",
   "metadata": {},
   "outputs": [],
   "source": [
    "shopping_list.index('milk')"
   ]
  },
  {
   "cell_type": "code",
   "execution_count": null,
   "id": "c65fcb03",
   "metadata": {},
   "outputs": [],
   "source": [
    "shopping_list.count('milk')"
   ]
  },
  {
   "cell_type": "code",
   "execution_count": null,
   "id": "c449eaab",
   "metadata": {},
   "outputs": [],
   "source": [
    "my_list.index(2)"
   ]
  },
  {
   "cell_type": "markdown",
   "id": "6fb4ddea",
   "metadata": {},
   "source": [
    "--- \n",
    "### List Copy:\n",
    "\n",
    "- You can create a copy of a list using the `copy()` method or the slicing technique `[:]`."
   ]
  },
  {
   "cell_type": "code",
   "execution_count": null,
   "id": "e260d6fc",
   "metadata": {},
   "outputs": [],
   "source": [
    "l1 = [22,4,'str']\n",
    "l2 = l1\n",
    "l2"
   ]
  },
  {
   "cell_type": "code",
   "execution_count": null,
   "id": "6ff333f8",
   "metadata": {},
   "outputs": [],
   "source": [
    "my_list = [1, 2, 3]\n",
    "copy1 = my_list.copy()\n",
    "copy2 = my_list  # Slicing technique\n",
    "\n",
    "print(copy1)  # Output: [1, 2, 3]\n",
    "print(copy2)  # Output: [1, 2, 3]\n"
   ]
  },
  {
   "cell_type": "markdown",
   "id": "128d5bb3",
   "metadata": {},
   "source": [
    "--- \n",
    "###  Questions on lists.\n",
    "- *Q.Write a Python program to find the sum of all elements in a list.*\n",
    "- *Q.Write a Python program to find the largest element in a list.*\n",
    "- *Q.Write a Python program to find the second smallest element in a list.*\n",
    "- *Q.Write a Python program to count the number of occurrences of a specific element in a list.*\n",
    "- *Q.Write a Python program to remove duplicates from a list.*\n",
    "- *Q.Write a Python program to check if a list is empty.*\n",
    "- *Q.Write a Python program to check if a list is sorted in ascending order.*\n",
    "- *Q.Write a Python program to find the common elements between two lists.*\n",
    "- *Q.Write a Python program to reverse a list.*\n",
    "- *Q.Write a Python program to sort a list of strings in alphabetical order.* <br>\n",
    "<br>\n",
    "\n",
    "**<p style=\"color: blue;\">NOTE : `float('inf')` represents positive infinity. Similarly, `float('-inf')` represents negative infinity.</p>**"
   ]
  },
  {
   "cell_type": "code",
   "execution_count": null,
   "id": "aeca90a2",
   "metadata": {},
   "outputs": [],
   "source": [
    "# 1\n",
    "def list_sum(numbers):\n",
    "    sum = 0\n",
    "    for i in numbers:\n",
    "        sum += i\n",
    "    return sum"
   ]
  },
  {
   "cell_type": "code",
   "execution_count": null,
   "id": "84efc335",
   "metadata": {},
   "outputs": [],
   "source": [
    "# 2\n",
    "def find_largest(numbers):\n",
    "    largest = numbers[0]\n",
    "    for number in numbers:\n",
    "        if number > largest:\n",
    "            largest = number\n",
    "            \n",
    "    return largest"
   ]
  },
  {
   "cell_type": "code",
   "execution_count": null,
   "id": "cdb78179",
   "metadata": {},
   "outputs": [],
   "source": [
    "#  3\n",
    "def secondSmallest(arr,n):\n",
    "    if (n<2):\n",
    "        return -1\n",
    "    small = float('inf')\n",
    "    sSmall = float('inf')\n",
    "\n",
    "    for i in range(n):\n",
    "        if (arr[i] < small):\n",
    "            sSmall = small\n",
    "            small = arr[i]\n",
    "        elif (arr[i] != small and arr[i]<sSmall):\n",
    "            sSmall = arr[i]\n",
    "            \n",
    "    return sSmall"
   ]
  },
  {
   "cell_type": "code",
   "execution_count": null,
   "id": "1e41020f",
   "metadata": {},
   "outputs": [],
   "source": [
    "print(secondSmallest([1,4,6,77,99],5))"
   ]
  },
  {
   "cell_type": "code",
   "execution_count": null,
   "id": "a501ef50",
   "metadata": {},
   "outputs": [],
   "source": [
    "# 4\n",
    "def countOccurance(l):\n",
    "    result = {}\n",
    "    for i in l:\n",
    "        if i not in result :\n",
    "            result[i] = 1\n",
    "        else:\n",
    "            result[i] +=1\n",
    "    return result"
   ]
  },
  {
   "cell_type": "code",
   "execution_count": null,
   "id": "42dc3e18",
   "metadata": {},
   "outputs": [],
   "source": [
    "result = countOccurance([1,4,6,77,99,1,1])\n",
    "print(result)"
   ]
  },
  {
   "cell_type": "code",
   "execution_count": null,
   "id": "3f988375",
   "metadata": {},
   "outputs": [],
   "source": [
    "# 4\n",
    "def count_occurrences(input_list, target_element):\n",
    "    count = input_list.count(target_element)\n",
    "    return count"
   ]
  },
  {
   "cell_type": "code",
   "execution_count": null,
   "id": "89885d66",
   "metadata": {},
   "outputs": [],
   "source": [
    "# Example usage\n",
    "my_list = [1, 2, 3, 4, 5, 2, 6, 2, 7, 8, 2, 9]\n",
    "element_to_count = 2\n",
    "result = count_occurrences(my_list, element_to_count)\n",
    "print(f\"The element {element_to_count} appears {result} times in the list.\")"
   ]
  },
  {
   "cell_type": "code",
   "execution_count": null,
   "id": "bdc2b7ae",
   "metadata": {},
   "outputs": [],
   "source": [
    "# 5 Write a Python program to remove duplicates from a list.\n",
    "def rmDuplilcates(l):\n",
    "    result = []\n",
    "    for i in l:\n",
    "        if i not in result:\n",
    "            result.append(i)\n",
    "            \n",
    "    return result"
   ]
  },
  {
   "cell_type": "code",
   "execution_count": null,
   "id": "39bb0804",
   "metadata": {},
   "outputs": [],
   "source": [
    "my_list = [1, 2, 3, 4, 5, 2, 6, 2, 7, 8, 2, 9]\n",
    "print(rmDuplilcates(my_list))"
   ]
  },
  {
   "cell_type": "code",
   "execution_count": null,
   "id": "45be8f89",
   "metadata": {},
   "outputs": [],
   "source": [
    "# 6\n",
    "def is_list_empty(input_list):\n",
    "    if not input_list:\n",
    "        return True\n",
    "    else:\n",
    "        return False\n",
    "\n",
    "# Example usage\n",
    "empty_list = []\n",
    "non_empty_list = [1, 2, 3]\n",
    "\n",
    "print(\"Is the list empty?\", is_list_empty(empty_list))\n",
    "print(\"Is the list empty?\", is_list_empty(non_empty_list))"
   ]
  },
  {
   "cell_type": "code",
   "execution_count": null,
   "id": "9b93cac3",
   "metadata": {},
   "outputs": [],
   "source": [
    "# 7 Write a Python program to check if a list is sorted in ascending order.\n",
    "def is_sorted_ascending(input_list):\n",
    "    for i in range(1, len(input_list)):\n",
    "        if input_list[i] < input_list[i - 1]:\n",
    "            return False\n",
    "    return True\n",
    "            "
   ]
  },
  {
   "cell_type": "code",
   "execution_count": null,
   "id": "3aab710d",
   "metadata": {},
   "outputs": [],
   "source": [
    "my_list = [1,2,3,4,5]\n",
    "print(is_sorted_ascending(my_list))"
   ]
  },
  {
   "cell_type": "code",
   "execution_count": null,
   "id": "4aa963b4",
   "metadata": {},
   "outputs": [],
   "source": [
    "# 8 Write a Python program to find the common elements between two lists.\n",
    "\n",
    "def find_common_elements(list1, list2):\n",
    "    common_elements = []\n",
    "    for element in list1:\n",
    "        if element in list2 and element not in common_elements:\n",
    "            common_elements.append(element)\n",
    "    return common_elements"
   ]
  },
  {
   "cell_type": "code",
   "execution_count": null,
   "id": "dc9e8c67",
   "metadata": {},
   "outputs": [],
   "source": [
    "# Example usage\n",
    "list1 = [1, 2, 3, 4, 5]\n",
    "list2 = [3, 4, 5, 6, 7]\n",
    "\n",
    "common_elements = find_common_elements(list1, list2)\n",
    "print(\"Common elements:\", common_elements)"
   ]
  },
  {
   "cell_type": "code",
   "execution_count": null,
   "id": "9e18d5fd",
   "metadata": {},
   "outputs": [],
   "source": [
    "# 9 Write a Python program to reverse a list.\n",
    "def reverse_a_list(l):\n",
    "    return l[::-1]"
   ]
  },
  {
   "cell_type": "code",
   "execution_count": null,
   "id": "1eaec6bb",
   "metadata": {},
   "outputs": [],
   "source": [
    "list1 = [1, 2, 3, 4, 5]\n",
    "print(reverse_a_list(list1))"
   ]
  },
  {
   "cell_type": "code",
   "execution_count": null,
   "id": "9476f825",
   "metadata": {},
   "outputs": [],
   "source": [
    "# 10 Write a Python program to sort a list of strings in alphabetical order."
   ]
  },
  {
   "cell_type": "code",
   "execution_count": null,
   "id": "6e4bb0ad",
   "metadata": {},
   "outputs": [],
   "source": [
    "def sort_list_alphabetically(input_list):\n",
    "    sorted_list = sorted(input_list)\n",
    "    return sorted_list"
   ]
  },
  {
   "cell_type": "code",
   "execution_count": null,
   "id": "b6d19879",
   "metadata": {},
   "outputs": [],
   "source": [
    "# Example usage\n",
    "unsorted_list = [\"apple\", \"orange\", \"banana\", \"grape\", \"cherry\"]\n",
    "\n",
    "sorted_list = sort_list_alphabetically(unsorted_list)\n",
    "print(\"Sorted list:\", sorted_list)"
   ]
  }
 ],
 "metadata": {
  "kernelspec": {
   "display_name": "Python 3 (ipykernel)",
   "language": "python",
   "name": "python3"
  },
  "language_info": {
   "codemirror_mode": {
    "name": "ipython",
    "version": 3
   },
   "file_extension": ".py",
   "mimetype": "text/x-python",
   "name": "python",
   "nbconvert_exporter": "python",
   "pygments_lexer": "ipython3",
   "version": "3.9.16"
  }
 },
 "nbformat": 4,
 "nbformat_minor": 5
}
