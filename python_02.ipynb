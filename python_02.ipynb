{
 "cells": [
  {
   "cell_type": "markdown",
   "id": "71d149b2",
   "metadata": {},
   "source": [
    "# FUNCTIONS :\n",
    "- A function is a block of organized, reusable code that performs a specific task. Functions provide better modularity for your application and allow you to reuse code.\n",
    "- In Python, you can define a function using the `def` keyword, followed by the function name, a pair of parentheses that may include parameters, and a colon. The code block that follows, indented by four spaces, is the body of the function.\n",
    "- To call a function in Python, you write the function name followed by parentheses.\n",
    "-  A function can return a value using the return statement. When a return statement is executed inside a function, the function immediately terminates and returns the specified value to the caller.\n",
    "- A function can take zero or more parameters. Parameters are values that are passed to the function when it is called. The function can use these values to perform its task."
   ]
  },
  {
   "cell_type": "code",
   "execution_count": null,
   "id": "311ec703",
   "metadata": {},
   "outputs": [],
   "source": []
  },
  {
   "cell_type": "code",
   "execution_count": 4,
   "id": "94216090",
   "metadata": {},
   "outputs": [],
   "source": [
    "def mean(array):\n",
    "    summation = sum(array)\n",
    "    length = len(array)\n",
    "    average = summation/length\n",
    "    \n",
    "    return average"
   ]
  },
  {
   "cell_type": "code",
   "execution_count": 5,
   "id": "008cac27",
   "metadata": {},
   "outputs": [
    {
     "name": "stdout",
     "output_type": "stream",
     "text": [
      "6.666666666666667\n"
     ]
    }
   ],
   "source": [
    "my_list = [2,5,6,7,8,12]\n",
    "print(mean(my_list))"
   ]
  },
  {
   "cell_type": "code",
   "execution_count": null,
   "id": "f34410f0",
   "metadata": {},
   "outputs": [],
   "source": [
    "print(mean(my_list))"
   ]
  },
  {
   "cell_type": "code",
   "execution_count": 6,
   "id": "1535bf9d",
   "metadata": {},
   "outputs": [
    {
     "name": "stdout",
     "output_type": "stream",
     "text": [
      "199.5\n"
     ]
    }
   ],
   "source": [
    "my_list_1 = [33,44,55,666]\n",
    "print(mean(my_list_1))"
   ]
  },
  {
   "cell_type": "code",
   "execution_count": null,
   "id": "5ed8f750",
   "metadata": {},
   "outputs": [],
   "source": [
    "mean(my_list)"
   ]
  },
  {
   "cell_type": "code",
   "execution_count": null,
   "id": "d1e8c638",
   "metadata": {},
   "outputs": [],
   "source": []
  },
  {
   "cell_type": "code",
   "execution_count": null,
   "id": "6112bebf",
   "metadata": {},
   "outputs": [],
   "source": [
    "def greet():\n",
    "    print(\"HELLO WORLD\")\n",
    "    print(\"YOU are using the greet function.\")\n",
    "    print(\"THis is the third message\")"
   ]
  },
  {
   "cell_type": "code",
   "execution_count": null,
   "id": "5ab27b14",
   "metadata": {},
   "outputs": [],
   "source": [
    "greet()"
   ]
  },
  {
   "cell_type": "code",
   "execution_count": null,
   "id": "d7f38102",
   "metadata": {},
   "outputs": [],
   "source": [
    "greet()"
   ]
  },
  {
   "cell_type": "code",
   "execution_count": null,
   "id": "8aed2250",
   "metadata": {},
   "outputs": [],
   "source": [
    "def add(x,y):\n",
    "    return x + y"
   ]
  },
  {
   "cell_type": "code",
   "execution_count": null,
   "id": "58cbb847",
   "metadata": {},
   "outputs": [],
   "source": [
    "rezult = add(5)\n",
    "print(rezult)"
   ]
  },
  {
   "cell_type": "code",
   "execution_count": null,
   "id": "ceef8c5c",
   "metadata": {},
   "outputs": [],
   "source": [
    "def add(x = 0, y=0):\n",
    "    return x+ y"
   ]
  },
  {
   "cell_type": "code",
   "execution_count": null,
   "id": "b9bfa663",
   "metadata": {},
   "outputs": [],
   "source": [
    "add(x=7)"
   ]
  },
  {
   "cell_type": "code",
   "execution_count": null,
   "id": "93e6c379",
   "metadata": {},
   "outputs": [],
   "source": [
    "def greet(user = 'EARTH'):\n",
    "    print(f\"HELLO {user}\")"
   ]
  },
  {
   "cell_type": "code",
   "execution_count": null,
   "id": "69657e77",
   "metadata": {},
   "outputs": [],
   "source": [
    "greet(user=\"suraj\")"
   ]
  },
  {
   "cell_type": "code",
   "execution_count": null,
   "id": "17e29794",
   "metadata": {},
   "outputs": [],
   "source": [
    "greet()"
   ]
  },
  {
   "cell_type": "code",
   "execution_count": null,
   "id": "af678ec5",
   "metadata": {},
   "outputs": [],
   "source": [
    "greet('suraj')"
   ]
  },
  {
   "cell_type": "code",
   "execution_count": null,
   "id": "f8fc38e1",
   "metadata": {},
   "outputs": [],
   "source": [
    "def square_pattern(n : int):\n",
    "    for i in range(n):\n",
    "        for j in range(n):\n",
    "            print(\"x \",end='')\n",
    "        print()"
   ]
  },
  {
   "cell_type": "code",
   "execution_count": null,
   "id": "a27e6b6e",
   "metadata": {},
   "outputs": [],
   "source": [
    "square_pattern(4)"
   ]
  },
  {
   "cell_type": "code",
   "execution_count": null,
   "id": "bfadf0b6",
   "metadata": {},
   "outputs": [],
   "source": [
    "square_pattern(10)"
   ]
  },
  {
   "cell_type": "code",
   "execution_count": null,
   "id": "0def9e9c",
   "metadata": {},
   "outputs": [],
   "source": [
    "def square_root(n):\n",
    "    return n ** 0.5"
   ]
  },
  {
   "cell_type": "code",
   "execution_count": null,
   "id": "f3e5de3c",
   "metadata": {},
   "outputs": [],
   "source": [
    "def square(n : float) -> float :\n",
    "    return n **2"
   ]
  },
  {
   "cell_type": "code",
   "execution_count": null,
   "id": "b1b63f60",
   "metadata": {},
   "outputs": [],
   "source": [
    "def add(number1 : float, number2 : float) -> float:\n",
    "    return number1 + number2"
   ]
  },
  {
   "cell_type": "code",
   "execution_count": null,
   "id": "d10d6ebc",
   "metadata": {},
   "outputs": [],
   "source": [
    "square(5.45)"
   ]
  },
  {
   "cell_type": "code",
   "execution_count": null,
   "id": "78a46738",
   "metadata": {},
   "outputs": [],
   "source": [
    "add()"
   ]
  },
  {
   "cell_type": "code",
   "execution_count": null,
   "id": "e2cf31ff",
   "metadata": {},
   "outputs": [],
   "source": [
    "my_variable = 10 \n",
    "\n",
    "def mean(numbers_list):\n",
    "    summation= sum(numbers_list)\n",
    "    length = len(numbers_list)\n",
    "    return summation/length"
   ]
  },
  {
   "cell_type": "code",
   "execution_count": null,
   "id": "85d2411c",
   "metadata": {},
   "outputs": [],
   "source": [
    "summation"
   ]
  },
  {
   "cell_type": "code",
   "execution_count": null,
   "id": "71696abb",
   "metadata": {},
   "outputs": [],
   "source": []
  },
  {
   "cell_type": "code",
   "execution_count": null,
   "id": "1f3bb397",
   "metadata": {},
   "outputs": [],
   "source": [
    "# gloabal and local variables"
   ]
  },
  {
   "cell_type": "code",
   "execution_count": null,
   "id": "387f3187",
   "metadata": {},
   "outputs": [],
   "source": [
    "nums = [1,3,5,6]"
   ]
  },
  {
   "cell_type": "code",
   "execution_count": null,
   "id": "fbfb774c",
   "metadata": {},
   "outputs": [],
   "source": [
    "print(mean(nums))"
   ]
  },
  {
   "cell_type": "code",
   "execution_count": null,
   "id": "8efa63c1",
   "metadata": {},
   "outputs": [],
   "source": [
    "summation"
   ]
  },
  {
   "cell_type": "code",
   "execution_count": null,
   "id": "ef0ae904",
   "metadata": {},
   "outputs": [],
   "source": [
    "# A function to add two numbers\n",
    "def add(a,b):\n",
    "    return a+b"
   ]
  },
  {
   "cell_type": "code",
   "execution_count": null,
   "id": "49b7667e",
   "metadata": {},
   "outputs": [],
   "source": [
    "result = add(4,5)\n",
    "print(result)"
   ]
  },
  {
   "cell_type": "code",
   "execution_count": null,
   "id": "902f74c6",
   "metadata": {},
   "outputs": [],
   "source": [
    "# global and local variable\n",
    "\n",
    "x = 10  #gol\n",
    "\n",
    "def my_function():\n",
    "    x = 5\n",
    "    print(x)\n",
    "\n",
    "my_function() # 5\n",
    "print(x) # 10\n"
   ]
  },
  {
   "cell_type": "markdown",
   "id": "a166ee28",
   "metadata": {},
   "source": [
    "---"
   ]
  },
  {
   "cell_type": "markdown",
   "id": "dfcd028d",
   "metadata": {},
   "source": [
    "## Recursion :\n",
    "- Recursion is a technique in programming where a function calls itself in order to solve a problem. A recursive function must have a base case that stops the recursion, and a recursive case that calls the function again with modified arguments."
   ]
  },
  {
   "cell_type": "code",
   "execution_count": null,
   "id": "bc9ce7ec",
   "metadata": {},
   "outputs": [],
   "source": [
    "4! = 4 * 3!\n",
    "3! = 3 * 2!\n",
    "2! = 2*1"
   ]
  },
  {
   "cell_type": "code",
   "execution_count": null,
   "id": "2b37027b",
   "metadata": {},
   "outputs": [],
   "source": [
    "def factorial(n):\n",
    "    if n == 0:\n",
    "        return 1\n",
    "    else:\n",
    "        return n * factorial(n - 1)\n"
   ]
  },
  {
   "cell_type": "code",
   "execution_count": null,
   "id": "13f2bdb2",
   "metadata": {},
   "outputs": [],
   "source": [
    "4 * factorial(4-1)\n",
    "4 * 3 * factorial(3-1)\n",
    "4 * 3 * 2 * factorial(2-1)\n",
    "4 * 3 * 2 * 1 * factorial(1-1)\n",
    "4 * 3 * 2 * 1 * 1"
   ]
  },
  {
   "cell_type": "code",
   "execution_count": null,
   "id": "9c1b451f",
   "metadata": {},
   "outputs": [],
   "source": [
    "factorial(4)"
   ]
  },
  {
   "cell_type": "code",
   "execution_count": null,
   "id": "a2317ebd",
   "metadata": {},
   "outputs": [],
   "source": []
  },
  {
   "cell_type": "code",
   "execution_count": null,
   "id": "37c609ec",
   "metadata": {},
   "outputs": [],
   "source": [
    "print(factorial(4))"
   ]
  },
  {
   "cell_type": "markdown",
   "id": "f67b7510",
   "metadata": {},
   "source": [
    "# Q. Write a python program to print the following structure\n",
    "        *\n",
    "       ***\n",
    "      *****\n",
    "     *******\n",
    "    *********"
   ]
  },
  {
   "cell_type": "code",
   "execution_count": null,
   "id": "480ffa6d",
   "metadata": {
    "scrolled": true
   },
   "outputs": [],
   "source": [
    "n = 5\n",
    "for i in range(1,n+1):\n",
    "    for space in range(n-i):\n",
    "        print(\" \",end=\"\")\n",
    "    for star in range((2*i) -1):\n",
    "        print(\"X\",end=\"\")\n",
    "    print()"
   ]
  },
  {
   "cell_type": "code",
   "execution_count": null,
   "id": "847541fe",
   "metadata": {},
   "outputs": [],
   "source": []
  },
  {
   "cell_type": "code",
   "execution_count": null,
   "id": "0655f1c5",
   "metadata": {},
   "outputs": [],
   "source": []
  },
  {
   "cell_type": "code",
   "execution_count": null,
   "id": "5bd795c6",
   "metadata": {},
   "outputs": [],
   "source": []
  },
  {
   "cell_type": "code",
   "execution_count": null,
   "id": "32d4f020",
   "metadata": {},
   "outputs": [],
   "source": []
  },
  {
   "cell_type": "code",
   "execution_count": null,
   "id": "95756849",
   "metadata": {},
   "outputs": [],
   "source": []
  },
  {
   "cell_type": "code",
   "execution_count": null,
   "id": "5c0990ef",
   "metadata": {},
   "outputs": [],
   "source": []
  },
  {
   "cell_type": "code",
   "execution_count": null,
   "id": "139d3ca0",
   "metadata": {},
   "outputs": [],
   "source": []
  },
  {
   "cell_type": "code",
   "execution_count": null,
   "id": "9fe252fe",
   "metadata": {},
   "outputs": [],
   "source": []
  },
  {
   "cell_type": "code",
   "execution_count": null,
   "id": "a2735d01",
   "metadata": {},
   "outputs": [],
   "source": []
  },
  {
   "cell_type": "code",
   "execution_count": null,
   "id": "9f0091d1",
   "metadata": {},
   "outputs": [],
   "source": [
    "# Using For loop\n",
    "n = 5 \n",
    "for i in range(1,n+1):\n",
    "    for space in range(n-i):\n",
    "        print(' ',end=\"\")\n",
    "    for star in range(2*i-1):\n",
    "        print(\"*\",end=\"\")   \n",
    "    print()"
   ]
  },
  {
   "cell_type": "code",
   "execution_count": null,
   "id": "f25f377f",
   "metadata": {},
   "outputs": [],
   "source": [
    "# USING WHILE LOOP\n",
    "n = 5\n",
    "i=1\n",
    "k =1\n",
    "\n",
    "while i <= n:\n",
    "    space = 1\n",
    "    while space <= n-i:\n",
    "        print(\" \",end='')\n",
    "        space +=1\n",
    "    star = 1\n",
    "    while star <= k:\n",
    "        print(\"*\",end=\"\")\n",
    "        star +=1\n",
    "    k +=2\n",
    "    print()\n",
    "    i+=1"
   ]
  },
  {
   "cell_type": "markdown",
   "id": "b3bfbcc9",
   "metadata": {},
   "source": [
    "---\n",
    "### Q. Write a python program to print the following pattern.\n",
    "     number of Rows:5\n",
    "```    \n",
    "*********\n",
    " *******\n",
    "  *****\n",
    "   ***\n",
    "    *\n",
    "    \n",
    " ```   \n",
    "---"
   ]
  },
  {
   "cell_type": "code",
   "execution_count": null,
   "id": "878a82bf",
   "metadata": {},
   "outputs": [],
   "source": [
    "n = 5\n",
    "for i in range(1,n+1):\n",
    "    for space in range(i-1):\n",
    "        print(\" \",end= '')\n",
    "    for star in range(2*n-1):\n",
    "        print(\"*\",end=\"\")\n",
    "    print()\n",
    "    n = n-1"
   ]
  },
  {
   "cell_type": "code",
   "execution_count": null,
   "id": "3693fe22",
   "metadata": {},
   "outputs": [],
   "source": [
    "def inverted_traingle(number_of_rows):\n",
    "     \n",
    "    number_of_stars = (2 * number_of_rows) -1\n",
    "    for i in range(1,number_of_rows+1):\n",
    "        for space in range(i-1):\n",
    "            print(\" \",end='')\n",
    "        for pattern in range((number_of_stars)):\n",
    "            print(\"*\",end='')\n",
    "        print()\n",
    "        number_of_stars -= 2\n",
    "        \n",
    "        "
   ]
  },
  {
   "cell_type": "code",
   "execution_count": null,
   "id": "c52e82a4",
   "metadata": {
    "scrolled": true
   },
   "outputs": [],
   "source": [
    "inverted_traingle(5)"
   ]
  },
  {
   "cell_type": "code",
   "execution_count": null,
   "id": "08ef1a69",
   "metadata": {},
   "outputs": [],
   "source": [
    "n = 5\n",
    "i = 1\n",
    "while n > 0:\n",
    "    space = 1\n",
    "    while space < i:\n",
    "        print(\" \", end='')\n",
    "        space += 1\n",
    "    star = 1\n",
    "    while star <= 2*n-1:\n",
    "        print(\"*\", end='')\n",
    "        star += 1\n",
    "    print()\n",
    "    n -= 1\n",
    "    i += 1\n"
   ]
  },
  {
   "cell_type": "code",
   "execution_count": null,
   "id": "29b29ed5",
   "metadata": {},
   "outputs": [],
   "source": [
    "# for loop \n",
    "n = 5\n",
    "for i in range(1, n+1):\n",
    "    for space in range(i-1):\n",
    "        print(\" \", end='')\n",
    "    for star in range(2*n-1):\n",
    "        print(\"*\", end='')\n",
    "    print()\n",
    "    n -= 1"
   ]
  },
  {
   "cell_type": "code",
   "execution_count": null,
   "id": "c4bf1436",
   "metadata": {},
   "outputs": [],
   "source": [
    "def add(x,y):\n",
    "    return x + y"
   ]
  },
  {
   "cell_type": "code",
   "execution_count": null,
   "id": "8f6967b9",
   "metadata": {},
   "outputs": [],
   "source": [
    "add = lambda x,y : x+y "
   ]
  },
  {
   "cell_type": "code",
   "execution_count": null,
   "id": "36c56420",
   "metadata": {},
   "outputs": [],
   "source": [
    "print(add(4,6))"
   ]
  },
  {
   "cell_type": "code",
   "execution_count": null,
   "id": "dca4245d",
   "metadata": {},
   "outputs": [],
   "source": [
    "# em_list = []\n",
    "# for i in range(4):\n",
    "#     a = input(\"enter here : \")\n",
    "#     em_list.append(a)\n",
    "    \n",
    "\n",
    "my_List  = ['1','4','5','10']\n",
    "# print(type(em_list[0]))\n",
    "\n",
    "new_list = list(map(int,my_List))\n",
    "# print(new_list)\n",
    "# print(type(new_list[0]))\n",
    "\n",
    "\n",
    "\n",
    "print(new_list)\n",
    "\n",
    "def square(n):\n",
    "    return n **2\n",
    "\n",
    "# list(map(square,new_list))\n",
    "\n",
    "list(map(lambda x : x**2,new_list))\n"
   ]
  },
  {
   "cell_type": "markdown",
   "id": "be9a36cb",
   "metadata": {},
   "source": [
    "## Map and Lambda function :\n",
    "- The map() function is a built-in function that takes a `function` and an `iterable` as arguments, and returns an iterator that applies the function to each element of the iterable. \n",
    "- The map function in Python takes two arguments: a function and an iterable (e.g., a list). \n",
    "- It applies the function to each element of the iterable and returns a new iterable with the results. - The map function allows you to apply the same operation to multiple items in a convenient and concise way."
   ]
  },
  {
   "cell_type": "code",
   "execution_count": null,
   "id": "32e5d611",
   "metadata": {},
   "outputs": [],
   "source": [
    "list(map(str,[1,2,3,4,5,6]))\n"
   ]
  },
  {
   "cell_type": "code",
   "execution_count": null,
   "id": "d2c6c5b3",
   "metadata": {},
   "outputs": [],
   "source": [
    "a = list(map(int,input(\"ENTER A NUMBER :\")))\n",
    "print(a)\n",
    "print(type(a[0]))"
   ]
  },
  {
   "cell_type": "code",
   "execution_count": null,
   "id": "a3ab0177",
   "metadata": {},
   "outputs": [],
   "source": [
    "# Define a function\n",
    "def square(x):\n",
    "    return x ** 2\n",
    "\n",
    "# Create a list of numbers\n",
    "numbers = [1, 2, 3, 4, 5]\n",
    "\n",
    "# Use map to apply the square function to each element in the list\n",
    "squared_numbers = map(square, numbers)\n",
    "\n",
    "# Convert the map object to a list\n",
    "result = list(squared_numbers)\n",
    "\n",
    "print(result)\n"
   ]
  },
  {
   "cell_type": "markdown",
   "id": "20c6f583",
   "metadata": {},
   "source": [
    "---\n",
    "- A lambda function, also known as an anonymous function, is a way to define a small function in a single line without formally defining it with the `def` keyword. \n",
    "- Lambda functions are handy when you need a simple function for a short period of time.\n",
    "- The `lambda` keyword is used to create small, anonymous functions that can be used as arguments to higher-order functions like `map()`.\n",
    "---"
   ]
  },
  {
   "cell_type": "code",
   "execution_count": null,
   "id": "6aa8a352",
   "metadata": {},
   "outputs": [],
   "source": [
    "square = lambda x: x * x\n",
    "result = square(3)\n",
    "print(result) # 9\n"
   ]
  },
  {
   "cell_type": "code",
   "execution_count": null,
   "id": "05592a5b",
   "metadata": {},
   "outputs": [],
   "source": [
    "add = lambda x, y: x + y\n",
    "result = add(3, 5)\n",
    "print(result)  # Output: 8\n"
   ]
  },
  {
   "cell_type": "code",
   "execution_count": null,
   "id": "2f6b52fc",
   "metadata": {},
   "outputs": [],
   "source": [
    "is_even = lambda x: x % 2 == 0\n",
    "result = is_even(7)\n",
    "print(result)  # Output: False\n"
   ]
  },
  {
   "cell_type": "code",
   "execution_count": null,
   "id": "b24408f4",
   "metadata": {},
   "outputs": [],
   "source": [
    "# Create a list of numbers\n",
    "numbers = [1, 2, 3, 4, 5]\n",
    "\n",
    "# Use map with a lambda function to square each element in the list\n",
    "squared_numbers = list(map(lambda x: x ** 2, numbers))\n",
    "\n",
    "print(squared_numbers)\n"
   ]
  },
  {
   "cell_type": "code",
   "execution_count": null,
   "id": "756b6ab4",
   "metadata": {},
   "outputs": [],
   "source": []
  }
 ],
 "metadata": {
  "kernelspec": {
   "display_name": "Python 3 (ipykernel)",
   "language": "python",
   "name": "python3"
  },
  "language_info": {
   "codemirror_mode": {
    "name": "ipython",
    "version": 3
   },
   "file_extension": ".py",
   "mimetype": "text/x-python",
   "name": "python",
   "nbconvert_exporter": "python",
   "pygments_lexer": "ipython3",
   "version": "3.9.16"
  }
 },
 "nbformat": 4,
 "nbformat_minor": 5
}
