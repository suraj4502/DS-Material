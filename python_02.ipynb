{
 "cells": [
  {
   "cell_type": "markdown",
   "id": "71d149b2",
   "metadata": {},
   "source": [
    "# FUNCTIONS :\n",
    "- A function is a block of organized, reusable code that performs a specific task. Functions provide better modularity for your application and allow you to reuse code.\n",
    "- In Python, you can define a function using the `def` keyword, followed by the function name, a pair of parentheses that may include parameters, and a colon. The code block that follows, indented by four spaces, is the body of the function.\n",
    "- To call a function in Python, you write the function name followed by parentheses.\n",
    "-  A function can return a value using the return statement. When a return statement is executed inside a function, the function immediately terminates and returns the specified value to the caller.\n",
    "- A function can take zero or more parameters. Parameters are values that are passed to the function when it is called. The function can use these values to perform its task."
   ]
  },
  {
   "cell_type": "code",
   "execution_count": null,
   "id": "8d8066bd",
   "metadata": {},
   "outputs": [],
   "source": [
    "def calculate_avg(numbers_list): # parameterized function\n",
    "    summation = sum(numbers_list)\n",
    "    length = len(numbers_list)\n",
    "    return summation/length\n"
   ]
  },
  {
   "cell_type": "code",
   "execution_count": null,
   "id": "39ba4abf",
   "metadata": {},
   "outputs": [],
   "source": [
    "def greet(): # non - parameterized \n",
    "    print(\"HELLLO WORLD\")"
   ]
  },
  {
   "cell_type": "code",
   "execution_count": null,
   "id": "f029f1c7",
   "metadata": {},
   "outputs": [],
   "source": [
    "def greet_with_name(name= \"EARTH\"):\n",
    "    print(\"HELLO\", name)"
   ]
  },
  {
   "cell_type": "code",
   "execution_count": null,
   "id": "6112bebf",
   "metadata": {},
   "outputs": [],
   "source": [
    "def greet():\n",
    "    print(\"HELLO WORLD\")\n",
    "    print(\"YOU are using the greet function.\")"
   ]
  },
  {
   "cell_type": "code",
   "execution_count": null,
   "id": "5ab27b14",
   "metadata": {},
   "outputs": [],
   "source": [
    "greet()"
   ]
  },
  {
   "cell_type": "code",
   "execution_count": null,
   "id": "93e6c379",
   "metadata": {},
   "outputs": [],
   "source": [
    "def greet(user):\n",
    "    print(f\"HELLO {user}\")"
   ]
  },
  {
   "cell_type": "code",
   "execution_count": null,
   "id": "69657e77",
   "metadata": {},
   "outputs": [],
   "source": [
    "greet(user=\"suraj\")"
   ]
  },
  {
   "cell_type": "code",
   "execution_count": null,
   "id": "17e29794",
   "metadata": {},
   "outputs": [],
   "source": [
    "greet(\"sulbha\")"
   ]
  },
  {
   "cell_type": "code",
   "execution_count": null,
   "id": "af678ec5",
   "metadata": {},
   "outputs": [],
   "source": [
    "greet('suraj')"
   ]
  },
  {
   "cell_type": "code",
   "execution_count": null,
   "id": "92bcdbd8",
   "metadata": {},
   "outputs": [],
   "source": [
    "def sum_(a,b):\n",
    "    result = a+b\n",
    "    return result\n",
    "    "
   ]
  },
  {
   "cell_type": "code",
   "execution_count": null,
   "id": "bf7a651a",
   "metadata": {},
   "outputs": [],
   "source": [
    "def square(a : float):\n",
    "    return a * a"
   ]
  },
  {
   "cell_type": "code",
   "execution_count": 3,
   "id": "a3a838da",
   "metadata": {},
   "outputs": [],
   "source": [
    "# create a function that will take a list of numbers and will return multiplication of all the elements in the list\n",
    "my_variable = 5      # global variable\n",
    "\n",
    "def multiply(number_list):\n",
    "    result = 1         # local variable\n",
    "    for i in number_list:\n",
    "        result = result * i\n",
    "    return result"
   ]
  },
  {
   "cell_type": "code",
   "execution_count": 4,
   "id": "94e8ccbf",
   "metadata": {},
   "outputs": [
    {
     "data": {
      "text/plain": [
       "5"
      ]
     },
     "execution_count": 4,
     "metadata": {},
     "output_type": "execute_result"
    }
   ],
   "source": [
    "my_variable"
   ]
  },
  {
   "cell_type": "code",
   "execution_count": 2,
   "id": "b557a746",
   "metadata": {},
   "outputs": [
    {
     "ename": "NameError",
     "evalue": "name 'result' is not defined",
     "output_type": "error",
     "traceback": [
      "\u001b[1;31m---------------------------------------------------------------------------\u001b[0m",
      "\u001b[1;31mNameError\u001b[0m                                 Traceback (most recent call last)",
      "Cell \u001b[1;32mIn[2], line 1\u001b[0m\n\u001b[1;32m----> 1\u001b[0m \u001b[43mresult\u001b[49m\n",
      "\u001b[1;31mNameError\u001b[0m: name 'result' is not defined"
     ]
    }
   ],
   "source": [
    "result"
   ]
  },
  {
   "cell_type": "code",
   "execution_count": null,
   "id": "252188f0",
   "metadata": {},
   "outputs": [],
   "source": [
    "def print_star(n):\n",
    "    for i in range(1,n+1):\n",
    "        print(\"* \"* n)\n",
    "    "
   ]
  },
  {
   "cell_type": "code",
   "execution_count": null,
   "id": "1cc32a4f",
   "metadata": {},
   "outputs": [],
   "source": [
    "print_star(6)"
   ]
  },
  {
   "cell_type": "code",
   "execution_count": null,
   "id": "caa71840",
   "metadata": {},
   "outputs": [],
   "source": [
    "list(range(1,5))"
   ]
  },
  {
   "cell_type": "code",
   "execution_count": null,
   "id": "f1973ed6",
   "metadata": {},
   "outputs": [],
   "source": [
    "n = 4\n",
    "for i in range(1,n+1):\n",
    "    print(\"* \"* n)"
   ]
  },
  {
   "cell_type": "code",
   "execution_count": null,
   "id": "613f0146",
   "metadata": {},
   "outputs": [],
   "source": [
    "multiply([4,5,2,3])"
   ]
  },
  {
   "cell_type": "code",
   "execution_count": null,
   "id": "c68c76a7",
   "metadata": {},
   "outputs": [],
   "source": [
    "square(5)"
   ]
  },
  {
   "cell_type": "code",
   "execution_count": null,
   "id": "a4124464",
   "metadata": {},
   "outputs": [],
   "source": [
    "result = sum_(6,66)\n",
    "print(result)"
   ]
  },
  {
   "cell_type": "code",
   "execution_count": null,
   "id": "479d662e",
   "metadata": {},
   "outputs": [],
   "source": [
    "print(sum_(5,5))"
   ]
  },
  {
   "cell_type": "code",
   "execution_count": null,
   "id": "1c3f7a88",
   "metadata": {},
   "outputs": [],
   "source": [
    "len([1,5,6,7,8])"
   ]
  },
  {
   "cell_type": "code",
   "execution_count": null,
   "id": "1a8b0cbf",
   "metadata": {},
   "outputs": [],
   "source": [
    "sum([1,5,6,7,8])"
   ]
  },
  {
   "cell_type": "code",
   "execution_count": null,
   "id": "2739d039",
   "metadata": {},
   "outputs": [],
   "source": [
    "27/5"
   ]
  },
  {
   "cell_type": "code",
   "execution_count": null,
   "id": "f3e5de3c",
   "metadata": {},
   "outputs": [],
   "source": [
    "def square(n):\n",
    "    return n **2"
   ]
  },
  {
   "cell_type": "code",
   "execution_count": null,
   "id": "7806842c",
   "metadata": {},
   "outputs": [],
   "source": [
    "print(square(5))"
   ]
  },
  {
   "cell_type": "code",
   "execution_count": null,
   "id": "e2cf31ff",
   "metadata": {},
   "outputs": [],
   "source": [
    "my_variable = 10 \n",
    "\n",
    "\n",
    "def mean(numbers_list):\n",
    "    summation= sum(numbers_list)\n",
    "    length = len(numbers_list)\n",
    "    return summation/length"
   ]
  },
  {
   "cell_type": "code",
   "execution_count": null,
   "id": "1f3bb397",
   "metadata": {},
   "outputs": [],
   "source": [
    "# gloabal and local variables"
   ]
  },
  {
   "cell_type": "code",
   "execution_count": null,
   "id": "387f3187",
   "metadata": {},
   "outputs": [],
   "source": [
    "nums = [1,3,5,6]"
   ]
  },
  {
   "cell_type": "code",
   "execution_count": null,
   "id": "fbfb774c",
   "metadata": {},
   "outputs": [],
   "source": [
    "print(mean(nums))"
   ]
  },
  {
   "cell_type": "code",
   "execution_count": null,
   "id": "8efa63c1",
   "metadata": {},
   "outputs": [],
   "source": [
    "summation"
   ]
  },
  {
   "cell_type": "code",
   "execution_count": null,
   "id": "ef0ae904",
   "metadata": {},
   "outputs": [],
   "source": [
    "# A function to add two numbers\n",
    "def add(a : int,b : int) -> int:\n",
    "    return a+b"
   ]
  },
  {
   "cell_type": "code",
   "execution_count": null,
   "id": "49b7667e",
   "metadata": {},
   "outputs": [],
   "source": [
    "result = add(4,5)\n",
    "print(result)"
   ]
  },
  {
   "cell_type": "code",
   "execution_count": null,
   "id": "902f74c6",
   "metadata": {},
   "outputs": [],
   "source": [
    "# global and local variable\n",
    "\n",
    "x = 10 \n",
    "\n",
    "def my_function():\n",
    "    x = 5\n",
    "    print(x)\n",
    "\n",
    "my_function() \n",
    "print(x) \n"
   ]
  },
  {
   "cell_type": "markdown",
   "id": "a166ee28",
   "metadata": {},
   "source": [
    "---"
   ]
  },
  {
   "cell_type": "markdown",
   "id": "dfcd028d",
   "metadata": {},
   "source": [
    "## Recursion :\n",
    "- Recursion is a technique in programming where a function calls itself in order to solve a problem. A recursive function must have a base case that stops the recursion, and a recursive case that calls the function again with modified arguments."
   ]
  },
  {
   "cell_type": "code",
   "execution_count": null,
   "id": "ba3480b4",
   "metadata": {},
   "outputs": [],
   "source": [
    "4! = 4 * 3 * 2!"
   ]
  },
  {
   "cell_type": "code",
   "execution_count": 5,
   "id": "bc9ce7ec",
   "metadata": {},
   "outputs": [
    {
     "data": {
      "text/plain": [
       "24"
      ]
     },
     "execution_count": 5,
     "metadata": {},
     "output_type": "execute_result"
    }
   ],
   "source": [
    "4 * 3 * 2 *  1 * 1"
   ]
  },
  {
   "cell_type": "code",
   "execution_count": 8,
   "id": "371363ba",
   "metadata": {},
   "outputs": [
    {
     "data": {
      "text/plain": [
       "24"
      ]
     },
     "execution_count": 8,
     "metadata": {},
     "output_type": "execute_result"
    }
   ],
   "source": [
    "4 * 3 * 2 * 1 * 1"
   ]
  },
  {
   "cell_type": "code",
   "execution_count": 6,
   "id": "2b37027b",
   "metadata": {},
   "outputs": [
    {
     "name": "stdout",
     "output_type": "stream",
     "text": [
      "120\n"
     ]
    }
   ],
   "source": [
    "def factorial(n):\n",
    "    if n == 0:\n",
    "        return 1\n",
    "    else:\n",
    "        return n * factorial(n - 1)\n",
    "\n",
    "result = factorial(5)\n",
    "print(result) # 120\n"
   ]
  },
  {
   "cell_type": "code",
   "execution_count": 9,
   "id": "dddf497f",
   "metadata": {},
   "outputs": [
    {
     "data": {
      "text/plain": [
       "93326215443944152681699238856266700490715968264381621468592963895217599993229915608941463976156518286253697920827223758251185210916864000000000000000000000000"
      ]
     },
     "execution_count": 9,
     "metadata": {},
     "output_type": "execute_result"
    }
   ],
   "source": [
    "factorial(100)"
   ]
  },
  {
   "cell_type": "code",
   "execution_count": 7,
   "id": "37c609ec",
   "metadata": {},
   "outputs": [
    {
     "name": "stdout",
     "output_type": "stream",
     "text": [
      "24\n"
     ]
    }
   ],
   "source": [
    "print(factorial(4))"
   ]
  },
  {
   "cell_type": "markdown",
   "id": "f67b7510",
   "metadata": {},
   "source": [
    "# Q. Write a python program to print the following structure\n",
    "        *\n",
    "       ***\n",
    "      *****\n",
    "     *******\n",
    "    *********"
   ]
  },
  {
   "cell_type": "code",
   "execution_count": 2,
   "id": "9819475b",
   "metadata": {},
   "outputs": [
    {
     "name": "stdout",
     "output_type": "stream",
     "text": [
      "    *\n",
      "   ***\n",
      "  *****\n",
      " *******\n",
      "*********\n"
     ]
    }
   ],
   "source": [
    "n = 5\n",
    "for i in range(1,n+1):\n",
    "    print(\" \"* (n-i),end=\"\")\n",
    "    print(\"*\" * (2*i-1))\n",
    "    "
   ]
  },
  {
   "cell_type": "code",
   "execution_count": 12,
   "id": "a2735d01",
   "metadata": {},
   "outputs": [
    {
     "name": "stdout",
     "output_type": "stream",
     "text": [
      "    *\n",
      "   ***\n",
      "  *****\n",
      " *******\n",
      "*********\n"
     ]
    }
   ],
   "source": [
    "n = 5\n",
    "for i in range(1,n+1):\n",
    "    print(\" \" * (n-i) ,end=\"\")\n",
    "    print(\"*\" * (2*i-1))"
   ]
  },
  {
   "cell_type": "code",
   "execution_count": 13,
   "id": "9f0091d1",
   "metadata": {},
   "outputs": [
    {
     "name": "stdout",
     "output_type": "stream",
     "text": [
      "    *\n",
      "   ***\n",
      "  *****\n",
      " *******\n",
      "*********\n"
     ]
    }
   ],
   "source": [
    "# Using For loop\n",
    "n = 5 \n",
    "for i in range(1,n+1):\n",
    "    for space in range(n-i):\n",
    "        print(' ',end=\"\")\n",
    "    for star in range(2*i-1):\n",
    "        print(\"*\",end=\"\")   \n",
    "    print()"
   ]
  },
  {
   "cell_type": "code",
   "execution_count": null,
   "id": "f25f377f",
   "metadata": {},
   "outputs": [],
   "source": [
    "# USING WHILE LOOP\n",
    "n = 5\n",
    "i=1\n",
    "k =1\n",
    "\n",
    "while i <= n:\n",
    "    space = 1\n",
    "    while space <= n-i:\n",
    "        print(\" \",end='')\n",
    "        space +=1\n",
    "    star = 1\n",
    "    while star <= k:\n",
    "        print(\"*\",end=\"\")\n",
    "        star +=1\n",
    "    k +=2\n",
    "    print()\n",
    "    i+=1"
   ]
  },
  {
   "cell_type": "markdown",
   "id": "b3bfbcc9",
   "metadata": {},
   "source": [
    "---\n",
    "### Q. Write a python program to print the following pattern.\n",
    "     number of Rows:5\n",
    "     \n",
    "         * * * * *\n",
    "          * * * *\n",
    "           * * *\n",
    "            * *\n",
    "             *\n",
    "\n",
    "---"
   ]
  },
  {
   "cell_type": "code",
   "execution_count": 17,
   "id": "4d674036",
   "metadata": {},
   "outputs": [
    {
     "name": "stdout",
     "output_type": "stream",
     "text": [
      "*********\n",
      " *******\n",
      "  *****\n",
      "   ***\n",
      "    *\n"
     ]
    }
   ],
   "source": [
    "n = 5\n",
    "for i in range(1,n+1):\n",
    "    print(\" \" * (i-1),end=\"\")\n",
    "    print(\"*\" * (2*n-1))\n",
    "    n-=1"
   ]
  },
  {
   "cell_type": "code",
   "execution_count": 14,
   "id": "08ef1a69",
   "metadata": {},
   "outputs": [
    {
     "name": "stdout",
     "output_type": "stream",
     "text": [
      "*********\n",
      " *******\n",
      "  *****\n",
      "   ***\n",
      "    *\n"
     ]
    }
   ],
   "source": [
    "n = 5\n",
    "i = 1\n",
    "while n > 0:\n",
    "    space = 1\n",
    "    while space < i:\n",
    "        print(\" \", end='')\n",
    "        space += 1\n",
    "    star = 1\n",
    "    while star <= 2*n-1:\n",
    "        print(\"*\", end='')\n",
    "        star += 1\n",
    "    print()\n",
    "    n -= 1\n",
    "    i += 1\n"
   ]
  },
  {
   "cell_type": "code",
   "execution_count": 21,
   "id": "29b29ed5",
   "metadata": {},
   "outputs": [
    {
     "name": "stdout",
     "output_type": "stream",
     "text": [
      "*********\n",
      " *******\n",
      "  *****\n",
      "   ***\n",
      "    *\n"
     ]
    }
   ],
   "source": [
    "# for loop \n",
    "n = 5\n",
    "for i in range(1, n+1):\n",
    "    for space in range(i-1):\n",
    "        print(\" \", end='')\n",
    "    for star in range(2*n-1):\n",
    "        print(\"*\", end='')\n",
    "    print()\n",
    "    n = n-1\n",
    "    "
   ]
  },
  {
   "cell_type": "code",
   "execution_count": 26,
   "id": "cbeb19ea",
   "metadata": {},
   "outputs": [
    {
     "name": "stdout",
     "output_type": "stream",
     "text": [
      "*********\n",
      " *******\n",
      "  *****\n",
      "   ***\n",
      "    *\n",
      "   ***\n",
      "  *****\n",
      " *******\n",
      "*********\n"
     ]
    }
   ],
   "source": [
    "n = 5\n",
    "num_stars = n\n",
    "for i in range(1, n+1):\n",
    "    for space in range(i-1):\n",
    "        print(\" \", end='')\n",
    "    for star in range(2*num_stars-1):\n",
    "        print(\"*\", end='')\n",
    "    print()\n",
    "    num_stars -=1\n",
    "\n",
    "n2 = n-1\n",
    "space =2\n",
    "for i in range(2,n2+2):\n",
    "    for space in range(space+1):\n",
    "        print(\" \",end='')\n",
    "        \n",
    "    for star in range(2*i-1):\n",
    "        print(\"*\",end=\"\")\n",
    "    print()\n",
    "    space -=1\n"
   ]
  },
  {
   "cell_type": "code",
   "execution_count": 34,
   "id": "f5114706",
   "metadata": {},
   "outputs": [],
   "source": [
    "def not_diamond(n):\n",
    "    num_stars = n\n",
    "    for i in range(1, n+1):\n",
    "        for space in range(i-1):\n",
    "            print(\" \", end='')\n",
    "        for star in range(2*num_stars-1):\n",
    "            print(\"*\", end='')\n",
    "        print()\n",
    "        num_stars -=1\n",
    "\n",
    "    n2 = n-1\n",
    "    num_stars = n2\n",
    "    for i in range(1,n2+1):\n",
    "        for space in range(n2-i):\n",
    "            print(\" \",end=\"\")\n",
    "        for star in range(num_stars-1):\n",
    "            print(\"*\",end=\"\")\n",
    "        print()\n",
    "        num_stars +=2"
   ]
  },
  {
   "cell_type": "code",
   "execution_count": 35,
   "id": "1aaf1dfb",
   "metadata": {},
   "outputs": [
    {
     "name": "stdout",
     "output_type": "stream",
     "text": [
      "*****************************\n",
      " ***************************\n",
      "  *************************\n",
      "   ***********************\n",
      "    *********************\n",
      "     *******************\n",
      "      *****************\n",
      "       ***************\n",
      "        *************\n",
      "         ***********\n",
      "          *********\n",
      "           *******\n",
      "            *****\n",
      "             ***\n",
      "              *\n",
      "             *************\n",
      "            ***************\n",
      "           *****************\n",
      "          *******************\n",
      "         *********************\n",
      "        ***********************\n",
      "       *************************\n",
      "      ***************************\n",
      "     *****************************\n",
      "    *******************************\n",
      "   *********************************\n",
      "  ***********************************\n",
      " *************************************\n",
      "***************************************\n"
     ]
    }
   ],
   "source": [
    "not_diamond(15)"
   ]
  },
  {
   "cell_type": "code",
   "execution_count": 30,
   "id": "372ee9a4",
   "metadata": {},
   "outputs": [
    {
     "name": "stdout",
     "output_type": "stream",
     "text": [
      "*********\n",
      " *******\n",
      "  *****\n",
      "   ***\n",
      "    *\n",
      "   ***\n",
      "  *****\n",
      " *******\n",
      "*********\n"
     ]
    }
   ],
   "source": [
    "n = 5\n",
    "num_stars = n\n",
    "for i in range(1, n+1):\n",
    "    for space in range(i-1):\n",
    "        print(\" \", end='')\n",
    "    for star in range(2*num_stars-1):\n",
    "        print(\"*\", end='')\n",
    "    print()\n",
    "    num_stars -=1\n",
    "    \n",
    "n2 = n-1\n",
    "num_stars = n2\n",
    "for i in range(1,n2+1):\n",
    "    for space in range(n2-i):\n",
    "        print(\" \",end=\"\")\n",
    "    for star in range(num_stars-1):\n",
    "        print(\"*\",end=\"\")\n",
    "    print()\n",
    "    num_stars +=2"
   ]
  },
  {
   "cell_type": "code",
   "execution_count": null,
   "id": "b6225481",
   "metadata": {},
   "outputs": [],
   "source": [
    "list(range(5,0,-1))"
   ]
  },
  {
   "cell_type": "code",
   "execution_count": null,
   "id": "2154fed4",
   "metadata": {},
   "outputs": [],
   "source": [
    "list(range(2,6))"
   ]
  },
  {
   "cell_type": "code",
   "execution_count": null,
   "id": "c5935473",
   "metadata": {},
   "outputs": [],
   "source": [
    "n = 5\n",
    "# Upside-down triangle\n",
    "for i in range(n, 0, -1):\n",
    "    print(\" \" * (n - i), end='')  # Print leading spaces\n",
    "    print(\"*\" * (2 * i - 1))      # Print stars\n",
    "    # No need to decrease num_stars here, just adjust leading spaces\n",
    "\n",
    "# Right-side-up triangle\n",
    "for i in range(2, n + 1):\n",
    "    print(\" \" * (n - i), end='')  # Print leading spaces\n",
    "    print(\"*\" * (2 * i - 1))      # Print stars\n"
   ]
  },
  {
   "cell_type": "markdown",
   "id": "6dc76df1",
   "metadata": {},
   "source": [
    "## TRY TO PRINT THIS PATTERN AS WELL"
   ]
  },
  {
   "cell_type": "markdown",
   "id": "4538298a",
   "metadata": {},
   "source": [
    " ```\n",
    "            *\n",
    "           ***\n",
    "          *****\n",
    "         *******\n",
    "        *********\n",
    "         *******\n",
    "          *****\n",
    "           ***\n",
    "            *\n",
    " ```"
   ]
  },
  {
   "cell_type": "code",
   "execution_count": 22,
   "id": "6ddcd4c2",
   "metadata": {},
   "outputs": [
    {
     "name": "stdout",
     "output_type": "stream",
     "text": [
      "    *\n",
      "   ***\n",
      "  *****\n",
      " *******\n",
      "*********\n",
      " *******\n",
      "  *****\n",
      "   ***\n",
      "    *\n"
     ]
    }
   ],
   "source": [
    "n=5\n",
    "for i in range(1,n+1):\n",
    "    for space in range(n-i):\n",
    "        print(' ',end=\"\")\n",
    "    for star in range(2*i-1):\n",
    "        print(\"*\",end=\"\")   \n",
    "    print()\n",
    "\n",
    "n2 = n-1 #4\n",
    "for i in range(1,n2+1): # 1-5 [1,2,3,4]\n",
    "    for space in range(i):\n",
    "        print(\" \",end=\"\")\n",
    "    for star in range(2*n2-1):\n",
    "        print(\"*\",end=\"\")\n",
    "    print()\n",
    "    n2-=1"
   ]
  },
  {
   "cell_type": "code",
   "execution_count": 23,
   "id": "a2ba4423",
   "metadata": {},
   "outputs": [],
   "source": [
    " def diamond(n):\n",
    "    for i in range(1,n+1):\n",
    "        for space in range(n-i):\n",
    "            print(' ',end=\"\")\n",
    "        for star in range(2*i-1):\n",
    "            print(\"*\",end=\"\")   \n",
    "        print()\n",
    "\n",
    "    n2 = n-1 #4\n",
    "    for i in range(1,n2+1): # 1-5 [1,2,3,4]\n",
    "        for space in range(i):\n",
    "            print(\" \",end=\"\")\n",
    "        for star in range(2*n2-1):\n",
    "            print(\"*\",end=\"\")\n",
    "        print()\n",
    "        n2-=1\n"
   ]
  },
  {
   "cell_type": "code",
   "execution_count": 25,
   "id": "deb895f7",
   "metadata": {},
   "outputs": [
    {
     "name": "stdout",
     "output_type": "stream",
     "text": [
      "         *\n",
      "        ***\n",
      "       *****\n",
      "      *******\n",
      "     *********\n",
      "    ***********\n",
      "   *************\n",
      "  ***************\n",
      " *****************\n",
      "*******************\n",
      " *****************\n",
      "  ***************\n",
      "   *************\n",
      "    ***********\n",
      "     *********\n",
      "      *******\n",
      "       *****\n",
      "        ***\n",
      "         *\n"
     ]
    }
   ],
   "source": [
    "diamond(10)"
   ]
  },
  {
   "cell_type": "markdown",
   "id": "be9a36cb",
   "metadata": {},
   "source": [
    "## Map and Lambda function :\n",
    "- The map() function is a built-in function that takes a `function` and an `iterable` as arguments, and returns an iterator that applies the function to each element of the iterable. \n",
    "- The map function in Python takes two arguments: a function and an iterable (e.g., a list). \n",
    "- It applies the function to each element of the iterable and returns a new iterable with the results. - The map function allows you to apply the same operation to multiple items in a convenient and concise way."
   ]
  },
  {
   "cell_type": "code",
   "execution_count": 20,
   "id": "a3ab0177",
   "metadata": {},
   "outputs": [
    {
     "name": "stdout",
     "output_type": "stream",
     "text": [
      "[1, 4, 9, 16, 25]\n"
     ]
    }
   ],
   "source": [
    "# Define a function\n",
    "def square(x):\n",
    "    return x ** 2\n",
    "\n",
    "# Create a list of numbers\n",
    "numbers = [1, 2, 3, 4, 5]\n",
    "\n",
    "# Use map to apply the square function to each element in the list\n",
    "squared_numbers = map(square, numbers)\n",
    "\n",
    "# Convert the map object to a list\n",
    "result = list(squared_numbers)\n",
    "\n",
    "print(result)\n"
   ]
  },
  {
   "cell_type": "markdown",
   "id": "20c6f583",
   "metadata": {},
   "source": [
    "---\n",
    "- A lambda function, also known as an anonymous function, is a way to define a small function in a single line without formally defining it with the `def` keyword. \n",
    "- Lambda functions are handy when you need a simple function for a short period of time.\n",
    "- The lambda keyword is used to create small, anonymous functions that can be used as arguments to higher-order functions like `map()`.\n",
    "---"
   ]
  },
  {
   "cell_type": "code",
   "execution_count": 1,
   "id": "0a27c5e9",
   "metadata": {},
   "outputs": [],
   "source": [
    "def add(a,b):\n",
    "    return  a + b"
   ]
  },
  {
   "cell_type": "code",
   "execution_count": null,
   "id": "6af2e962",
   "metadata": {},
   "outputs": [],
   "source": [
    "add = lambda a,b : a+b"
   ]
  },
  {
   "cell_type": "code",
   "execution_count": 2,
   "id": "5c4732dd",
   "metadata": {},
   "outputs": [
    {
     "data": {
      "text/plain": [
       "13"
      ]
     },
     "execution_count": 2,
     "metadata": {},
     "output_type": "execute_result"
    }
   ],
   "source": [
    "add(8,5)"
   ]
  },
  {
   "cell_type": "code",
   "execution_count": 3,
   "id": "fe53d6df",
   "metadata": {},
   "outputs": [],
   "source": [
    "square = lambda x : x**2"
   ]
  },
  {
   "cell_type": "code",
   "execution_count": 4,
   "id": "f0dd2001",
   "metadata": {},
   "outputs": [
    {
     "data": {
      "text/plain": [
       "25"
      ]
     },
     "execution_count": 4,
     "metadata": {},
     "output_type": "execute_result"
    }
   ],
   "source": [
    "square(5)"
   ]
  },
  {
   "cell_type": "code",
   "execution_count": null,
   "id": "42b78018",
   "metadata": {},
   "outputs": [],
   "source": [
    "def square(n):\n",
    "    return n **2"
   ]
  },
  {
   "cell_type": "code",
   "execution_count": 3,
   "id": "6aa8a352",
   "metadata": {},
   "outputs": [
    {
     "name": "stdout",
     "output_type": "stream",
     "text": [
      "9\n"
     ]
    }
   ],
   "source": [
    "square = lambda x :  x * x\n",
    "result = square(3)\n",
    "print(result) # 9\n"
   ]
  },
  {
   "cell_type": "code",
   "execution_count": null,
   "id": "05592a5b",
   "metadata": {},
   "outputs": [],
   "source": [
    "add = lambda x, y: x + y\n",
    "result = add(3, 5)\n",
    "print(result)  # Output: 8\n"
   ]
  },
  {
   "cell_type": "code",
   "execution_count": 11,
   "id": "ef3acefc",
   "metadata": {},
   "outputs": [],
   "source": [
    "t = ('key','value')\n",
    "random = lambda x : x[1]"
   ]
  },
  {
   "cell_type": "code",
   "execution_count": 12,
   "id": "82e4710f",
   "metadata": {},
   "outputs": [
    {
     "data": {
      "text/plain": [
       "'value'"
      ]
     },
     "execution_count": 12,
     "metadata": {},
     "output_type": "execute_result"
    }
   ],
   "source": [
    "random(t)"
   ]
  },
  {
   "cell_type": "code",
   "execution_count": 8,
   "id": "2f6b52fc",
   "metadata": {},
   "outputs": [
    {
     "data": {
      "text/plain": [
       "False"
      ]
     },
     "execution_count": 8,
     "metadata": {},
     "output_type": "execute_result"
    }
   ],
   "source": [
    "is_even = lambda x: x % 2 == 0\n",
    "\n",
    "is_even(3)\n"
   ]
  },
  {
   "cell_type": "code",
   "execution_count": 5,
   "id": "922d85e2",
   "metadata": {},
   "outputs": [
    {
     "data": {
      "text/plain": [
       "5"
      ]
     },
     "execution_count": 5,
     "metadata": {},
     "output_type": "execute_result"
    }
   ],
   "source": [
    "a = '5'\n",
    "int(a)"
   ]
  },
  {
   "cell_type": "code",
   "execution_count": 9,
   "id": "c1cac06a",
   "metadata": {},
   "outputs": [
    {
     "data": {
      "text/plain": [
       "[1, 9, 16, 25]"
      ]
     },
     "execution_count": 9,
     "metadata": {},
     "output_type": "execute_result"
    }
   ],
   "source": [
    "l = [1,3,4,5]\n",
    "list(map(lambda x : x**2, l))"
   ]
  },
  {
   "cell_type": "code",
   "execution_count": 8,
   "id": "9ae57075",
   "metadata": {},
   "outputs": [
    {
     "data": {
      "text/plain": [
       "(4, 5, 6)"
      ]
     },
     "execution_count": 8,
     "metadata": {},
     "output_type": "execute_result"
    }
   ],
   "source": [
    "t = ('4','5','6')\n",
    "map_object = map(int,t)\n",
    "tuple(map_object)"
   ]
  },
  {
   "cell_type": "code",
   "execution_count": 21,
   "id": "b24408f4",
   "metadata": {},
   "outputs": [
    {
     "name": "stdout",
     "output_type": "stream",
     "text": [
      "[1, 4, 9, 16, 25]\n"
     ]
    }
   ],
   "source": [
    "# Create a list of numbers\n",
    "numbers = [1, 2, 3, 4, 5]\n",
    "\n",
    "# Use map with a lambda function to square each element in the list\n",
    "squared_numbers = map(lambda x: x ** 2, numbers)\n",
    "\n",
    "# Convert the map object to a list\n",
    "result = list(squared_numbers)\n",
    "\n",
    "print(result)\n"
   ]
  },
  {
   "cell_type": "code",
   "execution_count": 3,
   "id": "cad1edb0",
   "metadata": {},
   "outputs": [],
   "source": [
    "l = ['4','6','5','3','6']"
   ]
  },
  {
   "cell_type": "code",
   "execution_count": 6,
   "id": "cd661242",
   "metadata": {},
   "outputs": [
    {
     "data": {
      "text/plain": [
       "2547450331200"
      ]
     },
     "execution_count": 6,
     "metadata": {},
     "output_type": "execute_result"
    }
   ],
   "source": [
    "id(l)"
   ]
  },
  {
   "cell_type": "code",
   "execution_count": 8,
   "id": "d784f8c0",
   "metadata": {},
   "outputs": [
    {
     "name": "stdout",
     "output_type": "stream",
     "text": [
      "4\n",
      "6\n",
      "5\n",
      "3\n",
      "6\n"
     ]
    }
   ],
   "source": [
    "for i in map(int,l):\n",
    "    print(i)"
   ]
  },
  {
   "cell_type": "code",
   "execution_count": 2,
   "id": "756b6ab4",
   "metadata": {},
   "outputs": [
    {
     "data": {
      "text/plain": [
       "[1, 529, 3025, 4356]"
      ]
     },
     "execution_count": 2,
     "metadata": {},
     "output_type": "execute_result"
    }
   ],
   "source": [
    "list(map(lambda x : x**2, [1,23,55,66]))"
   ]
  }
 ],
 "metadata": {
  "kernelspec": {
   "display_name": "Python 3 (ipykernel)",
   "language": "python",
   "name": "python3"
  },
  "language_info": {
   "codemirror_mode": {
    "name": "ipython",
    "version": 3
   },
   "file_extension": ".py",
   "mimetype": "text/x-python",
   "name": "python",
   "nbconvert_exporter": "python",
   "pygments_lexer": "ipython3",
   "version": "3.9.16"
  }
 },
 "nbformat": 4,
 "nbformat_minor": 5
}
