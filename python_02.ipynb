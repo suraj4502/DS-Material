{
 "cells": [
  {
   "cell_type": "markdown",
   "id": "71d149b2",
   "metadata": {},
   "source": [
    "# FUNCTIONS :\n",
    "- A function is a block of organized, reusable code that performs a specific task. Functions provide better modularity for your application and allow you to reuse code.\n",
    "- In Python, you can define a function using the `def` keyword, followed by the function name, a pair of parentheses that may include parameters, and a colon. The code block that follows, indented by four spaces, is the body of the function.\n",
    "- To call a function in Python, you write the function name followed by parentheses.\n",
    "-  A function can return a value using the return statement. When a return statement is executed inside a function, the function immediately terminates and returns the specified value to the caller.\n",
    "- A function can take zero or more parameters. Parameters are values that are passed to the function when it is called. The function can use these values to perform its task."
   ]
  },
  {
   "cell_type": "code",
   "execution_count": 4,
   "id": "42429fd5",
   "metadata": {},
   "outputs": [],
   "source": [
    "def mean(numbers_list): #parametirezed function\n",
    "    s = sum(numbers_list)\n",
    "    l = len(numbers_list)\n",
    "    avg = s/l\n",
    "    return avg"
   ]
  },
  {
   "cell_type": "code",
   "execution_count": 8,
   "id": "2309007b",
   "metadata": {},
   "outputs": [],
   "source": [
    "def greet():   # non paraetirezed function\n",
    "    print(\"Hello \")\n",
    "    print(\"This is a message inside the greet function.\")\n",
    "    print(\"This will be executed when we will call the function.\")"
   ]
  },
  {
   "cell_type": "code",
   "execution_count": 15,
   "id": "ccbace97",
   "metadata": {},
   "outputs": [],
   "source": [
    "def add(x,y=0):\n",
    "    return x+y"
   ]
  },
  {
   "cell_type": "code",
   "execution_count": 16,
   "id": "7d48cd11",
   "metadata": {},
   "outputs": [
    {
     "data": {
      "text/plain": [
       "6"
      ]
     },
     "execution_count": 16,
     "metadata": {},
     "output_type": "execute_result"
    }
   ],
   "source": [
    "add(x=2,y=4)"
   ]
  },
  {
   "cell_type": "code",
   "execution_count": null,
   "id": "98e13397",
   "metadata": {},
   "outputs": [],
   "source": [
    "# create a function that will take marks of a students and will return his grade."
   ]
  },
  {
   "cell_type": "code",
   "execution_count": 35,
   "id": "0f356454",
   "metadata": {},
   "outputs": [],
   "source": [
    "def grader(marks : int) ->str:\n",
    "    if marks >=60:\n",
    "        return \"A\"\n",
    "    elif marks >=35:\n",
    "        return \"B\"\n",
    "    else:\n",
    "        return \"Fail\""
   ]
  },
  {
   "cell_type": "code",
   "execution_count": 34,
   "id": "409e1b65",
   "metadata": {},
   "outputs": [
    {
     "data": {
      "text/plain": [
       "'B'"
      ]
     },
     "execution_count": 34,
     "metadata": {},
     "output_type": "execute_result"
    }
   ],
   "source": [
    "grader(55)"
   ]
  },
  {
   "cell_type": "code",
   "execution_count": 17,
   "id": "9379d4ff",
   "metadata": {},
   "outputs": [
    {
     "data": {
      "text/plain": [
       "3"
      ]
     },
     "execution_count": 17,
     "metadata": {},
     "output_type": "execute_result"
    }
   ],
   "source": [
    "add(3)"
   ]
  },
  {
   "cell_type": "code",
   "execution_count": 10,
   "id": "725d383a",
   "metadata": {},
   "outputs": [
    {
     "name": "stdout",
     "output_type": "stream",
     "text": [
      "Hello \n",
      "This is a message inside the greet function.\n",
      "This will be executed when we will call the function.\n"
     ]
    }
   ],
   "source": [
    "greet()"
   ]
  },
  {
   "cell_type": "code",
   "execution_count": 9,
   "id": "cbead441",
   "metadata": {},
   "outputs": [
    {
     "name": "stdout",
     "output_type": "stream",
     "text": [
      "Hello \n",
      "This is a message inside the greet function.\n",
      "This will be executed when we will call the function.\n"
     ]
    }
   ],
   "source": [
    "greet()"
   ]
  },
  {
   "cell_type": "code",
   "execution_count": 5,
   "id": "3f63e2ae",
   "metadata": {},
   "outputs": [
    {
     "name": "stdout",
     "output_type": "stream",
     "text": [
      "4.75\n"
     ]
    }
   ],
   "source": [
    "l = [2,4,6,7]\n",
    "result = mean(l)\n",
    "print(result)"
   ]
  },
  {
   "cell_type": "code",
   "execution_count": 6,
   "id": "104b6331",
   "metadata": {},
   "outputs": [
    {
     "name": "stdout",
     "output_type": "stream",
     "text": [
      "3.6666666666666665\n"
     ]
    }
   ],
   "source": [
    "l2 = [4,5,2]\n",
    "print(mean(l2))"
   ]
  },
  {
   "cell_type": "code",
   "execution_count": 7,
   "id": "850b5564",
   "metadata": {},
   "outputs": [
    {
     "name": "stdout",
     "output_type": "stream",
     "text": [
      "3.0\n"
     ]
    }
   ],
   "source": [
    "print(mean([1,2,3,4,5]))"
   ]
  },
  {
   "cell_type": "code",
   "execution_count": null,
   "id": "ace51017",
   "metadata": {},
   "outputs": [],
   "source": [
    "[1,5,7,8,9]"
   ]
  },
  {
   "cell_type": "code",
   "execution_count": null,
   "id": "37f33827",
   "metadata": {},
   "outputs": [],
   "source": [
    "result = Mean([1,5,7,8,9])\n",
    "result"
   ]
  },
  {
   "cell_type": "code",
   "execution_count": null,
   "id": "64856dce",
   "metadata": {},
   "outputs": [],
   "source": [
    "print(Mean([4,5,6]))"
   ]
  },
  {
   "cell_type": "code",
   "execution_count": null,
   "id": "6112bebf",
   "metadata": {},
   "outputs": [],
   "source": [
    "def greet():\n",
    "    print(\"HELLO WORLD\")\n",
    "    print(\"YOU are using the greet function.\")"
   ]
  },
  {
   "cell_type": "code",
   "execution_count": null,
   "id": "5ab27b14",
   "metadata": {},
   "outputs": [],
   "source": [
    "greet()"
   ]
  },
  {
   "cell_type": "code",
   "execution_count": 20,
   "id": "93e6c379",
   "metadata": {},
   "outputs": [],
   "source": [
    "def greet(user='earth'):\n",
    "    print(f\"HELLO {user}\")"
   ]
  },
  {
   "cell_type": "code",
   "execution_count": 21,
   "id": "19fa4c1c",
   "metadata": {},
   "outputs": [
    {
     "name": "stdout",
     "output_type": "stream",
     "text": [
      "HELLO earth\n"
     ]
    }
   ],
   "source": [
    "greet()"
   ]
  },
  {
   "cell_type": "code",
   "execution_count": 19,
   "id": "69657e77",
   "metadata": {},
   "outputs": [
    {
     "name": "stdout",
     "output_type": "stream",
     "text": [
      "HELLO suraj\n"
     ]
    }
   ],
   "source": [
    "greet(user=\"suraj\")"
   ]
  },
  {
   "cell_type": "code",
   "execution_count": null,
   "id": "17e29794",
   "metadata": {},
   "outputs": [],
   "source": [
    "greet(\"sulbha\")"
   ]
  },
  {
   "cell_type": "code",
   "execution_count": null,
   "id": "af678ec5",
   "metadata": {},
   "outputs": [],
   "source": [
    "greet('suraj')"
   ]
  },
  {
   "cell_type": "code",
   "execution_count": null,
   "id": "92bcdbd8",
   "metadata": {},
   "outputs": [],
   "source": [
    "def sum_(a,b):\n",
    "    result = a+b\n",
    "    return result\n",
    "    "
   ]
  },
  {
   "cell_type": "code",
   "execution_count": null,
   "id": "a4124464",
   "metadata": {},
   "outputs": [],
   "source": [
    "result = sum_(6,66)\n",
    "print(result)"
   ]
  },
  {
   "cell_type": "code",
   "execution_count": null,
   "id": "479d662e",
   "metadata": {},
   "outputs": [],
   "source": [
    "print(sum_(5,5))"
   ]
  },
  {
   "cell_type": "code",
   "execution_count": null,
   "id": "1c3f7a88",
   "metadata": {},
   "outputs": [],
   "source": [
    "len([1,5,6,7,8])"
   ]
  },
  {
   "cell_type": "code",
   "execution_count": null,
   "id": "1a8b0cbf",
   "metadata": {},
   "outputs": [],
   "source": [
    "sum([1,5,6,7,8])"
   ]
  },
  {
   "cell_type": "code",
   "execution_count": null,
   "id": "2739d039",
   "metadata": {},
   "outputs": [],
   "source": [
    "27/5"
   ]
  },
  {
   "cell_type": "code",
   "execution_count": 36,
   "id": "f3e5de3c",
   "metadata": {},
   "outputs": [],
   "source": [
    "def square(n):\n",
    "    return n **2"
   ]
  },
  {
   "cell_type": "code",
   "execution_count": 39,
   "id": "7806842c",
   "metadata": {},
   "outputs": [
    {
     "name": "stdout",
     "output_type": "stream",
     "text": [
      "308025\n"
     ]
    }
   ],
   "source": [
    "print(square(555))"
   ]
  },
  {
   "cell_type": "code",
   "execution_count": 22,
   "id": "e2cf31ff",
   "metadata": {},
   "outputs": [],
   "source": [
    "my_variable = 10  # global variable\n",
    "\n",
    "def mean(numbers_list):\n",
    "    summation= sum(numbers_list) # local variable\n",
    "    length = len(numbers_list)   #local variabble\n",
    "    return summation/length"
   ]
  },
  {
   "cell_type": "code",
   "execution_count": 24,
   "id": "d4154fcc",
   "metadata": {},
   "outputs": [
    {
     "data": {
      "text/plain": [
       "10"
      ]
     },
     "execution_count": 24,
     "metadata": {},
     "output_type": "execute_result"
    }
   ],
   "source": [
    "my_variable"
   ]
  },
  {
   "cell_type": "code",
   "execution_count": null,
   "id": "1f3bb397",
   "metadata": {},
   "outputs": [],
   "source": [
    "# gloabal and local variables"
   ]
  },
  {
   "cell_type": "code",
   "execution_count": null,
   "id": "387f3187",
   "metadata": {},
   "outputs": [],
   "source": [
    "nums = [1,3,5,6]"
   ]
  },
  {
   "cell_type": "code",
   "execution_count": null,
   "id": "fbfb774c",
   "metadata": {},
   "outputs": [],
   "source": [
    "print(mean(nums))"
   ]
  },
  {
   "cell_type": "code",
   "execution_count": null,
   "id": "8efa63c1",
   "metadata": {},
   "outputs": [],
   "source": [
    "summation"
   ]
  },
  {
   "cell_type": "code",
   "execution_count": null,
   "id": "ef0ae904",
   "metadata": {},
   "outputs": [],
   "source": [
    "# A function to add two numbers\n",
    "def add(a,b):\n",
    "    return a+b"
   ]
  },
  {
   "cell_type": "code",
   "execution_count": null,
   "id": "49b7667e",
   "metadata": {},
   "outputs": [],
   "source": [
    "result = add(4,5)\n",
    "print(result)"
   ]
  },
  {
   "cell_type": "code",
   "execution_count": null,
   "id": "902f74c6",
   "metadata": {},
   "outputs": [],
   "source": [
    "# global and local variable\n",
    "\n",
    "x = 10  #gol\n",
    "\n",
    "def my_function():\n",
    "    x = 5\n",
    "    print(x)\n",
    "\n",
    "my_function() # 5\n",
    "print(x) # 10\n"
   ]
  },
  {
   "cell_type": "markdown",
   "id": "a166ee28",
   "metadata": {},
   "source": [
    "---"
   ]
  },
  {
   "cell_type": "markdown",
   "id": "dfcd028d",
   "metadata": {},
   "source": [
    "## Recursion :\n",
    "- Recursion is a technique in programming where a function calls itself in order to solve a problem. A recursive function must have a base case that stops the recursion, and a recursive case that calls the function again with modified arguments."
   ]
  },
  {
   "cell_type": "code",
   "execution_count": 40,
   "id": "bc9ce7ec",
   "metadata": {
    "collapsed": true
   },
   "outputs": [
    {
     "ename": "SyntaxError",
     "evalue": "invalid syntax (1296767036.py, line 1)",
     "output_type": "error",
     "traceback": [
      "\u001b[1;36m  Cell \u001b[1;32mIn[40], line 1\u001b[1;36m\u001b[0m\n\u001b[1;33m    4! = 4 * 3* *2*1\u001b[0m\n\u001b[1;37m     ^\u001b[0m\n\u001b[1;31mSyntaxError\u001b[0m\u001b[1;31m:\u001b[0m invalid syntax\n"
     ]
    }
   ],
   "source": [
    "4! = 4 * 3* *2*1"
   ]
  },
  {
   "cell_type": "code",
   "execution_count": 41,
   "id": "2b37027b",
   "metadata": {},
   "outputs": [
    {
     "name": "stdout",
     "output_type": "stream",
     "text": [
      "120\n"
     ]
    }
   ],
   "source": [
    "def factorial(n):\n",
    "    if n == 0:\n",
    "        return 1\n",
    "    else:\n",
    "        return n * factorial(n - 1)\n",
    "\n",
    "result = factorial(5)\n",
    "print(result) # 120\n"
   ]
  },
  {
   "cell_type": "code",
   "execution_count": 42,
   "id": "a37bb853",
   "metadata": {},
   "outputs": [
    {
     "data": {
      "text/plain": [
       "24"
      ]
     },
     "execution_count": 42,
     "metadata": {},
     "output_type": "execute_result"
    }
   ],
   "source": [
    "factorial(4)"
   ]
  },
  {
   "cell_type": "code",
   "execution_count": 43,
   "id": "1dc69895",
   "metadata": {},
   "outputs": [
    {
     "data": {
      "text/plain": [
       "24"
      ]
     },
     "execution_count": 43,
     "metadata": {},
     "output_type": "execute_result"
    }
   ],
   "source": [
    "4 * 3 * 2 * 1 * 1"
   ]
  },
  {
   "cell_type": "code",
   "execution_count": null,
   "id": "37c609ec",
   "metadata": {},
   "outputs": [],
   "source": [
    "print(factorial(4))"
   ]
  },
  {
   "cell_type": "markdown",
   "id": "f67b7510",
   "metadata": {},
   "source": [
    "# Q. Write a python program to print the following structure\n",
    "        *\n",
    "       ***\n",
    "      *****\n",
    "     *******\n",
    "    *********"
   ]
  },
  {
   "cell_type": "code",
   "execution_count": null,
   "id": "a2735d01",
   "metadata": {},
   "outputs": [],
   "source": []
  },
  {
   "cell_type": "code",
   "execution_count": null,
   "id": "9f0091d1",
   "metadata": {},
   "outputs": [],
   "source": [
    "# Using For loop\n",
    "n = 5 \n",
    "for i in range(1,n+1):\n",
    "    for space in range(n-i):\n",
    "        print(' ',end=\"\")\n",
    "    for star in range(2*i-1):\n",
    "        print(\"*\",end=\"\")   \n",
    "    print()"
   ]
  },
  {
   "cell_type": "code",
   "execution_count": null,
   "id": "f25f377f",
   "metadata": {},
   "outputs": [],
   "source": [
    "# USING WHILE LOOP\n",
    "n = 5\n",
    "i=1\n",
    "k =1\n",
    "\n",
    "while i <= n:\n",
    "    space = 1\n",
    "    while space <= n-i:\n",
    "        print(\" \",end='')\n",
    "        space +=1\n",
    "    star = 1\n",
    "    while star <= k:\n",
    "        print(\"*\",end=\"\")\n",
    "        star +=1\n",
    "    k +=2\n",
    "    print()\n",
    "    i+=1"
   ]
  },
  {
   "cell_type": "code",
   "execution_count": null,
   "id": "bcb40bd1",
   "metadata": {},
   "outputs": [],
   "source": []
  },
  {
   "cell_type": "markdown",
   "id": "b3bfbcc9",
   "metadata": {},
   "source": [
    "---\n",
    "### Q. Write a python program to print the following pattern.\n",
    "\n",
    "number of Rows:5\n",
    "```\n",
    "*********\n",
    " *******\n",
    "  *****\n",
    "   ***\n",
    "    *\n",
    "```\n",
    "---"
   ]
  },
  {
   "cell_type": "code",
   "execution_count": 8,
   "id": "93576c37",
   "metadata": {},
   "outputs": [
    {
     "name": "stdout",
     "output_type": "stream",
     "text": [
      "*********\n",
      " *******\n",
      "  *****\n",
      "   ***\n",
      "    *\n"
     ]
    }
   ],
   "source": [
    "row = 1\n",
    "num_stars = 9\n",
    "while row<=5:\n",
    "    \n",
    "    space = row -1\n",
    "    while space >0:\n",
    "        print(\" \",end=\"\")\n",
    "        space -=1\n",
    "        \n",
    "    star = 1\n",
    "    while star <= num_stars:\n",
    "        print(\"*\",end=\"\")\n",
    "        star +=1\n",
    "    \n",
    "    print()\n",
    "    row +=1\n",
    "    num_stars -=2\n",
    "    "
   ]
  },
  {
   "cell_type": "code",
   "execution_count": 7,
   "id": "2d196c31",
   "metadata": {},
   "outputs": [
    {
     "name": "stdout",
     "output_type": "stream",
     "text": [
      "*********\n",
      " *******\n",
      "  *****\n",
      "   ***\n",
      "    *\n"
     ]
    }
   ],
   "source": [
    "n = 5\n",
    "for i in range(n):\n",
    "    for space in range(i):\n",
    "        print(\" \",end=\"\")\n",
    "    for star in range(2*n-1):\n",
    "        print(\"*\",end=\"\")\n",
    "    print()\n",
    "    n -=1"
   ]
  },
  {
   "cell_type": "code",
   "execution_count": 4,
   "id": "15c9e85f",
   "metadata": {},
   "outputs": [
    {
     "name": "stdout",
     "output_type": "stream",
     "text": [
      "    * * * * * * * * * \n",
      "      * * * * * * * \n",
      "        * * * * * \n",
      "          * * * \n",
      "            * \n"
     ]
    }
   ],
   "source": [
    "n = 5\n",
    "for i in range(1,n+1):\n",
    "    for space in range(i+1):\n",
    "        print(\" \",end=\" \")\n",
    "    for star in range(2*n-1):\n",
    "        print(\"*\",end=\" \")\n",
    "    print()\n",
    "    n -=1\n",
    "    "
   ]
  },
  {
   "cell_type": "code",
   "execution_count": 1,
   "id": "08ef1a69",
   "metadata": {},
   "outputs": [
    {
     "name": "stdout",
     "output_type": "stream",
     "text": [
      "*********\n",
      " *******\n",
      "  *****\n",
      "   ***\n",
      "    *\n"
     ]
    }
   ],
   "source": [
    "n = 5\n",
    "i = 1\n",
    "while n > 0:\n",
    "    space = 1\n",
    "    while space < i:\n",
    "        print(\" \", end='')\n",
    "        space += 1\n",
    "    star = 1\n",
    "    while star <= 2*n-1:\n",
    "        print(\"*\", end='')\n",
    "        star += 1\n",
    "    print()\n",
    "    n -= 1\n",
    "    i += 1\n"
   ]
  },
  {
   "cell_type": "code",
   "execution_count": 2,
   "id": "29b29ed5",
   "metadata": {},
   "outputs": [
    {
     "name": "stdout",
     "output_type": "stream",
     "text": [
      "*********\n",
      " *******\n",
      "  *****\n",
      "   ***\n",
      "    *\n"
     ]
    }
   ],
   "source": [
    "# for loop \n",
    "n = 5\n",
    "for i in range(1, n+1):\n",
    "    for space in range(i-1):\n",
    "        print(\" \", end='')\n",
    "    for star in range(2*n-1):\n",
    "        print(\"*\", end='')\n",
    "    print()\n",
    "    n -= 1"
   ]
  },
  {
   "cell_type": "markdown",
   "id": "18958d14",
   "metadata": {},
   "source": [
    "## SOLVE THIS ONE TOO\n",
    "```\n",
    "1 2 3 4 5\n",
    "2\n",
    "3\n",
    "4\n",
    "5\n",
    "```"
   ]
  },
  {
   "cell_type": "code",
   "execution_count": 13,
   "id": "857c6155",
   "metadata": {},
   "outputs": [
    {
     "name": "stdout",
     "output_type": "stream",
     "text": [
      "1 2 3 4 5 \n",
      "2\n",
      "3\n",
      "4\n",
      "5\n"
     ]
    }
   ],
   "source": [
    "for i in range(1,6):\n",
    "    print(i,end=\" \")\n",
    "print()\n",
    "for j in range(2,6):\n",
    "    print(j)"
   ]
  },
  {
   "cell_type": "code",
   "execution_count": 15,
   "id": "8fd138b1",
   "metadata": {},
   "outputs": [
    {
     "data": {
      "text/plain": [
       "[2, 3, 4, 5]"
      ]
     },
     "execution_count": 15,
     "metadata": {},
     "output_type": "execute_result"
    }
   ],
   "source": [
    "list(range(2,6))"
   ]
  },
  {
   "cell_type": "code",
   "execution_count": 33,
   "id": "2be539cf",
   "metadata": {},
   "outputs": [
    {
     "name": "stdout",
     "output_type": "stream",
     "text": [
      "***************\n",
      " *************\n",
      "  ***********\n",
      "   *********\n",
      "    *******\n",
      "     *****\n",
      "      ***\n",
      "       *\n",
      "      ***\n",
      "     *****\n",
      "    *******\n",
      "   *********\n",
      "  ***********\n",
      " *************\n",
      "***************\n"
     ]
    }
   ],
   "source": [
    "n=8\n",
    "num_stars = n\n",
    "for i in range(n):\n",
    "    for space in range(i):\n",
    "        print(\" \",end=\"\")\n",
    "    for star in range(2*num_stars-1):\n",
    "        print(\"*\",end=\"\")\n",
    "    print()\n",
    "    num_stars -=1\n",
    "    \n",
    "n2 = n-1 #4\n",
    "space = n2-2\n",
    "for i in range(2,n2+2):\n",
    "    for current_space in range(space+1):\n",
    "        print(\" \",end=\"\")\n",
    "    for star in range(2*i-1):\n",
    "        print(\"*\",end=\"\")\n",
    "    \n",
    "    print()\n",
    "    space -=1\n",
    "   \n",
    "        "
   ]
  },
  {
   "cell_type": "markdown",
   "id": "b7c57ba9",
   "metadata": {},
   "source": [
    "## TYR TO PRINT THIS ONE:\n",
    "``` \n",
    "*********\n",
    " *******\n",
    "  *****\n",
    "   ***\n",
    "    *\n",
    "   ***\n",
    "  *****\n",
    " *******\n",
    "*********\n",
    "```"
   ]
  },
  {
   "cell_type": "code",
   "execution_count": 9,
   "id": "67a19325",
   "metadata": {},
   "outputs": [
    {
     "name": "stdout",
     "output_type": "stream",
     "text": [
      "Enter number of Rows:9\n",
      "* * * * * * * * * \n",
      " * * * * * * * * \n",
      "  * * * * * * * \n",
      "   * * * * * * \n",
      "    * * * * * \n",
      "     * * * * \n",
      "      * * * \n",
      "       * * \n",
      "        * \n",
      "       * * \n",
      "      * * * \n",
      "     * * * * \n",
      "    * * * * * \n",
      "   * * * * * * \n",
      "  * * * * * * * \n",
      " * * * * * * * * \n",
      "* * * * * * * * * \n"
     ]
    }
   ],
   "source": [
    "rows = int(input(\"Enter number of Rows:\"))\n",
    "\n",
    "for i in range(1,rows):\n",
    "    for j in range(1,i):\n",
    "        # print required number of spaces\n",
    "        print('', end=' ')\n",
    "\n",
    "    k = i\n",
    "    for k in range(i,rows+1):\n",
    "        print('*', end=' ')\n",
    "\n",
    "    print()\n",
    "\n",
    "\n",
    "i = rows - 1\n",
    "while i >= 0:\n",
    "    j = 0\n",
    "    while j < i:\n",
    "        print('', end=' ')\n",
    "        j += 1\n",
    "    k = i\n",
    "    while k <= rows - 1:\n",
    "        print('*', end=' ')\n",
    "        k += 1\n",
    "    print('')\n",
    "    i -= 1"
   ]
  },
  {
   "cell_type": "markdown",
   "id": "be9a36cb",
   "metadata": {},
   "source": [
    "## Map and Lambda function :\n",
    "- The map() function is a built-in function that takes a `function` and an `iterable` as arguments, and returns an iterator that applies the function to each element of the iterable. \n",
    "- The map function in Python takes two arguments: a function and an iterable (e.g., a list). \n",
    "- It applies the function to each element of the iterable and returns a new iterable with the results. - The map function allows you to apply the same operation to multiple items in a convenient and concise way."
   ]
  },
  {
   "cell_type": "code",
   "execution_count": null,
   "id": "32e5d611",
   "metadata": {},
   "outputs": [],
   "source": [
    "list(map(str,[1,2,3,4,5,6]))\n"
   ]
  },
  {
   "cell_type": "code",
   "execution_count": null,
   "id": "d2c6c5b3",
   "metadata": {},
   "outputs": [],
   "source": [
    "a = list(map(int,input(\"ENTER A NUMBER :\")))\n",
    "print(a)\n",
    "print(type(a[0]))"
   ]
  },
  {
   "cell_type": "code",
   "execution_count": null,
   "id": "a3ab0177",
   "metadata": {},
   "outputs": [],
   "source": [
    "# Define a function\n",
    "def square(x):\n",
    "    return x ** 2\n",
    "\n",
    "# Create a list of numbers\n",
    "numbers = [1, 2, 3, 4, 5]\n",
    "\n",
    "# Use map to apply the square function to each element in the list\n",
    "squared_numbers = map(square, numbers)\n",
    "\n",
    "# Convert the map object to a list\n",
    "result = list(squared_numbers)\n",
    "\n",
    "print(result)\n"
   ]
  },
  {
   "cell_type": "markdown",
   "id": "20c6f583",
   "metadata": {},
   "source": [
    "---\n",
    "- A lambda function, also known as an anonymous function, is a way to define a small function in a single line without formally defining it with the `def` keyword. \n",
    "- Lambda functions are handy when you need a simple function for a short period of time.\n",
    "- The lambda keyword is used to create small, anonymous functions that can be used as arguments to higher-order functions like `map()`.\n",
    "---"
   ]
  },
  {
   "cell_type": "code",
   "execution_count": null,
   "id": "6aa8a352",
   "metadata": {},
   "outputs": [],
   "source": [
    "square = lambda x: x * x\n",
    "result = square(3)\n",
    "print(result) # 9\n"
   ]
  },
  {
   "cell_type": "code",
   "execution_count": null,
   "id": "05592a5b",
   "metadata": {},
   "outputs": [],
   "source": [
    "add = lambda x, y: x + y\n",
    "result = add(3, 5)\n",
    "print(result)  # Output: 8\n"
   ]
  },
  {
   "cell_type": "code",
   "execution_count": null,
   "id": "2f6b52fc",
   "metadata": {},
   "outputs": [],
   "source": [
    "is_even = lambda x: x % 2 == 0\n",
    "result = is_even(7)\n",
    "print(result)  # Output: False\n"
   ]
  },
  {
   "cell_type": "code",
   "execution_count": null,
   "id": "b24408f4",
   "metadata": {},
   "outputs": [],
   "source": [
    "# Create a list of numbers\n",
    "numbers = [1, 2, 3, 4, 5]\n",
    "\n",
    "# Use map with a lambda function to square each element in the list\n",
    "squared_numbers = list(map(lambda x: x ** 2, numbers))\n",
    "\n",
    "print(squared_numbers)\n"
   ]
  },
  {
   "cell_type": "code",
   "execution_count": null,
   "id": "756b6ab4",
   "metadata": {},
   "outputs": [],
   "source": []
  }
 ],
 "metadata": {
  "kernelspec": {
   "display_name": "Python 3 (ipykernel)",
   "language": "python",
   "name": "python3"
  },
  "language_info": {
   "codemirror_mode": {
    "name": "ipython",
    "version": 3
   },
   "file_extension": ".py",
   "mimetype": "text/x-python",
   "name": "python",
   "nbconvert_exporter": "python",
   "pygments_lexer": "ipython3",
   "version": "3.9.16"
  }
 },
 "nbformat": 4,
 "nbformat_minor": 5
}
