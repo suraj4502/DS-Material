{
 "cells": [
  {
   "cell_type": "markdown",
   "id": "71d149b2",
   "metadata": {},
   "source": [
    "# FUNCTIONS :\n",
    "- A function is a block of organized, reusable code that performs a specific task. Functions provide better modularity for your application and allow you to reuse code.\n",
    "- In Python, you can define a function using the `def` keyword, followed by the function name, a pair of parentheses that may include parameters, and a colon. The code block that follows, indented by four spaces, is the body of the function.\n",
    "- To call a function in Python, you write the function name followed by parentheses.\n",
    "-  A function can return a value using the return statement. When a return statement is executed inside a function, the function immediately terminates and returns the specified value to the caller.\n",
    "- A function can take zero or more parameters. Parameters are values that are passed to the function when it is called. The function can use these values to perform its task."
   ]
  },
  {
   "cell_type": "code",
   "execution_count": 18,
   "id": "104b6331",
   "metadata": {},
   "outputs": [],
   "source": [
    "\n",
    "def Mean(number_list):\n",
    "    return sum(number_list)/len(number_list)\n"
   ]
  },
  {
   "cell_type": "code",
   "execution_count": 19,
   "id": "37f33827",
   "metadata": {},
   "outputs": [
    {
     "data": {
      "text/plain": [
       "6.0"
      ]
     },
     "execution_count": 19,
     "metadata": {},
     "output_type": "execute_result"
    }
   ],
   "source": [
    "result = Mean([1,5,7,8,9])\n",
    "result"
   ]
  },
  {
   "cell_type": "code",
   "execution_count": 5,
   "id": "64856dce",
   "metadata": {},
   "outputs": [
    {
     "name": "stdout",
     "output_type": "stream",
     "text": [
      "5.0\n"
     ]
    }
   ],
   "source": [
    "print(Mean([4,5,6]))"
   ]
  },
  {
   "cell_type": "code",
   "execution_count": 20,
   "id": "6112bebf",
   "metadata": {},
   "outputs": [],
   "source": [
    "def greet():\n",
    "    print(\"HELLO WORLD\")\n",
    "    print(\"YOU are using the greet function.\")"
   ]
  },
  {
   "cell_type": "code",
   "execution_count": 21,
   "id": "5ab27b14",
   "metadata": {},
   "outputs": [
    {
     "name": "stdout",
     "output_type": "stream",
     "text": [
      "HELLO WORLD\n",
      "YOU are using the greet function.\n"
     ]
    }
   ],
   "source": [
    "greet()"
   ]
  },
  {
   "cell_type": "code",
   "execution_count": 8,
   "id": "93e6c379",
   "metadata": {},
   "outputs": [],
   "source": [
    "def greet(user):\n",
    "    print(f\"HELLO {user}\")"
   ]
  },
  {
   "cell_type": "code",
   "execution_count": 9,
   "id": "69657e77",
   "metadata": {},
   "outputs": [
    {
     "name": "stdout",
     "output_type": "stream",
     "text": [
      "HELLO suraj\n"
     ]
    }
   ],
   "source": [
    "greet(user=\"suraj\")"
   ]
  },
  {
   "cell_type": "code",
   "execution_count": 10,
   "id": "17e29794",
   "metadata": {},
   "outputs": [
    {
     "name": "stdout",
     "output_type": "stream",
     "text": [
      "HELLO sulbha\n"
     ]
    }
   ],
   "source": [
    "greet(\"sulbha\")"
   ]
  },
  {
   "cell_type": "code",
   "execution_count": 11,
   "id": "af678ec5",
   "metadata": {},
   "outputs": [
    {
     "name": "stdout",
     "output_type": "stream",
     "text": [
      "HELLO suraj\n"
     ]
    }
   ],
   "source": [
    "greet('suraj')"
   ]
  },
  {
   "cell_type": "code",
   "execution_count": 13,
   "id": "92bcdbd8",
   "metadata": {},
   "outputs": [],
   "source": [
    "def sum_(a,b):\n",
    "    result = a+b\n",
    "    return result\n",
    "    "
   ]
  },
  {
   "cell_type": "code",
   "execution_count": 15,
   "id": "a4124464",
   "metadata": {},
   "outputs": [
    {
     "name": "stdout",
     "output_type": "stream",
     "text": [
      "72\n"
     ]
    }
   ],
   "source": [
    "result = sum_(6,66)\n",
    "print(result)"
   ]
  },
  {
   "cell_type": "code",
   "execution_count": 4,
   "id": "479d662e",
   "metadata": {},
   "outputs": [
    {
     "name": "stdout",
     "output_type": "stream",
     "text": [
      "10\n"
     ]
    }
   ],
   "source": [
    "print(sum_(5,5))"
   ]
  },
  {
   "cell_type": "code",
   "execution_count": 6,
   "id": "1c3f7a88",
   "metadata": {},
   "outputs": [
    {
     "data": {
      "text/plain": [
       "5"
      ]
     },
     "execution_count": 6,
     "metadata": {},
     "output_type": "execute_result"
    }
   ],
   "source": [
    "len([1,5,6,7,8])"
   ]
  },
  {
   "cell_type": "code",
   "execution_count": 5,
   "id": "1a8b0cbf",
   "metadata": {},
   "outputs": [
    {
     "data": {
      "text/plain": [
       "27"
      ]
     },
     "execution_count": 5,
     "metadata": {},
     "output_type": "execute_result"
    }
   ],
   "source": [
    "sum([1,5,6,7,8])"
   ]
  },
  {
   "cell_type": "code",
   "execution_count": 7,
   "id": "2739d039",
   "metadata": {},
   "outputs": [
    {
     "data": {
      "text/plain": [
       "5.4"
      ]
     },
     "execution_count": 7,
     "metadata": {},
     "output_type": "execute_result"
    }
   ],
   "source": [
    "27/5"
   ]
  },
  {
   "cell_type": "code",
   "execution_count": 22,
   "id": "f3e5de3c",
   "metadata": {},
   "outputs": [],
   "source": [
    "def square(n):\n",
    "    return n **2"
   ]
  },
  {
   "cell_type": "code",
   "execution_count": 23,
   "id": "7806842c",
   "metadata": {},
   "outputs": [
    {
     "name": "stdout",
     "output_type": "stream",
     "text": [
      "25\n"
     ]
    }
   ],
   "source": [
    "print(square(5))"
   ]
  },
  {
   "cell_type": "code",
   "execution_count": 24,
   "id": "e2cf31ff",
   "metadata": {},
   "outputs": [],
   "source": [
    "my_variable = 10 \n",
    "\n",
    "\n",
    "def mean(numbers_list):\n",
    "    summation= sum(numbers_list)\n",
    "    length = len(numbers_list)\n",
    "    return summation/length"
   ]
  },
  {
   "cell_type": "code",
   "execution_count": null,
   "id": "1f3bb397",
   "metadata": {},
   "outputs": [],
   "source": [
    "# gloabal and local variables"
   ]
  },
  {
   "cell_type": "code",
   "execution_count": 15,
   "id": "387f3187",
   "metadata": {},
   "outputs": [],
   "source": [
    "nums = [1,3,5,6]"
   ]
  },
  {
   "cell_type": "code",
   "execution_count": 16,
   "id": "fbfb774c",
   "metadata": {},
   "outputs": [
    {
     "name": "stdout",
     "output_type": "stream",
     "text": [
      "3.75\n"
     ]
    }
   ],
   "source": [
    "print(mean(nums))"
   ]
  },
  {
   "cell_type": "code",
   "execution_count": 19,
   "id": "8efa63c1",
   "metadata": {},
   "outputs": [
    {
     "ename": "NameError",
     "evalue": "name 'summation' is not defined",
     "output_type": "error",
     "traceback": [
      "\u001b[1;31m---------------------------------------------------------------------------\u001b[0m",
      "\u001b[1;31mNameError\u001b[0m                                 Traceback (most recent call last)",
      "Cell \u001b[1;32mIn[19], line 1\u001b[0m\n\u001b[1;32m----> 1\u001b[0m \u001b[43msummation\u001b[49m\n",
      "\u001b[1;31mNameError\u001b[0m: name 'summation' is not defined"
     ]
    }
   ],
   "source": [
    "summation"
   ]
  },
  {
   "cell_type": "code",
   "execution_count": 17,
   "id": "ef0ae904",
   "metadata": {},
   "outputs": [],
   "source": [
    "# A function to add two numbers\n",
    "def add(a,b):\n",
    "    return a+b"
   ]
  },
  {
   "cell_type": "code",
   "execution_count": 18,
   "id": "49b7667e",
   "metadata": {},
   "outputs": [
    {
     "name": "stdout",
     "output_type": "stream",
     "text": [
      "9\n"
     ]
    }
   ],
   "source": [
    "result = add(4,5)\n",
    "print(result)"
   ]
  },
  {
   "cell_type": "code",
   "execution_count": 11,
   "id": "902f74c6",
   "metadata": {},
   "outputs": [
    {
     "name": "stdout",
     "output_type": "stream",
     "text": [
      "5\n",
      "10\n"
     ]
    }
   ],
   "source": [
    "# global and local variable\n",
    "\n",
    "x = 10  #gol\n",
    "\n",
    "def my_function():\n",
    "    x = 5\n",
    "    print(x)\n",
    "\n",
    "my_function() # 5\n",
    "print(x) # 10\n"
   ]
  },
  {
   "cell_type": "markdown",
   "id": "a166ee28",
   "metadata": {},
   "source": [
    "---"
   ]
  },
  {
   "cell_type": "markdown",
   "id": "dfcd028d",
   "metadata": {},
   "source": [
    "## Recursion :\n",
    "- Recursion is a technique in programming where a function calls itself in order to solve a problem. A recursive function must have a base case that stops the recursion, and a recursive case that calls the function again with modified arguments."
   ]
  },
  {
   "cell_type": "code",
   "execution_count": null,
   "id": "bc9ce7ec",
   "metadata": {},
   "outputs": [],
   "source": [
    "4! = 4 * 3* *2*1"
   ]
  },
  {
   "cell_type": "code",
   "execution_count": 27,
   "id": "2b37027b",
   "metadata": {},
   "outputs": [
    {
     "name": "stdout",
     "output_type": "stream",
     "text": [
      "120\n"
     ]
    }
   ],
   "source": [
    "def factorial(n):\n",
    "    if n == 0:\n",
    "        return 1\n",
    "    else:\n",
    "        return n * factorial(n - 1)\n",
    "\n",
    "result = factorial(5)\n",
    "print(result) # 120\n"
   ]
  },
  {
   "cell_type": "code",
   "execution_count": 28,
   "id": "37c609ec",
   "metadata": {},
   "outputs": [
    {
     "name": "stdout",
     "output_type": "stream",
     "text": [
      "24\n"
     ]
    }
   ],
   "source": [
    "print(factorial(4))"
   ]
  },
  {
   "cell_type": "markdown",
   "id": "f67b7510",
   "metadata": {},
   "source": [
    "# Q. Write a python program to print the following structure\n",
    "        *\n",
    "       ***\n",
    "      *****\n",
    "     *******\n",
    "    *********"
   ]
  },
  {
   "cell_type": "code",
   "execution_count": null,
   "id": "a2735d01",
   "metadata": {},
   "outputs": [],
   "source": []
  },
  {
   "cell_type": "code",
   "execution_count": 4,
   "id": "9f0091d1",
   "metadata": {},
   "outputs": [
    {
     "name": "stdout",
     "output_type": "stream",
     "text": [
      "    *\n",
      "   ***\n",
      "  *****\n",
      " *******\n",
      "*********\n"
     ]
    }
   ],
   "source": [
    "# Using For loop\n",
    "n = 5 \n",
    "for i in range(1,n+1):\n",
    "    for space in range(n-i):\n",
    "        print(' ',end=\"\")\n",
    "    for star in range(2*i-1):\n",
    "        print(\"*\",end=\"\")   \n",
    "    print()"
   ]
  },
  {
   "cell_type": "code",
   "execution_count": 5,
   "id": "f25f377f",
   "metadata": {},
   "outputs": [
    {
     "name": "stdout",
     "output_type": "stream",
     "text": [
      "    *\n",
      "   ***\n",
      "  *****\n",
      " *******\n",
      "*********\n"
     ]
    }
   ],
   "source": [
    "# USING WHILE LOOP\n",
    "n = 5\n",
    "i=1\n",
    "k =1\n",
    "\n",
    "while i <= n:\n",
    "    space = 1\n",
    "    while space <= n-i:\n",
    "        print(\" \",end='')\n",
    "        space +=1\n",
    "    star = 1\n",
    "    while star <= k:\n",
    "        print(\"*\",end=\"\")\n",
    "        star +=1\n",
    "    k +=2\n",
    "    print()\n",
    "    i+=1"
   ]
  },
  {
   "cell_type": "markdown",
   "id": "b3bfbcc9",
   "metadata": {},
   "source": [
    "---\n",
    "### Q. Write a python program to print the following pattern.\n",
    "     number of Rows:5\n",
    "     \n",
    "         * * * * *\n",
    "          * * * *\n",
    "           * * *\n",
    "            * *\n",
    "             *\n",
    "\n",
    "---"
   ]
  },
  {
   "cell_type": "code",
   "execution_count": 6,
   "id": "08ef1a69",
   "metadata": {},
   "outputs": [
    {
     "name": "stdout",
     "output_type": "stream",
     "text": [
      "*********\n",
      " *******\n",
      "  *****\n",
      "   ***\n",
      "    *\n"
     ]
    }
   ],
   "source": [
    "n = 5\n",
    "i = 1\n",
    "while n > 0:\n",
    "    space = 1\n",
    "    while space < i:\n",
    "        print(\" \", end='')\n",
    "        space += 1\n",
    "    star = 1\n",
    "    while star <= 2*n-1:\n",
    "        print(\"*\", end='')\n",
    "        star += 1\n",
    "    print()\n",
    "    n -= 1\n",
    "    i += 1\n"
   ]
  },
  {
   "cell_type": "code",
   "execution_count": 7,
   "id": "29b29ed5",
   "metadata": {},
   "outputs": [
    {
     "name": "stdout",
     "output_type": "stream",
     "text": [
      "*********\n",
      " *******\n",
      "  *****\n",
      "   ***\n",
      "    *\n"
     ]
    }
   ],
   "source": [
    "# for loop \n",
    "n = 5\n",
    "for i in range(1, n+1):\n",
    "    for space in range(i-1):\n",
    "        print(\" \", end='')\n",
    "    for star in range(2*n-1):\n",
    "        print(\"*\", end='')\n",
    "    print()\n",
    "    n -= 1"
   ]
  },
  {
   "cell_type": "markdown",
   "id": "be9a36cb",
   "metadata": {},
   "source": [
    "## Map and Lambda function :\n",
    "- The map() function is a built-in function that takes a `function` and an `iterable` as arguments, and returns an iterator that applies the function to each element of the iterable. \n",
    "- The map function in Python takes two arguments: a function and an iterable (e.g., a list). \n",
    "- It applies the function to each element of the iterable and returns a new iterable with the results. - The map function allows you to apply the same operation to multiple items in a convenient and concise way."
   ]
  },
  {
   "cell_type": "code",
   "execution_count": 2,
   "id": "32e5d611",
   "metadata": {},
   "outputs": [
    {
     "data": {
      "text/plain": [
       "['1', '2', '3', '4', '5', '6']"
      ]
     },
     "execution_count": 2,
     "metadata": {},
     "output_type": "execute_result"
    }
   ],
   "source": [
    "list(map(str,[1,2,3,4,5,6]))\n"
   ]
  },
  {
   "cell_type": "code",
   "execution_count": 7,
   "id": "d2c6c5b3",
   "metadata": {},
   "outputs": [
    {
     "name": "stdout",
     "output_type": "stream",
     "text": [
      "ENTER A NUMBER :7\n",
      "[7]\n",
      "<class 'int'>\n"
     ]
    }
   ],
   "source": [
    "a = list(map(int,input(\"ENTER A NUMBER :\")))\n",
    "print(a)\n",
    "print(type(a[0]))"
   ]
  },
  {
   "cell_type": "code",
   "execution_count": 8,
   "id": "a3ab0177",
   "metadata": {},
   "outputs": [
    {
     "name": "stdout",
     "output_type": "stream",
     "text": [
      "[1, 4, 9, 16, 25]\n"
     ]
    }
   ],
   "source": [
    "# Define a function\n",
    "def square(x):\n",
    "    return x ** 2\n",
    "\n",
    "# Create a list of numbers\n",
    "numbers = [1, 2, 3, 4, 5]\n",
    "\n",
    "# Use map to apply the square function to each element in the list\n",
    "squared_numbers = map(square, numbers)\n",
    "\n",
    "# Convert the map object to a list\n",
    "result = list(squared_numbers)\n",
    "\n",
    "print(result)\n"
   ]
  },
  {
   "cell_type": "markdown",
   "id": "20c6f583",
   "metadata": {},
   "source": [
    "---\n",
    "- A lambda function, also known as an anonymous function, is a way to define a small function in a single line without formally defining it with the `def` keyword. \n",
    "- Lambda functions are handy when you need a simple function for a short period of time.\n",
    "- The lambda keyword is used to create small, anonymous functions that can be used as arguments to higher-order functions like `map()`.\n",
    "---"
   ]
  },
  {
   "cell_type": "code",
   "execution_count": 7,
   "id": "6aa8a352",
   "metadata": {},
   "outputs": [
    {
     "name": "stdout",
     "output_type": "stream",
     "text": [
      "9\n"
     ]
    }
   ],
   "source": [
    "square = lambda x: x * x\n",
    "result = square(3)\n",
    "print(result) # 9\n"
   ]
  },
  {
   "cell_type": "code",
   "execution_count": null,
   "id": "05592a5b",
   "metadata": {},
   "outputs": [],
   "source": [
    "add = lambda x, y: x + y\n",
    "result = add(3, 5)\n",
    "print(result)  # Output: 8\n"
   ]
  },
  {
   "cell_type": "code",
   "execution_count": null,
   "id": "2f6b52fc",
   "metadata": {},
   "outputs": [],
   "source": [
    "is_even = lambda x: x % 2 == 0\n",
    "result = is_even(7)\n",
    "print(result)  # Output: False\n"
   ]
  },
  {
   "cell_type": "code",
   "execution_count": 9,
   "id": "b24408f4",
   "metadata": {},
   "outputs": [
    {
     "name": "stdout",
     "output_type": "stream",
     "text": [
      "[1, 4, 9, 16, 25]\n"
     ]
    }
   ],
   "source": [
    "# Create a list of numbers\n",
    "numbers = [1, 2, 3, 4, 5]\n",
    "\n",
    "# Use map with a lambda function to square each element in the list\n",
    "squared_numbers = list(map(lambda x: x ** 2, numbers))\n",
    "\n",
    "print(squared_numbers)\n"
   ]
  },
  {
   "cell_type": "code",
   "execution_count": null,
   "id": "756b6ab4",
   "metadata": {},
   "outputs": [],
   "source": []
  }
 ],
 "metadata": {
  "kernelspec": {
   "display_name": "Python 3 (ipykernel)",
   "language": "python",
   "name": "python3"
  },
  "language_info": {
   "codemirror_mode": {
    "name": "ipython",
    "version": 3
   },
   "file_extension": ".py",
   "mimetype": "text/x-python",
   "name": "python",
   "nbconvert_exporter": "python",
   "pygments_lexer": "ipython3",
   "version": "3.9.16"
  }
 },
 "nbformat": 4,
 "nbformat_minor": 5
}
