{
 "cells": [
  {
   "cell_type": "code",
   "execution_count": 1,
   "id": "89ef2297",
   "metadata": {},
   "outputs": [],
   "source": [
    "l = list([1,2,3,4])"
   ]
  },
  {
   "cell_type": "code",
   "execution_count": 2,
   "id": "79e914de",
   "metadata": {},
   "outputs": [
    {
     "ename": "AttributeError",
     "evalue": "'list' object has no attribute 'upper'",
     "output_type": "error",
     "traceback": [
      "\u001b[1;31m---------------------------------------------------------------------------\u001b[0m",
      "\u001b[1;31mAttributeError\u001b[0m                            Traceback (most recent call last)",
      "Cell \u001b[1;32mIn[2], line 1\u001b[0m\n\u001b[1;32m----> 1\u001b[0m l\u001b[38;5;241m.\u001b[39mupper()\n",
      "\u001b[1;31mAttributeError\u001b[0m: 'list' object has no attribute 'upper'"
     ]
    }
   ],
   "source": [
    "l.upper()"
   ]
  },
  {
   "cell_type": "code",
   "execution_count": 3,
   "id": "eedab1f7",
   "metadata": {},
   "outputs": [
    {
     "name": "stdout",
     "output_type": "stream",
     "text": [
      "<class 'list'>\n"
     ]
    }
   ],
   "source": [
    "print(type(l))"
   ]
  },
  {
   "cell_type": "code",
   "execution_count": 4,
   "id": "d76738fa",
   "metadata": {},
   "outputs": [
    {
     "name": "stdout",
     "output_type": "stream",
     "text": [
      "<class 'str'>\n"
     ]
    }
   ],
   "source": [
    "string = 'str'\n",
    "print(type(string))"
   ]
  },
  {
   "cell_type": "code",
   "execution_count": 5,
   "id": "5b42a321",
   "metadata": {},
   "outputs": [
    {
     "ename": "AttributeError",
     "evalue": "'str' object has no attribute 'append'",
     "output_type": "error",
     "traceback": [
      "\u001b[1;31m---------------------------------------------------------------------------\u001b[0m",
      "\u001b[1;31mAttributeError\u001b[0m                            Traceback (most recent call last)",
      "Cell \u001b[1;32mIn[5], line 1\u001b[0m\n\u001b[1;32m----> 1\u001b[0m string\u001b[38;5;241m.\u001b[39mappend()\n",
      "\u001b[1;31mAttributeError\u001b[0m: 'str' object has no attribute 'append'"
     ]
    }
   ],
   "source": [
    "string.append()"
   ]
  },
  {
   "cell_type": "code",
   "execution_count": 6,
   "id": "578b4cf2",
   "metadata": {},
   "outputs": [
    {
     "data": {
      "text/plain": [
       "0.5"
      ]
     },
     "execution_count": 6,
     "metadata": {},
     "output_type": "execute_result"
    }
   ],
   "source": [
    "2/4"
   ]
  },
  {
   "cell_type": "markdown",
   "id": "4bf7ffe1",
   "metadata": {},
   "source": [
    "# Object Oriented Programming :\n",
    "- Object-Oriented Programming is a way of organizing and designing code in Python (and many other programming languages) that mimics how we think about and interact with objects in the real world. \n",
    "- In OOP, we create \"objects\" that represent real-world entities, and these objects have \"attributes\" (characteristics) and \"methods\" (actions) that define their behavior.\n",
    "- It brings structure, organization, and reusability to our code, making it more efficient and easier to manage.\n",
    "- OOP is a fundamental concept in modern programming and widely used in creating complex applications and software systems."
   ]
  },
  {
   "cell_type": "markdown",
   "id": "5749efed",
   "metadata": {},
   "source": [
    "### 1. Class:\n",
    "- In OOP, a class is like a blueprint that defines the structure of an object. \n",
    "- A class describes what a specific type of object can do and what attributes it has. \n",
    "- For example, the DOG class will describe what a Dog is and what attributes and methods it should have."
   ]
  },
  {
   "cell_type": "code",
   "execution_count": 20,
   "id": "6433cd25",
   "metadata": {},
   "outputs": [],
   "source": [
    "class Car:\n",
    "    def __init__(self,make, model, color):    # constructor/magic method\n",
    "        self.make = make\n",
    "        self.model = model\n",
    "        self.color = color\n",
    "        \n",
    "    def accelarate(self):\n",
    "        print(f\"{self.model} is accelarating\")\n",
    "\n",
    "    def brake(self):\n",
    "        print(f'{self.model} is stopped.')\n",
    "        \n",
    "    def clutch(self):\n",
    "        print('Clutch pressed.....')"
   ]
  },
  {
   "cell_type": "code",
   "execution_count": 21,
   "id": "531f0b4d",
   "metadata": {},
   "outputs": [],
   "source": [
    "car1 = Car('BMW','sedan','red')"
   ]
  },
  {
   "cell_type": "code",
   "execution_count": 22,
   "id": "e97a2aee",
   "metadata": {},
   "outputs": [],
   "source": [
    "car2 = Car(\"HYundai\",'verna','black')"
   ]
  },
  {
   "cell_type": "code",
   "execution_count": 23,
   "id": "5c920d18",
   "metadata": {},
   "outputs": [
    {
     "name": "stdout",
     "output_type": "stream",
     "text": [
      "verna is accelarating\n"
     ]
    }
   ],
   "source": [
    "car2.accelarate()"
   ]
  },
  {
   "cell_type": "code",
   "execution_count": 24,
   "id": "b192983c",
   "metadata": {},
   "outputs": [
    {
     "name": "stdout",
     "output_type": "stream",
     "text": [
      "sedan is accelarating\n"
     ]
    }
   ],
   "source": [
    "car1.accelarate()"
   ]
  },
  {
   "cell_type": "code",
   "execution_count": 25,
   "id": "8541f19e",
   "metadata": {},
   "outputs": [
    {
     "data": {
      "text/plain": [
       "'BMW'"
      ]
     },
     "execution_count": 25,
     "metadata": {},
     "output_type": "execute_result"
    }
   ],
   "source": [
    "car1.make"
   ]
  },
  {
   "cell_type": "code",
   "execution_count": 26,
   "id": "428ab1f7",
   "metadata": {},
   "outputs": [
    {
     "name": "stdout",
     "output_type": "stream",
     "text": [
      "sedan is stopped.\n"
     ]
    }
   ],
   "source": [
    "car1.brake()"
   ]
  },
  {
   "cell_type": "code",
   "execution_count": 27,
   "id": "384df4c2",
   "metadata": {},
   "outputs": [
    {
     "name": "stdout",
     "output_type": "stream",
     "text": [
      "Clutch pressed.....\n"
     ]
    }
   ],
   "source": [
    "car1.clutch()"
   ]
  },
  {
   "cell_type": "code",
   "execution_count": null,
   "id": "b0515d1b",
   "metadata": {},
   "outputs": [],
   "source": [
    "car2 = Car('ROlls ROYACE','FANTOM','BLACK')"
   ]
  },
  {
   "cell_type": "code",
   "execution_count": null,
   "id": "72894a30",
   "metadata": {},
   "outputs": [],
   "source": [
    "car2.make"
   ]
  },
  {
   "cell_type": "code",
   "execution_count": null,
   "id": "42fe83f1",
   "metadata": {},
   "outputs": [],
   "source": [
    "car2.accerlarate()"
   ]
  },
  {
   "cell_type": "code",
   "execution_count": null,
   "id": "d031b917",
   "metadata": {},
   "outputs": [],
   "source": [
    "car1.accerlarate()"
   ]
  },
  {
   "cell_type": "code",
   "execution_count": null,
   "id": "b753ae66",
   "metadata": {},
   "outputs": [],
   "source": [
    "car3 = Car('abc','zys','red')"
   ]
  },
  {
   "cell_type": "code",
   "execution_count": null,
   "id": "7e7a89f2",
   "metadata": {},
   "outputs": [],
   "source": [
    "car3.accerlarate()"
   ]
  },
  {
   "cell_type": "code",
   "execution_count": null,
   "id": "938f2c72",
   "metadata": {},
   "outputs": [],
   "source": [
    "car3.make"
   ]
  },
  {
   "cell_type": "code",
   "execution_count": null,
   "id": "1c6bb843",
   "metadata": {},
   "outputs": [],
   "source": [
    "car1.cluthch()"
   ]
  },
  {
   "cell_type": "code",
   "execution_count": 28,
   "id": "d0aa4269",
   "metadata": {},
   "outputs": [],
   "source": [
    "class Dog:\n",
    "    def __init__(self, name, age, breed):\n",
    "        self.name = name\n",
    "        self.age = age\n",
    "        self.breed = breed\n",
    "        print(\"OBJECT CREATED..\")\n",
    "        print(id(self))\n",
    "\n",
    "        \n",
    "    def bark(self):\n",
    "        return \"Woof! Woof!\"\n",
    "\n",
    "    def fetch(self, item):\n",
    "        return f\"{self.name} fetches the {item}.\"\n",
    "    \n",
    "    def greet(self,name):\n",
    "        return f\"{self.name} greets {name}.\"\n",
    "    \n",
    "    def bite(self,name):\n",
    "        return f\"{self.name} bites {name}.\"\n"
   ]
  },
  {
   "cell_type": "code",
   "execution_count": 29,
   "id": "a25cf784",
   "metadata": {},
   "outputs": [
    {
     "name": "stdout",
     "output_type": "stream",
     "text": [
      "OBJECT CREATED..\n",
      "2729296563152\n"
     ]
    }
   ],
   "source": [
    "d1 = Dog('a',15,'pomerenia')"
   ]
  },
  {
   "cell_type": "code",
   "execution_count": 30,
   "id": "3029670a",
   "metadata": {},
   "outputs": [
    {
     "name": "stdout",
     "output_type": "stream",
     "text": [
      "OBJECT CREATED..\n",
      "2729303485392\n"
     ]
    }
   ],
   "source": [
    "d2 = Dog('b',33,'kfafksd')"
   ]
  },
  {
   "cell_type": "code",
   "execution_count": 33,
   "id": "baa95166",
   "metadata": {},
   "outputs": [
    {
     "data": {
      "text/plain": [
       "'a bites saontosh.'"
      ]
     },
     "execution_count": 33,
     "metadata": {},
     "output_type": "execute_result"
    }
   ],
   "source": [
    "d1.bite('saontosh')"
   ]
  },
  {
   "cell_type": "markdown",
   "id": "d6e106d8",
   "metadata": {},
   "source": [
    "### 2. Object:\n",
    "- An object is a specific instance created from a class. \n",
    "- In our Dog example, each individual dog we create will be an object. \n",
    "- Each dog object will have its own unique name, age, and breed."
   ]
  },
  {
   "cell_type": "code",
   "execution_count": null,
   "id": "551e7a1f",
   "metadata": {},
   "outputs": [],
   "source": [
    "dog1 = Dog(\"Buddy\", 3, \"Labrador\")\n",
    "dog2 = Dog(\"Max\", 5, \"Golden Retriever\")"
   ]
  },
  {
   "cell_type": "code",
   "execution_count": null,
   "id": "5ad55ce9",
   "metadata": {},
   "outputs": [],
   "source": [
    "dog2.bark()"
   ]
  },
  {
   "cell_type": "code",
   "execution_count": null,
   "id": "502bdb46",
   "metadata": {},
   "outputs": [],
   "source": [
    "dog1.bark()"
   ]
  },
  {
   "cell_type": "code",
   "execution_count": null,
   "id": "c4be2b11",
   "metadata": {},
   "outputs": [],
   "source": [
    "dog2.name"
   ]
  },
  {
   "cell_type": "code",
   "execution_count": null,
   "id": "70a4d22d",
   "metadata": {},
   "outputs": [],
   "source": [
    "dog2.greet('atharva')"
   ]
  },
  {
   "cell_type": "code",
   "execution_count": null,
   "id": "94284f5d",
   "metadata": {},
   "outputs": [],
   "source": [
    "dog2.bite('atharva')"
   ]
  },
  {
   "cell_type": "code",
   "execution_count": null,
   "id": "57193ea5",
   "metadata": {},
   "outputs": [],
   "source": [
    "dog1.greet('abc')"
   ]
  },
  {
   "cell_type": "code",
   "execution_count": null,
   "id": "08d313e7",
   "metadata": {},
   "outputs": [],
   "source": [
    "dog2.greet('xyz')"
   ]
  },
  {
   "cell_type": "markdown",
   "id": "87b0f13a",
   "metadata": {},
   "source": [
    "### 3. Attributes:\n",
    "- Attributes are characteristics of an object. \n",
    "- In our Dog example, the attributes are the name, age, and breed of each dog.\n",
    "- They help describe the dog's identity."
   ]
  },
  {
   "cell_type": "code",
   "execution_count": null,
   "id": "266d40ce",
   "metadata": {},
   "outputs": [],
   "source": [
    "print(dog1.name)  # Output: \"Buddy\"\n",
    "print(dog2.age)   # Output: 5\n"
   ]
  },
  {
   "cell_type": "markdown",
   "id": "6ba38d20",
   "metadata": {},
   "source": [
    "### 4. Methods:\n",
    "- Methods are actions that an object can perform. \n",
    "- In our Dog example, methods could be actions like barking or fetching an item.\n",
    "- Methods define what the dog can do."
   ]
  },
  {
   "cell_type": "code",
   "execution_count": null,
   "id": "a9d24141",
   "metadata": {},
   "outputs": [],
   "source": [
    "print(dog1.bark())  # Output: \"Woof! Woof!\"\n",
    "print(dog2.fetch(\"ball\"))  # Output: \"Max fetches the ball.\""
   ]
  },
  {
   "cell_type": "markdown",
   "id": "f28a9e1c",
   "metadata": {},
   "source": [
    "### Advantages of OOP:\n",
    "\n",
    "**OOP provides several benefits, including:**\n",
    "\n",
    "1. `Code Reusability:` You can create multiple objects from a single class, promoting code reuse and reducing duplication.\n",
    "2. `Modularity:` OOP allows you to divide your code into small, manageable pieces (objects), making it easier to maintain and understand.\n",
    "3. `Encapsulation:` Encapsulation hides the internal details of an object, making it easier to use and less prone to errors.\n",
    "4. `Inheritance:` Inheritance allows you to create new classes that inherit attributes and methods from existing classes, promoting code reuse and extending functionality.\n",
    "5. `Polymorphism:` Polymorphism allows you to use objects of different classes interchangeably, providing flexibility in coding."
   ]
  },
  {
   "cell_type": "code",
   "execution_count": null,
   "id": "aa7d3a96",
   "metadata": {},
   "outputs": [],
   "source": [
    "str.append()"
   ]
  },
  {
   "cell_type": "code",
   "execution_count": null,
   "id": "a1c8dba3",
   "metadata": {},
   "outputs": [],
   "source": [
    "list.upper()"
   ]
  },
  {
   "cell_type": "code",
   "execution_count": null,
   "id": "0ff4360d",
   "metadata": {},
   "outputs": [],
   "source": [
    "class Account:\n",
    "    def __init__(self,a_number, c_name, balance):\n",
    "        self.account_number = a_number\n",
    "        self.customer_name = c_name\n",
    "        self.balance = balance\n",
    "        \n",
    "    def deposit(self, amount : float) -> float:\n",
    "        self.balance += amount\n",
    "        print(\"Successfully Deposited\")\n",
    "        \n",
    "    def withdraw(self, amount):\n",
    "        if amount < self.balance:\n",
    "            self.balance -= amount\n",
    "            print(f\"Successfully withdrawn {amount}\")\n",
    "        else:\n",
    "            print(\"Gareeb\")\n",
    "            \n",
    "    def get_balance(self):\n",
    "        return self.balance\n",
    "    \n",
    "    def display_info(self):\n",
    "        print(f\"Your account number is : {self.account_number}\")\n",
    "        print(f\"Your balance is : {self.balance}\")\n",
    "        print(f\"YOur name is : {self.customer_name}\")"
   ]
  },
  {
   "cell_type": "code",
   "execution_count": null,
   "id": "e36187f7",
   "metadata": {},
   "outputs": [],
   "source": [
    "c1 = Account('122334455', 'Justin', 2000)"
   ]
  },
  {
   "cell_type": "code",
   "execution_count": null,
   "id": "17c1b73c",
   "metadata": {},
   "outputs": [],
   "source": [
    "c1.deposit(500)"
   ]
  },
  {
   "cell_type": "code",
   "execution_count": null,
   "id": "f9d61c4b",
   "metadata": {},
   "outputs": [],
   "source": [
    "c1.balance"
   ]
  },
  {
   "cell_type": "code",
   "execution_count": null,
   "id": "e01a6ef0",
   "metadata": {},
   "outputs": [],
   "source": [
    "c1.withdraw(600)"
   ]
  },
  {
   "cell_type": "code",
   "execution_count": null,
   "id": "e179769e",
   "metadata": {},
   "outputs": [],
   "source": [
    "c1.balance"
   ]
  },
  {
   "cell_type": "code",
   "execution_count": null,
   "id": "b19c5df5",
   "metadata": {},
   "outputs": [],
   "source": [
    "c1.withdraw(40000)"
   ]
  },
  {
   "cell_type": "code",
   "execution_count": null,
   "id": "d544cb56",
   "metadata": {},
   "outputs": [],
   "source": [
    "c1.display_info()"
   ]
  },
  {
   "cell_type": "code",
   "execution_count": null,
   "id": "27862066",
   "metadata": {},
   "outputs": [],
   "source": [
    "c2 = Account('234234','Dustin',5000)"
   ]
  },
  {
   "cell_type": "code",
   "execution_count": null,
   "id": "c5fd77ef",
   "metadata": {},
   "outputs": [],
   "source": [
    "c2.display_info()"
   ]
  },
  {
   "cell_type": "code",
   "execution_count": null,
   "id": "9791e0a9",
   "metadata": {},
   "outputs": [],
   "source": [
    "c2.deposit(5000)"
   ]
  },
  {
   "cell_type": "code",
   "execution_count": null,
   "id": "21ad84c1",
   "metadata": {},
   "outputs": [],
   "source": [
    "c2.withdraw(3000)"
   ]
  },
  {
   "cell_type": "code",
   "execution_count": null,
   "id": "610baf88",
   "metadata": {},
   "outputs": [],
   "source": [
    "c1.deposit(50000)"
   ]
  },
  {
   "cell_type": "code",
   "execution_count": null,
   "id": "9759c866",
   "metadata": {},
   "outputs": [],
   "source": [
    "c1.display_info()"
   ]
  },
  {
   "cell_type": "code",
   "execution_count": null,
   "id": "e63c8281",
   "metadata": {},
   "outputs": [],
   "source": [
    "c2.display_info()"
   ]
  },
  {
   "cell_type": "code",
   "execution_count": null,
   "id": "86d8fc6e",
   "metadata": {},
   "outputs": [],
   "source": [
    "class Account:\n",
    "    def __init__(self):\n",
    "        self.account_number = input(\"ENter acc number : \")\n",
    "        self.customer_name = input(\"ENter customer name : \")\n",
    "        self.balance = float(input(\"ENter balance : \"))\n",
    "        \n",
    "        \n",
    "    def deposit(self, amount):\n",
    "        self.balance += amount\n",
    "\n",
    "    def withdraw(self, amount):\n",
    "        if self.balance >= amount:\n",
    "            self.balance -= amount\n",
    "        else:\n",
    "            print(\"Insufficient balance!\")\n",
    "\n",
    "    def get_balance(self):\n",
    "        return self.balance\n",
    "\n",
    "    def display_info(self):\n",
    "        print(f\"Account Number: {self.account_number}\")\n",
    "        print(f\"Customer Name: {self.customer_name}\")\n",
    "        print(f\"Balance: {self.balance}\")"
   ]
  },
  {
   "cell_type": "code",
   "execution_count": null,
   "id": "ce108acb",
   "metadata": {},
   "outputs": [],
   "source": [
    "obj1 = Account()"
   ]
  },
  {
   "cell_type": "code",
   "execution_count": null,
   "id": "9f2c3099",
   "metadata": {},
   "outputs": [],
   "source": [
    "obj2 = Account('A014','abc',6464646)"
   ]
  },
  {
   "cell_type": "code",
   "execution_count": null,
   "id": "a575e132",
   "metadata": {},
   "outputs": [],
   "source": [
    "obj1.customer_name"
   ]
  },
  {
   "cell_type": "code",
   "execution_count": null,
   "id": "68b72603",
   "metadata": {},
   "outputs": [],
   "source": [
    "obj1.deposit(5000)"
   ]
  },
  {
   "cell_type": "code",
   "execution_count": null,
   "id": "f93ffcac",
   "metadata": {},
   "outputs": [],
   "source": [
    "obj1.get_balance()"
   ]
  },
  {
   "cell_type": "code",
   "execution_count": null,
   "id": "76033c69",
   "metadata": {},
   "outputs": [],
   "source": [
    "obj1.withdraw(50000)"
   ]
  },
  {
   "cell_type": "code",
   "execution_count": null,
   "id": "57e3a7e1",
   "metadata": {},
   "outputs": [],
   "source": [
    "obj1.get_balance()"
   ]
  },
  {
   "cell_type": "code",
   "execution_count": null,
   "id": "ebe72531",
   "metadata": {},
   "outputs": [],
   "source": [
    "obj1.display_info()"
   ]
  },
  {
   "cell_type": "code",
   "execution_count": null,
   "id": "2158974d",
   "metadata": {},
   "outputs": [],
   "source": [
    "obj2.display_info()"
   ]
  },
  {
   "cell_type": "code",
   "execution_count": null,
   "id": "ec16b0d1",
   "metadata": {},
   "outputs": [],
   "source": [
    "obj2.withdraw(56646464646)"
   ]
  },
  {
   "cell_type": "code",
   "execution_count": null,
   "id": "af4586ff",
   "metadata": {},
   "outputs": [],
   "source": [
    "obj2.deposit(50000)"
   ]
  },
  {
   "cell_type": "code",
   "execution_count": null,
   "id": "618b4d6c",
   "metadata": {},
   "outputs": [],
   "source": [
    "obj2.display_info()"
   ]
  },
  {
   "cell_type": "code",
   "execution_count": null,
   "id": "eb6651f8",
   "metadata": {},
   "outputs": [],
   "source": [
    "# Create a new account\n",
    "account1 = Account(\"A001\", \"Alice\", 1000)\n",
    "\n",
    "# Deposit and withdraw from the account\n",
    "account1.deposit(500)\n",
    "account1.withdraw(200)\n",
    "\n",
    "# Display the account information\n",
    "account1.display_info()"
   ]
  },
  {
   "cell_type": "markdown",
   "id": "ee4b5b4b",
   "metadata": {},
   "source": [
    "---"
   ]
  },
  {
   "cell_type": "code",
   "execution_count": null,
   "id": "64fd392e",
   "metadata": {},
   "outputs": [],
   "source": []
  },
  {
   "cell_type": "code",
   "execution_count": null,
   "id": "be303854",
   "metadata": {},
   "outputs": [],
   "source": [
    "id(c1)"
   ]
  },
  {
   "cell_type": "code",
   "execution_count": 41,
   "id": "fff1029f",
   "metadata": {},
   "outputs": [],
   "source": [
    "class Atm:\n",
    "    def __init__(self):\n",
    "        self.pin = ''\n",
    "        self.balance = 0\n",
    "        self.menu()\n",
    "\n",
    "\n",
    "    def menu(self):\n",
    "        user_input = input(\"\"\"\n",
    "        Hi how can I help you?\n",
    "        1. Press 1 to create pin\n",
    "        2. Press 2 to change pin\n",
    "        3. Press 3 to check balance\n",
    "        4. Press 4 to withdraw\n",
    "        5. Anything else to exit\n",
    "        \"\"\")\n",
    "\n",
    "        if user_input == '1':\n",
    "            self.create_pin()  \n",
    "            self.menu()\n",
    "\n",
    "        elif user_input == '2':\n",
    "            self.change_pin()\n",
    "            self.menu()\n",
    "\n",
    "        elif user_input =='3':\n",
    "            self.check_balance()\n",
    "            self.menu()\n",
    "\n",
    "        elif user_input == '4':\n",
    "            self.withdraw()\n",
    "            self.menu()\n",
    "\n",
    "        else:\n",
    "            return 0\n",
    "\n",
    "    def create_pin(self):\n",
    "        cpin = input(\"Enter new pin :\")\n",
    "        self.pin += cpin\n",
    "\n",
    "        cbalance = int(input(\"ENter the amount you have : \"))\n",
    "        self.balance += cbalance\n",
    "\n",
    "        print(\"Pin Created Successful\")\n",
    "\n",
    "\n",
    "\n",
    "    def change_pin(self):\n",
    "        old_pin = input(\"ENter your current pin : \")\n",
    "\n",
    "        if old_pin == self.pin:\n",
    "            npin = input(\"ENTER YOUR NEW PIN.\")\n",
    "            self.pin = npin\n",
    "        else:\n",
    "            print(\"PIN GALAT HAI , sahi pin dalloo.\")\n",
    "\n",
    "    def check_balance(self):\n",
    "        old_pin = input('Enter current pin: ')\n",
    "\n",
    "        if old_pin == self.pin:\n",
    "            print(f\"YOur balance is {self.balance}\")\n",
    "\n",
    "        else :\n",
    "            print(\"CHor chor\")\n",
    "\n",
    "\n",
    "    def withdraw(self):\n",
    "        old_pin = input('Enter current pin: ')\n",
    "\n",
    "        if old_pin == self.pin:\n",
    "            amount_to_withdraw = int(input(\"Enter the amount : \"))\n",
    "\n",
    "            if amount_to_withdraw < self.balance :\n",
    "                self.balance -= amount_to_withdraw\n",
    "                print(f\"Amount withdrawn successfully, balance is {self.balance}\")\n",
    "\n",
    "            else :\n",
    "                print(\"Paise nahi hai tere pass itne\")\n",
    "\n",
    "        else :\n",
    "            print(\"CHor chor\")\n"
   ]
  },
  {
   "cell_type": "code",
   "execution_count": 43,
   "id": "3cc9ab0d",
   "metadata": {
    "scrolled": true
   },
   "outputs": [
    {
     "name": "stdout",
     "output_type": "stream",
     "text": [
      "\n",
      "        Hi how can I help you?\n",
      "        1. Press 1 to create pin\n",
      "        2. Press 2 to change pin\n",
      "        3. Press 3 to check balance\n",
      "        4. Press 4 to withdraw\n",
      "        5. Anything else to exit\n",
      "        1\n",
      "Enter new pin :111\n",
      "ENter the amount you have : 50000\n",
      "Pin Created Successful\n",
      "\n",
      "        Hi how can I help you?\n",
      "        1. Press 1 to create pin\n",
      "        2. Press 2 to change pin\n",
      "        3. Press 3 to check balance\n",
      "        4. Press 4 to withdraw\n",
      "        5. Anything else to exit\n",
      "        klj\n"
     ]
    }
   ],
   "source": [
    "saurabh  = Atm()"
   ]
  },
  {
   "cell_type": "code",
   "execution_count": 44,
   "id": "9b0cbbf6",
   "metadata": {},
   "outputs": [
    {
     "name": "stdout",
     "output_type": "stream",
     "text": [
      "\n",
      "        Hi how can I help you?\n",
      "        1. Press 1 to create pin\n",
      "        2. Press 2 to change pin\n",
      "        3. Press 3 to check balance\n",
      "        4. Press 4 to withdraw\n",
      "        5. Anything else to exit\n",
      "        4\n",
      "Enter current pin: 111\n",
      "Enter the amount : 500\n",
      "Amount withdrawn successfully, balance is 49500\n",
      "\n",
      "        Hi how can I help you?\n",
      "        1. Press 1 to create pin\n",
      "        2. Press 2 to change pin\n",
      "        3. Press 3 to check balance\n",
      "        4. Press 4 to withdraw\n",
      "        5. Anything else to exit\n",
      "        jkl\n"
     ]
    }
   ],
   "source": [
    "saurabh.menu()"
   ]
  },
  {
   "cell_type": "code",
   "execution_count": 40,
   "id": "7495bb8a",
   "metadata": {},
   "outputs": [
    {
     "name": "stdout",
     "output_type": "stream",
     "text": [
      "\n",
      "        Hi how can I help you?\n",
      "        1. Press 1 to create pin\n",
      "        2. Press 2 to change pin\n",
      "        3. Press 3 to check balance\n",
      "        4. Press 4 to withdraw\n",
      "        5. Anything else to exit\n",
      "        1\n",
      "Enter new pin :111\n",
      "ENter the amount you have : 5555555\n",
      "Pin Created Successful\n",
      "\n",
      "        Hi how can I help you?\n",
      "        1. Press 1 to create pin\n",
      "        2. Press 2 to change pin\n",
      "        3. Press 3 to check balance\n",
      "        4. Press 4 to withdraw\n",
      "        5. Anything else to exit\n",
      "        jglk,k\n"
     ]
    }
   ],
   "source": [
    "atm1.menu()"
   ]
  },
  {
   "cell_type": "code",
   "execution_count": null,
   "id": "27be7b88",
   "metadata": {},
   "outputs": [],
   "source": [
    "atm1.withdraw()"
   ]
  },
  {
   "cell_type": "code",
   "execution_count": null,
   "id": "60158bb8",
   "metadata": {},
   "outputs": [],
   "source": [
    "atm1.balance = 0"
   ]
  },
  {
   "cell_type": "code",
   "execution_count": null,
   "id": "66cdc491",
   "metadata": {},
   "outputs": [],
   "source": [
    "atm1.menu()"
   ]
  },
  {
   "cell_type": "code",
   "execution_count": null,
   "id": "7be655d9",
   "metadata": {},
   "outputs": [],
   "source": [
    "ankush = Atm()"
   ]
  },
  {
   "cell_type": "code",
   "execution_count": null,
   "id": "433d95a0",
   "metadata": {},
   "outputs": [],
   "source": [
    "ankush.menu()"
   ]
  },
  {
   "cell_type": "code",
   "execution_count": null,
   "id": "fc9bcb40",
   "metadata": {},
   "outputs": [],
   "source": [
    "bata"
   ]
  },
  {
   "cell_type": "code",
   "execution_count": null,
   "id": "dd7d4cdf",
   "metadata": {},
   "outputs": [],
   "source": [
    "class Atm:\n",
    "    def __init__(self):\n",
    "        print(id(self))\n",
    "        self.pin = ''\n",
    "        self.balance = 0\n",
    "        self.menu()\n",
    "\n",
    "    def menu(self):\n",
    "        user_input = input(\"\"\"\n",
    "        Hi how can I help you?\n",
    "        1. Press 1 to create pin\n",
    "        2. Press 2 to change pin\n",
    "        3. Press 3 to check balance\n",
    "        4. Press 4 to withdraw\n",
    "        5. Anything else to exit\n",
    "        \"\"\")\n",
    "\n",
    "        if user_input == '1':\n",
    "            self.create_pin()\n",
    "        elif user_input == '2':\n",
    "            self.change_pin()\n",
    "        elif user_input == '3':\n",
    "            self.check_balance()\n",
    "        elif user_input == '4':\n",
    "            self.withdraw()\n",
    "        else:\n",
    "            return 0\n",
    "\n",
    "    def create_pin(self):\n",
    "        user_pin = input('Enter your pin: ')\n",
    "        self.pin = user_pin\n",
    "\n",
    "        user_balance = int(input('Enter balance: '))\n",
    "        self.balance = user_balance\n",
    "\n",
    "        print('Pin created successfully!')\n",
    "        self.menu()\n",
    "\n",
    "    def change_pin(self):\n",
    "        old_pin = input('Enter old pin: ')\n",
    "\n",
    "        if old_pin == self.pin:\n",
    "            new_pin = input('Enter new pin: ')\n",
    "            self.pin = new_pin\n",
    "            print('Pin change successful!')\n",
    "            self.menu()\n",
    "        else:\n",
    "            print('Cannot change pin! Incorrect old pin.')\n",
    "            self.menu()\n",
    "\n",
    "    def check_balance(self):\n",
    "        user_pin = input('Enter your pin: ')\n",
    "        if user_pin == self.pin:\n",
    "            print('Your balance is', self.balance)\n",
    "        else:\n",
    "            print('Incorrect pin!')\n",
    "        self.menu()\n",
    "\n",
    "    def withdraw(self):\n",
    "        user_pin = input('Enter your pin: ')\n",
    "        if user_pin == self.pin:\n",
    "            amount = int(input('Enter the amount: '))\n",
    "            if amount <= self.balance:\n",
    "                self.balance -= amount\n",
    "                print('Withdrawal successful. Balance is', self.balance)\n",
    "            else:\n",
    "                print('Insufficient balance!')\n",
    "        else:\n",
    "            print('Incorrect pin!')\n",
    "        self.menu()"
   ]
  },
  {
   "cell_type": "code",
   "execution_count": null,
   "id": "5937d86a",
   "metadata": {},
   "outputs": [],
   "source": [
    "# Create an ATM object and start the banking operations\n",
    "atm = Atm()"
   ]
  },
  {
   "cell_type": "code",
   "execution_count": null,
   "id": "b4f8cfd4",
   "metadata": {},
   "outputs": [],
   "source": []
  },
  {
   "cell_type": "code",
   "execution_count": null,
   "id": "f015c793",
   "metadata": {},
   "outputs": [],
   "source": [
    "atm2 = Atm()"
   ]
  },
  {
   "cell_type": "code",
   "execution_count": null,
   "id": "13d21d7a",
   "metadata": {},
   "outputs": [],
   "source": [
    "atm2.withdraw()"
   ]
  },
  {
   "cell_type": "code",
   "execution_count": null,
   "id": "d110d936",
   "metadata": {},
   "outputs": [],
   "source": [
    "a = 'suraj'\n",
    "print(type(a))"
   ]
  },
  {
   "cell_type": "code",
   "execution_count": null,
   "id": "40115f2e",
   "metadata": {},
   "outputs": [],
   "source": [
    "l = list([1,2,3,4,5])\n",
    "l2 = [4,5,6,7]"
   ]
  },
  {
   "cell_type": "code",
   "execution_count": null,
   "id": "f32b9dbf",
   "metadata": {},
   "outputs": [],
   "source": [
    "n = 5\n",
    "m = 6"
   ]
  },
  {
   "cell_type": "code",
   "execution_count": null,
   "id": "8d62a7b6",
   "metadata": {},
   "outputs": [],
   "source": [
    "3/n # n can take any value \n",
    "3/ m # m can take values except 0 "
   ]
  },
  {
   "cell_type": "code",
   "execution_count": null,
   "id": "6f2ded28",
   "metadata": {},
   "outputs": [],
   "source": [
    "n + m\n",
    "n - m\n",
    "n * m\n",
    "n "
   ]
  },
  {
   "cell_type": "code",
   "execution_count": null,
   "id": "e28c784e",
   "metadata": {},
   "outputs": [],
   "source": [
    "2/3"
   ]
  },
  {
   "cell_type": "code",
   "execution_count": null,
   "id": "9a715547",
   "metadata": {},
   "outputs": [],
   "source": [
    "class Fraction:\n",
    "    def __init__(self, x,y): # magic methods which gets automatically called when we create an object of our class.\n",
    "        self.num = x\n",
    "        self.den = y\n",
    "    \n",
    "    def __str__(self):\n",
    "        return f\"{self.num}/{self.den}\"\n",
    "    \n",
    "    def __add__(self, other):\n",
    "        new_num = self.num * other.den + other.num * self.den\n",
    "        new_den = self.den * other.den\n",
    "        return f\"{new_num}/{new_den}\"\n",
    "    \n",
    "    def __sub__(self, other):\n",
    "        new_num = self.num * other.den - other.num * self.num\n",
    "        new_den = self.den * other.den\n",
    "        return f\"{new_num}/{new_den}\"\n",
    "    \n",
    "    def __mul__(self, other):\n",
    "        new_num = self.num * other.num\n",
    "        new_den = self.den * other.den\n",
    "        return f\"{new_num}/{new_den}\"\n",
    "\n",
    "    def __truediv__(self, other):\n",
    "        new_num = self.num * other.den\n",
    "        new_den = self.den * other.num\n",
    "        return f\"{new_num}/{new_den}\"\n",
    "    \n",
    "    def convert_to_decimal(self):\n",
    "        return self.num / self.den"
   ]
  },
  {
   "cell_type": "code",
   "execution_count": null,
   "id": "55a5d5fb",
   "metadata": {},
   "outputs": [],
   "source": [
    "obj1 = Fraction(2,3)\n",
    "print(obj1)"
   ]
  },
  {
   "cell_type": "code",
   "execution_count": null,
   "id": "e083155e",
   "metadata": {},
   "outputs": [],
   "source": [
    "obj2 = Fraction(3,2)\n",
    "print(obj2)"
   ]
  },
  {
   "cell_type": "code",
   "execution_count": null,
   "id": "06ec4b82",
   "metadata": {},
   "outputs": [],
   "source": [
    "obj3 = Fraction(5,7)\n",
    "print(obj3)"
   ]
  },
  {
   "cell_type": "code",
   "execution_count": null,
   "id": "4528dd45",
   "metadata": {},
   "outputs": [],
   "source": [
    "obj1+ obj2"
   ]
  },
  {
   "cell_type": "code",
   "execution_count": null,
   "id": "47ff77b4",
   "metadata": {},
   "outputs": [],
   "source": [
    "print(obj1+obj2)\n",
    "print(obj1-obj2)\n",
    "print(obj1*obj2)\n",
    "print(obj1/obj2)"
   ]
  },
  {
   "cell_type": "code",
   "execution_count": null,
   "id": "d24cfc2a",
   "metadata": {},
   "outputs": [],
   "source": [
    "obj1.convert_to_decimal()"
   ]
  },
  {
   "cell_type": "code",
   "execution_count": null,
   "id": "63cbd715",
   "metadata": {},
   "outputs": [],
   "source": [
    "print(obj1)"
   ]
  },
  {
   "cell_type": "markdown",
   "id": "47b602ed",
   "metadata": {},
   "source": [
    "### Q. Write OOP classes to handle the following scenarios:\n",
    "\n",
    "- A user can create and view 2D coordinates\n",
    "- A user can find out the distance between 2 coordinates\n",
    "- A user can find find the distance of a coordinate from origin\n",
    "- A user can check if a point lies on a given line\n",
    "- A user can find the distance between a given 2D point and a given line\n"
   ]
  },
  {
   "cell_type": "code",
   "execution_count": null,
   "id": "9c1d3881",
   "metadata": {},
   "outputs": [],
   "source": [
    "class Point:\n",
    "    def __init__(self,x,y):\n",
    "        self.x_cod = x\n",
    "        self.y_cod = y\n",
    "    \n",
    "    def __str__(self):\n",
    "        return f\"<{self.x_cod}, {self.y_cod}>\"\n",
    "    \n",
    "    def euclidean_distance(self,other):\n",
    "        return ((self.x_cod-other.x_cod)**2 + (self.y_cod-other.y_cod)**2)**0.5\n",
    "    \n",
    "    def distance_from_origin(self):\n",
    "#         return (self.x_cod**2 + self.y_cod**2)**0.5\n",
    "        return self.euclidean_distance(Point(0,0))\n",
    "\n",
    "\n",
    "class Line:\n",
    "    def __init__(self, A,B,C):\n",
    "        self.A = A\n",
    "        self.B = B\n",
    "        self.C = C\n",
    "        \n",
    "    def __str__(self):\n",
    "        return f\"{self.A}x + {self.B}y + {self.C} = 0\"\n",
    "    \n",
    "    def point_on_line(line,point):\n",
    "        if line.A*point.x_cod + line.B*point.y_cod + line.C == 0:\n",
    "            return \"Lies on Line.\"\n",
    "        else:\n",
    "            return \"Does not lie on Line.\"\n",
    "        \n",
    "    def shortest_distance_l_TO_p(line,point):\n",
    "        return abs(line.A*point.x_cod + line.B*point.y_cod + line.C)/(line.A**2 + line.B**2)**0.5"
   ]
  },
  {
   "cell_type": "code",
   "execution_count": null,
   "id": "d84d554e",
   "metadata": {},
   "outputs": [],
   "source": [
    "p1 = Point(0,0)\n",
    "print(p1)"
   ]
  },
  {
   "cell_type": "code",
   "execution_count": null,
   "id": "fbc83cab",
   "metadata": {},
   "outputs": [],
   "source": [
    "p1.euclidean_distance(Point(2,1))"
   ]
  },
  {
   "cell_type": "code",
   "execution_count": null,
   "id": "d404ca4c",
   "metadata": {},
   "outputs": [],
   "source": [
    "p2 = Point(3,3)\n",
    "p2.distance_from_origin()"
   ]
  },
  {
   "cell_type": "code",
   "execution_count": null,
   "id": "a1ca231f",
   "metadata": {},
   "outputs": [],
   "source": [
    "l1 = Line(2,7,1)\n",
    "print(l1)"
   ]
  },
  {
   "cell_type": "code",
   "execution_count": null,
   "id": "c34b1f58",
   "metadata": {},
   "outputs": [],
   "source": [
    "l1.point_on_line(Point(-4,7))"
   ]
  },
  {
   "cell_type": "code",
   "execution_count": null,
   "id": "5ab0956c",
   "metadata": {},
   "outputs": [],
   "source": [
    "l1.shortest_distance_l_TO_p(p2)"
   ]
  },
  {
   "cell_type": "code",
   "execution_count": null,
   "id": "a694cb45",
   "metadata": {},
   "outputs": [],
   "source": [
    "l1 = Line(1,1,-2)\n",
    "p1 = Point(1,1)\n",
    "\n",
    "print(l1)\n",
    "print(p1)\n",
    "\n",
    "l1.shortest_distance_l_TO_p(p1)"
   ]
  },
  {
   "cell_type": "markdown",
   "id": "8559c9bf",
   "metadata": {},
   "source": [
    "---\n",
    "## Encapsulation:\n",
    "- Encapsulation is the concept of bundling data (attributes) and methods (functions) that operate on that data within a class. \n",
    "- It allows the class to control access to its data, ensuring data integrity and security."
   ]
  },
  {
   "cell_type": "code",
   "execution_count": 103,
   "id": "322f6528",
   "metadata": {},
   "outputs": [],
   "source": [
    "class Car:\n",
    "    manafacturer = \"Suraj\"     # CLASS/STATIC ATTRIBUTE\n",
    "    \n",
    "    def __init__(self,model, color, fuel):\n",
    "        self.color = color\n",
    "        self.model = model\n",
    "        self.fuel = fuel\n",
    "        \n",
    "    \n",
    "    def drive(self):                   # INSTANCE/OBJECT METHOD\n",
    "        print(f\"{self.model} started....\")\n",
    "      \n",
    "    @staticmethod                     # STATIC/CLASS METHOD\n",
    "    def calculate_milage():\n",
    "        print(f\"Milage is 50 KM/HR. \")\n",
    " \n",
    "        "
   ]
  },
  {
   "cell_type": "code",
   "execution_count": 104,
   "id": "f99df183",
   "metadata": {},
   "outputs": [],
   "source": [
    "car1 = Car('sedan','red','diesel')"
   ]
  },
  {
   "cell_type": "code",
   "execution_count": 105,
   "id": "a50f0226",
   "metadata": {},
   "outputs": [],
   "source": [
    "car2 = Car('suv','black','petrol')"
   ]
  },
  {
   "cell_type": "code",
   "execution_count": 106,
   "id": "95c9ec80",
   "metadata": {},
   "outputs": [
    {
     "name": "stdout",
     "output_type": "stream",
     "text": [
      "Milage is 50 KM/HR. \n"
     ]
    }
   ],
   "source": [
    "car1.calculate_milage()"
   ]
  },
  {
   "cell_type": "code",
   "execution_count": 107,
   "id": "dbf5ae10",
   "metadata": {},
   "outputs": [
    {
     "name": "stdout",
     "output_type": "stream",
     "text": [
      "Milage is 50 KM/HR. \n"
     ]
    }
   ],
   "source": [
    "car2.calculate_milage()"
   ]
  },
  {
   "cell_type": "code",
   "execution_count": 108,
   "id": "47b7d143",
   "metadata": {},
   "outputs": [
    {
     "name": "stdout",
     "output_type": "stream",
     "text": [
      "suv started....\n"
     ]
    }
   ],
   "source": [
    "car2.drive()"
   ]
  },
  {
   "cell_type": "code",
   "execution_count": 109,
   "id": "7928d676",
   "metadata": {},
   "outputs": [
    {
     "name": "stdout",
     "output_type": "stream",
     "text": [
      "sedan started....\n"
     ]
    }
   ],
   "source": [
    "car1.drive()"
   ]
  },
  {
   "cell_type": "code",
   "execution_count": 110,
   "id": "ef02533e",
   "metadata": {},
   "outputs": [
    {
     "data": {
      "text/plain": [
       "'Suraj'"
      ]
     },
     "execution_count": 110,
     "metadata": {},
     "output_type": "execute_result"
    }
   ],
   "source": [
    "car1.manafacturer"
   ]
  },
  {
   "cell_type": "code",
   "execution_count": 111,
   "id": "6e353fee",
   "metadata": {},
   "outputs": [
    {
     "data": {
      "text/plain": [
       "'Suraj'"
      ]
     },
     "execution_count": 111,
     "metadata": {},
     "output_type": "execute_result"
    }
   ],
   "source": [
    "car2.manafacturer"
   ]
  },
  {
   "cell_type": "code",
   "execution_count": 112,
   "id": "5563ad5d",
   "metadata": {},
   "outputs": [
    {
     "data": {
      "text/plain": [
       "'petrol'"
      ]
     },
     "execution_count": 112,
     "metadata": {},
     "output_type": "execute_result"
    }
   ],
   "source": [
    "car2.fuel"
   ]
  },
  {
   "cell_type": "code",
   "execution_count": 113,
   "id": "b4aabf3e",
   "metadata": {},
   "outputs": [
    {
     "data": {
      "text/plain": [
       "'diesel'"
      ]
     },
     "execution_count": 113,
     "metadata": {},
     "output_type": "execute_result"
    }
   ],
   "source": [
    "car1.fuel"
   ]
  },
  {
   "cell_type": "code",
   "execution_count": null,
   "id": "315eb7cb",
   "metadata": {},
   "outputs": [],
   "source": []
  },
  {
   "cell_type": "code",
   "execution_count": null,
   "id": "6b518965",
   "metadata": {},
   "outputs": [],
   "source": []
  },
  {
   "cell_type": "code",
   "execution_count": null,
   "id": "12c53c10",
   "metadata": {},
   "outputs": [],
   "source": [
    "type(4) == int"
   ]
  },
  {
   "cell_type": "code",
   "execution_count": 45,
   "id": "60dacfcb",
   "metadata": {},
   "outputs": [],
   "source": [
    "class Atm:\n",
    "    def __init__(self,pin, balance):\n",
    "        self.pin = pin\n",
    "        self.balance = balance\n",
    "\n",
    "    def change_pin(self):\n",
    "        old_pin = input(\"ENter your current pin : \")\n",
    "\n",
    "        if old_pin == self.pin:\n",
    "            npin = input(\"ENTER YOUR NEW PIN.\")\n",
    "            self.pin = npin\n",
    "        else:\n",
    "            print(\"PIN GALAT HAI , sahi pin dalloo.\")\n",
    "\n",
    "    def check_balance(self):\n",
    "        old_pin = input('Enter current pin: ')\n",
    "\n",
    "        if old_pin == self.pin:\n",
    "            print(f\"YOur balance is {self.balance}\")\n",
    "\n",
    "        else :\n",
    "            print(\"CHor chor\")\n",
    "\n",
    "\n",
    "    def withdraw(self,pin,amount_to_withdraw):\n",
    "            if amount_to_withdraw < self.balance :\n",
    "                self.balance -= amount_to_withdraw\n",
    "                print(f\"Amount withdrawn successfully, balance is {self.balance}\")\n",
    "\n",
    "            else :\n",
    "                print(\"Paise nahi hai tere pass itne\")\n"
   ]
  },
  {
   "cell_type": "code",
   "execution_count": 72,
   "id": "e9be12a1",
   "metadata": {},
   "outputs": [],
   "source": [
    "user1 = Atm('1111',50000)"
   ]
  },
  {
   "cell_type": "code",
   "execution_count": 73,
   "id": "2561bf1c",
   "metadata": {},
   "outputs": [],
   "source": [
    "user1.balance = 'something'"
   ]
  },
  {
   "cell_type": "code",
   "execution_count": 74,
   "id": "bbb69451",
   "metadata": {},
   "outputs": [],
   "source": [
    "user1.pin = '8868'"
   ]
  },
  {
   "cell_type": "code",
   "execution_count": 75,
   "id": "e3e35a64",
   "metadata": {},
   "outputs": [],
   "source": [
    "user1.balance =55"
   ]
  },
  {
   "cell_type": "code",
   "execution_count": 76,
   "id": "416ecb95",
   "metadata": {},
   "outputs": [
    {
     "data": {
      "text/plain": [
       "55"
      ]
     },
     "execution_count": 76,
     "metadata": {},
     "output_type": "execute_result"
    }
   ],
   "source": [
    "user1.balance"
   ]
  },
  {
   "cell_type": "code",
   "execution_count": 77,
   "id": "4a795247",
   "metadata": {},
   "outputs": [
    {
     "name": "stdout",
     "output_type": "stream",
     "text": [
      "Amount withdrawn successfully, balance is 49500\n"
     ]
    }
   ],
   "source": [
    "user1.withdraw('1111',500)"
   ]
  },
  {
   "cell_type": "code",
   "execution_count": 82,
   "id": "a3eba692",
   "metadata": {},
   "outputs": [
    {
     "ename": "AttributeError",
     "evalue": "'Atm' object has no attribute '_balance'",
     "output_type": "error",
     "traceback": [
      "\u001b[1;31m---------------------------------------------------------------------------\u001b[0m",
      "\u001b[1;31mAttributeError\u001b[0m                            Traceback (most recent call last)",
      "Cell \u001b[1;32mIn[82], line 1\u001b[0m\n\u001b[1;32m----> 1\u001b[0m user1\u001b[38;5;241m.\u001b[39m_balance\n",
      "\u001b[1;31mAttributeError\u001b[0m: 'Atm' object has no attribute '_balance'"
     ]
    }
   ],
   "source": [
    "user1._balance"
   ]
  },
  {
   "cell_type": "code",
   "execution_count": 85,
   "id": "7ebd54a5",
   "metadata": {},
   "outputs": [],
   "source": [
    "user1._random = 55555"
   ]
  },
  {
   "cell_type": "code",
   "execution_count": 86,
   "id": "e8c2bda9",
   "metadata": {},
   "outputs": [
    {
     "data": {
      "text/plain": [
       "55555"
      ]
     },
     "execution_count": 86,
     "metadata": {},
     "output_type": "execute_result"
    }
   ],
   "source": [
    "user1._random"
   ]
  },
  {
   "cell_type": "code",
   "execution_count": 71,
   "id": "11a9debe",
   "metadata": {},
   "outputs": [],
   "source": [
    "class Atm:\n",
    "    def __init__(self,pin, balance):\n",
    "        self.__pin = pin\n",
    "        self.__balance = balance\n",
    "        self._random = 55\n",
    "\n",
    "    def change_pin(self):\n",
    "        old_pin = input(\"ENter your current pin : \")\n",
    "\n",
    "        if old_pin == self.__pin:\n",
    "            npin = input(\"ENTER YOUR NEW PIN.\")\n",
    "            self.__pin = npin\n",
    "        else:\n",
    "            print(\"PIN GALAT HAI , sahi pin dalloo.\")\n",
    "\n",
    "    def check_balance(self):\n",
    "        old_pin = input('Enter current pin: ')\n",
    "\n",
    "        if old_pin == self.__pin:\n",
    "            print(f\"YOur balance is {self.__balance}\")\n",
    "\n",
    "        else :\n",
    "            print(\"CHor chor\")\n",
    "\n",
    "\n",
    "    def withdraw(self,pin,amount_to_withdraw):\n",
    "            if amount_to_withdraw < self.__balance :\n",
    "                self.__balance -= amount_to_withdraw\n",
    "                print(f\"Amount withdrawn successfully, balance is {self.__balance}\")\n",
    "\n",
    "            else :\n",
    "                print(\"Paise nahi hai tere pass itne\")\n"
   ]
  },
  {
   "cell_type": "code",
   "execution_count": 51,
   "id": "63e96a7f",
   "metadata": {},
   "outputs": [],
   "source": [
    "user1 = Atm('111',5000)"
   ]
  },
  {
   "cell_type": "code",
   "execution_count": 54,
   "id": "ca418757",
   "metadata": {},
   "outputs": [
    {
     "ename": "AttributeError",
     "evalue": "'Atm' object has no attribute 'balance'",
     "output_type": "error",
     "traceback": [
      "\u001b[1;31m---------------------------------------------------------------------------\u001b[0m",
      "\u001b[1;31mAttributeError\u001b[0m                            Traceback (most recent call last)",
      "Cell \u001b[1;32mIn[54], line 1\u001b[0m\n\u001b[1;32m----> 1\u001b[0m user1\u001b[38;5;241m.\u001b[39mbalance\n",
      "\u001b[1;31mAttributeError\u001b[0m: 'Atm' object has no attribute 'balance'"
     ]
    }
   ],
   "source": [
    "user1.balance"
   ]
  },
  {
   "cell_type": "code",
   "execution_count": 52,
   "id": "ae90578e",
   "metadata": {},
   "outputs": [
    {
     "ename": "AttributeError",
     "evalue": "'Atm' object has no attribute 'pin'",
     "output_type": "error",
     "traceback": [
      "\u001b[1;31m---------------------------------------------------------------------------\u001b[0m",
      "\u001b[1;31mAttributeError\u001b[0m                            Traceback (most recent call last)",
      "Cell \u001b[1;32mIn[52], line 1\u001b[0m\n\u001b[1;32m----> 1\u001b[0m user1\u001b[38;5;241m.\u001b[39mpin\n",
      "\u001b[1;31mAttributeError\u001b[0m: 'Atm' object has no attribute 'pin'"
     ]
    }
   ],
   "source": [
    "user1.pin"
   ]
  },
  {
   "cell_type": "code",
   "execution_count": null,
   "id": "a084ab61",
   "metadata": {},
   "outputs": [],
   "source": [
    "class Atm:\n",
    "    \n",
    "    __count = 0\n",
    "    def __init__(self,pin,balance):\n",
    "        self.__pin = str(pin)  # instance variables\n",
    "        self.__balance = balance\n",
    "        Atm.__count  = Atm.__count +1\n",
    "#         self.menu()\n",
    "\n",
    "    @staticmethod\n",
    "    def get_count():\n",
    "        return Atm.__count\n",
    "    \n",
    "    def get_balance(self):\n",
    "        return f\"YOUR CURRENT balance is {self.__balance}\"\n",
    "\n",
    "    \n",
    "    def set_balance(self,new_balance):\n",
    "        if type(new_balance) == int:\n",
    "            self.__balance = new_balance\n",
    "        \n",
    "    def withdraw(self):\n",
    "        old_pin = input('Enter current pin: ')\n",
    "\n",
    "        if old_pin == self.__pin:\n",
    "            amount_to_withdraw = int(input(\"Enter the amount : \"))\n",
    "\n",
    "            if amount_to_withdraw < self.__balance :\n",
    "                self.__balance -= amount_to_withdraw\n",
    "                print(f\"Amount withdrawn successfully, balance is {self.__balance}\")\n",
    "\n",
    "            else :\n",
    "                print(\"Paise nahi hai tere pass itne\")\n",
    "\n",
    "        else :\n",
    "            print(\"CHor chor\")\n"
   ]
  },
  {
   "cell_type": "code",
   "execution_count": null,
   "id": "45c073c1",
   "metadata": {},
   "outputs": [],
   "source": [
    "omkar = Atm(111,5000)"
   ]
  },
  {
   "cell_type": "code",
   "execution_count": null,
   "id": "8fed3172",
   "metadata": {},
   "outputs": [],
   "source": [
    "rajat = Atm(121,6000)"
   ]
  },
  {
   "cell_type": "code",
   "execution_count": null,
   "id": "9dab07c3",
   "metadata": {},
   "outputs": [],
   "source": [
    "atharva = Atm(111,7777)"
   ]
  },
  {
   "cell_type": "code",
   "execution_count": null,
   "id": "0de29716",
   "metadata": {},
   "outputs": [],
   "source": [
    "Atm.get_count()"
   ]
  },
  {
   "cell_type": "code",
   "execution_count": null,
   "id": "8d1630a9",
   "metadata": {},
   "outputs": [],
   "source": [
    "omkar.__balance = 'fja;'"
   ]
  },
  {
   "cell_type": "code",
   "execution_count": null,
   "id": "affb0b61",
   "metadata": {},
   "outputs": [],
   "source": [
    "omkar.__balance"
   ]
  },
  {
   "cell_type": "code",
   "execution_count": null,
   "id": "b4a4a3c2",
   "metadata": {},
   "outputs": [],
   "source": [
    "# omkar._Atm__balance = 'sfjsl'"
   ]
  },
  {
   "cell_type": "code",
   "execution_count": null,
   "id": "a2790fdc",
   "metadata": {},
   "outputs": [],
   "source": [
    "omkar.withdraw()"
   ]
  },
  {
   "cell_type": "code",
   "execution_count": null,
   "id": "f25e58c5",
   "metadata": {},
   "outputs": [],
   "source": []
  },
  {
   "cell_type": "code",
   "execution_count": null,
   "id": "0a61295c",
   "metadata": {},
   "outputs": [],
   "source": []
  },
  {
   "cell_type": "code",
   "execution_count": null,
   "id": "7cd78115",
   "metadata": {},
   "outputs": [],
   "source": []
  },
  {
   "cell_type": "code",
   "execution_count": null,
   "id": "4272f431",
   "metadata": {},
   "outputs": [],
   "source": []
  },
  {
   "cell_type": "code",
   "execution_count": null,
   "id": "9420efc1",
   "metadata": {},
   "outputs": [],
   "source": []
  },
  {
   "cell_type": "code",
   "execution_count": null,
   "id": "cdc80470",
   "metadata": {},
   "outputs": [],
   "source": []
  },
  {
   "cell_type": "code",
   "execution_count": null,
   "id": "21c2e046",
   "metadata": {},
   "outputs": [],
   "source": [
    "rajat.get_count()"
   ]
  },
  {
   "cell_type": "code",
   "execution_count": null,
   "id": "fabc637a",
   "metadata": {},
   "outputs": [],
   "source": [
    "omkar.get_count()"
   ]
  },
  {
   "cell_type": "code",
   "execution_count": null,
   "id": "408e7559",
   "metadata": {},
   "outputs": [],
   "source": [
    "omkar.get_balance()"
   ]
  },
  {
   "cell_type": "code",
   "execution_count": null,
   "id": "1b5c45c8",
   "metadata": {},
   "outputs": [],
   "source": [
    "omkar.set_balance(8000)"
   ]
  },
  {
   "cell_type": "code",
   "execution_count": null,
   "id": "718be66c",
   "metadata": {},
   "outputs": [],
   "source": [
    "omkar.get_balance()"
   ]
  },
  {
   "cell_type": "code",
   "execution_count": null,
   "id": "5e38eb90",
   "metadata": {},
   "outputs": [],
   "source": [
    "omkar.balance = 'kuch bhi'"
   ]
  },
  {
   "cell_type": "code",
   "execution_count": null,
   "id": "5e852650",
   "metadata": {},
   "outputs": [],
   "source": [
    "omkar.balance"
   ]
  },
  {
   "cell_type": "code",
   "execution_count": null,
   "id": "ecca94f9",
   "metadata": {},
   "outputs": [],
   "source": [
    "omkar.withdraw()"
   ]
  },
  {
   "cell_type": "code",
   "execution_count": null,
   "id": "fa3b5b6a",
   "metadata": {},
   "outputs": [],
   "source": [
    "omkar.__balance"
   ]
  },
  {
   "cell_type": "code",
   "execution_count": null,
   "id": "f968aeab",
   "metadata": {},
   "outputs": [],
   "source": [
    "class BankAccount:\n",
    "    static_varaible = 0  # static variable\n",
    "    def __init__(self, account_number, balance):\n",
    "        self.account_number = account_number\n",
    "        self.__balance = balance\n",
    "        BankAccount.static_varaible = BankAccount.static_varaible + 1\n",
    "    \n",
    "    @staticmethod      #static method\n",
    "    def get_coount():\n",
    "        return BankAccount.static_varaible\n",
    "        \n",
    "    def deposit(self, amount):\n",
    "        if amount > 0:\n",
    "            self.__balance += amount\n",
    "\n",
    "    def withdraw(self, amount):\n",
    "        if 0 < amount <= self._balance:\n",
    "            self.__balance -= amount\n",
    "\n",
    "    def get_balance(self):\n",
    "        return self.__balance\n",
    "    \n",
    "    def set_balance(self,new_balance):\n",
    "        if type(new_balance) == int:\n",
    "            self.__balance = new_balance\n",
    "        \n"
   ]
  },
  {
   "cell_type": "code",
   "execution_count": null,
   "id": "d2b27c1e",
   "metadata": {},
   "outputs": [],
   "source": [
    "BankAccount.static_varaible"
   ]
  },
  {
   "cell_type": "code",
   "execution_count": null,
   "id": "fe45b5c2",
   "metadata": {},
   "outputs": [],
   "source": [
    "BankAccount.get_coount()"
   ]
  },
  {
   "cell_type": "code",
   "execution_count": null,
   "id": "6e283946",
   "metadata": {},
   "outputs": [],
   "source": [
    "cust1 = BankAccount(1,5000)"
   ]
  },
  {
   "cell_type": "code",
   "execution_count": null,
   "id": "83b28e7f",
   "metadata": {},
   "outputs": [],
   "source": [
    "cust1.static_varaible"
   ]
  },
  {
   "cell_type": "code",
   "execution_count": null,
   "id": "5951cdc0",
   "metadata": {},
   "outputs": [],
   "source": [
    "cust1.account_number"
   ]
  },
  {
   "cell_type": "code",
   "execution_count": null,
   "id": "5c1706c1",
   "metadata": {},
   "outputs": [],
   "source": [
    "cust1.get_balance()"
   ]
  },
  {
   "cell_type": "code",
   "execution_count": null,
   "id": "0ff39833",
   "metadata": {},
   "outputs": [],
   "source": [
    "cust1.balance"
   ]
  },
  {
   "cell_type": "code",
   "execution_count": null,
   "id": "1744688b",
   "metadata": {},
   "outputs": [],
   "source": [
    "cust1.balance = 500"
   ]
  },
  {
   "cell_type": "code",
   "execution_count": null,
   "id": "154a882c",
   "metadata": {},
   "outputs": [],
   "source": [
    "cust1.set_balance(4000)"
   ]
  },
  {
   "cell_type": "code",
   "execution_count": null,
   "id": "de6dc91b",
   "metadata": {},
   "outputs": [],
   "source": [
    "cust1._balance = 8000\n",
    "cust1._balance"
   ]
  },
  {
   "cell_type": "markdown",
   "id": "7dfd2d1b",
   "metadata": {},
   "source": [
    "---"
   ]
  },
  {
   "cell_type": "markdown",
   "id": "31d9b105",
   "metadata": {},
   "source": [
    "## Inheritance:\n",
    "- Inheritance allows a class (child class) to inherit properties and behaviors from another class (parent class). \n",
    "- It promotes code reusability and establishes an \"is-a\" relationship between classes. Child classes can override or extend methods and attributes of the parent class."
   ]
  },
  {
   "cell_type": "code",
   "execution_count": null,
   "id": "e3c42206",
   "metadata": {},
   "outputs": [],
   "source": [
    "class Animal:\n",
    "    def __init__(self, species):\n",
    "        self.species = species\n",
    "\n",
    "    def make_sound(self):\n",
    "        print(\"Generic animal sound\")\n",
    "        \n",
    "    def eat(self):\n",
    "        print(f\"{self.species} is eating.\")\n",
    "            \n",
    "        \n",
    "class Dog(Animal):\n",
    "    \n",
    "    def m2(self):\n",
    "        print(\"MY METHOD CALLED\")\n",
    "\n",
    "    def make_sound(self):\n",
    "        print(\"Woof!\")\n",
    "        \n"
   ]
  },
  {
   "cell_type": "code",
   "execution_count": null,
   "id": "43d2b6da",
   "metadata": {},
   "outputs": [],
   "source": [
    "dog1 = Dog('labraodor')"
   ]
  },
  {
   "cell_type": "code",
   "execution_count": null,
   "id": "2d401605",
   "metadata": {},
   "outputs": [],
   "source": [
    "dog1.eat()"
   ]
  },
  {
   "cell_type": "code",
   "execution_count": null,
   "id": "a3efd9b7",
   "metadata": {},
   "outputs": [],
   "source": [
    "dog1.m2()"
   ]
  },
  {
   "cell_type": "code",
   "execution_count": null,
   "id": "72492a72",
   "metadata": {},
   "outputs": [],
   "source": [
    "dog1.species"
   ]
  },
  {
   "cell_type": "code",
   "execution_count": null,
   "id": "75b297f6",
   "metadata": {},
   "outputs": [],
   "source": [
    "dog1.make_sound()"
   ]
  },
  {
   "cell_type": "code",
   "execution_count": null,
   "id": "7afc1921",
   "metadata": {},
   "outputs": [],
   "source": []
  },
  {
   "cell_type": "code",
   "execution_count": null,
   "id": "d0bafccb",
   "metadata": {},
   "outputs": [],
   "source": [
    "d1 = Animal('cat')\n",
    "d1.species\n",
    "d1.make_sound()\n",
    "\n",
    "d2 = Dog('breed1')\n",
    "d2.make_sound()\n",
    "d2.species\n",
    "\n",
    "d2.eat()\n",
    "d2.another_method()"
   ]
  },
  {
   "cell_type": "code",
   "execution_count": null,
   "id": "e7d98372",
   "metadata": {},
   "outputs": [],
   "source": [
    "# Using inheritance\n",
    "dog = Dog(\"Labrador\")\n",
    "print(dog.species)  # Output: \"Dog\"\n",
    "dog.make_sound()    # Output: \"Woof!\""
   ]
  },
  {
   "cell_type": "code",
   "execution_count": null,
   "id": "49380a59",
   "metadata": {},
   "outputs": [],
   "source": [
    "# Define the base class (Vehicle)\n",
    "class Vehicle:\n",
    "    def __init__(self, brand, model):\n",
    "        self.brand = brand\n",
    "        self.model = model\n",
    "        self.speed = 0\n",
    "\n",
    "    def accelerate(self, speed_increase):\n",
    "        self.speed += speed_increase\n",
    "        print(f\"The {self.brand} {self.model} accelerates to {self.speed} mph.\")\n",
    "\n",
    "    def brake(self, speed_decrease):\n",
    "        self.speed -= speed_decrease\n",
    "        if self.speed < 0:\n",
    "            self.speed = 0\n",
    "        print(f\"The {self.brand} {self.model} slows down to {self.speed} mph.\")\n",
    "\n",
    "# Define a derived class (Car) that inherits from Vehicle\n",
    "class Car(Vehicle):\n",
    "    def honk(self):\n",
    "        print(f\"The {self.brand} {self.model} honks: 'Beep beep!'\")\n",
    "\n",
    "# Define another derived class (Bicycle) that inherits from Vehicle\n",
    "class Bicycle(Vehicle):\n",
    "    def __init__(self, brand, model, num_gears):\n",
    "        super().__init__(brand, model)\n",
    "        self.num_gears = num_gears\n",
    "\n",
    "    def ring_bell(self):\n",
    "        print(f\"The {self.brand} {self.model} rings its bell: 'Ding ding!'\")"
   ]
  },
  {
   "cell_type": "code",
   "execution_count": null,
   "id": "fae4b657",
   "metadata": {},
   "outputs": [],
   "source": [
    "# Let's create some instances and interact with them\n",
    "v1 = Vehicle('ABC','general vehicle')\n",
    "car1 = Car(\"Toyota\", \"Camry\")\n",
    "bike1 = Bicycle(\"Schwinn\", \"Mountain Bike\", 21)"
   ]
  },
  {
   "cell_type": "code",
   "execution_count": null,
   "id": "78e321e0",
   "metadata": {},
   "outputs": [],
   "source": [
    "car1.accelerate(50)"
   ]
  },
  {
   "cell_type": "code",
   "execution_count": null,
   "id": "3a02300f",
   "metadata": {},
   "outputs": [],
   "source": [
    "car1.brake(40)"
   ]
  },
  {
   "cell_type": "code",
   "execution_count": null,
   "id": "495cf5df",
   "metadata": {},
   "outputs": [],
   "source": [
    "car1.honk()"
   ]
  },
  {
   "cell_type": "code",
   "execution_count": null,
   "id": "53e22940",
   "metadata": {},
   "outputs": [],
   "source": [
    "bike1.accelerate(60)"
   ]
  },
  {
   "cell_type": "code",
   "execution_count": null,
   "id": "01f6a017",
   "metadata": {},
   "outputs": [],
   "source": [
    "bike1.brake(20)"
   ]
  },
  {
   "cell_type": "code",
   "execution_count": null,
   "id": "abe63edc",
   "metadata": {},
   "outputs": [],
   "source": [
    "bike1.ring_bell()"
   ]
  },
  {
   "cell_type": "code",
   "execution_count": null,
   "id": "211e54b5",
   "metadata": {},
   "outputs": [],
   "source": [
    "class vehicle:\n",
    "    def vmethod(self):\n",
    "        print(\"Vehicle method called.\")\n",
    "    \n",
    "    def common_merthod(self):\n",
    "        print(\"Commont method from vehicle is called.\")\n",
    "\n",
    "class smallvehicle:\n",
    "    def smethod(self):\n",
    "        print(\"smallvehicle method called.\")\n",
    "        \n",
    "    def common_merthod(self):\n",
    "        print(\"Commont method from smallvehicle is called.\")\n",
    "\n",
    "    \n",
    "class Car(vehicle,smallvehicle):\n",
    "    def __init__(self, make, model):\n",
    "        self.comapany = make\n",
    "        self.model = model\n",
    "        \n",
    "    def car_wala_method(self):\n",
    "        print(\"Car method called\")"
   ]
  },
  {
   "cell_type": "code",
   "execution_count": null,
   "id": "fc284fc3",
   "metadata": {},
   "outputs": [],
   "source": [
    "obj1 = Car('BMW','abc')"
   ]
  },
  {
   "cell_type": "code",
   "execution_count": null,
   "id": "0be93214",
   "metadata": {},
   "outputs": [],
   "source": [
    "obj1.common_merthod()"
   ]
  },
  {
   "cell_type": "code",
   "execution_count": null,
   "id": "50427b76",
   "metadata": {},
   "outputs": [],
   "source": [
    "obj1.smethod()"
   ]
  },
  {
   "cell_type": "code",
   "execution_count": null,
   "id": "6c9b36ff",
   "metadata": {},
   "outputs": [],
   "source": [
    "obj1.vmethod()"
   ]
  },
  {
   "cell_type": "code",
   "execution_count": null,
   "id": "055e1d85",
   "metadata": {},
   "outputs": [],
   "source": [
    "obj1.car_wala_method()"
   ]
  },
  {
   "cell_type": "code",
   "execution_count": null,
   "id": "821137a9",
   "metadata": {},
   "outputs": [],
   "source": [
    "a = 'dfds'\n",
    "b = 'jdfksj'\n",
    "\n",
    "a + b"
   ]
  },
  {
   "cell_type": "code",
   "execution_count": null,
   "id": "5b03c78e",
   "metadata": {},
   "outputs": [],
   "source": [
    "a = 5\n",
    "b = 6\n",
    "\n",
    "a + b"
   ]
  },
  {
   "cell_type": "markdown",
   "id": "7ab63d38",
   "metadata": {},
   "source": [
    "## Polymorphism:\n",
    "- The literal meaning of polymorphism is the condition of occurrence in different forms.\n",
    "\n",
    "- It refers to the use of a single type entity (method, operator or object) to represent different types in different scenarios.\n",
    "- Polymorphism is often achieved through method overriding."
   ]
  },
  {
   "cell_type": "code",
   "execution_count": null,
   "id": "93e6158c",
   "metadata": {},
   "outputs": [],
   "source": [
    "class Car:\n",
    "    def start_engine(self):\n",
    "        print(\"Normal Engine Started......\")\n",
    "    \n",
    "    def add_brake():\n",
    "        print(\"halted\")\n",
    "        \n",
    "class Electric_car(Car):\n",
    "    def __init__(self, make, model):\n",
    "        self.make = make\n",
    "        self.model = model\n",
    "        \n",
    "    def start_engine(self):\n",
    "        print(\"Electric Engine Started.....\")\n",
    "    \n",
    "           \n",
    "class Hybrid_car(Car):\n",
    "    def __init__(self, make, model):\n",
    "        self.make = make\n",
    "        self.model = model\n",
    "        \n",
    "    def start_engine(self):\n",
    "        print(\"Hybrid Engine Started.....\")\n",
    "    "
   ]
  },
  {
   "cell_type": "code",
   "execution_count": null,
   "id": "f5af973c",
   "metadata": {},
   "outputs": [],
   "source": [
    "normal_car = Car()\n",
    "my_EV = Electric_car('BMV','tesla')\n",
    "my_HC = Hybrid_car('Hyundai','verna')"
   ]
  },
  {
   "cell_type": "code",
   "execution_count": null,
   "id": "94133679",
   "metadata": {},
   "outputs": [],
   "source": [
    "normal_car.start_engine()"
   ]
  },
  {
   "cell_type": "code",
   "execution_count": null,
   "id": "769960f4",
   "metadata": {},
   "outputs": [],
   "source": [
    "my_EV.start_engine()"
   ]
  },
  {
   "cell_type": "code",
   "execution_count": null,
   "id": "125a7306",
   "metadata": {},
   "outputs": [],
   "source": [
    "my_HC.start_engine()"
   ]
  },
  {
   "cell_type": "code",
   "execution_count": null,
   "id": "0b8b7e6d",
   "metadata": {},
   "outputs": [],
   "source": [
    "class Car:\n",
    "    def __init__(self, brand, model):\n",
    "        self.brand = brand\n",
    "        self.model = model\n",
    "\n",
    "    def move(self):\n",
    "        print(\"Drive!\")\n",
    "\n",
    "\n",
    "class Boat:\n",
    "    def __init__(self, brand, model):\n",
    "        self.brand = brand\n",
    "        self.model = model\n",
    "\n",
    "    def move(self):\n",
    "        print(\"Sail!\")\n",
    "\n",
    "class Plane:\n",
    "    def __init__(self, brand, model):\n",
    "        self.brand = brand\n",
    "        self.model = model\n",
    "\n",
    "    def move(self):\n",
    "        print(\"Fly!\")"
   ]
  },
  {
   "cell_type": "code",
   "execution_count": null,
   "id": "4b9725fd",
   "metadata": {},
   "outputs": [],
   "source": [
    "car1 = Car(\"Ford\", \"Mustang\")       #Create a Car class\n",
    "boat1 = Boat(\"Ibiza\", \"Touring 20\") #Create a Boat class\n",
    "plane1 = Plane(\"Boeing\", \"747\") "
   ]
  },
  {
   "cell_type": "code",
   "execution_count": null,
   "id": "de5abac2",
   "metadata": {},
   "outputs": [],
   "source": [
    "plane1.move()"
   ]
  },
  {
   "cell_type": "code",
   "execution_count": null,
   "id": "e8637b0a",
   "metadata": {},
   "outputs": [],
   "source": [
    "boat1.move()"
   ]
  },
  {
   "cell_type": "code",
   "execution_count": null,
   "id": "04e1a8d4",
   "metadata": {},
   "outputs": [],
   "source": [
    "car1.move()"
   ]
  },
  {
   "cell_type": "code",
   "execution_count": null,
   "id": "5cff940e",
   "metadata": {},
   "outputs": [],
   "source": [
    "class shape:\n",
    "    def calculate_area(self,i1, i2 = 0):\n",
    "        if i2 == 0:\n",
    "            return 3.14 * (i1**2)\n",
    "        else:\n",
    "            return i1 * i2"
   ]
  },
  {
   "cell_type": "code",
   "execution_count": null,
   "id": "38ac45cd",
   "metadata": {},
   "outputs": [],
   "source": [
    "circle = shape()"
   ]
  },
  {
   "cell_type": "code",
   "execution_count": null,
   "id": "5449eaf8",
   "metadata": {},
   "outputs": [],
   "source": [
    "circle.calculate_area(5)"
   ]
  },
  {
   "cell_type": "code",
   "execution_count": null,
   "id": "97ff8782",
   "metadata": {},
   "outputs": [],
   "source": [
    "circle.calculate_area(4,5)"
   ]
  },
  {
   "cell_type": "code",
   "execution_count": null,
   "id": "8edd989d",
   "metadata": {},
   "outputs": [],
   "source": [
    "class Shape:\n",
    "    def area(self,radius):\n",
    "        return 3.14 * (radius**2)\n",
    "    \n",
    "    def area(self, a,b):\n",
    "        return a*b"
   ]
  },
  {
   "cell_type": "code",
   "execution_count": null,
   "id": "286b4214",
   "metadata": {},
   "outputs": [],
   "source": [
    "obj = Shape()\n",
    "obj.area(5)"
   ]
  },
  {
   "cell_type": "code",
   "execution_count": null,
   "id": "c448b35b",
   "metadata": {},
   "outputs": [],
   "source": [
    "def fun1(a, b= 1):\n",
    "    return a +b"
   ]
  },
  {
   "cell_type": "code",
   "execution_count": null,
   "id": "b3cf34b9",
   "metadata": {},
   "outputs": [],
   "source": [
    "print(fun1(3,5))"
   ]
  },
  {
   "cell_type": "code",
   "execution_count": null,
   "id": "24cbc63d",
   "metadata": {},
   "outputs": [],
   "source": [
    "print(fun1(3))"
   ]
  },
  {
   "cell_type": "code",
   "execution_count": null,
   "id": "6c87d7f1",
   "metadata": {},
   "outputs": [],
   "source": [
    "class Shape:\n",
    "    def area(self, a, b = 0, c = 0):\n",
    "        if b == 0 and c == 0:\n",
    "            return 3.14 * a**2\n",
    "        elif c == 0 and b!=0:\n",
    "            return a*b\n",
    "        else:\n",
    "            return a*b*c\n",
    "        \n",
    "   "
   ]
  },
  {
   "cell_type": "code",
   "execution_count": null,
   "id": "1dc82755",
   "metadata": {},
   "outputs": [],
   "source": [
    "ob = Shape()"
   ]
  },
  {
   "cell_type": "code",
   "execution_count": null,
   "id": "7794083a",
   "metadata": {},
   "outputs": [],
   "source": [
    "ob.area(4)"
   ]
  },
  {
   "cell_type": "code",
   "execution_count": null,
   "id": "dde49079",
   "metadata": {},
   "outputs": [],
   "source": [
    "ob.area(4,5)"
   ]
  },
  {
   "cell_type": "code",
   "execution_count": null,
   "id": "f9c7733c",
   "metadata": {},
   "outputs": [],
   "source": [
    "ob.area(4,5,6)"
   ]
  },
  {
   "cell_type": "code",
   "execution_count": null,
   "id": "8beefcf7",
   "metadata": {},
   "outputs": [],
   "source": [
    "circle = Shape()\n",
    "rectange = Shape()"
   ]
  },
  {
   "cell_type": "code",
   "execution_count": null,
   "id": "9fe60d2b",
   "metadata": {},
   "outputs": [],
   "source": [
    "circle.area(5)"
   ]
  },
  {
   "cell_type": "code",
   "execution_count": null,
   "id": "a48b9cc3",
   "metadata": {},
   "outputs": [],
   "source": [
    "rectange.area(3,4)"
   ]
  },
  {
   "cell_type": "code",
   "execution_count": null,
   "id": "59656d62",
   "metadata": {},
   "outputs": [],
   "source": [
    "rectange.area(4,5,6)"
   ]
  },
  {
   "cell_type": "code",
   "execution_count": null,
   "id": "9c4cbc55",
   "metadata": {},
   "outputs": [],
   "source": [
    "obj1 = Shape()"
   ]
  },
  {
   "cell_type": "code",
   "execution_count": null,
   "id": "f3786fcd",
   "metadata": {},
   "outputs": [],
   "source": [
    "obj1.area(a = 4)"
   ]
  },
  {
   "cell_type": "code",
   "execution_count": null,
   "id": "edc4ad22",
   "metadata": {},
   "outputs": [],
   "source": [
    "obj1.area(2,3,4)"
   ]
  },
  {
   "cell_type": "code",
   "execution_count": null,
   "id": "4f62aa9d",
   "metadata": {},
   "outputs": [],
   "source": [
    "obj1.area(2,3)"
   ]
  },
  {
   "cell_type": "code",
   "execution_count": null,
   "id": "48e6fce1",
   "metadata": {},
   "outputs": [],
   "source": [
    "class Shape:\n",
    "    def draw(self):\n",
    "        pass\n",
    "\n",
    "class Circle(Shape):\n",
    "    def draw(self):\n",
    "        print(\"Drawing a circle\")\n",
    "\n",
    "class Square(Shape):\n",
    "    def draw(self):\n",
    "        print(\"Drawing a square\")\n",
    "\n"
   ]
  },
  {
   "cell_type": "code",
   "execution_count": null,
   "id": "48b85a30",
   "metadata": {},
   "outputs": [],
   "source": [
    "# Using polymorphism\n",
    "shapes = [Circle(), Square()]\n",
    "for shape in shapes:\n",
    "    shape.draw()"
   ]
  },
  {
   "cell_type": "markdown",
   "id": "dd5cfb05",
   "metadata": {},
   "source": [
    "---\n",
    "## ABSTRACTION :\n",
    "- Abstraction is the process of hiding the implementation details of a class from the user and exposing only the essential features.\n",
    "- Abstract classes cannot be instantiated and serve as templates for other classes to inherit from."
   ]
  },
  {
   "cell_type": "code",
   "execution_count": null,
   "id": "2478838c",
   "metadata": {},
   "outputs": [],
   "source": [
    "from abc import ABC, abstractmethod\n",
    "\n",
    "# ABSTRACT CLASS\n",
    "class socail_media(ABC):\n",
    "    def database(self):\n",
    "        print(\"Database connected !!!!!\") \n",
    "        \n",
    "    @abstractmethod\n",
    "    def security(self):\n",
    "        pass"
   ]
  },
  {
   "cell_type": "code",
   "execution_count": null,
   "id": "d0ca913a",
   "metadata": {},
   "outputs": [],
   "source": [
    "class Mobile(socail_media):\n",
    "    def mobile_app(self):\n",
    "        print(\"MOBILE APP IS RINNING\")\n",
    "    \n",
    "    def security(self):\n",
    "        print(\"MOBILE CONNECTION IS SECURED..\")"
   ]
  },
  {
   "cell_type": "code",
   "execution_count": null,
   "id": "3006d62b",
   "metadata": {},
   "outputs": [],
   "source": [
    "class Webapp(socail_media):\n",
    "    def webapp(self):\n",
    "        print(\"WEBAPP IS RUNNING.......\")\n",
    "        \n",
    "    def security(self):\n",
    "        print(\"WEB CONNECTION IS SECURED..\")"
   ]
  },
  {
   "cell_type": "code",
   "execution_count": null,
   "id": "7f8bc298",
   "metadata": {},
   "outputs": [],
   "source": [
    "m1 = Mobile()"
   ]
  },
  {
   "cell_type": "code",
   "execution_count": null,
   "id": "2a34b7aa",
   "metadata": {},
   "outputs": [],
   "source": [
    "m1.mobile_app()"
   ]
  },
  {
   "cell_type": "code",
   "execution_count": null,
   "id": "d76c34c8",
   "metadata": {},
   "outputs": [],
   "source": [
    "w1 = Webapp()"
   ]
  },
  {
   "cell_type": "code",
   "execution_count": null,
   "id": "e30d5162",
   "metadata": {},
   "outputs": [],
   "source": [
    "w1.database()"
   ]
  },
  {
   "cell_type": "code",
   "execution_count": null,
   "id": "99f55a84",
   "metadata": {},
   "outputs": [],
   "source": []
  },
  {
   "cell_type": "code",
   "execution_count": null,
   "id": "7968b34e",
   "metadata": {},
   "outputs": [],
   "source": [
    "from abc import ABC, abstractmethod\n",
    "\n",
    "class BankAccount(ABC):\n",
    "    def __init__(self, account_number, balance):\n",
    "        self.account_number = account_number\n",
    "        self.balance = balance\n",
    "\n",
    "    @abstractmethod\n",
    "    def deposit(self, amount):\n",
    "        pass\n",
    "\n",
    "    @abstractmethod\n",
    "    def withdraw(self, amount):\n",
    "        pass\n",
    "\n",
    "    def get_balance(self):\n",
    "        return self.balance\n",
    "    \n",
    "    @abstractmethod\n",
    "    def security(self):\n",
    "        pass\n",
    "\n",
    "    \n",
    "    \n",
    "class SavingsAccount(BankAccount):\n",
    "    def __init__(self, account_number, balance):\n",
    "        super().__init__(account_number, balance)\n",
    "\n",
    "    def deposit(self, amount):\n",
    "        if amount > 0:\n",
    "            self.balance += amount\n",
    "\n",
    "    def withdraw(self, amount):\n",
    "        if 0 < amount <= self.balance:\n",
    "            self.balance -= amount\n",
    "        \n",
    "    def security(self):\n",
    "        print(\"Is secure\")\n",
    "\n",
    "            \n",
    "            \n",
    "class CurrentAccount(BankAccount):\n",
    "    def __init__(self, account_number, balance):\n",
    "        super().__init__(account_number, balance)\n",
    "\n",
    "    def deposit(self, amount):\n",
    "        if amount > 0:\n",
    "            self.balance += amount\n",
    "\n",
    "    def withdraw(self, amount):\n",
    "        if 0 < amount <= self.balance:\n",
    "            self.balance -= amount\n",
    "        \n",
    "    def security(self):\n",
    "        print(\"Is secure\")"
   ]
  },
  {
   "cell_type": "code",
   "execution_count": null,
   "id": "57d44bec",
   "metadata": {},
   "outputs": [],
   "source": [
    "# Using abstraction\n",
    "savings_account = SavingsAccount(\"12345\", 5000)\n",
    "current_account = CurrentAccount(\"67890\", 10000)"
   ]
  },
  {
   "cell_type": "code",
   "execution_count": null,
   "id": "081690c2",
   "metadata": {},
   "outputs": [],
   "source": [
    "savings_account.deposit(2000)\n",
    "current_account.withdraw(500)\n",
    "\n",
    "print(\"Savings Account Balance:\", savings_account.get_balance())  # Output: 7000\n",
    "print(\"Current Account Balance:\", current_account.get_balance())  # Output: 9500"
   ]
  },
  {
   "cell_type": "markdown",
   "id": "40f5d3ff",
   "metadata": {},
   "source": [
    "---\n",
    "- The user of the Bank Account Management System only interacts with the simple interface provided by the abstract base class (BankAccount). The internal details of how deposits and withdrawals are handled are hidden (abstracted) from the user, providing a clean and easy-to-use interface for managing bank accounts.\n",
    "---"
   ]
  },
  {
   "cell_type": "code",
   "execution_count": null,
   "id": "4127891a",
   "metadata": {},
   "outputs": [],
   "source": [
    "l = ['s',4,21,'4']\n",
    "for index,value in enumerate(l,start=1):\n",
    "    print(index,value)"
   ]
  },
  {
   "cell_type": "code",
   "execution_count": null,
   "id": "88c72370",
   "metadata": {},
   "outputs": [],
   "source": [
    "# enumerate\n",
    "l = ['abc','xyz','bdf']\n",
    "list(enumerate(l,start = 1))"
   ]
  },
  {
   "cell_type": "code",
   "execution_count": null,
   "id": "0f0dad25",
   "metadata": {},
   "outputs": [],
   "source": [
    "'''\n",
    "Project Overview:\n",
    "The Task Manager will have the following features:\n",
    "\n",
    "1. Add a new task with a title and description.\n",
    "2. View all tasks with their details.\n",
    "3. Mark a task as completed.\n",
    "4. Remove a task from the list.\n",
    "'''\n",
    "\n",
    "\n",
    "class Task:\n",
    "    def __init__(self, title, description):\n",
    "        self.title = title\n",
    "        self.description = description\n",
    "        self.completed = False\n",
    "        \n",
    "        \n",
    "    def mark_completed(self):\n",
    "        self.completed = True\n",
    "        \n",
    "        \n",
    "class TaskManager:\n",
    "    def __init__(self):\n",
    "        self.tasks = []\n",
    "        \n",
    "    def add_task(self, title, description):\n",
    "        task = Task(title,description)\n",
    "        self.tasks.append(task)\n",
    "    \n",
    "    def view_task(self):\n",
    "        for index, task in enumerate(self.tasks,start=1):\n",
    "            status = \"completed\" if task.completed else \"Not completed\"\n",
    "            print(f\"{index}. Title: {task.title}, Description: {task.description}, Status: {status}\")\n",
    "     \n",
    "    def mark_completed(self, task_index):\n",
    "        if 1 <= task_index <= len(self.tasks):\n",
    "            task = self.tasks[task_index-1]\n",
    "            task.mark_completed()\n",
    "        else:\n",
    "            print('Invalid task number...')\n",
    "            \n",
    "    def remove_task(self, task_index):\n",
    "        if 1 <= task_index <= len(self.tasks):\n",
    "            self.tasks.pop(task_index-1)\n",
    "        else:\n",
    "            print(\"Invalid Task index.\")\n",
    "            \n",
    "def main():\n",
    "     task_manager = TaskManager()\n",
    "     \n",
    "     while True:\n",
    "        print(\"\\nTask Manager Menu:\")\n",
    "        print(\"1. Add Task\")\n",
    "        print(\"2. View Tasks\")\n",
    "        print(\"3. Mark Task as Completed\")\n",
    "        print(\"4. Remove Task\")\n",
    "        print(\"5. Exit\")\n",
    "\n",
    "        choice = input(\"Enter your choice: \")\n",
    "        \n",
    "        if choice == '1':\n",
    "            title = input(\"Enter task title: \")\n",
    "            description = input(\"Enter task description: \")\n",
    "            task_manager.add_task(title, description)\n",
    "            print(\"Task added succssully!..\")\n",
    "            \n",
    "        elif choice == '2':\n",
    "            task_manager.view_task()    \n",
    "            \n",
    "        elif choice == '3':\n",
    "            task_index = int(input(\"Enter the task number to mark as completed: \"))\n",
    "            task_manager.mark_completed(task_index)\n",
    "            \n",
    "        elif choice == '4':\n",
    "            task_index = int(input(\"Enter the task number to remove: \"))\n",
    "            task_manager.remove_task(task_index)\n",
    "            \n",
    "        elif choice == '5':\n",
    "            print(\"Exiting Task Manager.\")\n",
    "            break\n",
    "        else:\n",
    "            print(\"Invalid choice. Please try again.\")        "
   ]
  },
  {
   "cell_type": "code",
   "execution_count": null,
   "id": "d474798e",
   "metadata": {},
   "outputs": [],
   "source": [
    "if __name__ == \"__main__\":\n",
    "    main()\n",
    "            "
   ]
  },
  {
   "cell_type": "code",
   "execution_count": null,
   "id": "c3cc4483",
   "metadata": {},
   "outputs": [],
   "source": [
    "main()"
   ]
  },
  {
   "cell_type": "code",
   "execution_count": null,
   "id": "22feb4e1",
   "metadata": {},
   "outputs": [],
   "source": [
    "l = ['adf',4,'4ff',9]\n",
    "for i in l:\n",
    "    print(i)"
   ]
  },
  {
   "cell_type": "code",
   "execution_count": null,
   "id": "b4d157b1",
   "metadata": {},
   "outputs": [],
   "source": [
    "for index, value in enumerate(l,start=1):\n",
    "    print(index, \": \", value)"
   ]
  },
  {
   "cell_type": "code",
   "execution_count": null,
   "id": "9f95cad0",
   "metadata": {},
   "outputs": [],
   "source": [
    "\n",
    "class Task:\n",
    "    def __init__(self, title, description):\n",
    "        self.title = title\n",
    "        self.description = description\n",
    "        self.completed = False\n",
    "        \n",
    "        \n",
    "    def mark_completed(self):\n",
    "        self.completed = True\n",
    "        "
   ]
  },
  {
   "cell_type": "code",
   "execution_count": null,
   "id": "fc2106f8",
   "metadata": {},
   "outputs": [],
   "source": [
    "task1 = Task('read books', 'boodfskjfskaf')"
   ]
  },
  {
   "cell_type": "code",
   "execution_count": null,
   "id": "d18a890a",
   "metadata": {},
   "outputs": [],
   "source": [
    "task2 = Task('dosomething','sfdafhashd')"
   ]
  },
  {
   "cell_type": "code",
   "execution_count": null,
   "id": "48680881",
   "metadata": {},
   "outputs": [],
   "source": [
    "tasks = [task1,task2]"
   ]
  },
  {
   "cell_type": "code",
   "execution_count": null,
   "id": "ce9b9920",
   "metadata": {},
   "outputs": [],
   "source": [
    "task1.mark_completed() "
   ]
  },
  {
   "cell_type": "code",
   "execution_count": null,
   "id": "46c67dc3",
   "metadata": {},
   "outputs": [],
   "source": [
    " for index, task in enumerate(tasks,start=1):\n",
    "        status = \"Completed\" if task.completed else \"Not completed\"\n",
    "        print(f\"{index}. Title: {task.title}, Description: {task.description}, Status: {status}\")"
   ]
  },
  {
   "cell_type": "code",
   "execution_count": null,
   "id": "335c41fb",
   "metadata": {},
   "outputs": [],
   "source": []
  }
 ],
 "metadata": {
  "kernelspec": {
   "display_name": "Python 3 (ipykernel)",
   "language": "python",
   "name": "python3"
  },
  "language_info": {
   "codemirror_mode": {
    "name": "ipython",
    "version": 3
   },
   "file_extension": ".py",
   "mimetype": "text/x-python",
   "name": "python",
   "nbconvert_exporter": "python",
   "pygments_lexer": "ipython3",
   "version": "3.11.4"
  }
 },
 "nbformat": 4,
 "nbformat_minor": 5
}
