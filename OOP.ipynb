{
 "cells": [
  {
   "cell_type": "code",
   "execution_count": 1,
   "id": "89ef2297",
   "metadata": {},
   "outputs": [],
   "source": [
    "l = list([1,2,3,4])"
   ]
  },
  {
   "cell_type": "code",
   "execution_count": 2,
   "id": "79e914de",
   "metadata": {},
   "outputs": [
    {
     "ename": "AttributeError",
     "evalue": "'list' object has no attribute 'upper'",
     "output_type": "error",
     "traceback": [
      "\u001b[1;31m---------------------------------------------------------------------------\u001b[0m",
      "\u001b[1;31mAttributeError\u001b[0m                            Traceback (most recent call last)",
      "Cell \u001b[1;32mIn[2], line 1\u001b[0m\n\u001b[1;32m----> 1\u001b[0m \u001b[43ml\u001b[49m\u001b[38;5;241;43m.\u001b[39;49m\u001b[43mupper\u001b[49m()\n",
      "\u001b[1;31mAttributeError\u001b[0m: 'list' object has no attribute 'upper'"
     ]
    }
   ],
   "source": [
    "l.upper()"
   ]
  },
  {
   "cell_type": "code",
   "execution_count": null,
   "id": "eedab1f7",
   "metadata": {},
   "outputs": [],
   "source": [
    "print(type(l))"
   ]
  },
  {
   "cell_type": "code",
   "execution_count": null,
   "id": "d76738fa",
   "metadata": {},
   "outputs": [],
   "source": [
    "string = 'str'\n",
    "print(type(string))"
   ]
  },
  {
   "cell_type": "code",
   "execution_count": null,
   "id": "5b42a321",
   "metadata": {},
   "outputs": [],
   "source": [
    "string.append()"
   ]
  },
  {
   "cell_type": "markdown",
   "id": "4bf7ffe1",
   "metadata": {},
   "source": [
    "# Object Oriented Programming :\n",
    "- Object-Oriented Programming is a way of organizing and designing code in Python (and many other programming languages) that mimics how we think about and interact with objects in the real world. \n",
    "- In OOP, we create \"objects\" that represent real-world entities, and these objects have \"attributes\" (characteristics) and \"methods\" (actions) that define their behavior.\n",
    "- It brings structure, organization, and reusability to our code, making it more efficient and easier to manage.\n",
    "- OOP is a fundamental concept in modern programming and widely used in creating complex applications and software systems."
   ]
  },
  {
   "cell_type": "markdown",
   "id": "5749efed",
   "metadata": {},
   "source": [
    "### 1. Class:\n",
    "- In OOP, a class is like a blueprint that defines the structure of an object. \n",
    "- A class describes what a specific type of object can do and what attributes it has. \n",
    "- For example, the DOG class will describe what a Dog is and what attributes and methods it should have."
   ]
  },
  {
   "cell_type": "code",
   "execution_count": null,
   "id": "d0aa4269",
   "metadata": {},
   "outputs": [],
   "source": [
    "class Dog:\n",
    "    def __init__(self, name, age, breed):\n",
    "        self.name = name\n",
    "        self.age = age\n",
    "        self.breed = breed\n",
    "\n",
    "    def bark(self):\n",
    "        return \"Woof! Woof!\"\n",
    "\n",
    "    def fetch(self, item):\n",
    "        return f\"{self.name} fetches the {item}.\"\n",
    "    \n",
    "    def greet(self,name):\n",
    "        return f\"{self.name} greets {name}.\"\n"
   ]
  },
  {
   "cell_type": "markdown",
   "id": "d6e106d8",
   "metadata": {},
   "source": [
    "### 2. Object:\n",
    "- An object is a specific instance created from a class. \n",
    "- In our Dog example, each individual dog we create will be an object. \n",
    "- Each dog object will have its own unique name, age, and breed."
   ]
  },
  {
   "cell_type": "code",
   "execution_count": null,
   "id": "551e7a1f",
   "metadata": {},
   "outputs": [],
   "source": [
    "dog1 = Dog(\"Buddy\", 3, \"Labrador\")\n",
    "dog2 = Dog(\"Max\", 5, \"Golden Retriever\")"
   ]
  },
  {
   "cell_type": "code",
   "execution_count": null,
   "id": "5ad55ce9",
   "metadata": {},
   "outputs": [],
   "source": [
    "dog2.bark()"
   ]
  },
  {
   "cell_type": "code",
   "execution_count": null,
   "id": "502bdb46",
   "metadata": {},
   "outputs": [],
   "source": [
    "dog1.bark()"
   ]
  },
  {
   "cell_type": "code",
   "execution_count": null,
   "id": "57193ea5",
   "metadata": {},
   "outputs": [],
   "source": [
    "dog1.greet('abc')"
   ]
  },
  {
   "cell_type": "code",
   "execution_count": null,
   "id": "08d313e7",
   "metadata": {},
   "outputs": [],
   "source": [
    "dog2.greet('xyz')"
   ]
  },
  {
   "cell_type": "markdown",
   "id": "87b0f13a",
   "metadata": {},
   "source": [
    "### 3. Attributes:\n",
    "- Attributes are characteristics of an object. \n",
    "- In our Dog example, the attributes are the name, age, and breed of each dog.\n",
    "- They help describe the dog's identity."
   ]
  },
  {
   "cell_type": "code",
   "execution_count": null,
   "id": "266d40ce",
   "metadata": {},
   "outputs": [],
   "source": [
    "print(dog1.name)  # Output: \"Buddy\"\n",
    "print(dog2.age)   # Output: 5\n"
   ]
  },
  {
   "cell_type": "markdown",
   "id": "6ba38d20",
   "metadata": {},
   "source": [
    "### 4. Methods:\n",
    "- Methods are actions that an object can perform. \n",
    "- In our Dog example, methods could be actions like barking or fetching an item.\n",
    "- Methods define what the dog can do."
   ]
  },
  {
   "cell_type": "code",
   "execution_count": null,
   "id": "a9d24141",
   "metadata": {},
   "outputs": [],
   "source": [
    "print(dog1.bark())  # Output: \"Woof! Woof!\"\n",
    "print(dog2.fetch(\"ball\"))  # Output: \"Max fetches the ball.\""
   ]
  },
  {
   "cell_type": "markdown",
   "id": "f28a9e1c",
   "metadata": {},
   "source": [
    "### Advantages of OOP:\n",
    "\n",
    "**OOP provides several benefits, including:**\n",
    "\n",
    "1. `Code Reusability:` You can create multiple objects from a single class, promoting code reuse and reducing duplication.\n",
    "2. `Modularity:` OOP allows you to divide your code into small, manageable pieces (objects), making it easier to maintain and understand.\n",
    "3. `Encapsulation:` Encapsulation hides the internal details of an object, making it easier to use and less prone to errors.\n",
    "4. `Inheritance:` Inheritance allows you to create new classes that inherit attributes and methods from existing classes, promoting code reuse and extending functionality.\n",
    "5. `Polymorphism:` Polymorphism allows you to use objects of different classes interchangeably, providing flexibility in coding."
   ]
  },
  {
   "cell_type": "code",
   "execution_count": null,
   "id": "aa7d3a96",
   "metadata": {},
   "outputs": [],
   "source": [
    "str.append()"
   ]
  },
  {
   "cell_type": "code",
   "execution_count": null,
   "id": "a1c8dba3",
   "metadata": {},
   "outputs": [],
   "source": [
    "list.upper()"
   ]
  },
  {
   "cell_type": "code",
   "execution_count": null,
   "id": "0ff4360d",
   "metadata": {},
   "outputs": [],
   "source": [
    "class Account:\n",
    "    def __init__(self,a_number, c_name, balance):\n",
    "        self.accoun_number = a_number\n",
    "        self.customer_name = c_name\n",
    "        self.balance = balance\n",
    "        \n",
    "    def deposit(self, amount : float) -> float:\n",
    "        self.balance += amount\n",
    "        print(\"Successfully Deposited\")\n",
    "        \n",
    "    def withdraw(self, amount):\n",
    "        if amount < self.balance:\n",
    "            self.balance -= amount\n",
    "            print(f\"Successfully withdrawn {amount}\")\n",
    "        else:\n",
    "            print(\"Gareeb\")\n",
    "            \n",
    "    def get_balance(self):\n",
    "        return self.balance\n",
    "    \n",
    "    def display_info(self):\n",
    "        print(f\"Your account number is : {self.accoun_number}\")\n",
    "        print(f\"Your balance is : {self.balance}\")\n",
    "        print(f\"YOur name is : {self.customer_name}\")"
   ]
  },
  {
   "cell_type": "code",
   "execution_count": null,
   "id": "e36187f7",
   "metadata": {},
   "outputs": [],
   "source": [
    "c1 = Account('122334455', 'Justin', 2000)"
   ]
  },
  {
   "cell_type": "code",
   "execution_count": null,
   "id": "17c1b73c",
   "metadata": {},
   "outputs": [],
   "source": [
    "c1.deposit(500)"
   ]
  },
  {
   "cell_type": "code",
   "execution_count": null,
   "id": "f9d61c4b",
   "metadata": {},
   "outputs": [],
   "source": [
    "c1.balance"
   ]
  },
  {
   "cell_type": "code",
   "execution_count": null,
   "id": "e01a6ef0",
   "metadata": {},
   "outputs": [],
   "source": [
    "c1.withdraw(600)"
   ]
  },
  {
   "cell_type": "code",
   "execution_count": null,
   "id": "e179769e",
   "metadata": {},
   "outputs": [],
   "source": [
    "c1.balance"
   ]
  },
  {
   "cell_type": "code",
   "execution_count": null,
   "id": "d544cb56",
   "metadata": {},
   "outputs": [],
   "source": [
    "c1.display_info()"
   ]
  },
  {
   "cell_type": "code",
   "execution_count": null,
   "id": "27862066",
   "metadata": {},
   "outputs": [],
   "source": [
    "c2 = Account('234234','Dustin',5000)"
   ]
  },
  {
   "cell_type": "code",
   "execution_count": null,
   "id": "c5fd77ef",
   "metadata": {},
   "outputs": [],
   "source": [
    "c2.display_info()"
   ]
  },
  {
   "cell_type": "code",
   "execution_count": null,
   "id": "9791e0a9",
   "metadata": {},
   "outputs": [],
   "source": [
    "c2.deposit(5000)"
   ]
  },
  {
   "cell_type": "code",
   "execution_count": null,
   "id": "21ad84c1",
   "metadata": {},
   "outputs": [],
   "source": [
    "c2.withdraw(3000)"
   ]
  },
  {
   "cell_type": "code",
   "execution_count": null,
   "id": "610baf88",
   "metadata": {},
   "outputs": [],
   "source": [
    "c1.deposit(50000)"
   ]
  },
  {
   "cell_type": "code",
   "execution_count": null,
   "id": "9759c866",
   "metadata": {},
   "outputs": [],
   "source": [
    "c1.display_info()"
   ]
  },
  {
   "cell_type": "code",
   "execution_count": null,
   "id": "e63c8281",
   "metadata": {},
   "outputs": [],
   "source": [
    "c2.display_info()"
   ]
  },
  {
   "cell_type": "code",
   "execution_count": null,
   "id": "86d8fc6e",
   "metadata": {},
   "outputs": [],
   "source": [
    "class Account:\n",
    "    def __init__(self, account_number, customer_name, balance):\n",
    "        self.account_number = account_number\n",
    "        self.customer_name = customer_name\n",
    "        self.balance = balance\n",
    "\n",
    "    def deposit(self, amount):\n",
    "        self.balance += amount\n",
    "\n",
    "    def withdraw(self, amount):\n",
    "        if self.balance >= amount:\n",
    "            self.balance -= amount\n",
    "        else:\n",
    "            print(\"Insufficient balance!\")\n",
    "\n",
    "    def get_balance(self):\n",
    "        return self.balance\n",
    "\n",
    "    def display_info(self):\n",
    "        print(f\"Account Number: {self.account_number}\")\n",
    "        print(f\"Customer Name: {self.customer_name}\")\n",
    "        print(f\"Balance: {self.balance}\")"
   ]
  },
  {
   "cell_type": "code",
   "execution_count": null,
   "id": "eb6651f8",
   "metadata": {},
   "outputs": [],
   "source": [
    "# Create a new account\n",
    "account1 = Account(\"A001\", \"Alice\", 1000)\n",
    "\n",
    "# Deposit and withdraw from the account\n",
    "account1.deposit(500)\n",
    "account1.withdraw(200)\n",
    "\n",
    "# Display the account information\n",
    "account1.display_info()"
   ]
  },
  {
   "cell_type": "markdown",
   "id": "ee4b5b4b",
   "metadata": {},
   "source": [
    "---"
   ]
  },
  {
   "cell_type": "code",
   "execution_count": null,
   "id": "64fd392e",
   "metadata": {},
   "outputs": [],
   "source": []
  },
  {
   "cell_type": "code",
   "execution_count": null,
   "id": "be303854",
   "metadata": {},
   "outputs": [],
   "source": [
    "id(c1)"
   ]
  },
  {
   "cell_type": "code",
   "execution_count": 2,
   "id": "fff1029f",
   "metadata": {},
   "outputs": [],
   "source": [
    "class Atm:\n",
    "    def __init__(self):\n",
    "        self.pin = ''\n",
    "        self.balance = 0\n",
    "        self.menu()\n",
    "        \n",
    "    def menu(self):\n",
    "        user_input = input(\"\"\"\n",
    "        Hi how can I help you?\n",
    "        1. Press 1 to create pin\n",
    "        2. Press 2 to change pin\n",
    "        3. Press 3 to check balance\n",
    "        4. Press 4 to withdraw\n",
    "        5. Anything else to exit\n",
    "        \"\"\")\n",
    "        \n",
    "        if user_input == '1':\n",
    "            self.create_pin()\n",
    "        elif user_input == '2':\n",
    "            self.change_pin()\n",
    "        elif user_input == '3':\n",
    "            self.check_balance()\n",
    "        elif user_input == '4':\n",
    "            self.withdraw()\n",
    "        else:\n",
    "            exit()\n",
    "            \n",
    "        \n",
    "    def create_pin(self):\n",
    "        self.pin =  input('Enter your pin: ')\n",
    "\n",
    "        user_balance = int(input('Enter balance: '))\n",
    "        self.balance = user_balance\n",
    "\n",
    "        print('Pin created successfully!')\n",
    "        self.menu()\n",
    "\n",
    "\n",
    "    def change_pin(self):\n",
    "        old_pin = input('Enter old pin: ')\n",
    "\n",
    "        if old_pin == self.pin:\n",
    "            new_pin = input('Enter new pin: ')\n",
    "            self.pin = new_pin\n",
    "            print('Pin change successful!')\n",
    "            self.menu()\n",
    "        else:\n",
    "            print('Cannot change pin! Incorrect old pin.')\n",
    "            self.menu()\n",
    "\n",
    "\n",
    "    def check_balance(self):\n",
    "        old_pin = input('Enter old pin: ')\n",
    "\n",
    "        if old_pin == self.pin:\n",
    "            print(f\"YOur balance is {self.balance}\")\n",
    "            self.menu()\n",
    "        else :\n",
    "            print(\"CHor chor\")\n",
    "            self.menu()\n",
    "\n",
    "\n",
    "    def withdraw(self):\n",
    "        old_pin = input('Enter old pin: ')\n",
    "\n",
    "        if old_pin == self.pin:\n",
    "            amount_to_withdraw = int(input(\"Enter the amount : \"))\n",
    "\n",
    "            if amount_to_withdraw < self.balance :\n",
    "                self.balance -= amount_to_withdraw\n",
    "                print(f\"Amount withdrawn successfully, balance is {self.balance}\")\n",
    "                self.menu()\n",
    "            else :\n",
    "                print(\"Paise nahi hai tere pass itne\")\n",
    "                self.menu()\n",
    "        else :\n",
    "            print(\"CHor chor\")\n",
    "            self.menu()\n",
    "\n",
    "        \n",
    "\n",
    "            \n",
    "        \n",
    "        "
   ]
  },
  {
   "cell_type": "code",
   "execution_count": 3,
   "id": "3cc9ab0d",
   "metadata": {},
   "outputs": [
    {
     "name": "stdout",
     "output_type": "stream",
     "text": [
      "\n",
      "        Hi how can I help you?\n",
      "        1. Press 1 to create pin\n",
      "        2. Press 2 to change pin\n",
      "        3. Press 3 to check balance\n",
      "        4. Press 4 to withdraw\n",
      "        5. Anything else to exit\n",
      "        1\n",
      "Enter your pin: 8899\n",
      "Enter balance: 60000\n",
      "Pin created successfully!\n",
      "\n",
      "        Hi how can I help you?\n",
      "        1. Press 1 to create pin\n",
      "        2. Press 2 to change pin\n",
      "        3. Press 3 to check balance\n",
      "        4. Press 4 to withdraw\n",
      "        5. Anything else to exit\n",
      "        3\n",
      "Enter old pin: 8899\n",
      "YOur balance is 60000\n",
      "\n",
      "        Hi how can I help you?\n",
      "        1. Press 1 to create pin\n",
      "        2. Press 2 to change pin\n",
      "        3. Press 3 to check balance\n",
      "        4. Press 4 to withdraw\n",
      "        5. Anything else to exit\n",
      "        4\n",
      "Enter old pin: 8899\n",
      "Enter the amount : 70000\n",
      "Paise nahi hai tere pass itne\n",
      "\n",
      "        Hi how can I help you?\n",
      "        1. Press 1 to create pin\n",
      "        2. Press 2 to change pin\n",
      "        3. Press 3 to check balance\n",
      "        4. Press 4 to withdraw\n",
      "        5. Anything else to exit\n",
      "        4\n",
      "Enter old pin: 8899\n",
      "Enter the amount : 5000\n",
      "Amount withdrawn successfully, balance is 55000\n",
      "\n",
      "        Hi how can I help you?\n",
      "        1. Press 1 to create pin\n",
      "        2. Press 2 to change pin\n",
      "        3. Press 3 to check balance\n",
      "        4. Press 4 to withdraw\n",
      "        5. Anything else to exit\n",
      "        q\n"
     ]
    }
   ],
   "source": [
    "badlapur_atm  = Atm()"
   ]
  },
  {
   "cell_type": "code",
   "execution_count": 3,
   "id": "dd7d4cdf",
   "metadata": {},
   "outputs": [],
   "source": [
    "class Atm:\n",
    "    def __init__(self):\n",
    "        print(id(self))\n",
    "        self.pin = ''\n",
    "        self.balance = 0\n",
    "        self.menu()\n",
    "\n",
    "    def menu(self):\n",
    "        user_input = input(\"\"\"\n",
    "        Hi how can I help you?\n",
    "        1. Press 1 to create pin\n",
    "        2. Press 2 to change pin\n",
    "        3. Press 3 to check balance\n",
    "        4. Press 4 to withdraw\n",
    "        5. Anything else to exit\n",
    "        \"\"\")\n",
    "\n",
    "        if user_input == '1':\n",
    "            self.create_pin()\n",
    "        elif user_input == '2':\n",
    "            self.change_pin()\n",
    "        elif user_input == '3':\n",
    "            self.check_balance()\n",
    "        elif user_input == '4':\n",
    "            self.withdraw()\n",
    "        else:\n",
    "            exit()\n",
    "\n",
    "    def create_pin(self):\n",
    "        user_pin = input('Enter your pin: ')\n",
    "        self.pin = user_pin\n",
    "\n",
    "        user_balance = int(input('Enter balance: '))\n",
    "        self.balance = user_balance\n",
    "\n",
    "        print('Pin created successfully!')\n",
    "        self.menu()\n",
    "\n",
    "    def change_pin(self):\n",
    "        old_pin = input('Enter old pin: ')\n",
    "\n",
    "        if old_pin == self.pin:\n",
    "            new_pin = input('Enter new pin: ')\n",
    "            self.pin = new_pin\n",
    "            print('Pin change successful!')\n",
    "            self.menu()\n",
    "        else:\n",
    "            print('Cannot change pin! Incorrect old pin.')\n",
    "            self.menu()\n",
    "\n",
    "    def check_balance(self):\n",
    "        user_pin = input('Enter your pin: ')\n",
    "        if user_pin == self.pin:\n",
    "            print('Your balance is', self.balance)\n",
    "        else:\n",
    "            print('Incorrect pin!')\n",
    "        self.menu()\n",
    "\n",
    "    def withdraw(self):\n",
    "        user_pin = input('Enter your pin: ')\n",
    "        if user_pin == self.pin:\n",
    "            amount = int(input('Enter the amount: '))\n",
    "            if amount <= self.balance:\n",
    "                self.balance -= amount\n",
    "                print('Withdrawal successful. Balance is', self.balance)\n",
    "            else:\n",
    "                print('Insufficient balance!')\n",
    "        else:\n",
    "            print('Incorrect pin!')\n",
    "        self.menu()"
   ]
  },
  {
   "cell_type": "code",
   "execution_count": 4,
   "id": "5937d86a",
   "metadata": {},
   "outputs": [
    {
     "name": "stdout",
     "output_type": "stream",
     "text": [
      "2256885205456\n",
      "\n",
      "        Hi how can I help you?\n",
      "        1. Press 1 to create pin\n",
      "        2. Press 2 to change pin\n",
      "        3. Press 3 to check balance\n",
      "        4. Press 4 to withdraw\n",
      "        5. Anything else to exit\n",
      "        h\n"
     ]
    }
   ],
   "source": [
    "# Create an ATM object and start the banking operations\n",
    "atm = Atm()"
   ]
  },
  {
   "cell_type": "code",
   "execution_count": null,
   "id": "b4f8cfd4",
   "metadata": {},
   "outputs": [],
   "source": []
  },
  {
   "cell_type": "code",
   "execution_count": null,
   "id": "f015c793",
   "metadata": {},
   "outputs": [],
   "source": [
    "atm2 = Atm()"
   ]
  },
  {
   "cell_type": "code",
   "execution_count": null,
   "id": "13d21d7a",
   "metadata": {},
   "outputs": [],
   "source": [
    "atm2.withdraw()"
   ]
  },
  {
   "cell_type": "code",
   "execution_count": null,
   "id": "d110d936",
   "metadata": {},
   "outputs": [],
   "source": []
  },
  {
   "cell_type": "code",
   "execution_count": null,
   "id": "9a715547",
   "metadata": {},
   "outputs": [],
   "source": [
    "class Fraction:\n",
    "    def __init__(self, x,y):\n",
    "        self.num = x\n",
    "        self.den = y\n",
    "    \n",
    "    def __str__(self):\n",
    "        return f\"{self.num}/{self.den}\"\n",
    "    \n",
    "    def __add__(self, other):\n",
    "        new_num = self.num * other.den + other.num * self.num\n",
    "        new_den = self.den * other.den\n",
    "        return f\"{new_num}/{new_den}\"\n",
    "    \n",
    "    def __sub__(self, other):\n",
    "        new_num = self.num * other.den - other.num * self.num\n",
    "        new_den = self.den * other.den\n",
    "        return f\"{new_num}/{new_den}\"\n",
    "    \n",
    "    def __mul__(self, other):\n",
    "        new_num = self.num * other.num\n",
    "        new_den = self.den * other.den\n",
    "        return f\"{new_num}/{new_den}\"\n",
    "\n",
    "    def __truediv__(self, other):\n",
    "        new_num = self.num * other.den\n",
    "        new_den = self.den * other.num\n",
    "        return f\"{new_num}/{new_den}\"\n",
    "    \n",
    "    def convert_to_decimal(self):\n",
    "        return self.num / self.den"
   ]
  },
  {
   "cell_type": "code",
   "execution_count": null,
   "id": "55a5d5fb",
   "metadata": {},
   "outputs": [],
   "source": [
    "obj1 = Fraction(1,4)\n",
    "print(obj1)"
   ]
  },
  {
   "cell_type": "code",
   "execution_count": null,
   "id": "e083155e",
   "metadata": {},
   "outputs": [],
   "source": [
    "obj2 = Fraction(4,6)\n",
    "print(obj2)"
   ]
  },
  {
   "cell_type": "code",
   "execution_count": null,
   "id": "47ff77b4",
   "metadata": {},
   "outputs": [],
   "source": [
    "print(obj1+obj2)\n",
    "print(obj1-obj2)\n",
    "print(obj1*obj2)\n",
    "print(obj1/obj2)"
   ]
  },
  {
   "cell_type": "code",
   "execution_count": null,
   "id": "d24cfc2a",
   "metadata": {},
   "outputs": [],
   "source": [
    "obj1.convert_to_decimal()"
   ]
  },
  {
   "cell_type": "code",
   "execution_count": null,
   "id": "63cbd715",
   "metadata": {},
   "outputs": [],
   "source": []
  },
  {
   "cell_type": "markdown",
   "id": "47b602ed",
   "metadata": {},
   "source": [
    "### Q. Write OOP classes to handle the following scenarios:\n",
    "\n",
    "- A user can create and view 2D coordinates\n",
    "- A user can find out the distance between 2 coordinates\n",
    "- A user can find find the distance of a coordinate from origin\n",
    "- A user can check if a point lies on a given line\n",
    "- A user can find the distance between a given 2D point and a given line\n"
   ]
  },
  {
   "cell_type": "code",
   "execution_count": null,
   "id": "9c1d3881",
   "metadata": {},
   "outputs": [],
   "source": [
    "class Point:\n",
    "    def __init__(self,x,y):\n",
    "        self.x_cod = x\n",
    "        self.y_cod = y\n",
    "    \n",
    "    def __str__(self):\n",
    "        return f\"<{self.x_cod}, {self.y_cod}>\"\n",
    "    \n",
    "    def euclidean_distance(self,other):\n",
    "        return ((self.x_cod-other.x_cod)**2 + (self.y_cod-other.y_cod)**2)**0.5\n",
    "    \n",
    "    def distance_from_origin(self):\n",
    "#         return (self.x_cod**2 + self.y_cod**2)**0.5\n",
    "        return self.euclidean_distance(Point(0,0))\n",
    "\n",
    "\n",
    "class Line:\n",
    "    def __init__(self, A,B,C):\n",
    "        self.A = A\n",
    "        self.B = B\n",
    "        self.C = C\n",
    "        \n",
    "    def __str__(self):\n",
    "        return f\"{self.A}x + {self.B}y + {self.C} = 0\"\n",
    "    \n",
    "    def point_on_line(line,point):\n",
    "        if line.A*point.x_cod + line.B*point.y_cod + line.C == 0:\n",
    "            return \"Lies on Line.\"\n",
    "        else:\n",
    "            return \"Does not lie on Line.\"\n",
    "        \n",
    "    def shortest_distance_l_TO_p(line,point):\n",
    "        return abs(line.A*point.x_cod + line.B*point.y_cod + line.C)/(line.A**2 + line.B**2)**0.5"
   ]
  },
  {
   "cell_type": "code",
   "execution_count": null,
   "id": "d84d554e",
   "metadata": {},
   "outputs": [],
   "source": [
    "p1 = Point(0,0)\n",
    "print(p1)"
   ]
  },
  {
   "cell_type": "code",
   "execution_count": null,
   "id": "fbc83cab",
   "metadata": {},
   "outputs": [],
   "source": [
    "p1.euclidean_distance(Point(2,1))"
   ]
  },
  {
   "cell_type": "code",
   "execution_count": null,
   "id": "d404ca4c",
   "metadata": {},
   "outputs": [],
   "source": [
    "p2 = Point(3,3)\n",
    "p2.distance_from_origin()"
   ]
  },
  {
   "cell_type": "code",
   "execution_count": null,
   "id": "a1ca231f",
   "metadata": {},
   "outputs": [],
   "source": [
    "l1 = Line(2,7,1)\n",
    "print(l1)"
   ]
  },
  {
   "cell_type": "code",
   "execution_count": null,
   "id": "c34b1f58",
   "metadata": {},
   "outputs": [],
   "source": [
    "l1.point_on_line(Point(-4,7))"
   ]
  },
  {
   "cell_type": "code",
   "execution_count": null,
   "id": "5ab0956c",
   "metadata": {},
   "outputs": [],
   "source": [
    "l1.shortest_distance_l_TO_p(p2)"
   ]
  },
  {
   "cell_type": "code",
   "execution_count": null,
   "id": "a694cb45",
   "metadata": {},
   "outputs": [],
   "source": [
    "l1 = Line(1,1,-2)\n",
    "p1 = Point(1,1)\n",
    "\n",
    "print(l1)\n",
    "print(p1)\n",
    "\n",
    "l1.shortest_distance_l_TO_p(p1)"
   ]
  },
  {
   "cell_type": "markdown",
   "id": "8559c9bf",
   "metadata": {},
   "source": [
    "---\n",
    "## Encapsulation:\n",
    "- Encapsulation is the concept of bundling data (attributes) and methods (functions) that operate on that data within a class. \n",
    "- It allows the class to control access to its data, ensuring data integrity and security."
   ]
  },
  {
   "cell_type": "code",
   "execution_count": 3,
   "id": "f968aeab",
   "metadata": {},
   "outputs": [],
   "source": [
    "class BankAccount:\n",
    "    def __init__(self, account_number, balance):\n",
    "        self.account_number = account_number\n",
    "        self.__balance = balance\n",
    "\n",
    "    def deposit(self, amount):\n",
    "        if amount > 0:\n",
    "            self.__balance += amount\n",
    "\n",
    "    def withdraw(self, amount):\n",
    "        if 0 < amount <= self._balance:\n",
    "            self.__balance -= amount\n",
    "\n",
    "    def get_balance(self):\n",
    "        return self.__balance\n"
   ]
  },
  {
   "cell_type": "code",
   "execution_count": 4,
   "id": "6e283946",
   "metadata": {},
   "outputs": [],
   "source": [
    "cust1 = BankAccount(45454,5000)\n"
   ]
  },
  {
   "cell_type": "code",
   "execution_count": 5,
   "id": "5951cdc0",
   "metadata": {},
   "outputs": [
    {
     "data": {
      "text/plain": [
       "45454"
      ]
     },
     "execution_count": 5,
     "metadata": {},
     "output_type": "execute_result"
    }
   ],
   "source": [
    "cust1.account_number"
   ]
  },
  {
   "cell_type": "code",
   "execution_count": 6,
   "id": "5c1706c1",
   "metadata": {},
   "outputs": [
    {
     "data": {
      "text/plain": [
       "5000"
      ]
     },
     "execution_count": 6,
     "metadata": {},
     "output_type": "execute_result"
    }
   ],
   "source": [
    "cust1.get_balance()"
   ]
  },
  {
   "cell_type": "code",
   "execution_count": 11,
   "id": "de6dc91b",
   "metadata": {},
   "outputs": [
    {
     "data": {
      "text/plain": [
       "8000"
      ]
     },
     "execution_count": 11,
     "metadata": {},
     "output_type": "execute_result"
    }
   ],
   "source": [
    "cust1._balance = 8000\n",
    "cust1._balance"
   ]
  },
  {
   "cell_type": "code",
   "execution_count": null,
   "id": "d75f9edb",
   "metadata": {},
   "outputs": [],
   "source": [
    "cust1."
   ]
  },
  {
   "cell_type": "markdown",
   "id": "7dfd2d1b",
   "metadata": {},
   "source": [
    "---"
   ]
  },
  {
   "cell_type": "markdown",
   "id": "31d9b105",
   "metadata": {},
   "source": [
    "## Inheritance:\n",
    "- Inheritance allows a class (child class) to inherit properties and behaviors from another class (parent class). \n",
    "- It promotes code reusability and establishes an \"is-a\" relationship between classes. Child classes can override or extend methods and attributes of the parent class."
   ]
  },
  {
   "cell_type": "code",
   "execution_count": 24,
   "id": "e3c42206",
   "metadata": {},
   "outputs": [],
   "source": [
    "class Animal:\n",
    "    def __init__(self, species):\n",
    "        self.species = species\n",
    "\n",
    "    def make_sound(self):\n",
    "        print(\"Generic animal sound\")\n",
    "        \n",
    "    def eat(self):\n",
    "        print(f\"{self.species} is eating.\")\n",
    "            \n",
    "        \n",
    "class Dog(Animal):\n",
    "    def __init__(self, breed):\n",
    "        super().__init__(\"Dog\")\n",
    "        self.breed = breed\n",
    "\n",
    "    def make_sound(self):\n",
    "        print(\"Woof!\")\n"
   ]
  },
  {
   "cell_type": "code",
   "execution_count": 25,
   "id": "d0bafccb",
   "metadata": {},
   "outputs": [
    {
     "name": "stdout",
     "output_type": "stream",
     "text": [
      "Generic animal sound\n",
      "Woof!\n",
      "Dog is eating.\n"
     ]
    }
   ],
   "source": [
    "d1 = Animal('cat')\n",
    "d1.species\n",
    "d1.make_sound()\n",
    "\n",
    "d2 = Dog('breed1')\n",
    "d2.make_sound()\n",
    "d2.species\n",
    "\n",
    "d2.eat()\n",
    "d2.another_method()"
   ]
  },
  {
   "cell_type": "code",
   "execution_count": 2,
   "id": "e7d98372",
   "metadata": {},
   "outputs": [
    {
     "name": "stdout",
     "output_type": "stream",
     "text": [
      "Dog\n",
      "Woof!\n"
     ]
    }
   ],
   "source": [
    "# Using inheritance\n",
    "dog = Dog(\"Labrador\")\n",
    "print(dog.species)  # Output: \"Dog\"\n",
    "dog.make_sound()    # Output: \"Woof!\""
   ]
  },
  {
   "cell_type": "markdown",
   "id": "7ab63d38",
   "metadata": {},
   "source": [
    "## Polymorphism:\n",
    "- Polymorphism allows objects to be treated as instances of their parent class, even if they are actually instances of a child class. \n",
    "- It simplifies code by treating objects uniformly, regardless of their specific class. \n",
    "- Polymorphism is often achieved through method overriding."
   ]
  },
  {
   "cell_type": "code",
   "execution_count": 26,
   "id": "8edd989d",
   "metadata": {},
   "outputs": [],
   "source": [
    "class Shape:\n",
    "    def area(self,radius):\n",
    "        return 3.14 * (radius**2)\n",
    "    \n",
    "    def area(self, a,b):\n",
    "        return a*b"
   ]
  },
  {
   "cell_type": "code",
   "execution_count": 28,
   "id": "286b4214",
   "metadata": {},
   "outputs": [
    {
     "data": {
      "text/plain": [
       "25"
      ]
     },
     "execution_count": 28,
     "metadata": {},
     "output_type": "execute_result"
    }
   ],
   "source": [
    "obj = Shape()\n",
    "obj.area(5,5)"
   ]
  },
  {
   "cell_type": "code",
   "execution_count": 29,
   "id": "c448b35b",
   "metadata": {},
   "outputs": [],
   "source": [
    "def fun1(a, b = 1):\n",
    "    return a +b"
   ]
  },
  {
   "cell_type": "code",
   "execution_count": 30,
   "id": "b3cf34b9",
   "metadata": {},
   "outputs": [
    {
     "name": "stdout",
     "output_type": "stream",
     "text": [
      "8\n"
     ]
    }
   ],
   "source": [
    "print(fun1(3,5))"
   ]
  },
  {
   "cell_type": "code",
   "execution_count": 31,
   "id": "24cbc63d",
   "metadata": {},
   "outputs": [
    {
     "name": "stdout",
     "output_type": "stream",
     "text": [
      "4\n"
     ]
    }
   ],
   "source": [
    "print(fun1(3))"
   ]
  },
  {
   "cell_type": "code",
   "execution_count": 37,
   "id": "6c87d7f1",
   "metadata": {},
   "outputs": [],
   "source": [
    "class Shape:\n",
    "    def area(self, a,b=0):\n",
    "        if b == 0:\n",
    "            return 3.14 * a**2\n",
    "        else:\n",
    "            return a*b"
   ]
  },
  {
   "cell_type": "code",
   "execution_count": 39,
   "id": "8beefcf7",
   "metadata": {},
   "outputs": [],
   "source": [
    "circle = Shape()\n",
    "rectange = Shape()"
   ]
  },
  {
   "cell_type": "code",
   "execution_count": 40,
   "id": "9fe60d2b",
   "metadata": {},
   "outputs": [
    {
     "data": {
      "text/plain": [
       "153.86"
      ]
     },
     "execution_count": 40,
     "metadata": {},
     "output_type": "execute_result"
    }
   ],
   "source": [
    "circle.area(7)"
   ]
  },
  {
   "cell_type": "code",
   "execution_count": 41,
   "id": "a48b9cc3",
   "metadata": {},
   "outputs": [
    {
     "data": {
      "text/plain": [
       "12"
      ]
     },
     "execution_count": 41,
     "metadata": {},
     "output_type": "execute_result"
    }
   ],
   "source": [
    "rectange.area(3,4)"
   ]
  },
  {
   "cell_type": "code",
   "execution_count": 42,
   "id": "48e6fce1",
   "metadata": {},
   "outputs": [],
   "source": [
    "class Shape:\n",
    "    def draw(self):\n",
    "        pass\n",
    "\n",
    "class Circle(Shape):\n",
    "    def draw(self):\n",
    "        print(\"Drawing a circle\")\n",
    "\n",
    "class Square(Shape):\n",
    "    def draw(self):\n",
    "        print(\"Drawing a square\")\n",
    "\n"
   ]
  },
  {
   "cell_type": "code",
   "execution_count": 44,
   "id": "48b85a30",
   "metadata": {},
   "outputs": [
    {
     "name": "stdout",
     "output_type": "stream",
     "text": [
      "Drawing a circle\n",
      "Drawing a square\n"
     ]
    }
   ],
   "source": [
    "# Using polymorphism\n",
    "shapes = [Circle(), Square()]\n",
    "for shape in shapes:\n",
    "    shape.draw()"
   ]
  },
  {
   "cell_type": "markdown",
   "id": "dd5cfb05",
   "metadata": {},
   "source": [
    "---\n",
    "## ABSTRACTION :\n",
    "- Abstraction is the process of hiding the implementation details of a class from the user and exposing only the essential features.\n",
    "- Abstract classes cannot be instantiated and serve as templates for other classes to inherit from."
   ]
  },
  {
   "cell_type": "code",
   "execution_count": 49,
   "id": "7968b34e",
   "metadata": {},
   "outputs": [],
   "source": [
    "from abc import ABC, abstractmethod\n",
    "\n",
    "class BankAccount(ABC):\n",
    "    def __init__(self, account_number, balance):\n",
    "        self.account_number = account_number\n",
    "        self.balance = balance\n",
    "\n",
    "    @abstractmethod\n",
    "    def deposit(self, amount):\n",
    "        pass\n",
    "\n",
    "    @abstractmethod\n",
    "    def withdraw(self, amount):\n",
    "        pass\n",
    "\n",
    "    def get_balance(self):\n",
    "        return self.balance\n",
    "    \n",
    "    @abstractmethod\n",
    "    def security(self):\n",
    "        pass\n",
    "\n",
    "    \n",
    "    \n",
    "class SavingsAccount(BankAccount):\n",
    "    def __init__(self, account_number, balance):\n",
    "        super().__init__(account_number, balance)\n",
    "\n",
    "    def deposit(self, amount):\n",
    "        if amount > 0:\n",
    "            self.balance += amount\n",
    "\n",
    "    def withdraw(self, amount):\n",
    "        if 0 < amount <= self.balance:\n",
    "            self.balance -= amount\n",
    "        \n",
    "    def security(self):\n",
    "        print(\"Is secure\")\n",
    "\n",
    "            \n",
    "            \n",
    "class CurrentAccount(BankAccount):\n",
    "    def __init__(self, account_number, balance):\n",
    "        super().__init__(account_number, balance)\n",
    "\n",
    "    def deposit(self, amount):\n",
    "        if amount > 0:\n",
    "            self.balance += amount\n",
    "\n",
    "    def withdraw(self, amount):\n",
    "        if 0 < amount <= self.balance:\n",
    "            self.balance -= amount\n",
    "        \n",
    "    def security(self):\n",
    "        print(\"Is secure\")"
   ]
  },
  {
   "cell_type": "code",
   "execution_count": 50,
   "id": "57d44bec",
   "metadata": {},
   "outputs": [],
   "source": [
    "# Using abstraction\n",
    "savings_account = SavingsAccount(\"12345\", 5000)\n",
    "current_account = CurrentAccount(\"67890\", 10000)"
   ]
  },
  {
   "cell_type": "code",
   "execution_count": 51,
   "id": "081690c2",
   "metadata": {},
   "outputs": [
    {
     "name": "stdout",
     "output_type": "stream",
     "text": [
      "Savings Account Balance: 7000\n",
      "Current Account Balance: 9500\n"
     ]
    }
   ],
   "source": [
    "savings_account.deposit(2000)\n",
    "current_account.withdraw(500)\n",
    "\n",
    "print(\"Savings Account Balance:\", savings_account.get_balance())  # Output: 7000\n",
    "print(\"Current Account Balance:\", current_account.get_balance())  # Output: 9500"
   ]
  },
  {
   "cell_type": "markdown",
   "id": "40f5d3ff",
   "metadata": {},
   "source": [
    "---\n",
    "- The user of the Bank Account Management System only interacts with the simple interface provided by the abstract base class (BankAccount). The internal details of how deposits and withdrawals are handled are hidden (abstracted) from the user, providing a clean and easy-to-use interface for managing bank accounts.\n",
    "---"
   ]
  },
  {
   "cell_type": "code",
   "execution_count": 56,
   "id": "9e95d0b8",
   "metadata": {},
   "outputs": [
    {
     "name": "stdout",
     "output_type": "stream",
     "text": [
      "1\n",
      "2\n",
      "4\n",
      "6\n",
      "0 1\n",
      "1 2\n",
      "2 4\n",
      "3 6\n"
     ]
    }
   ],
   "source": [
    "l =[1,2,4,6]\n",
    "for i in l:\n",
    "    print(i)\n",
    "    \n",
    "for index, value in enumerate(l):\n",
    "    print(index, value)"
   ]
  },
  {
   "cell_type": "code",
   "execution_count": null,
   "id": "c567969e",
   "metadata": {},
   "outputs": [],
   "source": [
    "[1,2,3,4,5]\n",
    "task_managet.mark_complte(5)"
   ]
  },
  {
   "cell_type": "code",
   "execution_count": 102,
   "id": "0f0dad25",
   "metadata": {},
   "outputs": [],
   "source": [
    "'''\n",
    "Project Overview:\n",
    "The Task Manager will have the following features:\n",
    "\n",
    "1. Add a new task with a title and description.\n",
    "2. View all tasks with their details.\n",
    "3. Mark a task as completed.\n",
    "4. Remove a task from the list.\n",
    "'''\n",
    "\n",
    "\n",
    "class Task:\n",
    "    def __init__(self, title, description):\n",
    "        self.title = title\n",
    "        self.description = description\n",
    "        self.completed = False\n",
    "        \n",
    "        \n",
    "    def mark_completed(self):\n",
    "        self.completed = True\n",
    "        \n",
    "        \n",
    "\n",
    "        \n",
    "class TaskManager:\n",
    "    def __init__(self):\n",
    "        self.tasks = []\n",
    "        \n",
    "    def add_task(self, title, description):\n",
    "        task = Task(title,description)\n",
    "        self.tasks.append(task)\n",
    "    \n",
    "    def view_task(self):\n",
    "        for index, task in enumerate(self.tasks,start=1):\n",
    "            status = \"completd\" if task.completed else \"Not completed\"\n",
    "            print(f\"{index}. Title: {task.title}, Description: {task.description}, Status: {status}\")\n",
    "     \n",
    "    def mark_completed(self, task_index):\n",
    "        if 1 <= task_index <= len(self.tasks):\n",
    "            task = self.tasks[task_index-1]\n",
    "            task.mark_completed()\n",
    "        else:\n",
    "            print('Invalid task number...')\n",
    "            \n",
    "    def remove_task(self, task_index):\n",
    "        if 1 <= task_index <= len(self.tasks):\n",
    "            self.tasks.pop(task_index-1)\n",
    "        else:\n",
    "            print(\"Invalid Task index.\")\n",
    "            \n",
    "        "
   ]
  },
  {
   "cell_type": "code",
   "execution_count": 103,
   "id": "ebcc7baf",
   "metadata": {},
   "outputs": [],
   "source": [
    "tm = TaskManager()"
   ]
  },
  {
   "cell_type": "code",
   "execution_count": 104,
   "id": "5a19f7bd",
   "metadata": {},
   "outputs": [],
   "source": [
    "tm.add_task('t1','d1')\n",
    "tm.add_task('t2','d2')\n",
    "tm.add_task('t3','d3')"
   ]
  },
  {
   "cell_type": "code",
   "execution_count": 105,
   "id": "a647923d",
   "metadata": {},
   "outputs": [
    {
     "name": "stdout",
     "output_type": "stream",
     "text": [
      "1. Title: t1, Description: d1, Status: Not completed\n",
      "2. Title: t2, Description: d2, Status: Not completed\n",
      "3. Title: t3, Description: d3, Status: Not completed\n"
     ]
    }
   ],
   "source": [
    "tm.view_task()"
   ]
  },
  {
   "cell_type": "code",
   "execution_count": 115,
   "id": "f45ea898",
   "metadata": {},
   "outputs": [],
   "source": [
    "tm.mark_completed(2)"
   ]
  },
  {
   "cell_type": "code",
   "execution_count": 116,
   "id": "47ee7282",
   "metadata": {},
   "outputs": [
    {
     "name": "stdout",
     "output_type": "stream",
     "text": [
      "1. Title: t2, Description: d2, Status: Not completed\n",
      "2. Title: t3, Description: d3, Status: completd\n"
     ]
    }
   ],
   "source": [
    "tm.view_task()"
   ]
  },
  {
   "cell_type": "code",
   "execution_count": 117,
   "id": "0a9b7568",
   "metadata": {},
   "outputs": [],
   "source": [
    "tm.mark_completed(1)"
   ]
  },
  {
   "cell_type": "code",
   "execution_count": 118,
   "id": "5fa1e027",
   "metadata": {},
   "outputs": [
    {
     "name": "stdout",
     "output_type": "stream",
     "text": [
      "1. Title: t2, Description: d2, Status: completd\n",
      "2. Title: t3, Description: d3, Status: completd\n"
     ]
    }
   ],
   "source": [
    "tm.view_task()"
   ]
  },
  {
   "cell_type": "code",
   "execution_count": 119,
   "id": "da1ffd5f",
   "metadata": {},
   "outputs": [],
   "source": [
    "tm.remove_task(1)"
   ]
  },
  {
   "cell_type": "code",
   "execution_count": 120,
   "id": "10afbf60",
   "metadata": {},
   "outputs": [
    {
     "name": "stdout",
     "output_type": "stream",
     "text": [
      "1. Title: t3, Description: d3, Status: completd\n"
     ]
    }
   ],
   "source": [
    "tm.view_task()"
   ]
  },
  {
   "cell_type": "code",
   "execution_count": 121,
   "id": "d474798e",
   "metadata": {},
   "outputs": [],
   "source": [
    "def main():\n",
    "     task_manager = TaskManager()\n",
    "     \n",
    "     while True:\n",
    "        print(\"\\nTask Manager Menu:\")\n",
    "        print(\"1. Add Task\")\n",
    "        print(\"2. View Tasks\")\n",
    "        print(\"3. Mark Task as Completed\")\n",
    "        print(\"4. Remove Task\")\n",
    "        print(\"5. Exit\")\n",
    "\n",
    "        choice = input(\"Enter your choice: \")\n",
    "        \n",
    "        if choice == '1':\n",
    "            title = input(\"Enter task title: \")\n",
    "            description = input(\"Enter task description: \")\n",
    "            task_manager.add_task(title, description)\n",
    "            print(\"Task added succssully!..\")\n",
    "            \n",
    "        elif choice == '2':\n",
    "            task_manager.view_task()    \n",
    "            \n",
    "        elif choice == '3':\n",
    "            task_index = int(input(\"Enter the task number to mark as completed: \"))\n",
    "            task_manager.mark_completed(task_index)\n",
    "            \n",
    "        elif choice == '4':\n",
    "            task_index = int(input(\"Enter the task number to remove: \"))\n",
    "            task_manager.remove_task(task_index)\n",
    "            \n",
    "        elif choice == '5':\n",
    "            print(\"Exiting Task Manager.\")\n",
    "            break\n",
    "        else:\n",
    "            print(\"Invalid choice. Please try again.\")\n",
    "            "
   ]
  },
  {
   "cell_type": "code",
   "execution_count": 122,
   "id": "c3cc4483",
   "metadata": {},
   "outputs": [
    {
     "name": "stdout",
     "output_type": "stream",
     "text": [
      "\n",
      "Task Manager Menu:\n",
      "1. Add Task\n",
      "2. View Tasks\n",
      "3. Mark Task as Completed\n",
      "4. Remove Task\n",
      "5. Exit\n",
      "Enter your choice: 1\n",
      "Enter task title: t1\n",
      "Enter task description: ghjfhdgsf\n",
      "Task added succssully!..\n",
      "\n",
      "Task Manager Menu:\n",
      "1. Add Task\n",
      "2. View Tasks\n",
      "3. Mark Task as Completed\n",
      "4. Remove Task\n",
      "5. Exit\n",
      "Enter your choice: 2\n",
      "1. Title: t1, Description: ghjfhdgsf, Status: Not completed\n",
      "\n",
      "Task Manager Menu:\n",
      "1. Add Task\n",
      "2. View Tasks\n",
      "3. Mark Task as Completed\n",
      "4. Remove Task\n",
      "5. Exit\n",
      "Enter your choice: 3\n",
      "Enter the task number to mark as completed: 1\n",
      "\n",
      "Task Manager Menu:\n",
      "1. Add Task\n",
      "2. View Tasks\n",
      "3. Mark Task as Completed\n",
      "4. Remove Task\n",
      "5. Exit\n",
      "Enter your choice: 4\n",
      "Enter the task number to remove: 1\n",
      "\n",
      "Task Manager Menu:\n",
      "1. Add Task\n",
      "2. View Tasks\n",
      "3. Mark Task as Completed\n",
      "4. Remove Task\n",
      "5. Exit\n",
      "Enter your choice: 2\n",
      "\n",
      "Task Manager Menu:\n",
      "1. Add Task\n",
      "2. View Tasks\n",
      "3. Mark Task as Completed\n",
      "4. Remove Task\n",
      "5. Exit\n",
      "Enter your choice: 1\n",
      "Enter task title: 5\n",
      "Enter task description: fhgjg\n",
      "Task added succssully!..\n",
      "\n",
      "Task Manager Menu:\n",
      "1. Add Task\n",
      "2. View Tasks\n",
      "3. Mark Task as Completed\n",
      "4. Remove Task\n",
      "5. Exit\n",
      "Enter your choice: 5\n",
      "Exiting Task Manager.\n"
     ]
    }
   ],
   "source": [
    "main()"
   ]
  },
  {
   "cell_type": "code",
   "execution_count": null,
   "id": "22feb4e1",
   "metadata": {},
   "outputs": [],
   "source": []
  }
 ],
 "metadata": {
  "kernelspec": {
   "display_name": "Python 3 (ipykernel)",
   "language": "python",
   "name": "python3"
  },
  "language_info": {
   "codemirror_mode": {
    "name": "ipython",
    "version": 3
   },
   "file_extension": ".py",
   "mimetype": "text/x-python",
   "name": "python",
   "nbconvert_exporter": "python",
   "pygments_lexer": "ipython3",
   "version": "3.9.16"
  }
 },
 "nbformat": 4,
 "nbformat_minor": 5
}
