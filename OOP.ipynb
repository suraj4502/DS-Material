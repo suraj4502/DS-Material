{
 "cells": [
  {
   "cell_type": "markdown",
   "id": "4bf7ffe1",
   "metadata": {},
   "source": [
    "# Object Oriented Programming :\n",
    "- Object-Oriented Programming is a way of organizing and designing code in Python (and many other programming languages) that mimics how we think about and interact with objects in the real world. \n",
    "- In OOP, we create \"objects\" that represent real-world entities, and these objects have \"attributes\" (characteristics) and \"methods\" (actions) that define their behavior.\n",
    "- It brings structure, organization, and reusability to our code, making it more efficient and easier to manage.\n",
    "- OOP is a fundamental concept in modern programming and widely used in creating complex applications and software systems."
   ]
  },
  {
   "cell_type": "markdown",
   "id": "5749efed",
   "metadata": {},
   "source": [
    "### 1. Class:\n",
    "- In OOP, a class is like a blueprint that defines the structure of an object. \n",
    "- A class describes what a specific type of object can do and what attributes it has. \n",
    "- For example, the DOG class will describe what a Dog is and what attributes and methods it should have."
   ]
  },
  {
   "cell_type": "code",
   "execution_count": null,
   "id": "d0aa4269",
   "metadata": {},
   "outputs": [],
   "source": [
    "class Dog:\n",
    "    def __init__(self, name, age, breed):\n",
    "        self.name = name\n",
    "        self.age = age\n",
    "        self.breed = breed\n",
    "\n",
    "    def bark(self):\n",
    "        return \"Woof! Woof!\"\n",
    "\n",
    "    def fetch(self, item):\n",
    "        return f\"{self.name} fetches the {item}.\"\n"
   ]
  },
  {
   "cell_type": "markdown",
   "id": "d6e106d8",
   "metadata": {},
   "source": [
    "### 2. Object:\n",
    "- An object is a specific instance created from a class. \n",
    "- In our Dog example, each individual dog we create will be an object. \n",
    "- Each dog object will have its own unique name, age, and breed."
   ]
  },
  {
   "cell_type": "code",
   "execution_count": null,
   "id": "551e7a1f",
   "metadata": {},
   "outputs": [],
   "source": [
    "dog1 = Dog(\"Buddy\", 3, \"Labrador\")\n",
    "dog2 = Dog(\"Max\", 5, \"Golden Retriever\")"
   ]
  },
  {
   "cell_type": "markdown",
   "id": "87b0f13a",
   "metadata": {},
   "source": [
    "### 3. Attributes:\n",
    "- Attributes are characteristics of an object. \n",
    "- In our Dog example, the attributes are the name, age, and breed of each dog.\n",
    "- They help describe the dog's identity."
   ]
  },
  {
   "cell_type": "code",
   "execution_count": null,
   "id": "266d40ce",
   "metadata": {},
   "outputs": [],
   "source": [
    "print(dog1.name)  # Output: \"Buddy\"\n",
    "print(dog2.age)   # Output: 5\n"
   ]
  },
  {
   "cell_type": "markdown",
   "id": "6ba38d20",
   "metadata": {},
   "source": [
    "### 4. Methods:\n",
    "- Methods are actions that an object can perform. \n",
    "- In our Dog example, methods could be actions like barking or fetching an item.\n",
    "- Methods define what the dog can do."
   ]
  },
  {
   "cell_type": "code",
   "execution_count": null,
   "id": "a9d24141",
   "metadata": {},
   "outputs": [],
   "source": [
    "print(dog1.bark())  # Output: \"Woof! Woof!\"\n",
    "print(dog2.fetch(\"ball\"))  # Output: \"Max fetches the ball.\""
   ]
  },
  {
   "cell_type": "markdown",
   "id": "f28a9e1c",
   "metadata": {},
   "source": [
    "### Advantages of OOP:\n",
    "\n",
    "**OOP provides several benefits, including:**\n",
    "\n",
    "1. `Code Reusability:` You can create multiple objects from a single class, promoting code reuse and reducing duplication.\n",
    "2. `Modularity:` OOP allows you to divide your code into small, manageable pieces (objects), making it easier to maintain and understand.\n",
    "3. `Encapsulation:` Encapsulation hides the internal details of an object, making it easier to use and less prone to errors.\n",
    "4. `Inheritance:` Inheritance allows you to create new classes that inherit attributes and methods from existing classes, promoting code reuse and extending functionality.\n",
    "5. `Polymorphism:` Polymorphism allows you to use objects of different classes interchangeably, providing flexibility in coding."
   ]
  },
  {
   "cell_type": "code",
   "execution_count": null,
   "id": "aa7d3a96",
   "metadata": {},
   "outputs": [],
   "source": [
    "str.append()"
   ]
  },
  {
   "cell_type": "code",
   "execution_count": null,
   "id": "a1c8dba3",
   "metadata": {},
   "outputs": [],
   "source": [
    "list.upper()"
   ]
  },
  {
   "cell_type": "code",
   "execution_count": null,
   "id": "86d8fc6e",
   "metadata": {},
   "outputs": [],
   "source": [
    "class Account:\n",
    "    def __init__(self, account_number, customer_name, balance):\n",
    "        self.account_number = account_number\n",
    "        self.customer_name = customer_name\n",
    "        self.balance = balance\n",
    "\n",
    "    def deposit(self, amount):\n",
    "        self.balance += amount\n",
    "\n",
    "    def withdraw(self, amount):\n",
    "        if self.balance >= amount:\n",
    "            self.balance -= amount\n",
    "        else:\n",
    "            print(\"Insufficient balance!\")\n",
    "\n",
    "    def get_balance(self):\n",
    "        return self.balance\n",
    "\n",
    "    def display_info(self):\n",
    "        print(f\"Account Number: {self.account_number}\")\n",
    "        print(f\"Customer Name: {self.customer_name}\")\n",
    "        print(f\"Balance: {self.balance}\")"
   ]
  },
  {
   "cell_type": "code",
   "execution_count": null,
   "id": "eb6651f8",
   "metadata": {},
   "outputs": [],
   "source": [
    "# Create a new account\n",
    "account1 = Account(\"A001\", \"Alice\", 1000)\n",
    "\n",
    "# Deposit and withdraw from the account\n",
    "account1.deposit(500)\n",
    "account1.withdraw(200)\n",
    "\n",
    "# Display the account information\n",
    "account1.display_info()"
   ]
  },
  {
   "cell_type": "markdown",
   "id": "ee4b5b4b",
   "metadata": {},
   "source": [
    "---"
   ]
  },
  {
   "cell_type": "code",
   "execution_count": null,
   "id": "dd7d4cdf",
   "metadata": {},
   "outputs": [],
   "source": [
    "class Atm:\n",
    "    def __init__(self):\n",
    "        print(id(self))\n",
    "        self.pin = ''\n",
    "        self.balance = 0\n",
    "        self.menu()\n",
    "\n",
    "    def menu(self):\n",
    "        user_input = input(\"\"\"\n",
    "        Hi how can I help you?\n",
    "        1. Press 1 to create pin\n",
    "        2. Press 2 to change pin\n",
    "        3. Press 3 to check balance\n",
    "        4. Press 4 to withdraw\n",
    "        5. Anything else to exit\n",
    "        \"\"\")\n",
    "\n",
    "        if user_input == '1':\n",
    "            self.create_pin()\n",
    "        elif user_input == '2':\n",
    "            self.change_pin()\n",
    "        elif user_input == '3':\n",
    "            self.check_balance()\n",
    "        elif user_input == '4':\n",
    "            self.withdraw()\n",
    "        else:\n",
    "            exit()\n",
    "\n",
    "    def create_pin(self):\n",
    "        user_pin = input('Enter your pin: ')\n",
    "        self.pin = user_pin\n",
    "\n",
    "        user_balance = int(input('Enter balance: '))\n",
    "        self.balance = user_balance\n",
    "\n",
    "        print('Pin created successfully!')\n",
    "        self.menu()\n",
    "\n",
    "    def change_pin(self):\n",
    "        old_pin = input('Enter old pin: ')\n",
    "\n",
    "        if old_pin == self.pin:\n",
    "            new_pin = input('Enter new pin: ')\n",
    "            self.pin = new_pin\n",
    "            print('Pin change successful!')\n",
    "            self.menu()\n",
    "        else:\n",
    "            print('Cannot change pin! Incorrect old pin.')\n",
    "            self.menu()\n",
    "\n",
    "    def check_balance(self):\n",
    "        user_pin = input('Enter your pin: ')\n",
    "        if user_pin == self.pin:\n",
    "            print('Your balance is', self.balance)\n",
    "        else:\n",
    "            print('Incorrect pin!')\n",
    "\n",
    "    def withdraw(self):\n",
    "        user_pin = input('Enter your pin: ')\n",
    "        if user_pin == self.pin:\n",
    "            amount = int(input('Enter the amount: '))\n",
    "            if amount <= self.balance:\n",
    "                self.balance -= amount\n",
    "                print('Withdrawal successful. Balance is', self.balance)\n",
    "            else:\n",
    "                print('Insufficient balance!')\n",
    "        else:\n",
    "            print('Incorrect pin!')\n",
    "        self.menu()"
   ]
  },
  {
   "cell_type": "code",
   "execution_count": null,
   "id": "5937d86a",
   "metadata": {},
   "outputs": [],
   "source": [
    "# Create an ATM object and start the banking operations\n",
    "atm = Atm()"
   ]
  },
  {
   "cell_type": "code",
   "execution_count": null,
   "id": "f015c793",
   "metadata": {},
   "outputs": [],
   "source": [
    "atm2 = Atm()"
   ]
  },
  {
   "cell_type": "code",
   "execution_count": null,
   "id": "13d21d7a",
   "metadata": {},
   "outputs": [],
   "source": [
    "atm2.withdraw()"
   ]
  },
  {
   "cell_type": "code",
   "execution_count": null,
   "id": "d110d936",
   "metadata": {},
   "outputs": [],
   "source": []
  },
  {
   "cell_type": "code",
   "execution_count": 47,
   "id": "9a715547",
   "metadata": {},
   "outputs": [],
   "source": [
    "class Fraction:\n",
    "    def __init__(self, x,y):\n",
    "        self.num = x\n",
    "        self.den = y\n",
    "    \n",
    "    def __str__(self):\n",
    "        return f\"{self.num}/{self.den}\"\n",
    "    \n",
    "    def __add__(self, other):\n",
    "        new_num = self.num * other.den + other.num * self.num\n",
    "        new_den = self.den * other.den\n",
    "        return f\"{new_num}/{new_den}\"\n",
    "    \n",
    "    def __sub__(self, other):\n",
    "        new_num = self.num * other.den - other.num * self.num\n",
    "        new_den = self.den * other.den\n",
    "        return f\"{new_num}/{new_den}\"\n",
    "    \n",
    "    def __mul__(self, other):\n",
    "        new_num = self.num * other.num\n",
    "        new_den = self.den * other.den\n",
    "        return f\"{new_num}/{new_den}\"\n",
    "\n",
    "    def __truediv__(self, other):\n",
    "        new_num = self.num * other.den\n",
    "        new_den = self.den * other.num\n",
    "        return f\"{new_num}/{new_den}\"\n",
    "    \n",
    "    def convert_to_decimal(self):\n",
    "        return self.num / self.den"
   ]
  },
  {
   "cell_type": "code",
   "execution_count": 48,
   "id": "55a5d5fb",
   "metadata": {},
   "outputs": [
    {
     "name": "stdout",
     "output_type": "stream",
     "text": [
      "1/4\n"
     ]
    }
   ],
   "source": [
    "obj1 = Fraction(1,4)\n",
    "print(obj1)"
   ]
  },
  {
   "cell_type": "code",
   "execution_count": 49,
   "id": "e083155e",
   "metadata": {},
   "outputs": [
    {
     "name": "stdout",
     "output_type": "stream",
     "text": [
      "4/6\n"
     ]
    }
   ],
   "source": [
    "obj2 = Fraction(4,6)\n",
    "print(obj2)"
   ]
  },
  {
   "cell_type": "code",
   "execution_count": 50,
   "id": "47ff77b4",
   "metadata": {},
   "outputs": [
    {
     "name": "stdout",
     "output_type": "stream",
     "text": [
      "10/24\n",
      "2/24\n",
      "4/24\n",
      "6/16\n"
     ]
    }
   ],
   "source": [
    "print(obj1+obj2)\n",
    "print(obj1-obj2)\n",
    "print(obj1*obj2)\n",
    "print(obj1/obj2)"
   ]
  },
  {
   "cell_type": "code",
   "execution_count": 51,
   "id": "d24cfc2a",
   "metadata": {},
   "outputs": [
    {
     "data": {
      "text/plain": [
       "0.25"
      ]
     },
     "execution_count": 51,
     "metadata": {},
     "output_type": "execute_result"
    }
   ],
   "source": [
    "obj1.convert_to_decimal()"
   ]
  },
  {
   "cell_type": "code",
   "execution_count": null,
   "id": "63cbd715",
   "metadata": {},
   "outputs": [],
   "source": []
  },
  {
   "cell_type": "markdown",
   "id": "47b602ed",
   "metadata": {},
   "source": [
    "### Q. Write OOP classes to handle the following scenarios:\n",
    "\n",
    "- A user can create and view 2D coordinates\n",
    "- A user can find out the distance between 2 coordinates\n",
    "- A user can find find the distance of a coordinate from origin\n",
    "- A user can check if a point lies on a given line\n",
    "- A user can find the distance between a given 2D point and a given line\n"
   ]
  },
  {
   "cell_type": "code",
   "execution_count": 76,
   "id": "9c1d3881",
   "metadata": {},
   "outputs": [],
   "source": [
    "class Point:\n",
    "    def __init__(self,x,y):\n",
    "        self.x_cod = x\n",
    "        self.y_cod = y\n",
    "    \n",
    "    def __str__(self):\n",
    "        return f\"<{self.x_cod}, {self.y_cod}>\"\n",
    "    \n",
    "    def euclidean_distance(self,other):\n",
    "        return ((self.x_cod-other.x_cod)**2 + (self.y_cod-other.y_cod)**2)**0.5\n",
    "    \n",
    "    def distance_from_origin(self):\n",
    "#         return (self.x_cod**2 + self.y_cod**2)**0.5\n",
    "        return self.euclidean_distance(Point(0,0))\n",
    "\n",
    "\n",
    "class Line:\n",
    "    def __init__(self, A,B,C):\n",
    "        self.A = A\n",
    "        self.B = B\n",
    "        self.C = C\n",
    "        \n",
    "    def __str__(self):\n",
    "        return f\"{self.A}x + {self.B}y + {self.C} = 0\"\n",
    "    \n",
    "    def point_on_line(line,point):\n",
    "        if line.A*point.x_cod + line.B*point.y_cod + line.C == 0:\n",
    "            return \"Lies on Line.\"\n",
    "        else:\n",
    "            return \"Does not lie on Line.\"\n",
    "        \n",
    "    def shortest_distance_l_TO_p(line,point):\n",
    "        return abs(line.A*point.x_cod + line.B*point.y_cod + line.C)/(line.A**2 + line.B**2)**0.5"
   ]
  },
  {
   "cell_type": "code",
   "execution_count": 77,
   "id": "d84d554e",
   "metadata": {},
   "outputs": [
    {
     "name": "stdout",
     "output_type": "stream",
     "text": [
      "<0, 0>\n"
     ]
    }
   ],
   "source": [
    "p1 = Point(0,0)\n",
    "print(p1)"
   ]
  },
  {
   "cell_type": "code",
   "execution_count": 78,
   "id": "fbc83cab",
   "metadata": {},
   "outputs": [
    {
     "data": {
      "text/plain": [
       "2.23606797749979"
      ]
     },
     "execution_count": 78,
     "metadata": {},
     "output_type": "execute_result"
    }
   ],
   "source": [
    "p1.euclidean_distance(Point(2,1))"
   ]
  },
  {
   "cell_type": "code",
   "execution_count": 79,
   "id": "d404ca4c",
   "metadata": {},
   "outputs": [
    {
     "data": {
      "text/plain": [
       "4.242640687119285"
      ]
     },
     "execution_count": 79,
     "metadata": {},
     "output_type": "execute_result"
    }
   ],
   "source": [
    "p2 = Point(3,3)\n",
    "p2.distance_from_origin()"
   ]
  },
  {
   "cell_type": "code",
   "execution_count": 80,
   "id": "a1ca231f",
   "metadata": {},
   "outputs": [
    {
     "name": "stdout",
     "output_type": "stream",
     "text": [
      "2x + 7y + 1 = 0\n"
     ]
    }
   ],
   "source": [
    "l1 = Line(2,7,1)\n",
    "print(l1)"
   ]
  },
  {
   "cell_type": "code",
   "execution_count": 81,
   "id": "c34b1f58",
   "metadata": {},
   "outputs": [
    {
     "data": {
      "text/plain": [
       "'Does not lie on Line.'"
      ]
     },
     "execution_count": 81,
     "metadata": {},
     "output_type": "execute_result"
    }
   ],
   "source": [
    "l1.point_on_line(Point(-4,7))"
   ]
  },
  {
   "cell_type": "code",
   "execution_count": 82,
   "id": "5ab0956c",
   "metadata": {},
   "outputs": [
    {
     "data": {
      "text/plain": [
       "3.8460957905632926"
      ]
     },
     "execution_count": 82,
     "metadata": {},
     "output_type": "execute_result"
    }
   ],
   "source": [
    "l1.shortest_distance_l_TO_p(p2)"
   ]
  },
  {
   "cell_type": "code",
   "execution_count": 83,
   "id": "a694cb45",
   "metadata": {},
   "outputs": [
    {
     "name": "stdout",
     "output_type": "stream",
     "text": [
      "1x + 1y + -2 = 0\n",
      "<1, 1>\n"
     ]
    },
    {
     "data": {
      "text/plain": [
       "0.0"
      ]
     },
     "execution_count": 83,
     "metadata": {},
     "output_type": "execute_result"
    }
   ],
   "source": [
    "l1 = Line(1,1,-2)\n",
    "p1 = Point(1,1)\n",
    "\n",
    "print(l1)\n",
    "print(p1)\n",
    "\n",
    "l1.shortest_distance_l_TO_p(p1)"
   ]
  },
  {
   "cell_type": "code",
   "execution_count": null,
   "id": "7934fc12",
   "metadata": {},
   "outputs": [],
   "source": []
  }
 ],
 "metadata": {
  "kernelspec": {
   "display_name": "Python 3 (ipykernel)",
   "language": "python",
   "name": "python3"
  },
  "language_info": {
   "codemirror_mode": {
    "name": "ipython",
    "version": 3
   },
   "file_extension": ".py",
   "mimetype": "text/x-python",
   "name": "python",
   "nbconvert_exporter": "python",
   "pygments_lexer": "ipython3",
   "version": "3.9.16"
  }
 },
 "nbformat": 4,
 "nbformat_minor": 5
}
